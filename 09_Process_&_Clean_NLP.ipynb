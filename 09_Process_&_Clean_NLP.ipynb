{
 "cells": [
  {
   "cell_type": "markdown",
   "metadata": {},
   "source": [
    "Imports"
   ]
  },
  {
   "cell_type": "code",
   "execution_count": 1,
   "metadata": {},
   "outputs": [],
   "source": [
    "import pandas as pd\n",
    "import nltk\n",
    "from nltk.tokenize import RegexpTokenizer\n",
    "import regex as re"
   ]
  },
  {
   "cell_type": "markdown",
   "metadata": {},
   "source": [
    "Load in dataframe"
   ]
  },
  {
   "cell_type": "code",
   "execution_count": 2,
   "metadata": {},
   "outputs": [],
   "source": [
    "df = pd.read_csv('fin_comments_politics.csv',names=['User','Text'])"
   ]
  },
  {
   "cell_type": "code",
   "execution_count": 3,
   "metadata": {},
   "outputs": [
    {
     "data": {
      "text/html": [
       "<div>\n",
       "<style scoped>\n",
       "    .dataframe tbody tr th:only-of-type {\n",
       "        vertical-align: middle;\n",
       "    }\n",
       "\n",
       "    .dataframe tbody tr th {\n",
       "        vertical-align: top;\n",
       "    }\n",
       "\n",
       "    .dataframe thead th {\n",
       "        text-align: right;\n",
       "    }\n",
       "</style>\n",
       "<table border=\"1\" class=\"dataframe\">\n",
       "  <thead>\n",
       "    <tr style=\"text-align: right;\">\n",
       "      <th></th>\n",
       "      <th>User</th>\n",
       "      <th>Text</th>\n",
       "    </tr>\n",
       "  </thead>\n",
       "  <tbody>\n",
       "    <tr>\n",
       "      <th>0</th>\n",
       "      <td>PDXorax</td>\n",
       "      <td>The Lump of Labor doesn't apply in this case,...</td>\n",
       "    </tr>\n",
       "    <tr>\n",
       "      <th>1</th>\n",
       "      <td>PrincePizza1</td>\n",
       "      <td>I think things \"getting better\" to people lik...</td>\n",
       "    </tr>\n",
       "    <tr>\n",
       "      <th>2</th>\n",
       "      <td>Marmar79</td>\n",
       "      <td>Thank you. This made my day He so edgy.\\n\\nEd...</td>\n",
       "    </tr>\n",
       "    <tr>\n",
       "      <th>3</th>\n",
       "      <td>IRISHE3</td>\n",
       "      <td>I just wish politicians would put the money s...</td>\n",
       "    </tr>\n",
       "    <tr>\n",
       "      <th>4</th>\n",
       "      <td>RonZiggy</td>\n",
       "      <td>Climate change as well. Wow...just wow What i...</td>\n",
       "    </tr>\n",
       "  </tbody>\n",
       "</table>\n",
       "</div>"
      ],
      "text/plain": [
       "           User                                               Text\n",
       "0       PDXorax   The Lump of Labor doesn't apply in this case,...\n",
       "1  PrincePizza1   I think things \"getting better\" to people lik...\n",
       "2      Marmar79   Thank you. This made my day He so edgy.\\n\\nEd...\n",
       "3       IRISHE3   I just wish politicians would put the money s...\n",
       "4      RonZiggy   Climate change as well. Wow...just wow What i..."
      ]
     },
     "execution_count": 3,
     "metadata": {},
     "output_type": "execute_result"
    }
   ],
   "source": [
    "df.head()"
   ]
  },
  {
   "cell_type": "markdown",
   "metadata": {},
   "source": [
    "Parse/clean comment text"
   ]
  },
  {
   "cell_type": "code",
   "execution_count": 4,
   "metadata": {},
   "outputs": [],
   "source": [
    "tokenizer = RegexpTokenizer('\\s+', gaps=True)"
   ]
  },
  {
   "cell_type": "code",
   "execution_count": 5,
   "metadata": {},
   "outputs": [],
   "source": [
    "#This function converts a string of raw text into a list of individual words (tokens)\n",
    "\n",
    "def processText(raw_text):\n",
    "    \n",
    "    tokens = tokenizer.tokenize(raw_text) #Split text into word tokens on spaces\n",
    "    \n",
    "    token_new=[]\n",
    "    \n",
    "    for token in tokens:\n",
    "        if 'http' in token: #remove web addresses\n",
    "            pass\n",
    "        else:\n",
    "            result = re.sub(\"[^a-zA-Z]\", \" \",token.lower()) #replace all non-letters with a space\n",
    "            tokens2 = tokenizer.tokenize(result) #if a token now has space, split into multiple tokens\n",
    "            for token2 in tokens2:\n",
    "                if (len(token2) > 1) & (token2 != 'xb'): #remove single letter tokens and the xb token\n",
    "                    token_new.append(token2)\n",
    "    \n",
    "    return(\" \".join(token_new))"
   ]
  },
  {
   "cell_type": "code",
   "execution_count": 6,
   "metadata": {},
   "outputs": [
    {
     "data": {
      "text/plain": [
       "' Honestly I considered myself a moderate and a \"hate speech is still free speech\" advocate until these shootings. They pushed me hard left on free speech .  If you post any white nationalist talking points you should be locked up. Anybody who has an account on stormfront or similar websites should be locked up. If you are affiliated with any white nationalist groups you should be locked up. These people have no place in our society until they are properly re-educated.\\n\\n&#x200B;\\n\\nOur constitution is outdated. I think that these are all white nationalist far right extremists trying to start a civil war. That\\'s not how the tribalists see it though. The fact that he can win over Ben Shapiro means he has an alt-right agenda. The fact that he can go on CTH and do the same thing means he has a communist agenda. The fact that he won over both means that he is wishy-washy and just changes his politics to whatever he thinks people will like.\\n\\nI dont agree with any of that I\\'m just saying that\\'s how they are viewing it.\\n\\nThe narrative that this sub is pushing now is \"Yang stop trying to be Bernie 2016 and divide us, just back out and stop stealing the votes from the real candidates\" It\\'s bullshit. He went on Ben Shapiro . They can\\'t tie him to the alt-right trolls that were acting like support but they can tie him through Shapiro to the Intellectual Dark Web . Progressives hate Sam Harris, Eric Weinstein , Dave Rubin etc so basically he is the same to them. Bernie doesn\\'t poll higher in most of not all polling. Get over this talking point. Bernie is trailing. He can\\'t beat Trump. Only Biden can. How does it feel to have wasted all your time for the grand finale to be \"It\\'s beyond my purview\" ? I have my reasons for not wanting to vote for Bernie. Don\\'t feel like lining out all the shit he says and believes right now. And yes, I\\'ve read through all Yang\\'s policies. Anyone who panders to intersectionality gets a no from me. Biden and Yang keep this to a minimum. Also I voted for Kerry, Obama and didn\\'t vote in 2016 but silently supported Trump over Hilary . But I guess you guys don\\'t want my vote anymore .. They aren\\'t the largest voting blocs. However, Biden is more likely to pull those in the center to the left . Trump is at a disadvantage because he won\\'t be pulling any moderates or centrists in. His effort is one to not lose his based. Biden has the power to pull those on the right that are wavering to the left. I\\'m an example of this. Biden and Yang are the only Democratic candidates I will vote for. I don\\'t want a radical leftist like Harris or Bernie in office. I\\'d rather have Trump in office than her. They don\\'t choose officially. Everyone knows that they choose. TFW Reddit upvotes a post in politics about Justin Bieber to the top. All of that is true. Polling = verifiable facts as well as my lived experience in a heavily blue state. No they don\\'t. Neither are they popular. I guess if you live in the politics/Twitter echochamber they are. As a former Trump supporter I\\'ll only vote D for Biden or Yang. Yup thats me. I support Trump over radical leftists like Kamala Harris . However I will vote for Biden if he wins the primaries. Ive been told here though that Democrats dont want my vote and that I dont pass their purity test. To be fair nothing you said made any sense and I\\'m still confused as to what point you\\'re trying to make. I\\'d also advise you against attacking people that are on your side. This is what will lead to Trump winning if you aren\\'t careful. Personally I\\'ve crossed over from the non-vote in 2016 but post-2016 lover of Trump trolling the left to Yang/Biden supporter. It\\'s mostly been by avoiding people in this subreddit and engaging with real progressives who are willing to have conversations and not anarchists masquerading as progressives.\\n\\nHonestly reading this subreddit just engrages me most of the time. I had to get off of it for a month because I was starting to slip back into \"I\\'d rather have Trump than these motherfuckers\" I think it\\'s way too late to do that. If you look at the hottest posts on twitter and Reddit. They are all dismissing all rural voters as stupid and irrelevant. They want to get rid of the electoral system, not change any minds. In their minds, they have now and will always dominate the popular vote so everyone outside of big coastal cities are obsolete. No practical effect yes. Trump would have won the necessary electoral college votes anyways. Also the voter suppression argument is racist in itself. It assumes that poor = minorities and also assumes that minorities are not intelligent enough to get proper ID. The proper ID impossibility argument is bullshit. I lived on the streets for 5 years with no ID as a heroin addict. It took lots of work such as visit to a shelter for bus tokens, spending a whole day taking a bus to DSS/SS office to see what information I need to get them then another day for another office then finally two weeks later actually having enough information to apply for a state ID. Then another 4-6 weeks of waiting for that ID. That\\'s the hard line to fall back to isn\\'t it ? Instead of self-reflection it\\'s playing victim of vote suppression and Russians ? lol good luck . looks miserable as fuck just like Mitch. nobody gonna wanna vote for her hehe Oh wow. Biden is done. I think Biden might take a whipping but the media and the establishment really need to make a decision. Do they want to put full backing behind a safe bet which has never done either party very good in an incumbent election OR do they want someone who will fight tooth and nail on stage against Trump ? I\\'m personally a guy who\\'s going to vote for Andrew Yang. The debates didn\\'t matter to me much , all the other candidates are phony as fuck in my opinion. \\n\\nI\\'ll look more into Buttigieg as I heard good things about him regarding last nights debate. I don\\'t think Bernie Sanders stands a chance after last night. I\\'m really hoping that Yang\\'s silence turns out to be in his favor. I don\\'t know why people are touting Warren as a \"policy wonk\" . The real insightful policy genius is Andrew Yang. I was a Bernie supporter at one point but honestly he just seems like a crazy old man yelling into an abyss right now.\\n\\nIt\\'s really hard to not buy into the troll vote though. I get a lot of hate in this sub and other left leaning subs and the purity testing makes me so angry sometimes I want to vote Trump as a fuck you vote. Want to call me an enlightened centrist or the problem with the Democratic party because I don\\'t lean left enough ? Fuck you I\\'ll take my vote elsewhere then . It\\'s funny that the meta analysis most people are giving in here that is your own is the exact observation Ben Shapiro made. I\\'d say he understands the left pretty well if everything he says about the debates so far matches what is being said here. I think he\\'s a pompous ass , a hypocrit and wrong in many ways but he\\'s dead on with his coverage and predictions. He\\'s a huge defender of Nate Silver and polling as well and I was surprised to see him retweet Nate Silver. I agree with what Ben Shapiro says. Kamala Harris tore into him. If he doesn\\'t move at all in the polls after last night he is the nominee. If he loses points and Kamala Harris gains that is bad for him. His analysis is that she has the energy and the fight in her to convince people she can take on Trump . That is why Trump won the nomination because he was looked at as someone who could fight with everything he had against Hilary. I find it humorous that Republicans hate on Obama\\'s foreign policy even though in practice he was basically a neocon. They can\\'t win. If you look at Democratic polling, most Democrats want a moderate or centrist candidate. Despite how some are claiming the polls are being manipulated in favor of Biden I don\\'t feel like the Democratic party is as progressive as Reddit or conservative scare artists are making it out.   I don\\'t know one Republican who has economic anxiety right now. It\\'s not that deep and it\\'s not that complicated. People support Trump because he is the one attacking back for them. It\\'s all about the culture wars. Every pundit has the immigration thing wrong so do the people here. The immigration issue isn\\'t a hot button for the right because they are innately racist .. this is too simplistic of a view. They don\\'t give a fuck really about the issue at all or the innocent people involved. Trump won because the right LOVES trolling the left. The more outrage and angry the left shows the happier the right is. You know how many people are going to vote Trump in 2020 simply because they want to see progressives lose their shit, EVEN if his policies go against their own interests ? Most of them. No it\\'s not fundamental at all. I don\\'t know one Republican who has economic anxiety right now. It\\'s not that deep and it\\'s not that complicated. People support Trump because he is the one attacking back for them. It\\'s all about the culture wars. Every pundit has the immigration thing wrong so do the people here. The immigration issue isn\\'t a hot button for the right because they are innately racist .. this is too simplistic of a view. They don\\'t give a fuck really about the issue at all or the innocent people involved. Trump won because the right LOVES trolling the left. The more outrage and angry the left shows the happier the right is. You know how many people are going to vote Trump in 2020 simply because they want to see progressives lose their shit, EVEN if his policies go against their own interests ? Most of them. No I think we should be isolationist. And thanks for your honesty. PTSD is genetic ? Yeah because the best thing is to have a President that does things of his own volition. Don\\'t you see any humor in these kind of comments . No matter what move Trump makes he is wrong because he is Trump . There will always be an angle to skewer him from because he is Trump. Right ? Please just be one person to admit that no matter what happens you are committed to finding a way to not give him credit for anything because he is a horrible human being that deserves to be criticized no matter what. I was just asking a question. I personally believe everyone here illegally right now should receive amnesty . The second thing we should do is shut down and seal off the border until our immigration system is made to be more efficient . Then open it back up and give expedited treatment to those seeking asylum and seasonal workers.  The record for deportations over a full year is 419,384 in 2012, under the Obama administration. Ok you be the first one to hide illegals in your home then . I know that I can\\'t be bothered to take time off work or sacrifice what little free time I have to bother with harboring illegals. Morally I think this action is evil and economically stupid but that\\'s just where I stop. Just meh and my life goes on so fuck it. Not going to read anything from wapo sorry. What do you base your assessment on that he wasn\\'t ? Actually [https://en.wikipedia.org/wiki/Joseph%27s\\\\_Granaries](https://en.wikipedia.org/wiki/Joseph%27s_Granaries) Well the socialist argument is she is protecting the workers from being exploited. They are just willing and dumb to be exploited because they have been brainwashed by capitalism and corporations. Maybe someone should ask you that question ? Why did you funnel campaign money to your boyfriend ? As a non-progressive I\\'d be cool with that. I\\'m hoping that Kamala Harris tones down her rhetoric like in this case and becomes more moderate. Only way I will vote against Trump is for a moderate. Late term abortions is a real national emergency. You know that is just a nonsense publicity stunt right ? Sorry you aren\\'t allowed to say \"both sides\" . The 21% that are approved of are all Democrats.  That\\'s awesome that you were canvassing and motivating people to vote. The talk of revolution is just going to drive people like myself to vote for Trump in 2020. I dont know why but thats the feeling it evokes .. like \"MY VOTE is more powerful than YOUR REVOLUTION so FUCK YOU\" . You missed my point completely. A minuscule , insignificant and mentally unstable fraction of the left holds your point of view. Most progressives abhor your point of view. Check out the neoliberal subreddit for the real progressives not lsc or cth. \\n\\nI support Andrew Yang for President . He supports Medicare for all and Universal Basic Income. He is also a capitalist .  This is the direction we need to move in . People who believe in maintaining our capitalist economy and democracy but want to move in a human centered and progressive direction. \\n\\n  So what\\'s the solution to people who have no critical thinking skills ? There are plenty of leftists who are anti-vaxxers , anarchists and extreme feminists who have no critical thinking skills either. The people at the neoliberal subreddit are what I would consider smart progressives. Most of the progressives in here are kneejerk reactionary edgelords just like TD posters are. Yeah that\\'s never going to go anywhere. Militant leftists are less of a minority of the left than militias are in the right. All anyone is ever going to do is complain on the internet and doxx people. No it\\'s not. How dense are you ? It\\'s a deduction from income not a payment lol Not true. It doesn\\'t nullify the tax amount owed to the state. The state is getting the same amount and the feds are getting more due to the decreased deduction. \\n\\n&#x200B; Why don\\'t you just stick to the facts instead of adding your failed attempts at humor. That was cringey as fuck to read. Yeah he said he never said it.  lol ok That girl sitting behind grassley looks hot af Maybe they should\\'ve not thrown rocks and approached a border patrol station for asylum papers. They also responded to deadly force with gas , not bullets. Fuck of wapo. You\\'re not an American though. Every election is a pick of which candidate is worse than the other. I\\'m not a single issue voter (nuance) . The government will do what it does as far as abortion goes but it doesn\\'t change my moral stance on it. Michelle Wolf\\'s \"Salute of Abortion\" is the Left I\\'m against. I\\'m for single payer healthcare , I\\'m for a more open and smooth immigration process but increased personnel at the border , increased tech and an effective wall. I\\'m all for civil unions between any type of loving couple as long as they don\\'t call it marriage. I think income limits should be raised for medicaid and foodstamps and support increased for things like HEAP in my state. I also support a flat tax and deregulation.  And you can continue to support the party that cheers on the murdering of babies. From my perspective you people are overreacting. We are nothing close to a fascist state and nothing is happening that gives me any kind of alarm. I\\'ve been alive long enough to see both sides freak out like the world is about to end. I loved President Obama and respected him a lot more but I also like Trump a lot because his antics and comments entertain me. Trust me , we will still be here in 2030 arguing about the same nonsense and nothing will have changed. America will still be the best country to live in while I live my comfortable life. I\\'m not in any of the \"oppressed\" groups so I\\'ve got nothing to worry about. Politics is just a form of entertainment to me. Hell I voted straight R and one Green Party guy thinking to myself the whole time \"I have no idea who these fucking people are I just want to see leftists freak out\" . I voted for Obama for the same reason , wanted to play a part in seeing conservatives and racists flip out. As long as I\\'m able to go to work everyday , buy the food I want and drive the car I want and can go home and enjoy some Netflix or video games and spend time with friends... don\\'t really give a fuck what happens outside of that. That is my political worldview. Unless it affects me personally and directly I don\\'t give a fuck. None of that statement makes sense. Please give me context .  Imo with Rosenstein gone and the House having oversight it\\'ll change the dynamics of Trump saying take it easy on me and I\\'ll make sure the Senate works with house Dems. I tjink that\\'s his strategy rather than moving closer to Mueller. I seriously think the Dems would sacrifice subpoenas if he helped progressive policy get pushed through. If he does that he is throwing the 2020 election but if gets impeached and indicted it will as well of course. I think he knows he is fucked with the investigation and this path gives him a chance . He is basically banking on Dems taking the bait and using the investigation as a battering ram. Not 4d chess shit just makes sense to me .  It really puts he Dems in a hard place . Do they want to keep running in a referendum on Trump or on their own policy. \"revoked press access\" you mean banned Acosta . Fuck that dude. Yeah I don\\'t really care. He won\\'t fire Mueller.  As a Republican, I would vote for Beto over Trump.  If there was a protest near me and they were blocking me on my way home from work I would just find a different route . Actually I\\'m pretty sure that Google Maps would detect the impedance to traffic and direct me somewhere else. It would be a minor annoyance but one I\\'d rather not have when I want to get home. My point is that all you are doing is annoying people and nobody gives a fuck what you are protesting about. They just wanna go home and play video games / watch tv / cook / play with kids etc. Fuck your protests we have lives to live.  Lol corny have fun with it looking like the he will not divide us fiasco. Please don\\'t block traffic you idiots. I watched it live. I\\'m sure you can find a replay on youtube. Exactly. He just spoke extensively how he is basically telling the Dems he will work with their policies if they   don\\'t hit him with a barrage of subpoenas. He also supports Nancy Pelosi as speaker. Watch him soften his tone as well. I expect Trump to make concession with health care and leaglizing marijuana to get a border wall. I have a feeling he\\'s going to throw the 2020 re-election chances by supporting House dems along the way because he\\'d rather throw re-election than be subpoenaed endlessly. It\\'s all about his ego. How long until Trump gets impeached ? That was annoying to scroll through please remove it. City people are out of touch with what the average American values and shouldn\\'t be over represented in any case. I haven\\'t seen anyone make a solid case for better city representation.  Thanks ! Unfortunately NYC overpowers every other part of NY and the idiots up there love Cuomo despite how much he has failed them. I don\\'t get how Democrats always complain about how the rural section controls everything in the US yet it\\'s the opposite in NY.  Voting straight R along with friends after work today in NY . Cuomo needs to be voted out.  Yes he did. They are setting him up to fail imo. It\\'s ironic because Molinaro says he didn\\'t even vote for Trump. Don\\'t know if you saw my edit but I would\\'ve voted for Cynthia Nixon. I heard that there is a congressman that wants to run for governor after he is done and so the Republicans don\\'t really want Molinaro to win . The state party isn\\'t even backing him and he has barely raised any $$. I\\'m voting for him soley as a not Cuomo vote and everyone i know is as well. Ironically I would\\'ve voted for Cynthia Nixon Kinda like how NYC steamrolls Western NY keeping corrupt Cuomo in office. Kinda like how NYC steamrolls Western NY keeping corrupt Cuomo in office. The left calling all Republicans fascist just reinforces my commitment to vote R. I was actually leaning towards the left at one point due to Trump\\'s idiocy but the rhetoric on the left I see in the media, twitter and on here has pushed me to the right. If it\\'s an identity politics game I\\'m just going to go with the party that is benefits me most as an individual not ostracizes me.  As a non-radicalized cis gender anti-facist white male, I concur.\\n\\n&#x200B;\\n\\nEdit : Am voting straight Republican next week.  Mueller is a GOP . He\\'s a long standing Republican who voted for Trump.  Mueller voted for Trump. You don\\'t think that already compromises his investigation. Why do you believe it\\'s not just a dog and pony show to throw some white collar criminals in jail but distract the left from Trump himself ? It\\'s nice to see the left give a Republican the benefit of the doubt. No sarcasm at all. For real, if he wasn\\'t investigating Trump though would you guys be defending him ? I mean I thought that the Republican party was the party of rape and violence. Mueller is a Republican again btw.  It\\'s racist to think that minorities don\\'t know how to or can\\'t afford to get an ID. It\\'s not against minorities it\\'s against the poor in general. When I was homeless it was extremely difficult to get an ID. It\\'s the one thing that organizations that help the homeless require and the one thing they won\\'t pay for you to get. It\\'s really difficult to get the process started. However it is easy in every city to get bus tokens to actually get to that office.'"
      ]
     },
     "execution_count": 6,
     "metadata": {},
     "output_type": "execute_result"
    }
   ],
   "source": [
    "df.iloc[6,:]['Text']"
   ]
  },
  {
   "cell_type": "code",
   "execution_count": 7,
   "metadata": {},
   "outputs": [
    {
     "data": {
      "text/plain": [
       "'honestly considered myself moderate and hate speech is still free speech advocate until these shootings they pushed me hard left on free speech if you post any white nationalist talking points you should be locked up anybody who has an account on stormfront or similar websites should be locked up if you are affiliated with any white nationalist groups you should be locked up these people have no place in our society until they are properly re educated our constitution is outdated think that these are all white nationalist far right extremists trying to start civil war that not how the tribalists see it though the fact that he can win over ben shapiro means he has an alt right agenda the fact that he can go on cth and do the same thing means he has communist agenda the fact that he won over both means that he is wishy washy and just changes his politics to whatever he thinks people will like dont agree with any of that just saying that how they are viewing it the narrative that this sub is pushing now is yang stop trying to be bernie and divide us just back out and stop stealing the votes from the real candidates it bullshit he went on ben shapiro they can tie him to the alt right trolls that were acting like support but they can tie him through shapiro to the intellectual dark web progressives hate sam harris eric weinstein dave rubin etc so basically he is the same to them bernie doesn poll higher in most of not all polling get over this talking point bernie is trailing he can beat trump only biden can how does it feel to have wasted all your time for the grand finale to be it beyond my purview have my reasons for not wanting to vote for bernie don feel like lining out all the shit he says and believes right now and yes ve read through all yang policies anyone who panders to intersectionality gets no from me biden and yang keep this to minimum also voted for kerry obama and didn vote in but silently supported trump over hilary but guess you guys don want my vote anymore they aren the largest voting blocs however biden is more likely to pull those in the center to the left trump is at disadvantage because he won be pulling any moderates or centrists in his effort is one to not lose his based biden has the power to pull those on the right that are wavering to the left an example of this biden and yang are the only democratic candidates will vote for don want radical leftist like harris or bernie in office rather have trump in office than her they don choose officially everyone knows that they choose tfw reddit upvotes post in politics about justin bieber to the top all of that is true polling verifiable facts as well as my lived experience in heavily blue state no they don neither are they popular guess if you live in the politics twitter echochamber they are as former trump supporter ll only vote for biden or yang yup thats me support trump over radical leftists like kamala harris however will vote for biden if he wins the primaries ive been told here though that democrats dont want my vote and that dont pass their purity test to be fair nothing you said made any sense and still confused as to what point you re trying to make also advise you against attacking people that are on your side this is what will lead to trump winning if you aren careful personally ve crossed over from the non vote in but post lover of trump trolling the left to yang biden supporter it mostly been by avoiding people in this subreddit and engaging with real progressives who are willing to have conversations and not anarchists masquerading as progressives honestly reading this subreddit just engrages me most of the time had to get off of it for month because was starting to slip back into rather have trump than these motherfuckers think it way too late to do that if you look at the hottest posts on twitter and reddit they are all dismissing all rural voters as stupid and irrelevant they want to get rid of the electoral system not change any minds in their minds they have now and will always dominate the popular vote so everyone outside of big coastal cities are obsolete no practical effect yes trump would have won the necessary electoral college votes anyways also the voter suppression argument is racist in itself it assumes that poor minorities and also assumes that minorities are not intelligent enough to get proper id the proper id impossibility argument is bullshit lived on the streets for years with no id as heroin addict it took lots of work such as visit to shelter for bus tokens spending whole day taking bus to dss ss office to see what information need to get them then another day for another office then finally two weeks later actually having enough information to apply for state id then another weeks of waiting for that id that the hard line to fall back to isn it instead of self reflection it playing victim of vote suppression and russians lol good luck looks miserable as fuck just like mitch nobody gonna wanna vote for her hehe oh wow biden is done think biden might take whipping but the media and the establishment really need to make decision do they want to put full backing behind safe bet which has never done either party very good in an incumbent election or do they want someone who will fight tooth and nail on stage against trump personally guy who going to vote for andrew yang the debates didn matter to me much all the other candidates are phony as fuck in my opinion ll look more into buttigieg as heard good things about him regarding last nights debate don think bernie sanders stands chance after last night really hoping that yang silence turns out to be in his favor don know why people are touting warren as policy wonk the real insightful policy genius is andrew yang was bernie supporter at one point but honestly he just seems like crazy old man yelling into an abyss right now it really hard to not buy into the troll vote though get lot of hate in this sub and other left leaning subs and the purity testing makes me so angry sometimes want to vote trump as fuck you vote want to call me an enlightened centrist or the problem with the democratic party because don lean left enough fuck you ll take my vote elsewhere then it funny that the meta analysis most people are giving in here that is your own is the exact observation ben shapiro made say he understands the left pretty well if everything he says about the debates so far matches what is being said here think he pompous ass hypocrit and wrong in many ways but he dead on with his coverage and predictions he huge defender of nate silver and polling as well and was surprised to see him retweet nate silver agree with what ben shapiro says kamala harris tore into him if he doesn move at all in the polls after last night he is the nominee if he loses points and kamala harris gains that is bad for him his analysis is that she has the energy and the fight in her to convince people she can take on trump that is why trump won the nomination because he was looked at as someone who could fight with everything he had against hilary find it humorous that republicans hate on obama foreign policy even though in practice he was basically neocon they can win if you look at democratic polling most democrats want moderate or centrist candidate despite how some are claiming the polls are being manipulated in favor of biden don feel like the democratic party is as progressive as reddit or conservative scare artists are making it out don know one republican who has economic anxiety right now it not that deep and it not that complicated people support trump because he is the one attacking back for them it all about the culture wars every pundit has the immigration thing wrong so do the people here the immigration issue isn hot button for the right because they are innately racist this is too simplistic of view they don give fuck really about the issue at all or the innocent people involved trump won because the right loves trolling the left the more outrage and angry the left shows the happier the right is you know how many people are going to vote trump in simply because they want to see progressives lose their shit even if his policies go against their own interests most of them no it not fundamental at all don know one republican who has economic anxiety right now it not that deep and it not that complicated people support trump because he is the one attacking back for them it all about the culture wars every pundit has the immigration thing wrong so do the people here the immigration issue isn hot button for the right because they are innately racist this is too simplistic of view they don give fuck really about the issue at all or the innocent people involved trump won because the right loves trolling the left the more outrage and angry the left shows the happier the right is you know how many people are going to vote trump in simply because they want to see progressives lose their shit even if his policies go against their own interests most of them no think we should be isolationist and thanks for your honesty ptsd is genetic yeah because the best thing is to have president that does things of his own volition don you see any humor in these kind of comments no matter what move trump makes he is wrong because he is trump there will always be an angle to skewer him from because he is trump right please just be one person to admit that no matter what happens you are committed to finding way to not give him credit for anything because he is horrible human being that deserves to be criticized no matter what was just asking question personally believe everyone here illegally right now should receive amnesty the second thing we should do is shut down and seal off the border until our immigration system is made to be more efficient then open it back up and give expedited treatment to those seeking asylum and seasonal workers the record for deportations over full year is in under the obama administration ok you be the first one to hide illegals in your home then know that can be bothered to take time off work or sacrifice what little free time have to bother with harboring illegals morally think this action is evil and economically stupid but that just where stop just meh and my life goes on so fuck it not going to read anything from wapo sorry what do you base your assessment on that he wasn actually well the socialist argument is she is protecting the workers from being exploited they are just willing and dumb to be exploited because they have been brainwashed by capitalism and corporations maybe someone should ask you that question why did you funnel campaign money to your boyfriend as non progressive be cool with that hoping that kamala harris tones down her rhetoric like in this case and becomes more moderate only way will vote against trump is for moderate late term abortions is real national emergency you know that is just nonsense publicity stunt right sorry you aren allowed to say both sides the that are approved of are all democrats that awesome that you were canvassing and motivating people to vote the talk of revolution is just going to drive people like myself to vote for trump in dont know why but thats the feeling it evokes like my vote is more powerful than your revolution so fuck you you missed my point completely minuscule insignificant and mentally unstable fraction of the left holds your point of view most progressives abhor your point of view check out the neoliberal subreddit for the real progressives not lsc or cth support andrew yang for president he supports medicare for all and universal basic income he is also capitalist this is the direction we need to move in people who believe in maintaining our capitalist economy and democracy but want to move in human centered and progressive direction so what the solution to people who have no critical thinking skills there are plenty of leftists who are anti vaxxers anarchists and extreme feminists who have no critical thinking skills either the people at the neoliberal subreddit are what would consider smart progressives most of the progressives in here are kneejerk reactionary edgelords just like td posters are yeah that never going to go anywhere militant leftists are less of minority of the left than militias are in the right all anyone is ever going to do is complain on the internet and doxx people no it not how dense are you it deduction from income not payment lol not true it doesn nullify the tax amount owed to the state the state is getting the same amount and the feds are getting more due to the decreased deduction why don you just stick to the facts instead of adding your failed attempts at humor that was cringey as fuck to read yeah he said he never said it lol ok that girl sitting behind grassley looks hot af maybe they should ve not thrown rocks and approached border patrol station for asylum papers they also responded to deadly force with gas not bullets fuck of wapo you re not an american though every election is pick of which candidate is worse than the other not single issue voter nuance the government will do what it does as far as abortion goes but it doesn change my moral stance on it michelle wolf salute of abortion is the left against for single payer healthcare for more open and smooth immigration process but increased personnel at the border increased tech and an effective wall all for civil unions between any type of loving couple as long as they don call it marriage think income limits should be raised for medicaid and foodstamps and support increased for things like heap in my state also support flat tax and deregulation and you can continue to support the party that cheers on the murdering of babies from my perspective you people are overreacting we are nothing close to fascist state and nothing is happening that gives me any kind of alarm ve been alive long enough to see both sides freak out like the world is about to end loved president obama and respected him lot more but also like trump lot because his antics and comments entertain me trust me we will still be here in arguing about the same nonsense and nothing will have changed america will still be the best country to live in while live my comfortable life not in any of the oppressed groups so ve got nothing to worry about politics is just form of entertainment to me hell voted straight and one green party guy thinking to myself the whole time have no idea who these fucking people are just want to see leftists freak out voted for obama for the same reason wanted to play part in seeing conservatives and racists flip out as long as able to go to work everyday buy the food want and drive the car want and can go home and enjoy some netflix or video games and spend time with friends don really give fuck what happens outside of that that is my political worldview unless it affects me personally and directly don give fuck none of that statement makes sense please give me context imo with rosenstein gone and the house having oversight it ll change the dynamics of trump saying take it easy on me and ll make sure the senate works with house dems tjink that his strategy rather than moving closer to mueller seriously think the dems would sacrifice subpoenas if he helped progressive policy get pushed through if he does that he is throwing the election but if gets impeached and indicted it will as well of course think he knows he is fucked with the investigation and this path gives him chance he is basically banking on dems taking the bait and using the investigation as battering ram not chess shit just makes sense to me it really puts he dems in hard place do they want to keep running in referendum on trump or on their own policy revoked press access you mean banned acosta fuck that dude yeah don really care he won fire mueller as republican would vote for beto over trump if there was protest near me and they were blocking me on my way home from work would just find different route actually pretty sure that google maps would detect the impedance to traffic and direct me somewhere else it would be minor annoyance but one rather not have when want to get home my point is that all you are doing is annoying people and nobody gives fuck what you are protesting about they just wanna go home and play video games watch tv cook play with kids etc fuck your protests we have lives to live lol corny have fun with it looking like the he will not divide us fiasco please don block traffic you idiots watched it live sure you can find replay on youtube exactly he just spoke extensively how he is basically telling the dems he will work with their policies if they don hit him with barrage of subpoenas he also supports nancy pelosi as speaker watch him soften his tone as well expect trump to make concession with health care and leaglizing marijuana to get border wall have feeling he going to throw the re election chances by supporting house dems along the way because he rather throw re election than be subpoenaed endlessly it all about his ego how long until trump gets impeached that was annoying to scroll through please remove it city people are out of touch with what the average american values and shouldn be over represented in any case haven seen anyone make solid case for better city representation thanks unfortunately nyc overpowers every other part of ny and the idiots up there love cuomo despite how much he has failed them don get how democrats always complain about how the rural section controls everything in the us yet it the opposite in ny voting straight along with friends after work today in ny cuomo needs to be voted out yes he did they are setting him up to fail imo it ironic because molinaro says he didn even vote for trump don know if you saw my edit but would ve voted for cynthia nixon heard that there is congressman that wants to run for governor after he is done and so the republicans don really want molinaro to win the state party isn even backing him and he has barely raised any voting for him soley as not cuomo vote and everyone know is as well ironically would ve voted for cynthia nixon kinda like how nyc steamrolls western ny keeping corrupt cuomo in office kinda like how nyc steamrolls western ny keeping corrupt cuomo in office the left calling all republicans fascist just reinforces my commitment to vote was actually leaning towards the left at one point due to trump idiocy but the rhetoric on the left see in the media twitter and on here has pushed me to the right if it an identity politics game just going to go with the party that is benefits me most as an individual not ostracizes me as non radicalized cis gender anti facist white male concur edit am voting straight republican next week mueller is gop he long standing republican who voted for trump mueller voted for trump you don think that already compromises his investigation why do you believe it not just dog and pony show to throw some white collar criminals in jail but distract the left from trump himself it nice to see the left give republican the benefit of the doubt no sarcasm at all for real if he wasn investigating trump though would you guys be defending him mean thought that the republican party was the party of rape and violence mueller is republican again btw it racist to think that minorities don know how to or can afford to get an id it not against minorities it against the poor in general when was homeless it was extremely difficult to get an id it the one thing that organizations that help the homeless require and the one thing they won pay for you to get it really difficult to get the process started however it is easy in every city to get bus tokens to actually get to that office'"
      ]
     },
     "execution_count": 7,
     "metadata": {},
     "output_type": "execute_result"
    }
   ],
   "source": [
    "processText(df.iloc[6,:]['Text'])"
   ]
  },
  {
   "cell_type": "code",
   "execution_count": 8,
   "metadata": {},
   "outputs": [],
   "source": [
    "df['Clean'] = df['Text'].apply(processText)"
   ]
  },
  {
   "cell_type": "code",
   "execution_count": 9,
   "metadata": {},
   "outputs": [
    {
     "data": {
      "text/html": [
       "<div>\n",
       "<style scoped>\n",
       "    .dataframe tbody tr th:only-of-type {\n",
       "        vertical-align: middle;\n",
       "    }\n",
       "\n",
       "    .dataframe tbody tr th {\n",
       "        vertical-align: top;\n",
       "    }\n",
       "\n",
       "    .dataframe thead th {\n",
       "        text-align: right;\n",
       "    }\n",
       "</style>\n",
       "<table border=\"1\" class=\"dataframe\">\n",
       "  <thead>\n",
       "    <tr style=\"text-align: right;\">\n",
       "      <th></th>\n",
       "      <th>User</th>\n",
       "      <th>Text</th>\n",
       "      <th>Clean</th>\n",
       "    </tr>\n",
       "  </thead>\n",
       "  <tbody>\n",
       "    <tr>\n",
       "      <th>0</th>\n",
       "      <td>PDXorax</td>\n",
       "      <td>The Lump of Labor doesn't apply in this case,...</td>\n",
       "      <td>the lump of labor doesn apply in this case we ...</td>\n",
       "    </tr>\n",
       "    <tr>\n",
       "      <th>1</th>\n",
       "      <td>PrincePizza1</td>\n",
       "      <td>I think things \"getting better\" to people lik...</td>\n",
       "      <td>think things getting better to people like thi...</td>\n",
       "    </tr>\n",
       "    <tr>\n",
       "      <th>2</th>\n",
       "      <td>Marmar79</td>\n",
       "      <td>Thank you. This made my day He so edgy.\\n\\nEd...</td>\n",
       "      <td>thank you this made my day he so edgy edit don...</td>\n",
       "    </tr>\n",
       "    <tr>\n",
       "      <th>3</th>\n",
       "      <td>IRISHE3</td>\n",
       "      <td>I just wish politicians would put the money s...</td>\n",
       "      <td>just wish politicians would put the money shit...</td>\n",
       "    </tr>\n",
       "    <tr>\n",
       "      <th>4</th>\n",
       "      <td>RonZiggy</td>\n",
       "      <td>Climate change as well. Wow...just wow What i...</td>\n",
       "      <td>climate change as well wow just wow what is th...</td>\n",
       "    </tr>\n",
       "  </tbody>\n",
       "</table>\n",
       "</div>"
      ],
      "text/plain": [
       "           User                                               Text  \\\n",
       "0       PDXorax   The Lump of Labor doesn't apply in this case,...   \n",
       "1  PrincePizza1   I think things \"getting better\" to people lik...   \n",
       "2      Marmar79   Thank you. This made my day He so edgy.\\n\\nEd...   \n",
       "3       IRISHE3   I just wish politicians would put the money s...   \n",
       "4      RonZiggy   Climate change as well. Wow...just wow What i...   \n",
       "\n",
       "                                               Clean  \n",
       "0  the lump of labor doesn apply in this case we ...  \n",
       "1  think things getting better to people like thi...  \n",
       "2  thank you this made my day he so edgy edit don...  \n",
       "3  just wish politicians would put the money shit...  \n",
       "4  climate change as well wow just wow what is th...  "
      ]
     },
     "execution_count": 9,
     "metadata": {},
     "output_type": "execute_result"
    }
   ],
   "source": [
    "df.head()"
   ]
  },
  {
   "cell_type": "code",
   "execution_count": 10,
   "metadata": {},
   "outputs": [],
   "source": [
    "# df.to_csv('fin_cleaned_nlp.csv')"
   ]
  },
  {
   "cell_type": "code",
   "execution_count": null,
   "metadata": {},
   "outputs": [],
   "source": []
  }
 ],
 "metadata": {
  "kernelspec": {
   "display_name": "Python 3",
   "language": "python",
   "name": "python3"
  },
  "language_info": {
   "codemirror_mode": {
    "name": "ipython",
    "version": 3
   },
   "file_extension": ".py",
   "mimetype": "text/x-python",
   "name": "python",
   "nbconvert_exporter": "python",
   "pygments_lexer": "ipython3",
   "version": "3.7.3"
  }
 },
 "nbformat": 4,
 "nbformat_minor": 2
}
