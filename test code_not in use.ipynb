{
 "cells": [
  {
   "cell_type": "code",
   "execution_count": 1,
   "metadata": {},
   "outputs": [],
   "source": [
    "import praw\n",
    "import json\n",
    "import time\n",
    "import pandas as pd\n",
    "import sys"
   ]
  },
  {
   "cell_type": "code",
   "execution_count": 2,
   "metadata": {},
   "outputs": [],
   "source": [
    "json_file = open('Reddit_creds.json')\n",
    "json_str = json_file.read()\n",
    "json_data = json.loads(json_str)"
   ]
  },
  {
   "cell_type": "code",
   "execution_count": 3,
   "metadata": {},
   "outputs": [],
   "source": [
    "reddit = praw.Reddit(user_agent=json_data['user_agent'],\n",
    "                     client_id=json_data['client_id'], client_secret=json_data['client_secret'])"
   ]
  },
  {
   "cell_type": "code",
   "execution_count": 4,
   "metadata": {},
   "outputs": [],
   "source": [
    "yang_sub = reddit.subreddit('YangForPresidentHQ')"
   ]
  },
  {
   "cell_type": "code",
   "execution_count": 5,
   "metadata": {},
   "outputs": [
    {
     "data": {
      "text/plain": [
       "False"
      ]
     },
     "execution_count": 5,
     "metadata": {},
     "output_type": "execute_result"
    }
   ],
   "source": [
    "yang_sub.over18"
   ]
  },
  {
   "cell_type": "code",
   "execution_count": 6,
   "metadata": {},
   "outputs": [
    {
     "data": {
      "text/plain": [
       "'Grassroots subreddit for 2020 Democratic Candidate for President, Andrew Yang, the first presidential candidate for a Universal Basic Income.  \\n\\nPutting #HumanityFirst\\nwww.yang2020.com'"
      ]
     },
     "execution_count": 6,
     "metadata": {},
     "output_type": "execute_result"
    }
   ],
   "source": [
    "yang_sub.public_description"
   ]
  },
  {
   "cell_type": "code",
   "execution_count": 7,
   "metadata": {},
   "outputs": [
    {
     "data": {
      "text/plain": [
       "Redditor(name='ocelot577')"
      ]
     },
     "execution_count": 7,
     "metadata": {},
     "output_type": "execute_result"
    }
   ],
   "source": [
    "reddit.redditor('ocelot577')"
   ]
  },
  {
   "cell_type": "code",
   "execution_count": 8,
   "metadata": {},
   "outputs": [],
   "source": [
    "users = ['ocelot577']"
   ]
  },
  {
   "cell_type": "code",
   "execution_count": 9,
   "metadata": {},
   "outputs": [],
   "source": [
    "users = ['ocelot577','academyman2']"
   ]
  },
  {
   "cell_type": "code",
   "execution_count": 10,
   "metadata": {},
   "outputs": [
    {
     "name": "stdout",
     "output_type": "stream",
     "text": [
      "Nvm, tried twice more and finally got it...\n",
      "Was there too, the number of shield baits you got off acid spray was incredible.\n",
      "Umm, not sure if this is the one you're looking for. The plot points you asked for are all there but they're more of a subplot and rather separate from the main plot.\n",
      "\n",
      "linkffn(4493073)\n",
      "\n",
      "Thanks for doing this!\n",
      "\n",
      "I'm 0/19 right now\n",
      "Pokémon Go\n",
      "1. Yes\n",
      "2. Not sure, probably \n",
      "3. Aug 7, 2017 (only time I’ve raided here)\n",
      "4. Bronze\n",
      "5. 50 normal, 106 legendary \n",
      "6. 35\n",
      "7. One\n",
      "\n"
     ]
    }
   ],
   "source": [
    "\n",
    "for user in users:          \n",
    "    try:\n",
    "        for comment in reddit.redditor(user).comments.new(limit=1000):\n",
    "            print(comment.body)            \n",
    "    except:\n",
    "        pass\n"
   ]
  },
  {
   "cell_type": "code",
   "execution_count": 12,
   "metadata": {},
   "outputs": [
    {
     "data": {
      "text/plain": [
       "\"WELCOME TO /r/TIFU! \\n\\nToday I Fucked Up is a community for the dumbass in all of us. We all have those moments where we do something ridiculously stupid. Let us make each other feel better about ourselves. Come and check it out!\\n\\nWhy you should join us: It's funny, interesting, cringe-worthy, laugh-causing, smile-inducing, feel-good, ridiculous, humor, humorous, humerus, stupid, cool, awesome, but mostly because it's the best community on reddit.\""
      ]
     },
     "execution_count": 12,
     "metadata": {},
     "output_type": "execute_result"
    }
   ],
   "source": [
    "reddit.subreddit('tifu').public_description"
   ]
  },
  {
   "cell_type": "code",
   "execution_count": 9,
   "metadata": {},
   "outputs": [
    {
     "data": {
      "text/plain": [
       "'/r/Politics is for news and discussion about U.S. politics.'"
      ]
     },
     "execution_count": 9,
     "metadata": {},
     "output_type": "execute_result"
    }
   ],
   "source": [
    "politics.public_description"
   ]
  },
  {
   "cell_type": "code",
   "execution_count": 5,
   "metadata": {},
   "outputs": [],
   "source": [
    "df = pd.read_csv('full_scrape_1.csv')"
   ]
  },
  {
   "cell_type": "code",
   "execution_count": 6,
   "metadata": {},
   "outputs": [
    {
     "data": {
      "text/html": [
       "<div>\n",
       "<style scoped>\n",
       "    .dataframe tbody tr th:only-of-type {\n",
       "        vertical-align: middle;\n",
       "    }\n",
       "\n",
       "    .dataframe tbody tr th {\n",
       "        vertical-align: top;\n",
       "    }\n",
       "\n",
       "    .dataframe thead th {\n",
       "        text-align: right;\n",
       "    }\n",
       "</style>\n",
       "<table border=\"1\" class=\"dataframe\">\n",
       "  <thead>\n",
       "    <tr style=\"text-align: right;\">\n",
       "      <th></th>\n",
       "      <th>Comment Text</th>\n",
       "      <th>Author</th>\n",
       "      <th>Subreddit</th>\n",
       "      <th>Post ID</th>\n",
       "    </tr>\n",
       "  </thead>\n",
       "  <tbody>\n",
       "    <tr>\n",
       "      <th>0</th>\n",
       "      <td>Just curious, but what triggered your feelings...</td>\n",
       "      <td>PDXorax</td>\n",
       "      <td>YangForPresidentHQ</td>\n",
       "      <td>ew5ohva</td>\n",
       "    </tr>\n",
       "    <tr>\n",
       "      <th>1</th>\n",
       "      <td>Christmas time put up a light-up Yang sign!</td>\n",
       "      <td>PDXorax</td>\n",
       "      <td>YangForPresidentHQ</td>\n",
       "      <td>ew5o8vv</td>\n",
       "    </tr>\n",
       "    <tr>\n",
       "      <th>2</th>\n",
       "      <td>During the general election, get in contact wi...</td>\n",
       "      <td>PDXorax</td>\n",
       "      <td>YangForPresidentHQ</td>\n",
       "      <td>ew42bdx</td>\n",
       "    </tr>\n",
       "    <tr>\n",
       "      <th>3</th>\n",
       "      <td>We need to understand as a country, that the m...</td>\n",
       "      <td>PDXorax</td>\n",
       "      <td>YangForPresidentHQ</td>\n",
       "      <td>evva7l8</td>\n",
       "    </tr>\n",
       "    <tr>\n",
       "      <th>4</th>\n",
       "      <td>Part of the reason for this, is because we nee...</td>\n",
       "      <td>PDXorax</td>\n",
       "      <td>YangForPresidentHQ</td>\n",
       "      <td>evoo179</td>\n",
       "    </tr>\n",
       "  </tbody>\n",
       "</table>\n",
       "</div>"
      ],
      "text/plain": [
       "                                        Comment Text   Author  \\\n",
       "0  Just curious, but what triggered your feelings...  PDXorax   \n",
       "1        Christmas time put up a light-up Yang sign!  PDXorax   \n",
       "2  During the general election, get in contact wi...  PDXorax   \n",
       "3  We need to understand as a country, that the m...  PDXorax   \n",
       "4  Part of the reason for this, is because we nee...  PDXorax   \n",
       "\n",
       "            Subreddit  Post ID  \n",
       "0  YangForPresidentHQ  ew5ohva  \n",
       "1  YangForPresidentHQ  ew5o8vv  \n",
       "2  YangForPresidentHQ  ew42bdx  \n",
       "3  YangForPresidentHQ  evva7l8  \n",
       "4  YangForPresidentHQ  evoo179  "
      ]
     },
     "execution_count": 6,
     "metadata": {},
     "output_type": "execute_result"
    }
   ],
   "source": [
    "df.head()"
   ]
  },
  {
   "cell_type": "code",
   "execution_count": 26,
   "metadata": {},
   "outputs": [],
   "source": [
    "# df[df.duplicated(subset='Post ID')].sort_values(by='Post ID')"
   ]
  },
  {
   "cell_type": "code",
   "execution_count": 27,
   "metadata": {},
   "outputs": [],
   "source": [
    "# df[df['Post ID']=='evu6qza']"
   ]
  },
  {
   "cell_type": "code",
   "execution_count": 9,
   "metadata": {},
   "outputs": [],
   "source": [
    "df.drop_duplicates(subset='Post ID',inplace=True)"
   ]
  },
  {
   "cell_type": "code",
   "execution_count": 10,
   "metadata": {},
   "outputs": [
    {
     "data": {
      "text/plain": [
       "(1024524, 4)"
      ]
     },
     "execution_count": 10,
     "metadata": {},
     "output_type": "execute_result"
    }
   ],
   "source": [
    "df.shape"
   ]
  },
  {
   "cell_type": "code",
   "execution_count": 11,
   "metadata": {},
   "outputs": [],
   "source": [
    "df = df.drop(labels=['Comment Text'],axis=1)"
   ]
  },
  {
   "cell_type": "code",
   "execution_count": 12,
   "metadata": {},
   "outputs": [],
   "source": [
    "# list(df['Subreddit'].value_counts().head(10).index)"
   ]
  },
  {
   "cell_type": "code",
   "execution_count": 18,
   "metadata": {},
   "outputs": [
    {
     "data": {
      "text/plain": [
       "politics                98900\n",
       "YangForPresidentHQ      47500\n",
       "SandersForPresident     46356\n",
       "Pete_Buttigieg          40679\n",
       "AskReddit               32089\n",
       "worldnews               11952\n",
       "nba                     11768\n",
       "Enough_Sanders_Spam     11367\n",
       "news                    11247\n",
       "neoliberal              10625\n",
       "centerleftpolitics       9071\n",
       "nfl                      7986\n",
       "pics                     6202\n",
       "funny                    6092\n",
       "WayOfTheBern             5960\n",
       "movies                   5282\n",
       "MMA                      5043\n",
       "todayilearned            5017\n",
       "CFB                      4744\n",
       "Kamala                   4324\n",
       "videos                   4169\n",
       "PoliticalHumor           4150\n",
       "unpopularopinion         4086\n",
       "teenagers                3724\n",
       "soccer                   3550\n",
       "freefolk                 3402\n",
       "VoteBlue                 3346\n",
       "PoliticalDiscussion      3113\n",
       "gaming                   3055\n",
       "hockey                   2984\n",
       "                        ...  \n",
       "lakers                   1724\n",
       "Political_Revolution     1718\n",
       "CryptoCurrency           1694\n",
       "rupaulsdragrace          1631\n",
       "CollegeBasketball        1625\n",
       "dankmemes                1624\n",
       "Music                    1624\n",
       "stupidpol                1608\n",
       "ElizabethWarren          1607\n",
       "Games                    1535\n",
       "FortNiteBR               1528\n",
       "BigBrother               1505\n",
       "redsox                   1472\n",
       "baseball                 1460\n",
       "Drama                    1452\n",
       "WTF                      1413\n",
       "SeattleWA                1378\n",
       "Conservative             1377\n",
       "Economics                1371\n",
       "ClashRoyale              1345\n",
       "The_Mueller              1304\n",
       "DestinyTheGame           1301\n",
       "europe                   1272\n",
       "NintendoSwitch           1260\n",
       "AdviceAnimals            1254\n",
       "insanepeoplefacebook     1242\n",
       "IntellectualDarkWeb      1222\n",
       "askgaybros               1221\n",
       "WhitePeopleTwitter       1202\n",
       "IAmA                     1197\n",
       "Name: Subreddit, Length: 100, dtype: int64"
      ]
     },
     "execution_count": 18,
     "metadata": {},
     "output_type": "execute_result"
    }
   ],
   "source": [
    "df['Subreddit'].value_counts().head(100)"
   ]
  },
  {
   "cell_type": "code",
   "execution_count": 17,
   "metadata": {},
   "outputs": [
    {
     "data": {
      "text/html": [
       "<div>\n",
       "<style scoped>\n",
       "    .dataframe tbody tr th:only-of-type {\n",
       "        vertical-align: middle;\n",
       "    }\n",
       "\n",
       "    .dataframe tbody tr th {\n",
       "        vertical-align: top;\n",
       "    }\n",
       "\n",
       "    .dataframe thead th {\n",
       "        text-align: right;\n",
       "    }\n",
       "</style>\n",
       "<table border=\"1\" class=\"dataframe\">\n",
       "  <thead>\n",
       "    <tr style=\"text-align: right;\">\n",
       "      <th></th>\n",
       "      <th>Author</th>\n",
       "      <th>Subreddit</th>\n",
       "      <th>Post ID</th>\n",
       "    </tr>\n",
       "  </thead>\n",
       "  <tbody>\n",
       "    <tr>\n",
       "      <th>9417</th>\n",
       "      <td>DazzJuggernaut</td>\n",
       "      <td>aznidentity</td>\n",
       "      <td>egy1zsu</td>\n",
       "    </tr>\n",
       "    <tr>\n",
       "      <th>9418</th>\n",
       "      <td>DazzJuggernaut</td>\n",
       "      <td>aznidentity</td>\n",
       "      <td>egxzsww</td>\n",
       "    </tr>\n",
       "    <tr>\n",
       "      <th>9421</th>\n",
       "      <td>DazzJuggernaut</td>\n",
       "      <td>aznidentity</td>\n",
       "      <td>efn67si</td>\n",
       "    </tr>\n",
       "    <tr>\n",
       "      <th>9422</th>\n",
       "      <td>DazzJuggernaut</td>\n",
       "      <td>aznidentity</td>\n",
       "      <td>efn5bdv</td>\n",
       "    </tr>\n",
       "    <tr>\n",
       "      <th>9423</th>\n",
       "      <td>DazzJuggernaut</td>\n",
       "      <td>aznidentity</td>\n",
       "      <td>efn3f2r</td>\n",
       "    </tr>\n",
       "    <tr>\n",
       "      <th>9429</th>\n",
       "      <td>DazzJuggernaut</td>\n",
       "      <td>aznidentity</td>\n",
       "      <td>ee90j15</td>\n",
       "    </tr>\n",
       "    <tr>\n",
       "      <th>17845</th>\n",
       "      <td>JivingMango</td>\n",
       "      <td>aznidentity</td>\n",
       "      <td>ejvqxw3</td>\n",
       "    </tr>\n",
       "    <tr>\n",
       "      <th>130070</th>\n",
       "      <td>bobbychan193</td>\n",
       "      <td>aznidentity</td>\n",
       "      <td>es5i5kr</td>\n",
       "    </tr>\n",
       "    <tr>\n",
       "      <th>130074</th>\n",
       "      <td>bobbychan193</td>\n",
       "      <td>aznidentity</td>\n",
       "      <td>eqkgury</td>\n",
       "    </tr>\n",
       "    <tr>\n",
       "      <th>130075</th>\n",
       "      <td>bobbychan193</td>\n",
       "      <td>aznidentity</td>\n",
       "      <td>epy8nws</td>\n",
       "    </tr>\n",
       "    <tr>\n",
       "      <th>136598</th>\n",
       "      <td>edwin177</td>\n",
       "      <td>aznidentity</td>\n",
       "      <td>evqgr08</td>\n",
       "    </tr>\n",
       "    <tr>\n",
       "      <th>136609</th>\n",
       "      <td>edwin177</td>\n",
       "      <td>aznidentity</td>\n",
       "      <td>evmb5dx</td>\n",
       "    </tr>\n",
       "    <tr>\n",
       "      <th>161017</th>\n",
       "      <td>disposable_me_0001</td>\n",
       "      <td>aznidentity</td>\n",
       "      <td>ew4v6lb</td>\n",
       "    </tr>\n",
       "    <tr>\n",
       "      <th>161066</th>\n",
       "      <td>disposable_me_0001</td>\n",
       "      <td>aznidentity</td>\n",
       "      <td>evt7ncq</td>\n",
       "    </tr>\n",
       "    <tr>\n",
       "      <th>161071</th>\n",
       "      <td>disposable_me_0001</td>\n",
       "      <td>aznidentity</td>\n",
       "      <td>evrizyl</td>\n",
       "    </tr>\n",
       "    <tr>\n",
       "      <th>161087</th>\n",
       "      <td>disposable_me_0001</td>\n",
       "      <td>aznidentity</td>\n",
       "      <td>evp7eiu</td>\n",
       "    </tr>\n",
       "    <tr>\n",
       "      <th>161093</th>\n",
       "      <td>disposable_me_0001</td>\n",
       "      <td>aznidentity</td>\n",
       "      <td>evnwm82</td>\n",
       "    </tr>\n",
       "    <tr>\n",
       "      <th>161123</th>\n",
       "      <td>disposable_me_0001</td>\n",
       "      <td>aznidentity</td>\n",
       "      <td>euglvzm</td>\n",
       "    </tr>\n",
       "    <tr>\n",
       "      <th>161124</th>\n",
       "      <td>disposable_me_0001</td>\n",
       "      <td>aznidentity</td>\n",
       "      <td>euf50n0</td>\n",
       "    </tr>\n",
       "    <tr>\n",
       "      <th>161125</th>\n",
       "      <td>disposable_me_0001</td>\n",
       "      <td>aznidentity</td>\n",
       "      <td>euf4bco</td>\n",
       "    </tr>\n",
       "    <tr>\n",
       "      <th>161129</th>\n",
       "      <td>disposable_me_0001</td>\n",
       "      <td>aznidentity</td>\n",
       "      <td>eucvvta</td>\n",
       "    </tr>\n",
       "    <tr>\n",
       "      <th>161132</th>\n",
       "      <td>disposable_me_0001</td>\n",
       "      <td>aznidentity</td>\n",
       "      <td>eucfofh</td>\n",
       "    </tr>\n",
       "    <tr>\n",
       "      <th>161142</th>\n",
       "      <td>disposable_me_0001</td>\n",
       "      <td>aznidentity</td>\n",
       "      <td>eu74cnp</td>\n",
       "    </tr>\n",
       "    <tr>\n",
       "      <th>161150</th>\n",
       "      <td>disposable_me_0001</td>\n",
       "      <td>aznidentity</td>\n",
       "      <td>etpn2bi</td>\n",
       "    </tr>\n",
       "    <tr>\n",
       "      <th>161153</th>\n",
       "      <td>disposable_me_0001</td>\n",
       "      <td>aznidentity</td>\n",
       "      <td>etp47ab</td>\n",
       "    </tr>\n",
       "    <tr>\n",
       "      <th>161160</th>\n",
       "      <td>disposable_me_0001</td>\n",
       "      <td>aznidentity</td>\n",
       "      <td>et5fn18</td>\n",
       "    </tr>\n",
       "    <tr>\n",
       "      <th>161166</th>\n",
       "      <td>disposable_me_0001</td>\n",
       "      <td>aznidentity</td>\n",
       "      <td>esznh06</td>\n",
       "    </tr>\n",
       "    <tr>\n",
       "      <th>161169</th>\n",
       "      <td>disposable_me_0001</td>\n",
       "      <td>aznidentity</td>\n",
       "      <td>esyuvxw</td>\n",
       "    </tr>\n",
       "    <tr>\n",
       "      <th>161177</th>\n",
       "      <td>disposable_me_0001</td>\n",
       "      <td>aznidentity</td>\n",
       "      <td>esg4y96</td>\n",
       "    </tr>\n",
       "    <tr>\n",
       "      <th>161194</th>\n",
       "      <td>disposable_me_0001</td>\n",
       "      <td>aznidentity</td>\n",
       "      <td>esf210m</td>\n",
       "    </tr>\n",
       "    <tr>\n",
       "      <th>...</th>\n",
       "      <td>...</td>\n",
       "      <td>...</td>\n",
       "      <td>...</td>\n",
       "    </tr>\n",
       "    <tr>\n",
       "      <th>893118</th>\n",
       "      <td>brandnewmediums</td>\n",
       "      <td>aznidentity</td>\n",
       "      <td>ev8y9dp</td>\n",
       "    </tr>\n",
       "    <tr>\n",
       "      <th>893119</th>\n",
       "      <td>brandnewmediums</td>\n",
       "      <td>aznidentity</td>\n",
       "      <td>ev8xzsa</td>\n",
       "    </tr>\n",
       "    <tr>\n",
       "      <th>893120</th>\n",
       "      <td>brandnewmediums</td>\n",
       "      <td>aznidentity</td>\n",
       "      <td>ev8xwsh</td>\n",
       "    </tr>\n",
       "    <tr>\n",
       "      <th>893121</th>\n",
       "      <td>brandnewmediums</td>\n",
       "      <td>aznidentity</td>\n",
       "      <td>ev8xoza</td>\n",
       "    </tr>\n",
       "    <tr>\n",
       "      <th>893131</th>\n",
       "      <td>brandnewmediums</td>\n",
       "      <td>aznidentity</td>\n",
       "      <td>ev41dqw</td>\n",
       "    </tr>\n",
       "    <tr>\n",
       "      <th>893132</th>\n",
       "      <td>brandnewmediums</td>\n",
       "      <td>aznidentity</td>\n",
       "      <td>ev41c4x</td>\n",
       "    </tr>\n",
       "    <tr>\n",
       "      <th>893133</th>\n",
       "      <td>brandnewmediums</td>\n",
       "      <td>aznidentity</td>\n",
       "      <td>ev40v28</td>\n",
       "    </tr>\n",
       "    <tr>\n",
       "      <th>893134</th>\n",
       "      <td>brandnewmediums</td>\n",
       "      <td>aznidentity</td>\n",
       "      <td>ev40m71</td>\n",
       "    </tr>\n",
       "    <tr>\n",
       "      <th>893135</th>\n",
       "      <td>brandnewmediums</td>\n",
       "      <td>aznidentity</td>\n",
       "      <td>ev40i0z</td>\n",
       "    </tr>\n",
       "    <tr>\n",
       "      <th>893143</th>\n",
       "      <td>brandnewmediums</td>\n",
       "      <td>aznidentity</td>\n",
       "      <td>ev0s20u</td>\n",
       "    </tr>\n",
       "    <tr>\n",
       "      <th>893144</th>\n",
       "      <td>brandnewmediums</td>\n",
       "      <td>aznidentity</td>\n",
       "      <td>ev0s0jy</td>\n",
       "    </tr>\n",
       "    <tr>\n",
       "      <th>893148</th>\n",
       "      <td>brandnewmediums</td>\n",
       "      <td>aznidentity</td>\n",
       "      <td>ev0qshb</td>\n",
       "    </tr>\n",
       "    <tr>\n",
       "      <th>893217</th>\n",
       "      <td>brandnewmediums</td>\n",
       "      <td>aznidentity</td>\n",
       "      <td>eujd9dp</td>\n",
       "    </tr>\n",
       "    <tr>\n",
       "      <th>893218</th>\n",
       "      <td>brandnewmediums</td>\n",
       "      <td>aznidentity</td>\n",
       "      <td>eujctfu</td>\n",
       "    </tr>\n",
       "    <tr>\n",
       "      <th>893264</th>\n",
       "      <td>brandnewmediums</td>\n",
       "      <td>aznidentity</td>\n",
       "      <td>eu7gefa</td>\n",
       "    </tr>\n",
       "    <tr>\n",
       "      <th>893272</th>\n",
       "      <td>brandnewmediums</td>\n",
       "      <td>aznidentity</td>\n",
       "      <td>eu7egm1</td>\n",
       "    </tr>\n",
       "    <tr>\n",
       "      <th>893273</th>\n",
       "      <td>brandnewmediums</td>\n",
       "      <td>aznidentity</td>\n",
       "      <td>eu7eczu</td>\n",
       "    </tr>\n",
       "    <tr>\n",
       "      <th>893274</th>\n",
       "      <td>brandnewmediums</td>\n",
       "      <td>aznidentity</td>\n",
       "      <td>eu7dlek</td>\n",
       "    </tr>\n",
       "    <tr>\n",
       "      <th>893275</th>\n",
       "      <td>brandnewmediums</td>\n",
       "      <td>aznidentity</td>\n",
       "      <td>eu7dj70</td>\n",
       "    </tr>\n",
       "    <tr>\n",
       "      <th>893276</th>\n",
       "      <td>brandnewmediums</td>\n",
       "      <td>aznidentity</td>\n",
       "      <td>eu7dguf</td>\n",
       "    </tr>\n",
       "    <tr>\n",
       "      <th>893277</th>\n",
       "      <td>brandnewmediums</td>\n",
       "      <td>aznidentity</td>\n",
       "      <td>eu7dabo</td>\n",
       "    </tr>\n",
       "    <tr>\n",
       "      <th>893278</th>\n",
       "      <td>brandnewmediums</td>\n",
       "      <td>aznidentity</td>\n",
       "      <td>eu7cywe</td>\n",
       "    </tr>\n",
       "    <tr>\n",
       "      <th>893279</th>\n",
       "      <td>brandnewmediums</td>\n",
       "      <td>aznidentity</td>\n",
       "      <td>eu7cm8h</td>\n",
       "    </tr>\n",
       "    <tr>\n",
       "      <th>893280</th>\n",
       "      <td>brandnewmediums</td>\n",
       "      <td>aznidentity</td>\n",
       "      <td>eu7cl91</td>\n",
       "    </tr>\n",
       "    <tr>\n",
       "      <th>893281</th>\n",
       "      <td>brandnewmediums</td>\n",
       "      <td>aznidentity</td>\n",
       "      <td>eu7ck5r</td>\n",
       "    </tr>\n",
       "    <tr>\n",
       "      <th>893282</th>\n",
       "      <td>brandnewmediums</td>\n",
       "      <td>aznidentity</td>\n",
       "      <td>eu7cetu</td>\n",
       "    </tr>\n",
       "    <tr>\n",
       "      <th>939843</th>\n",
       "      <td>Peripateticness</td>\n",
       "      <td>aznidentity</td>\n",
       "      <td>eve63is</td>\n",
       "    </tr>\n",
       "    <tr>\n",
       "      <th>939844</th>\n",
       "      <td>Peripateticness</td>\n",
       "      <td>aznidentity</td>\n",
       "      <td>eve607g</td>\n",
       "    </tr>\n",
       "    <tr>\n",
       "      <th>939851</th>\n",
       "      <td>Peripateticness</td>\n",
       "      <td>aznidentity</td>\n",
       "      <td>eve3fyt</td>\n",
       "    </tr>\n",
       "    <tr>\n",
       "      <th>940246</th>\n",
       "      <td>Peripateticness</td>\n",
       "      <td>aznidentity</td>\n",
       "      <td>esodsf1</td>\n",
       "    </tr>\n",
       "  </tbody>\n",
       "</table>\n",
       "<p>983 rows × 3 columns</p>\n",
       "</div>"
      ],
      "text/plain": [
       "                    Author    Subreddit  Post ID\n",
       "9417        DazzJuggernaut  aznidentity  egy1zsu\n",
       "9418        DazzJuggernaut  aznidentity  egxzsww\n",
       "9421        DazzJuggernaut  aznidentity  efn67si\n",
       "9422        DazzJuggernaut  aznidentity  efn5bdv\n",
       "9423        DazzJuggernaut  aznidentity  efn3f2r\n",
       "9429        DazzJuggernaut  aznidentity  ee90j15\n",
       "17845          JivingMango  aznidentity  ejvqxw3\n",
       "130070        bobbychan193  aznidentity  es5i5kr\n",
       "130074        bobbychan193  aznidentity  eqkgury\n",
       "130075        bobbychan193  aznidentity  epy8nws\n",
       "136598            edwin177  aznidentity  evqgr08\n",
       "136609            edwin177  aznidentity  evmb5dx\n",
       "161017  disposable_me_0001  aznidentity  ew4v6lb\n",
       "161066  disposable_me_0001  aznidentity  evt7ncq\n",
       "161071  disposable_me_0001  aznidentity  evrizyl\n",
       "161087  disposable_me_0001  aznidentity  evp7eiu\n",
       "161093  disposable_me_0001  aznidentity  evnwm82\n",
       "161123  disposable_me_0001  aznidentity  euglvzm\n",
       "161124  disposable_me_0001  aznidentity  euf50n0\n",
       "161125  disposable_me_0001  aznidentity  euf4bco\n",
       "161129  disposable_me_0001  aznidentity  eucvvta\n",
       "161132  disposable_me_0001  aznidentity  eucfofh\n",
       "161142  disposable_me_0001  aznidentity  eu74cnp\n",
       "161150  disposable_me_0001  aznidentity  etpn2bi\n",
       "161153  disposable_me_0001  aznidentity  etp47ab\n",
       "161160  disposable_me_0001  aznidentity  et5fn18\n",
       "161166  disposable_me_0001  aznidentity  esznh06\n",
       "161169  disposable_me_0001  aznidentity  esyuvxw\n",
       "161177  disposable_me_0001  aznidentity  esg4y96\n",
       "161194  disposable_me_0001  aznidentity  esf210m\n",
       "...                    ...          ...      ...\n",
       "893118     brandnewmediums  aznidentity  ev8y9dp\n",
       "893119     brandnewmediums  aznidentity  ev8xzsa\n",
       "893120     brandnewmediums  aznidentity  ev8xwsh\n",
       "893121     brandnewmediums  aznidentity  ev8xoza\n",
       "893131     brandnewmediums  aznidentity  ev41dqw\n",
       "893132     brandnewmediums  aznidentity  ev41c4x\n",
       "893133     brandnewmediums  aznidentity  ev40v28\n",
       "893134     brandnewmediums  aznidentity  ev40m71\n",
       "893135     brandnewmediums  aznidentity  ev40i0z\n",
       "893143     brandnewmediums  aznidentity  ev0s20u\n",
       "893144     brandnewmediums  aznidentity  ev0s0jy\n",
       "893148     brandnewmediums  aznidentity  ev0qshb\n",
       "893217     brandnewmediums  aznidentity  eujd9dp\n",
       "893218     brandnewmediums  aznidentity  eujctfu\n",
       "893264     brandnewmediums  aznidentity  eu7gefa\n",
       "893272     brandnewmediums  aznidentity  eu7egm1\n",
       "893273     brandnewmediums  aznidentity  eu7eczu\n",
       "893274     brandnewmediums  aznidentity  eu7dlek\n",
       "893275     brandnewmediums  aznidentity  eu7dj70\n",
       "893276     brandnewmediums  aznidentity  eu7dguf\n",
       "893277     brandnewmediums  aznidentity  eu7dabo\n",
       "893278     brandnewmediums  aznidentity  eu7cywe\n",
       "893279     brandnewmediums  aznidentity  eu7cm8h\n",
       "893280     brandnewmediums  aznidentity  eu7cl91\n",
       "893281     brandnewmediums  aznidentity  eu7ck5r\n",
       "893282     brandnewmediums  aznidentity  eu7cetu\n",
       "939843     Peripateticness  aznidentity  eve63is\n",
       "939844     Peripateticness  aznidentity  eve607g\n",
       "939851     Peripateticness  aznidentity  eve3fyt\n",
       "940246     Peripateticness  aznidentity  esodsf1\n",
       "\n",
       "[983 rows x 3 columns]"
      ]
     },
     "execution_count": 17,
     "metadata": {},
     "output_type": "execute_result"
    }
   ],
   "source": [
    "df[df['Subreddit']=='aznidentity']"
   ]
  },
  {
   "cell_type": "code",
   "execution_count": null,
   "metadata": {},
   "outputs": [],
   "source": []
  },
  {
   "cell_type": "code",
   "execution_count": null,
   "metadata": {},
   "outputs": [],
   "source": []
  },
  {
   "cell_type": "code",
   "execution_count": null,
   "metadata": {},
   "outputs": [],
   "source": []
  },
  {
   "cell_type": "code",
   "execution_count": null,
   "metadata": {},
   "outputs": [],
   "source": []
  },
  {
   "cell_type": "code",
   "execution_count": 49,
   "metadata": {},
   "outputs": [],
   "source": [
    "subs = ['politics',\n",
    " 'YangForPresidentHQ',\n",
    " 'SandersForPresident',\n",
    " 'AskReddit',\n",
    " 'Pete_Buttigieg',\n",
    " 'teenagers',\n",
    " 'CanadaPolitics',\n",
    " 'nba',\n",
    " 'exmormon',\n",
    " 'redsox']"
   ]
  },
  {
   "cell_type": "code",
   "execution_count": 47,
   "metadata": {},
   "outputs": [
    {
     "data": {
      "text/plain": [
       "Author       happy-gofuckyourself\n",
       "Subreddit          Pete_Buttigieg\n",
       "Post ID                   ew5atrk\n",
       "Name: 0, dtype: object"
      ]
     },
     "execution_count": 47,
     "metadata": {},
     "output_type": "execute_result"
    }
   ],
   "source": [
    "df.loc[0]"
   ]
  },
  {
   "cell_type": "code",
   "execution_count": 46,
   "metadata": {},
   "outputs": [],
   "source": [
    "du = {}"
   ]
  },
  {
   "cell_type": "code",
   "execution_count": 45,
   "metadata": {},
   "outputs": [
    {
     "ename": "SyntaxError",
     "evalue": "invalid syntax (<ipython-input-45-b191181204b0>, line 3)",
     "output_type": "error",
     "traceback": [
      "\u001b[0;36m  File \u001b[0;32m\"<ipython-input-45-b191181204b0>\"\u001b[0;36m, line \u001b[0;32m3\u001b[0m\n\u001b[0;31m    if du.get('Author')\u001b[0m\n\u001b[0m                       ^\u001b[0m\n\u001b[0;31mSyntaxError\u001b[0m\u001b[0;31m:\u001b[0m invalid syntax\n"
     ]
    }
   ],
   "source": [
    "\n",
    "for i in range(len(df)):\n",
    "    if du.get(df.loc[i,'Author'],'None') == None:\n",
    "        idu = {}\n",
    "        idu[df.loc[i,'Subreddit']] = 1\n",
    "        du[df.loc[i,'Author']]=idu\n",
    "    else:\n",
    "        if du[df.loc[i,'Author']]"
   ]
  },
  {
   "cell_type": "code",
   "execution_count": 44,
   "metadata": {},
   "outputs": [
    {
     "data": {
      "text/plain": [
       "51905"
      ]
     },
     "execution_count": 44,
     "metadata": {},
     "output_type": "execute_result"
    }
   ],
   "source": [
    "subs = ['politics',\n",
    " 'YangForPresidentHQ',\n",
    " 'SandersForPresident',\n",
    " 'AskReddit',\n",
    " 'Pete_Buttigieg',\n",
    " 'teenagers',\n",
    " 'CanadaPolitics',\n",
    " 'nba',\n",
    " 'exmormon',\n",
    " 'redsox']\n",
    "\n",
    "outer_dict = {}\n",
    "for user in short_list:\n",
    "    dict_sub = {}\n",
    "    for comment in user.comments.new(limit=1000):\n",
    "        if comment.subreddit.display_name in subs:\n",
    "            if dict_sub.get(comment.subreddit.display_name,0) == 0:\n",
    "                dict_sub[comment.subreddit.display_name] = 1\n",
    "            else:\n",
    "                dict_sub[comment.subreddit.display_name] += 1\n",
    "    outer_dict[user] = dict_sub\n",
    "    print(f'finished {user}')\n"
   ]
  },
  {
   "cell_type": "code",
   "execution_count": null,
   "metadata": {},
   "outputs": [],
   "source": []
  },
  {
   "cell_type": "code",
   "execution_count": null,
   "metadata": {},
   "outputs": [],
   "source": []
  },
  {
   "cell_type": "code",
   "execution_count": null,
   "metadata": {},
   "outputs": [],
   "source": []
  },
  {
   "cell_type": "code",
   "execution_count": 17,
   "metadata": {},
   "outputs": [
    {
     "data": {
      "text/plain": [
       "YangForPresidentHQ     27968\n",
       "politics                6416\n",
       "AskReddit               5954\n",
       "worldnews               1817\n",
       "nfl                     1653\n",
       "unpopularopinion        1310\n",
       "nba                     1284\n",
       "teenagers               1248\n",
       "news                    1187\n",
       "funny                   1143\n",
       "wallstreetbets          1113\n",
       "SandersForPresident     1064\n",
       "pics                     961\n",
       "CFB                      913\n",
       "Logic_301                823\n",
       "MMA                      794\n",
       "teslamotors              786\n",
       "videos                   783\n",
       "exmormon                 763\n",
       "fantasyfootball          756\n",
       "Futurology               727\n",
       "freefolk                 726\n",
       "smashbros                723\n",
       "TheLastAirbender         716\n",
       "todayilearned            684\n",
       "ApplyingToCollege        676\n",
       "gameofthrones            662\n",
       "stlouisblues             636\n",
       "eos                      628\n",
       "GlobalOffensive          594\n",
       "PoliticalHumor           593\n",
       "marvelstudios            588\n",
       "gaming                   575\n",
       "asoiaf                   573\n",
       "AmItheAsshole            572\n",
       "ethtrader                559\n",
       "memes                    547\n",
       "kings                    539\n",
       "NintendoSwitch           538\n",
       "heroesofthestorm         534\n",
       "BasicIncome              527\n",
       "survivor                 514\n",
       "Showerthoughts           492\n",
       "WorldOfWarships          469\n",
       "writing                  464\n",
       "tennis                   455\n",
       "changemyview             447\n",
       "investing                446\n",
       "Libertarian              440\n",
       "Bitcoin                  429\n",
       "Name: Subreddit, dtype: int64"
      ]
     },
     "execution_count": 17,
     "metadata": {},
     "output_type": "execute_result"
    }
   ],
   "source": [
    "df['Subreddit'].value_counts(ascending=False).head(50)"
   ]
  },
  {
   "cell_type": "code",
   "execution_count": null,
   "metadata": {},
   "outputs": [],
   "source": []
  }
 ],
 "metadata": {
  "kernelspec": {
   "display_name": "Python 3",
   "language": "python",
   "name": "python3"
  },
  "language_info": {
   "codemirror_mode": {
    "name": "ipython",
    "version": 3
   },
   "file_extension": ".py",
   "mimetype": "text/x-python",
   "name": "python",
   "nbconvert_exporter": "python",
   "pygments_lexer": "ipython3",
   "version": "3.7.3"
  }
 },
 "nbformat": 4,
 "nbformat_minor": 2
}
