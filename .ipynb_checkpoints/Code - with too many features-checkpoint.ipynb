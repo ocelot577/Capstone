{
 "cells": [
  {
   "cell_type": "code",
   "execution_count": 1,
   "metadata": {},
   "outputs": [],
   "source": [
    "import pandas as pd"
   ]
  },
  {
   "cell_type": "code",
   "execution_count": 2,
   "metadata": {},
   "outputs": [],
   "source": [
    "df = pd.read_csv('full_scrape_1.csv')"
   ]
  },
  {
   "cell_type": "code",
   "execution_count": 3,
   "metadata": {},
   "outputs": [
    {
     "data": {
      "text/plain": [
       "(1024524, 4)"
      ]
     },
     "execution_count": 3,
     "metadata": {},
     "output_type": "execute_result"
    }
   ],
   "source": [
    "df.shape"
   ]
  },
  {
   "cell_type": "code",
   "execution_count": 4,
   "metadata": {},
   "outputs": [
    {
     "data": {
      "text/html": [
       "<div>\n",
       "<style scoped>\n",
       "    .dataframe tbody tr th:only-of-type {\n",
       "        vertical-align: middle;\n",
       "    }\n",
       "\n",
       "    .dataframe tbody tr th {\n",
       "        vertical-align: top;\n",
       "    }\n",
       "\n",
       "    .dataframe thead th {\n",
       "        text-align: right;\n",
       "    }\n",
       "</style>\n",
       "<table border=\"1\" class=\"dataframe\">\n",
       "  <thead>\n",
       "    <tr style=\"text-align: right;\">\n",
       "      <th></th>\n",
       "      <th>Comment Text</th>\n",
       "      <th>Author</th>\n",
       "      <th>Subreddit</th>\n",
       "      <th>Post ID</th>\n",
       "    </tr>\n",
       "  </thead>\n",
       "  <tbody>\n",
       "    <tr>\n",
       "      <th>0</th>\n",
       "      <td>Just curious, but what triggered your feelings...</td>\n",
       "      <td>PDXorax</td>\n",
       "      <td>YangForPresidentHQ</td>\n",
       "      <td>ew5ohva</td>\n",
       "    </tr>\n",
       "    <tr>\n",
       "      <th>1</th>\n",
       "      <td>Christmas time put up a light-up Yang sign!</td>\n",
       "      <td>PDXorax</td>\n",
       "      <td>YangForPresidentHQ</td>\n",
       "      <td>ew5o8vv</td>\n",
       "    </tr>\n",
       "    <tr>\n",
       "      <th>2</th>\n",
       "      <td>During the general election, get in contact wi...</td>\n",
       "      <td>PDXorax</td>\n",
       "      <td>YangForPresidentHQ</td>\n",
       "      <td>ew42bdx</td>\n",
       "    </tr>\n",
       "    <tr>\n",
       "      <th>3</th>\n",
       "      <td>We need to understand as a country, that the m...</td>\n",
       "      <td>PDXorax</td>\n",
       "      <td>YangForPresidentHQ</td>\n",
       "      <td>evva7l8</td>\n",
       "    </tr>\n",
       "    <tr>\n",
       "      <th>4</th>\n",
       "      <td>Part of the reason for this, is because we nee...</td>\n",
       "      <td>PDXorax</td>\n",
       "      <td>YangForPresidentHQ</td>\n",
       "      <td>evoo179</td>\n",
       "    </tr>\n",
       "  </tbody>\n",
       "</table>\n",
       "</div>"
      ],
      "text/plain": [
       "                                        Comment Text   Author  \\\n",
       "0  Just curious, but what triggered your feelings...  PDXorax   \n",
       "1        Christmas time put up a light-up Yang sign!  PDXorax   \n",
       "2  During the general election, get in contact wi...  PDXorax   \n",
       "3  We need to understand as a country, that the m...  PDXorax   \n",
       "4  Part of the reason for this, is because we nee...  PDXorax   \n",
       "\n",
       "            Subreddit  Post ID  \n",
       "0  YangForPresidentHQ  ew5ohva  \n",
       "1  YangForPresidentHQ  ew5o8vv  \n",
       "2  YangForPresidentHQ  ew42bdx  \n",
       "3  YangForPresidentHQ  evva7l8  \n",
       "4  YangForPresidentHQ  evoo179  "
      ]
     },
     "execution_count": 4,
     "metadata": {},
     "output_type": "execute_result"
    }
   ],
   "source": [
    "df.head()"
   ]
  },
  {
   "cell_type": "code",
   "execution_count": 5,
   "metadata": {},
   "outputs": [
    {
     "data": {
      "text/plain": [
       "Comment Text    object\n",
       "Author          object\n",
       "Subreddit       object\n",
       "Post ID         object\n",
       "dtype: object"
      ]
     },
     "execution_count": 5,
     "metadata": {},
     "output_type": "execute_result"
    }
   ],
   "source": [
    "df.dtypes"
   ]
  },
  {
   "cell_type": "code",
   "execution_count": 6,
   "metadata": {},
   "outputs": [],
   "source": [
    "sum_series = df.groupby(['Author','Subreddit']).size()"
   ]
  },
  {
   "cell_type": "code",
   "execution_count": 7,
   "metadata": {},
   "outputs": [],
   "source": [
    "users = list(set([x for x in sum_series.index.get_level_values(0)]))"
   ]
  },
  {
   "cell_type": "code",
   "execution_count": 8,
   "metadata": {},
   "outputs": [
    {
     "data": {
      "text/plain": [
       "1682"
      ]
     },
     "execution_count": 8,
     "metadata": {},
     "output_type": "execute_result"
    }
   ],
   "source": [
    "len(users)"
   ]
  },
  {
   "cell_type": "code",
   "execution_count": 9,
   "metadata": {},
   "outputs": [],
   "source": [
    "list_of_subs = ['nba','nfl','movies','MMA','CFB','PoliticalHumor','teenagers',\n",
    "                'soccer','freefolk','gaming','hockey','Libertarian','gameofthrones','MLS',\n",
    "               ' JoeRogan','conspiracy','marvelstudios','television','asoiaf','leagueoflegends',\n",
    "                'atheism','samharris','science','fantasyfootball','Cricket','CHIBears','hiphopheads',\n",
    "                'technology','survivor','canada','Futurology','exmormon','Destiny','memes','lakers',\n",
    "                'CryptoCurrency','rupaulsdragrace','CollegeBasketball','Music','dankmemes','stupidpol',\n",
    "                'Games','FortNiteBR','BigBrother','redsox','baseball','Drama','Conservative','Economics',\n",
    "                'ClashRoyale','DestinyTheGame','europe','NintendoSwitch','IntellectualDarkWeb',\n",
    "                'askgaybros','hillaryclinton','apple','tuesday','2007scape','tulsi','Israel','torontoraptors',\n",
    "                'NASCAR','trees','HistoryMemes','TheSilphRoad','bostonceltics','Enough_AOC_Spam',\n",
    "                'PUBATTLEGROUNDS','pokemon','Brawlstars','environment','cscareerquestions','fo76',\n",
    "                'NYYankees','Android','Overwatch','aznidentity','barstoolsports','CasualUK','wholesomememes',\n",
    "                'JordanPeterson','TheLastAirbender','golf','DotA2','MkeBucks','space','collapse']"
   ]
  },
  {
   "cell_type": "code",
   "execution_count": 10,
   "metadata": {},
   "outputs": [],
   "source": [
    "features = {}\n",
    "political_dict={}\n",
    "for user in users:\n",
    "    feature_dict = {}\n",
    "    for sub in sum_series[user].index:\n",
    "        if sub in list_of_subs:\n",
    "            feature_dict[sub]=sum_series[user][sub]\n",
    "    if len(feature_dict)!=0:\n",
    "        features[user]=feature_dict\n",
    "        #create target series\n",
    "        inner_dict = {}\n",
    "        try:\n",
    "            inner_dict['yang'] = sum_series[user]['YangForPresidentHQ']\n",
    "        except:\n",
    "            inner_dict['yang'] = 0\n",
    "        try:\n",
    "            inner_dict['bernie'] = sum_series[user]['SandersForPresident']\n",
    "        except:\n",
    "            inner_dict['bernie'] = 0\n",
    "        try:\n",
    "            inner_dict['bernie'] += sum_series[user]['wayofthebern']\n",
    "        except:\n",
    "            inner_dict['bernie'] += 0\n",
    "        try:\n",
    "            inner_dict['bernie'] += sum_series[user]['Political_Revolution']\n",
    "        except:\n",
    "            inner_dict['bernie'] += 0\n",
    "        try:\n",
    "            inner_dict['pete'] = sum_series[user]['Pete_Buttigieg']\n",
    "        except:\n",
    "            inner_dict['pete'] = 0\n",
    "        try:\n",
    "            inner_dict['kamala'] = sum_series[user]['Kamala']\n",
    "        except:\n",
    "            inner_dict['kamala'] = 0\n",
    "        try:\n",
    "            inner_dict['biden'] = sum_series[user]['JoeBiden']\n",
    "        except:\n",
    "            inner_dict['biden'] = 0\n",
    "        political_dict[user]=inner_dict\n"
   ]
  },
  {
   "cell_type": "code",
   "execution_count": 11,
   "metadata": {},
   "outputs": [],
   "source": [
    "df_feature = pd.DataFrame(features).T"
   ]
  },
  {
   "cell_type": "code",
   "execution_count": 12,
   "metadata": {},
   "outputs": [],
   "source": [
    "df_target = pd.DataFrame(political_dict).T"
   ]
  },
  {
   "cell_type": "code",
   "execution_count": 13,
   "metadata": {},
   "outputs": [],
   "source": [
    "def func(row):\n",
    "    total = sum(row)\n",
    "    if (row['bernie']/total >= .8) & (row['bernie']>=4):\n",
    "        return 'bernie'\n",
    "    if (row['biden']/total >= .8) & (row['biden']>=4):\n",
    "        return 'biden'\n",
    "    if (row['kamala']/total >= .8) & (row['kamala']>=4):\n",
    "        return 'kamala'\n",
    "    if (row['pete']/total >= .8) & (row['pete']>=4):\n",
    "        return 'pete'\n",
    "    if (row['yang']/total >= .8) & (row['yang']>=4):\n",
    "        return 'yang'\n",
    "    return 'unknown'"
   ]
  },
  {
   "cell_type": "code",
   "execution_count": 14,
   "metadata": {},
   "outputs": [
    {
     "name": "stderr",
     "output_type": "stream",
     "text": [
      "/Users/yichenh/anaconda3/lib/python3.7/site-packages/ipykernel_launcher.py:3: RuntimeWarning: invalid value encountered in long_scalars\n",
      "  This is separate from the ipykernel package so we can avoid doing imports until\n",
      "/Users/yichenh/anaconda3/lib/python3.7/site-packages/ipykernel_launcher.py:5: RuntimeWarning: invalid value encountered in long_scalars\n",
      "  \"\"\"\n",
      "/Users/yichenh/anaconda3/lib/python3.7/site-packages/ipykernel_launcher.py:7: RuntimeWarning: invalid value encountered in long_scalars\n",
      "  import sys\n",
      "/Users/yichenh/anaconda3/lib/python3.7/site-packages/ipykernel_launcher.py:9: RuntimeWarning: invalid value encountered in long_scalars\n",
      "  if __name__ == '__main__':\n",
      "/Users/yichenh/anaconda3/lib/python3.7/site-packages/ipykernel_launcher.py:11: RuntimeWarning: invalid value encountered in long_scalars\n",
      "  # This is added back by InteractiveShellApp.init_path()\n"
     ]
    }
   ],
   "source": [
    "df_target['target'] = df_target.apply(func,axis=1)"
   ]
  },
  {
   "cell_type": "code",
   "execution_count": 15,
   "metadata": {},
   "outputs": [],
   "source": [
    "df_target.drop(['bernie','biden','kamala','pete','yang'],axis=1,inplace=True)"
   ]
  },
  {
   "cell_type": "code",
   "execution_count": null,
   "metadata": {},
   "outputs": [],
   "source": []
  },
  {
   "cell_type": "code",
   "execution_count": 17,
   "metadata": {},
   "outputs": [
    {
     "data": {
      "text/html": [
       "<div>\n",
       "<style scoped>\n",
       "    .dataframe tbody tr th:only-of-type {\n",
       "        vertical-align: middle;\n",
       "    }\n",
       "\n",
       "    .dataframe tbody tr th {\n",
       "        vertical-align: top;\n",
       "    }\n",
       "\n",
       "    .dataframe thead th {\n",
       "        text-align: right;\n",
       "    }\n",
       "</style>\n",
       "<table border=\"1\" class=\"dataframe\">\n",
       "  <thead>\n",
       "    <tr style=\"text-align: right;\">\n",
       "      <th></th>\n",
       "      <th>2007scape</th>\n",
       "      <th>Android</th>\n",
       "      <th>BigBrother</th>\n",
       "      <th>Brawlstars</th>\n",
       "      <th>CFB</th>\n",
       "      <th>CHIBears</th>\n",
       "      <th>CasualUK</th>\n",
       "      <th>ClashRoyale</th>\n",
       "      <th>CollegeBasketball</th>\n",
       "      <th>Conservative</th>\n",
       "      <th>...</th>\n",
       "      <th>stupidpol</th>\n",
       "      <th>survivor</th>\n",
       "      <th>technology</th>\n",
       "      <th>teenagers</th>\n",
       "      <th>television</th>\n",
       "      <th>torontoraptors</th>\n",
       "      <th>trees</th>\n",
       "      <th>tuesday</th>\n",
       "      <th>tulsi</th>\n",
       "      <th>wholesomememes</th>\n",
       "    </tr>\n",
       "  </thead>\n",
       "  <tbody>\n",
       "    <tr>\n",
       "      <th>Riptide360</th>\n",
       "      <td>NaN</td>\n",
       "      <td>NaN</td>\n",
       "      <td>NaN</td>\n",
       "      <td>NaN</td>\n",
       "      <td>NaN</td>\n",
       "      <td>NaN</td>\n",
       "      <td>NaN</td>\n",
       "      <td>NaN</td>\n",
       "      <td>NaN</td>\n",
       "      <td>NaN</td>\n",
       "      <td>...</td>\n",
       "      <td>NaN</td>\n",
       "      <td>NaN</td>\n",
       "      <td>NaN</td>\n",
       "      <td>2.0</td>\n",
       "      <td>NaN</td>\n",
       "      <td>NaN</td>\n",
       "      <td>NaN</td>\n",
       "      <td>NaN</td>\n",
       "      <td>NaN</td>\n",
       "      <td>NaN</td>\n",
       "    </tr>\n",
       "    <tr>\n",
       "      <th>Maria-Stryker</th>\n",
       "      <td>NaN</td>\n",
       "      <td>NaN</td>\n",
       "      <td>NaN</td>\n",
       "      <td>NaN</td>\n",
       "      <td>NaN</td>\n",
       "      <td>NaN</td>\n",
       "      <td>NaN</td>\n",
       "      <td>NaN</td>\n",
       "      <td>NaN</td>\n",
       "      <td>NaN</td>\n",
       "      <td>...</td>\n",
       "      <td>NaN</td>\n",
       "      <td>NaN</td>\n",
       "      <td>NaN</td>\n",
       "      <td>NaN</td>\n",
       "      <td>1.0</td>\n",
       "      <td>NaN</td>\n",
       "      <td>NaN</td>\n",
       "      <td>NaN</td>\n",
       "      <td>NaN</td>\n",
       "      <td>1.0</td>\n",
       "    </tr>\n",
       "    <tr>\n",
       "      <th>Shootypatootie</th>\n",
       "      <td>NaN</td>\n",
       "      <td>NaN</td>\n",
       "      <td>NaN</td>\n",
       "      <td>NaN</td>\n",
       "      <td>NaN</td>\n",
       "      <td>NaN</td>\n",
       "      <td>NaN</td>\n",
       "      <td>NaN</td>\n",
       "      <td>NaN</td>\n",
       "      <td>NaN</td>\n",
       "      <td>...</td>\n",
       "      <td>NaN</td>\n",
       "      <td>NaN</td>\n",
       "      <td>NaN</td>\n",
       "      <td>2.0</td>\n",
       "      <td>NaN</td>\n",
       "      <td>NaN</td>\n",
       "      <td>NaN</td>\n",
       "      <td>NaN</td>\n",
       "      <td>NaN</td>\n",
       "      <td>NaN</td>\n",
       "    </tr>\n",
       "    <tr>\n",
       "      <th>Existential_Dreadd</th>\n",
       "      <td>NaN</td>\n",
       "      <td>NaN</td>\n",
       "      <td>NaN</td>\n",
       "      <td>NaN</td>\n",
       "      <td>NaN</td>\n",
       "      <td>NaN</td>\n",
       "      <td>NaN</td>\n",
       "      <td>NaN</td>\n",
       "      <td>NaN</td>\n",
       "      <td>2.0</td>\n",
       "      <td>...</td>\n",
       "      <td>NaN</td>\n",
       "      <td>NaN</td>\n",
       "      <td>NaN</td>\n",
       "      <td>2.0</td>\n",
       "      <td>1.0</td>\n",
       "      <td>NaN</td>\n",
       "      <td>NaN</td>\n",
       "      <td>NaN</td>\n",
       "      <td>NaN</td>\n",
       "      <td>NaN</td>\n",
       "    </tr>\n",
       "    <tr>\n",
       "      <th>BRANDON96239</th>\n",
       "      <td>29.0</td>\n",
       "      <td>NaN</td>\n",
       "      <td>NaN</td>\n",
       "      <td>10.0</td>\n",
       "      <td>NaN</td>\n",
       "      <td>NaN</td>\n",
       "      <td>NaN</td>\n",
       "      <td>32.0</td>\n",
       "      <td>NaN</td>\n",
       "      <td>1.0</td>\n",
       "      <td>...</td>\n",
       "      <td>NaN</td>\n",
       "      <td>NaN</td>\n",
       "      <td>NaN</td>\n",
       "      <td>NaN</td>\n",
       "      <td>NaN</td>\n",
       "      <td>NaN</td>\n",
       "      <td>NaN</td>\n",
       "      <td>NaN</td>\n",
       "      <td>NaN</td>\n",
       "      <td>6.0</td>\n",
       "    </tr>\n",
       "  </tbody>\n",
       "</table>\n",
       "<p>5 rows × 87 columns</p>\n",
       "</div>"
      ],
      "text/plain": [
       "                    2007scape  Android  BigBrother  Brawlstars  CFB  CHIBears  \\\n",
       "Riptide360                NaN      NaN         NaN         NaN  NaN       NaN   \n",
       "Maria-Stryker             NaN      NaN         NaN         NaN  NaN       NaN   \n",
       "Shootypatootie            NaN      NaN         NaN         NaN  NaN       NaN   \n",
       "Existential_Dreadd        NaN      NaN         NaN         NaN  NaN       NaN   \n",
       "BRANDON96239             29.0      NaN         NaN        10.0  NaN       NaN   \n",
       "\n",
       "                    CasualUK  ClashRoyale  CollegeBasketball  Conservative  \\\n",
       "Riptide360               NaN          NaN                NaN           NaN   \n",
       "Maria-Stryker            NaN          NaN                NaN           NaN   \n",
       "Shootypatootie           NaN          NaN                NaN           NaN   \n",
       "Existential_Dreadd       NaN          NaN                NaN           2.0   \n",
       "BRANDON96239             NaN         32.0                NaN           1.0   \n",
       "\n",
       "                    ...  stupidpol  survivor  technology  teenagers  \\\n",
       "Riptide360          ...        NaN       NaN         NaN        2.0   \n",
       "Maria-Stryker       ...        NaN       NaN         NaN        NaN   \n",
       "Shootypatootie      ...        NaN       NaN         NaN        2.0   \n",
       "Existential_Dreadd  ...        NaN       NaN         NaN        2.0   \n",
       "BRANDON96239        ...        NaN       NaN         NaN        NaN   \n",
       "\n",
       "                    television  torontoraptors  trees  tuesday  tulsi  \\\n",
       "Riptide360                 NaN             NaN    NaN      NaN    NaN   \n",
       "Maria-Stryker              1.0             NaN    NaN      NaN    NaN   \n",
       "Shootypatootie             NaN             NaN    NaN      NaN    NaN   \n",
       "Existential_Dreadd         1.0             NaN    NaN      NaN    NaN   \n",
       "BRANDON96239               NaN             NaN    NaN      NaN    NaN   \n",
       "\n",
       "                    wholesomememes  \n",
       "Riptide360                     NaN  \n",
       "Maria-Stryker                  1.0  \n",
       "Shootypatootie                 NaN  \n",
       "Existential_Dreadd             NaN  \n",
       "BRANDON96239                   6.0  \n",
       "\n",
       "[5 rows x 87 columns]"
      ]
     },
     "execution_count": 17,
     "metadata": {},
     "output_type": "execute_result"
    }
   ],
   "source": [
    "df_feature.head()"
   ]
  },
  {
   "cell_type": "code",
   "execution_count": 18,
   "metadata": {},
   "outputs": [],
   "source": [
    "df_feature.fillna(0,inplace=True)"
   ]
  },
  {
   "cell_type": "code",
   "execution_count": 19,
   "metadata": {},
   "outputs": [],
   "source": [
    "#add code to combine like minded subs\n",
    "df_feature['got']=df_feature['gameofthrones']+df_feature['asoiaf']+df_feature['freefolk']\n",
    "df_feature['soccer_comb']=df_feature['MLS']+df_feature['soccer']\n",
    "df_feature['football']=df_feature['nfl']+df_feature['CFB']+df_feature['CHIBears']\n",
    "df_feature['bball']=df_feature['nba']+df_feature['lakers']+df_feature['CollegeBasketball']+\\\n",
    "    df_feature['torontoraptors']+df_feature['bostonceltics']+df_feature['MkeBucks']\n",
    "df_feature['baseball_comb']=df_feature['baseball']+df_feature['redsox']+df_feature['NYYankees']\n",
    "df_feature['conservative_comb']=df_feature['Conservative']+df_feature['tuesday']\n",
    "df_feature['games_comb']=df_feature['gaming']+df_feature['Games']\n",
    "df_feature['memes_comb']=df_feature['memes']+df_feature['dankmemes']+df_feature['HistoryMemes']+df_feature['wholesomememes']\n",
    "df_feature['pokemon_comb']=df_feature['TheSilphRoad']+df_feature['pokemon']"
   ]
  },
  {
   "cell_type": "code",
   "execution_count": 20,
   "metadata": {},
   "outputs": [],
   "source": [
    "#remove above single subs\n",
    "df_feature.drop(['redsox','baseball','NYYankees','nba','lakers','CollegeBasketball','torontoraptors','bostonceltics',\n",
    "                 'MkeBucks','Conservative','tuesday','nfl','CFB','CHIBears','gaming','Games','freefolk','gameofthrones',\n",
    "                 'asoiaf','memes','dankmemes','HistoryMemes','wholesomememes','TheSilphRoad','pokemon','soccer',\n",
    "                 'MLS'],axis=1,inplace=True)"
   ]
  },
  {
   "cell_type": "code",
   "execution_count": 21,
   "metadata": {},
   "outputs": [],
   "source": [
    "df_feature = df_feature.div(df_feature.sum(axis=1), axis=0)"
   ]
  },
  {
   "cell_type": "code",
   "execution_count": 22,
   "metadata": {},
   "outputs": [
    {
     "data": {
      "text/html": [
       "<div>\n",
       "<style scoped>\n",
       "    .dataframe tbody tr th:only-of-type {\n",
       "        vertical-align: middle;\n",
       "    }\n",
       "\n",
       "    .dataframe tbody tr th {\n",
       "        vertical-align: top;\n",
       "    }\n",
       "\n",
       "    .dataframe thead th {\n",
       "        text-align: right;\n",
       "    }\n",
       "</style>\n",
       "<table border=\"1\" class=\"dataframe\">\n",
       "  <thead>\n",
       "    <tr style=\"text-align: right;\">\n",
       "      <th></th>\n",
       "      <th>2007scape</th>\n",
       "      <th>Android</th>\n",
       "      <th>BigBrother</th>\n",
       "      <th>Brawlstars</th>\n",
       "      <th>CasualUK</th>\n",
       "      <th>ClashRoyale</th>\n",
       "      <th>Cricket</th>\n",
       "      <th>CryptoCurrency</th>\n",
       "      <th>Destiny</th>\n",
       "      <th>DestinyTheGame</th>\n",
       "      <th>...</th>\n",
       "      <th>tulsi</th>\n",
       "      <th>got</th>\n",
       "      <th>soccer_comb</th>\n",
       "      <th>football</th>\n",
       "      <th>bball</th>\n",
       "      <th>baseball_comb</th>\n",
       "      <th>conservative_comb</th>\n",
       "      <th>games_comb</th>\n",
       "      <th>memes_comb</th>\n",
       "      <th>pokemon_comb</th>\n",
       "    </tr>\n",
       "  </thead>\n",
       "  <tbody>\n",
       "    <tr>\n",
       "      <th>Riptide360</th>\n",
       "      <td>0.000000</td>\n",
       "      <td>0.000000</td>\n",
       "      <td>0.0</td>\n",
       "      <td>0.000000</td>\n",
       "      <td>0.0</td>\n",
       "      <td>0.000000</td>\n",
       "      <td>0.0</td>\n",
       "      <td>0.0</td>\n",
       "      <td>0.0</td>\n",
       "      <td>0.0</td>\n",
       "      <td>...</td>\n",
       "      <td>0.0</td>\n",
       "      <td>0.000000</td>\n",
       "      <td>0.000000</td>\n",
       "      <td>0.000000</td>\n",
       "      <td>0.000000</td>\n",
       "      <td>0.0</td>\n",
       "      <td>0.000000</td>\n",
       "      <td>0.000000</td>\n",
       "      <td>0.000000</td>\n",
       "      <td>0.000000</td>\n",
       "    </tr>\n",
       "    <tr>\n",
       "      <th>Maria-Stryker</th>\n",
       "      <td>0.000000</td>\n",
       "      <td>0.000000</td>\n",
       "      <td>0.0</td>\n",
       "      <td>0.000000</td>\n",
       "      <td>0.0</td>\n",
       "      <td>0.000000</td>\n",
       "      <td>0.0</td>\n",
       "      <td>0.0</td>\n",
       "      <td>0.0</td>\n",
       "      <td>0.0</td>\n",
       "      <td>...</td>\n",
       "      <td>0.0</td>\n",
       "      <td>0.142857</td>\n",
       "      <td>0.000000</td>\n",
       "      <td>0.000000</td>\n",
       "      <td>0.000000</td>\n",
       "      <td>0.0</td>\n",
       "      <td>0.000000</td>\n",
       "      <td>0.000000</td>\n",
       "      <td>0.071429</td>\n",
       "      <td>0.000000</td>\n",
       "    </tr>\n",
       "    <tr>\n",
       "      <th>Shootypatootie</th>\n",
       "      <td>0.000000</td>\n",
       "      <td>0.000000</td>\n",
       "      <td>0.0</td>\n",
       "      <td>0.000000</td>\n",
       "      <td>0.0</td>\n",
       "      <td>0.000000</td>\n",
       "      <td>0.0</td>\n",
       "      <td>0.0</td>\n",
       "      <td>0.0</td>\n",
       "      <td>0.0</td>\n",
       "      <td>...</td>\n",
       "      <td>0.0</td>\n",
       "      <td>0.000000</td>\n",
       "      <td>0.000000</td>\n",
       "      <td>0.000000</td>\n",
       "      <td>0.000000</td>\n",
       "      <td>0.0</td>\n",
       "      <td>0.000000</td>\n",
       "      <td>0.041667</td>\n",
       "      <td>0.020833</td>\n",
       "      <td>0.000000</td>\n",
       "    </tr>\n",
       "    <tr>\n",
       "      <th>Existential_Dreadd</th>\n",
       "      <td>0.000000</td>\n",
       "      <td>0.000000</td>\n",
       "      <td>0.0</td>\n",
       "      <td>0.000000</td>\n",
       "      <td>0.0</td>\n",
       "      <td>0.000000</td>\n",
       "      <td>0.0</td>\n",
       "      <td>0.0</td>\n",
       "      <td>0.0</td>\n",
       "      <td>0.0</td>\n",
       "      <td>...</td>\n",
       "      <td>0.0</td>\n",
       "      <td>0.058824</td>\n",
       "      <td>0.000000</td>\n",
       "      <td>0.000000</td>\n",
       "      <td>0.000000</td>\n",
       "      <td>0.0</td>\n",
       "      <td>0.117647</td>\n",
       "      <td>0.000000</td>\n",
       "      <td>0.000000</td>\n",
       "      <td>0.058824</td>\n",
       "    </tr>\n",
       "    <tr>\n",
       "      <th>BRANDON96239</th>\n",
       "      <td>0.322222</td>\n",
       "      <td>0.000000</td>\n",
       "      <td>0.0</td>\n",
       "      <td>0.111111</td>\n",
       "      <td>0.0</td>\n",
       "      <td>0.355556</td>\n",
       "      <td>0.0</td>\n",
       "      <td>0.0</td>\n",
       "      <td>0.0</td>\n",
       "      <td>0.0</td>\n",
       "      <td>...</td>\n",
       "      <td>0.0</td>\n",
       "      <td>0.000000</td>\n",
       "      <td>0.000000</td>\n",
       "      <td>0.000000</td>\n",
       "      <td>0.000000</td>\n",
       "      <td>0.0</td>\n",
       "      <td>0.011111</td>\n",
       "      <td>0.000000</td>\n",
       "      <td>0.088889</td>\n",
       "      <td>0.000000</td>\n",
       "    </tr>\n",
       "    <tr>\n",
       "      <th>Bulbasaur2000</th>\n",
       "      <td>0.000000</td>\n",
       "      <td>0.000000</td>\n",
       "      <td>0.0</td>\n",
       "      <td>0.000000</td>\n",
       "      <td>0.0</td>\n",
       "      <td>0.000000</td>\n",
       "      <td>0.0</td>\n",
       "      <td>0.0</td>\n",
       "      <td>0.0</td>\n",
       "      <td>0.0</td>\n",
       "      <td>...</td>\n",
       "      <td>0.0</td>\n",
       "      <td>0.000000</td>\n",
       "      <td>0.000000</td>\n",
       "      <td>0.000000</td>\n",
       "      <td>0.000000</td>\n",
       "      <td>0.0</td>\n",
       "      <td>0.000000</td>\n",
       "      <td>0.000000</td>\n",
       "      <td>0.243386</td>\n",
       "      <td>0.015873</td>\n",
       "    </tr>\n",
       "    <tr>\n",
       "      <th>minimalistboomer</th>\n",
       "      <td>0.000000</td>\n",
       "      <td>0.000000</td>\n",
       "      <td>0.0</td>\n",
       "      <td>0.000000</td>\n",
       "      <td>0.0</td>\n",
       "      <td>0.000000</td>\n",
       "      <td>0.0</td>\n",
       "      <td>0.0</td>\n",
       "      <td>0.0</td>\n",
       "      <td>0.0</td>\n",
       "      <td>...</td>\n",
       "      <td>0.0</td>\n",
       "      <td>0.000000</td>\n",
       "      <td>0.000000</td>\n",
       "      <td>0.000000</td>\n",
       "      <td>0.000000</td>\n",
       "      <td>0.0</td>\n",
       "      <td>0.000000</td>\n",
       "      <td>0.000000</td>\n",
       "      <td>0.000000</td>\n",
       "      <td>0.000000</td>\n",
       "    </tr>\n",
       "    <tr>\n",
       "      <th>daveequalscool</th>\n",
       "      <td>0.000000</td>\n",
       "      <td>0.000000</td>\n",
       "      <td>0.0</td>\n",
       "      <td>0.000000</td>\n",
       "      <td>0.0</td>\n",
       "      <td>0.000000</td>\n",
       "      <td>0.0</td>\n",
       "      <td>0.0</td>\n",
       "      <td>0.0</td>\n",
       "      <td>0.0</td>\n",
       "      <td>...</td>\n",
       "      <td>0.0</td>\n",
       "      <td>0.000000</td>\n",
       "      <td>0.000000</td>\n",
       "      <td>0.000000</td>\n",
       "      <td>0.000000</td>\n",
       "      <td>0.0</td>\n",
       "      <td>0.000000</td>\n",
       "      <td>0.181818</td>\n",
       "      <td>0.000000</td>\n",
       "      <td>0.000000</td>\n",
       "    </tr>\n",
       "    <tr>\n",
       "      <th>ToothpickInCockhole</th>\n",
       "      <td>0.000000</td>\n",
       "      <td>0.000000</td>\n",
       "      <td>0.0</td>\n",
       "      <td>0.000000</td>\n",
       "      <td>0.0</td>\n",
       "      <td>0.000000</td>\n",
       "      <td>0.0</td>\n",
       "      <td>0.0</td>\n",
       "      <td>0.0</td>\n",
       "      <td>0.0</td>\n",
       "      <td>...</td>\n",
       "      <td>0.0</td>\n",
       "      <td>0.000000</td>\n",
       "      <td>0.000000</td>\n",
       "      <td>0.000000</td>\n",
       "      <td>0.000000</td>\n",
       "      <td>0.0</td>\n",
       "      <td>0.000000</td>\n",
       "      <td>0.059701</td>\n",
       "      <td>0.044776</td>\n",
       "      <td>0.067164</td>\n",
       "    </tr>\n",
       "    <tr>\n",
       "      <th>Lolbertarian42069</th>\n",
       "      <td>0.000000</td>\n",
       "      <td>0.000000</td>\n",
       "      <td>0.0</td>\n",
       "      <td>0.000000</td>\n",
       "      <td>0.0</td>\n",
       "      <td>0.000000</td>\n",
       "      <td>0.0</td>\n",
       "      <td>0.0</td>\n",
       "      <td>0.0</td>\n",
       "      <td>0.0</td>\n",
       "      <td>...</td>\n",
       "      <td>0.0</td>\n",
       "      <td>0.179775</td>\n",
       "      <td>0.000000</td>\n",
       "      <td>0.022472</td>\n",
       "      <td>0.303371</td>\n",
       "      <td>0.0</td>\n",
       "      <td>0.000000</td>\n",
       "      <td>0.000000</td>\n",
       "      <td>0.000000</td>\n",
       "      <td>0.000000</td>\n",
       "    </tr>\n",
       "    <tr>\n",
       "      <th>enigmaticeducation</th>\n",
       "      <td>0.000000</td>\n",
       "      <td>0.000000</td>\n",
       "      <td>0.0</td>\n",
       "      <td>0.000000</td>\n",
       "      <td>0.0</td>\n",
       "      <td>0.000000</td>\n",
       "      <td>0.0</td>\n",
       "      <td>0.0</td>\n",
       "      <td>0.0</td>\n",
       "      <td>0.0</td>\n",
       "      <td>...</td>\n",
       "      <td>0.0</td>\n",
       "      <td>0.000000</td>\n",
       "      <td>0.000000</td>\n",
       "      <td>0.000000</td>\n",
       "      <td>0.000000</td>\n",
       "      <td>0.0</td>\n",
       "      <td>0.000000</td>\n",
       "      <td>0.000000</td>\n",
       "      <td>0.250000</td>\n",
       "      <td>0.000000</td>\n",
       "    </tr>\n",
       "    <tr>\n",
       "      <th>LiquidSnape</th>\n",
       "      <td>0.000000</td>\n",
       "      <td>0.000000</td>\n",
       "      <td>0.0</td>\n",
       "      <td>0.000000</td>\n",
       "      <td>0.0</td>\n",
       "      <td>0.000000</td>\n",
       "      <td>0.0</td>\n",
       "      <td>0.0</td>\n",
       "      <td>0.0</td>\n",
       "      <td>0.0</td>\n",
       "      <td>...</td>\n",
       "      <td>0.0</td>\n",
       "      <td>0.400000</td>\n",
       "      <td>0.000000</td>\n",
       "      <td>0.333333</td>\n",
       "      <td>0.000000</td>\n",
       "      <td>0.0</td>\n",
       "      <td>0.000000</td>\n",
       "      <td>0.000000</td>\n",
       "      <td>0.000000</td>\n",
       "      <td>0.000000</td>\n",
       "    </tr>\n",
       "    <tr>\n",
       "      <th>lousywriting</th>\n",
       "      <td>0.000000</td>\n",
       "      <td>0.000000</td>\n",
       "      <td>0.0</td>\n",
       "      <td>0.000000</td>\n",
       "      <td>0.0</td>\n",
       "      <td>0.000000</td>\n",
       "      <td>0.0</td>\n",
       "      <td>0.0</td>\n",
       "      <td>0.0</td>\n",
       "      <td>0.0</td>\n",
       "      <td>...</td>\n",
       "      <td>0.0</td>\n",
       "      <td>0.000000</td>\n",
       "      <td>0.000000</td>\n",
       "      <td>0.000000</td>\n",
       "      <td>0.000000</td>\n",
       "      <td>0.0</td>\n",
       "      <td>0.000000</td>\n",
       "      <td>0.125000</td>\n",
       "      <td>0.000000</td>\n",
       "      <td>0.000000</td>\n",
       "    </tr>\n",
       "    <tr>\n",
       "      <th>Wxze</th>\n",
       "      <td>0.000000</td>\n",
       "      <td>0.000000</td>\n",
       "      <td>0.0</td>\n",
       "      <td>0.000000</td>\n",
       "      <td>0.0</td>\n",
       "      <td>0.000000</td>\n",
       "      <td>0.0</td>\n",
       "      <td>0.0</td>\n",
       "      <td>0.0</td>\n",
       "      <td>0.0</td>\n",
       "      <td>...</td>\n",
       "      <td>0.0</td>\n",
       "      <td>0.000000</td>\n",
       "      <td>0.000000</td>\n",
       "      <td>0.120773</td>\n",
       "      <td>0.241546</td>\n",
       "      <td>0.0</td>\n",
       "      <td>0.000000</td>\n",
       "      <td>0.000000</td>\n",
       "      <td>0.009662</td>\n",
       "      <td>0.000000</td>\n",
       "    </tr>\n",
       "    <tr>\n",
       "      <th>Heropon1119</th>\n",
       "      <td>0.000000</td>\n",
       "      <td>0.000000</td>\n",
       "      <td>0.0</td>\n",
       "      <td>0.000000</td>\n",
       "      <td>0.0</td>\n",
       "      <td>0.000000</td>\n",
       "      <td>0.0</td>\n",
       "      <td>0.0</td>\n",
       "      <td>0.0</td>\n",
       "      <td>0.0</td>\n",
       "      <td>...</td>\n",
       "      <td>0.0</td>\n",
       "      <td>0.000000</td>\n",
       "      <td>0.000000</td>\n",
       "      <td>0.000000</td>\n",
       "      <td>0.000000</td>\n",
       "      <td>0.0</td>\n",
       "      <td>0.000000</td>\n",
       "      <td>0.000000</td>\n",
       "      <td>0.000000</td>\n",
       "      <td>1.000000</td>\n",
       "    </tr>\n",
       "    <tr>\n",
       "      <th>InhaleExhaleCry</th>\n",
       "      <td>0.000000</td>\n",
       "      <td>0.121951</td>\n",
       "      <td>0.0</td>\n",
       "      <td>0.000000</td>\n",
       "      <td>0.0</td>\n",
       "      <td>0.000000</td>\n",
       "      <td>0.0</td>\n",
       "      <td>0.0</td>\n",
       "      <td>0.0</td>\n",
       "      <td>0.0</td>\n",
       "      <td>...</td>\n",
       "      <td>0.0</td>\n",
       "      <td>0.024390</td>\n",
       "      <td>0.121951</td>\n",
       "      <td>0.048780</td>\n",
       "      <td>0.073171</td>\n",
       "      <td>0.0</td>\n",
       "      <td>0.000000</td>\n",
       "      <td>0.170732</td>\n",
       "      <td>0.048780</td>\n",
       "      <td>0.000000</td>\n",
       "    </tr>\n",
       "    <tr>\n",
       "      <th>DerHoggenCatten</th>\n",
       "      <td>0.000000</td>\n",
       "      <td>0.000000</td>\n",
       "      <td>0.0</td>\n",
       "      <td>0.000000</td>\n",
       "      <td>0.0</td>\n",
       "      <td>0.000000</td>\n",
       "      <td>0.0</td>\n",
       "      <td>0.0</td>\n",
       "      <td>0.0</td>\n",
       "      <td>0.0</td>\n",
       "      <td>...</td>\n",
       "      <td>0.0</td>\n",
       "      <td>0.000000</td>\n",
       "      <td>0.000000</td>\n",
       "      <td>0.000000</td>\n",
       "      <td>0.000000</td>\n",
       "      <td>0.0</td>\n",
       "      <td>0.000000</td>\n",
       "      <td>0.000000</td>\n",
       "      <td>0.400000</td>\n",
       "      <td>0.000000</td>\n",
       "    </tr>\n",
       "    <tr>\n",
       "      <th>Millionswilldie</th>\n",
       "      <td>0.000000</td>\n",
       "      <td>0.000000</td>\n",
       "      <td>0.0</td>\n",
       "      <td>0.000000</td>\n",
       "      <td>0.0</td>\n",
       "      <td>0.000000</td>\n",
       "      <td>0.0</td>\n",
       "      <td>0.0</td>\n",
       "      <td>0.0</td>\n",
       "      <td>0.0</td>\n",
       "      <td>...</td>\n",
       "      <td>0.0</td>\n",
       "      <td>0.000000</td>\n",
       "      <td>0.000000</td>\n",
       "      <td>0.000000</td>\n",
       "      <td>0.000000</td>\n",
       "      <td>0.0</td>\n",
       "      <td>0.000000</td>\n",
       "      <td>0.000000</td>\n",
       "      <td>0.222222</td>\n",
       "      <td>0.000000</td>\n",
       "    </tr>\n",
       "    <tr>\n",
       "      <th>ZaltyG</th>\n",
       "      <td>0.000000</td>\n",
       "      <td>0.000000</td>\n",
       "      <td>0.0</td>\n",
       "      <td>0.000000</td>\n",
       "      <td>0.0</td>\n",
       "      <td>0.000000</td>\n",
       "      <td>0.0</td>\n",
       "      <td>0.0</td>\n",
       "      <td>0.0</td>\n",
       "      <td>0.0</td>\n",
       "      <td>...</td>\n",
       "      <td>0.0</td>\n",
       "      <td>0.000000</td>\n",
       "      <td>0.000000</td>\n",
       "      <td>0.000000</td>\n",
       "      <td>0.000000</td>\n",
       "      <td>0.0</td>\n",
       "      <td>0.000000</td>\n",
       "      <td>0.000000</td>\n",
       "      <td>0.285714</td>\n",
       "      <td>0.000000</td>\n",
       "    </tr>\n",
       "    <tr>\n",
       "      <th>noapocalypse</th>\n",
       "      <td>0.000000</td>\n",
       "      <td>0.000000</td>\n",
       "      <td>0.0</td>\n",
       "      <td>0.000000</td>\n",
       "      <td>0.0</td>\n",
       "      <td>0.000000</td>\n",
       "      <td>0.0</td>\n",
       "      <td>0.0</td>\n",
       "      <td>0.0</td>\n",
       "      <td>0.0</td>\n",
       "      <td>...</td>\n",
       "      <td>0.0</td>\n",
       "      <td>0.000000</td>\n",
       "      <td>0.000000</td>\n",
       "      <td>0.000000</td>\n",
       "      <td>0.000000</td>\n",
       "      <td>0.0</td>\n",
       "      <td>0.028689</td>\n",
       "      <td>0.000000</td>\n",
       "      <td>0.000000</td>\n",
       "      <td>0.000000</td>\n",
       "    </tr>\n",
       "  </tbody>\n",
       "</table>\n",
       "<p>20 rows × 69 columns</p>\n",
       "</div>"
      ],
      "text/plain": [
       "                     2007scape   Android  BigBrother  Brawlstars  CasualUK  \\\n",
       "Riptide360            0.000000  0.000000         0.0    0.000000       0.0   \n",
       "Maria-Stryker         0.000000  0.000000         0.0    0.000000       0.0   \n",
       "Shootypatootie        0.000000  0.000000         0.0    0.000000       0.0   \n",
       "Existential_Dreadd    0.000000  0.000000         0.0    0.000000       0.0   \n",
       "BRANDON96239          0.322222  0.000000         0.0    0.111111       0.0   \n",
       "Bulbasaur2000         0.000000  0.000000         0.0    0.000000       0.0   \n",
       "minimalistboomer      0.000000  0.000000         0.0    0.000000       0.0   \n",
       "daveequalscool        0.000000  0.000000         0.0    0.000000       0.0   \n",
       "ToothpickInCockhole   0.000000  0.000000         0.0    0.000000       0.0   \n",
       "Lolbertarian42069     0.000000  0.000000         0.0    0.000000       0.0   \n",
       "enigmaticeducation    0.000000  0.000000         0.0    0.000000       0.0   \n",
       "LiquidSnape           0.000000  0.000000         0.0    0.000000       0.0   \n",
       "lousywriting          0.000000  0.000000         0.0    0.000000       0.0   \n",
       "Wxze                  0.000000  0.000000         0.0    0.000000       0.0   \n",
       "Heropon1119           0.000000  0.000000         0.0    0.000000       0.0   \n",
       "InhaleExhaleCry       0.000000  0.121951         0.0    0.000000       0.0   \n",
       "DerHoggenCatten       0.000000  0.000000         0.0    0.000000       0.0   \n",
       "Millionswilldie       0.000000  0.000000         0.0    0.000000       0.0   \n",
       "ZaltyG                0.000000  0.000000         0.0    0.000000       0.0   \n",
       "noapocalypse          0.000000  0.000000         0.0    0.000000       0.0   \n",
       "\n",
       "                     ClashRoyale  Cricket  CryptoCurrency  Destiny  \\\n",
       "Riptide360              0.000000      0.0             0.0      0.0   \n",
       "Maria-Stryker           0.000000      0.0             0.0      0.0   \n",
       "Shootypatootie          0.000000      0.0             0.0      0.0   \n",
       "Existential_Dreadd      0.000000      0.0             0.0      0.0   \n",
       "BRANDON96239            0.355556      0.0             0.0      0.0   \n",
       "Bulbasaur2000           0.000000      0.0             0.0      0.0   \n",
       "minimalistboomer        0.000000      0.0             0.0      0.0   \n",
       "daveequalscool          0.000000      0.0             0.0      0.0   \n",
       "ToothpickInCockhole     0.000000      0.0             0.0      0.0   \n",
       "Lolbertarian42069       0.000000      0.0             0.0      0.0   \n",
       "enigmaticeducation      0.000000      0.0             0.0      0.0   \n",
       "LiquidSnape             0.000000      0.0             0.0      0.0   \n",
       "lousywriting            0.000000      0.0             0.0      0.0   \n",
       "Wxze                    0.000000      0.0             0.0      0.0   \n",
       "Heropon1119             0.000000      0.0             0.0      0.0   \n",
       "InhaleExhaleCry         0.000000      0.0             0.0      0.0   \n",
       "DerHoggenCatten         0.000000      0.0             0.0      0.0   \n",
       "Millionswilldie         0.000000      0.0             0.0      0.0   \n",
       "ZaltyG                  0.000000      0.0             0.0      0.0   \n",
       "noapocalypse            0.000000      0.0             0.0      0.0   \n",
       "\n",
       "                     DestinyTheGame  ...  tulsi       got  soccer_comb  \\\n",
       "Riptide360                      0.0  ...    0.0  0.000000     0.000000   \n",
       "Maria-Stryker                   0.0  ...    0.0  0.142857     0.000000   \n",
       "Shootypatootie                  0.0  ...    0.0  0.000000     0.000000   \n",
       "Existential_Dreadd              0.0  ...    0.0  0.058824     0.000000   \n",
       "BRANDON96239                    0.0  ...    0.0  0.000000     0.000000   \n",
       "Bulbasaur2000                   0.0  ...    0.0  0.000000     0.000000   \n",
       "minimalistboomer                0.0  ...    0.0  0.000000     0.000000   \n",
       "daveequalscool                  0.0  ...    0.0  0.000000     0.000000   \n",
       "ToothpickInCockhole             0.0  ...    0.0  0.000000     0.000000   \n",
       "Lolbertarian42069               0.0  ...    0.0  0.179775     0.000000   \n",
       "enigmaticeducation              0.0  ...    0.0  0.000000     0.000000   \n",
       "LiquidSnape                     0.0  ...    0.0  0.400000     0.000000   \n",
       "lousywriting                    0.0  ...    0.0  0.000000     0.000000   \n",
       "Wxze                            0.0  ...    0.0  0.000000     0.000000   \n",
       "Heropon1119                     0.0  ...    0.0  0.000000     0.000000   \n",
       "InhaleExhaleCry                 0.0  ...    0.0  0.024390     0.121951   \n",
       "DerHoggenCatten                 0.0  ...    0.0  0.000000     0.000000   \n",
       "Millionswilldie                 0.0  ...    0.0  0.000000     0.000000   \n",
       "ZaltyG                          0.0  ...    0.0  0.000000     0.000000   \n",
       "noapocalypse                    0.0  ...    0.0  0.000000     0.000000   \n",
       "\n",
       "                     football     bball  baseball_comb  conservative_comb  \\\n",
       "Riptide360           0.000000  0.000000            0.0           0.000000   \n",
       "Maria-Stryker        0.000000  0.000000            0.0           0.000000   \n",
       "Shootypatootie       0.000000  0.000000            0.0           0.000000   \n",
       "Existential_Dreadd   0.000000  0.000000            0.0           0.117647   \n",
       "BRANDON96239         0.000000  0.000000            0.0           0.011111   \n",
       "Bulbasaur2000        0.000000  0.000000            0.0           0.000000   \n",
       "minimalistboomer     0.000000  0.000000            0.0           0.000000   \n",
       "daveequalscool       0.000000  0.000000            0.0           0.000000   \n",
       "ToothpickInCockhole  0.000000  0.000000            0.0           0.000000   \n",
       "Lolbertarian42069    0.022472  0.303371            0.0           0.000000   \n",
       "enigmaticeducation   0.000000  0.000000            0.0           0.000000   \n",
       "LiquidSnape          0.333333  0.000000            0.0           0.000000   \n",
       "lousywriting         0.000000  0.000000            0.0           0.000000   \n",
       "Wxze                 0.120773  0.241546            0.0           0.000000   \n",
       "Heropon1119          0.000000  0.000000            0.0           0.000000   \n",
       "InhaleExhaleCry      0.048780  0.073171            0.0           0.000000   \n",
       "DerHoggenCatten      0.000000  0.000000            0.0           0.000000   \n",
       "Millionswilldie      0.000000  0.000000            0.0           0.000000   \n",
       "ZaltyG               0.000000  0.000000            0.0           0.000000   \n",
       "noapocalypse         0.000000  0.000000            0.0           0.028689   \n",
       "\n",
       "                     games_comb  memes_comb  pokemon_comb  \n",
       "Riptide360             0.000000    0.000000      0.000000  \n",
       "Maria-Stryker          0.000000    0.071429      0.000000  \n",
       "Shootypatootie         0.041667    0.020833      0.000000  \n",
       "Existential_Dreadd     0.000000    0.000000      0.058824  \n",
       "BRANDON96239           0.000000    0.088889      0.000000  \n",
       "Bulbasaur2000          0.000000    0.243386      0.015873  \n",
       "minimalistboomer       0.000000    0.000000      0.000000  \n",
       "daveequalscool         0.181818    0.000000      0.000000  \n",
       "ToothpickInCockhole    0.059701    0.044776      0.067164  \n",
       "Lolbertarian42069      0.000000    0.000000      0.000000  \n",
       "enigmaticeducation     0.000000    0.250000      0.000000  \n",
       "LiquidSnape            0.000000    0.000000      0.000000  \n",
       "lousywriting           0.125000    0.000000      0.000000  \n",
       "Wxze                   0.000000    0.009662      0.000000  \n",
       "Heropon1119            0.000000    0.000000      1.000000  \n",
       "InhaleExhaleCry        0.170732    0.048780      0.000000  \n",
       "DerHoggenCatten        0.000000    0.400000      0.000000  \n",
       "Millionswilldie        0.000000    0.222222      0.000000  \n",
       "ZaltyG                 0.000000    0.285714      0.000000  \n",
       "noapocalypse           0.000000    0.000000      0.000000  \n",
       "\n",
       "[20 rows x 69 columns]"
      ]
     },
     "execution_count": 22,
     "metadata": {},
     "output_type": "execute_result"
    }
   ],
   "source": [
    "df_feature.head(20)"
   ]
  },
  {
   "cell_type": "code",
   "execution_count": null,
   "metadata": {},
   "outputs": [],
   "source": [
    "\n",
    "    "
   ]
  },
  {
   "cell_type": "code",
   "execution_count": null,
   "metadata": {},
   "outputs": [],
   "source": []
  },
  {
   "cell_type": "code",
   "execution_count": 23,
   "metadata": {},
   "outputs": [],
   "source": [
    "df = pd.concat([df_feature,df_target],axis=1)"
   ]
  },
  {
   "cell_type": "code",
   "execution_count": 24,
   "metadata": {},
   "outputs": [
    {
     "data": {
      "text/plain": [
       "(1378, 70)"
      ]
     },
     "execution_count": 24,
     "metadata": {},
     "output_type": "execute_result"
    }
   ],
   "source": [
    "df.shape"
   ]
  },
  {
   "cell_type": "code",
   "execution_count": 25,
   "metadata": {},
   "outputs": [],
   "source": [
    "df=df[df['target']!='unknown']"
   ]
  },
  {
   "cell_type": "code",
   "execution_count": 26,
   "metadata": {},
   "outputs": [
    {
     "data": {
      "text/plain": [
       "(950, 70)"
      ]
     },
     "execution_count": 26,
     "metadata": {},
     "output_type": "execute_result"
    }
   ],
   "source": [
    "df.shape"
   ]
  },
  {
   "cell_type": "code",
   "execution_count": 27,
   "metadata": {},
   "outputs": [],
   "source": [
    "X = df.drop(['target'],axis=1)"
   ]
  },
  {
   "cell_type": "code",
   "execution_count": 28,
   "metadata": {},
   "outputs": [],
   "source": [
    "y = df['target']"
   ]
  },
  {
   "cell_type": "code",
   "execution_count": 29,
   "metadata": {},
   "outputs": [
    {
     "data": {
      "text/plain": [
       "bernie    320\n",
       "yang      310\n",
       "pete      204\n",
       "kamala     64\n",
       "biden      52\n",
       "Name: target, dtype: int64"
      ]
     },
     "execution_count": 29,
     "metadata": {},
     "output_type": "execute_result"
    }
   ],
   "source": [
    "y.value_counts()"
   ]
  },
  {
   "cell_type": "code",
   "execution_count": null,
   "metadata": {},
   "outputs": [],
   "source": [
    "#removing the biden and kamala members since they're counts are really low"
   ]
  },
  {
   "cell_type": "code",
   "execution_count": 30,
   "metadata": {},
   "outputs": [],
   "source": [
    "df2 = df[(df['target']!='kamala')&(df['target']!='biden')]"
   ]
  },
  {
   "cell_type": "code",
   "execution_count": 31,
   "metadata": {},
   "outputs": [
    {
     "data": {
      "text/plain": [
       "(834, 70)"
      ]
     },
     "execution_count": 31,
     "metadata": {},
     "output_type": "execute_result"
    }
   ],
   "source": [
    "df2.shape"
   ]
  },
  {
   "cell_type": "code",
   "execution_count": 32,
   "metadata": {},
   "outputs": [],
   "source": [
    "from sklearn.model_selection import train_test_split"
   ]
  },
  {
   "cell_type": "code",
   "execution_count": 33,
   "metadata": {},
   "outputs": [],
   "source": [
    "X2 = df2.drop(['target'],axis=1)"
   ]
  },
  {
   "cell_type": "code",
   "execution_count": 34,
   "metadata": {},
   "outputs": [],
   "source": [
    "y2 = df2['target']"
   ]
  },
  {
   "cell_type": "code",
   "execution_count": 71,
   "metadata": {},
   "outputs": [],
   "source": [
    "X2_train, X2_test, y2_train, y2_test = train_test_split(X2, y2,stratify = y2, random_state=42)"
   ]
  },
  {
   "cell_type": "code",
   "execution_count": 72,
   "metadata": {},
   "outputs": [],
   "source": [
    "from sklearn.linear_model import LogisticRegression"
   ]
  },
  {
   "cell_type": "code",
   "execution_count": 73,
   "metadata": {},
   "outputs": [],
   "source": [
    "lr2 = LogisticRegression(multi_class='multinomial',solver='lbfgs')"
   ]
  },
  {
   "cell_type": "code",
   "execution_count": 74,
   "metadata": {},
   "outputs": [
    {
     "data": {
      "text/plain": [
       "LogisticRegression(C=1.0, class_weight=None, dual=False, fit_intercept=True,\n",
       "                   intercept_scaling=1, l1_ratio=None, max_iter=100,\n",
       "                   multi_class='multinomial', n_jobs=None, penalty='l2',\n",
       "                   random_state=None, solver='lbfgs', tol=0.0001, verbose=0,\n",
       "                   warm_start=False)"
      ]
     },
     "execution_count": 74,
     "metadata": {},
     "output_type": "execute_result"
    }
   ],
   "source": [
    "lr2.fit(X2_train,y2_train)"
   ]
  },
  {
   "cell_type": "code",
   "execution_count": 75,
   "metadata": {},
   "outputs": [
    {
     "data": {
      "text/plain": [
       "0.5664"
      ]
     },
     "execution_count": 75,
     "metadata": {},
     "output_type": "execute_result"
    }
   ],
   "source": [
    "lr2.score(X2_train,y2_train)"
   ]
  },
  {
   "cell_type": "code",
   "execution_count": 76,
   "metadata": {},
   "outputs": [
    {
     "data": {
      "text/plain": [
       "0.4688995215311005"
      ]
     },
     "execution_count": 76,
     "metadata": {},
     "output_type": "execute_result"
    }
   ],
   "source": [
    "lr2.score(X2_test,y2_test)"
   ]
  },
  {
   "cell_type": "code",
   "execution_count": 78,
   "metadata": {},
   "outputs": [],
   "source": [
    "results = pd.DataFrame(lr2.coef_.T,X2.columns,lr2.classes_)"
   ]
  },
  {
   "cell_type": "code",
   "execution_count": 43,
   "metadata": {},
   "outputs": [
    {
     "data": {
      "text/plain": [
       "bernie    0.383693\n",
       "yang      0.371703\n",
       "pete      0.244604\n",
       "Name: target, dtype: float64"
      ]
     },
     "execution_count": 43,
     "metadata": {},
     "output_type": "execute_result"
    }
   ],
   "source": [
    "y2.value_counts(normalize=True)"
   ]
  },
  {
   "cell_type": "code",
   "execution_count": 79,
   "metadata": {},
   "outputs": [
    {
     "data": {
      "text/html": [
       "<div>\n",
       "<style scoped>\n",
       "    .dataframe tbody tr th:only-of-type {\n",
       "        vertical-align: middle;\n",
       "    }\n",
       "\n",
       "    .dataframe tbody tr th {\n",
       "        vertical-align: top;\n",
       "    }\n",
       "\n",
       "    .dataframe thead th {\n",
       "        text-align: right;\n",
       "    }\n",
       "</style>\n",
       "<table border=\"1\" class=\"dataframe\">\n",
       "  <thead>\n",
       "    <tr style=\"text-align: right;\">\n",
       "      <th></th>\n",
       "      <th>bernie</th>\n",
       "      <th>pete</th>\n",
       "      <th>yang</th>\n",
       "    </tr>\n",
       "  </thead>\n",
       "  <tbody>\n",
       "    <tr>\n",
       "      <th>2007scape</th>\n",
       "      <td>-0.323811</td>\n",
       "      <td>-0.120893</td>\n",
       "      <td>0.444704</td>\n",
       "    </tr>\n",
       "    <tr>\n",
       "      <th>Android</th>\n",
       "      <td>0.389962</td>\n",
       "      <td>-0.393169</td>\n",
       "      <td>0.003207</td>\n",
       "    </tr>\n",
       "    <tr>\n",
       "      <th>BigBrother</th>\n",
       "      <td>0.302593</td>\n",
       "      <td>0.051681</td>\n",
       "      <td>-0.354274</td>\n",
       "    </tr>\n",
       "    <tr>\n",
       "      <th>Brawlstars</th>\n",
       "      <td>-0.259098</td>\n",
       "      <td>-0.120764</td>\n",
       "      <td>0.379862</td>\n",
       "    </tr>\n",
       "    <tr>\n",
       "      <th>CasualUK</th>\n",
       "      <td>0.064327</td>\n",
       "      <td>-0.016800</td>\n",
       "      <td>-0.047527</td>\n",
       "    </tr>\n",
       "  </tbody>\n",
       "</table>\n",
       "</div>"
      ],
      "text/plain": [
       "              bernie      pete      yang\n",
       "2007scape  -0.323811 -0.120893  0.444704\n",
       "Android     0.389962 -0.393169  0.003207\n",
       "BigBrother  0.302593  0.051681 -0.354274\n",
       "Brawlstars -0.259098 -0.120764  0.379862\n",
       "CasualUK    0.064327 -0.016800 -0.047527"
      ]
     },
     "execution_count": 79,
     "metadata": {},
     "output_type": "execute_result"
    }
   ],
   "source": [
    "results.head()"
   ]
  },
  {
   "cell_type": "code",
   "execution_count": 80,
   "metadata": {},
   "outputs": [
    {
     "data": {
      "text/html": [
       "<div>\n",
       "<style scoped>\n",
       "    .dataframe tbody tr th:only-of-type {\n",
       "        vertical-align: middle;\n",
       "    }\n",
       "\n",
       "    .dataframe tbody tr th {\n",
       "        vertical-align: top;\n",
       "    }\n",
       "\n",
       "    .dataframe thead th {\n",
       "        text-align: right;\n",
       "    }\n",
       "</style>\n",
       "<table border=\"1\" class=\"dataframe\">\n",
       "  <thead>\n",
       "    <tr style=\"text-align: right;\">\n",
       "      <th></th>\n",
       "      <th>bernie</th>\n",
       "      <th>pete</th>\n",
       "      <th>yang</th>\n",
       "    </tr>\n",
       "  </thead>\n",
       "  <tbody>\n",
       "    <tr>\n",
       "      <th>CasualUK</th>\n",
       "      <td>0.064327</td>\n",
       "      <td>-0.016800</td>\n",
       "      <td>-0.047527</td>\n",
       "    </tr>\n",
       "    <tr>\n",
       "      <th>Cricket</th>\n",
       "      <td>0.092856</td>\n",
       "      <td>-0.054254</td>\n",
       "      <td>-0.038602</td>\n",
       "    </tr>\n",
       "    <tr>\n",
       "      <th>Drama</th>\n",
       "      <td>0.144832</td>\n",
       "      <td>-0.168839</td>\n",
       "      <td>0.024007</td>\n",
       "    </tr>\n",
       "    <tr>\n",
       "      <th>Enough_AOC_Spam</th>\n",
       "      <td>-0.064583</td>\n",
       "      <td>0.131278</td>\n",
       "      <td>-0.066695</td>\n",
       "    </tr>\n",
       "    <tr>\n",
       "      <th>Israel</th>\n",
       "      <td>0.058857</td>\n",
       "      <td>-0.032023</td>\n",
       "      <td>-0.026834</td>\n",
       "    </tr>\n",
       "    <tr>\n",
       "      <th>PUBATTLEGROUNDS</th>\n",
       "      <td>0.041911</td>\n",
       "      <td>-0.045652</td>\n",
       "      <td>0.003741</td>\n",
       "    </tr>\n",
       "    <tr>\n",
       "      <th>apple</th>\n",
       "      <td>0.074189</td>\n",
       "      <td>-0.321857</td>\n",
       "      <td>0.247667</td>\n",
       "    </tr>\n",
       "    <tr>\n",
       "      <th>cscareerquestions</th>\n",
       "      <td>-0.003420</td>\n",
       "      <td>0.157815</td>\n",
       "      <td>-0.154395</td>\n",
       "    </tr>\n",
       "    <tr>\n",
       "      <th>movies</th>\n",
       "      <td>0.219627</td>\n",
       "      <td>0.083602</td>\n",
       "      <td>-0.303229</td>\n",
       "    </tr>\n",
       "    <tr>\n",
       "      <th>science</th>\n",
       "      <td>0.066903</td>\n",
       "      <td>0.099519</td>\n",
       "      <td>-0.166422</td>\n",
       "    </tr>\n",
       "    <tr>\n",
       "      <th>bball</th>\n",
       "      <td>-0.027672</td>\n",
       "      <td>0.026225</td>\n",
       "      <td>0.001447</td>\n",
       "    </tr>\n",
       "  </tbody>\n",
       "</table>\n",
       "</div>"
      ],
      "text/plain": [
       "                     bernie      pete      yang\n",
       "CasualUK           0.064327 -0.016800 -0.047527\n",
       "Cricket            0.092856 -0.054254 -0.038602\n",
       "Drama              0.144832 -0.168839  0.024007\n",
       "Enough_AOC_Spam   -0.064583  0.131278 -0.066695\n",
       "Israel             0.058857 -0.032023 -0.026834\n",
       "PUBATTLEGROUNDS    0.041911 -0.045652  0.003741\n",
       "apple              0.074189 -0.321857  0.247667\n",
       "cscareerquestions -0.003420  0.157815 -0.154395\n",
       "movies             0.219627  0.083602 -0.303229\n",
       "science            0.066903  0.099519 -0.166422\n",
       "bball             -0.027672  0.026225  0.001447"
      ]
     },
     "execution_count": 80,
     "metadata": {},
     "output_type": "execute_result"
    }
   ],
   "source": [
    "results[(results['bernie']<.25)&(results['pete']<.25)&(results['yang']<.25)]"
   ]
  },
  {
   "cell_type": "code",
   "execution_count": null,
   "metadata": {},
   "outputs": [],
   "source": []
  },
  {
   "cell_type": "code",
   "execution_count": null,
   "metadata": {},
   "outputs": [],
   "source": [
    "#how much better are my results if I go yang and not yang"
   ]
  },
  {
   "cell_type": "code",
   "execution_count": null,
   "metadata": {},
   "outputs": [],
   "source": []
  },
  {
   "cell_type": "code",
   "execution_count": 44,
   "metadata": {},
   "outputs": [],
   "source": [
    "df3 = df2.copy()"
   ]
  },
  {
   "cell_type": "code",
   "execution_count": 45,
   "metadata": {},
   "outputs": [
    {
     "data": {
      "text/plain": [
       "(834, 70)"
      ]
     },
     "execution_count": 45,
     "metadata": {},
     "output_type": "execute_result"
    }
   ],
   "source": [
    "df3.shape"
   ]
  },
  {
   "cell_type": "code",
   "execution_count": 46,
   "metadata": {},
   "outputs": [
    {
     "data": {
      "text/plain": [
       "bernie    320\n",
       "yang      310\n",
       "pete      204\n",
       "Name: target, dtype: int64"
      ]
     },
     "execution_count": 46,
     "metadata": {},
     "output_type": "execute_result"
    }
   ],
   "source": [
    "df3['target'].value_counts()"
   ]
  },
  {
   "cell_type": "code",
   "execution_count": 47,
   "metadata": {},
   "outputs": [],
   "source": [
    "def convertdf3(text):\n",
    "    if text == 'yang':\n",
    "        return 1\n",
    "    else:\n",
    "        return 0"
   ]
  },
  {
   "cell_type": "code",
   "execution_count": 48,
   "metadata": {},
   "outputs": [],
   "source": [
    "df3['target']=df3['target'].apply(convertdf3)"
   ]
  },
  {
   "cell_type": "code",
   "execution_count": 49,
   "metadata": {},
   "outputs": [
    {
     "data": {
      "text/plain": [
       "0    524\n",
       "1    310\n",
       "Name: target, dtype: int64"
      ]
     },
     "execution_count": 49,
     "metadata": {},
     "output_type": "execute_result"
    }
   ],
   "source": [
    "df3['target'].value_counts()"
   ]
  },
  {
   "cell_type": "code",
   "execution_count": 50,
   "metadata": {},
   "outputs": [],
   "source": [
    "X3 = df3.drop(['target'],axis=1)"
   ]
  },
  {
   "cell_type": "code",
   "execution_count": 51,
   "metadata": {},
   "outputs": [],
   "source": [
    "y3 = df3['target']"
   ]
  },
  {
   "cell_type": "code",
   "execution_count": 52,
   "metadata": {},
   "outputs": [],
   "source": [
    "X3_train, X3_test, y3_train, y3_test = train_test_split(X3, y3, stratify = y3,random_state=42)"
   ]
  },
  {
   "cell_type": "code",
   "execution_count": 53,
   "metadata": {},
   "outputs": [],
   "source": [
    "lr3 = LogisticRegression()"
   ]
  },
  {
   "cell_type": "code",
   "execution_count": 54,
   "metadata": {},
   "outputs": [
    {
     "name": "stderr",
     "output_type": "stream",
     "text": [
      "/Users/yichenh/anaconda3/lib/python3.7/site-packages/sklearn/linear_model/logistic.py:432: FutureWarning: Default solver will be changed to 'lbfgs' in 0.22. Specify a solver to silence this warning.\n",
      "  FutureWarning)\n"
     ]
    },
    {
     "data": {
      "text/plain": [
       "LogisticRegression(C=1.0, class_weight=None, dual=False, fit_intercept=True,\n",
       "                   intercept_scaling=1, l1_ratio=None, max_iter=100,\n",
       "                   multi_class='warn', n_jobs=None, penalty='l2',\n",
       "                   random_state=None, solver='warn', tol=0.0001, verbose=0,\n",
       "                   warm_start=False)"
      ]
     },
     "execution_count": 54,
     "metadata": {},
     "output_type": "execute_result"
    }
   ],
   "source": [
    "lr3.fit(X3_train,y3_train)"
   ]
  },
  {
   "cell_type": "code",
   "execution_count": 55,
   "metadata": {},
   "outputs": [
    {
     "data": {
      "text/plain": [
       "0.7072"
      ]
     },
     "execution_count": 55,
     "metadata": {},
     "output_type": "execute_result"
    }
   ],
   "source": [
    "lr3.score(X3_train,y3_train)"
   ]
  },
  {
   "cell_type": "code",
   "execution_count": 56,
   "metadata": {},
   "outputs": [
    {
     "data": {
      "text/plain": [
       "0.6507177033492823"
      ]
     },
     "execution_count": 56,
     "metadata": {},
     "output_type": "execute_result"
    }
   ],
   "source": [
    "lr3.score(X3_test,y3_test)"
   ]
  },
  {
   "cell_type": "code",
   "execution_count": 57,
   "metadata": {},
   "outputs": [
    {
     "data": {
      "text/plain": [
       "0    0.628297\n",
       "1    0.371703\n",
       "Name: target, dtype: float64"
      ]
     },
     "execution_count": 57,
     "metadata": {},
     "output_type": "execute_result"
    }
   ],
   "source": [
    "y3.value_counts(normalize=True)"
   ]
  },
  {
   "cell_type": "code",
   "execution_count": 58,
   "metadata": {},
   "outputs": [],
   "source": [
    "#how about yang vs. bernie"
   ]
  },
  {
   "cell_type": "code",
   "execution_count": 59,
   "metadata": {},
   "outputs": [],
   "source": [
    "df4 = df2.copy()"
   ]
  },
  {
   "cell_type": "code",
   "execution_count": 60,
   "metadata": {},
   "outputs": [],
   "source": [
    "def convertdf4(text):\n",
    "    if text == 'yang':\n",
    "        return 1\n",
    "    elif text =='bernie':\n",
    "        return 0\n",
    "    else:\n",
    "        return 7"
   ]
  },
  {
   "cell_type": "code",
   "execution_count": 61,
   "metadata": {},
   "outputs": [],
   "source": [
    "df4['target']=df4['target'].apply(convertdf4)"
   ]
  },
  {
   "cell_type": "code",
   "execution_count": 62,
   "metadata": {},
   "outputs": [],
   "source": [
    "df4 = df4[df4['target']!=7]"
   ]
  },
  {
   "cell_type": "code",
   "execution_count": 63,
   "metadata": {},
   "outputs": [
    {
     "data": {
      "text/plain": [
       "0    320\n",
       "1    310\n",
       "Name: target, dtype: int64"
      ]
     },
     "execution_count": 63,
     "metadata": {},
     "output_type": "execute_result"
    }
   ],
   "source": [
    "df4['target'].value_counts()"
   ]
  },
  {
   "cell_type": "code",
   "execution_count": 64,
   "metadata": {},
   "outputs": [],
   "source": [
    "X4 = df4.drop(['target'],axis=1)\n",
    "y4 = df4['target']"
   ]
  },
  {
   "cell_type": "code",
   "execution_count": 65,
   "metadata": {},
   "outputs": [],
   "source": [
    "X4_train, X4_test, y4_train, y4_test = train_test_split(X4, y4, stratify = y4,random_state=42)"
   ]
  },
  {
   "cell_type": "code",
   "execution_count": 66,
   "metadata": {},
   "outputs": [],
   "source": [
    "lr4 = LogisticRegression()"
   ]
  },
  {
   "cell_type": "code",
   "execution_count": 67,
   "metadata": {},
   "outputs": [
    {
     "name": "stderr",
     "output_type": "stream",
     "text": [
      "/Users/yichenh/anaconda3/lib/python3.7/site-packages/sklearn/linear_model/logistic.py:432: FutureWarning: Default solver will be changed to 'lbfgs' in 0.22. Specify a solver to silence this warning.\n",
      "  FutureWarning)\n"
     ]
    },
    {
     "data": {
      "text/plain": [
       "LogisticRegression(C=1.0, class_weight=None, dual=False, fit_intercept=True,\n",
       "                   intercept_scaling=1, l1_ratio=None, max_iter=100,\n",
       "                   multi_class='warn', n_jobs=None, penalty='l2',\n",
       "                   random_state=None, solver='warn', tol=0.0001, verbose=0,\n",
       "                   warm_start=False)"
      ]
     },
     "execution_count": 67,
     "metadata": {},
     "output_type": "execute_result"
    }
   ],
   "source": [
    "lr4.fit(X4_train,y4_train)"
   ]
  },
  {
   "cell_type": "code",
   "execution_count": 68,
   "metadata": {},
   "outputs": [
    {
     "data": {
      "text/plain": [
       "0.6800847457627118"
      ]
     },
     "execution_count": 68,
     "metadata": {},
     "output_type": "execute_result"
    }
   ],
   "source": [
    "lr4.score(X4_train,y4_train)"
   ]
  },
  {
   "cell_type": "code",
   "execution_count": 69,
   "metadata": {},
   "outputs": [
    {
     "data": {
      "text/plain": [
       "0.6708860759493671"
      ]
     },
     "execution_count": 69,
     "metadata": {},
     "output_type": "execute_result"
    }
   ],
   "source": [
    "lr4.score(X4_test,y4_test)"
   ]
  },
  {
   "cell_type": "code",
   "execution_count": 70,
   "metadata": {},
   "outputs": [
    {
     "data": {
      "text/plain": [
       "0    0.507937\n",
       "1    0.492063\n",
       "Name: target, dtype: float64"
      ]
     },
     "execution_count": 70,
     "metadata": {},
     "output_type": "execute_result"
    }
   ],
   "source": [
    "y4.value_counts(normalize=True)"
   ]
  },
  {
   "cell_type": "code",
   "execution_count": null,
   "metadata": {},
   "outputs": [],
   "source": []
  }
 ],
 "metadata": {
  "kernelspec": {
   "display_name": "Python 3",
   "language": "python",
   "name": "python3"
  },
  "language_info": {
   "codemirror_mode": {
    "name": "ipython",
    "version": 3
   },
   "file_extension": ".py",
   "mimetype": "text/x-python",
   "name": "python",
   "nbconvert_exporter": "python",
   "pygments_lexer": "ipython3",
   "version": "3.7.3"
  }
 },
 "nbformat": 4,
 "nbformat_minor": 2
}
