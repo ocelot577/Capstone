{
 "cells": [
  {
   "cell_type": "markdown",
   "metadata": {},
   "source": [
    "Sorry, this is really rough, currently this has some initial EDA I did on the various subreddits I'm thinking of scraping as well as the backbone of a potential scraping function.\n",
    "\n",
    "Some things I need to research and/or ask about\n",
    "\n",
    "1) I'm currently thinking about saving this as a list of nested dictionaries. Need to determine if that's the best idea or not\n",
    "\n",
    "2) I'm worried I'm hitting reddit too much (1,000 comments per 5 subs) * (up to 1,000 posts per unique user). Researched that a bit and I think praw has a built in 2 sec delay so things are probably okay but probably should research a bit more and break up my scrapes\n",
    "\n",
    "3) Currently, my code gives equal weight to a comment poster but that's probably not ideal, especially since people can go onto a subreddit and comment even though they're not a supporter. Would ideally like to do something where I account for this.\n",
    "\n",
    "4) My code currently doesn't have a way to append or add more data, need to consider how I might go about doing that\n"
   ]
  },
  {
   "cell_type": "code",
   "execution_count": 1,
   "metadata": {},
   "outputs": [],
   "source": [
    "import praw\n",
    "import json\n",
    "import time\n",
    "import pandas as pd\n",
    "import sys\n",
    "import numpy as np"
   ]
  },
  {
   "cell_type": "code",
   "execution_count": 2,
   "metadata": {},
   "outputs": [
    {
     "data": {
      "text/plain": [
       "'3.7.3 (default, Mar 27 2019, 16:54:48) \\n[Clang 4.0.1 (tags/RELEASE_401/final)]'"
      ]
     },
     "execution_count": 2,
     "metadata": {},
     "output_type": "execute_result"
    }
   ],
   "source": [
    "sys.version"
   ]
  },
  {
   "cell_type": "code",
   "execution_count": 3,
   "metadata": {},
   "outputs": [
    {
     "data": {
      "text/plain": [
       "'6.3.1'"
      ]
     },
     "execution_count": 3,
     "metadata": {},
     "output_type": "execute_result"
    }
   ],
   "source": [
    "praw.__version__"
   ]
  },
  {
   "cell_type": "code",
   "execution_count": 2,
   "metadata": {},
   "outputs": [],
   "source": [
    "json_file = open('Reddit_creds.json')\n",
    "json_str = json_file.read()\n",
    "json_data = json.loads(json_str)"
   ]
  },
  {
   "cell_type": "code",
   "execution_count": 3,
   "metadata": {},
   "outputs": [],
   "source": [
    "reddit = praw.Reddit(user_agent=json_data['user_agent'],\n",
    "                     client_id=json_data['client_id'], client_secret=json_data['client_secret'])"
   ]
  },
  {
   "cell_type": "code",
   "execution_count": 4,
   "metadata": {},
   "outputs": [],
   "source": [
    "yang_sub = reddit.subreddit('YangForPresidentHQ')"
   ]
  },
  {
   "cell_type": "code",
   "execution_count": 5,
   "metadata": {},
   "outputs": [],
   "source": [
    "pete_sub = reddit.subreddit('Pete_Buttigieg')"
   ]
  },
  {
   "cell_type": "code",
   "execution_count": 6,
   "metadata": {},
   "outputs": [],
   "source": [
    "sanders_sub = reddit.subreddit('SandersForPresident/')"
   ]
  },
  {
   "cell_type": "code",
   "execution_count": 7,
   "metadata": {},
   "outputs": [],
   "source": [
    "harris_sub = reddit.subreddit('Kamala')"
   ]
  },
  {
   "cell_type": "code",
   "execution_count": 8,
   "metadata": {},
   "outputs": [],
   "source": [
    "biden_sub = reddit.subreddit('JoeBiden')"
   ]
  },
  {
   "cell_type": "code",
   "execution_count": 9,
   "metadata": {},
   "outputs": [],
   "source": [
    "subs = [yang_sub,pete_sub,sanders_sub,harris_sub,biden_sub]"
   ]
  },
  {
   "cell_type": "code",
   "execution_count": 10,
   "metadata": {},
   "outputs": [],
   "source": [
    "users = []"
   ]
  },
  {
   "cell_type": "code",
   "execution_count": 11,
   "metadata": {},
   "outputs": [
    {
     "name": "stdout",
     "output_type": "stream",
     "text": [
      "4679\n",
      "1683\n",
      "48.893178939819336\n"
     ]
    }
   ],
   "source": [
    "start = time.time()\n",
    "for sub in subs:\n",
    "    for comment in sub.comments(limit=1000):\n",
    "        users.append(comment.author)\n",
    "        \n",
    "print(len(users))\n",
    "users = list(set(users))\n",
    "print(len(users))\n",
    "end = time.time()\n",
    "print(end-start)"
   ]
  },
  {
   "cell_type": "code",
   "execution_count": 37,
   "metadata": {},
   "outputs": [],
   "source": [
    "# nums = np.random.randint(1,1733,100)"
   ]
  },
  {
   "cell_type": "code",
   "execution_count": 39,
   "metadata": {},
   "outputs": [],
   "source": [
    "# short_list = []\n",
    "# for x in nums:\n",
    "#     short_list.append(users[x])"
   ]
  },
  {
   "cell_type": "code",
   "execution_count": 1,
   "metadata": {},
   "outputs": [],
   "source": [
    "# short_list"
   ]
  },
  {
   "cell_type": "code",
   "execution_count": null,
   "metadata": {},
   "outputs": [],
   "source": [
    "# #code obtained from https://stackabuse.com/reading-and-writing-lists-to-a-file-in-python/\n",
    "# # load additional module\n",
    "# import pickle\n",
    "\n",
    "# # define a list of places\n",
    "# with open('users.data', 'wb') as filehandle:\n",
    "#     # store the data as binary data stream\n",
    "#     pickle.dump(set(users), filehandle)"
   ]
  },
  {
   "cell_type": "code",
   "execution_count": null,
   "metadata": {},
   "outputs": [],
   "source": [
    "#code obtained from https://stackabuse.com/reading-and-writing-lists-to-a-file-in-python/\n",
    "# with open('users.data', 'rb') as filehandle:\n",
    "#     # read the data as binary data stream\n",
    "#     test_set = pickle.load(filehandle)"
   ]
  },
  {
   "cell_type": "code",
   "execution_count": null,
   "metadata": {},
   "outputs": [],
   "source": [
    "# small_list2 = list(set(users))[100:200]"
   ]
  },
  {
   "cell_type": "code",
   "execution_count": null,
   "metadata": {},
   "outputs": [],
   "source": [
    "# len(small_list)"
   ]
  },
  {
   "cell_type": "code",
   "execution_count": null,
   "metadata": {},
   "outputs": [],
   "source": [
    "#First full scrape started around 11AM on 8/6/19\n",
    "#Second full scrape started at 1:13 PM on 8/6/19"
   ]
  },
  {
   "cell_type": "code",
   "execution_count": 12,
   "metadata": {},
   "outputs": [
    {
     "name": "stdout",
     "output_type": "stream",
     "text": [
      "0\n",
      "3.0835469563802084e-06\n",
      "10\n",
      "1.8631019194920857\n",
      "20\n",
      "3.6755609194437664\n",
      "30\n",
      "5.407702700297038\n",
      "40\n",
      "6.430276433626811\n",
      "50\n",
      "9.48271341721217\n",
      "60\n",
      "10.603218233585357\n",
      "70\n",
      "15.615761148929597\n",
      "80\n",
      "16.557903798421226\n",
      "90\n",
      "17.62286973396937\n",
      "100\n",
      "18.73901447057724\n",
      "110\n",
      "21.104294951756795\n",
      "120\n",
      "91.47355191707611\n",
      "130\n",
      "92.0931421995163\n",
      "140\n",
      "93.2501658320427\n",
      "150\n",
      "94.24871366818746\n",
      "160\n",
      "94.78590141534805\n",
      "170\n",
      "95.82262081702551\n",
      "180\n",
      "96.69580888350805\n",
      "190\n",
      "97.5403844833374\n",
      "200\n",
      "98.38021794954936\n",
      "210\n",
      "99.73189623355866\n",
      "220\n",
      "100.61249213616053\n",
      "230\n",
      "101.07335486809413\n",
      "240\n",
      "102.11790694793065\n",
      "250\n",
      "103.01888636747996\n",
      "260\n",
      "103.91995456616084\n",
      "270\n",
      "105.09508270025253\n",
      "280\n",
      "105.85599674781163\n",
      "290\n",
      "106.79565949837367\n",
      "300\n",
      "107.84694071610768\n",
      "310\n",
      "108.77555008331935\n",
      "320\n",
      "109.78739306926727\n",
      "330\n",
      "110.96982630093892\n",
      "340\n",
      "111.47191054821015\n",
      "350\n",
      "112.42461916605632\n",
      "360\n",
      "113.20736796458563\n",
      "370\n",
      "114.07782853047053\n",
      "380\n",
      "115.13772791624069\n",
      "390\n",
      "115.9722027182579\n",
      "400\n",
      "117.5712100982666\n",
      "410\n",
      "118.5167038679123\n",
      "420\n",
      "119.12836628357569\n",
      "430\n",
      "120.24419938325882\n",
      "440\n",
      "134.73205703496933\n",
      "450\n",
      "135.700022649765\n",
      "460\n",
      "136.6873554666837\n",
      "470\n",
      "137.75446685155234\n",
      "480\n",
      "138.73609431584677\n",
      "490\n",
      "139.26339474916458\n",
      "500\n",
      "140.5022290666898\n",
      "510\n",
      "140.90669353405636\n",
      "520\n",
      "141.74634869893393\n",
      "530\n",
      "142.17642645041147\n",
      "540\n",
      "142.990540766716\n",
      "550\n",
      "143.95886228481928\n",
      "560\n",
      "144.59096225102743\n",
      "570\n",
      "145.71309859752654\n",
      "580\n",
      "146.57539996703466\n",
      "590\n",
      "147.76771560112635\n",
      "600\n",
      "148.85596123536428\n",
      "610\n",
      "149.89738286733626\n",
      "620\n",
      "150.57663391828538\n",
      "630\n",
      "151.4165916164716\n",
      "640\n",
      "152.06320504744846\n",
      "650\n",
      "153.19476469755173\n",
      "660\n",
      "154.1467255671819\n",
      "670\n",
      "154.9516490340233\n",
      "680\n",
      "156.01822555065155\n",
      "690\n",
      "156.78350283304852\n",
      "700\n",
      "157.58734976450603\n",
      "710\n",
      "158.50923711458842\n",
      "720\n",
      "159.26674510240554\n",
      "730\n",
      "160.56711623271306\n",
      "740\n",
      "161.63214956919353\n",
      "750\n",
      "162.35993670225145\n",
      "760\n",
      "163.27115536530812\n",
      "770\n",
      "164.05298686822255\n",
      "780\n",
      "164.7747481664022\n",
      "790\n",
      "165.7032211502393\n",
      "800\n",
      "166.35331834952038\n",
      "810\n",
      "167.65352251927058\n",
      "820\n",
      "168.53992724816004\n",
      "830\n",
      "169.44980243444442\n",
      "840\n",
      "170.47504411935807\n",
      "850\n",
      "171.47352551619213\n",
      "860\n",
      "172.08773386875788\n",
      "870\n",
      "173.04529790083566\n",
      "880\n",
      "173.67013109922408\n",
      "890\n",
      "174.54551501671475\n",
      "900\n",
      "175.38480856815974\n",
      "910\n",
      "176.51678618590037\n",
      "920\n",
      "177.43281815052032\n",
      "930\n",
      "178.62086801528932\n",
      "940\n",
      "179.5727216800054\n",
      "950\n",
      "180.68678009907404\n",
      "960\n",
      "181.73204776446025\n",
      "970\n",
      "182.35330898364384\n",
      "980\n",
      "183.35175480047863\n",
      "990\n",
      "184.6263588309288\n",
      "1000\n",
      "185.28716183503468\n",
      "1010\n",
      "186.23405133485795\n",
      "1020\n",
      "187.2635275999705\n",
      "1030\n",
      "187.89808166424433\n",
      "1040\n",
      "188.90692994991937\n",
      "1050\n",
      "190.0486839969953\n",
      "1060\n",
      "191.0215301156044\n",
      "1070\n",
      "191.8399382829666\n",
      "1080\n",
      "192.33731265068053\n",
      "1090\n",
      "193.25215746561688\n",
      "1100\n",
      "193.98587676684062\n",
      "1110\n",
      "194.9740909020106\n",
      "1120\n",
      "195.6140315492948\n",
      "1130\n",
      "196.09417944749197\n",
      "1140\n",
      "197.1251046816508\n",
      "1150\n",
      "198.27310636838277\n",
      "1160\n",
      "199.42861178716024\n",
      "1170\n",
      "200.503837064902\n",
      "1180\n",
      "201.40458653370538\n",
      "1190\n",
      "202.26984691619873\n",
      "1200\n",
      "203.37609776655833\n",
      "1210\n",
      "204.27373173236847\n",
      "1220\n",
      "205.18854602972667\n",
      "1230\n",
      "206.118911532561\n",
      "1240\n",
      "206.84510161479315\n",
      "1250\n",
      "207.71790214776993\n",
      "1260\n",
      "208.7876402338346\n",
      "1270\n",
      "209.7048361182213\n",
      "1280\n",
      "210.57481903235117\n",
      "1290\n",
      "211.45563606818516\n",
      "1300\n",
      "212.37422020037968\n",
      "1310\n",
      "212.91796903212864\n",
      "1320\n",
      "214.17959615389506\n",
      "1330\n",
      "214.98328479925792\n",
      "1340\n",
      "215.67573538223903\n",
      "1350\n",
      "216.69900715351105\n",
      "1360\n",
      "217.95783768494923\n",
      "1370\n",
      "218.87445609966915\n",
      "1380\n",
      "219.8058671315511\n",
      "1390\n",
      "220.7380105336507\n",
      "1400\n",
      "221.80298819939296\n",
      "1410\n",
      "222.55554016431174\n",
      "1420\n",
      "223.7332225004832\n",
      "1430\n",
      "224.4397229830424\n",
      "1440\n",
      "225.49139724969865\n",
      "1450\n",
      "226.40096016724905\n",
      "1460\n",
      "226.9845367193222\n",
      "1470\n",
      "227.7983582695325\n",
      "1480\n",
      "228.60746273199717\n",
      "1490\n",
      "229.54425704876581\n",
      "1500\n",
      "230.37399223645528\n",
      "1510\n",
      "231.33628486792247\n",
      "1520\n",
      "232.46802885135014\n",
      "1530\n",
      "233.2923864841461\n",
      "1540\n",
      "233.96816724936167\n",
      "1550\n",
      "234.98184125026066\n",
      "1560\n",
      "235.83671881755194\n",
      "1570\n",
      "236.8967945655187\n",
      "1580\n",
      "237.90008386770884\n",
      "1590\n",
      "238.19226766427357\n",
      "1600\n",
      "238.86306589841843\n",
      "1610\n",
      "239.88660803635915\n",
      "1620\n",
      "240.83421098391216\n",
      "1630\n",
      "241.54569608370463\n",
      "1640\n",
      "242.18046269814172\n",
      "1650\n",
      "242.76915533145268\n",
      "1660\n",
      "243.75240731636683\n",
      "1670\n",
      "244.74618140061696\n",
      "1680\n",
      "245.56837859948476\n",
      "14742.801185131073\n"
     ]
    }
   ],
   "source": [
    "start = time.time()\n",
    "text = []\n",
    "author = []\n",
    "subreddit = []\n",
    "postid = []\n",
    "counter = 0\n",
    "for user in users:\n",
    "    if counter % 10 == 0:\n",
    "        prog = time.time()\n",
    "        print(counter)\n",
    "        print((prog-start)/60)\n",
    "    try:  #handle cases where redditor is deleted or something\n",
    "        for comment in user.comments.new(limit=1000):\n",
    "            text.append(comment.body)\n",
    "            author.append(comment.author)\n",
    "            postid.append(comment.id)\n",
    "            subreddit.append(comment.subreddit.display_name)\n",
    "    except:\n",
    "        pass\n",
    "    counter += 1\n",
    "end = time.time()\n",
    "print(end-start)"
   ]
  },
  {
   "cell_type": "code",
   "execution_count": 13,
   "metadata": {},
   "outputs": [],
   "source": [
    "df = pd.DataFrame([text,author,subreddit,postid],\\\n",
    "                        index=['Comment Text','Author','Subreddit','Post ID']).T"
   ]
  },
  {
   "cell_type": "code",
   "execution_count": 14,
   "metadata": {},
   "outputs": [
    {
     "data": {
      "text/plain": [
       "(1024524, 4)"
      ]
     },
     "execution_count": 14,
     "metadata": {},
     "output_type": "execute_result"
    }
   ],
   "source": [
    "df.shape"
   ]
  },
  {
   "cell_type": "code",
   "execution_count": 15,
   "metadata": {},
   "outputs": [],
   "source": [
    "df.to_csv('full_scrape_1.csv',index=False)"
   ]
  },
  {
   "cell_type": "code",
   "execution_count": null,
   "metadata": {},
   "outputs": [],
   "source": [
    "df.iloc[1,0]"
   ]
  },
  {
   "cell_type": "code",
   "execution_count": null,
   "metadata": {},
   "outputs": [],
   "source": []
  },
  {
   "cell_type": "code",
   "execution_count": null,
   "metadata": {},
   "outputs": [],
   "source": [
    "\n",
    "for user in set(users):\n",
    "    dict_sub = {}\n",
    "    for comment in user.comments.new(limit=1000):\n",
    "        if dict_sub.get(comment.subreddit.display_name,0) == 0:\n",
    "            dict_sub[comment.subreddit.display_name] = 1\n",
    "        else:\n",
    "            dict_sub[comment.subreddit.display_name] += 1\n",
    "    yang_dict[user] = dict_sub\n",
    "#     print(f'finished {user}')\n",
    "    time.sleep(5)"
   ]
  },
  {
   "cell_type": "code",
   "execution_count": null,
   "metadata": {},
   "outputs": [],
   "source": []
  },
  {
   "cell_type": "code",
   "execution_count": null,
   "metadata": {},
   "outputs": [],
   "source": []
  },
  {
   "cell_type": "code",
   "execution_count": null,
   "metadata": {},
   "outputs": [],
   "source": []
  },
  {
   "cell_type": "code",
   "execution_count": null,
   "metadata": {},
   "outputs": [],
   "source": []
  },
  {
   "cell_type": "code",
   "execution_count": null,
   "metadata": {},
   "outputs": [],
   "source": []
  },
  {
   "cell_type": "code",
   "execution_count": null,
   "metadata": {},
   "outputs": [],
   "source": [
    "\n",
    "yang_users = []\n",
    "for comment in yang_sub.comments(limit=1000):\n",
    "    yang_users.append(comment.author)\n",
    "print(len(yang_users))\n",
    "print(len(set(yang_users)))\n"
   ]
  },
  {
   "cell_type": "code",
   "execution_count": null,
   "metadata": {},
   "outputs": [],
   "source": [
    "setyang = set(yang_users)"
   ]
  },
  {
   "cell_type": "code",
   "execution_count": null,
   "metadata": {},
   "outputs": [],
   "source": [
    "harris_users = []\n",
    "for comment in harris_sub.comments(limit=1000):\n",
    "    harris_users.append(comment.author)\n",
    "print(len(harris_users))\n",
    "print(len(set(harris_users)))"
   ]
  },
  {
   "cell_type": "code",
   "execution_count": null,
   "metadata": {},
   "outputs": [],
   "source": [
    "setharris = set(harris_users)"
   ]
  },
  {
   "cell_type": "code",
   "execution_count": null,
   "metadata": {},
   "outputs": [],
   "source": [
    "biden_users = []\n",
    "for comment in biden_sub.comments(limit=1000):\n",
    "    biden_users.append(comment.author)\n",
    "print(len(biden_users))\n",
    "print(len(set(biden_users)))"
   ]
  },
  {
   "cell_type": "code",
   "execution_count": null,
   "metadata": {},
   "outputs": [],
   "source": [
    "setbiden = set(biden_users)"
   ]
  },
  {
   "cell_type": "code",
   "execution_count": null,
   "metadata": {},
   "outputs": [],
   "source": [
    "sanders_users = []\n",
    "for comment in sanders_sub.comments(limit=1000):\n",
    "    sanders_users.append(comment.author)\n",
    "print(len(sanders_users))\n",
    "print(len(set(sanders_users)))"
   ]
  },
  {
   "cell_type": "code",
   "execution_count": null,
   "metadata": {},
   "outputs": [],
   "source": [
    "setsanders = set(sanders_users)"
   ]
  },
  {
   "cell_type": "code",
   "execution_count": null,
   "metadata": {},
   "outputs": [],
   "source": [
    "pete_users = []\n",
    "for comment in pete_sub.comments(limit=1000):\n",
    "    pete_users.append(comment.author)\n",
    "print(len(pete_users))\n",
    "print(len(set(pete_users)))"
   ]
  },
  {
   "cell_type": "code",
   "execution_count": null,
   "metadata": {},
   "outputs": [],
   "source": [
    "setpet = set(pete_users)"
   ]
  },
  {
   "cell_type": "code",
   "execution_count": null,
   "metadata": {},
   "outputs": [],
   "source": [
    "setnotyang = set(pete_users+sanders_users+biden_users+harris_users)"
   ]
  },
  {
   "cell_type": "code",
   "execution_count": null,
   "metadata": {},
   "outputs": [],
   "source": [
    "len(setnotyang)"
   ]
  },
  {
   "cell_type": "code",
   "execution_count": null,
   "metadata": {},
   "outputs": [],
   "source": [
    "count = 0\n",
    "for user in setyang:\n",
    "    if user in setnotyang:\n",
    "        print(user)\n",
    "        if user in setbiden:\n",
    "            print('+biden')\n",
    "        if user in setharris:\n",
    "            print('+harris')\n",
    "        if user in setsanders:\n",
    "            print('+sanders')\n",
    "        if user in setpet:\n",
    "            print('+pete')\n",
    "        count += 1"
   ]
  },
  {
   "cell_type": "code",
   "execution_count": null,
   "metadata": {},
   "outputs": [],
   "source": [
    "print(count)"
   ]
  },
  {
   "cell_type": "markdown",
   "metadata": {},
   "source": [
    "Okay, feeling good, out of the 505 most recent yang posters, only 4 posted to one of these other subs, checking other subs"
   ]
  },
  {
   "cell_type": "code",
   "execution_count": null,
   "metadata": {},
   "outputs": [],
   "source": [
    "\n",
    "for user in setbiden:\n",
    "    if user in setharris:\n",
    "        print('+harris')\n",
    "    if user in setsanders:\n",
    "        print('+sanders')\n",
    "    if user in setpet:\n",
    "        print('+pete')\n"
   ]
  },
  {
   "cell_type": "code",
   "execution_count": null,
   "metadata": {},
   "outputs": [],
   "source": [
    "\n",
    "for user in setharris:\n",
    "    if user in setbiden:\n",
    "        print('+biden')\n",
    "    if user in setsanders:\n",
    "        print('+sanders')\n",
    "    if user in setpet:\n",
    "        print('+pete')"
   ]
  },
  {
   "cell_type": "code",
   "execution_count": null,
   "metadata": {},
   "outputs": [],
   "source": [
    "count = 0\n",
    "for user in setpet:\n",
    "    if user in setsanders:\n",
    "        count += 1\n",
    "        \n",
    "print(count)"
   ]
  },
  {
   "cell_type": "code",
   "execution_count": null,
   "metadata": {},
   "outputs": [],
   "source": [
    "len(setpet)"
   ]
  },
  {
   "cell_type": "code",
   "execution_count": null,
   "metadata": {},
   "outputs": [],
   "source": [
    "len(setsanders)"
   ]
  },
  {
   "cell_type": "code",
   "execution_count": null,
   "metadata": {},
   "outputs": [],
   "source": [
    "len(set(list(setpet)+list(setsanders)))"
   ]
  },
  {
   "cell_type": "code",
   "execution_count": null,
   "metadata": {},
   "outputs": [],
   "source": [
    "171+277"
   ]
  },
  {
   "cell_type": "code",
   "execution_count": null,
   "metadata": {},
   "outputs": [],
   "source": [
    "#backbone scraping code, idea would be to run this for every user in each subreddits set of users\n",
    "yang_dict = {}\n",
    "for user in yang_users[22:25]:\n",
    "    dict_sub = {}\n",
    "    for comment in user.comments.new(limit=1000):\n",
    "        if dict_sub.get(comment.subreddit.display_name,0) == 0:\n",
    "            dict_sub[comment.subreddit.display_name] = 1\n",
    "        else:\n",
    "            dict_sub[comment.subreddit.display_name] += 1\n",
    "    yang_dict[user] = dict_sub\n",
    "#     print(f'finished {user}')\n",
    "    time.sleep(5)"
   ]
  },
  {
   "cell_type": "code",
   "execution_count": null,
   "metadata": {},
   "outputs": [],
   "source": [
    "yang_dict"
   ]
  },
  {
   "cell_type": "code",
   "execution_count": null,
   "metadata": {},
   "outputs": [],
   "source": []
  }
 ],
 "metadata": {
  "kernelspec": {
   "display_name": "Python 3",
   "language": "python",
   "name": "python3"
  },
  "language_info": {
   "codemirror_mode": {
    "name": "ipython",
    "version": 3
   },
   "file_extension": ".py",
   "mimetype": "text/x-python",
   "name": "python",
   "nbconvert_exporter": "python",
   "pygments_lexer": "ipython3",
   "version": "3.7.3"
  }
 },
 "nbformat": 4,
 "nbformat_minor": 2
}
