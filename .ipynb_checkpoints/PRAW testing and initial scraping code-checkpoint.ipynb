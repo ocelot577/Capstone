{
 "cells": [
  {
   "cell_type": "markdown",
   "metadata": {},
   "source": [
    "Sorry, this is really rough, currently this has some initial EDA I did on the various subreddits I'm thinking of scraping as well as the backbone of a potential scraping function.\n",
    "\n",
    "Some things I need to research and/or ask about\n",
    "\n",
    "1) I'm currently thinking about saving this as a list of nested dictionaries. Need to determine if that's the best idea or not\n",
    "\n",
    "2) I'm worried I'm hitting reddit too much (1,000 comments per 5 subs) * (up to 1,000 posts per unique user). Researched that a bit and I think praw has a built in 2 sec delay so things are probably okay but probably should research a bit more and break up my scrapes\n",
    "\n",
    "3) Currently, my code gives equal weight to a comment poster but that's probably not ideal, especially since people can go onto a subreddit and comment even though they're not a supporter. Would ideally like to do something where I account for this.\n",
    "\n",
    "4) My code currently doesn't have a way to append or add more data, need to consider how I might go about doing that\n"
   ]
  },
  {
   "cell_type": "code",
   "execution_count": 1,
   "metadata": {},
   "outputs": [],
   "source": [
    "import praw\n",
    "import json\n",
    "import time\n",
    "import pandas as pd\n",
    "import sys\n",
    "import numpy as np"
   ]
  },
  {
   "cell_type": "code",
   "execution_count": 2,
   "metadata": {},
   "outputs": [
    {
     "data": {
      "text/plain": [
       "'3.7.3 (default, Mar 27 2019, 16:54:48) \\n[Clang 4.0.1 (tags/RELEASE_401/final)]'"
      ]
     },
     "execution_count": 2,
     "metadata": {},
     "output_type": "execute_result"
    }
   ],
   "source": [
    "sys.version"
   ]
  },
  {
   "cell_type": "code",
   "execution_count": 3,
   "metadata": {},
   "outputs": [
    {
     "data": {
      "text/plain": [
       "'6.3.1'"
      ]
     },
     "execution_count": 3,
     "metadata": {},
     "output_type": "execute_result"
    }
   ],
   "source": [
    "praw.__version__"
   ]
  },
  {
   "cell_type": "code",
   "execution_count": 4,
   "metadata": {},
   "outputs": [],
   "source": [
    "json_file = open('Reddit_creds.json')\n",
    "json_str = json_file.read()\n",
    "json_data = json.loads(json_str)"
   ]
  },
  {
   "cell_type": "code",
   "execution_count": 5,
   "metadata": {},
   "outputs": [],
   "source": [
    "reddit = praw.Reddit(user_agent=json_data['user_agent'],\n",
    "                     client_id=json_data['client_id'], client_secret=json_data['client_secret'])"
   ]
  },
  {
   "cell_type": "code",
   "execution_count": 6,
   "metadata": {},
   "outputs": [],
   "source": [
    "yang_sub = reddit.subreddit('YangForPresidentHQ')"
   ]
  },
  {
   "cell_type": "code",
   "execution_count": 7,
   "metadata": {},
   "outputs": [],
   "source": [
    "pete_sub = reddit.subreddit('Pete_Buttigieg')"
   ]
  },
  {
   "cell_type": "code",
   "execution_count": 8,
   "metadata": {},
   "outputs": [],
   "source": [
    "sanders_sub = reddit.subreddit('SandersForPresident')"
   ]
  },
  {
   "cell_type": "code",
   "execution_count": 9,
   "metadata": {},
   "outputs": [],
   "source": [
    "harris_sub = reddit.subreddit('Kamala')"
   ]
  },
  {
   "cell_type": "code",
   "execution_count": 10,
   "metadata": {},
   "outputs": [],
   "source": [
    "biden_sub = reddit.subreddit('JoeBiden')"
   ]
  },
  {
   "cell_type": "code",
   "execution_count": 11,
   "metadata": {},
   "outputs": [],
   "source": [
    "subs = [yang_sub,pete_sub,sanders_sub,harris_sub,biden_sub]"
   ]
  },
  {
   "cell_type": "code",
   "execution_count": 12,
   "metadata": {},
   "outputs": [],
   "source": [
    "users = []"
   ]
  },
  {
   "cell_type": "code",
   "execution_count": 13,
   "metadata": {},
   "outputs": [
    {
     "name": "stdout",
     "output_type": "stream",
     "text": [
      "4668\n",
      "1802\n",
      "36.493520975112915\n"
     ]
    }
   ],
   "source": [
    "start = time.time()\n",
    "for sub in subs:\n",
    "    for comment in sub.comments(limit=1000):\n",
    "        users.append(comment.author)\n",
    "        \n",
    "print(len(users))\n",
    "users = list(set(users))\n",
    "print(len(users))\n",
    "end = time.time()\n",
    "print(end-start)"
   ]
  },
  {
   "cell_type": "code",
   "execution_count": 37,
   "metadata": {},
   "outputs": [],
   "source": [
    "# nums = np.random.randint(1,1733,100)"
   ]
  },
  {
   "cell_type": "code",
   "execution_count": 39,
   "metadata": {},
   "outputs": [],
   "source": [
    "# short_list = []\n",
    "# for x in nums:\n",
    "#     short_list.append(users[x])"
   ]
  },
  {
   "cell_type": "code",
   "execution_count": 1,
   "metadata": {},
   "outputs": [],
   "source": [
    "# short_list"
   ]
  },
  {
   "cell_type": "code",
   "execution_count": null,
   "metadata": {},
   "outputs": [],
   "source": [
    "# #code obtained from https://stackabuse.com/reading-and-writing-lists-to-a-file-in-python/\n",
    "# # load additional module\n",
    "# import pickle\n",
    "\n",
    "# # define a list of places\n",
    "# with open('users.data', 'wb') as filehandle:\n",
    "#     # store the data as binary data stream\n",
    "#     pickle.dump(set(users), filehandle)"
   ]
  },
  {
   "cell_type": "code",
   "execution_count": null,
   "metadata": {},
   "outputs": [],
   "source": [
    "#code obtained from https://stackabuse.com/reading-and-writing-lists-to-a-file-in-python/\n",
    "# with open('users.data', 'rb') as filehandle:\n",
    "#     # read the data as binary data stream\n",
    "#     test_set = pickle.load(filehandle)"
   ]
  },
  {
   "cell_type": "code",
   "execution_count": null,
   "metadata": {},
   "outputs": [],
   "source": [
    "# small_list2 = list(set(users))[100:200]"
   ]
  },
  {
   "cell_type": "code",
   "execution_count": null,
   "metadata": {},
   "outputs": [],
   "source": [
    "# len(small_list)"
   ]
  },
  {
   "cell_type": "code",
   "execution_count": null,
   "metadata": {},
   "outputs": [],
   "source": [
    "#First full scrape from the evening of 8/6/19 - morning of 8/7/19\n",
    "#Second full scrape starts @ 8/13/19 @ 10:41 AM - 1:21 PM"
   ]
  },
  {
   "cell_type": "code",
   "execution_count": 14,
   "metadata": {},
   "outputs": [
    {
     "name": "stdout",
     "output_type": "stream",
     "text": [
      "0\n",
      "3.3855438232421873e-06\n",
      "10\n",
      "0.7920368194580079\n",
      "20\n",
      "1.5936389327049256\n",
      "30\n",
      "2.6889748016993207\n",
      "40\n",
      "3.4561569849650065\n",
      "50\n",
      "4.342033966382345\n",
      "60\n",
      "5.1525907198588055\n",
      "70\n",
      "6.101528819402059\n",
      "80\n",
      "6.8767002860705055\n",
      "90\n",
      "7.4497390508651735\n",
      "100\n",
      "8.27935370206833\n",
      "110\n",
      "9.09846228758494\n",
      "120\n",
      "10.169164403279622\n",
      "130\n",
      "10.867194867134094\n",
      "140\n",
      "11.852298367023469\n",
      "150\n",
      "12.644133989016215\n",
      "160\n",
      "13.42756112019221\n",
      "170\n",
      "13.93772920370102\n",
      "180\n",
      "14.948122255007426\n",
      "190\n",
      "15.514604552586873\n",
      "200\n",
      "16.397117618719736\n",
      "210\n",
      "17.236179900169372\n",
      "220\n",
      "18.349484737714132\n",
      "230\n",
      "19.344518303871155\n",
      "240\n",
      "20.146442651748657\n",
      "250\n",
      "21.053411400318147\n",
      "260\n",
      "21.820803304513294\n",
      "270\n",
      "22.741350452105205\n",
      "280\n",
      "23.54286926984787\n",
      "290\n",
      "24.496900220712025\n",
      "300\n",
      "25.4795796195666\n",
      "310\n",
      "26.240101917584738\n",
      "320\n",
      "27.249991317590077\n",
      "330\n",
      "28.437754571437836\n",
      "340\n",
      "29.374432869752248\n",
      "350\n",
      "30.59151211977005\n",
      "360\n",
      "31.304382836818696\n",
      "370\n",
      "31.99634618361791\n",
      "380\n",
      "32.91611350377401\n",
      "390\n",
      "33.63564336697261\n",
      "400\n",
      "34.53578758637111\n",
      "410\n",
      "35.57668828566869\n",
      "420\n",
      "36.53078918457031\n",
      "430\n",
      "37.285315402348836\n",
      "440\n",
      "38.29400533437729\n",
      "450\n",
      "39.35011746883392\n",
      "460\n",
      "40.22216023604075\n",
      "470\n",
      "41.065405702590944\n",
      "480\n",
      "42.10576101938884\n",
      "490\n",
      "42.83504036664963\n",
      "500\n",
      "43.58122633298238\n",
      "510\n",
      "44.71601121822993\n",
      "520\n",
      "45.57134020328522\n",
      "530\n",
      "46.37258896827698\n",
      "540\n",
      "47.33572356700897\n",
      "550\n",
      "48.020096969604495\n",
      "560\n",
      "48.863405418396\n",
      "570\n",
      "49.99321443637212\n",
      "580\n",
      "50.75016433397929\n",
      "590\n",
      "51.47511068582535\n",
      "600\n",
      "52.23967125415802\n",
      "610\n",
      "53.303875084718065\n",
      "620\n",
      "54.19291600386302\n",
      "630\n",
      "55.18850984970729\n",
      "640\n",
      "56.09103820323944\n",
      "650\n",
      "57.19347006877263\n",
      "660\n",
      "57.96602251927058\n",
      "670\n",
      "58.857537452379866\n",
      "680\n",
      "59.97191635370255\n",
      "690\n",
      "60.68022480408351\n",
      "700\n",
      "61.686997886498766\n",
      "710\n",
      "62.38353183666865\n",
      "720\n",
      "63.06253623565038\n",
      "730\n",
      "64.07657570044199\n",
      "740\n",
      "65.3074704527855\n",
      "750\n",
      "65.94753181934357\n",
      "760\n",
      "66.65649940172831\n",
      "770\n",
      "67.55480793714523\n",
      "780\n",
      "68.18294320503871\n",
      "790\n",
      "69.32543652057647\n",
      "800\n",
      "70.43370149930318\n",
      "810\n",
      "71.44919833739598\n",
      "820\n",
      "72.11160771846771\n",
      "830\n",
      "73.00752106904983\n",
      "840\n",
      "73.75842118660609\n",
      "850\n",
      "74.59991990327835\n",
      "860\n",
      "75.28683193524678\n",
      "870\n",
      "76.05221956968307\n",
      "880\n",
      "76.89021226565043\n",
      "890\n",
      "77.82795393864313\n",
      "900\n",
      "78.67228698730469\n",
      "910\n",
      "79.8478500008583\n",
      "920\n",
      "80.54933747053147\n",
      "930\n",
      "81.18965936899185\n",
      "940\n",
      "81.81073404947917\n",
      "950\n",
      "82.5579961180687\n",
      "960\n",
      "83.40457280079524\n",
      "970\n",
      "84.01046621799469\n",
      "980\n",
      "84.61469638347626\n",
      "990\n",
      "85.60793200333913\n",
      "1000\n",
      "86.60130596955618\n",
      "1010\n",
      "87.6286551674207\n",
      "1020\n",
      "88.42371850411097\n",
      "1030\n",
      "89.21810508569082\n",
      "1040\n",
      "89.72451777060827\n",
      "1050\n",
      "90.7382334669431\n",
      "1060\n",
      "91.27075157165527\n",
      "1070\n",
      "92.15792498588561\n",
      "1080\n",
      "92.77423803408941\n",
      "1090\n",
      "93.75899541775385\n",
      "1100\n",
      "94.58838315010071\n",
      "1110\n",
      "95.51210918426514\n",
      "1120\n",
      "96.14324510494868\n",
      "1130\n",
      "97.02554550170899\n",
      "1140\n",
      "97.79370206991831\n",
      "1150\n",
      "98.60260353883108\n",
      "1160\n",
      "99.55822765429815\n",
      "1170\n",
      "100.67526110410691\n",
      "1180\n",
      "101.71919833819071\n",
      "1190\n",
      "102.80515235265096\n",
      "1200\n",
      "103.38636743625005\n",
      "1210\n",
      "104.0161305030187\n",
      "1220\n",
      "104.81997371912003\n",
      "1230\n",
      "105.53502138455708\n",
      "1240\n",
      "106.31678607066472\n",
      "1250\n",
      "107.0811958193779\n",
      "1260\n",
      "107.8099155386289\n",
      "1270\n",
      "108.7111772497495\n",
      "1280\n",
      "109.73017133871714\n",
      "1290\n",
      "110.45358908573786\n",
      "1300\n",
      "111.18067171971003\n",
      "1310\n",
      "112.04776000181833\n",
      "1320\n",
      "112.87295276721319\n",
      "1330\n",
      "113.83621825377146\n",
      "1340\n",
      "114.92707638740539\n",
      "1350\n",
      "115.59385070006053\n",
      "1360\n",
      "116.25810951789221\n",
      "1370\n",
      "116.88943230311075\n",
      "1380\n",
      "117.87514325380326\n",
      "1390\n",
      "119.08077437082926\n",
      "1400\n",
      "120.15458840529124\n",
      "1410\n",
      "120.98234664996465\n",
      "1420\n",
      "121.8981681863467\n",
      "1430\n",
      "122.76905051867168\n",
      "1440\n",
      "123.63763780196508\n",
      "1450\n",
      "124.59738808472952\n",
      "1460\n",
      "125.53392556905746\n",
      "1470\n",
      "126.41794868707657\n",
      "1480\n",
      "127.4454425017039\n",
      "1490\n",
      "128.4368207891782\n",
      "1500\n",
      "129.2511142373085\n",
      "1510\n",
      "129.9883711695671\n",
      "1520\n",
      "130.3932687520981\n",
      "1530\n",
      "131.33164783318838\n",
      "1540\n",
      "132.21409476598103\n",
      "1550\n",
      "132.93887080351513\n",
      "1560\n",
      "133.97960656881332\n",
      "1570\n",
      "134.8967064023018\n",
      "1580\n",
      "135.644235932827\n",
      "1590\n",
      "136.70752034982044\n",
      "1600\n",
      "137.34761590162913\n",
      "1610\n",
      "138.26392157077788\n",
      "1620\n",
      "138.8841319680214\n",
      "1630\n",
      "139.64307992060978\n",
      "1640\n",
      "140.41955203612645\n",
      "1650\n",
      "141.15174338817596\n",
      "1660\n",
      "141.92502780357998\n",
      "1670\n",
      "142.73718258539836\n",
      "1680\n",
      "143.69055192073185\n",
      "1690\n",
      "144.6879024863243\n",
      "1700\n",
      "145.18382011651994\n",
      "1710\n",
      "146.38709820111592\n",
      "1720\n",
      "147.4307075381279\n",
      "1730\n",
      "148.7738178531329\n",
      "1740\n",
      "149.57778363227845\n",
      "1750\n",
      "150.80142594973248\n",
      "1760\n",
      "151.54693493445714\n",
      "1770\n",
      "152.77243108749389\n",
      "1780\n",
      "153.77434196869532\n",
      "1790\n",
      "154.57823068698247\n",
      "1800\n",
      "155.44000018437703\n",
      "9329.475143194199\n"
     ]
    }
   ],
   "source": [
    "start = time.time()\n",
    "text = []\n",
    "author = []\n",
    "subreddit = []\n",
    "postid = []\n",
    "counter = 0\n",
    "for user in users:\n",
    "    if counter % 10 == 0:\n",
    "        prog = time.time()\n",
    "        print(counter)\n",
    "        print((prog-start)/60)\n",
    "    try:  #handle cases where redditor is deleted or something\n",
    "        for comment in user.comments.new(limit=1000):\n",
    "            text.append(comment.body)\n",
    "            author.append(comment.author)\n",
    "            postid.append(comment.id)\n",
    "            subreddit.append(comment.subreddit.display_name)\n",
    "    except:\n",
    "        pass\n",
    "    counter += 1\n",
    "end = time.time()\n",
    "print(end-start)"
   ]
  },
  {
   "cell_type": "code",
   "execution_count": 15,
   "metadata": {},
   "outputs": [],
   "source": [
    "df = pd.DataFrame([text,author,subreddit,postid],\\\n",
    "                        index=['Comment Text','Author','Subreddit','Post ID']).T"
   ]
  },
  {
   "cell_type": "code",
   "execution_count": 16,
   "metadata": {},
   "outputs": [
    {
     "data": {
      "text/plain": [
       "(1156518, 4)"
      ]
     },
     "execution_count": 16,
     "metadata": {},
     "output_type": "execute_result"
    }
   ],
   "source": [
    "df.shape"
   ]
  },
  {
   "cell_type": "code",
   "execution_count": 17,
   "metadata": {},
   "outputs": [],
   "source": [
    "df.to_csv('full_scrape_2.csv',index=False)"
   ]
  },
  {
   "cell_type": "code",
   "execution_count": null,
   "metadata": {},
   "outputs": [],
   "source": [
    "df.iloc[1,0]"
   ]
  },
  {
   "cell_type": "code",
   "execution_count": null,
   "metadata": {},
   "outputs": [],
   "source": []
  },
  {
   "cell_type": "code",
   "execution_count": null,
   "metadata": {},
   "outputs": [],
   "source": [
    "\n",
    "for user in set(users):\n",
    "    dict_sub = {}\n",
    "    for comment in user.comments.new(limit=1000):\n",
    "        if dict_sub.get(comment.subreddit.display_name,0) == 0:\n",
    "            dict_sub[comment.subreddit.display_name] = 1\n",
    "        else:\n",
    "            dict_sub[comment.subreddit.display_name] += 1\n",
    "    yang_dict[user] = dict_sub\n",
    "#     print(f'finished {user}')\n",
    "    time.sleep(5)"
   ]
  },
  {
   "cell_type": "code",
   "execution_count": null,
   "metadata": {},
   "outputs": [],
   "source": []
  },
  {
   "cell_type": "code",
   "execution_count": null,
   "metadata": {},
   "outputs": [],
   "source": []
  },
  {
   "cell_type": "code",
   "execution_count": null,
   "metadata": {},
   "outputs": [],
   "source": []
  },
  {
   "cell_type": "code",
   "execution_count": null,
   "metadata": {},
   "outputs": [],
   "source": []
  },
  {
   "cell_type": "code",
   "execution_count": null,
   "metadata": {},
   "outputs": [],
   "source": []
  },
  {
   "cell_type": "code",
   "execution_count": null,
   "metadata": {},
   "outputs": [],
   "source": [
    "\n",
    "yang_users = []\n",
    "for comment in yang_sub.comments(limit=1000):\n",
    "    yang_users.append(comment.author)\n",
    "print(len(yang_users))\n",
    "print(len(set(yang_users)))\n"
   ]
  },
  {
   "cell_type": "code",
   "execution_count": null,
   "metadata": {},
   "outputs": [],
   "source": [
    "setyang = set(yang_users)"
   ]
  },
  {
   "cell_type": "code",
   "execution_count": null,
   "metadata": {},
   "outputs": [],
   "source": [
    "harris_users = []\n",
    "for comment in harris_sub.comments(limit=1000):\n",
    "    harris_users.append(comment.author)\n",
    "print(len(harris_users))\n",
    "print(len(set(harris_users)))"
   ]
  },
  {
   "cell_type": "code",
   "execution_count": null,
   "metadata": {},
   "outputs": [],
   "source": [
    "setharris = set(harris_users)"
   ]
  },
  {
   "cell_type": "code",
   "execution_count": null,
   "metadata": {},
   "outputs": [],
   "source": [
    "biden_users = []\n",
    "for comment in biden_sub.comments(limit=1000):\n",
    "    biden_users.append(comment.author)\n",
    "print(len(biden_users))\n",
    "print(len(set(biden_users)))"
   ]
  },
  {
   "cell_type": "code",
   "execution_count": null,
   "metadata": {},
   "outputs": [],
   "source": [
    "setbiden = set(biden_users)"
   ]
  },
  {
   "cell_type": "code",
   "execution_count": null,
   "metadata": {},
   "outputs": [],
   "source": [
    "sanders_users = []\n",
    "for comment in sanders_sub.comments(limit=1000):\n",
    "    sanders_users.append(comment.author)\n",
    "print(len(sanders_users))\n",
    "print(len(set(sanders_users)))"
   ]
  },
  {
   "cell_type": "code",
   "execution_count": null,
   "metadata": {},
   "outputs": [],
   "source": [
    "setsanders = set(sanders_users)"
   ]
  },
  {
   "cell_type": "code",
   "execution_count": null,
   "metadata": {},
   "outputs": [],
   "source": [
    "pete_users = []\n",
    "for comment in pete_sub.comments(limit=1000):\n",
    "    pete_users.append(comment.author)\n",
    "print(len(pete_users))\n",
    "print(len(set(pete_users)))"
   ]
  },
  {
   "cell_type": "code",
   "execution_count": null,
   "metadata": {},
   "outputs": [],
   "source": [
    "setpet = set(pete_users)"
   ]
  },
  {
   "cell_type": "code",
   "execution_count": null,
   "metadata": {},
   "outputs": [],
   "source": [
    "setnotyang = set(pete_users+sanders_users+biden_users+harris_users)"
   ]
  },
  {
   "cell_type": "code",
   "execution_count": null,
   "metadata": {},
   "outputs": [],
   "source": [
    "len(setnotyang)"
   ]
  },
  {
   "cell_type": "code",
   "execution_count": null,
   "metadata": {},
   "outputs": [],
   "source": [
    "count = 0\n",
    "for user in setyang:\n",
    "    if user in setnotyang:\n",
    "        print(user)\n",
    "        if user in setbiden:\n",
    "            print('+biden')\n",
    "        if user in setharris:\n",
    "            print('+harris')\n",
    "        if user in setsanders:\n",
    "            print('+sanders')\n",
    "        if user in setpet:\n",
    "            print('+pete')\n",
    "        count += 1"
   ]
  },
  {
   "cell_type": "code",
   "execution_count": null,
   "metadata": {},
   "outputs": [],
   "source": [
    "print(count)"
   ]
  },
  {
   "cell_type": "markdown",
   "metadata": {},
   "source": [
    "Okay, feeling good, out of the 505 most recent yang posters, only 4 posted to one of these other subs, checking other subs"
   ]
  },
  {
   "cell_type": "code",
   "execution_count": null,
   "metadata": {},
   "outputs": [],
   "source": [
    "\n",
    "for user in setbiden:\n",
    "    if user in setharris:\n",
    "        print('+harris')\n",
    "    if user in setsanders:\n",
    "        print('+sanders')\n",
    "    if user in setpet:\n",
    "        print('+pete')\n"
   ]
  },
  {
   "cell_type": "code",
   "execution_count": null,
   "metadata": {},
   "outputs": [],
   "source": [
    "\n",
    "for user in setharris:\n",
    "    if user in setbiden:\n",
    "        print('+biden')\n",
    "    if user in setsanders:\n",
    "        print('+sanders')\n",
    "    if user in setpet:\n",
    "        print('+pete')"
   ]
  },
  {
   "cell_type": "code",
   "execution_count": null,
   "metadata": {},
   "outputs": [],
   "source": [
    "count = 0\n",
    "for user in setpet:\n",
    "    if user in setsanders:\n",
    "        count += 1\n",
    "        \n",
    "print(count)"
   ]
  },
  {
   "cell_type": "code",
   "execution_count": null,
   "metadata": {},
   "outputs": [],
   "source": [
    "len(setpet)"
   ]
  },
  {
   "cell_type": "code",
   "execution_count": null,
   "metadata": {},
   "outputs": [],
   "source": [
    "len(setsanders)"
   ]
  },
  {
   "cell_type": "code",
   "execution_count": null,
   "metadata": {},
   "outputs": [],
   "source": [
    "len(set(list(setpet)+list(setsanders)))"
   ]
  },
  {
   "cell_type": "code",
   "execution_count": null,
   "metadata": {},
   "outputs": [],
   "source": [
    "171+277"
   ]
  },
  {
   "cell_type": "code",
   "execution_count": null,
   "metadata": {},
   "outputs": [],
   "source": [
    "#backbone scraping code, idea would be to run this for every user in each subreddits set of users\n",
    "yang_dict = {}\n",
    "for user in yang_users[22:25]:\n",
    "    dict_sub = {}\n",
    "    for comment in user.comments.new(limit=1000):\n",
    "        if dict_sub.get(comment.subreddit.display_name,0) == 0:\n",
    "            dict_sub[comment.subreddit.display_name] = 1\n",
    "        else:\n",
    "            dict_sub[comment.subreddit.display_name] += 1\n",
    "    yang_dict[user] = dict_sub\n",
    "#     print(f'finished {user}')\n",
    "    time.sleep(5)"
   ]
  },
  {
   "cell_type": "code",
   "execution_count": null,
   "metadata": {},
   "outputs": [],
   "source": [
    "yang_dict"
   ]
  },
  {
   "cell_type": "code",
   "execution_count": null,
   "metadata": {},
   "outputs": [],
   "source": []
  }
 ],
 "metadata": {
  "kernelspec": {
   "display_name": "Python 3",
   "language": "python",
   "name": "python3"
  },
  "language_info": {
   "codemirror_mode": {
    "name": "ipython",
    "version": 3
   },
   "file_extension": ".py",
   "mimetype": "text/x-python",
   "name": "python",
   "nbconvert_exporter": "python",
   "pygments_lexer": "ipython3",
   "version": "3.7.3"
  }
 },
 "nbformat": 4,
 "nbformat_minor": 2
}
