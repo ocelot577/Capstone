{
 "cells": [
  {
   "cell_type": "markdown",
   "metadata": {},
   "source": [
    "Imports"
   ]
  },
  {
   "cell_type": "code",
   "execution_count": 1,
   "metadata": {},
   "outputs": [
    {
     "name": "stderr",
     "output_type": "stream",
     "text": [
      "Using TensorFlow backend.\n"
     ]
    }
   ],
   "source": [
    "import pandas as pd\n",
    "import matplotlib.pyplot as plt\n",
    "import numpy as np\n",
    "from nltk.stem import WordNetLemmatizer\n",
    "from nltk.corpus import stopwords \n",
    "from nltk.tokenize import RegexpTokenizer\n",
    "from sklearn.feature_extraction.text import CountVectorizer, TfidfVectorizer\n",
    "from sklearn.linear_model import LogisticRegression\n",
    "from sklearn.metrics import confusion_matrix,recall_score,roc_auc_score\n",
    "from imblearn.over_sampling import SMOTE"
   ]
  },
  {
   "cell_type": "markdown",
   "metadata": {},
   "source": [
    "Load in dataframes"
   ]
  },
  {
   "cell_type": "code",
   "execution_count": 2,
   "metadata": {},
   "outputs": [],
   "source": [
    "df_train = pd.read_csv('fin_train_df.csv')"
   ]
  },
  {
   "cell_type": "code",
   "execution_count": 3,
   "metadata": {},
   "outputs": [
    {
     "data": {
      "text/html": [
       "<div>\n",
       "<style scoped>\n",
       "    .dataframe tbody tr th:only-of-type {\n",
       "        vertical-align: middle;\n",
       "    }\n",
       "\n",
       "    .dataframe tbody tr th {\n",
       "        vertical-align: top;\n",
       "    }\n",
       "\n",
       "    .dataframe thead th {\n",
       "        text-align: right;\n",
       "    }\n",
       "</style>\n",
       "<table border=\"1\" class=\"dataframe\">\n",
       "  <thead>\n",
       "    <tr style=\"text-align: right;\">\n",
       "      <th></th>\n",
       "      <th>Unnamed: 0</th>\n",
       "      <th>Android</th>\n",
       "      <th>BasicIncome</th>\n",
       "      <th>BigBrother</th>\n",
       "      <th>Christianity</th>\n",
       "      <th>Cricket</th>\n",
       "      <th>Documentaries</th>\n",
       "      <th>Economics</th>\n",
       "      <th>Fitness</th>\n",
       "      <th>Futurology</th>\n",
       "      <th>...</th>\n",
       "      <th>trees</th>\n",
       "      <th>anti_alt_right_comb</th>\n",
       "      <th>bad_capitalism_comb</th>\n",
       "      <th>basketball_comb</th>\n",
       "      <th>conservative_comb</th>\n",
       "      <th>crypto_comb</th>\n",
       "      <th>football_comb</th>\n",
       "      <th>pc_comb</th>\n",
       "      <th>gaming_comb</th>\n",
       "      <th>target</th>\n",
       "    </tr>\n",
       "  </thead>\n",
       "  <tbody>\n",
       "    <tr>\n",
       "      <th>0</th>\n",
       "      <td>FjolnirFimbulvetr</td>\n",
       "      <td>0.0</td>\n",
       "      <td>0.0</td>\n",
       "      <td>0.000000</td>\n",
       "      <td>0.0</td>\n",
       "      <td>0.0</td>\n",
       "      <td>0.022222</td>\n",
       "      <td>0.000000</td>\n",
       "      <td>0.0</td>\n",
       "      <td>0.000000</td>\n",
       "      <td>...</td>\n",
       "      <td>0.0</td>\n",
       "      <td>0.133333</td>\n",
       "      <td>0.400000</td>\n",
       "      <td>0.000000</td>\n",
       "      <td>0.000000</td>\n",
       "      <td>0.0</td>\n",
       "      <td>0.00000</td>\n",
       "      <td>0.0</td>\n",
       "      <td>0.0</td>\n",
       "      <td>0</td>\n",
       "    </tr>\n",
       "    <tr>\n",
       "      <th>1</th>\n",
       "      <td>Kazehaya</td>\n",
       "      <td>0.0</td>\n",
       "      <td>0.0</td>\n",
       "      <td>0.992278</td>\n",
       "      <td>0.0</td>\n",
       "      <td>0.0</td>\n",
       "      <td>0.000000</td>\n",
       "      <td>0.000000</td>\n",
       "      <td>0.0</td>\n",
       "      <td>0.000000</td>\n",
       "      <td>...</td>\n",
       "      <td>0.0</td>\n",
       "      <td>0.000000</td>\n",
       "      <td>0.000000</td>\n",
       "      <td>0.000000</td>\n",
       "      <td>0.000000</td>\n",
       "      <td>0.0</td>\n",
       "      <td>0.00000</td>\n",
       "      <td>0.0</td>\n",
       "      <td>0.0</td>\n",
       "      <td>0</td>\n",
       "    </tr>\n",
       "    <tr>\n",
       "      <th>2</th>\n",
       "      <td>ClawedGiroux</td>\n",
       "      <td>0.0</td>\n",
       "      <td>0.0</td>\n",
       "      <td>0.000000</td>\n",
       "      <td>0.0</td>\n",
       "      <td>0.0</td>\n",
       "      <td>0.000000</td>\n",
       "      <td>0.004464</td>\n",
       "      <td>0.0</td>\n",
       "      <td>0.017857</td>\n",
       "      <td>...</td>\n",
       "      <td>0.0</td>\n",
       "      <td>0.000000</td>\n",
       "      <td>0.004464</td>\n",
       "      <td>0.696429</td>\n",
       "      <td>0.000000</td>\n",
       "      <td>0.0</td>\n",
       "      <td>0.09375</td>\n",
       "      <td>0.0</td>\n",
       "      <td>0.0</td>\n",
       "      <td>0</td>\n",
       "    </tr>\n",
       "    <tr>\n",
       "      <th>3</th>\n",
       "      <td>MrKixs</td>\n",
       "      <td>0.0</td>\n",
       "      <td>0.0</td>\n",
       "      <td>0.000000</td>\n",
       "      <td>0.0</td>\n",
       "      <td>0.0</td>\n",
       "      <td>0.000000</td>\n",
       "      <td>0.000000</td>\n",
       "      <td>0.0</td>\n",
       "      <td>0.000000</td>\n",
       "      <td>...</td>\n",
       "      <td>0.0</td>\n",
       "      <td>0.000000</td>\n",
       "      <td>0.000000</td>\n",
       "      <td>0.000000</td>\n",
       "      <td>0.035714</td>\n",
       "      <td>0.0</td>\n",
       "      <td>0.00000</td>\n",
       "      <td>0.0</td>\n",
       "      <td>0.0</td>\n",
       "      <td>0</td>\n",
       "    </tr>\n",
       "    <tr>\n",
       "      <th>4</th>\n",
       "      <td>icancubutucantcme</td>\n",
       "      <td>0.0</td>\n",
       "      <td>0.0</td>\n",
       "      <td>0.000000</td>\n",
       "      <td>0.0</td>\n",
       "      <td>0.0</td>\n",
       "      <td>0.000000</td>\n",
       "      <td>0.000000</td>\n",
       "      <td>0.0</td>\n",
       "      <td>0.000000</td>\n",
       "      <td>...</td>\n",
       "      <td>0.0</td>\n",
       "      <td>0.000000</td>\n",
       "      <td>0.000000</td>\n",
       "      <td>0.000000</td>\n",
       "      <td>0.000000</td>\n",
       "      <td>0.0</td>\n",
       "      <td>0.00000</td>\n",
       "      <td>0.0</td>\n",
       "      <td>0.0</td>\n",
       "      <td>0</td>\n",
       "    </tr>\n",
       "  </tbody>\n",
       "</table>\n",
       "<p>5 rows × 56 columns</p>\n",
       "</div>"
      ],
      "text/plain": [
       "          Unnamed: 0  Android  BasicIncome  BigBrother  Christianity  Cricket  \\\n",
       "0  FjolnirFimbulvetr      0.0          0.0    0.000000           0.0      0.0   \n",
       "1           Kazehaya      0.0          0.0    0.992278           0.0      0.0   \n",
       "2       ClawedGiroux      0.0          0.0    0.000000           0.0      0.0   \n",
       "3             MrKixs      0.0          0.0    0.000000           0.0      0.0   \n",
       "4  icancubutucantcme      0.0          0.0    0.000000           0.0      0.0   \n",
       "\n",
       "   Documentaries  Economics  Fitness  Futurology  ...  trees  \\\n",
       "0       0.022222   0.000000      0.0    0.000000  ...    0.0   \n",
       "1       0.000000   0.000000      0.0    0.000000  ...    0.0   \n",
       "2       0.000000   0.004464      0.0    0.017857  ...    0.0   \n",
       "3       0.000000   0.000000      0.0    0.000000  ...    0.0   \n",
       "4       0.000000   0.000000      0.0    0.000000  ...    0.0   \n",
       "\n",
       "   anti_alt_right_comb  bad_capitalism_comb  basketball_comb  \\\n",
       "0             0.133333             0.400000         0.000000   \n",
       "1             0.000000             0.000000         0.000000   \n",
       "2             0.000000             0.004464         0.696429   \n",
       "3             0.000000             0.000000         0.000000   \n",
       "4             0.000000             0.000000         0.000000   \n",
       "\n",
       "   conservative_comb  crypto_comb  football_comb  pc_comb  gaming_comb  target  \n",
       "0           0.000000          0.0        0.00000      0.0          0.0       0  \n",
       "1           0.000000          0.0        0.00000      0.0          0.0       0  \n",
       "2           0.000000          0.0        0.09375      0.0          0.0       0  \n",
       "3           0.035714          0.0        0.00000      0.0          0.0       0  \n",
       "4           0.000000          0.0        0.00000      0.0          0.0       0  \n",
       "\n",
       "[5 rows x 56 columns]"
      ]
     },
     "execution_count": 3,
     "metadata": {},
     "output_type": "execute_result"
    }
   ],
   "source": [
    "df_train.head()"
   ]
  },
  {
   "cell_type": "code",
   "execution_count": 4,
   "metadata": {},
   "outputs": [],
   "source": [
    "df_train = df_train.set_index('Unnamed: 0')"
   ]
  },
  {
   "cell_type": "code",
   "execution_count": 5,
   "metadata": {},
   "outputs": [],
   "source": [
    "df_test = pd.read_csv('fin_test_df.csv')"
   ]
  },
  {
   "cell_type": "code",
   "execution_count": 6,
   "metadata": {},
   "outputs": [
    {
     "data": {
      "text/html": [
       "<div>\n",
       "<style scoped>\n",
       "    .dataframe tbody tr th:only-of-type {\n",
       "        vertical-align: middle;\n",
       "    }\n",
       "\n",
       "    .dataframe tbody tr th {\n",
       "        vertical-align: top;\n",
       "    }\n",
       "\n",
       "    .dataframe thead th {\n",
       "        text-align: right;\n",
       "    }\n",
       "</style>\n",
       "<table border=\"1\" class=\"dataframe\">\n",
       "  <thead>\n",
       "    <tr style=\"text-align: right;\">\n",
       "      <th></th>\n",
       "      <th>Unnamed: 0</th>\n",
       "      <th>Android</th>\n",
       "      <th>BasicIncome</th>\n",
       "      <th>BigBrother</th>\n",
       "      <th>Christianity</th>\n",
       "      <th>Cricket</th>\n",
       "      <th>Documentaries</th>\n",
       "      <th>Economics</th>\n",
       "      <th>Fitness</th>\n",
       "      <th>Futurology</th>\n",
       "      <th>...</th>\n",
       "      <th>trees</th>\n",
       "      <th>anti_alt_right_comb</th>\n",
       "      <th>bad_capitalism_comb</th>\n",
       "      <th>basketball_comb</th>\n",
       "      <th>conservative_comb</th>\n",
       "      <th>crypto_comb</th>\n",
       "      <th>football_comb</th>\n",
       "      <th>pc_comb</th>\n",
       "      <th>gaming_comb</th>\n",
       "      <th>target</th>\n",
       "    </tr>\n",
       "  </thead>\n",
       "  <tbody>\n",
       "    <tr>\n",
       "      <th>0</th>\n",
       "      <td>Boomslangalang</td>\n",
       "      <td>0.0</td>\n",
       "      <td>0.000000</td>\n",
       "      <td>0.0</td>\n",
       "      <td>0.0</td>\n",
       "      <td>0.0</td>\n",
       "      <td>0.125</td>\n",
       "      <td>0.000000</td>\n",
       "      <td>0.000000</td>\n",
       "      <td>0.031250</td>\n",
       "      <td>...</td>\n",
       "      <td>0.000000</td>\n",
       "      <td>0.0</td>\n",
       "      <td>0.0</td>\n",
       "      <td>0.000000</td>\n",
       "      <td>0.0</td>\n",
       "      <td>0.000000</td>\n",
       "      <td>0.000000</td>\n",
       "      <td>0.0</td>\n",
       "      <td>0.031250</td>\n",
       "      <td>0</td>\n",
       "    </tr>\n",
       "    <tr>\n",
       "      <th>1</th>\n",
       "      <td>bczeon27</td>\n",
       "      <td>0.0</td>\n",
       "      <td>0.133333</td>\n",
       "      <td>0.0</td>\n",
       "      <td>0.0</td>\n",
       "      <td>0.0</td>\n",
       "      <td>0.000</td>\n",
       "      <td>0.000000</td>\n",
       "      <td>0.000000</td>\n",
       "      <td>0.133333</td>\n",
       "      <td>...</td>\n",
       "      <td>0.000000</td>\n",
       "      <td>0.0</td>\n",
       "      <td>0.0</td>\n",
       "      <td>0.000000</td>\n",
       "      <td>0.0</td>\n",
       "      <td>0.133333</td>\n",
       "      <td>0.000000</td>\n",
       "      <td>0.0</td>\n",
       "      <td>0.000000</td>\n",
       "      <td>1</td>\n",
       "    </tr>\n",
       "    <tr>\n",
       "      <th>2</th>\n",
       "      <td>madosooki</td>\n",
       "      <td>0.0</td>\n",
       "      <td>0.000000</td>\n",
       "      <td>0.0</td>\n",
       "      <td>0.0</td>\n",
       "      <td>0.0</td>\n",
       "      <td>0.000</td>\n",
       "      <td>0.000000</td>\n",
       "      <td>0.083333</td>\n",
       "      <td>0.166667</td>\n",
       "      <td>...</td>\n",
       "      <td>0.416667</td>\n",
       "      <td>0.0</td>\n",
       "      <td>0.0</td>\n",
       "      <td>0.000000</td>\n",
       "      <td>0.0</td>\n",
       "      <td>0.000000</td>\n",
       "      <td>0.000000</td>\n",
       "      <td>0.0</td>\n",
       "      <td>0.000000</td>\n",
       "      <td>1</td>\n",
       "    </tr>\n",
       "    <tr>\n",
       "      <th>3</th>\n",
       "      <td>krom0025</td>\n",
       "      <td>0.0</td>\n",
       "      <td>0.000000</td>\n",
       "      <td>0.0</td>\n",
       "      <td>0.0</td>\n",
       "      <td>0.0</td>\n",
       "      <td>0.000</td>\n",
       "      <td>0.017467</td>\n",
       "      <td>0.000000</td>\n",
       "      <td>0.000000</td>\n",
       "      <td>...</td>\n",
       "      <td>0.034934</td>\n",
       "      <td>0.0</td>\n",
       "      <td>0.0</td>\n",
       "      <td>0.000000</td>\n",
       "      <td>0.0</td>\n",
       "      <td>0.000000</td>\n",
       "      <td>0.004367</td>\n",
       "      <td>0.0</td>\n",
       "      <td>0.004367</td>\n",
       "      <td>0</td>\n",
       "    </tr>\n",
       "    <tr>\n",
       "      <th>4</th>\n",
       "      <td>Its_not_him</td>\n",
       "      <td>0.0</td>\n",
       "      <td>0.000000</td>\n",
       "      <td>0.0</td>\n",
       "      <td>0.0</td>\n",
       "      <td>0.0</td>\n",
       "      <td>0.000</td>\n",
       "      <td>0.000000</td>\n",
       "      <td>0.000000</td>\n",
       "      <td>0.030303</td>\n",
       "      <td>...</td>\n",
       "      <td>0.030303</td>\n",
       "      <td>0.0</td>\n",
       "      <td>0.0</td>\n",
       "      <td>0.060606</td>\n",
       "      <td>0.0</td>\n",
       "      <td>0.000000</td>\n",
       "      <td>0.030303</td>\n",
       "      <td>0.0</td>\n",
       "      <td>0.030303</td>\n",
       "      <td>0</td>\n",
       "    </tr>\n",
       "  </tbody>\n",
       "</table>\n",
       "<p>5 rows × 56 columns</p>\n",
       "</div>"
      ],
      "text/plain": [
       "       Unnamed: 0  Android  BasicIncome  BigBrother  Christianity  Cricket  \\\n",
       "0  Boomslangalang      0.0     0.000000         0.0           0.0      0.0   \n",
       "1        bczeon27      0.0     0.133333         0.0           0.0      0.0   \n",
       "2       madosooki      0.0     0.000000         0.0           0.0      0.0   \n",
       "3        krom0025      0.0     0.000000         0.0           0.0      0.0   \n",
       "4     Its_not_him      0.0     0.000000         0.0           0.0      0.0   \n",
       "\n",
       "   Documentaries  Economics   Fitness  Futurology  ...     trees  \\\n",
       "0          0.125   0.000000  0.000000    0.031250  ...  0.000000   \n",
       "1          0.000   0.000000  0.000000    0.133333  ...  0.000000   \n",
       "2          0.000   0.000000  0.083333    0.166667  ...  0.416667   \n",
       "3          0.000   0.017467  0.000000    0.000000  ...  0.034934   \n",
       "4          0.000   0.000000  0.000000    0.030303  ...  0.030303   \n",
       "\n",
       "   anti_alt_right_comb  bad_capitalism_comb  basketball_comb  \\\n",
       "0                  0.0                  0.0         0.000000   \n",
       "1                  0.0                  0.0         0.000000   \n",
       "2                  0.0                  0.0         0.000000   \n",
       "3                  0.0                  0.0         0.000000   \n",
       "4                  0.0                  0.0         0.060606   \n",
       "\n",
       "   conservative_comb  crypto_comb  football_comb  pc_comb  gaming_comb  target  \n",
       "0                0.0     0.000000       0.000000      0.0     0.031250       0  \n",
       "1                0.0     0.133333       0.000000      0.0     0.000000       1  \n",
       "2                0.0     0.000000       0.000000      0.0     0.000000       1  \n",
       "3                0.0     0.000000       0.004367      0.0     0.004367       0  \n",
       "4                0.0     0.000000       0.030303      0.0     0.030303       0  \n",
       "\n",
       "[5 rows x 56 columns]"
      ]
     },
     "execution_count": 6,
     "metadata": {},
     "output_type": "execute_result"
    }
   ],
   "source": [
    "df_test.head()"
   ]
  },
  {
   "cell_type": "code",
   "execution_count": 7,
   "metadata": {},
   "outputs": [],
   "source": [
    "df_test = df_test.set_index('Unnamed: 0')"
   ]
  },
  {
   "cell_type": "code",
   "execution_count": 8,
   "metadata": {},
   "outputs": [],
   "source": [
    "df_nlp = pd.read_csv('fin_cleaned_nlp.csv')"
   ]
  },
  {
   "cell_type": "code",
   "execution_count": 9,
   "metadata": {},
   "outputs": [
    {
     "data": {
      "text/html": [
       "<div>\n",
       "<style scoped>\n",
       "    .dataframe tbody tr th:only-of-type {\n",
       "        vertical-align: middle;\n",
       "    }\n",
       "\n",
       "    .dataframe tbody tr th {\n",
       "        vertical-align: top;\n",
       "    }\n",
       "\n",
       "    .dataframe thead th {\n",
       "        text-align: right;\n",
       "    }\n",
       "</style>\n",
       "<table border=\"1\" class=\"dataframe\">\n",
       "  <thead>\n",
       "    <tr style=\"text-align: right;\">\n",
       "      <th></th>\n",
       "      <th>Unnamed: 0</th>\n",
       "      <th>User</th>\n",
       "      <th>Text</th>\n",
       "      <th>Clean</th>\n",
       "    </tr>\n",
       "  </thead>\n",
       "  <tbody>\n",
       "    <tr>\n",
       "      <th>0</th>\n",
       "      <td>0</td>\n",
       "      <td>PDXorax</td>\n",
       "      <td>The Lump of Labor doesn't apply in this case,...</td>\n",
       "      <td>the lump of labor doesn apply in this case we ...</td>\n",
       "    </tr>\n",
       "    <tr>\n",
       "      <th>1</th>\n",
       "      <td>1</td>\n",
       "      <td>PrincePizza1</td>\n",
       "      <td>I think things \"getting better\" to people lik...</td>\n",
       "      <td>think things getting better to people like thi...</td>\n",
       "    </tr>\n",
       "    <tr>\n",
       "      <th>2</th>\n",
       "      <td>2</td>\n",
       "      <td>Marmar79</td>\n",
       "      <td>Thank you. This made my day He so edgy.\\n\\nEd...</td>\n",
       "      <td>thank you this made my day he so edgy edit don...</td>\n",
       "    </tr>\n",
       "    <tr>\n",
       "      <th>3</th>\n",
       "      <td>3</td>\n",
       "      <td>IRISHE3</td>\n",
       "      <td>I just wish politicians would put the money s...</td>\n",
       "      <td>just wish politicians would put the money shit...</td>\n",
       "    </tr>\n",
       "    <tr>\n",
       "      <th>4</th>\n",
       "      <td>4</td>\n",
       "      <td>RonZiggy</td>\n",
       "      <td>Climate change as well. Wow...just wow What i...</td>\n",
       "      <td>climate change as well wow just wow what is th...</td>\n",
       "    </tr>\n",
       "  </tbody>\n",
       "</table>\n",
       "</div>"
      ],
      "text/plain": [
       "   Unnamed: 0          User  \\\n",
       "0           0       PDXorax   \n",
       "1           1  PrincePizza1   \n",
       "2           2      Marmar79   \n",
       "3           3       IRISHE3   \n",
       "4           4      RonZiggy   \n",
       "\n",
       "                                                Text  \\\n",
       "0   The Lump of Labor doesn't apply in this case,...   \n",
       "1   I think things \"getting better\" to people lik...   \n",
       "2   Thank you. This made my day He so edgy.\\n\\nEd...   \n",
       "3   I just wish politicians would put the money s...   \n",
       "4   Climate change as well. Wow...just wow What i...   \n",
       "\n",
       "                                               Clean  \n",
       "0  the lump of labor doesn apply in this case we ...  \n",
       "1  think things getting better to people like thi...  \n",
       "2  thank you this made my day he so edgy edit don...  \n",
       "3  just wish politicians would put the money shit...  \n",
       "4  climate change as well wow just wow what is th...  "
      ]
     },
     "execution_count": 9,
     "metadata": {},
     "output_type": "execute_result"
    }
   ],
   "source": [
    "df_nlp.head()"
   ]
  },
  {
   "cell_type": "code",
   "execution_count": 10,
   "metadata": {},
   "outputs": [],
   "source": [
    "df_nlp.set_index('User',inplace=True)"
   ]
  },
  {
   "cell_type": "markdown",
   "metadata": {},
   "source": [
    "Remove stop words and apply lemmatization to NLP data"
   ]
  },
  {
   "cell_type": "code",
   "execution_count": 11,
   "metadata": {},
   "outputs": [
    {
     "data": {
      "text/plain": [
       "Unnamed: 0    0\n",
       "Text          0\n",
       "Clean         3\n",
       "dtype: int64"
      ]
     },
     "execution_count": 11,
     "metadata": {},
     "output_type": "execute_result"
    }
   ],
   "source": [
    "df_nlp.isnull().sum()"
   ]
  },
  {
   "cell_type": "code",
   "execution_count": 12,
   "metadata": {},
   "outputs": [],
   "source": [
    "df_nlp.dropna(axis=0,inplace=True)"
   ]
  },
  {
   "cell_type": "code",
   "execution_count": 13,
   "metadata": {},
   "outputs": [],
   "source": [
    "tokenizer = RegexpTokenizer('\\s+', gaps=True)\n",
    "lemmatizer = WordNetLemmatizer()\n",
    "stops = set(stopwords.words('english'))"
   ]
  },
  {
   "cell_type": "code",
   "execution_count": 14,
   "metadata": {},
   "outputs": [],
   "source": [
    "#Add candidates to the stop words list since these will greatly skew results and not help us identify the topics they talk about\n",
    "stops.update(['yang','andrew','pete','buttigieg','mayor','sanders','bernie','bern','biden','kamala','harris','warren','elizabeth','tulsi','gabbard'])"
   ]
  },
  {
   "cell_type": "code",
   "execution_count": 15,
   "metadata": {},
   "outputs": [],
   "source": [
    "#don can be a nickname for donald and has relevance for this project\n",
    "stops.remove('don')"
   ]
  },
  {
   "cell_type": "code",
   "execution_count": 16,
   "metadata": {},
   "outputs": [],
   "source": [
    "#Actual function that tokenizes text, removes stop words, lemmatizes the tokens, and returns the tokens joined with a space\n",
    "def stop_and_lemma(text):\n",
    "    processed_tokens=[]\n",
    "    tokens = tokenizer.tokenize(text)\n",
    "    for token in tokens:\n",
    "        if token not in stops:\n",
    "            processed_tokens.append(lemmatizer.lemmatize(token))\n",
    "    return(\" \".join(processed_tokens))"
   ]
  },
  {
   "cell_type": "code",
   "execution_count": 17,
   "metadata": {},
   "outputs": [],
   "source": [
    "df_nlp['Use'] = df_nlp['Clean'].apply(stop_and_lemma)"
   ]
  },
  {
   "cell_type": "code",
   "execution_count": 18,
   "metadata": {},
   "outputs": [],
   "source": [
    "df_nlp.drop(labels=['Unnamed: 0','Text','Clean'],axis=1,inplace=True)"
   ]
  },
  {
   "cell_type": "markdown",
   "metadata": {},
   "source": [
    "Combine NLP and Subreddit features"
   ]
  },
  {
   "cell_type": "code",
   "execution_count": 19,
   "metadata": {},
   "outputs": [
    {
     "data": {
      "text/plain": [
       "(2110, 55)"
      ]
     },
     "execution_count": 19,
     "metadata": {},
     "output_type": "execute_result"
    }
   ],
   "source": [
    "df_train.shape"
   ]
  },
  {
   "cell_type": "code",
   "execution_count": 20,
   "metadata": {},
   "outputs": [
    {
     "data": {
      "text/plain": [
       "(694, 55)"
      ]
     },
     "execution_count": 20,
     "metadata": {},
     "output_type": "execute_result"
    }
   ],
   "source": [
    "df_test.shape"
   ]
  },
  {
   "cell_type": "code",
   "execution_count": 21,
   "metadata": {},
   "outputs": [
    {
     "data": {
      "text/html": [
       "<div>\n",
       "<style scoped>\n",
       "    .dataframe tbody tr th:only-of-type {\n",
       "        vertical-align: middle;\n",
       "    }\n",
       "\n",
       "    .dataframe tbody tr th {\n",
       "        vertical-align: top;\n",
       "    }\n",
       "\n",
       "    .dataframe thead th {\n",
       "        text-align: right;\n",
       "    }\n",
       "</style>\n",
       "<table border=\"1\" class=\"dataframe\">\n",
       "  <thead>\n",
       "    <tr style=\"text-align: right;\">\n",
       "      <th></th>\n",
       "      <th>Android</th>\n",
       "      <th>BasicIncome</th>\n",
       "      <th>BigBrother</th>\n",
       "      <th>Christianity</th>\n",
       "      <th>Cricket</th>\n",
       "      <th>Documentaries</th>\n",
       "      <th>Economics</th>\n",
       "      <th>Fitness</th>\n",
       "      <th>Futurology</th>\n",
       "      <th>HomeImprovement</th>\n",
       "      <th>...</th>\n",
       "      <th>trees</th>\n",
       "      <th>anti_alt_right_comb</th>\n",
       "      <th>bad_capitalism_comb</th>\n",
       "      <th>basketball_comb</th>\n",
       "      <th>conservative_comb</th>\n",
       "      <th>crypto_comb</th>\n",
       "      <th>football_comb</th>\n",
       "      <th>pc_comb</th>\n",
       "      <th>gaming_comb</th>\n",
       "      <th>target</th>\n",
       "    </tr>\n",
       "    <tr>\n",
       "      <th>Unnamed: 0</th>\n",
       "      <th></th>\n",
       "      <th></th>\n",
       "      <th></th>\n",
       "      <th></th>\n",
       "      <th></th>\n",
       "      <th></th>\n",
       "      <th></th>\n",
       "      <th></th>\n",
       "      <th></th>\n",
       "      <th></th>\n",
       "      <th></th>\n",
       "      <th></th>\n",
       "      <th></th>\n",
       "      <th></th>\n",
       "      <th></th>\n",
       "      <th></th>\n",
       "      <th></th>\n",
       "      <th></th>\n",
       "      <th></th>\n",
       "      <th></th>\n",
       "      <th></th>\n",
       "    </tr>\n",
       "  </thead>\n",
       "  <tbody>\n",
       "    <tr>\n",
       "      <th>FjolnirFimbulvetr</th>\n",
       "      <td>0.0</td>\n",
       "      <td>0.0</td>\n",
       "      <td>0.000000</td>\n",
       "      <td>0.0</td>\n",
       "      <td>0.0</td>\n",
       "      <td>0.022222</td>\n",
       "      <td>0.000000</td>\n",
       "      <td>0.0</td>\n",
       "      <td>0.000000</td>\n",
       "      <td>0.0</td>\n",
       "      <td>...</td>\n",
       "      <td>0.0</td>\n",
       "      <td>0.133333</td>\n",
       "      <td>0.400000</td>\n",
       "      <td>0.000000</td>\n",
       "      <td>0.000000</td>\n",
       "      <td>0.0</td>\n",
       "      <td>0.00000</td>\n",
       "      <td>0.0</td>\n",
       "      <td>0.0</td>\n",
       "      <td>0</td>\n",
       "    </tr>\n",
       "    <tr>\n",
       "      <th>Kazehaya</th>\n",
       "      <td>0.0</td>\n",
       "      <td>0.0</td>\n",
       "      <td>0.992278</td>\n",
       "      <td>0.0</td>\n",
       "      <td>0.0</td>\n",
       "      <td>0.000000</td>\n",
       "      <td>0.000000</td>\n",
       "      <td>0.0</td>\n",
       "      <td>0.000000</td>\n",
       "      <td>0.0</td>\n",
       "      <td>...</td>\n",
       "      <td>0.0</td>\n",
       "      <td>0.000000</td>\n",
       "      <td>0.000000</td>\n",
       "      <td>0.000000</td>\n",
       "      <td>0.000000</td>\n",
       "      <td>0.0</td>\n",
       "      <td>0.00000</td>\n",
       "      <td>0.0</td>\n",
       "      <td>0.0</td>\n",
       "      <td>0</td>\n",
       "    </tr>\n",
       "    <tr>\n",
       "      <th>ClawedGiroux</th>\n",
       "      <td>0.0</td>\n",
       "      <td>0.0</td>\n",
       "      <td>0.000000</td>\n",
       "      <td>0.0</td>\n",
       "      <td>0.0</td>\n",
       "      <td>0.000000</td>\n",
       "      <td>0.004464</td>\n",
       "      <td>0.0</td>\n",
       "      <td>0.017857</td>\n",
       "      <td>0.0</td>\n",
       "      <td>...</td>\n",
       "      <td>0.0</td>\n",
       "      <td>0.000000</td>\n",
       "      <td>0.004464</td>\n",
       "      <td>0.696429</td>\n",
       "      <td>0.000000</td>\n",
       "      <td>0.0</td>\n",
       "      <td>0.09375</td>\n",
       "      <td>0.0</td>\n",
       "      <td>0.0</td>\n",
       "      <td>0</td>\n",
       "    </tr>\n",
       "    <tr>\n",
       "      <th>MrKixs</th>\n",
       "      <td>0.0</td>\n",
       "      <td>0.0</td>\n",
       "      <td>0.000000</td>\n",
       "      <td>0.0</td>\n",
       "      <td>0.0</td>\n",
       "      <td>0.000000</td>\n",
       "      <td>0.000000</td>\n",
       "      <td>0.0</td>\n",
       "      <td>0.000000</td>\n",
       "      <td>0.0</td>\n",
       "      <td>...</td>\n",
       "      <td>0.0</td>\n",
       "      <td>0.000000</td>\n",
       "      <td>0.000000</td>\n",
       "      <td>0.000000</td>\n",
       "      <td>0.035714</td>\n",
       "      <td>0.0</td>\n",
       "      <td>0.00000</td>\n",
       "      <td>0.0</td>\n",
       "      <td>0.0</td>\n",
       "      <td>0</td>\n",
       "    </tr>\n",
       "    <tr>\n",
       "      <th>icancubutucantcme</th>\n",
       "      <td>0.0</td>\n",
       "      <td>0.0</td>\n",
       "      <td>0.000000</td>\n",
       "      <td>0.0</td>\n",
       "      <td>0.0</td>\n",
       "      <td>0.000000</td>\n",
       "      <td>0.000000</td>\n",
       "      <td>0.0</td>\n",
       "      <td>0.000000</td>\n",
       "      <td>0.0</td>\n",
       "      <td>...</td>\n",
       "      <td>0.0</td>\n",
       "      <td>0.000000</td>\n",
       "      <td>0.000000</td>\n",
       "      <td>0.000000</td>\n",
       "      <td>0.000000</td>\n",
       "      <td>0.0</td>\n",
       "      <td>0.00000</td>\n",
       "      <td>0.0</td>\n",
       "      <td>0.0</td>\n",
       "      <td>0</td>\n",
       "    </tr>\n",
       "  </tbody>\n",
       "</table>\n",
       "<p>5 rows × 55 columns</p>\n",
       "</div>"
      ],
      "text/plain": [
       "                   Android  BasicIncome  BigBrother  Christianity  Cricket  \\\n",
       "Unnamed: 0                                                                   \n",
       "FjolnirFimbulvetr      0.0          0.0    0.000000           0.0      0.0   \n",
       "Kazehaya               0.0          0.0    0.992278           0.0      0.0   \n",
       "ClawedGiroux           0.0          0.0    0.000000           0.0      0.0   \n",
       "MrKixs                 0.0          0.0    0.000000           0.0      0.0   \n",
       "icancubutucantcme      0.0          0.0    0.000000           0.0      0.0   \n",
       "\n",
       "                   Documentaries  Economics  Fitness  Futurology  \\\n",
       "Unnamed: 0                                                         \n",
       "FjolnirFimbulvetr       0.022222   0.000000      0.0    0.000000   \n",
       "Kazehaya                0.000000   0.000000      0.0    0.000000   \n",
       "ClawedGiroux            0.000000   0.004464      0.0    0.017857   \n",
       "MrKixs                  0.000000   0.000000      0.0    0.000000   \n",
       "icancubutucantcme       0.000000   0.000000      0.0    0.000000   \n",
       "\n",
       "                   HomeImprovement  ...  trees  anti_alt_right_comb  \\\n",
       "Unnamed: 0                          ...                               \n",
       "FjolnirFimbulvetr              0.0  ...    0.0             0.133333   \n",
       "Kazehaya                       0.0  ...    0.0             0.000000   \n",
       "ClawedGiroux                   0.0  ...    0.0             0.000000   \n",
       "MrKixs                         0.0  ...    0.0             0.000000   \n",
       "icancubutucantcme              0.0  ...    0.0             0.000000   \n",
       "\n",
       "                   bad_capitalism_comb  basketball_comb  conservative_comb  \\\n",
       "Unnamed: 0                                                                   \n",
       "FjolnirFimbulvetr             0.400000         0.000000           0.000000   \n",
       "Kazehaya                      0.000000         0.000000           0.000000   \n",
       "ClawedGiroux                  0.004464         0.696429           0.000000   \n",
       "MrKixs                        0.000000         0.000000           0.035714   \n",
       "icancubutucantcme             0.000000         0.000000           0.000000   \n",
       "\n",
       "                   crypto_comb  football_comb  pc_comb  gaming_comb  target  \n",
       "Unnamed: 0                                                                   \n",
       "FjolnirFimbulvetr          0.0        0.00000      0.0          0.0       0  \n",
       "Kazehaya                   0.0        0.00000      0.0          0.0       0  \n",
       "ClawedGiroux               0.0        0.09375      0.0          0.0       0  \n",
       "MrKixs                     0.0        0.00000      0.0          0.0       0  \n",
       "icancubutucantcme          0.0        0.00000      0.0          0.0       0  \n",
       "\n",
       "[5 rows x 55 columns]"
      ]
     },
     "execution_count": 21,
     "metadata": {},
     "output_type": "execute_result"
    }
   ],
   "source": [
    "df_train.head()"
   ]
  },
  {
   "cell_type": "code",
   "execution_count": 22,
   "metadata": {},
   "outputs": [
    {
     "data": {
      "text/html": [
       "<div>\n",
       "<style scoped>\n",
       "    .dataframe tbody tr th:only-of-type {\n",
       "        vertical-align: middle;\n",
       "    }\n",
       "\n",
       "    .dataframe tbody tr th {\n",
       "        vertical-align: top;\n",
       "    }\n",
       "\n",
       "    .dataframe thead th {\n",
       "        text-align: right;\n",
       "    }\n",
       "</style>\n",
       "<table border=\"1\" class=\"dataframe\">\n",
       "  <thead>\n",
       "    <tr style=\"text-align: right;\">\n",
       "      <th></th>\n",
       "      <th>Use</th>\n",
       "    </tr>\n",
       "    <tr>\n",
       "      <th>User</th>\n",
       "      <th></th>\n",
       "    </tr>\n",
       "  </thead>\n",
       "  <tbody>\n",
       "    <tr>\n",
       "      <th>PDXorax</th>\n",
       "      <td>lump labor apply case looking rd labor automat...</td>\n",
       "    </tr>\n",
       "    <tr>\n",
       "      <th>PrincePizza1</th>\n",
       "      <td>think thing getting better people like everybo...</td>\n",
       "    </tr>\n",
       "    <tr>\n",
       "      <th>Marmar79</th>\n",
       "      <td>thank made day edgy edit don think wrong think...</td>\n",
       "    </tr>\n",
       "    <tr>\n",
       "      <th>IRISHE3</th>\n",
       "      <td>wish politician would put money shit real doll...</td>\n",
       "    </tr>\n",
       "    <tr>\n",
       "      <th>RonZiggy</th>\n",
       "      <td>climate change well wow wow well happened anyt...</td>\n",
       "    </tr>\n",
       "  </tbody>\n",
       "</table>\n",
       "</div>"
      ],
      "text/plain": [
       "                                                            Use\n",
       "User                                                           \n",
       "PDXorax       lump labor apply case looking rd labor automat...\n",
       "PrincePizza1  think thing getting better people like everybo...\n",
       "Marmar79      thank made day edgy edit don think wrong think...\n",
       "IRISHE3       wish politician would put money shit real doll...\n",
       "RonZiggy      climate change well wow wow well happened anyt..."
      ]
     },
     "execution_count": 22,
     "metadata": {},
     "output_type": "execute_result"
    }
   ],
   "source": [
    "df_nlp.head()"
   ]
  },
  {
   "cell_type": "code",
   "execution_count": 23,
   "metadata": {},
   "outputs": [],
   "source": [
    "df_train.index.rename('User',inplace=True)\n",
    "df_test.index.rename('User',inplace=True)"
   ]
  },
  {
   "cell_type": "code",
   "execution_count": 24,
   "metadata": {},
   "outputs": [],
   "source": [
    "df_train = pd.merge(left = df_train,right = df_nlp,how='left',on='User')\n",
    "df_train['predicted_target']=df_train['target']\n",
    "df_train.drop(labels=['target'],axis=1,inplace=True)"
   ]
  },
  {
   "cell_type": "code",
   "execution_count": 25,
   "metadata": {},
   "outputs": [],
   "source": [
    "df_test = pd.merge(df_test,df_nlp,how='left',on='User')\n",
    "df_test['predicted_target']=df_test['target']\n",
    "df_test.drop(labels=['target'],axis=1,inplace=True)"
   ]
  },
  {
   "cell_type": "code",
   "execution_count": 26,
   "metadata": {},
   "outputs": [],
   "source": [
    "df_train['Use'].fillna(' ',inplace=True)"
   ]
  },
  {
   "cell_type": "code",
   "execution_count": 27,
   "metadata": {},
   "outputs": [],
   "source": [
    "df_test['Use'].fillna(' ',inplace=True)"
   ]
  },
  {
   "cell_type": "markdown",
   "metadata": {},
   "source": [
    "Modeling"
   ]
  },
  {
   "cell_type": "code",
   "execution_count": 28,
   "metadata": {},
   "outputs": [
    {
     "name": "stdout",
     "output_type": "stream",
     "text": [
      "Scores For:  (1, 1) 100\n",
      "0.8161137440758294\n",
      "0.792507204610951\n",
      "Scores For:  (1, 1) 500\n",
      "0.8417061611374408\n",
      "0.8126801152737753\n",
      "Scores For:  (1, 1) 1000\n",
      "0.8469194312796209\n",
      "0.8025936599423631\n",
      "Scores For:  (1, 2) 100\n",
      "0.8161137440758294\n",
      "0.792507204610951\n",
      "Scores For:  (1, 2) 500\n",
      "0.8417061611374408\n",
      "0.8112391930835735\n",
      "Scores For:  (1, 2) 1000\n",
      "0.8473933649289099\n",
      "0.8040345821325648\n",
      "Scores For:  (1, 3) 100\n",
      "0.8161137440758294\n",
      "0.792507204610951\n",
      "Scores For:  (1, 3) 500\n",
      "0.8417061611374408\n",
      "0.8112391930835735\n",
      "Scores For:  (1, 3) 1000\n",
      "0.8473933649289099\n",
      "0.8040345821325648\n"
     ]
    }
   ],
   "source": [
    "#Due to the multiple operations that needed to be run on these dataframes between the vecotorizing and\n",
    "## the logisitic regression, I opted to use a for loop to tune my hyperparameters as opposed to a grid search\n",
    "for n_grams in [(1,1),(1,2),(1,3)]:\n",
    "    for features in [100,500,1000]:\n",
    "        #initialize TF-IDF vectorizer\n",
    "        tf = TfidfVectorizer(ngram_range = n_grams,max_features=features)\n",
    "        #Generate sparse matrixes and combine with previous features\n",
    "        sparseXtrain = tf.fit_transform(df_train['Use'])\n",
    "        sparseXtrain_df= pd.DataFrame(sparseXtrain.toarray(),\n",
    "               columns=tf.get_feature_names(),index=df_train.index)\n",
    "        df_train2 = pd.concat([df_train.drop('Use',axis=1),sparseXtrain_df],axis=1,join='inner')\n",
    "\n",
    "        sparseXtest = tf.transform(df_test['Use'])\n",
    "        sparseXtest_df= pd.DataFrame(sparseXtest.toarray(),\n",
    "               columns=tf.get_feature_names(),index=df_test.index)\n",
    "        df_test2 = pd.concat([df_test.drop('Use',axis=1),sparseXtest_df],axis=1,join='inner')\n",
    "\n",
    "        #Create X_Train/y_train\n",
    "        X_train = df_train2.drop('predicted_target',axis=1)\n",
    "        X_test = df_test2.drop('predicted_target',axis=1)\n",
    "        y_train = df_train2['predicted_target']\n",
    "        y_test = df_test2['predicted_target']\n",
    "\n",
    "        #Run logisitic Regression\n",
    "        lr = LogisticRegression(solver='lbfgs')\n",
    "        lr.fit(X_train,y_train)\n",
    "        print('Scores For: ',n_grams,features)\n",
    "        print(lr.score(X_train,y_train))\n",
    "        print(lr.score(X_test,y_test))"
   ]
  },
  {
   "cell_type": "code",
   "execution_count": 29,
   "metadata": {},
   "outputs": [
    {
     "name": "stdout",
     "output_type": "stream",
     "text": [
      "Scores For: (1,1) & 500 features\n",
      "0.8417061611374408\n",
      "0.8126801152737753\n"
     ]
    }
   ],
   "source": [
    "#Using the TF-IDF vecotrizer that had the best score and ran in the shortest time\n",
    "tf = TfidfVectorizer(ngram_range = (1,1),max_features=500)\n",
    "        \n",
    "#Generate sparse matrixes and combine with previous features\n",
    "sparseXtrain = tf.fit_transform(df_train['Use'])\n",
    "sparseXtrain_df= pd.DataFrame(sparseXtrain.toarray(),\n",
    "       columns=tf.get_feature_names(),index=df_train.index)\n",
    "df_train2 = pd.concat([df_train.drop('Use',axis=1),sparseXtrain_df],axis=1,join='inner')\n",
    "\n",
    "sparseXtest = tf.transform(df_test['Use'])\n",
    "sparseXtest_df= pd.DataFrame(sparseXtest.toarray(),\n",
    "       columns=tf.get_feature_names(),index=df_test.index)\n",
    "df_test2 = pd.concat([df_test.drop('Use',axis=1),sparseXtest_df],axis=1,join='inner')\n",
    "\n",
    "#Create X_Train/y_train\n",
    "X_train = df_train2.drop('predicted_target',axis=1)\n",
    "X_test = df_test2.drop('predicted_target',axis=1)\n",
    "y_train = df_train2['predicted_target']\n",
    "y_test = df_test2['predicted_target']\n",
    "\n",
    "#Run logisitic Regression\n",
    "lr = LogisticRegression(solver='lbfgs')\n",
    "lr.fit(X_train,y_train)\n",
    "print('Scores For: (1,1) & 500 features')\n",
    "print(lr.score(X_train,y_train))\n",
    "print(lr.score(X_test,y_test))"
   ]
  },
  {
   "cell_type": "code",
   "execution_count": 30,
   "metadata": {},
   "outputs": [],
   "source": [
    "from sklearn.metrics import confusion_matrix"
   ]
  },
  {
   "cell_type": "code",
   "execution_count": 31,
   "metadata": {},
   "outputs": [
    {
     "data": {
      "text/plain": [
       "array([[491,  23],\n",
       "       [107,  73]])"
      ]
     },
     "execution_count": 31,
     "metadata": {},
     "output_type": "execute_result"
    }
   ],
   "source": [
    "confusion_matrix(y_test,lr.predict(X_test))"
   ]
  },
  {
   "cell_type": "code",
   "execution_count": 32,
   "metadata": {},
   "outputs": [
    {
     "data": {
      "text/plain": [
       "0    514\n",
       "1    180\n",
       "Name: predicted_target, dtype: int64"
      ]
     },
     "execution_count": 32,
     "metadata": {},
     "output_type": "execute_result"
    }
   ],
   "source": [
    "y_test.value_counts()"
   ]
  },
  {
   "cell_type": "code",
   "execution_count": 33,
   "metadata": {},
   "outputs": [
    {
     "data": {
      "text/plain": [
       "0    0.740634\n",
       "1    0.259366\n",
       "Name: predicted_target, dtype: float64"
      ]
     },
     "execution_count": 33,
     "metadata": {},
     "output_type": "execute_result"
    }
   ],
   "source": [
    "y_test.value_counts(normalize=True)"
   ]
  },
  {
   "cell_type": "code",
   "execution_count": 34,
   "metadata": {},
   "outputs": [],
   "source": [
    "#Unbalanced classes are causing us to underpreict on the positive class, let's use an oversampling technique"
   ]
  },
  {
   "cell_type": "markdown",
   "metadata": {},
   "source": [
    "Oversample the minority class"
   ]
  },
  {
   "cell_type": "code",
   "execution_count": 35,
   "metadata": {},
   "outputs": [],
   "source": [
    "smt = SMOTE(random_state=42)"
   ]
  },
  {
   "cell_type": "code",
   "execution_count": 36,
   "metadata": {},
   "outputs": [],
   "source": [
    "X_train_bal,y_train_bal = smt.fit_sample(X_train,y_train)"
   ]
  },
  {
   "cell_type": "code",
   "execution_count": 37,
   "metadata": {},
   "outputs": [],
   "source": [
    "lrsmt = LogisticRegression(solver='lbfgs')"
   ]
  },
  {
   "cell_type": "code",
   "execution_count": 38,
   "metadata": {},
   "outputs": [
    {
     "data": {
      "text/plain": [
       "LogisticRegression(C=1.0, class_weight=None, dual=False, fit_intercept=True,\n",
       "                   intercept_scaling=1, l1_ratio=None, max_iter=100,\n",
       "                   multi_class='warn', n_jobs=None, penalty='l2',\n",
       "                   random_state=None, solver='lbfgs', tol=0.0001, verbose=0,\n",
       "                   warm_start=False)"
      ]
     },
     "execution_count": 38,
     "metadata": {},
     "output_type": "execute_result"
    }
   ],
   "source": [
    "lrsmt.fit(X_train_bal,y_train_bal)"
   ]
  },
  {
   "cell_type": "code",
   "execution_count": 39,
   "metadata": {},
   "outputs": [
    {
     "data": {
      "text/plain": [
       "0.852411575562701"
      ]
     },
     "execution_count": 39,
     "metadata": {},
     "output_type": "execute_result"
    }
   ],
   "source": [
    "lrsmt.score(X_train_bal,y_train_bal)"
   ]
  },
  {
   "cell_type": "code",
   "execution_count": 40,
   "metadata": {},
   "outputs": [
    {
     "data": {
      "text/plain": [
       "0.7492795389048992"
      ]
     },
     "execution_count": 40,
     "metadata": {},
     "output_type": "execute_result"
    }
   ],
   "source": [
    "lrsmt.score(X_test,y_test)"
   ]
  },
  {
   "cell_type": "code",
   "execution_count": 41,
   "metadata": {},
   "outputs": [
    {
     "data": {
      "text/plain": [
       "array([[395, 119],\n",
       "       [ 55, 125]])"
      ]
     },
     "execution_count": 41,
     "metadata": {},
     "output_type": "execute_result"
    }
   ],
   "source": [
    "confusion_matrix(y_test,lrsmt.predict(X_test))"
   ]
  },
  {
   "cell_type": "code",
   "execution_count": 42,
   "metadata": {},
   "outputs": [
    {
     "data": {
      "text/plain": [
       "0.6944444444444444"
      ]
     },
     "execution_count": 42,
     "metadata": {},
     "output_type": "execute_result"
    }
   ],
   "source": [
    "recall_score(y_test,lrsmt.predict(X_test))"
   ]
  },
  {
   "cell_type": "markdown",
   "metadata": {},
   "source": [
    "Generate an ROC Curve"
   ]
  },
  {
   "cell_type": "code",
   "execution_count": 43,
   "metadata": {},
   "outputs": [],
   "source": [
    "pred_proba = [i[1] for i in lrsmt.predict_proba(X_test)]\n",
    "\n",
    "pred_df = pd.DataFrame({'true_values': y_test,\n",
    "                        'pred_probs':pred_proba})"
   ]
  },
  {
   "cell_type": "code",
   "execution_count": 48,
   "metadata": {},
   "outputs": [
    {
     "data": {
      "image/png": "[encoded data removed]",
      "text/plain": [
       "<Figure size 720x504 with 1 Axes>"
      ]
     },
     "metadata": {
      "needs_background": "light"
     },
     "output_type": "display_data"
    }
   ],
   "source": [
    "#Code taken from Matt Brems DSI-US-8 4.04 lesson\n",
    "# Create figure.\n",
    "plt.figure(figsize = (10,7))\n",
    "\n",
    "# Create threshold values.\n",
    "thresholds = np.linspace(0, 1, 200)\n",
    "\n",
    "# Define function to calculate sensitivity. (True positive rate.)\n",
    "def TPR(df, true_col, pred_prob_col, threshold):\n",
    "    true_positive = df[(df[true_col] == 1) & (df[pred_prob_col] >= threshold)].shape[0]\n",
    "    false_negative = df[(df[true_col] == 1) & (df[pred_prob_col] < threshold)].shape[0]\n",
    "    return true_positive / (true_positive + false_negative)\n",
    "    \n",
    "\n",
    "# Define function to calculate 1 - specificity. (False positive rate.)\n",
    "def FPR(df, true_col, pred_prob_col, threshold):\n",
    "    true_negative = df[(df[true_col] == 0) & (df[pred_prob_col] <= threshold)].shape[0]\n",
    "    false_positive = df[(df[true_col] == 0) & (df[pred_prob_col] > threshold)].shape[0]\n",
    "    return 1 - (true_negative / (true_negative + false_positive))\n",
    "    \n",
    "# Calculate sensitivity & 1-specificity for each threshold between 0 and 1.\n",
    "tpr_values = [TPR(pred_df, 'true_values', 'pred_probs', prob) for prob in thresholds]\n",
    "fpr_values = [FPR(pred_df, 'true_values', 'pred_probs', prob) for prob in thresholds]\n",
    "\n",
    "# Plot ROC curve.\n",
    "plt.plot(fpr_values, # False Positive Rate on X-axis\n",
    "         tpr_values, # True Positive Rate on Y-axis\n",
    "         label='ROC Curve')\n",
    "\n",
    "# Plot baseline. (Perfect overlap between the two populations.)\n",
    "plt.plot(np.linspace(0, 1, 200),\n",
    "         np.linspace(0, 1, 200),\n",
    "         label='baseline',\n",
    "         linestyle='--')\n",
    "\n",
    "plt.axvline(x=.231, color='k', linestyle='--', label='50% probability point')\n",
    "plt.axvline(x=.32, color='k', linestyle='--', label='ideal probability point')\n",
    "\n",
    "\n",
    "# Label axes.\n",
    "plt.title('Receiver Operating Characteristic Curve (SMOTE)', fontsize=22)\n",
    "plt.ylabel('Sensitivity', fontsize=18)\n",
    "plt.xlabel('1 - Specificity', fontsize=18)\n",
    "\n",
    "\n",
    "# Create legend.\n",
    "plt.legend(fontsize=16);"
   ]
  },
  {
   "cell_type": "markdown",
   "metadata": {},
   "source": [
    "The default probability point for a sklearn binary classifier is .5. My model at this probablity has a specificity score of .769 and thus a 1-specificity score of .231. I added a verticle line at this point to indicate where on the ROC curve my model was and to determine if there was any value in adjusting the probability threshold of my model to improve the sensitivity of it. Based on this curve, decreasing my probabiity threshold (which would cause me to move right on the ROC curve) to the 2nd veritical line would allow me to maximize sensitivity without causing that drastic of a drop in my specificity score."
   ]
  },
  {
   "cell_type": "code",
   "execution_count": 45,
   "metadata": {},
   "outputs": [
    {
     "data": {
      "text/plain": [
       "0.8175475572849114"
      ]
     },
     "execution_count": 45,
     "metadata": {},
     "output_type": "execute_result"
    }
   ],
   "source": [
    "roc_auc_score(pred_df['true_values'], pred_df['pred_probs'])"
   ]
  }
 ],
 "metadata": {
  "kernelspec": {
   "display_name": "Python 3",
   "language": "python",
   "name": "python3"
  },
  "language_info": {
   "codemirror_mode": {
    "name": "ipython",
    "version": 3
   },
   "file_extension": ".py",
   "mimetype": "text/x-python",
   "name": "python",
   "nbconvert_exporter": "python",
   "pygments_lexer": "ipython3",
   "version": "3.7.3"
  }
 },
 "nbformat": 4,
 "nbformat_minor": 2
}
