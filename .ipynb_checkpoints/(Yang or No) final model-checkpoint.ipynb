{
 "cells": [
  {
   "cell_type": "code",
   "execution_count": 6,
   "metadata": {},
   "outputs": [],
   "source": [
    "import pandas as pd\n",
    "from sklearn.linear_model import LogisticRegression\n",
    "from imblearn.over_sampling import SMOTE"
   ]
  },
  {
   "cell_type": "code",
   "execution_count": 7,
   "metadata": {},
   "outputs": [],
   "source": [
    "df = pd.read_csv('combined_scrape_2.csv')"
   ]
  },
  {
   "cell_type": "code",
   "execution_count": 8,
   "metadata": {},
   "outputs": [
    {
     "data": {
      "text/plain": [
       "(3543710, 4)"
      ]
     },
     "execution_count": 8,
     "metadata": {},
     "output_type": "execute_result"
    }
   ],
   "source": [
    "df.shape"
   ]
  },
  {
   "cell_type": "code",
   "execution_count": 9,
   "metadata": {},
   "outputs": [
    {
     "data": {
      "text/html": [
       "<div>\n",
       "<style scoped>\n",
       "    .dataframe tbody tr th:only-of-type {\n",
       "        vertical-align: middle;\n",
       "    }\n",
       "\n",
       "    .dataframe tbody tr th {\n",
       "        vertical-align: top;\n",
       "    }\n",
       "\n",
       "    .dataframe thead th {\n",
       "        text-align: right;\n",
       "    }\n",
       "</style>\n",
       "<table border=\"1\" class=\"dataframe\">\n",
       "  <thead>\n",
       "    <tr style=\"text-align: right;\">\n",
       "      <th></th>\n",
       "      <th>Comment Text</th>\n",
       "      <th>Author</th>\n",
       "      <th>Subreddit</th>\n",
       "      <th>Post ID</th>\n",
       "    </tr>\n",
       "  </thead>\n",
       "  <tbody>\n",
       "    <tr>\n",
       "      <th>0</th>\n",
       "      <td>Just curious, but what triggered your feelings...</td>\n",
       "      <td>PDXorax</td>\n",
       "      <td>YangForPresidentHQ</td>\n",
       "      <td>ew5ohva</td>\n",
       "    </tr>\n",
       "    <tr>\n",
       "      <th>1</th>\n",
       "      <td>Christmas time put up a light-up Yang sign!</td>\n",
       "      <td>PDXorax</td>\n",
       "      <td>YangForPresidentHQ</td>\n",
       "      <td>ew5o8vv</td>\n",
       "    </tr>\n",
       "    <tr>\n",
       "      <th>2</th>\n",
       "      <td>During the general election, get in contact wi...</td>\n",
       "      <td>PDXorax</td>\n",
       "      <td>YangForPresidentHQ</td>\n",
       "      <td>ew42bdx</td>\n",
       "    </tr>\n",
       "    <tr>\n",
       "      <th>3</th>\n",
       "      <td>We need to understand as a country, that the m...</td>\n",
       "      <td>PDXorax</td>\n",
       "      <td>YangForPresidentHQ</td>\n",
       "      <td>evva7l8</td>\n",
       "    </tr>\n",
       "    <tr>\n",
       "      <th>4</th>\n",
       "      <td>Part of the reason for this, is because we nee...</td>\n",
       "      <td>PDXorax</td>\n",
       "      <td>YangForPresidentHQ</td>\n",
       "      <td>evoo179</td>\n",
       "    </tr>\n",
       "  </tbody>\n",
       "</table>\n",
       "</div>"
      ],
      "text/plain": [
       "                                        Comment Text   Author  \\\n",
       "0  Just curious, but what triggered your feelings...  PDXorax   \n",
       "1        Christmas time put up a light-up Yang sign!  PDXorax   \n",
       "2  During the general election, get in contact wi...  PDXorax   \n",
       "3  We need to understand as a country, that the m...  PDXorax   \n",
       "4  Part of the reason for this, is because we nee...  PDXorax   \n",
       "\n",
       "            Subreddit  Post ID  \n",
       "0  YangForPresidentHQ  ew5ohva  \n",
       "1  YangForPresidentHQ  ew5o8vv  \n",
       "2  YangForPresidentHQ  ew42bdx  \n",
       "3  YangForPresidentHQ  evva7l8  \n",
       "4  YangForPresidentHQ  evoo179  "
      ]
     },
     "execution_count": 9,
     "metadata": {},
     "output_type": "execute_result"
    }
   ],
   "source": [
    "df.head()"
   ]
  },
  {
   "cell_type": "code",
   "execution_count": 10,
   "metadata": {},
   "outputs": [],
   "source": [
    "df_target_train = pd.read_csv('y_yangorno_train.csv')"
   ]
  },
  {
   "cell_type": "code",
   "execution_count": 11,
   "metadata": {},
   "outputs": [
    {
     "data": {
      "text/plain": [
       "(2449, 2)"
      ]
     },
     "execution_count": 11,
     "metadata": {},
     "output_type": "execute_result"
    }
   ],
   "source": [
    "df_target_train.shape"
   ]
  },
  {
   "cell_type": "code",
   "execution_count": 12,
   "metadata": {},
   "outputs": [],
   "source": [
    "df_target_test = pd.read_csv('y_yangorno_test.csv')"
   ]
  },
  {
   "cell_type": "code",
   "execution_count": 13,
   "metadata": {},
   "outputs": [
    {
     "data": {
      "text/plain": [
       "(817, 2)"
      ]
     },
     "execution_count": 13,
     "metadata": {},
     "output_type": "execute_result"
    }
   ],
   "source": [
    "df_target_test.shape"
   ]
  },
  {
   "cell_type": "code",
   "execution_count": 14,
   "metadata": {},
   "outputs": [],
   "source": [
    "df_target = pd.concat([df_target_test,df_target_train])"
   ]
  },
  {
   "cell_type": "code",
   "execution_count": 15,
   "metadata": {},
   "outputs": [
    {
     "data": {
      "text/plain": [
       "(3266, 2)"
      ]
     },
     "execution_count": 15,
     "metadata": {},
     "output_type": "execute_result"
    }
   ],
   "source": [
    "df_target.shape"
   ]
  },
  {
   "cell_type": "code",
   "execution_count": 16,
   "metadata": {},
   "outputs": [],
   "source": [
    "users = list(df_target['Unnamed: 0'])"
   ]
  },
  {
   "cell_type": "code",
   "execution_count": 17,
   "metadata": {},
   "outputs": [],
   "source": [
    "def clean_df(row):\n",
    "    if row['Author'] in users:\n",
    "        return '1'\n",
    "    else:\n",
    "        return '0'\n"
   ]
  },
  {
   "cell_type": "code",
   "execution_count": 18,
   "metadata": {},
   "outputs": [],
   "source": [
    "df['keep'] = df.apply(clean_df,axis=1)"
   ]
  },
  {
   "cell_type": "code",
   "execution_count": 19,
   "metadata": {},
   "outputs": [],
   "source": [
    "df = df[df['keep']=='1']"
   ]
  },
  {
   "cell_type": "code",
   "execution_count": 20,
   "metadata": {},
   "outputs": [],
   "source": [
    "sum_series = df.groupby(['Author','Subreddit']).size()"
   ]
  },
  {
   "cell_type": "code",
   "execution_count": 21,
   "metadata": {},
   "outputs": [],
   "source": [
    "#exclude out subs from first model\n",
    "list_of_subs_mod = ['neoliberal','movies','atheism','MMA','Libertarian','teenagers',\n",
    "    'television','Futurology','samharris','hockey','JoeRogan','exmormon',\n",
    "    'teslamotors','marvelstudios','hiphopheads','survivor','rupaulsdragrace','Music','magicTCG',\n",
    "    'vegan','trees','anime','environment','space','keto','askgaybros','StarWars','Android',\n",
    "    'Christianity','formula1','aznidentity','books','JordanPeterson','gratefuldead','PS4',\n",
    "    'BasicIncome','cars','Tinder','liberalgunowners','Cricket',\n",
    "    'NASCAR','TheLastAirbender','HomeImprovement','Fitness','Fuckthealtright',\n",
    "    'ENLIGHTENEDCENTRISM','LateStageCapitalism','ABoringDystopia','Conservative','tuesday','CryptoCurrency','Bitcoin',\n",
    "    'nfl','CFB','CHIBears','stupidpol',\n",
    "    'buildapcsales','Amd','soccer','MLS','Games','gaming']\n",
    "\n"
   ]
  },
  {
   "cell_type": "code",
   "execution_count": 22,
   "metadata": {},
   "outputs": [],
   "source": [
    "features = {}\n",
    "for user in users:\n",
    "    feature_dict = {}\n",
    "    for sub in sum_series[user].index:\n",
    "        if sub in list_of_subs_mod:\n",
    "            feature_dict[sub]=sum_series[user][sub]\n",
    "    if len(feature_dict)!=0:\n",
    "        features[user]=feature_dict\n"
   ]
  },
  {
   "cell_type": "code",
   "execution_count": 23,
   "metadata": {},
   "outputs": [],
   "source": [
    "df_feature = pd.DataFrame(features).T"
   ]
  },
  {
   "cell_type": "code",
   "execution_count": 24,
   "metadata": {},
   "outputs": [
    {
     "data": {
      "text/html": [
       "<div>\n",
       "<style scoped>\n",
       "    .dataframe tbody tr th:only-of-type {\n",
       "        vertical-align: middle;\n",
       "    }\n",
       "\n",
       "    .dataframe tbody tr th {\n",
       "        vertical-align: top;\n",
       "    }\n",
       "\n",
       "    .dataframe thead th {\n",
       "        text-align: right;\n",
       "    }\n",
       "</style>\n",
       "<table border=\"1\" class=\"dataframe\">\n",
       "  <thead>\n",
       "    <tr style=\"text-align: right;\">\n",
       "      <th></th>\n",
       "      <th>ABoringDystopia</th>\n",
       "      <th>Amd</th>\n",
       "      <th>Android</th>\n",
       "      <th>BasicIncome</th>\n",
       "      <th>Bitcoin</th>\n",
       "      <th>CFB</th>\n",
       "      <th>CHIBears</th>\n",
       "      <th>Christianity</th>\n",
       "      <th>Conservative</th>\n",
       "      <th>Cricket</th>\n",
       "      <th>...</th>\n",
       "      <th>soccer</th>\n",
       "      <th>space</th>\n",
       "      <th>stupidpol</th>\n",
       "      <th>survivor</th>\n",
       "      <th>teenagers</th>\n",
       "      <th>television</th>\n",
       "      <th>teslamotors</th>\n",
       "      <th>trees</th>\n",
       "      <th>tuesday</th>\n",
       "      <th>vegan</th>\n",
       "    </tr>\n",
       "  </thead>\n",
       "  <tbody>\n",
       "    <tr>\n",
       "      <th>Fair_enough42</th>\n",
       "      <td>NaN</td>\n",
       "      <td>NaN</td>\n",
       "      <td>NaN</td>\n",
       "      <td>NaN</td>\n",
       "      <td>NaN</td>\n",
       "      <td>42.0</td>\n",
       "      <td>NaN</td>\n",
       "      <td>NaN</td>\n",
       "      <td>10.0</td>\n",
       "      <td>NaN</td>\n",
       "      <td>...</td>\n",
       "      <td>1.0</td>\n",
       "      <td>NaN</td>\n",
       "      <td>NaN</td>\n",
       "      <td>NaN</td>\n",
       "      <td>NaN</td>\n",
       "      <td>3.0</td>\n",
       "      <td>1.0</td>\n",
       "      <td>NaN</td>\n",
       "      <td>NaN</td>\n",
       "      <td>NaN</td>\n",
       "    </tr>\n",
       "    <tr>\n",
       "      <th>SkepticalJohn</th>\n",
       "      <td>NaN</td>\n",
       "      <td>NaN</td>\n",
       "      <td>NaN</td>\n",
       "      <td>NaN</td>\n",
       "      <td>NaN</td>\n",
       "      <td>NaN</td>\n",
       "      <td>NaN</td>\n",
       "      <td>NaN</td>\n",
       "      <td>NaN</td>\n",
       "      <td>NaN</td>\n",
       "      <td>...</td>\n",
       "      <td>NaN</td>\n",
       "      <td>1.0</td>\n",
       "      <td>NaN</td>\n",
       "      <td>NaN</td>\n",
       "      <td>NaN</td>\n",
       "      <td>NaN</td>\n",
       "      <td>NaN</td>\n",
       "      <td>1.0</td>\n",
       "      <td>NaN</td>\n",
       "      <td>NaN</td>\n",
       "    </tr>\n",
       "    <tr>\n",
       "      <th>mwheele86</th>\n",
       "      <td>NaN</td>\n",
       "      <td>NaN</td>\n",
       "      <td>NaN</td>\n",
       "      <td>NaN</td>\n",
       "      <td>NaN</td>\n",
       "      <td>NaN</td>\n",
       "      <td>NaN</td>\n",
       "      <td>NaN</td>\n",
       "      <td>NaN</td>\n",
       "      <td>NaN</td>\n",
       "      <td>...</td>\n",
       "      <td>NaN</td>\n",
       "      <td>NaN</td>\n",
       "      <td>NaN</td>\n",
       "      <td>NaN</td>\n",
       "      <td>NaN</td>\n",
       "      <td>NaN</td>\n",
       "      <td>NaN</td>\n",
       "      <td>NaN</td>\n",
       "      <td>NaN</td>\n",
       "      <td>NaN</td>\n",
       "    </tr>\n",
       "    <tr>\n",
       "      <th>SgtRockyWalrus</th>\n",
       "      <td>NaN</td>\n",
       "      <td>NaN</td>\n",
       "      <td>NaN</td>\n",
       "      <td>NaN</td>\n",
       "      <td>NaN</td>\n",
       "      <td>NaN</td>\n",
       "      <td>NaN</td>\n",
       "      <td>NaN</td>\n",
       "      <td>NaN</td>\n",
       "      <td>NaN</td>\n",
       "      <td>...</td>\n",
       "      <td>NaN</td>\n",
       "      <td>NaN</td>\n",
       "      <td>NaN</td>\n",
       "      <td>NaN</td>\n",
       "      <td>NaN</td>\n",
       "      <td>NaN</td>\n",
       "      <td>NaN</td>\n",
       "      <td>5.0</td>\n",
       "      <td>NaN</td>\n",
       "      <td>NaN</td>\n",
       "    </tr>\n",
       "    <tr>\n",
       "      <th>QuarantineTheHumans</th>\n",
       "      <td>5.0</td>\n",
       "      <td>NaN</td>\n",
       "      <td>NaN</td>\n",
       "      <td>NaN</td>\n",
       "      <td>NaN</td>\n",
       "      <td>NaN</td>\n",
       "      <td>NaN</td>\n",
       "      <td>2.0</td>\n",
       "      <td>5.0</td>\n",
       "      <td>NaN</td>\n",
       "      <td>...</td>\n",
       "      <td>NaN</td>\n",
       "      <td>1.0</td>\n",
       "      <td>NaN</td>\n",
       "      <td>NaN</td>\n",
       "      <td>NaN</td>\n",
       "      <td>NaN</td>\n",
       "      <td>NaN</td>\n",
       "      <td>NaN</td>\n",
       "      <td>1.0</td>\n",
       "      <td>5.0</td>\n",
       "    </tr>\n",
       "  </tbody>\n",
       "</table>\n",
       "<p>5 rows × 62 columns</p>\n",
       "</div>"
      ],
      "text/plain": [
       "                     ABoringDystopia  Amd  Android  BasicIncome  Bitcoin  \\\n",
       "Fair_enough42                    NaN  NaN      NaN          NaN      NaN   \n",
       "SkepticalJohn                    NaN  NaN      NaN          NaN      NaN   \n",
       "mwheele86                        NaN  NaN      NaN          NaN      NaN   \n",
       "SgtRockyWalrus                   NaN  NaN      NaN          NaN      NaN   \n",
       "QuarantineTheHumans              5.0  NaN      NaN          NaN      NaN   \n",
       "\n",
       "                      CFB  CHIBears  Christianity  Conservative  Cricket  ...  \\\n",
       "Fair_enough42        42.0       NaN           NaN          10.0      NaN  ...   \n",
       "SkepticalJohn         NaN       NaN           NaN           NaN      NaN  ...   \n",
       "mwheele86             NaN       NaN           NaN           NaN      NaN  ...   \n",
       "SgtRockyWalrus        NaN       NaN           NaN           NaN      NaN  ...   \n",
       "QuarantineTheHumans   NaN       NaN           2.0           5.0      NaN  ...   \n",
       "\n",
       "                     soccer  space  stupidpol  survivor  teenagers  \\\n",
       "Fair_enough42           1.0    NaN        NaN       NaN        NaN   \n",
       "SkepticalJohn           NaN    1.0        NaN       NaN        NaN   \n",
       "mwheele86               NaN    NaN        NaN       NaN        NaN   \n",
       "SgtRockyWalrus          NaN    NaN        NaN       NaN        NaN   \n",
       "QuarantineTheHumans     NaN    1.0        NaN       NaN        NaN   \n",
       "\n",
       "                     television  teslamotors  trees  tuesday  vegan  \n",
       "Fair_enough42               3.0          1.0    NaN      NaN    NaN  \n",
       "SkepticalJohn               NaN          NaN    1.0      NaN    NaN  \n",
       "mwheele86                   NaN          NaN    NaN      NaN    NaN  \n",
       "SgtRockyWalrus              NaN          NaN    5.0      NaN    NaN  \n",
       "QuarantineTheHumans         NaN          NaN    NaN      1.0    5.0  \n",
       "\n",
       "[5 rows x 62 columns]"
      ]
     },
     "execution_count": 24,
     "metadata": {},
     "output_type": "execute_result"
    }
   ],
   "source": [
    "df_feature.head()"
   ]
  },
  {
   "cell_type": "code",
   "execution_count": 25,
   "metadata": {},
   "outputs": [
    {
     "data": {
      "text/plain": [
       "(2718, 62)"
      ]
     },
     "execution_count": 25,
     "metadata": {},
     "output_type": "execute_result"
    }
   ],
   "source": [
    "df_feature.shape"
   ]
  },
  {
   "cell_type": "code",
   "execution_count": 26,
   "metadata": {},
   "outputs": [],
   "source": [
    "df_feature.fillna(0,inplace=True)"
   ]
  },
  {
   "cell_type": "code",
   "execution_count": 27,
   "metadata": {},
   "outputs": [],
   "source": [
    "#add code to combine like minded subs\n",
    "df_feature['anti_alt_right_comb']=df_feature['ENLIGHTENEDCENTRISM']+df_feature['Fuckthealtright']\n",
    "df_feature['bad_capitalism_comb']=df_feature['LateStageCapitalism']+df_feature['ABoringDystopia']\n",
    "df_feature['conservative_comb']=df_feature['Conservative']+df_feature['tuesday']\n",
    "df_feature['crypto_comb']=df_feature['CryptoCurrency']+df_feature['Bitcoin']\n",
    "df_feature['football_comb']=df_feature['nfl']+df_feature['CFB']+df_feature['CHIBears']\n",
    "df_feature['soccer_comb']=df_feature['soccer']+df_feature['MLS']\n",
    "df_feature['gaming_comb']=df_feature['gaming']+df_feature['Games']"
   ]
  },
  {
   "cell_type": "code",
   "execution_count": 28,
   "metadata": {},
   "outputs": [],
   "source": [
    "#remove above single subs\n",
    "df_feature.drop(['ENLIGHTENEDCENTRISM','Fuckthealtright','LateStageCapitalism','ABoringDystopia','Conservative','tuesday',\n",
    "                 'CryptoCurrency','Bitcoin','nfl','CFB','CHIBears','soccer','MLS','buildapcsales','Amd'],axis=1,inplace=True)"
   ]
  },
  {
   "cell_type": "code",
   "execution_count": null,
   "metadata": {},
   "outputs": [],
   "source": []
  },
  {
   "cell_type": "code",
   "execution_count": 29,
   "metadata": {},
   "outputs": [],
   "source": [
    "df_feature = df_feature.div(df_feature.sum(axis=1), axis=0)"
   ]
  },
  {
   "cell_type": "code",
   "execution_count": 30,
   "metadata": {},
   "outputs": [
    {
     "data": {
      "text/html": [
       "<div>\n",
       "<style scoped>\n",
       "    .dataframe tbody tr th:only-of-type {\n",
       "        vertical-align: middle;\n",
       "    }\n",
       "\n",
       "    .dataframe tbody tr th {\n",
       "        vertical-align: top;\n",
       "    }\n",
       "\n",
       "    .dataframe thead th {\n",
       "        text-align: right;\n",
       "    }\n",
       "</style>\n",
       "<table border=\"1\" class=\"dataframe\">\n",
       "  <thead>\n",
       "    <tr style=\"text-align: right;\">\n",
       "      <th></th>\n",
       "      <th>Android</th>\n",
       "      <th>BasicIncome</th>\n",
       "      <th>Christianity</th>\n",
       "      <th>Cricket</th>\n",
       "      <th>Fitness</th>\n",
       "      <th>Futurology</th>\n",
       "      <th>Games</th>\n",
       "      <th>HomeImprovement</th>\n",
       "      <th>JoeRogan</th>\n",
       "      <th>JordanPeterson</th>\n",
       "      <th>...</th>\n",
       "      <th>teslamotors</th>\n",
       "      <th>trees</th>\n",
       "      <th>vegan</th>\n",
       "      <th>anti_alt_right_comb</th>\n",
       "      <th>bad_capitalism_comb</th>\n",
       "      <th>conservative_comb</th>\n",
       "      <th>crypto_comb</th>\n",
       "      <th>football_comb</th>\n",
       "      <th>soccer_comb</th>\n",
       "      <th>gaming_comb</th>\n",
       "    </tr>\n",
       "  </thead>\n",
       "  <tbody>\n",
       "    <tr>\n",
       "      <th>Fair_enough42</th>\n",
       "      <td>0.000000</td>\n",
       "      <td>0.000000</td>\n",
       "      <td>0.000000</td>\n",
       "      <td>0.000000</td>\n",
       "      <td>0.000000</td>\n",
       "      <td>0.0000</td>\n",
       "      <td>0.000000</td>\n",
       "      <td>0.0</td>\n",
       "      <td>0.094737</td>\n",
       "      <td>0.000000</td>\n",
       "      <td>...</td>\n",
       "      <td>0.010526</td>\n",
       "      <td>0.000000</td>\n",
       "      <td>0.000000</td>\n",
       "      <td>0.000000</td>\n",
       "      <td>0.000000</td>\n",
       "      <td>0.105263</td>\n",
       "      <td>0.000000</td>\n",
       "      <td>0.452632</td>\n",
       "      <td>0.010526</td>\n",
       "      <td>0.000000</td>\n",
       "    </tr>\n",
       "    <tr>\n",
       "      <th>SkepticalJohn</th>\n",
       "      <td>0.000000</td>\n",
       "      <td>0.000000</td>\n",
       "      <td>0.000000</td>\n",
       "      <td>0.000000</td>\n",
       "      <td>0.000000</td>\n",
       "      <td>0.0000</td>\n",
       "      <td>0.000000</td>\n",
       "      <td>0.0</td>\n",
       "      <td>0.000000</td>\n",
       "      <td>0.000000</td>\n",
       "      <td>...</td>\n",
       "      <td>0.000000</td>\n",
       "      <td>0.030303</td>\n",
       "      <td>0.000000</td>\n",
       "      <td>0.000000</td>\n",
       "      <td>0.030303</td>\n",
       "      <td>0.000000</td>\n",
       "      <td>0.000000</td>\n",
       "      <td>0.000000</td>\n",
       "      <td>0.000000</td>\n",
       "      <td>0.000000</td>\n",
       "    </tr>\n",
       "    <tr>\n",
       "      <th>mwheele86</th>\n",
       "      <td>0.000000</td>\n",
       "      <td>0.000000</td>\n",
       "      <td>0.000000</td>\n",
       "      <td>0.000000</td>\n",
       "      <td>0.000000</td>\n",
       "      <td>0.0000</td>\n",
       "      <td>0.000000</td>\n",
       "      <td>0.0</td>\n",
       "      <td>0.000000</td>\n",
       "      <td>0.000000</td>\n",
       "      <td>...</td>\n",
       "      <td>0.000000</td>\n",
       "      <td>0.000000</td>\n",
       "      <td>0.000000</td>\n",
       "      <td>0.000000</td>\n",
       "      <td>0.000000</td>\n",
       "      <td>0.000000</td>\n",
       "      <td>0.000000</td>\n",
       "      <td>0.000000</td>\n",
       "      <td>0.000000</td>\n",
       "      <td>0.000000</td>\n",
       "    </tr>\n",
       "    <tr>\n",
       "      <th>SgtRockyWalrus</th>\n",
       "      <td>0.000000</td>\n",
       "      <td>0.000000</td>\n",
       "      <td>0.000000</td>\n",
       "      <td>0.000000</td>\n",
       "      <td>0.000000</td>\n",
       "      <td>0.0000</td>\n",
       "      <td>0.000000</td>\n",
       "      <td>0.0</td>\n",
       "      <td>0.000000</td>\n",
       "      <td>0.000000</td>\n",
       "      <td>...</td>\n",
       "      <td>0.000000</td>\n",
       "      <td>0.156250</td>\n",
       "      <td>0.000000</td>\n",
       "      <td>0.000000</td>\n",
       "      <td>0.062500</td>\n",
       "      <td>0.000000</td>\n",
       "      <td>0.000000</td>\n",
       "      <td>0.593750</td>\n",
       "      <td>0.000000</td>\n",
       "      <td>0.031250</td>\n",
       "    </tr>\n",
       "    <tr>\n",
       "      <th>QuarantineTheHumans</th>\n",
       "      <td>0.000000</td>\n",
       "      <td>0.000000</td>\n",
       "      <td>0.021277</td>\n",
       "      <td>0.000000</td>\n",
       "      <td>0.000000</td>\n",
       "      <td>0.0000</td>\n",
       "      <td>0.000000</td>\n",
       "      <td>0.0</td>\n",
       "      <td>0.000000</td>\n",
       "      <td>0.085106</td>\n",
       "      <td>...</td>\n",
       "      <td>0.000000</td>\n",
       "      <td>0.000000</td>\n",
       "      <td>0.053191</td>\n",
       "      <td>0.095745</td>\n",
       "      <td>0.191489</td>\n",
       "      <td>0.063830</td>\n",
       "      <td>0.000000</td>\n",
       "      <td>0.000000</td>\n",
       "      <td>0.000000</td>\n",
       "      <td>0.000000</td>\n",
       "    </tr>\n",
       "    <tr>\n",
       "      <th>timelighter</th>\n",
       "      <td>0.000000</td>\n",
       "      <td>0.000000</td>\n",
       "      <td>0.000000</td>\n",
       "      <td>0.000000</td>\n",
       "      <td>0.000000</td>\n",
       "      <td>0.0000</td>\n",
       "      <td>0.022472</td>\n",
       "      <td>0.0</td>\n",
       "      <td>0.000000</td>\n",
       "      <td>0.000000</td>\n",
       "      <td>...</td>\n",
       "      <td>0.000000</td>\n",
       "      <td>0.033708</td>\n",
       "      <td>0.000000</td>\n",
       "      <td>0.000000</td>\n",
       "      <td>0.000000</td>\n",
       "      <td>0.000000</td>\n",
       "      <td>0.000000</td>\n",
       "      <td>0.011236</td>\n",
       "      <td>0.000000</td>\n",
       "      <td>0.112360</td>\n",
       "    </tr>\n",
       "    <tr>\n",
       "      <th>JoeChagan</th>\n",
       "      <td>0.039216</td>\n",
       "      <td>0.019608</td>\n",
       "      <td>0.000000</td>\n",
       "      <td>0.000000</td>\n",
       "      <td>0.000000</td>\n",
       "      <td>0.0000</td>\n",
       "      <td>0.000000</td>\n",
       "      <td>0.0</td>\n",
       "      <td>0.039216</td>\n",
       "      <td>0.000000</td>\n",
       "      <td>...</td>\n",
       "      <td>0.000000</td>\n",
       "      <td>0.000000</td>\n",
       "      <td>0.000000</td>\n",
       "      <td>0.000000</td>\n",
       "      <td>0.000000</td>\n",
       "      <td>0.000000</td>\n",
       "      <td>0.019608</td>\n",
       "      <td>0.000000</td>\n",
       "      <td>0.000000</td>\n",
       "      <td>0.392157</td>\n",
       "    </tr>\n",
       "    <tr>\n",
       "      <th>dmantzoor</th>\n",
       "      <td>0.000000</td>\n",
       "      <td>0.000000</td>\n",
       "      <td>0.000000</td>\n",
       "      <td>0.000000</td>\n",
       "      <td>0.043478</td>\n",
       "      <td>0.0000</td>\n",
       "      <td>0.000000</td>\n",
       "      <td>0.0</td>\n",
       "      <td>0.000000</td>\n",
       "      <td>0.000000</td>\n",
       "      <td>...</td>\n",
       "      <td>0.000000</td>\n",
       "      <td>0.028986</td>\n",
       "      <td>0.000000</td>\n",
       "      <td>0.000000</td>\n",
       "      <td>0.000000</td>\n",
       "      <td>0.101449</td>\n",
       "      <td>0.000000</td>\n",
       "      <td>0.000000</td>\n",
       "      <td>0.000000</td>\n",
       "      <td>0.000000</td>\n",
       "    </tr>\n",
       "    <tr>\n",
       "      <th>PeridotBestGem</th>\n",
       "      <td>0.000000</td>\n",
       "      <td>0.000000</td>\n",
       "      <td>0.000000</td>\n",
       "      <td>0.000000</td>\n",
       "      <td>0.000000</td>\n",
       "      <td>0.0000</td>\n",
       "      <td>0.000000</td>\n",
       "      <td>0.0</td>\n",
       "      <td>0.000000</td>\n",
       "      <td>0.000000</td>\n",
       "      <td>...</td>\n",
       "      <td>0.000000</td>\n",
       "      <td>0.000000</td>\n",
       "      <td>0.000000</td>\n",
       "      <td>0.000000</td>\n",
       "      <td>0.010363</td>\n",
       "      <td>0.000000</td>\n",
       "      <td>0.000000</td>\n",
       "      <td>0.502591</td>\n",
       "      <td>0.005181</td>\n",
       "      <td>0.000000</td>\n",
       "    </tr>\n",
       "    <tr>\n",
       "      <th>bantha-fodder12</th>\n",
       "      <td>0.000000</td>\n",
       "      <td>0.000000</td>\n",
       "      <td>0.000000</td>\n",
       "      <td>0.000000</td>\n",
       "      <td>0.000000</td>\n",
       "      <td>0.1875</td>\n",
       "      <td>0.000000</td>\n",
       "      <td>0.0</td>\n",
       "      <td>0.000000</td>\n",
       "      <td>0.000000</td>\n",
       "      <td>...</td>\n",
       "      <td>0.000000</td>\n",
       "      <td>0.000000</td>\n",
       "      <td>0.000000</td>\n",
       "      <td>0.000000</td>\n",
       "      <td>0.000000</td>\n",
       "      <td>0.187500</td>\n",
       "      <td>0.125000</td>\n",
       "      <td>0.000000</td>\n",
       "      <td>0.000000</td>\n",
       "      <td>0.062500</td>\n",
       "    </tr>\n",
       "    <tr>\n",
       "      <th>YouSwear</th>\n",
       "      <td>0.000000</td>\n",
       "      <td>0.000000</td>\n",
       "      <td>0.000000</td>\n",
       "      <td>0.000000</td>\n",
       "      <td>0.000000</td>\n",
       "      <td>0.0000</td>\n",
       "      <td>0.000000</td>\n",
       "      <td>0.0</td>\n",
       "      <td>0.000000</td>\n",
       "      <td>0.000000</td>\n",
       "      <td>...</td>\n",
       "      <td>0.000000</td>\n",
       "      <td>0.000000</td>\n",
       "      <td>0.000000</td>\n",
       "      <td>0.000000</td>\n",
       "      <td>0.000000</td>\n",
       "      <td>0.000000</td>\n",
       "      <td>0.000000</td>\n",
       "      <td>0.949045</td>\n",
       "      <td>0.019108</td>\n",
       "      <td>0.000000</td>\n",
       "    </tr>\n",
       "    <tr>\n",
       "      <th>abdolfhitcoln</th>\n",
       "      <td>0.000000</td>\n",
       "      <td>0.000000</td>\n",
       "      <td>0.000000</td>\n",
       "      <td>0.000000</td>\n",
       "      <td>0.000000</td>\n",
       "      <td>0.0000</td>\n",
       "      <td>0.000000</td>\n",
       "      <td>0.0</td>\n",
       "      <td>0.000000</td>\n",
       "      <td>0.000000</td>\n",
       "      <td>...</td>\n",
       "      <td>0.000000</td>\n",
       "      <td>0.000000</td>\n",
       "      <td>0.000000</td>\n",
       "      <td>0.000000</td>\n",
       "      <td>0.000000</td>\n",
       "      <td>0.000000</td>\n",
       "      <td>0.000000</td>\n",
       "      <td>0.000000</td>\n",
       "      <td>0.000000</td>\n",
       "      <td>0.000000</td>\n",
       "    </tr>\n",
       "    <tr>\n",
       "      <th>hahaha_yes</th>\n",
       "      <td>0.000000</td>\n",
       "      <td>0.000000</td>\n",
       "      <td>0.000000</td>\n",
       "      <td>0.020045</td>\n",
       "      <td>0.000000</td>\n",
       "      <td>0.0000</td>\n",
       "      <td>0.015590</td>\n",
       "      <td>0.0</td>\n",
       "      <td>0.000000</td>\n",
       "      <td>0.000000</td>\n",
       "      <td>...</td>\n",
       "      <td>0.000000</td>\n",
       "      <td>0.000000</td>\n",
       "      <td>0.000000</td>\n",
       "      <td>0.000000</td>\n",
       "      <td>0.017817</td>\n",
       "      <td>0.004454</td>\n",
       "      <td>0.000000</td>\n",
       "      <td>0.000000</td>\n",
       "      <td>0.002227</td>\n",
       "      <td>0.026726</td>\n",
       "    </tr>\n",
       "    <tr>\n",
       "      <th>pdcolemanjr</th>\n",
       "      <td>0.000000</td>\n",
       "      <td>0.000000</td>\n",
       "      <td>0.000000</td>\n",
       "      <td>0.000000</td>\n",
       "      <td>0.000000</td>\n",
       "      <td>0.0000</td>\n",
       "      <td>0.000000</td>\n",
       "      <td>0.0</td>\n",
       "      <td>0.000000</td>\n",
       "      <td>0.000000</td>\n",
       "      <td>...</td>\n",
       "      <td>0.183007</td>\n",
       "      <td>0.000000</td>\n",
       "      <td>0.000000</td>\n",
       "      <td>0.000000</td>\n",
       "      <td>0.000000</td>\n",
       "      <td>0.000000</td>\n",
       "      <td>0.000000</td>\n",
       "      <td>0.000000</td>\n",
       "      <td>0.000000</td>\n",
       "      <td>0.000000</td>\n",
       "    </tr>\n",
       "    <tr>\n",
       "      <th>humanoideric</th>\n",
       "      <td>0.000000</td>\n",
       "      <td>0.000000</td>\n",
       "      <td>0.000000</td>\n",
       "      <td>0.000000</td>\n",
       "      <td>0.000000</td>\n",
       "      <td>0.0000</td>\n",
       "      <td>0.004255</td>\n",
       "      <td>0.0</td>\n",
       "      <td>0.000000</td>\n",
       "      <td>0.000000</td>\n",
       "      <td>...</td>\n",
       "      <td>0.000000</td>\n",
       "      <td>0.000000</td>\n",
       "      <td>0.000000</td>\n",
       "      <td>0.000000</td>\n",
       "      <td>0.000000</td>\n",
       "      <td>0.000000</td>\n",
       "      <td>0.136170</td>\n",
       "      <td>0.000000</td>\n",
       "      <td>0.000000</td>\n",
       "      <td>0.029787</td>\n",
       "    </tr>\n",
       "    <tr>\n",
       "      <th>Slapbox</th>\n",
       "      <td>0.041096</td>\n",
       "      <td>0.000000</td>\n",
       "      <td>0.000000</td>\n",
       "      <td>0.000000</td>\n",
       "      <td>0.027397</td>\n",
       "      <td>0.0000</td>\n",
       "      <td>0.000000</td>\n",
       "      <td>0.0</td>\n",
       "      <td>0.000000</td>\n",
       "      <td>0.000000</td>\n",
       "      <td>...</td>\n",
       "      <td>0.000000</td>\n",
       "      <td>0.000000</td>\n",
       "      <td>0.178082</td>\n",
       "      <td>0.000000</td>\n",
       "      <td>0.260274</td>\n",
       "      <td>0.410959</td>\n",
       "      <td>0.000000</td>\n",
       "      <td>0.000000</td>\n",
       "      <td>0.000000</td>\n",
       "      <td>0.041096</td>\n",
       "    </tr>\n",
       "    <tr>\n",
       "      <th>crackeddryice</th>\n",
       "      <td>0.000000</td>\n",
       "      <td>0.000000</td>\n",
       "      <td>0.000000</td>\n",
       "      <td>0.000000</td>\n",
       "      <td>0.000000</td>\n",
       "      <td>0.1250</td>\n",
       "      <td>0.000000</td>\n",
       "      <td>0.0</td>\n",
       "      <td>0.000000</td>\n",
       "      <td>0.000000</td>\n",
       "      <td>...</td>\n",
       "      <td>0.000000</td>\n",
       "      <td>0.062500</td>\n",
       "      <td>0.000000</td>\n",
       "      <td>0.000000</td>\n",
       "      <td>0.062500</td>\n",
       "      <td>0.000000</td>\n",
       "      <td>0.000000</td>\n",
       "      <td>0.000000</td>\n",
       "      <td>0.000000</td>\n",
       "      <td>0.125000</td>\n",
       "    </tr>\n",
       "    <tr>\n",
       "      <th>scaradin</th>\n",
       "      <td>0.000000</td>\n",
       "      <td>0.000000</td>\n",
       "      <td>0.000000</td>\n",
       "      <td>0.000000</td>\n",
       "      <td>0.000000</td>\n",
       "      <td>0.0000</td>\n",
       "      <td>0.000000</td>\n",
       "      <td>0.0</td>\n",
       "      <td>0.000000</td>\n",
       "      <td>0.000000</td>\n",
       "      <td>...</td>\n",
       "      <td>0.000000</td>\n",
       "      <td>0.000000</td>\n",
       "      <td>0.000000</td>\n",
       "      <td>0.000000</td>\n",
       "      <td>0.000000</td>\n",
       "      <td>0.000000</td>\n",
       "      <td>0.000000</td>\n",
       "      <td>0.000000</td>\n",
       "      <td>0.000000</td>\n",
       "      <td>0.025316</td>\n",
       "    </tr>\n",
       "    <tr>\n",
       "      <th>Samsaras</th>\n",
       "      <td>0.000000</td>\n",
       "      <td>0.000000</td>\n",
       "      <td>0.000000</td>\n",
       "      <td>0.000000</td>\n",
       "      <td>0.000000</td>\n",
       "      <td>0.0000</td>\n",
       "      <td>0.000000</td>\n",
       "      <td>0.0</td>\n",
       "      <td>0.000000</td>\n",
       "      <td>0.000000</td>\n",
       "      <td>...</td>\n",
       "      <td>0.000000</td>\n",
       "      <td>0.000000</td>\n",
       "      <td>0.000000</td>\n",
       "      <td>0.000000</td>\n",
       "      <td>0.000000</td>\n",
       "      <td>0.000000</td>\n",
       "      <td>0.000000</td>\n",
       "      <td>0.000000</td>\n",
       "      <td>0.000000</td>\n",
       "      <td>0.000000</td>\n",
       "    </tr>\n",
       "    <tr>\n",
       "      <th>YamadaDesigns</th>\n",
       "      <td>0.000000</td>\n",
       "      <td>0.000000</td>\n",
       "      <td>0.000000</td>\n",
       "      <td>0.000000</td>\n",
       "      <td>0.000000</td>\n",
       "      <td>0.0125</td>\n",
       "      <td>0.003125</td>\n",
       "      <td>0.0</td>\n",
       "      <td>0.000000</td>\n",
       "      <td>0.000000</td>\n",
       "      <td>...</td>\n",
       "      <td>0.000000</td>\n",
       "      <td>0.000000</td>\n",
       "      <td>0.006250</td>\n",
       "      <td>0.000000</td>\n",
       "      <td>0.000000</td>\n",
       "      <td>0.003125</td>\n",
       "      <td>0.000000</td>\n",
       "      <td>0.000000</td>\n",
       "      <td>0.000000</td>\n",
       "      <td>0.012500</td>\n",
       "    </tr>\n",
       "  </tbody>\n",
       "</table>\n",
       "<p>20 rows × 54 columns</p>\n",
       "</div>"
      ],
      "text/plain": [
       "                      Android  BasicIncome  Christianity   Cricket   Fitness  \\\n",
       "Fair_enough42        0.000000     0.000000      0.000000  0.000000  0.000000   \n",
       "SkepticalJohn        0.000000     0.000000      0.000000  0.000000  0.000000   \n",
       "mwheele86            0.000000     0.000000      0.000000  0.000000  0.000000   \n",
       "SgtRockyWalrus       0.000000     0.000000      0.000000  0.000000  0.000000   \n",
       "QuarantineTheHumans  0.000000     0.000000      0.021277  0.000000  0.000000   \n",
       "timelighter          0.000000     0.000000      0.000000  0.000000  0.000000   \n",
       "JoeChagan            0.039216     0.019608      0.000000  0.000000  0.000000   \n",
       "dmantzoor            0.000000     0.000000      0.000000  0.000000  0.043478   \n",
       "PeridotBestGem       0.000000     0.000000      0.000000  0.000000  0.000000   \n",
       "bantha-fodder12      0.000000     0.000000      0.000000  0.000000  0.000000   \n",
       "YouSwear             0.000000     0.000000      0.000000  0.000000  0.000000   \n",
       "abdolfhitcoln        0.000000     0.000000      0.000000  0.000000  0.000000   \n",
       "hahaha_yes           0.000000     0.000000      0.000000  0.020045  0.000000   \n",
       "pdcolemanjr          0.000000     0.000000      0.000000  0.000000  0.000000   \n",
       "humanoideric         0.000000     0.000000      0.000000  0.000000  0.000000   \n",
       "Slapbox              0.041096     0.000000      0.000000  0.000000  0.027397   \n",
       "crackeddryice        0.000000     0.000000      0.000000  0.000000  0.000000   \n",
       "scaradin             0.000000     0.000000      0.000000  0.000000  0.000000   \n",
       "Samsaras             0.000000     0.000000      0.000000  0.000000  0.000000   \n",
       "YamadaDesigns        0.000000     0.000000      0.000000  0.000000  0.000000   \n",
       "\n",
       "                     Futurology     Games  HomeImprovement  JoeRogan  \\\n",
       "Fair_enough42            0.0000  0.000000              0.0  0.094737   \n",
       "SkepticalJohn            0.0000  0.000000              0.0  0.000000   \n",
       "mwheele86                0.0000  0.000000              0.0  0.000000   \n",
       "SgtRockyWalrus           0.0000  0.000000              0.0  0.000000   \n",
       "QuarantineTheHumans      0.0000  0.000000              0.0  0.000000   \n",
       "timelighter              0.0000  0.022472              0.0  0.000000   \n",
       "JoeChagan                0.0000  0.000000              0.0  0.039216   \n",
       "dmantzoor                0.0000  0.000000              0.0  0.000000   \n",
       "PeridotBestGem           0.0000  0.000000              0.0  0.000000   \n",
       "bantha-fodder12          0.1875  0.000000              0.0  0.000000   \n",
       "YouSwear                 0.0000  0.000000              0.0  0.000000   \n",
       "abdolfhitcoln            0.0000  0.000000              0.0  0.000000   \n",
       "hahaha_yes               0.0000  0.015590              0.0  0.000000   \n",
       "pdcolemanjr              0.0000  0.000000              0.0  0.000000   \n",
       "humanoideric             0.0000  0.004255              0.0  0.000000   \n",
       "Slapbox                  0.0000  0.000000              0.0  0.000000   \n",
       "crackeddryice            0.1250  0.000000              0.0  0.000000   \n",
       "scaradin                 0.0000  0.000000              0.0  0.000000   \n",
       "Samsaras                 0.0000  0.000000              0.0  0.000000   \n",
       "YamadaDesigns            0.0125  0.003125              0.0  0.000000   \n",
       "\n",
       "                     JordanPeterson  ...  teslamotors     trees     vegan  \\\n",
       "Fair_enough42              0.000000  ...     0.010526  0.000000  0.000000   \n",
       "SkepticalJohn              0.000000  ...     0.000000  0.030303  0.000000   \n",
       "mwheele86                  0.000000  ...     0.000000  0.000000  0.000000   \n",
       "SgtRockyWalrus             0.000000  ...     0.000000  0.156250  0.000000   \n",
       "QuarantineTheHumans        0.085106  ...     0.000000  0.000000  0.053191   \n",
       "timelighter                0.000000  ...     0.000000  0.033708  0.000000   \n",
       "JoeChagan                  0.000000  ...     0.000000  0.000000  0.000000   \n",
       "dmantzoor                  0.000000  ...     0.000000  0.028986  0.000000   \n",
       "PeridotBestGem             0.000000  ...     0.000000  0.000000  0.000000   \n",
       "bantha-fodder12            0.000000  ...     0.000000  0.000000  0.000000   \n",
       "YouSwear                   0.000000  ...     0.000000  0.000000  0.000000   \n",
       "abdolfhitcoln              0.000000  ...     0.000000  0.000000  0.000000   \n",
       "hahaha_yes                 0.000000  ...     0.000000  0.000000  0.000000   \n",
       "pdcolemanjr                0.000000  ...     0.183007  0.000000  0.000000   \n",
       "humanoideric               0.000000  ...     0.000000  0.000000  0.000000   \n",
       "Slapbox                    0.000000  ...     0.000000  0.000000  0.178082   \n",
       "crackeddryice              0.000000  ...     0.000000  0.062500  0.000000   \n",
       "scaradin                   0.000000  ...     0.000000  0.000000  0.000000   \n",
       "Samsaras                   0.000000  ...     0.000000  0.000000  0.000000   \n",
       "YamadaDesigns              0.000000  ...     0.000000  0.000000  0.006250   \n",
       "\n",
       "                     anti_alt_right_comb  bad_capitalism_comb  \\\n",
       "Fair_enough42                   0.000000             0.000000   \n",
       "SkepticalJohn                   0.000000             0.030303   \n",
       "mwheele86                       0.000000             0.000000   \n",
       "SgtRockyWalrus                  0.000000             0.062500   \n",
       "QuarantineTheHumans             0.095745             0.191489   \n",
       "timelighter                     0.000000             0.000000   \n",
       "JoeChagan                       0.000000             0.000000   \n",
       "dmantzoor                       0.000000             0.000000   \n",
       "PeridotBestGem                  0.000000             0.010363   \n",
       "bantha-fodder12                 0.000000             0.000000   \n",
       "YouSwear                        0.000000             0.000000   \n",
       "abdolfhitcoln                   0.000000             0.000000   \n",
       "hahaha_yes                      0.000000             0.017817   \n",
       "pdcolemanjr                     0.000000             0.000000   \n",
       "humanoideric                    0.000000             0.000000   \n",
       "Slapbox                         0.000000             0.260274   \n",
       "crackeddryice                   0.000000             0.062500   \n",
       "scaradin                        0.000000             0.000000   \n",
       "Samsaras                        0.000000             0.000000   \n",
       "YamadaDesigns                   0.000000             0.000000   \n",
       "\n",
       "                     conservative_comb  crypto_comb  football_comb  \\\n",
       "Fair_enough42                 0.105263     0.000000       0.452632   \n",
       "SkepticalJohn                 0.000000     0.000000       0.000000   \n",
       "mwheele86                     0.000000     0.000000       0.000000   \n",
       "SgtRockyWalrus                0.000000     0.000000       0.593750   \n",
       "QuarantineTheHumans           0.063830     0.000000       0.000000   \n",
       "timelighter                   0.000000     0.000000       0.011236   \n",
       "JoeChagan                     0.000000     0.019608       0.000000   \n",
       "dmantzoor                     0.101449     0.000000       0.000000   \n",
       "PeridotBestGem                0.000000     0.000000       0.502591   \n",
       "bantha-fodder12               0.187500     0.125000       0.000000   \n",
       "YouSwear                      0.000000     0.000000       0.949045   \n",
       "abdolfhitcoln                 0.000000     0.000000       0.000000   \n",
       "hahaha_yes                    0.004454     0.000000       0.000000   \n",
       "pdcolemanjr                   0.000000     0.000000       0.000000   \n",
       "humanoideric                  0.000000     0.136170       0.000000   \n",
       "Slapbox                       0.410959     0.000000       0.000000   \n",
       "crackeddryice                 0.000000     0.000000       0.000000   \n",
       "scaradin                      0.000000     0.000000       0.000000   \n",
       "Samsaras                      0.000000     0.000000       0.000000   \n",
       "YamadaDesigns                 0.003125     0.000000       0.000000   \n",
       "\n",
       "                     soccer_comb  gaming_comb  \n",
       "Fair_enough42           0.010526     0.000000  \n",
       "SkepticalJohn           0.000000     0.000000  \n",
       "mwheele86               0.000000     0.000000  \n",
       "SgtRockyWalrus          0.000000     0.031250  \n",
       "QuarantineTheHumans     0.000000     0.000000  \n",
       "timelighter             0.000000     0.112360  \n",
       "JoeChagan               0.000000     0.392157  \n",
       "dmantzoor               0.000000     0.000000  \n",
       "PeridotBestGem          0.005181     0.000000  \n",
       "bantha-fodder12         0.000000     0.062500  \n",
       "YouSwear                0.019108     0.000000  \n",
       "abdolfhitcoln           0.000000     0.000000  \n",
       "hahaha_yes              0.002227     0.026726  \n",
       "pdcolemanjr             0.000000     0.000000  \n",
       "humanoideric            0.000000     0.029787  \n",
       "Slapbox                 0.000000     0.041096  \n",
       "crackeddryice           0.000000     0.125000  \n",
       "scaradin                0.000000     0.025316  \n",
       "Samsaras                0.000000     0.000000  \n",
       "YamadaDesigns           0.000000     0.012500  \n",
       "\n",
       "[20 rows x 54 columns]"
      ]
     },
     "execution_count": 30,
     "metadata": {},
     "output_type": "execute_result"
    }
   ],
   "source": [
    "df_feature.head(20)"
   ]
  },
  {
   "cell_type": "code",
   "execution_count": 31,
   "metadata": {},
   "outputs": [
    {
     "data": {
      "text/plain": [
       "Android         3\n",
       "BasicIncome     3\n",
       "Christianity    3\n",
       "Cricket         3\n",
       "Fitness         3\n",
       "dtype: int64"
      ]
     },
     "execution_count": 31,
     "metadata": {},
     "output_type": "execute_result"
    }
   ],
   "source": [
    "df_feature.isnull().sum().head()"
   ]
  },
  {
   "cell_type": "code",
   "execution_count": 32,
   "metadata": {},
   "outputs": [
    {
     "data": {
      "text/html": [
       "<div>\n",
       "<style scoped>\n",
       "    .dataframe tbody tr th:only-of-type {\n",
       "        vertical-align: middle;\n",
       "    }\n",
       "\n",
       "    .dataframe tbody tr th {\n",
       "        vertical-align: top;\n",
       "    }\n",
       "\n",
       "    .dataframe thead th {\n",
       "        text-align: right;\n",
       "    }\n",
       "</style>\n",
       "<table border=\"1\" class=\"dataframe\">\n",
       "  <thead>\n",
       "    <tr style=\"text-align: right;\">\n",
       "      <th></th>\n",
       "      <th>Android</th>\n",
       "      <th>BasicIncome</th>\n",
       "      <th>Christianity</th>\n",
       "      <th>Cricket</th>\n",
       "      <th>Fitness</th>\n",
       "      <th>Futurology</th>\n",
       "      <th>Games</th>\n",
       "      <th>HomeImprovement</th>\n",
       "      <th>JoeRogan</th>\n",
       "      <th>JordanPeterson</th>\n",
       "      <th>...</th>\n",
       "      <th>teslamotors</th>\n",
       "      <th>trees</th>\n",
       "      <th>vegan</th>\n",
       "      <th>anti_alt_right_comb</th>\n",
       "      <th>bad_capitalism_comb</th>\n",
       "      <th>conservative_comb</th>\n",
       "      <th>crypto_comb</th>\n",
       "      <th>football_comb</th>\n",
       "      <th>soccer_comb</th>\n",
       "      <th>gaming_comb</th>\n",
       "    </tr>\n",
       "  </thead>\n",
       "  <tbody>\n",
       "    <tr>\n",
       "      <th>lokikaraoke</th>\n",
       "      <td>NaN</td>\n",
       "      <td>NaN</td>\n",
       "      <td>NaN</td>\n",
       "      <td>NaN</td>\n",
       "      <td>NaN</td>\n",
       "      <td>NaN</td>\n",
       "      <td>NaN</td>\n",
       "      <td>NaN</td>\n",
       "      <td>NaN</td>\n",
       "      <td>NaN</td>\n",
       "      <td>...</td>\n",
       "      <td>NaN</td>\n",
       "      <td>NaN</td>\n",
       "      <td>NaN</td>\n",
       "      <td>NaN</td>\n",
       "      <td>NaN</td>\n",
       "      <td>NaN</td>\n",
       "      <td>NaN</td>\n",
       "      <td>NaN</td>\n",
       "      <td>NaN</td>\n",
       "      <td>NaN</td>\n",
       "    </tr>\n",
       "    <tr>\n",
       "      <th>RandomJerk2012</th>\n",
       "      <td>NaN</td>\n",
       "      <td>NaN</td>\n",
       "      <td>NaN</td>\n",
       "      <td>NaN</td>\n",
       "      <td>NaN</td>\n",
       "      <td>NaN</td>\n",
       "      <td>NaN</td>\n",
       "      <td>NaN</td>\n",
       "      <td>NaN</td>\n",
       "      <td>NaN</td>\n",
       "      <td>...</td>\n",
       "      <td>NaN</td>\n",
       "      <td>NaN</td>\n",
       "      <td>NaN</td>\n",
       "      <td>NaN</td>\n",
       "      <td>NaN</td>\n",
       "      <td>NaN</td>\n",
       "      <td>NaN</td>\n",
       "      <td>NaN</td>\n",
       "      <td>NaN</td>\n",
       "      <td>NaN</td>\n",
       "    </tr>\n",
       "    <tr>\n",
       "      <th>C_left</th>\n",
       "      <td>NaN</td>\n",
       "      <td>NaN</td>\n",
       "      <td>NaN</td>\n",
       "      <td>NaN</td>\n",
       "      <td>NaN</td>\n",
       "      <td>NaN</td>\n",
       "      <td>NaN</td>\n",
       "      <td>NaN</td>\n",
       "      <td>NaN</td>\n",
       "      <td>NaN</td>\n",
       "      <td>...</td>\n",
       "      <td>NaN</td>\n",
       "      <td>NaN</td>\n",
       "      <td>NaN</td>\n",
       "      <td>NaN</td>\n",
       "      <td>NaN</td>\n",
       "      <td>NaN</td>\n",
       "      <td>NaN</td>\n",
       "      <td>NaN</td>\n",
       "      <td>NaN</td>\n",
       "      <td>NaN</td>\n",
       "    </tr>\n",
       "  </tbody>\n",
       "</table>\n",
       "<p>3 rows × 54 columns</p>\n",
       "</div>"
      ],
      "text/plain": [
       "                Android  BasicIncome  Christianity  Cricket  Fitness  \\\n",
       "lokikaraoke         NaN          NaN           NaN      NaN      NaN   \n",
       "RandomJerk2012      NaN          NaN           NaN      NaN      NaN   \n",
       "C_left              NaN          NaN           NaN      NaN      NaN   \n",
       "\n",
       "                Futurology  Games  HomeImprovement  JoeRogan  JordanPeterson  \\\n",
       "lokikaraoke            NaN    NaN              NaN       NaN             NaN   \n",
       "RandomJerk2012         NaN    NaN              NaN       NaN             NaN   \n",
       "C_left                 NaN    NaN              NaN       NaN             NaN   \n",
       "\n",
       "                ...  teslamotors  trees  vegan  anti_alt_right_comb  \\\n",
       "lokikaraoke     ...          NaN    NaN    NaN                  NaN   \n",
       "RandomJerk2012  ...          NaN    NaN    NaN                  NaN   \n",
       "C_left          ...          NaN    NaN    NaN                  NaN   \n",
       "\n",
       "                bad_capitalism_comb  conservative_comb  crypto_comb  \\\n",
       "lokikaraoke                     NaN                NaN          NaN   \n",
       "RandomJerk2012                  NaN                NaN          NaN   \n",
       "C_left                          NaN                NaN          NaN   \n",
       "\n",
       "                football_comb  soccer_comb  gaming_comb  \n",
       "lokikaraoke               NaN          NaN          NaN  \n",
       "RandomJerk2012            NaN          NaN          NaN  \n",
       "C_left                    NaN          NaN          NaN  \n",
       "\n",
       "[3 rows x 54 columns]"
      ]
     },
     "execution_count": 32,
     "metadata": {},
     "output_type": "execute_result"
    }
   ],
   "source": [
    "df_feature[df_feature['Android'].isnull()]\n",
    "# X_train[X_train['Android'].isnull()]"
   ]
  },
  {
   "cell_type": "code",
   "execution_count": 33,
   "metadata": {},
   "outputs": [],
   "source": [
    "df_feature = df_feature.drop(index=['pasak1987','C_left','lokikaraoke','RandomJerk2012'],axis=0)"
   ]
  },
  {
   "cell_type": "code",
   "execution_count": 34,
   "metadata": {},
   "outputs": [],
   "source": [
    "df_target_train = df_target_train.set_index('Unnamed: 0')"
   ]
  },
  {
   "cell_type": "code",
   "execution_count": 35,
   "metadata": {},
   "outputs": [],
   "source": [
    "df_target_test = df_target_test.set_index('Unnamed: 0')"
   ]
  },
  {
   "cell_type": "code",
   "execution_count": 36,
   "metadata": {},
   "outputs": [
    {
     "data": {
      "text/plain": [
       "(2714, 54)"
      ]
     },
     "execution_count": 36,
     "metadata": {},
     "output_type": "execute_result"
    }
   ],
   "source": [
    "df_feature.shape"
   ]
  },
  {
   "cell_type": "code",
   "execution_count": 37,
   "metadata": {},
   "outputs": [],
   "source": [
    "df_train = pd.concat([df_feature,df_target_train],axis=1,join='inner')"
   ]
  },
  {
   "cell_type": "code",
   "execution_count": 38,
   "metadata": {},
   "outputs": [],
   "source": [
    "df_test = pd.concat([df_feature,df_target_test],axis=1,join='inner')"
   ]
  },
  {
   "cell_type": "code",
   "execution_count": 39,
   "metadata": {},
   "outputs": [
    {
     "data": {
      "text/plain": [
       "(2021, 55)"
      ]
     },
     "execution_count": 39,
     "metadata": {},
     "output_type": "execute_result"
    }
   ],
   "source": [
    "df_train.shape"
   ]
  },
  {
   "cell_type": "code",
   "execution_count": 40,
   "metadata": {},
   "outputs": [
    {
     "data": {
      "text/plain": [
       "(693, 55)"
      ]
     },
     "execution_count": 40,
     "metadata": {},
     "output_type": "execute_result"
    }
   ],
   "source": [
    "df_test.shape"
   ]
  },
  {
   "cell_type": "code",
   "execution_count": 42,
   "metadata": {},
   "outputs": [
    {
     "data": {
      "text/html": [
       "<div>\n",
       "<style scoped>\n",
       "    .dataframe tbody tr th:only-of-type {\n",
       "        vertical-align: middle;\n",
       "    }\n",
       "\n",
       "    .dataframe tbody tr th {\n",
       "        vertical-align: top;\n",
       "    }\n",
       "\n",
       "    .dataframe thead th {\n",
       "        text-align: right;\n",
       "    }\n",
       "</style>\n",
       "<table border=\"1\" class=\"dataframe\">\n",
       "  <thead>\n",
       "    <tr style=\"text-align: right;\">\n",
       "      <th></th>\n",
       "      <th>Android</th>\n",
       "      <th>BasicIncome</th>\n",
       "      <th>Christianity</th>\n",
       "      <th>Cricket</th>\n",
       "      <th>Fitness</th>\n",
       "      <th>Futurology</th>\n",
       "      <th>Games</th>\n",
       "      <th>HomeImprovement</th>\n",
       "      <th>JoeRogan</th>\n",
       "      <th>JordanPeterson</th>\n",
       "      <th>...</th>\n",
       "      <th>trees</th>\n",
       "      <th>vegan</th>\n",
       "      <th>anti_alt_right_comb</th>\n",
       "      <th>bad_capitalism_comb</th>\n",
       "      <th>conservative_comb</th>\n",
       "      <th>crypto_comb</th>\n",
       "      <th>football_comb</th>\n",
       "      <th>soccer_comb</th>\n",
       "      <th>gaming_comb</th>\n",
       "      <th>target</th>\n",
       "    </tr>\n",
       "  </thead>\n",
       "  <tbody>\n",
       "    <tr>\n",
       "      <th>Horcruxno12</th>\n",
       "      <td>0.0</td>\n",
       "      <td>0.0</td>\n",
       "      <td>0.0</td>\n",
       "      <td>0.0</td>\n",
       "      <td>0.0</td>\n",
       "      <td>0.000000</td>\n",
       "      <td>0.0</td>\n",
       "      <td>0.000000</td>\n",
       "      <td>0.0</td>\n",
       "      <td>0.0</td>\n",
       "      <td>...</td>\n",
       "      <td>0.0</td>\n",
       "      <td>0.0</td>\n",
       "      <td>0.000000</td>\n",
       "      <td>0.0</td>\n",
       "      <td>0.000000</td>\n",
       "      <td>0.0</td>\n",
       "      <td>0.000000</td>\n",
       "      <td>0.032258</td>\n",
       "      <td>0.000000</td>\n",
       "      <td>0</td>\n",
       "    </tr>\n",
       "    <tr>\n",
       "      <th>squeegee1234</th>\n",
       "      <td>0.0</td>\n",
       "      <td>0.0</td>\n",
       "      <td>0.0</td>\n",
       "      <td>0.0</td>\n",
       "      <td>0.0</td>\n",
       "      <td>0.000000</td>\n",
       "      <td>0.0</td>\n",
       "      <td>0.000000</td>\n",
       "      <td>0.0</td>\n",
       "      <td>0.0</td>\n",
       "      <td>...</td>\n",
       "      <td>0.0</td>\n",
       "      <td>0.0</td>\n",
       "      <td>0.000000</td>\n",
       "      <td>0.0</td>\n",
       "      <td>0.333333</td>\n",
       "      <td>0.0</td>\n",
       "      <td>0.000000</td>\n",
       "      <td>0.000000</td>\n",
       "      <td>0.000000</td>\n",
       "      <td>0</td>\n",
       "    </tr>\n",
       "    <tr>\n",
       "      <th>WolverineSanders</th>\n",
       "      <td>0.0</td>\n",
       "      <td>0.0</td>\n",
       "      <td>0.0</td>\n",
       "      <td>0.0</td>\n",
       "      <td>0.0</td>\n",
       "      <td>0.366667</td>\n",
       "      <td>0.0</td>\n",
       "      <td>0.033333</td>\n",
       "      <td>0.0</td>\n",
       "      <td>0.0</td>\n",
       "      <td>...</td>\n",
       "      <td>0.0</td>\n",
       "      <td>0.0</td>\n",
       "      <td>0.000000</td>\n",
       "      <td>0.0</td>\n",
       "      <td>0.000000</td>\n",
       "      <td>0.0</td>\n",
       "      <td>0.000000</td>\n",
       "      <td>0.000000</td>\n",
       "      <td>0.033333</td>\n",
       "      <td>0</td>\n",
       "    </tr>\n",
       "    <tr>\n",
       "      <th>ZgylthZ</th>\n",
       "      <td>0.0</td>\n",
       "      <td>0.0</td>\n",
       "      <td>0.0</td>\n",
       "      <td>0.0</td>\n",
       "      <td>0.0</td>\n",
       "      <td>0.872340</td>\n",
       "      <td>0.0</td>\n",
       "      <td>0.000000</td>\n",
       "      <td>0.0</td>\n",
       "      <td>0.0</td>\n",
       "      <td>...</td>\n",
       "      <td>0.0</td>\n",
       "      <td>0.0</td>\n",
       "      <td>0.042553</td>\n",
       "      <td>0.0</td>\n",
       "      <td>0.000000</td>\n",
       "      <td>0.0</td>\n",
       "      <td>0.000000</td>\n",
       "      <td>0.000000</td>\n",
       "      <td>0.000000</td>\n",
       "      <td>0</td>\n",
       "    </tr>\n",
       "    <tr>\n",
       "      <th>JoshPastnerIsMyDad</th>\n",
       "      <td>0.0</td>\n",
       "      <td>0.0</td>\n",
       "      <td>0.0</td>\n",
       "      <td>0.0</td>\n",
       "      <td>0.0</td>\n",
       "      <td>0.000000</td>\n",
       "      <td>0.0</td>\n",
       "      <td>0.000000</td>\n",
       "      <td>0.0</td>\n",
       "      <td>0.0</td>\n",
       "      <td>...</td>\n",
       "      <td>0.0</td>\n",
       "      <td>0.0</td>\n",
       "      <td>0.000000</td>\n",
       "      <td>0.0</td>\n",
       "      <td>0.000000</td>\n",
       "      <td>0.0</td>\n",
       "      <td>0.196154</td>\n",
       "      <td>0.734615</td>\n",
       "      <td>0.000000</td>\n",
       "      <td>0</td>\n",
       "    </tr>\n",
       "  </tbody>\n",
       "</table>\n",
       "<p>5 rows × 55 columns</p>\n",
       "</div>"
      ],
      "text/plain": [
       "                    Android  BasicIncome  Christianity  Cricket  Fitness  \\\n",
       "Horcruxno12             0.0          0.0           0.0      0.0      0.0   \n",
       "squeegee1234            0.0          0.0           0.0      0.0      0.0   \n",
       "WolverineSanders        0.0          0.0           0.0      0.0      0.0   \n",
       "ZgylthZ                 0.0          0.0           0.0      0.0      0.0   \n",
       "JoshPastnerIsMyDad      0.0          0.0           0.0      0.0      0.0   \n",
       "\n",
       "                    Futurology  Games  HomeImprovement  JoeRogan  \\\n",
       "Horcruxno12           0.000000    0.0         0.000000       0.0   \n",
       "squeegee1234          0.000000    0.0         0.000000       0.0   \n",
       "WolverineSanders      0.366667    0.0         0.033333       0.0   \n",
       "ZgylthZ               0.872340    0.0         0.000000       0.0   \n",
       "JoshPastnerIsMyDad    0.000000    0.0         0.000000       0.0   \n",
       "\n",
       "                    JordanPeterson  ...  trees  vegan  anti_alt_right_comb  \\\n",
       "Horcruxno12                    0.0  ...    0.0    0.0             0.000000   \n",
       "squeegee1234                   0.0  ...    0.0    0.0             0.000000   \n",
       "WolverineSanders               0.0  ...    0.0    0.0             0.000000   \n",
       "ZgylthZ                        0.0  ...    0.0    0.0             0.042553   \n",
       "JoshPastnerIsMyDad             0.0  ...    0.0    0.0             0.000000   \n",
       "\n",
       "                    bad_capitalism_comb  conservative_comb  crypto_comb  \\\n",
       "Horcruxno12                         0.0           0.000000          0.0   \n",
       "squeegee1234                        0.0           0.333333          0.0   \n",
       "WolverineSanders                    0.0           0.000000          0.0   \n",
       "ZgylthZ                             0.0           0.000000          0.0   \n",
       "JoshPastnerIsMyDad                  0.0           0.000000          0.0   \n",
       "\n",
       "                    football_comb  soccer_comb  gaming_comb  target  \n",
       "Horcruxno12              0.000000     0.032258     0.000000       0  \n",
       "squeegee1234             0.000000     0.000000     0.000000       0  \n",
       "WolverineSanders         0.000000     0.000000     0.033333       0  \n",
       "ZgylthZ                  0.000000     0.000000     0.000000       0  \n",
       "JoshPastnerIsMyDad       0.196154     0.734615     0.000000       0  \n",
       "\n",
       "[5 rows x 55 columns]"
      ]
     },
     "execution_count": 42,
     "metadata": {},
     "output_type": "execute_result"
    }
   ],
   "source": [
    "df_train.head()"
   ]
  },
  {
   "cell_type": "code",
   "execution_count": 43,
   "metadata": {},
   "outputs": [
    {
     "data": {
      "text/html": [
       "<div>\n",
       "<style scoped>\n",
       "    .dataframe tbody tr th:only-of-type {\n",
       "        vertical-align: middle;\n",
       "    }\n",
       "\n",
       "    .dataframe tbody tr th {\n",
       "        vertical-align: top;\n",
       "    }\n",
       "\n",
       "    .dataframe thead th {\n",
       "        text-align: right;\n",
       "    }\n",
       "</style>\n",
       "<table border=\"1\" class=\"dataframe\">\n",
       "  <thead>\n",
       "    <tr style=\"text-align: right;\">\n",
       "      <th></th>\n",
       "      <th>Android</th>\n",
       "      <th>BasicIncome</th>\n",
       "      <th>Christianity</th>\n",
       "      <th>Cricket</th>\n",
       "      <th>Fitness</th>\n",
       "      <th>Futurology</th>\n",
       "      <th>Games</th>\n",
       "      <th>HomeImprovement</th>\n",
       "      <th>JoeRogan</th>\n",
       "      <th>JordanPeterson</th>\n",
       "      <th>...</th>\n",
       "      <th>trees</th>\n",
       "      <th>vegan</th>\n",
       "      <th>anti_alt_right_comb</th>\n",
       "      <th>bad_capitalism_comb</th>\n",
       "      <th>conservative_comb</th>\n",
       "      <th>crypto_comb</th>\n",
       "      <th>football_comb</th>\n",
       "      <th>soccer_comb</th>\n",
       "      <th>gaming_comb</th>\n",
       "      <th>target</th>\n",
       "    </tr>\n",
       "  </thead>\n",
       "  <tbody>\n",
       "    <tr>\n",
       "      <th>Fair_enough42</th>\n",
       "      <td>0.0</td>\n",
       "      <td>0.0</td>\n",
       "      <td>0.000000</td>\n",
       "      <td>0.0</td>\n",
       "      <td>0.0</td>\n",
       "      <td>0.0</td>\n",
       "      <td>0.0</td>\n",
       "      <td>0.0</td>\n",
       "      <td>0.094737</td>\n",
       "      <td>0.000000</td>\n",
       "      <td>...</td>\n",
       "      <td>0.000000</td>\n",
       "      <td>0.000000</td>\n",
       "      <td>0.000000</td>\n",
       "      <td>0.000000</td>\n",
       "      <td>0.105263</td>\n",
       "      <td>0.0</td>\n",
       "      <td>0.452632</td>\n",
       "      <td>0.010526</td>\n",
       "      <td>0.00000</td>\n",
       "      <td>1</td>\n",
       "    </tr>\n",
       "    <tr>\n",
       "      <th>SkepticalJohn</th>\n",
       "      <td>0.0</td>\n",
       "      <td>0.0</td>\n",
       "      <td>0.000000</td>\n",
       "      <td>0.0</td>\n",
       "      <td>0.0</td>\n",
       "      <td>0.0</td>\n",
       "      <td>0.0</td>\n",
       "      <td>0.0</td>\n",
       "      <td>0.000000</td>\n",
       "      <td>0.000000</td>\n",
       "      <td>...</td>\n",
       "      <td>0.030303</td>\n",
       "      <td>0.000000</td>\n",
       "      <td>0.000000</td>\n",
       "      <td>0.030303</td>\n",
       "      <td>0.000000</td>\n",
       "      <td>0.0</td>\n",
       "      <td>0.000000</td>\n",
       "      <td>0.000000</td>\n",
       "      <td>0.00000</td>\n",
       "      <td>0</td>\n",
       "    </tr>\n",
       "    <tr>\n",
       "      <th>mwheele86</th>\n",
       "      <td>0.0</td>\n",
       "      <td>0.0</td>\n",
       "      <td>0.000000</td>\n",
       "      <td>0.0</td>\n",
       "      <td>0.0</td>\n",
       "      <td>0.0</td>\n",
       "      <td>0.0</td>\n",
       "      <td>0.0</td>\n",
       "      <td>0.000000</td>\n",
       "      <td>0.000000</td>\n",
       "      <td>...</td>\n",
       "      <td>0.000000</td>\n",
       "      <td>0.000000</td>\n",
       "      <td>0.000000</td>\n",
       "      <td>0.000000</td>\n",
       "      <td>0.000000</td>\n",
       "      <td>0.0</td>\n",
       "      <td>0.000000</td>\n",
       "      <td>0.000000</td>\n",
       "      <td>0.00000</td>\n",
       "      <td>1</td>\n",
       "    </tr>\n",
       "    <tr>\n",
       "      <th>SgtRockyWalrus</th>\n",
       "      <td>0.0</td>\n",
       "      <td>0.0</td>\n",
       "      <td>0.000000</td>\n",
       "      <td>0.0</td>\n",
       "      <td>0.0</td>\n",
       "      <td>0.0</td>\n",
       "      <td>0.0</td>\n",
       "      <td>0.0</td>\n",
       "      <td>0.000000</td>\n",
       "      <td>0.000000</td>\n",
       "      <td>...</td>\n",
       "      <td>0.156250</td>\n",
       "      <td>0.000000</td>\n",
       "      <td>0.000000</td>\n",
       "      <td>0.062500</td>\n",
       "      <td>0.000000</td>\n",
       "      <td>0.0</td>\n",
       "      <td>0.593750</td>\n",
       "      <td>0.000000</td>\n",
       "      <td>0.03125</td>\n",
       "      <td>0</td>\n",
       "    </tr>\n",
       "    <tr>\n",
       "      <th>QuarantineTheHumans</th>\n",
       "      <td>0.0</td>\n",
       "      <td>0.0</td>\n",
       "      <td>0.021277</td>\n",
       "      <td>0.0</td>\n",
       "      <td>0.0</td>\n",
       "      <td>0.0</td>\n",
       "      <td>0.0</td>\n",
       "      <td>0.0</td>\n",
       "      <td>0.000000</td>\n",
       "      <td>0.085106</td>\n",
       "      <td>...</td>\n",
       "      <td>0.000000</td>\n",
       "      <td>0.053191</td>\n",
       "      <td>0.095745</td>\n",
       "      <td>0.191489</td>\n",
       "      <td>0.063830</td>\n",
       "      <td>0.0</td>\n",
       "      <td>0.000000</td>\n",
       "      <td>0.000000</td>\n",
       "      <td>0.00000</td>\n",
       "      <td>0</td>\n",
       "    </tr>\n",
       "  </tbody>\n",
       "</table>\n",
       "<p>5 rows × 55 columns</p>\n",
       "</div>"
      ],
      "text/plain": [
       "                     Android  BasicIncome  Christianity  Cricket  Fitness  \\\n",
       "Fair_enough42            0.0          0.0      0.000000      0.0      0.0   \n",
       "SkepticalJohn            0.0          0.0      0.000000      0.0      0.0   \n",
       "mwheele86                0.0          0.0      0.000000      0.0      0.0   \n",
       "SgtRockyWalrus           0.0          0.0      0.000000      0.0      0.0   \n",
       "QuarantineTheHumans      0.0          0.0      0.021277      0.0      0.0   \n",
       "\n",
       "                     Futurology  Games  HomeImprovement  JoeRogan  \\\n",
       "Fair_enough42               0.0    0.0              0.0  0.094737   \n",
       "SkepticalJohn               0.0    0.0              0.0  0.000000   \n",
       "mwheele86                   0.0    0.0              0.0  0.000000   \n",
       "SgtRockyWalrus              0.0    0.0              0.0  0.000000   \n",
       "QuarantineTheHumans         0.0    0.0              0.0  0.000000   \n",
       "\n",
       "                     JordanPeterson  ...     trees     vegan  \\\n",
       "Fair_enough42              0.000000  ...  0.000000  0.000000   \n",
       "SkepticalJohn              0.000000  ...  0.030303  0.000000   \n",
       "mwheele86                  0.000000  ...  0.000000  0.000000   \n",
       "SgtRockyWalrus             0.000000  ...  0.156250  0.000000   \n",
       "QuarantineTheHumans        0.085106  ...  0.000000  0.053191   \n",
       "\n",
       "                     anti_alt_right_comb  bad_capitalism_comb  \\\n",
       "Fair_enough42                   0.000000             0.000000   \n",
       "SkepticalJohn                   0.000000             0.030303   \n",
       "mwheele86                       0.000000             0.000000   \n",
       "SgtRockyWalrus                  0.000000             0.062500   \n",
       "QuarantineTheHumans             0.095745             0.191489   \n",
       "\n",
       "                     conservative_comb  crypto_comb  football_comb  \\\n",
       "Fair_enough42                 0.105263          0.0       0.452632   \n",
       "SkepticalJohn                 0.000000          0.0       0.000000   \n",
       "mwheele86                     0.000000          0.0       0.000000   \n",
       "SgtRockyWalrus                0.000000          0.0       0.593750   \n",
       "QuarantineTheHumans           0.063830          0.0       0.000000   \n",
       "\n",
       "                     soccer_comb  gaming_comb  target  \n",
       "Fair_enough42           0.010526      0.00000       1  \n",
       "SkepticalJohn           0.000000      0.00000       0  \n",
       "mwheele86               0.000000      0.00000       1  \n",
       "SgtRockyWalrus          0.000000      0.03125       0  \n",
       "QuarantineTheHumans     0.000000      0.00000       0  \n",
       "\n",
       "[5 rows x 55 columns]"
      ]
     },
     "execution_count": 43,
     "metadata": {},
     "output_type": "execute_result"
    }
   ],
   "source": [
    "df_test.head()"
   ]
  },
  {
   "cell_type": "code",
   "execution_count": 44,
   "metadata": {},
   "outputs": [],
   "source": [
    "df_train.to_csv('yangorno_train.csv')"
   ]
  },
  {
   "cell_type": "code",
   "execution_count": 45,
   "metadata": {},
   "outputs": [],
   "source": [
    "df_test.to_csv('yangorno_test.csv')"
   ]
  },
  {
   "cell_type": "code",
   "execution_count": 36,
   "metadata": {},
   "outputs": [],
   "source": [
    "#modeling"
   ]
  },
  {
   "cell_type": "code",
   "execution_count": 37,
   "metadata": {},
   "outputs": [],
   "source": [
    "lr = LogisticRegression()"
   ]
  },
  {
   "cell_type": "code",
   "execution_count": 38,
   "metadata": {},
   "outputs": [],
   "source": [
    "smt = SMOTE()"
   ]
  },
  {
   "cell_type": "code",
   "execution_count": 39,
   "metadata": {},
   "outputs": [],
   "source": [
    "X_train = df_train.drop('target',axis=1)"
   ]
  },
  {
   "cell_type": "code",
   "execution_count": 40,
   "metadata": {},
   "outputs": [],
   "source": [
    "y_train = df_train['target']"
   ]
  },
  {
   "cell_type": "code",
   "execution_count": 41,
   "metadata": {},
   "outputs": [],
   "source": [
    "X_train_2,y_train_2 = smt.fit_sample(X_train,y_train)"
   ]
  },
  {
   "cell_type": "code",
   "execution_count": 42,
   "metadata": {},
   "outputs": [],
   "source": [
    "X_test = df_test.drop('target',axis=1)"
   ]
  },
  {
   "cell_type": "code",
   "execution_count": 43,
   "metadata": {},
   "outputs": [],
   "source": [
    "y_test = df_test['target']"
   ]
  },
  {
   "cell_type": "code",
   "execution_count": 44,
   "metadata": {},
   "outputs": [
    {
     "name": "stderr",
     "output_type": "stream",
     "text": [
      "/Users/yichenh/anaconda3/lib/python3.7/site-packages/sklearn/linear_model/logistic.py:432: FutureWarning: Default solver will be changed to 'lbfgs' in 0.22. Specify a solver to silence this warning.\n",
      "  FutureWarning)\n"
     ]
    },
    {
     "data": {
      "text/plain": [
       "LogisticRegression(C=1.0, class_weight=None, dual=False, fit_intercept=True,\n",
       "                   intercept_scaling=1, l1_ratio=None, max_iter=100,\n",
       "                   multi_class='warn', n_jobs=None, penalty='l2',\n",
       "                   random_state=None, solver='warn', tol=0.0001, verbose=0,\n",
       "                   warm_start=False)"
      ]
     },
     "execution_count": 44,
     "metadata": {},
     "output_type": "execute_result"
    }
   ],
   "source": [
    "lr.fit(X_train,y_train)"
   ]
  },
  {
   "cell_type": "code",
   "execution_count": 45,
   "metadata": {},
   "outputs": [
    {
     "data": {
      "text/plain": [
       "0.7828458106098165"
      ]
     },
     "execution_count": 45,
     "metadata": {},
     "output_type": "execute_result"
    }
   ],
   "source": [
    "lr.score(X_train,y_train)"
   ]
  },
  {
   "cell_type": "code",
   "execution_count": 46,
   "metadata": {},
   "outputs": [
    {
     "data": {
      "text/plain": [
       "0    0.754586\n",
       "1    0.245414\n",
       "Name: target, dtype: float64"
      ]
     },
     "execution_count": 46,
     "metadata": {},
     "output_type": "execute_result"
    }
   ],
   "source": [
    "y_train.value_counts(normalize=True)"
   ]
  },
  {
   "cell_type": "code",
   "execution_count": 47,
   "metadata": {},
   "outputs": [
    {
     "data": {
      "text/plain": [
       "0.7862266857962698"
      ]
     },
     "execution_count": 47,
     "metadata": {},
     "output_type": "execute_result"
    }
   ],
   "source": [
    "lr.score(X_test,y_test)"
   ]
  },
  {
   "cell_type": "code",
   "execution_count": 48,
   "metadata": {},
   "outputs": [
    {
     "data": {
      "text/plain": [
       "0    0.756098\n",
       "1    0.243902\n",
       "Name: target, dtype: float64"
      ]
     },
     "execution_count": 48,
     "metadata": {},
     "output_type": "execute_result"
    }
   ],
   "source": [
    "y_test.value_counts(normalize=True)"
   ]
  },
  {
   "cell_type": "code",
   "execution_count": 49,
   "metadata": {},
   "outputs": [
    {
     "data": {
      "text/plain": [
       "0    0.92109\n",
       "1    0.07891\n",
       "dtype: float64"
      ]
     },
     "execution_count": 49,
     "metadata": {},
     "output_type": "execute_result"
    }
   ],
   "source": [
    "pd.Series(lr.predict(X_test)).value_counts(normalize=True)"
   ]
  },
  {
   "cell_type": "code",
   "execution_count": 50,
   "metadata": {},
   "outputs": [],
   "source": [
    "lr2 = LogisticRegression()"
   ]
  },
  {
   "cell_type": "code",
   "execution_count": 51,
   "metadata": {},
   "outputs": [
    {
     "name": "stderr",
     "output_type": "stream",
     "text": [
      "/Users/yichenh/anaconda3/lib/python3.7/site-packages/sklearn/linear_model/logistic.py:432: FutureWarning: Default solver will be changed to 'lbfgs' in 0.22. Specify a solver to silence this warning.\n",
      "  FutureWarning)\n"
     ]
    },
    {
     "data": {
      "text/plain": [
       "LogisticRegression(C=1.0, class_weight=None, dual=False, fit_intercept=True,\n",
       "                   intercept_scaling=1, l1_ratio=None, max_iter=100,\n",
       "                   multi_class='warn', n_jobs=None, penalty='l2',\n",
       "                   random_state=None, solver='warn', tol=0.0001, verbose=0,\n",
       "                   warm_start=False)"
      ]
     },
     "execution_count": 51,
     "metadata": {},
     "output_type": "execute_result"
    }
   ],
   "source": [
    "lr2.fit(X_train_2,y_train_2)"
   ]
  },
  {
   "cell_type": "code",
   "execution_count": 52,
   "metadata": {},
   "outputs": [
    {
     "data": {
      "text/plain": [
       "0.7296320630749015"
      ]
     },
     "execution_count": 52,
     "metadata": {},
     "output_type": "execute_result"
    }
   ],
   "source": [
    "lr2.score(X_train_2,y_train_2)"
   ]
  },
  {
   "cell_type": "code",
   "execution_count": 53,
   "metadata": {},
   "outputs": [
    {
     "data": {
      "text/plain": [
       "0.6642754662840746"
      ]
     },
     "execution_count": 53,
     "metadata": {},
     "output_type": "execute_result"
    }
   ],
   "source": [
    "lr2.score(X_test,y_test)"
   ]
  },
  {
   "cell_type": "code",
   "execution_count": 54,
   "metadata": {},
   "outputs": [
    {
     "data": {
      "text/plain": [
       "0    0.756098\n",
       "1    0.243902\n",
       "Name: target, dtype: float64"
      ]
     },
     "execution_count": 54,
     "metadata": {},
     "output_type": "execute_result"
    }
   ],
   "source": [
    "y_test.value_counts(normalize=True)"
   ]
  },
  {
   "cell_type": "code",
   "execution_count": 55,
   "metadata": {},
   "outputs": [
    {
     "data": {
      "text/plain": [
       "0    0.58967\n",
       "1    0.41033\n",
       "dtype: float64"
      ]
     },
     "execution_count": 55,
     "metadata": {},
     "output_type": "execute_result"
    }
   ],
   "source": [
    "pd.Series(lr2.predict(X_test)).value_counts(normalize=True)"
   ]
  },
  {
   "cell_type": "code",
   "execution_count": 56,
   "metadata": {},
   "outputs": [],
   "source": [
    "from sklearn.metrics import confusion_matrix\n",
    "import matplotlib.pyplot as plt"
   ]
  },
  {
   "cell_type": "code",
   "execution_count": 57,
   "metadata": {},
   "outputs": [
    {
     "data": {
      "text/plain": [
       "array([[510, 132],\n",
       "       [ 17,  38]])"
      ]
     },
     "execution_count": 57,
     "metadata": {},
     "output_type": "execute_result"
    }
   ],
   "source": [
    "confusion_matrix(lr.predict(X_test),y_test)"
   ]
  },
  {
   "cell_type": "code",
   "execution_count": 58,
   "metadata": {},
   "outputs": [
    {
     "data": {
      "text/plain": [
       "array([[352,  59],\n",
       "       [175, 111]])"
      ]
     },
     "execution_count": 58,
     "metadata": {},
     "output_type": "execute_result"
    }
   ],
   "source": [
    "confusion_matrix(lr2.predict(X_test),y_test)"
   ]
  },
  {
   "cell_type": "code",
   "execution_count": 59,
   "metadata": {},
   "outputs": [
    {
     "data": {
      "text/plain": [
       "0    527\n",
       "1    170\n",
       "Name: target, dtype: int64"
      ]
     },
     "execution_count": 59,
     "metadata": {},
     "output_type": "execute_result"
    }
   ],
   "source": [
    "y_test.value_counts()"
   ]
  },
  {
   "cell_type": "code",
   "execution_count": 60,
   "metadata": {},
   "outputs": [],
   "source": [
    "lr3 = LogisticRegression(class_weight='balanced')"
   ]
  },
  {
   "cell_type": "code",
   "execution_count": 61,
   "metadata": {},
   "outputs": [
    {
     "name": "stderr",
     "output_type": "stream",
     "text": [
      "/Users/yichenh/anaconda3/lib/python3.7/site-packages/sklearn/linear_model/logistic.py:432: FutureWarning: Default solver will be changed to 'lbfgs' in 0.22. Specify a solver to silence this warning.\n",
      "  FutureWarning)\n"
     ]
    },
    {
     "data": {
      "text/plain": [
       "LogisticRegression(C=1.0, class_weight='balanced', dual=False,\n",
       "                   fit_intercept=True, intercept_scaling=1, l1_ratio=None,\n",
       "                   max_iter=100, multi_class='warn', n_jobs=None, penalty='l2',\n",
       "                   random_state=None, solver='warn', tol=0.0001, verbose=0,\n",
       "                   warm_start=False)"
      ]
     },
     "execution_count": 61,
     "metadata": {},
     "output_type": "execute_result"
    }
   ],
   "source": [
    "lr3.fit(X_train,y_train)"
   ]
  },
  {
   "cell_type": "code",
   "execution_count": 62,
   "metadata": {},
   "outputs": [
    {
     "data": {
      "text/plain": [
       "0.6614060258249641"
      ]
     },
     "execution_count": 62,
     "metadata": {},
     "output_type": "execute_result"
    }
   ],
   "source": [
    "lr3.score(X_test,y_test)"
   ]
  },
  {
   "cell_type": "code",
   "execution_count": 63,
   "metadata": {},
   "outputs": [
    {
     "data": {
      "text/plain": [
       "array([[352,  61],\n",
       "       [175, 109]])"
      ]
     },
     "execution_count": 63,
     "metadata": {},
     "output_type": "execute_result"
    }
   ],
   "source": [
    "confusion_matrix(lr3.predict(X_test),y_test)"
   ]
  },
  {
   "cell_type": "code",
   "execution_count": null,
   "metadata": {},
   "outputs": [],
   "source": []
  },
  {
   "cell_type": "code",
   "execution_count": null,
   "metadata": {},
   "outputs": [],
   "source": []
  },
  {
   "cell_type": "code",
   "execution_count": null,
   "metadata": {},
   "outputs": [],
   "source": []
  },
  {
   "cell_type": "code",
   "execution_count": 67,
   "metadata": {},
   "outputs": [],
   "source": [
    "# results2 = pd.DataFrame(lr2.coef_.T,X_test.columns)"
   ]
  },
  {
   "cell_type": "code",
   "execution_count": 120,
   "metadata": {},
   "outputs": [],
   "source": [
    "# results = pd.DataFrame(lr.coef_.T,X_test.columns)"
   ]
  },
  {
   "cell_type": "code",
   "execution_count": null,
   "metadata": {},
   "outputs": [],
   "source": []
  }
 ],
 "metadata": {
  "kernelspec": {
   "display_name": "Python 3",
   "language": "python",
   "name": "python3"
  },
  "language_info": {
   "codemirror_mode": {
    "name": "ipython",
    "version": 3
   },
   "file_extension": ".py",
   "mimetype": "text/x-python",
   "name": "python",
   "nbconvert_exporter": "python",
   "pygments_lexer": "ipython3",
   "version": "3.7.3"
  }
 },
 "nbformat": 4,
 "nbformat_minor": 2
}
