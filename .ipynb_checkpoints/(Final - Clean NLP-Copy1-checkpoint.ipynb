{
 "cells": [
  {
   "cell_type": "code",
   "execution_count": 21,
   "metadata": {},
   "outputs": [],
   "source": [
    "import pandas as pd\n",
    "\n",
    "import nltk\n",
    "from nltk.tokenize import RegexpTokenizer\n",
    "from nltk.corpus import stopwords \n",
    "import regex as re\n",
    "from nltk.stem import WordNetLemmatizer\n",
    "from nltk.stem.porter import PorterStemmer"
   ]
  },
  {
   "cell_type": "code",
   "execution_count": 22,
   "metadata": {},
   "outputs": [
    {
     "name": "stderr",
     "output_type": "stream",
     "text": [
      "/Users/yichenh/anaconda3/lib/python3.7/site-packages/pandas/core/series.py:4141: FutureWarning: from_csv is deprecated. Please use read_csv(...) instead. Note that some of the default arguments are different, so please refer to the documentation for from_csv when changing your function calls\n",
      "  infer_datetime_format=infer_datetime_format)\n"
     ]
    }
   ],
   "source": [
    "series = pd.Series.from_csv('yangorno_comments_politics.csv')"
   ]
  },
  {
   "cell_type": "code",
   "execution_count": 23,
   "metadata": {},
   "outputs": [],
   "source": [
    "df = pd.DataFrame(series,columns=['Text'])"
   ]
  },
  {
   "cell_type": "code",
   "execution_count": 24,
   "metadata": {},
   "outputs": [
    {
     "data": {
      "text/html": [
       "<div>\n",
       "<style scoped>\n",
       "    .dataframe tbody tr th:only-of-type {\n",
       "        vertical-align: middle;\n",
       "    }\n",
       "\n",
       "    .dataframe tbody tr th {\n",
       "        vertical-align: top;\n",
       "    }\n",
       "\n",
       "    .dataframe thead th {\n",
       "        text-align: right;\n",
       "    }\n",
       "</style>\n",
       "<table border=\"1\" class=\"dataframe\">\n",
       "  <thead>\n",
       "    <tr style=\"text-align: right;\">\n",
       "      <th></th>\n",
       "      <th>Text</th>\n",
       "    </tr>\n",
       "  </thead>\n",
       "  <tbody>\n",
       "    <tr>\n",
       "      <th>PDXorax</th>\n",
       "      <td>The Lump of Labor doesn't apply in this case, ...</td>\n",
       "    </tr>\n",
       "    <tr>\n",
       "      <th>PrincePizza1</th>\n",
       "      <td>I think things \"getting better\" to people like...</td>\n",
       "    </tr>\n",
       "    <tr>\n",
       "      <th>Marmar79</th>\n",
       "      <td>Thank you. This made my dayHe so edgy.\\n\\nEdit...</td>\n",
       "    </tr>\n",
       "    <tr>\n",
       "      <th>IRISHE3</th>\n",
       "      <td>I just wish politicians would put the money sh...</td>\n",
       "    </tr>\n",
       "    <tr>\n",
       "      <th>RonZiggy</th>\n",
       "      <td>Climate change as well.Wow...just wowWhat is t...</td>\n",
       "    </tr>\n",
       "  </tbody>\n",
       "</table>\n",
       "</div>"
      ],
      "text/plain": [
       "                                                           Text\n",
       "PDXorax       The Lump of Labor doesn't apply in this case, ...\n",
       "PrincePizza1  I think things \"getting better\" to people like...\n",
       "Marmar79      Thank you. This made my dayHe so edgy.\\n\\nEdit...\n",
       "IRISHE3       I just wish politicians would put the money sh...\n",
       "RonZiggy      Climate change as well.Wow...just wowWhat is t..."
      ]
     },
     "execution_count": 24,
     "metadata": {},
     "output_type": "execute_result"
    }
   ],
   "source": [
    "df.head()"
   ]
  },
  {
   "cell_type": "code",
   "execution_count": 25,
   "metadata": {},
   "outputs": [],
   "source": [
    "tokenizer = RegexpTokenizer('\\s+', gaps=True)\n",
    "stops = set(stopwords.words('english'))\n",
    "political_stops = ['yang','beto','harri','biden','buttigieg','warren','sander','pete','berni']"
   ]
  },
  {
   "cell_type": "code",
   "execution_count": 26,
   "metadata": {},
   "outputs": [],
   "source": [
    "lemmatizer = WordNetLemmatizer()\n",
    "p_stemmer = PorterStemmer()"
   ]
  },
  {
   "cell_type": "code",
   "execution_count": 27,
   "metadata": {},
   "outputs": [],
   "source": [
    "def processText(raw_text):\n",
    "    \n",
    "    tokens = tokenizer.tokenize(raw_text)\n",
    "    \n",
    "    token_new=[]\n",
    "    \n",
    "    for token in tokens:\n",
    "        if 'http' in token:\n",
    "            pass\n",
    "        else:\n",
    "            result = re.sub(\"[^a-zA-Z]\", \"\",token.lower()) #replace the accented e that's something in pokemon\n",
    "            if result != '': #remove this word which seems to be an html artifact and adds no value\n",
    "                if result not in stops:\n",
    "                    stem = p_stemmer.stem(result)\n",
    "                    if stem not in political_stops:\n",
    "                        token_new.append(stem)\n",
    "    \n",
    "    return(\" \".join(token_new))"
   ]
  },
  {
   "cell_type": "code",
   "execution_count": 28,
   "metadata": {},
   "outputs": [
    {
     "data": {
      "text/plain": [
       "'He has a stutter. [https://stutteringtreatment.org/joe-biden-is-running-for-president-in-2020-and-hes-a-person-who-stutters/](https://stutteringtreatment.org/joe-biden-is-running-for-president-in-2020-and-hes-a-person-who-stutters/)\\n\\n&#x200B;\\n\\nYou can text Joe to 30330 to join his text list.Here\\'s an article that focuses entirely on his stuttering. [https://stutteringtreatment.org/joe-biden-is-running-for-president-in-2020-and-hes-a-person-who-stutters/](https://stutteringtreatment.org/joe-biden-is-running-for-president-in-2020-and-hes-a-person-who-stutters/)He has a stutter, it\\'s not something to make fun of. [https://stutteringtreatment.org/joe-biden-is-running-for-president-in-2020-and-hes-a-person-who-stutters/](https://stutteringtreatment.org/joe-biden-is-running-for-president-in-2020-and-hes-a-person-who-stutters/)No, his longstanding and honorable career began a long time ago and he wants you to remember that. He\\'s more qualified than a lot of other people.If you mean stumbling in his speech, you, and everyone else commenting on his speech mishaps, should know he\\'s had a stutter since he was a child. [https://stutteringtreatment.org/joe-biden-is-running-for-president-in-2020-and-hes-a-person-who-stutters/](https://stutteringtreatment.org/joe-biden-is-running-for-president-in-2020-and-hes-a-person-who-stutters/)The discussion surrounding Gun Violence didn\\'t come up at all tonight, and that\\'s shameful.I don\\'t disagree that it shows Harris\\' campaign knows what they\\'re doing, I guess I just feel a little iffy about using that specific image to pull the heartstrings in that way, and take advantage of something awful. That\\'s politics though, I know that much.I think Harris is a great person, and a good candidate. I also think some of the awful things people have been saying about her these past few days are just way out of line. That being said, her approach during that portion of the debate was less than what I wanted from her. Even more than that, her campaign\\'s actions after the debate have really made me think less of her as a candidate. Immediately selling shirts with that image, which was clearly planned in advance of the debate, is too much. Don\\'t misconstrue any of this as me not liking Harris, I\\'d still take her any day against what we currently have in the oval office. She just isn\\'t my #1 choice.Every poll says something different. Some say he’s down, others say up. A lot are saying he’s going up with black voters even more.Uhh, he is the frontrunner.I was surprised that didn\\'t come up tonight! That\\'s one of my BIGGEST issues with her, and they brought it up for a candidate last night.I like Booker a lot, and think he\\'s really going to go places (he\\'s already gone to some great places though). I think he also did a great job last night. I would suggest putting him in Sanders place, but I know that goes against the polls completely. Maybe he\\'ll have a better shot a few years down the line.Whenever I\\'ve been in Biden\\'s presence I\\'ve always felt that his heart is in everything he does, and that is true now more than ever. He cares deeply about America, and the American people, and will do everything in his power to take down Trump and restore our status of respect worldwide.Thanks for the positivity! I definitely won\\'t forget tonight, that\\'s for sure.When Lester Holt was in the audience speaking? Yes, I did! I was wearing a blue button up if that helps. Maybe you can get a picture and we’ll see if it was me? That also sounds like a lot of effort for no reward, so you do you haha.Is it sad that I knew it wasn\\'t me in the first half of the sentence? No, I was not in the front row! I was in the orchestra though, and I was in a few shots with some of the candidates as they were talking with people after the debate. It was amazing to be there.I\\'m a big Biden supporter, and I\\'m definitely going to be voting for him, but after being a proud Biden Supporter I\\'m also a proud member of the Democratic Party. I\\'m really happy to see the majority of people here have signed on to the \"Vote Blue No Matter Who\" way of thinking, which is exactly what we need to beat Donald Trump.Hahah, I think I had more screen time than Inslee did!But what would you say to plans that give healthcare to all without abolishing systems we have in place? That\\'s my biggest issue with the plans put forward.I made it on camera a few times tonight!'"
      ]
     },
     "execution_count": 28,
     "metadata": {},
     "output_type": "execute_result"
    }
   ],
   "source": [
    "df.iloc[123,:]['Text']"
   ]
  },
  {
   "cell_type": "code",
   "execution_count": 29,
   "metadata": {},
   "outputs": [
    {
     "data": {
      "text/plain": [
       "'stutter xb text joe join text listher articl focus entir stutter stutter someth make fun longstand honor career began long time ago want rememb he qualifi lot peopleif mean stumbl speech everyon els comment speech mishap know he stutter sinc child discuss surround gun violenc didnt come tonight that shamefuli dont disagre show campaign know theyr guess feel littl iffi use specif imag pull heartstr way take advantag someth aw that polit though know muchi think great person good candid also think aw thing peopl say past day way line said approach portion debat less want even campaign action debat realli made think less candid immedi sell shirt imag clearli plan advanc debat much dont misconstru like id still take day current oval offic isnt choiceeveri poll say someth differ say he other say lot say he go black voter even moreuhh frontrunneri surpris didnt come tonight that one biggest issu brought candid last nighti like booker lot think he realli go go place he alreadi gone great place though think also great job last night would suggest put place know goe poll complet mayb hell better shot year linewhenev ive presenc ive alway felt heart everyth true ever care deepli america american peopl everyth power take trump restor statu respect worldwidethank posit definit wont forget tonight that surewhen lester holt audienc speak ye wear blue button help mayb get pictur well see also sound like lot effort reward hahai sad knew wasnt first half sentenc front row orchestra though shot candid talk peopl debat amaz thereim big support im definit go vote proud support im also proud member democrat parti im realli happi see major peopl sign vote blue matter way think exactli need beat donald trumphahah think screen time insle didbut would say plan give healthcar without abolish system place that biggest issu plan put forwardi made camera time tonight'"
      ]
     },
     "execution_count": 29,
     "metadata": {},
     "output_type": "execute_result"
    }
   ],
   "source": [
    "processText(df.iloc[123,:]['Text'])"
   ]
  },
  {
   "cell_type": "code",
   "execution_count": 30,
   "metadata": {},
   "outputs": [],
   "source": [
    "df['Clean'] = df['Text'].apply(processText)"
   ]
  },
  {
   "cell_type": "code",
   "execution_count": 31,
   "metadata": {},
   "outputs": [
    {
     "data": {
      "text/html": [
       "<div>\n",
       "<style scoped>\n",
       "    .dataframe tbody tr th:only-of-type {\n",
       "        vertical-align: middle;\n",
       "    }\n",
       "\n",
       "    .dataframe tbody tr th {\n",
       "        vertical-align: top;\n",
       "    }\n",
       "\n",
       "    .dataframe thead th {\n",
       "        text-align: right;\n",
       "    }\n",
       "</style>\n",
       "<table border=\"1\" class=\"dataframe\">\n",
       "  <thead>\n",
       "    <tr style=\"text-align: right;\">\n",
       "      <th></th>\n",
       "      <th>Text</th>\n",
       "      <th>Clean</th>\n",
       "    </tr>\n",
       "  </thead>\n",
       "  <tbody>\n",
       "    <tr>\n",
       "      <th>PDXorax</th>\n",
       "      <td>The Lump of Labor doesn't apply in this case, ...</td>\n",
       "      <td>lump labor doesnt appli case look rd labor aut...</td>\n",
       "    </tr>\n",
       "    <tr>\n",
       "      <th>PrincePizza1</th>\n",
       "      <td>I think things \"getting better\" to people like...</td>\n",
       "      <td>think thing get better peopl like everybodi ag...</td>\n",
       "    </tr>\n",
       "    <tr>\n",
       "      <th>Marmar79</th>\n",
       "      <td>Thank you. This made my dayHe so edgy.\\n\\nEdit...</td>\n",
       "      <td>thank made dayh edgi edit dont think wrong thi...</td>\n",
       "    </tr>\n",
       "    <tr>\n",
       "      <th>IRISHE3</th>\n",
       "      <td>I just wish politicians would put the money sh...</td>\n",
       "      <td>wish politician would put money shit real doll...</td>\n",
       "    </tr>\n",
       "    <tr>\n",
       "      <th>RonZiggy</th>\n",
       "      <td>Climate change as well.Wow...just wowWhat is t...</td>\n",
       "      <td>climat chang wellwowjust wowwhat fromwel happe...</td>\n",
       "    </tr>\n",
       "  </tbody>\n",
       "</table>\n",
       "</div>"
      ],
      "text/plain": [
       "                                                           Text  \\\n",
       "PDXorax       The Lump of Labor doesn't apply in this case, ...   \n",
       "PrincePizza1  I think things \"getting better\" to people like...   \n",
       "Marmar79      Thank you. This made my dayHe so edgy.\\n\\nEdit...   \n",
       "IRISHE3       I just wish politicians would put the money sh...   \n",
       "RonZiggy      Climate change as well.Wow...just wowWhat is t...   \n",
       "\n",
       "                                                          Clean  \n",
       "PDXorax       lump labor doesnt appli case look rd labor aut...  \n",
       "PrincePizza1  think thing get better peopl like everybodi ag...  \n",
       "Marmar79      thank made dayh edgi edit dont think wrong thi...  \n",
       "IRISHE3       wish politician would put money shit real doll...  \n",
       "RonZiggy      climat chang wellwowjust wowwhat fromwel happe...  "
      ]
     },
     "execution_count": 31,
     "metadata": {},
     "output_type": "execute_result"
    }
   ],
   "source": [
    "df.head()"
   ]
  },
  {
   "cell_type": "code",
   "execution_count": 32,
   "metadata": {},
   "outputs": [],
   "source": [
    "df.to_csv('yangorno_cleaned_nlp.csv')"
   ]
  },
  {
   "cell_type": "code",
   "execution_count": null,
   "metadata": {},
   "outputs": [],
   "source": []
  }
 ],
 "metadata": {
  "kernelspec": {
   "display_name": "Python 3",
   "language": "python",
   "name": "python3"
  },
  "language_info": {
   "codemirror_mode": {
    "name": "ipython",
    "version": 3
   },
   "file_extension": ".py",
   "mimetype": "text/x-python",
   "name": "python",
   "nbconvert_exporter": "python",
   "pygments_lexer": "ipython3",
   "version": "3.7.3"
  }
 },
 "nbformat": 4,
 "nbformat_minor": 2
}
