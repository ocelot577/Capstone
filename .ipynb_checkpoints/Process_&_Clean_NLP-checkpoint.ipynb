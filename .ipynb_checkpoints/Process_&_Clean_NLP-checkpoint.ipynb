{
 "cells": [
  {
   "cell_type": "markdown",
   "metadata": {},
   "source": [
    "Imports"
   ]
  },
  {
   "cell_type": "code",
   "execution_count": 1,
   "metadata": {},
   "outputs": [],
   "source": [
    "import pandas as pd\n",
    "import nltk\n",
    "from nltk.tokenize import RegexpTokenizer\n",
    "import regex as re"
   ]
  },
  {
   "cell_type": "markdown",
   "metadata": {},
   "source": [
    "Load in dataframe"
   ]
  },
  {
   "cell_type": "code",
   "execution_count": 2,
   "metadata": {},
   "outputs": [],
   "source": [
    "df = pd.read_csv('fin_comments_politics.csv',names=['User','Text'])"
   ]
  },
  {
   "cell_type": "code",
   "execution_count": 3,
   "metadata": {},
   "outputs": [
    {
     "data": {
      "text/html": [
       "<div>\n",
       "<style scoped>\n",
       "    .dataframe tbody tr th:only-of-type {\n",
       "        vertical-align: middle;\n",
       "    }\n",
       "\n",
       "    .dataframe tbody tr th {\n",
       "        vertical-align: top;\n",
       "    }\n",
       "\n",
       "    .dataframe thead th {\n",
       "        text-align: right;\n",
       "    }\n",
       "</style>\n",
       "<table border=\"1\" class=\"dataframe\">\n",
       "  <thead>\n",
       "    <tr style=\"text-align: right;\">\n",
       "      <th></th>\n",
       "      <th>User</th>\n",
       "      <th>Text</th>\n",
       "    </tr>\n",
       "  </thead>\n",
       "  <tbody>\n",
       "    <tr>\n",
       "      <th>0</th>\n",
       "      <td>PDXorax</td>\n",
       "      <td>The Lump of Labor doesn't apply in this case,...</td>\n",
       "    </tr>\n",
       "    <tr>\n",
       "      <th>1</th>\n",
       "      <td>PrincePizza1</td>\n",
       "      <td>I think things \"getting better\" to people lik...</td>\n",
       "    </tr>\n",
       "    <tr>\n",
       "      <th>2</th>\n",
       "      <td>Marmar79</td>\n",
       "      <td>Thank you. This made my day He so edgy.\\n\\nEd...</td>\n",
       "    </tr>\n",
       "    <tr>\n",
       "      <th>3</th>\n",
       "      <td>IRISHE3</td>\n",
       "      <td>I just wish politicians would put the money s...</td>\n",
       "    </tr>\n",
       "    <tr>\n",
       "      <th>4</th>\n",
       "      <td>RonZiggy</td>\n",
       "      <td>Climate change as well. Wow...just wow What i...</td>\n",
       "    </tr>\n",
       "  </tbody>\n",
       "</table>\n",
       "</div>"
      ],
      "text/plain": [
       "           User                                               Text\n",
       "0       PDXorax   The Lump of Labor doesn't apply in this case,...\n",
       "1  PrincePizza1   I think things \"getting better\" to people lik...\n",
       "2      Marmar79   Thank you. This made my day He so edgy.\\n\\nEd...\n",
       "3       IRISHE3   I just wish politicians would put the money s...\n",
       "4      RonZiggy   Climate change as well. Wow...just wow What i..."
      ]
     },
     "execution_count": 3,
     "metadata": {},
     "output_type": "execute_result"
    }
   ],
   "source": [
    "df.head()"
   ]
  },
  {
   "cell_type": "markdown",
   "metadata": {},
   "source": [
    "Parse/clean comment text"
   ]
  },
  {
   "cell_type": "code",
   "execution_count": 4,
   "metadata": {},
   "outputs": [],
   "source": [
    "tokenizer = RegexpTokenizer('\\s+', gaps=True)"
   ]
  },
  {
   "cell_type": "code",
   "execution_count": 5,
   "metadata": {},
   "outputs": [],
   "source": [
    "#This function converts a string of raw text into a list of individual words (tokens)\n",
    "\n",
    "def processText(raw_text):\n",
    "    \n",
    "    tokens = tokenizer.tokenize(raw_text) #Split text into word tokens on spaces\n",
    "    \n",
    "    token_new=[]\n",
    "    \n",
    "    for token in tokens:\n",
    "        if 'http' in token: #remove web addresses\n",
    "            pass\n",
    "        else:\n",
    "            result = re.sub(\"[^a-zA-Z]\", \" \",token.lower()) #replace all non-letters with a space\n",
    "            tokens2 = tokenizer.tokenize(result) #if a token now has space, split into multiple tokens\n",
    "            for token2 in tokens2:\n",
    "                if (len(token2) > 1) & (token2 != 'xb'): #remove single letter tokens and the xb token\n",
    "                    token_new.append(token2)\n",
    "    \n",
    "    return(\" \".join(token_new))"
   ]
  },
  {
   "cell_type": "code",
   "execution_count": 6,
   "metadata": {},
   "outputs": [
    {
     "data": {
      "text/plain": [
       "' Molesting that cut out is probably the closest those boys are going to get to a women in a long time. Jim Crow was probably invented several generations back as by the time their grandparents were practicing Jim Crow it was being implemented for generations I don\\'t really care all that much about how you sound as a leader. Yes it does matter somewhat but I care about policy more. If Trump was implementing Bernie Sanders policy platform I would take that over a neo corporate centrist who is a good figurehead like Obama. That being said Trump neither has good policy nor is a good leader. You really do underestimate how much Republicans will put party over country. The problem is that these Waco types were just generally against the government Dem or Rep. But now a lot of these people are rallying around Trump which is scary because now they have someone and something to die for and kill for. Under insurance is just as big an issue To another state. Those plans are high deductible plans that aren\\'t cheap and in general not the best quality. Could you elaborate what you mean by Medicare and Medicaid don\\'t compare well to private insurance? In terms of payouts or benefits or what specifically? Just trying to grasp what you mean. \\n\\nI would also argue that even people with \"good\" private plans are still going to see the benefit of M4A in some respects. Having the security of you and your children\\'s healthcare not tied to a job is a huge boost and if you own your own business a fixed cost like a tax is better than negotiating plans every year.\\n\\nThe benefits are much wider reaching in a broad context. I agree that it isn\\'t simple but Medicaid offers a very similar amount of benefits to its recipients as the proposed M4A bill and we still see that system have advantages over the private system in terms of billing and administration and how much money goes towards care. \\n\\nI actually agree that some people\\'s private plans might give them a better deal in terms of access to a system due to high prices locking some people out. \\n\\nBut for the vast majority of people they would see the same or better care for lower costs and they will have to deal with much less uncertainty and general insecurity. Not to mention the economic freedom. \\n\\nMy argument is that healthcare insurance is something the government does on two level and it isn\\'t nearly as much of a ground up effort as it seems. The fact that a $2,500 medical bill with insurance for a hospital stay is considered getting off good shows how fucked the system is. For one typically if you compare the cost of similar treatment in Switzerland (The second most expensive system) the cost would be dramatically less than 34k. Then if you compare to what that treatment costs in Canada it would be a fraction of that 34k. \\n\\nSadly because American\\'s have to pay for a combination of a massive billing bureaucracy (due to how many private plans exist, how many companies negotiate their networks, and the insane way hospitals and providers have to bill), profits and dividends, higher prescription drug costs due to lack of negotiation from the government, and the populations lack of preventative care we get an inflated cost of healthcare. I could be wrong but I have heard stories of families with good insurance meeting caps and other out of network costs not being covered even after the ACA. I do find it to be horrifying that if you have an emergency on vacation you likely won\\'t be covered. The point I was making wasn\\'t that Medicare and M4A are the same system. But rather that the government has an infrastructure in place and decades of experience administering healthcare. It isn\\'t a complete unknown as to how a complete expansion of that system would work or how turning over the private system folding it into a government one would work. Most unions are for M4A It\\'s not that the question is a tough question but rather the way the question is framed comes from a right wing perspective and leaves no room for nuance. For one it does exist in this nation as the government does administer large scale insurance to tens of millions if not over 100 million residents at a lower administrative cost with a larger percentage of their money spent on care by a wide margin. Secondly various models of single payer systems exist throughout the industrialized world and are much much much more popular than the highly unpopular private system. All the evidence on a large scale points to Medicare for All being better than any version of a system where a for profit middle man exists. People like their doctors not United Healthcare. A huge hurdle would be to eliminate this idea that your insurance is your doctor. That’s the biggest misnomer that the system would be a huge unknown. The government already insures the poor and elderly to the tune of tens of millions of people. In fact they do so at a lower administrative cost (they only use one set of codes.) The administrative costs of Medicare and Medicaid are roughly around 5% compared to 20% for the private sector (and the only reason it is 20% and not more is because the ACA made it so.)\\n\\nThe hospitals and providers already exist it is a matter of how do we finance such a system. Even Bernie’s bill would have a 4 year phase in that is sensibly done. I think we are at a point where the private system has been so fucked for so long (and no viable solution exists because as it turns out you can’t justify dozens of for profit middlemen causing an administrative nightmare and higher costs) that I think people are just vastly willing to turn to the government and do a system that works better in other nations. \\n\\nTalk to anyone from Europe or Japan/Korea/Canada/Australia/Any other developed nation and they will tell you that the American system is a joke (how can you go bankrupt from being sick) and that while their systems might have some issues they wouldn’t trade it in for a private system. The fact that the healthcare systems of other nations are not rushing to a privatized system (and the conservatives never want to touch the system other than just underfunding it) shows you that the US system is just beyond awful at this point. The insane thing is that even some people with good health insurance meet their maximum coverage cap (something most people are unaware of) and have their finances thrown into chaos because of the fact that their illness is insanely expensive. It is very frustrating to speak to conservatives who are against universal healthcare when they don’t understand that it isn’t just people they deem “Irresponsible” bums who suffer under this system. Even if you have good insurance but you get hurt while traveling out of state you can get hit with big costs. \\n\\nWho can justify such a system when a proven alternative that is much better for literally everyone exists? Let’s also not ignore the economic benefit of not having your healthcare tied to your job. How many people can’t go into business for themselves because they can’t afford to not be on insurance? To be fair to CNN and cable news they do those townhall things going one on one with candidates. However I completely agree that 10 people on a debate stage isn\\'t productive and is mostly political theater.  \\n\\nConsidering how long this election cycle is why not just have debates on PBS for a 3 week stretch? Have a week of debating healthcare with 5 candidates at a time over 2 hours. Then a week later have a debate about climate change. \\n\\nWhat\\'s the point of having a nearly 2 year election cycle only to crunch the debates? Mayor Pete is a fake Obama centrist, no substance. You do realize that Bernie\\'s and Warren\\'s agenda would be similar to a conservative in Europe\\'s right? Angela Merkel is a conservative but would be branded a radical in the US. Considering the advantages Hillary had in 2016 I think Bernie\\'s relatively successful insurgency was a sign of where the enthusiasm for the party is. It\\'s possible but Trump led or was 2nd in polls wire to wire from the beginning. Williamson is at what 1%. Buttigieg is a fake Obama light on policy. Bullock is the same but without the platitudes and cliches. The Dems need to give people something to vote for and not just be hey we are not Trump. Corporate incrementalism isn\\'t an agenda that will get out the vote. \\n\\nBernie is a true populist with an agenda that is the most truly liberal since FDR. Bernie is the way to go. The base by definition is much more liberal and Bernie is much more familiar to black voters after 2016 than he was in the previous primary. I think his chances to unseat black support this time around is better. That\\'s the one issue that might not poll well but the rest of Bernies agenda is extremely popular among the Dem base and independents. Once again the party already went with a \"safe\" moderate against Trump and it failed. Once the public knows more about how conservative Biden is that support will dwindle Because a centrist worked so well in 2016. I used to like Stossel when he was on 20/20 and I was 10 years old but he acts like finding healthcare as a public access utility in a similar fashion to police and Firefighting is a radical giveaway of free goodies. The difference is Bernie who is a real candidate, whereas the GOP field was filled with awful odious candidates. There is an economic engine that these coaches are a part of for sure. However their should be some measure of cost control put into effect (give coaches a base salary that is capped and then base their pay on a percentage of the revenue directly tied to the program.) Ironically the day Trump is no longer in office is the day he gets arrested for fiscal fraud. What innovation from the private sector States set minimum wages higher than the federal level. Typically the federal wage is designed for low cost areas. That\\'s why I think 15 is too high for a federal minimum but the federal minimum should still be raised to well above 10 an hour and then states can raise it beyond that for higher cost of living areas. Robots do jobs way cheaper than 7.15 an hour. Although I do think inflation arguments can be made it is a fallacy to say increases in the minimum wage would increase automation. Companies are looking to automate as many jobs as possible regardless if they save 7 dollars an hour or 15. I personally think 15 dollars federally is way too high because some areas of the country are low cost of living and that would have a damaging impact. However if the minimum wage kept up with inflation since 2007 it would be about 9 dollars an hour and I think that a gradual increase over 5-6 years to something in the range of 10.50 to 11.50 federally would work. Let states and cities where the cost of living is high jack it up beyond 10.50 to 11.50 an hour but federally it is just way too low. The Wealthy mostly take their money and invest it in assets and the stock market. So yes you are right that the money isn\\'t out of the economy but it is just going into assets which inflated the prices of assets which benefits a small amount of people. Whereas if you put money in the hands of consumers they spend the vast majority of it and they spend it on things that are more demand/consumer driven.\\n\\n&#x200B;\\n\\nA rich family can\\'t go out to dinner 1000 times a day. They might take some additional money and spend it on some consumer products but most likely it will be spent on assets. But give 1000 working poor families money and they are going out to eat or simply spending it on things that they need or were putting off. That money circulates much more quickly throughout the demand/consumer economy in a way that drives actual business growth (more demand means more growth which means a need to increase business.)\\n\\n&#x200B;\\n\\nRight now our economy is servicing to pump up the stock market at the expense of the worker. Wage growth would drive inflation if demand was high (more money spent on assets that already have high demand would just drive up prices.) But demand is very low because wages haven\\'t increased relative to inflation much if at all by some measures. So pumping up demand would at best have a tepid impact on inflation. A modest increase in inflation would be a welcomed sight for an economy that has been stagnant. It\\'s a race to the bottom because if you aren\\'t looking to pay your workers less someone else will and they will sell the product cheaper and take your market share. It gets worse when you can outsource jobs and you can ship jobs away from the economy. \\n\\n&#x200B;\\n\\nHowever demand drives the economy and there is only so much hitting demand that can happen before things break. Sadly we have an entire political party whose philosophy is that rich people don\\'t have enough money. Agreed but Their most successful was the tea party which tapped into a freak out over Obama. Yes it was astroturfed but it also did tap into a real sentiment of anger over Obama. They care about their wallets more so than anything else sadly. The tea party was pretty nuts and they weren\\'t some fringe faction. Look up the things they said about Obama and you sadly realize this wasn\\'t something Trump invented, it was more so something he tapped into. Trump\\'s approval rating within the Republican party was at one point 90% and consistently in the upper 80\\'s. He still is polling at 79% approval rating. I hate to say it because I have friends who are Republicans (although I would say they are much more just about taxes and guns) but this really is who the Republicans are. They either know he is racist and love it or they know he is racist and tolerate it because of Trump\\'s policies that are the most baseline conservative policies. That\\'s it, there are no other options. Bernie going full FDR, love it. Billionaires existing is not bad or ethical. If you make a discover or improve the market in a meaningful and ethical way and you make 10 billion dollars doing it and you pay 8 billion back in taxes I don\\'t see why someone having 2 billion dollars for their troubles is unethical. It becomes a big issue when they don\\'t pay a reasonable tax rate and they have undue political influence through legalized bribery. Fuck the Russia stuff. How does this not result in him being ousted from office immediately? That\\'s a very fair point. Although in some areas where the schools are shitty the property taxes are lower. \\n\\nFor example in NYC which has a lot of bad public schools the property taxes are lower percentage wise than in NJ where a lot of schools have at least decent to good schools. \\n\\nMy best friend from college lived in Brooklyn and we compared his parents private school tuition and property taxes to my parents property taxes and it was almost even. \\n\\nHowever I am not sure this is the case for all of the USA People sending their kids to private schools act like they don\\'t still benefit from their community having a good school that can educate the children and teens living around them. The US spends about 12k per-student via local, state, and national funding. Which is among the highest in the world. Is the issue money or how the money is spent? I am honestly asking since I don\\'t know what the issues in education at a public level are. Who seriously watches Fox News other than conservatives looking to inform their own bias? That\\'s not to say CNN and other networks aren\\'t as equally hypocritical but rather that Fox is just way more blatant. Really? Over Bernie who is the real deal fighting for working people since the 70s Christian Sharia. The problem with \"having a hard time blaming the establishment for not achieving everything they say\" is that it assumes the establishment Dems act in good faith and that it is the Republicans that stop this agenda. \\n\\nGranted sometime it is the GOP that does block their agenda but often times some of the worst things that the government does is bipartisan. The 80 billion yearly increase to the military budget, the cheerleading of the Drone strikes under Trump and Obama, massive deregulation of business, and the continuing blocking of a progressive economic agenda have been bipartisan efforts. \\n\\nBiden\\'s policy platform might be 70% in line with progressive values but Biden\\'s willingness to start from compromise and view the GOP as good faith actors (which they clearly are not) is a horrid political strategy. \\n\\nI can\\'t support a centrist Dem in the primary for these reasons. I also like the fact that Bernie unlike Obama is selling this as a long term political project as opposed to Obama who sold it as a let me in and I will take care of this. \\n\\nI think that strategy of not holding up the presidency as the be all end all is what really makes me pull for Bernie. Toss in the fact that Bernie isn\\'t just running on a \"Hey I am not Trump\" platform. He is running to meaningfully try and shift the nation towards social democracy and not making any easy promises. The problem is that the centrist Dems never pursue the policy agenda they claim to support. They also come up with some BS line about the red dog Dems or not getting enough support. Biden in the primary I hate because I can’t support any candidate who doesn’t support Universal Healthcare in the primary and because Biden is a war hawk. I don’t like purity tests but foreign policy and healthcare are my two standards personally. \\n\\nSo yes Biden might support 60-70% of Bernie’s platform. But he isn’t likely to actually get much of that platform implemented because inherently he is selling himself as center left and emphasis on the center. Bernie (my preferred candidate) has been staying a fairly consistent line for 40+ years. You know that he will pursue a progressive policy agenda full stop. Yes he might not get all of it implemented but if you push from what you want you get better results as opposed to pretending to be some moderate and starting by conceding. \\n\\nI also think that this being the primary is the point in time where you have to be picky. Yes in a general election I would be for Biden, but now is the time to really let the process play out. Hilary ran an arrogant campaign (and despite her electoral failure she still won the popular vote by a wide margin) that outright stopped campaigning in most swing states and was a pro-establishment candidate running in one of the most anti-establishment times ever in the nation. \\n\\nOverall I don’t see how someone can support Biden if they aren’t a conservative Dem. I think Hilary proves that centrist Dems aren’t a sure fire way to beat Trump and the policy records of Bill Clinton and Obama prove that it would be at best incremental change at a time when a significant transformation is needed for the nation. Biden is far too centrist for me too support in a primary. Centrist inherently fail in terms of politics because they start from a position of compromise and then get negotiated down from that. Obama ditched the public option because his position to begin with was a 1990\\'s conservative approach. \\n\\nI am not one to act like Biden wouldn\\'t be a tremendous improvement over Trump or any GOP candidate. In a general election I would support him. However in a primary I am going to submarine him as much as possible because incremental change from a neo-liberal just isn\\'t going to cut it. \\n\\nBiden misses the Progressive benchmarks on huge issues. Biden has never been for universal healthcare, he is a war monger, he shows very little in actually tackling the political system. I am not going to say that Biden doesn\\'t have some good ideas like raising the minimum wage and infrastructure. \\n\\nBut nothing about Biden\\'s political history shows you any evidence that he would have a backbone when it comes to pushing for many progressive policies and he outright is against two very critical issues related to not killing people in preemptive wars and continuing a piece meal approach to our fundamentally broken healthcare system. I always heard that but who is the arbiter of what the shareholders interests are? Like wouldn\\'t Ford just argue that cutting the dividend to invest in their employees would benefit the company\\'s stock price in the long run by having better quality products and workforce? They fired Michael and Samir all so Bill Lumburgs stock could go up two points. They fired Samir all so Bill Lumburg\\'s stock could go up two points... The guy who invented supply side economics basically stated that it was a big fat scam. He stated that the 80\\'s economy was primarily driven by the rate hikes by Volker and the huge deficits not the tax cuts. If the Dems run a candidate like Bernie pushing a populist policy platform they will turn out their base. If they run Hillary 2.0 (aka a centrist like Biden or Beto or Booty Judge) then Trump stands a chance to run against a neo-corporate centrist The original White Water Investigation was a political hit job. The Muller Investigation was not. However Clinton did lie under oath during the invistigation which technically was illegal. However the original investigation was bullshit and what he lied about was more in line with a personal matter. \\n\\nTrump and his supporters will simply say that the investigation proved no collusion so he was obstructing an investigation into his innocence so who cares. \\n\\nIt\\'s not the same but its not as far off as you make think. I hate Trump but do you honestly think that 20 GOP Senators are going to turn on him when he has a 90% approval within his own party? Trump has a 90% approval rating within the Republican Party, he is what the Republican party is at its core. You would need 20 GOP Senators to vote for Impeachment and that isn\\'t going to happen. The obstruction of justice count is a real count but much like Bill Clinton\\'s impeachment the public won\\'t care enough to indite someone for obstructing an investigation to a crime that wasn\\'t proven to have happened. \\n\\nSo you while you could Impeach Trump it isn\\'t going to result in him being ousted from office by the Senate and you will simply embolden his base (who loves Trumps victim complex) and possibly annoy the public with an issue that is rather technical in terms of the legal ramifications. \\n\\nThe Dems best bet in my opinion is to not impeach but continue to investigate Trump for emoluments violations and finical crimes. Keep the pressure up on more legitimate fronts and force the issue on 2020. \\n\\nOnce again you aren\\'t ousting a guy whose approval rating is 90% among his own party when you need 20 GOP senators to cross the line. This idea that will happen is not based in any reality. The GOP\\'s base doesn\\'t care about principles or doing the right thing and the GOP pols certainly don\\'t give a fuck. A vast amount of the GOP base cares about only a handful of issues above all else. Abortion (and conservative social issues), lowering taxes, gun rights, immigration, and making sure poor people don\\'t get welfare. \\n\\nFor the most part when polled they agree with the progressive position on things like net neutrality, universal healthcare, marijuana legalization, criminal justice reform, military intervention, and so many other issues. \\n\\nBut time and time again they will vote GOP because they care about outlawing abortion and one or two other issues vastly more than the other 90% of things the GOP fights avidly against their interest and opinions on. \\n\\nIt\\'s insanely frustrating because it gives the GOP the ability to cover their corruption and other unpopular positions by sticking to 2-3 tentpoles that their base ravenously cares about. \\n\\nIt also doesn\\'t help that the opposition party sells out with the GOP 70% of the time or more when it comes to fiscal issues, foreign policy, and anything that isn\\'t a social issue. So when you have a choice between GOP and GOP light you pretty much are just going to go with GOP because at least they will make abortion illegal.\\n\\nHopefully the revolution from within the Democratic party with Bernie, Warren, AOC, the Justice Democrats, Tulsi, Ro, and others gains more momentum and becomes a bit more politically savvy. Because a true opposition party is needed. In that same respect I do hope that the Rand Paul pseudo libertarian perspective gains some traction within the GOP because at least with them you get traction on some issues like foreign policy. People who push for impeachment thinking enough Republicans will cross the line are diluted. Trump has a close to 90% approval rating within the Republican party. The party is fully on board with Trump and there aren\\'t enough senators from the GOP that will impeach him. Policy, Policy, Policy. That\\'s what this race is about. Warren might have some bad aspects to her but her economic populism is a winner. I guess my point was that unlike a lot of Trump\\'s big issues where he will either just make up a problem or highly exaggerate an issue the China issue is a legit issue in various aspects. In fact I think that the only good I see coming from Trump is bring this issue to the forefront whereas big business interests were always brining (excuse me lobbying) pols to just sweep the issue to the side. Not a Trump supporter because he doesn\\'t do anything with any tact nor long term strategy. But China is a currency manipulator, they steal IP from not just the USA but the EU and other nations, and China is also more protectionist when it comes to tariffs and protecting their manufacturing sector.\\n\\nThere are imbalances with China that need to be fixed. Although I hate nuance trolling I think Trump\\'s solution sucks but the problem isn\\'t one he is making up (unlike a lot of other problems he tries to impose solutions for.) Dawson\\'s Creek used to film in Wilmington and as a result of having all that film crew there a lot of advertising companies would fly in there and use those crews working on that show and a handful of others in the area and film stuff there for cheap. That\\'s how NC got on the map but apparently they have been suffering in recent years. Corporations tend to be more progressive/liberal when it comes to social issues. Mainly because the public in general on most social issues tends to be 60% or more in favor of the liberal stance on social issues. Add in the fact that minorities also spend money and you have corporations that will tend to bend more towards getting in good with social causes. \\n\\nHowever when it comes to money they are conservative as fuck. Bernie is still a capitalist. While he brands himself a Democratic Socialist he is not a believer or proponent in a true post capitalist economy. Bernie is more of a believer in social democracy to create a greater balance in our current mixed economy. Trump had an awesome life as a private sector rich guy celebrity. Why he wouldn\\'t have backed out of the election at some point early on during the debates is beyond me. The moment Trump is no longer president he is going to get indicted on finical crimes. All that money laundering and shady bank fraud will be caught now that he is fucking president. I think defense contractors need to be nationalized or at least heavily regulated like utilities. The production of weapons used in war is a private industry. Industry is based off of growth non-stop. Until we stop war from being a business the rest is useless. Impeachment might be the ethical thing to do but much like with Bill Clinton it might be throwing good energy and goodwill out the window to pursue it. Even if you impeached Trump and kick him out of office you still get stuck with Pence who will run on the “Trump Economy” and fake populism/victim complex that Trump did just minus the mean tweets. \\n\\nI think the Dems are better off pushing policy over impeachment and making their case to the American people why they are better than the GOP. You would need a lot of GOP reps to cross party lines for impeachment and I just don’t see that happening. You might get a handful like Romney but even 5-6 won’t cut it in the Senate. \\n\\nI think you risk more than you gain with Impeachment at this point. Pushing Medicare for All, Raising the minimum wage federally, pushing for paternity leave, mandatory 2 week’s vacation time (prorated to hours worked so as to avoid the dumb well people will just hire part timers argument,) and infrastructure spending paid for by repealing the tax bill are all things that the Dems should pursue instead of impeachment. \\n\\nYes I know you can do both. But impeachment will take the focus and energy away from those policy positions. You can’t have a party run on I am not Trump. That’s not going to work. Romney ran on a I am not Obama platform and it failed, Hilary ran on a I am not Trump platform and it failed. The Dems shouldn’t fall into a trap of hating someone so much it ends with a pyric victory.'"
      ]
     },
     "execution_count": 6,
     "metadata": {},
     "output_type": "execute_result"
    }
   ],
   "source": [
    "df.iloc[130,:]['Text']"
   ]
  },
  {
   "cell_type": "code",
   "execution_count": 7,
   "metadata": {},
   "outputs": [
    {
     "data": {
      "text/plain": [
       "'molesting that cut out is probably the closest those boys are going to get to women in long time jim crow was probably invented several generations back as by the time their grandparents were practicing jim crow it was being implemented for generations don really care all that much about how you sound as leader yes it does matter somewhat but care about policy more if trump was implementing bernie sanders policy platform would take that over neo corporate centrist who is good figurehead like obama that being said trump neither has good policy nor is good leader you really do underestimate how much republicans will put party over country the problem is that these waco types were just generally against the government dem or rep but now lot of these people are rallying around trump which is scary because now they have someone and something to die for and kill for under insurance is just as big an issue to another state those plans are high deductible plans that aren cheap and in general not the best quality could you elaborate what you mean by medicare and medicaid don compare well to private insurance in terms of payouts or benefits or what specifically just trying to grasp what you mean would also argue that even people with good private plans are still going to see the benefit of in some respects having the security of you and your children healthcare not tied to job is huge boost and if you own your own business fixed cost like tax is better than negotiating plans every year the benefits are much wider reaching in broad context agree that it isn simple but medicaid offers very similar amount of benefits to its recipients as the proposed bill and we still see that system have advantages over the private system in terms of billing and administration and how much money goes towards care actually agree that some people private plans might give them better deal in terms of access to system due to high prices locking some people out but for the vast majority of people they would see the same or better care for lower costs and they will have to deal with much less uncertainty and general insecurity not to mention the economic freedom my argument is that healthcare insurance is something the government does on two level and it isn nearly as much of ground up effort as it seems the fact that medical bill with insurance for hospital stay is considered getting off good shows how fucked the system is for one typically if you compare the cost of similar treatment in switzerland the second most expensive system the cost would be dramatically less than then if you compare to what that treatment costs in canada it would be fraction of that sadly because american have to pay for combination of massive billing bureaucracy due to how many private plans exist how many companies negotiate their networks and the insane way hospitals and providers have to bill profits and dividends higher prescription drug costs due to lack of negotiation from the government and the populations lack of preventative care we get an inflated cost of healthcare could be wrong but have heard stories of families with good insurance meeting caps and other out of network costs not being covered even after the aca do find it to be horrifying that if you have an emergency on vacation you likely won be covered the point was making wasn that medicare and are the same system but rather that the government has an infrastructure in place and decades of experience administering healthcare it isn complete unknown as to how complete expansion of that system would work or how turning over the private system folding it into government one would work most unions are for it not that the question is tough question but rather the way the question is framed comes from right wing perspective and leaves no room for nuance for one it does exist in this nation as the government does administer large scale insurance to tens of millions if not over million residents at lower administrative cost with larger percentage of their money spent on care by wide margin secondly various models of single payer systems exist throughout the industrialized world and are much much much more popular than the highly unpopular private system all the evidence on large scale points to medicare for all being better than any version of system where for profit middle man exists people like their doctors not united healthcare huge hurdle would be to eliminate this idea that your insurance is your doctor that the biggest misnomer that the system would be huge unknown the government already insures the poor and elderly to the tune of tens of millions of people in fact they do so at lower administrative cost they only use one set of codes the administrative costs of medicare and medicaid are roughly around compared to for the private sector and the only reason it is and not more is because the aca made it so the hospitals and providers already exist it is matter of how do we finance such system even bernie bill would have year phase in that is sensibly done think we are at point where the private system has been so fucked for so long and no viable solution exists because as it turns out you can justify dozens of for profit middlemen causing an administrative nightmare and higher costs that think people are just vastly willing to turn to the government and do system that works better in other nations talk to anyone from europe or japan korea canada australia any other developed nation and they will tell you that the american system is joke how can you go bankrupt from being sick and that while their systems might have some issues they wouldn trade it in for private system the fact that the healthcare systems of other nations are not rushing to privatized system and the conservatives never want to touch the system other than just underfunding it shows you that the us system is just beyond awful at this point the insane thing is that even some people with good health insurance meet their maximum coverage cap something most people are unaware of and have their finances thrown into chaos because of the fact that their illness is insanely expensive it is very frustrating to speak to conservatives who are against universal healthcare when they don understand that it isn just people they deem irresponsible bums who suffer under this system even if you have good insurance but you get hurt while traveling out of state you can get hit with big costs who can justify such system when proven alternative that is much better for literally everyone exists let also not ignore the economic benefit of not having your healthcare tied to your job how many people can go into business for themselves because they can afford to not be on insurance to be fair to cnn and cable news they do those townhall things going one on one with candidates however completely agree that people on debate stage isn productive and is mostly political theater considering how long this election cycle is why not just have debates on pbs for week stretch have week of debating healthcare with candidates at time over hours then week later have debate about climate change what the point of having nearly year election cycle only to crunch the debates mayor pete is fake obama centrist no substance you do realize that bernie and warren agenda would be similar to conservative in europe right angela merkel is conservative but would be branded radical in the us considering the advantages hillary had in think bernie relatively successful insurgency was sign of where the enthusiasm for the party is it possible but trump led or was nd in polls wire to wire from the beginning williamson is at what buttigieg is fake obama light on policy bullock is the same but without the platitudes and cliches the dems need to give people something to vote for and not just be hey we are not trump corporate incrementalism isn an agenda that will get out the vote bernie is true populist with an agenda that is the most truly liberal since fdr bernie is the way to go the base by definition is much more liberal and bernie is much more familiar to black voters after than he was in the previous primary think his chances to unseat black support this time around is better that the one issue that might not poll well but the rest of bernies agenda is extremely popular among the dem base and independents once again the party already went with safe moderate against trump and it failed once the public knows more about how conservative biden is that support will dwindle because centrist worked so well in used to like stossel when he was on and was years old but he acts like finding healthcare as public access utility in similar fashion to police and firefighting is radical giveaway of free goodies the difference is bernie who is real candidate whereas the gop field was filled with awful odious candidates there is an economic engine that these coaches are part of for sure however their should be some measure of cost control put into effect give coaches base salary that is capped and then base their pay on percentage of the revenue directly tied to the program ironically the day trump is no longer in office is the day he gets arrested for fiscal fraud what innovation from the private sector states set minimum wages higher than the federal level typically the federal wage is designed for low cost areas that why think is too high for federal minimum but the federal minimum should still be raised to well above an hour and then states can raise it beyond that for higher cost of living areas robots do jobs way cheaper than an hour although do think inflation arguments can be made it is fallacy to say increases in the minimum wage would increase automation companies are looking to automate as many jobs as possible regardless if they save dollars an hour or personally think dollars federally is way too high because some areas of the country are low cost of living and that would have damaging impact however if the minimum wage kept up with inflation since it would be about dollars an hour and think that gradual increase over years to something in the range of to federally would work let states and cities where the cost of living is high jack it up beyond to an hour but federally it is just way too low the wealthy mostly take their money and invest it in assets and the stock market so yes you are right that the money isn out of the economy but it is just going into assets which inflated the prices of assets which benefits small amount of people whereas if you put money in the hands of consumers they spend the vast majority of it and they spend it on things that are more demand consumer driven rich family can go out to dinner times day they might take some additional money and spend it on some consumer products but most likely it will be spent on assets but give working poor families money and they are going out to eat or simply spending it on things that they need or were putting off that money circulates much more quickly throughout the demand consumer economy in way that drives actual business growth more demand means more growth which means need to increase business right now our economy is servicing to pump up the stock market at the expense of the worker wage growth would drive inflation if demand was high more money spent on assets that already have high demand would just drive up prices but demand is very low because wages haven increased relative to inflation much if at all by some measures so pumping up demand would at best have tepid impact on inflation modest increase in inflation would be welcomed sight for an economy that has been stagnant it race to the bottom because if you aren looking to pay your workers less someone else will and they will sell the product cheaper and take your market share it gets worse when you can outsource jobs and you can ship jobs away from the economy however demand drives the economy and there is only so much hitting demand that can happen before things break sadly we have an entire political party whose philosophy is that rich people don have enough money agreed but their most successful was the tea party which tapped into freak out over obama yes it was astroturfed but it also did tap into real sentiment of anger over obama they care about their wallets more so than anything else sadly the tea party was pretty nuts and they weren some fringe faction look up the things they said about obama and you sadly realize this wasn something trump invented it was more so something he tapped into trump approval rating within the republican party was at one point and consistently in the upper he still is polling at approval rating hate to say it because have friends who are republicans although would say they are much more just about taxes and guns but this really is who the republicans are they either know he is racist and love it or they know he is racist and tolerate it because of trump policies that are the most baseline conservative policies that it there are no other options bernie going full fdr love it billionaires existing is not bad or ethical if you make discover or improve the market in meaningful and ethical way and you make billion dollars doing it and you pay billion back in taxes don see why someone having billion dollars for their troubles is unethical it becomes big issue when they don pay reasonable tax rate and they have undue political influence through legalized bribery fuck the russia stuff how does this not result in him being ousted from office immediately that very fair point although in some areas where the schools are shitty the property taxes are lower for example in nyc which has lot of bad public schools the property taxes are lower percentage wise than in nj where lot of schools have at least decent to good schools my best friend from college lived in brooklyn and we compared his parents private school tuition and property taxes to my parents property taxes and it was almost even however am not sure this is the case for all of the usa people sending their kids to private schools act like they don still benefit from their community having good school that can educate the children and teens living around them the us spends about per student via local state and national funding which is among the highest in the world is the issue money or how the money is spent am honestly asking since don know what the issues in education at public level are who seriously watches fox news other than conservatives looking to inform their own bias that not to say cnn and other networks aren as equally hypocritical but rather that fox is just way more blatant really over bernie who is the real deal fighting for working people since the christian sharia the problem with having hard time blaming the establishment for not achieving everything they say is that it assumes the establishment dems act in good faith and that it is the republicans that stop this agenda granted sometime it is the gop that does block their agenda but often times some of the worst things that the government does is bipartisan the billion yearly increase to the military budget the cheerleading of the drone strikes under trump and obama massive deregulation of business and the continuing blocking of progressive economic agenda have been bipartisan efforts biden policy platform might be in line with progressive values but biden willingness to start from compromise and view the gop as good faith actors which they clearly are not is horrid political strategy can support centrist dem in the primary for these reasons also like the fact that bernie unlike obama is selling this as long term political project as opposed to obama who sold it as let me in and will take care of this think that strategy of not holding up the presidency as the be all end all is what really makes me pull for bernie toss in the fact that bernie isn just running on hey am not trump platform he is running to meaningfully try and shift the nation towards social democracy and not making any easy promises the problem is that the centrist dems never pursue the policy agenda they claim to support they also come up with some bs line about the red dog dems or not getting enough support biden in the primary hate because can support any candidate who doesn support universal healthcare in the primary and because biden is war hawk don like purity tests but foreign policy and healthcare are my two standards personally so yes biden might support of bernie platform but he isn likely to actually get much of that platform implemented because inherently he is selling himself as center left and emphasis on the center bernie my preferred candidate has been staying fairly consistent line for years you know that he will pursue progressive policy agenda full stop yes he might not get all of it implemented but if you push from what you want you get better results as opposed to pretending to be some moderate and starting by conceding also think that this being the primary is the point in time where you have to be picky yes in general election would be for biden but now is the time to really let the process play out hilary ran an arrogant campaign and despite her electoral failure she still won the popular vote by wide margin that outright stopped campaigning in most swing states and was pro establishment candidate running in one of the most anti establishment times ever in the nation overall don see how someone can support biden if they aren conservative dem think hilary proves that centrist dems aren sure fire way to beat trump and the policy records of bill clinton and obama prove that it would be at best incremental change at time when significant transformation is needed for the nation biden is far too centrist for me too support in primary centrist inherently fail in terms of politics because they start from position of compromise and then get negotiated down from that obama ditched the public option because his position to begin with was conservative approach am not one to act like biden wouldn be tremendous improvement over trump or any gop candidate in general election would support him however in primary am going to submarine him as much as possible because incremental change from neo liberal just isn going to cut it biden misses the progressive benchmarks on huge issues biden has never been for universal healthcare he is war monger he shows very little in actually tackling the political system am not going to say that biden doesn have some good ideas like raising the minimum wage and infrastructure but nothing about biden political history shows you any evidence that he would have backbone when it comes to pushing for many progressive policies and he outright is against two very critical issues related to not killing people in preemptive wars and continuing piece meal approach to our fundamentally broken healthcare system always heard that but who is the arbiter of what the shareholders interests are like wouldn ford just argue that cutting the dividend to invest in their employees would benefit the company stock price in the long run by having better quality products and workforce they fired michael and samir all so bill lumburgs stock could go up two points they fired samir all so bill lumburg stock could go up two points the guy who invented supply side economics basically stated that it was big fat scam he stated that the economy was primarily driven by the rate hikes by volker and the huge deficits not the tax cuts if the dems run candidate like bernie pushing populist policy platform they will turn out their base if they run hillary aka centrist like biden or beto or booty judge then trump stands chance to run against neo corporate centrist the original white water investigation was political hit job the muller investigation was not however clinton did lie under oath during the invistigation which technically was illegal however the original investigation was bullshit and what he lied about was more in line with personal matter trump and his supporters will simply say that the investigation proved no collusion so he was obstructing an investigation into his innocence so who cares it not the same but its not as far off as you make think hate trump but do you honestly think that gop senators are going to turn on him when he has approval within his own party trump has approval rating within the republican party he is what the republican party is at its core you would need gop senators to vote for impeachment and that isn going to happen the obstruction of justice count is real count but much like bill clinton impeachment the public won care enough to indite someone for obstructing an investigation to crime that wasn proven to have happened so you while you could impeach trump it isn going to result in him being ousted from office by the senate and you will simply embolden his base who loves trumps victim complex and possibly annoy the public with an issue that is rather technical in terms of the legal ramifications the dems best bet in my opinion is to not impeach but continue to investigate trump for emoluments violations and finical crimes keep the pressure up on more legitimate fronts and force the issue on once again you aren ousting guy whose approval rating is among his own party when you need gop senators to cross the line this idea that will happen is not based in any reality the gop base doesn care about principles or doing the right thing and the gop pols certainly don give fuck vast amount of the gop base cares about only handful of issues above all else abortion and conservative social issues lowering taxes gun rights immigration and making sure poor people don get welfare for the most part when polled they agree with the progressive position on things like net neutrality universal healthcare marijuana legalization criminal justice reform military intervention and so many other issues but time and time again they will vote gop because they care about outlawing abortion and one or two other issues vastly more than the other of things the gop fights avidly against their interest and opinions on it insanely frustrating because it gives the gop the ability to cover their corruption and other unpopular positions by sticking to tentpoles that their base ravenously cares about it also doesn help that the opposition party sells out with the gop of the time or more when it comes to fiscal issues foreign policy and anything that isn social issue so when you have choice between gop and gop light you pretty much are just going to go with gop because at least they will make abortion illegal hopefully the revolution from within the democratic party with bernie warren aoc the justice democrats tulsi ro and others gains more momentum and becomes bit more politically savvy because true opposition party is needed in that same respect do hope that the rand paul pseudo libertarian perspective gains some traction within the gop because at least with them you get traction on some issues like foreign policy people who push for impeachment thinking enough republicans will cross the line are diluted trump has close to approval rating within the republican party the party is fully on board with trump and there aren enough senators from the gop that will impeach him policy policy policy that what this race is about warren might have some bad aspects to her but her economic populism is winner guess my point was that unlike lot of trump big issues where he will either just make up problem or highly exaggerate an issue the china issue is legit issue in various aspects in fact think that the only good see coming from trump is bring this issue to the forefront whereas big business interests were always brining excuse me lobbying pols to just sweep the issue to the side not trump supporter because he doesn do anything with any tact nor long term strategy but china is currency manipulator they steal ip from not just the usa but the eu and other nations and china is also more protectionist when it comes to tariffs and protecting their manufacturing sector there are imbalances with china that need to be fixed although hate nuance trolling think trump solution sucks but the problem isn one he is making up unlike lot of other problems he tries to impose solutions for dawson creek used to film in wilmington and as result of having all that film crew there lot of advertising companies would fly in there and use those crews working on that show and handful of others in the area and film stuff there for cheap that how nc got on the map but apparently they have been suffering in recent years corporations tend to be more progressive liberal when it comes to social issues mainly because the public in general on most social issues tends to be or more in favor of the liberal stance on social issues add in the fact that minorities also spend money and you have corporations that will tend to bend more towards getting in good with social causes however when it comes to money they are conservative as fuck bernie is still capitalist while he brands himself democratic socialist he is not believer or proponent in true post capitalist economy bernie is more of believer in social democracy to create greater balance in our current mixed economy trump had an awesome life as private sector rich guy celebrity why he wouldn have backed out of the election at some point early on during the debates is beyond me the moment trump is no longer president he is going to get indicted on finical crimes all that money laundering and shady bank fraud will be caught now that he is fucking president think defense contractors need to be nationalized or at least heavily regulated like utilities the production of weapons used in war is private industry industry is based off of growth non stop until we stop war from being business the rest is useless impeachment might be the ethical thing to do but much like with bill clinton it might be throwing good energy and goodwill out the window to pursue it even if you impeached trump and kick him out of office you still get stuck with pence who will run on the trump economy and fake populism victim complex that trump did just minus the mean tweets think the dems are better off pushing policy over impeachment and making their case to the american people why they are better than the gop you would need lot of gop reps to cross party lines for impeachment and just don see that happening you might get handful like romney but even won cut it in the senate think you risk more than you gain with impeachment at this point pushing medicare for all raising the minimum wage federally pushing for paternity leave mandatory week vacation time prorated to hours worked so as to avoid the dumb well people will just hire part timers argument and infrastructure spending paid for by repealing the tax bill are all things that the dems should pursue instead of impeachment yes know you can do both but impeachment will take the focus and energy away from those policy positions you can have party run on am not trump that not going to work romney ran on am not obama platform and it failed hilary ran on am not trump platform and it failed the dems shouldn fall into trap of hating someone so much it ends with pyric victory'"
      ]
     },
     "execution_count": 7,
     "metadata": {},
     "output_type": "execute_result"
    }
   ],
   "source": [
    "processText(df.iloc[130,:]['Text'])"
   ]
  },
  {
   "cell_type": "code",
   "execution_count": 8,
   "metadata": {},
   "outputs": [],
   "source": [
    "df['Clean'] = df['Text'].apply(processText)"
   ]
  },
  {
   "cell_type": "code",
   "execution_count": 9,
   "metadata": {},
   "outputs": [
    {
     "data": {
      "text/html": [
       "<div>\n",
       "<style scoped>\n",
       "    .dataframe tbody tr th:only-of-type {\n",
       "        vertical-align: middle;\n",
       "    }\n",
       "\n",
       "    .dataframe tbody tr th {\n",
       "        vertical-align: top;\n",
       "    }\n",
       "\n",
       "    .dataframe thead th {\n",
       "        text-align: right;\n",
       "    }\n",
       "</style>\n",
       "<table border=\"1\" class=\"dataframe\">\n",
       "  <thead>\n",
       "    <tr style=\"text-align: right;\">\n",
       "      <th></th>\n",
       "      <th>User</th>\n",
       "      <th>Text</th>\n",
       "      <th>Clean</th>\n",
       "    </tr>\n",
       "  </thead>\n",
       "  <tbody>\n",
       "    <tr>\n",
       "      <th>0</th>\n",
       "      <td>PDXorax</td>\n",
       "      <td>The Lump of Labor doesn't apply in this case,...</td>\n",
       "      <td>the lump of labor doesn apply in this case we ...</td>\n",
       "    </tr>\n",
       "    <tr>\n",
       "      <th>1</th>\n",
       "      <td>PrincePizza1</td>\n",
       "      <td>I think things \"getting better\" to people lik...</td>\n",
       "      <td>think things getting better to people like thi...</td>\n",
       "    </tr>\n",
       "    <tr>\n",
       "      <th>2</th>\n",
       "      <td>Marmar79</td>\n",
       "      <td>Thank you. This made my day He so edgy.\\n\\nEd...</td>\n",
       "      <td>thank you this made my day he so edgy edit don...</td>\n",
       "    </tr>\n",
       "    <tr>\n",
       "      <th>3</th>\n",
       "      <td>IRISHE3</td>\n",
       "      <td>I just wish politicians would put the money s...</td>\n",
       "      <td>just wish politicians would put the money shit...</td>\n",
       "    </tr>\n",
       "    <tr>\n",
       "      <th>4</th>\n",
       "      <td>RonZiggy</td>\n",
       "      <td>Climate change as well. Wow...just wow What i...</td>\n",
       "      <td>climate change as well wow just wow what is th...</td>\n",
       "    </tr>\n",
       "  </tbody>\n",
       "</table>\n",
       "</div>"
      ],
      "text/plain": [
       "           User                                               Text  \\\n",
       "0       PDXorax   The Lump of Labor doesn't apply in this case,...   \n",
       "1  PrincePizza1   I think things \"getting better\" to people lik...   \n",
       "2      Marmar79   Thank you. This made my day He so edgy.\\n\\nEd...   \n",
       "3       IRISHE3   I just wish politicians would put the money s...   \n",
       "4      RonZiggy   Climate change as well. Wow...just wow What i...   \n",
       "\n",
       "                                               Clean  \n",
       "0  the lump of labor doesn apply in this case we ...  \n",
       "1  think things getting better to people like thi...  \n",
       "2  thank you this made my day he so edgy edit don...  \n",
       "3  just wish politicians would put the money shit...  \n",
       "4  climate change as well wow just wow what is th...  "
      ]
     },
     "execution_count": 9,
     "metadata": {},
     "output_type": "execute_result"
    }
   ],
   "source": [
    "df.head()"
   ]
  },
  {
   "cell_type": "code",
   "execution_count": 10,
   "metadata": {},
   "outputs": [],
   "source": [
    "df.to_csv('fin_cleaned_nlp.csv')"
   ]
  }
 ],
 "metadata": {
  "kernelspec": {
   "display_name": "Python 3",
   "language": "python",
   "name": "python3"
  },
  "language_info": {
   "codemirror_mode": {
    "name": "ipython",
    "version": 3
   },
   "file_extension": ".py",
   "mimetype": "text/x-python",
   "name": "python",
   "nbconvert_exporter": "python",
   "pygments_lexer": "ipython3",
   "version": "3.7.3"
  }
 },
 "nbformat": 4,
 "nbformat_minor": 2
}
