{
 "cells": [
  {
   "cell_type": "markdown",
   "metadata": {},
   "source": [
    "Imports"
   ]
  },
  {
   "cell_type": "code",
   "execution_count": 1,
   "metadata": {},
   "outputs": [],
   "source": [
    "import pandas as pd"
   ]
  },
  {
   "cell_type": "markdown",
   "metadata": {},
   "source": [
    "Load in Dataframes"
   ]
  },
  {
   "cell_type": "code",
   "execution_count": 2,
   "metadata": {},
   "outputs": [],
   "source": [
    "df = pd.read_csv('combined_scrape_2.csv')"
   ]
  },
  {
   "cell_type": "code",
   "execution_count": 3,
   "metadata": {},
   "outputs": [
    {
     "data": {
      "text/html": [
       "<div>\n",
       "<style scoped>\n",
       "    .dataframe tbody tr th:only-of-type {\n",
       "        vertical-align: middle;\n",
       "    }\n",
       "\n",
       "    .dataframe tbody tr th {\n",
       "        vertical-align: top;\n",
       "    }\n",
       "\n",
       "    .dataframe thead th {\n",
       "        text-align: right;\n",
       "    }\n",
       "</style>\n",
       "<table border=\"1\" class=\"dataframe\">\n",
       "  <thead>\n",
       "    <tr style=\"text-align: right;\">\n",
       "      <th></th>\n",
       "      <th>Comment Text</th>\n",
       "      <th>Author</th>\n",
       "      <th>Subreddit</th>\n",
       "      <th>Post ID</th>\n",
       "    </tr>\n",
       "  </thead>\n",
       "  <tbody>\n",
       "    <tr>\n",
       "      <th>0</th>\n",
       "      <td>Just curious, but what triggered your feelings...</td>\n",
       "      <td>PDXorax</td>\n",
       "      <td>YangForPresidentHQ</td>\n",
       "      <td>ew5ohva</td>\n",
       "    </tr>\n",
       "    <tr>\n",
       "      <th>1</th>\n",
       "      <td>Christmas time put up a light-up Yang sign!</td>\n",
       "      <td>PDXorax</td>\n",
       "      <td>YangForPresidentHQ</td>\n",
       "      <td>ew5o8vv</td>\n",
       "    </tr>\n",
       "    <tr>\n",
       "      <th>2</th>\n",
       "      <td>During the general election, get in contact wi...</td>\n",
       "      <td>PDXorax</td>\n",
       "      <td>YangForPresidentHQ</td>\n",
       "      <td>ew42bdx</td>\n",
       "    </tr>\n",
       "    <tr>\n",
       "      <th>3</th>\n",
       "      <td>We need to understand as a country, that the m...</td>\n",
       "      <td>PDXorax</td>\n",
       "      <td>YangForPresidentHQ</td>\n",
       "      <td>evva7l8</td>\n",
       "    </tr>\n",
       "    <tr>\n",
       "      <th>4</th>\n",
       "      <td>Part of the reason for this, is because we nee...</td>\n",
       "      <td>PDXorax</td>\n",
       "      <td>YangForPresidentHQ</td>\n",
       "      <td>evoo179</td>\n",
       "    </tr>\n",
       "  </tbody>\n",
       "</table>\n",
       "</div>"
      ],
      "text/plain": [
       "                                        Comment Text   Author  \\\n",
       "0  Just curious, but what triggered your feelings...  PDXorax   \n",
       "1        Christmas time put up a light-up Yang sign!  PDXorax   \n",
       "2  During the general election, get in contact wi...  PDXorax   \n",
       "3  We need to understand as a country, that the m...  PDXorax   \n",
       "4  Part of the reason for this, is because we nee...  PDXorax   \n",
       "\n",
       "            Subreddit  Post ID  \n",
       "0  YangForPresidentHQ  ew5ohva  \n",
       "1  YangForPresidentHQ  ew5o8vv  \n",
       "2  YangForPresidentHQ  ew42bdx  \n",
       "3  YangForPresidentHQ  evva7l8  \n",
       "4  YangForPresidentHQ  evoo179  "
      ]
     },
     "execution_count": 3,
     "metadata": {},
     "output_type": "execute_result"
    }
   ],
   "source": [
    "df.head()"
   ]
  },
  {
   "cell_type": "code",
   "execution_count": 4,
   "metadata": {},
   "outputs": [],
   "source": [
    "df_target_train = pd.read_csv('fin_users_train.csv')"
   ]
  },
  {
   "cell_type": "code",
   "execution_count": 5,
   "metadata": {},
   "outputs": [
    {
     "data": {
      "text/html": [
       "<div>\n",
       "<style scoped>\n",
       "    .dataframe tbody tr th:only-of-type {\n",
       "        vertical-align: middle;\n",
       "    }\n",
       "\n",
       "    .dataframe tbody tr th {\n",
       "        vertical-align: top;\n",
       "    }\n",
       "\n",
       "    .dataframe thead th {\n",
       "        text-align: right;\n",
       "    }\n",
       "</style>\n",
       "<table border=\"1\" class=\"dataframe\">\n",
       "  <thead>\n",
       "    <tr style=\"text-align: right;\">\n",
       "      <th></th>\n",
       "      <th>Unnamed: 0</th>\n",
       "      <th>target</th>\n",
       "    </tr>\n",
       "  </thead>\n",
       "  <tbody>\n",
       "    <tr>\n",
       "      <th>0</th>\n",
       "      <td>FjolnirFimbulvetr</td>\n",
       "      <td>0</td>\n",
       "    </tr>\n",
       "    <tr>\n",
       "      <th>1</th>\n",
       "      <td>Kazehaya</td>\n",
       "      <td>0</td>\n",
       "    </tr>\n",
       "    <tr>\n",
       "      <th>2</th>\n",
       "      <td>ClawedGiroux</td>\n",
       "      <td>0</td>\n",
       "    </tr>\n",
       "    <tr>\n",
       "      <th>3</th>\n",
       "      <td>MrKixs</td>\n",
       "      <td>0</td>\n",
       "    </tr>\n",
       "    <tr>\n",
       "      <th>4</th>\n",
       "      <td>icancubutucantcme</td>\n",
       "      <td>0</td>\n",
       "    </tr>\n",
       "  </tbody>\n",
       "</table>\n",
       "</div>"
      ],
      "text/plain": [
       "          Unnamed: 0  target\n",
       "0  FjolnirFimbulvetr       0\n",
       "1           Kazehaya       0\n",
       "2       ClawedGiroux       0\n",
       "3             MrKixs       0\n",
       "4  icancubutucantcme       0"
      ]
     },
     "execution_count": 5,
     "metadata": {},
     "output_type": "execute_result"
    }
   ],
   "source": [
    "df_target_train.head()"
   ]
  },
  {
   "cell_type": "markdown",
   "metadata": {},
   "source": [
    "Remove non-train data"
   ]
  },
  {
   "cell_type": "code",
   "execution_count": 6,
   "metadata": {},
   "outputs": [],
   "source": [
    "users = list(df_target_train['Unnamed: 0'])"
   ]
  },
  {
   "cell_type": "code",
   "execution_count": 7,
   "metadata": {},
   "outputs": [],
   "source": [
    "#Simple function to check if comment author is in my list of training users\n",
    "def clean_df(row):\n",
    "    if row['Author'] in users:\n",
    "        return '1'\n",
    "    else:\n",
    "        return '0'\n"
   ]
  },
  {
   "cell_type": "code",
   "execution_count": 8,
   "metadata": {},
   "outputs": [],
   "source": [
    "df['keep'] = df.apply(clean_df,axis=1)"
   ]
  },
  {
   "cell_type": "code",
   "execution_count": 9,
   "metadata": {},
   "outputs": [
    {
     "data": {
      "text/html": [
       "<div>\n",
       "<style scoped>\n",
       "    .dataframe tbody tr th:only-of-type {\n",
       "        vertical-align: middle;\n",
       "    }\n",
       "\n",
       "    .dataframe tbody tr th {\n",
       "        vertical-align: top;\n",
       "    }\n",
       "\n",
       "    .dataframe thead th {\n",
       "        text-align: right;\n",
       "    }\n",
       "</style>\n",
       "<table border=\"1\" class=\"dataframe\">\n",
       "  <thead>\n",
       "    <tr style=\"text-align: right;\">\n",
       "      <th></th>\n",
       "      <th>Comment Text</th>\n",
       "      <th>Author</th>\n",
       "      <th>Subreddit</th>\n",
       "      <th>Post ID</th>\n",
       "      <th>keep</th>\n",
       "    </tr>\n",
       "  </thead>\n",
       "  <tbody>\n",
       "    <tr>\n",
       "      <th>0</th>\n",
       "      <td>Just curious, but what triggered your feelings...</td>\n",
       "      <td>PDXorax</td>\n",
       "      <td>YangForPresidentHQ</td>\n",
       "      <td>ew5ohva</td>\n",
       "      <td>1</td>\n",
       "    </tr>\n",
       "    <tr>\n",
       "      <th>1</th>\n",
       "      <td>Christmas time put up a light-up Yang sign!</td>\n",
       "      <td>PDXorax</td>\n",
       "      <td>YangForPresidentHQ</td>\n",
       "      <td>ew5o8vv</td>\n",
       "      <td>1</td>\n",
       "    </tr>\n",
       "    <tr>\n",
       "      <th>2</th>\n",
       "      <td>During the general election, get in contact wi...</td>\n",
       "      <td>PDXorax</td>\n",
       "      <td>YangForPresidentHQ</td>\n",
       "      <td>ew42bdx</td>\n",
       "      <td>1</td>\n",
       "    </tr>\n",
       "    <tr>\n",
       "      <th>3</th>\n",
       "      <td>We need to understand as a country, that the m...</td>\n",
       "      <td>PDXorax</td>\n",
       "      <td>YangForPresidentHQ</td>\n",
       "      <td>evva7l8</td>\n",
       "      <td>1</td>\n",
       "    </tr>\n",
       "    <tr>\n",
       "      <th>4</th>\n",
       "      <td>Part of the reason for this, is because we nee...</td>\n",
       "      <td>PDXorax</td>\n",
       "      <td>YangForPresidentHQ</td>\n",
       "      <td>evoo179</td>\n",
       "      <td>1</td>\n",
       "    </tr>\n",
       "  </tbody>\n",
       "</table>\n",
       "</div>"
      ],
      "text/plain": [
       "                                        Comment Text   Author  \\\n",
       "0  Just curious, but what triggered your feelings...  PDXorax   \n",
       "1        Christmas time put up a light-up Yang sign!  PDXorax   \n",
       "2  During the general election, get in contact wi...  PDXorax   \n",
       "3  We need to understand as a country, that the m...  PDXorax   \n",
       "4  Part of the reason for this, is because we nee...  PDXorax   \n",
       "\n",
       "            Subreddit  Post ID keep  \n",
       "0  YangForPresidentHQ  ew5ohva    1  \n",
       "1  YangForPresidentHQ  ew5o8vv    1  \n",
       "2  YangForPresidentHQ  ew42bdx    1  \n",
       "3  YangForPresidentHQ  evva7l8    1  \n",
       "4  YangForPresidentHQ  evoo179    1  "
      ]
     },
     "execution_count": 9,
     "metadata": {},
     "output_type": "execute_result"
    }
   ],
   "source": [
    "df.head()"
   ]
  },
  {
   "cell_type": "code",
   "execution_count": 10,
   "metadata": {},
   "outputs": [],
   "source": [
    "df = df[df['keep']=='1']"
   ]
  },
  {
   "cell_type": "code",
   "execution_count": 11,
   "metadata": {},
   "outputs": [
    {
     "data": {
      "text/plain": [
       "(1751326, 5)"
      ]
     },
     "execution_count": 11,
     "metadata": {},
     "output_type": "execute_result"
    }
   ],
   "source": [
    "df.shape"
   ]
  },
  {
   "cell_type": "code",
   "execution_count": 12,
   "metadata": {},
   "outputs": [
    {
     "data": {
      "text/html": [
       "<div>\n",
       "<style scoped>\n",
       "    .dataframe tbody tr th:only-of-type {\n",
       "        vertical-align: middle;\n",
       "    }\n",
       "\n",
       "    .dataframe tbody tr th {\n",
       "        vertical-align: top;\n",
       "    }\n",
       "\n",
       "    .dataframe thead th {\n",
       "        text-align: right;\n",
       "    }\n",
       "</style>\n",
       "<table border=\"1\" class=\"dataframe\">\n",
       "  <thead>\n",
       "    <tr style=\"text-align: right;\">\n",
       "      <th></th>\n",
       "      <th>Comment Text</th>\n",
       "      <th>Author</th>\n",
       "      <th>Subreddit</th>\n",
       "      <th>Post ID</th>\n",
       "      <th>keep</th>\n",
       "    </tr>\n",
       "  </thead>\n",
       "  <tbody>\n",
       "    <tr>\n",
       "      <th>0</th>\n",
       "      <td>Just curious, but what triggered your feelings...</td>\n",
       "      <td>PDXorax</td>\n",
       "      <td>YangForPresidentHQ</td>\n",
       "      <td>ew5ohva</td>\n",
       "      <td>1</td>\n",
       "    </tr>\n",
       "    <tr>\n",
       "      <th>1</th>\n",
       "      <td>Christmas time put up a light-up Yang sign!</td>\n",
       "      <td>PDXorax</td>\n",
       "      <td>YangForPresidentHQ</td>\n",
       "      <td>ew5o8vv</td>\n",
       "      <td>1</td>\n",
       "    </tr>\n",
       "    <tr>\n",
       "      <th>2</th>\n",
       "      <td>During the general election, get in contact wi...</td>\n",
       "      <td>PDXorax</td>\n",
       "      <td>YangForPresidentHQ</td>\n",
       "      <td>ew42bdx</td>\n",
       "      <td>1</td>\n",
       "    </tr>\n",
       "    <tr>\n",
       "      <th>3</th>\n",
       "      <td>We need to understand as a country, that the m...</td>\n",
       "      <td>PDXorax</td>\n",
       "      <td>YangForPresidentHQ</td>\n",
       "      <td>evva7l8</td>\n",
       "      <td>1</td>\n",
       "    </tr>\n",
       "    <tr>\n",
       "      <th>4</th>\n",
       "      <td>Part of the reason for this, is because we nee...</td>\n",
       "      <td>PDXorax</td>\n",
       "      <td>YangForPresidentHQ</td>\n",
       "      <td>evoo179</td>\n",
       "      <td>1</td>\n",
       "    </tr>\n",
       "  </tbody>\n",
       "</table>\n",
       "</div>"
      ],
      "text/plain": [
       "                                        Comment Text   Author  \\\n",
       "0  Just curious, but what triggered your feelings...  PDXorax   \n",
       "1        Christmas time put up a light-up Yang sign!  PDXorax   \n",
       "2  During the general election, get in contact wi...  PDXorax   \n",
       "3  We need to understand as a country, that the m...  PDXorax   \n",
       "4  Part of the reason for this, is because we nee...  PDXorax   \n",
       "\n",
       "            Subreddit  Post ID keep  \n",
       "0  YangForPresidentHQ  ew5ohva    1  \n",
       "1  YangForPresidentHQ  ew5o8vv    1  \n",
       "2  YangForPresidentHQ  ew42bdx    1  \n",
       "3  YangForPresidentHQ  evva7l8    1  \n",
       "4  YangForPresidentHQ  evoo179    1  "
      ]
     },
     "execution_count": 12,
     "metadata": {},
     "output_type": "execute_result"
    }
   ],
   "source": [
    "df.head()"
   ]
  },
  {
   "cell_type": "markdown",
   "metadata": {},
   "source": [
    "Identify most common subreddits and export results"
   ]
  },
  {
   "cell_type": "code",
   "execution_count": 13,
   "metadata": {},
   "outputs": [],
   "source": [
    "subs_df = pd.DataFrame(df.Subreddit.value_counts())"
   ]
  },
  {
   "cell_type": "code",
   "execution_count": 14,
   "metadata": {},
   "outputs": [
    {
     "data": {
      "text/html": [
       "<div>\n",
       "<style scoped>\n",
       "    .dataframe tbody tr th:only-of-type {\n",
       "        vertical-align: middle;\n",
       "    }\n",
       "\n",
       "    .dataframe tbody tr th {\n",
       "        vertical-align: top;\n",
       "    }\n",
       "\n",
       "    .dataframe thead th {\n",
       "        text-align: right;\n",
       "    }\n",
       "</style>\n",
       "<table border=\"1\" class=\"dataframe\">\n",
       "  <thead>\n",
       "    <tr style=\"text-align: right;\">\n",
       "      <th></th>\n",
       "      <th>Subreddit</th>\n",
       "    </tr>\n",
       "  </thead>\n",
       "  <tbody>\n",
       "    <tr>\n",
       "      <th>politics</th>\n",
       "      <td>169175</td>\n",
       "    </tr>\n",
       "    <tr>\n",
       "      <th>YangForPresidentHQ</th>\n",
       "      <td>77253</td>\n",
       "    </tr>\n",
       "    <tr>\n",
       "      <th>SandersForPresident</th>\n",
       "      <td>69950</td>\n",
       "    </tr>\n",
       "    <tr>\n",
       "      <th>AskReddit</th>\n",
       "      <td>53829</td>\n",
       "    </tr>\n",
       "    <tr>\n",
       "      <th>Pete_Buttigieg</th>\n",
       "      <td>46763</td>\n",
       "    </tr>\n",
       "  </tbody>\n",
       "</table>\n",
       "</div>"
      ],
      "text/plain": [
       "                     Subreddit\n",
       "politics                169175\n",
       "YangForPresidentHQ       77253\n",
       "SandersForPresident      69950\n",
       "AskReddit                53829\n",
       "Pete_Buttigieg           46763"
      ]
     },
     "execution_count": 14,
     "metadata": {},
     "output_type": "execute_result"
    }
   ],
   "source": [
    "subs_df.head()"
   ]
  },
  {
   "cell_type": "code",
   "execution_count": 15,
   "metadata": {},
   "outputs": [
    {
     "data": {
      "text/plain": [
       "(18354, 1)"
      ]
     },
     "execution_count": 15,
     "metadata": {},
     "output_type": "execute_result"
    }
   ],
   "source": [
    "subs_df.shape"
   ]
  },
  {
   "cell_type": "code",
   "execution_count": 16,
   "metadata": {},
   "outputs": [],
   "source": [
    "#Only keep most recent 1000 subreddits\n",
    "subs_df_1000 = subs_df[subs_df['Subreddit']>=1000].copy()"
   ]
  },
  {
   "cell_type": "code",
   "execution_count": 17,
   "metadata": {},
   "outputs": [
    {
     "data": {
      "text/plain": [
       "(235, 1)"
      ]
     },
     "execution_count": 17,
     "metadata": {},
     "output_type": "execute_result"
    }
   ],
   "source": [
    "subs_df_1000.shape"
   ]
  },
  {
   "cell_type": "code",
   "execution_count": 18,
   "metadata": {},
   "outputs": [],
   "source": [
    "#Add number of unique users posting in each subreddit\n",
    "user_count = []\n",
    "for i in range(subs_df_1000.shape[0]):\n",
    "    sub = subs_df_1000.iloc[i,].name\n",
    "    user_count.append(len(df[df['Subreddit']==sub]['Author'].value_counts()))"
   ]
  },
  {
   "cell_type": "code",
   "execution_count": 19,
   "metadata": {},
   "outputs": [],
   "source": [
    "subs_df_1000['users']=user_count"
   ]
  },
  {
   "cell_type": "code",
   "execution_count": 20,
   "metadata": {},
   "outputs": [
    {
     "data": {
      "text/html": [
       "<div>\n",
       "<style scoped>\n",
       "    .dataframe tbody tr th:only-of-type {\n",
       "        vertical-align: middle;\n",
       "    }\n",
       "\n",
       "    .dataframe tbody tr th {\n",
       "        vertical-align: top;\n",
       "    }\n",
       "\n",
       "    .dataframe thead th {\n",
       "        text-align: right;\n",
       "    }\n",
       "</style>\n",
       "<table border=\"1\" class=\"dataframe\">\n",
       "  <thead>\n",
       "    <tr style=\"text-align: right;\">\n",
       "      <th></th>\n",
       "      <th>Subreddit</th>\n",
       "      <th>users</th>\n",
       "    </tr>\n",
       "  </thead>\n",
       "  <tbody>\n",
       "    <tr>\n",
       "      <th>politics</th>\n",
       "      <td>169175</td>\n",
       "      <td>1845</td>\n",
       "    </tr>\n",
       "    <tr>\n",
       "      <th>YangForPresidentHQ</th>\n",
       "      <td>77253</td>\n",
       "      <td>854</td>\n",
       "    </tr>\n",
       "    <tr>\n",
       "      <th>SandersForPresident</th>\n",
       "      <td>69950</td>\n",
       "      <td>1158</td>\n",
       "    </tr>\n",
       "    <tr>\n",
       "      <th>AskReddit</th>\n",
       "      <td>53829</td>\n",
       "      <td>1610</td>\n",
       "    </tr>\n",
       "    <tr>\n",
       "      <th>Pete_Buttigieg</th>\n",
       "      <td>46763</td>\n",
       "      <td>630</td>\n",
       "    </tr>\n",
       "  </tbody>\n",
       "</table>\n",
       "</div>"
      ],
      "text/plain": [
       "                     Subreddit  users\n",
       "politics                169175   1845\n",
       "YangForPresidentHQ       77253    854\n",
       "SandersForPresident      69950   1158\n",
       "AskReddit                53829   1610\n",
       "Pete_Buttigieg           46763    630"
      ]
     },
     "execution_count": 20,
     "metadata": {},
     "output_type": "execute_result"
    }
   ],
   "source": [
    "subs_df_1000.head()"
   ]
  },
  {
   "cell_type": "code",
   "execution_count": 21,
   "metadata": {},
   "outputs": [],
   "source": [
    "#Export to csv\n",
    "subs_df_1000.to_csv('fin_subreddit_1000plus.csv')"
   ]
  }
 ],
 "metadata": {
  "kernelspec": {
   "display_name": "Python 3",
   "language": "python",
   "name": "python3"
  },
  "language_info": {
   "codemirror_mode": {
    "name": "ipython",
    "version": 3
   },
   "file_extension": ".py",
   "mimetype": "text/x-python",
   "name": "python",
   "nbconvert_exporter": "python",
   "pygments_lexer": "ipython3",
   "version": "3.7.3"
  }
 },
 "nbformat": 4,
 "nbformat_minor": 2
}
