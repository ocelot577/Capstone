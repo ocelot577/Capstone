{
 "cells": [
  {
   "cell_type": "code",
   "execution_count": 1,
   "metadata": {},
   "outputs": [],
   "source": [
    "import pandas as pd"
   ]
  },
  {
   "cell_type": "code",
   "execution_count": 2,
   "metadata": {},
   "outputs": [],
   "source": [
    "df = pd.read_csv('warren_scrape.csv')"
   ]
  },
  {
   "cell_type": "code",
   "execution_count": 3,
   "metadata": {},
   "outputs": [
    {
     "data": {
      "text/plain": [
       "(248985, 4)"
      ]
     },
     "execution_count": 3,
     "metadata": {},
     "output_type": "execute_result"
    }
   ],
   "source": [
    "df.shape"
   ]
  },
  {
   "cell_type": "code",
   "execution_count": 4,
   "metadata": {},
   "outputs": [
    {
     "data": {
      "text/html": [
       "<div>\n",
       "<style scoped>\n",
       "    .dataframe tbody tr th:only-of-type {\n",
       "        vertical-align: middle;\n",
       "    }\n",
       "\n",
       "    .dataframe tbody tr th {\n",
       "        vertical-align: top;\n",
       "    }\n",
       "\n",
       "    .dataframe thead th {\n",
       "        text-align: right;\n",
       "    }\n",
       "</style>\n",
       "<table border=\"1\" class=\"dataframe\">\n",
       "  <thead>\n",
       "    <tr style=\"text-align: right;\">\n",
       "      <th></th>\n",
       "      <th>Comment Text</th>\n",
       "      <th>Author</th>\n",
       "      <th>Subreddit</th>\n",
       "      <th>Post ID</th>\n",
       "    </tr>\n",
       "  </thead>\n",
       "  <tbody>\n",
       "    <tr>\n",
       "      <th>0</th>\n",
       "      <td>She is trash and done in my book. End of.</td>\n",
       "      <td>secret_someones</td>\n",
       "      <td>Enough_Sanders_Spam</td>\n",
       "      <td>exg39m0</td>\n",
       "    </tr>\n",
       "    <tr>\n",
       "      <th>1</th>\n",
       "      <td>That is true, I definitely do not want to go t...</td>\n",
       "      <td>secret_someones</td>\n",
       "      <td>Enough_Sanders_Spam</td>\n",
       "      <td>exf4w29</td>\n",
       "    </tr>\n",
       "    <tr>\n",
       "      <th>2</th>\n",
       "      <td>It's not a conspiracy, all I am saying is a ph...</td>\n",
       "      <td>secret_someones</td>\n",
       "      <td>Enough_Sanders_Spam</td>\n",
       "      <td>exf26kl</td>\n",
       "    </tr>\n",
       "    <tr>\n",
       "      <th>3</th>\n",
       "      <td>Its not even guaranteed that he was there to s...</td>\n",
       "      <td>secret_someones</td>\n",
       "      <td>Enough_Sanders_Spam</td>\n",
       "      <td>exew632</td>\n",
       "    </tr>\n",
       "    <tr>\n",
       "      <th>4</th>\n",
       "      <td>This is about the Root and not where she stand...</td>\n",
       "      <td>secret_someones</td>\n",
       "      <td>ElizabethWarren</td>\n",
       "      <td>excudhm</td>\n",
       "    </tr>\n",
       "  </tbody>\n",
       "</table>\n",
       "</div>"
      ],
      "text/plain": [
       "                                        Comment Text           Author  \\\n",
       "0          She is trash and done in my book. End of.  secret_someones   \n",
       "1  That is true, I definitely do not want to go t...  secret_someones   \n",
       "2  It's not a conspiracy, all I am saying is a ph...  secret_someones   \n",
       "3  Its not even guaranteed that he was there to s...  secret_someones   \n",
       "4  This is about the Root and not where she stand...  secret_someones   \n",
       "\n",
       "             Subreddit  Post ID  \n",
       "0  Enough_Sanders_Spam  exg39m0  \n",
       "1  Enough_Sanders_Spam  exf4w29  \n",
       "2  Enough_Sanders_Spam  exf26kl  \n",
       "3  Enough_Sanders_Spam  exew632  \n",
       "4      ElizabethWarren  excudhm  "
      ]
     },
     "execution_count": 4,
     "metadata": {},
     "output_type": "execute_result"
    }
   ],
   "source": [
    "df.head()"
   ]
  },
  {
   "cell_type": "code",
   "execution_count": 5,
   "metadata": {},
   "outputs": [
    {
     "data": {
      "text/plain": [
       "Comment Text    object\n",
       "Author          object\n",
       "Subreddit       object\n",
       "Post ID         object\n",
       "dtype: object"
      ]
     },
     "execution_count": 5,
     "metadata": {},
     "output_type": "execute_result"
    }
   ],
   "source": [
    "df.dtypes"
   ]
  },
  {
   "cell_type": "code",
   "execution_count": 6,
   "metadata": {},
   "outputs": [],
   "source": [
    "sum_series = df.groupby(['Author','Subreddit']).size()"
   ]
  },
  {
   "cell_type": "code",
   "execution_count": 7,
   "metadata": {},
   "outputs": [],
   "source": [
    "users = list(set([x for x in sum_series.index.get_level_values(0)]))"
   ]
  },
  {
   "cell_type": "code",
   "execution_count": 8,
   "metadata": {},
   "outputs": [
    {
     "data": {
      "text/plain": [
       "351"
      ]
     },
     "execution_count": 8,
     "metadata": {},
     "output_type": "execute_result"
    }
   ],
   "source": [
    "len(users)"
   ]
  },
  {
   "cell_type": "code",
   "execution_count": 9,
   "metadata": {},
   "outputs": [],
   "source": [
    "political_dict={}\n",
    "for user in users:\n",
    "    #create target series\n",
    "    inner_dict = {}\n",
    "    try:\n",
    "        inner_dict['yang'] = sum_series[user]['YangForPresidentHQ']\n",
    "    except:\n",
    "        inner_dict['yang'] = 0\n",
    "    try:\n",
    "        inner_dict['bernie'] = sum_series[user]['SandersForPresident']\n",
    "    except:\n",
    "        inner_dict['bernie'] = 0\n",
    "    try:\n",
    "        inner_dict['bernie'] += sum_series[user]['wayofthebern']\n",
    "    except:\n",
    "        inner_dict['bernie'] += 0\n",
    "    try:\n",
    "        inner_dict['bernie'] += sum_series[user]['Political_Revolution']\n",
    "    except:\n",
    "        inner_dict['bernie'] += 0\n",
    "    try:\n",
    "        inner_dict['pete'] = sum_series[user]['Pete_Buttigieg']\n",
    "    except:\n",
    "        inner_dict['pete'] = 0\n",
    "    try:\n",
    "        inner_dict['kamala'] = sum_series[user]['Kamala']\n",
    "    except:\n",
    "        inner_dict['kamala'] = 0\n",
    "    try:\n",
    "        inner_dict['biden'] = sum_series[user]['JoeBiden']\n",
    "    except:\n",
    "        inner_dict['biden'] = 0\n",
    "    try:\n",
    "        inner_dict['warren'] = sum_series[user]['ElizabethWarren']\n",
    "    except:\n",
    "        inner_dict['warren'] = 0\n",
    "    political_dict[user]=inner_dict\n"
   ]
  },
  {
   "cell_type": "code",
   "execution_count": 23,
   "metadata": {},
   "outputs": [],
   "source": [
    "df_target = pd.DataFrame(political_dict).T"
   ]
  },
  {
   "cell_type": "code",
   "execution_count": 24,
   "metadata": {},
   "outputs": [
    {
     "data": {
      "text/html": [
       "<div>\n",
       "<style scoped>\n",
       "    .dataframe tbody tr th:only-of-type {\n",
       "        vertical-align: middle;\n",
       "    }\n",
       "\n",
       "    .dataframe tbody tr th {\n",
       "        vertical-align: top;\n",
       "    }\n",
       "\n",
       "    .dataframe thead th {\n",
       "        text-align: right;\n",
       "    }\n",
       "</style>\n",
       "<table border=\"1\" class=\"dataframe\">\n",
       "  <thead>\n",
       "    <tr style=\"text-align: right;\">\n",
       "      <th></th>\n",
       "      <th>bernie</th>\n",
       "      <th>biden</th>\n",
       "      <th>kamala</th>\n",
       "      <th>pete</th>\n",
       "      <th>warren</th>\n",
       "      <th>yang</th>\n",
       "    </tr>\n",
       "  </thead>\n",
       "  <tbody>\n",
       "    <tr>\n",
       "      <th>leperphilliac</th>\n",
       "      <td>0</td>\n",
       "      <td>0</td>\n",
       "      <td>0</td>\n",
       "      <td>0</td>\n",
       "      <td>1</td>\n",
       "      <td>0</td>\n",
       "    </tr>\n",
       "    <tr>\n",
       "      <th>lawrensj</th>\n",
       "      <td>41</td>\n",
       "      <td>0</td>\n",
       "      <td>0</td>\n",
       "      <td>0</td>\n",
       "      <td>30</td>\n",
       "      <td>0</td>\n",
       "    </tr>\n",
       "    <tr>\n",
       "      <th>callmekizzle</th>\n",
       "      <td>25</td>\n",
       "      <td>0</td>\n",
       "      <td>0</td>\n",
       "      <td>0</td>\n",
       "      <td>10</td>\n",
       "      <td>0</td>\n",
       "    </tr>\n",
       "    <tr>\n",
       "      <th>ZebraShark</th>\n",
       "      <td>1</td>\n",
       "      <td>0</td>\n",
       "      <td>0</td>\n",
       "      <td>0</td>\n",
       "      <td>1</td>\n",
       "      <td>0</td>\n",
       "    </tr>\n",
       "    <tr>\n",
       "      <th>Seahoarse127</th>\n",
       "      <td>0</td>\n",
       "      <td>0</td>\n",
       "      <td>0</td>\n",
       "      <td>0</td>\n",
       "      <td>2</td>\n",
       "      <td>0</td>\n",
       "    </tr>\n",
       "  </tbody>\n",
       "</table>\n",
       "</div>"
      ],
      "text/plain": [
       "               bernie  biden  kamala  pete  warren  yang\n",
       "leperphilliac       0      0       0     0       1     0\n",
       "lawrensj           41      0       0     0      30     0\n",
       "callmekizzle       25      0       0     0      10     0\n",
       "ZebraShark          1      0       0     0       1     0\n",
       "Seahoarse127        0      0       0     0       2     0"
      ]
     },
     "execution_count": 24,
     "metadata": {},
     "output_type": "execute_result"
    }
   ],
   "source": [
    "df_target.head(5)"
   ]
  },
  {
   "cell_type": "code",
   "execution_count": 25,
   "metadata": {},
   "outputs": [],
   "source": [
    "## run up to here"
   ]
  },
  {
   "cell_type": "code",
   "execution_count": 26,
   "metadata": {},
   "outputs": [],
   "source": [
    "def func(row):\n",
    "    total = sum(row)\n",
    "    if total < 5:\n",
    "        return 'drop'\n",
    "    if (row['bernie']/total >= .8) & (row['bernie']>=4):\n",
    "        return 'bernie'\n",
    "    if (row['biden']/total >= .8) & (row['biden']>=4):\n",
    "        return 'biden'\n",
    "    if (row['kamala']/total >= .8) & (row['kamala']>=4):\n",
    "        return 'kamala'\n",
    "    if (row['pete']/total >= .8) & (row['pete']>=4):\n",
    "        return 'pete'\n",
    "    if (row['yang']/total >= .8) & (row['yang']>=4):\n",
    "        return 'yang'\n",
    "    if (row['warren']/total >= .8) & (row['warren']>=4):\n",
    "        return 'warren'\n",
    "    return 'drop'\n",
    "    "
   ]
  },
  {
   "cell_type": "code",
   "execution_count": 27,
   "metadata": {},
   "outputs": [],
   "source": [
    "df_target['target'] = df_target.apply(func,axis=1)"
   ]
  },
  {
   "cell_type": "code",
   "execution_count": 28,
   "metadata": {},
   "outputs": [
    {
     "data": {
      "text/plain": [
       "drop      181\n",
       "warren    128\n",
       "bernie     29\n",
       "pete        8\n",
       "yang        4\n",
       "biden       1\n",
       "Name: target, dtype: int64"
      ]
     },
     "execution_count": 28,
     "metadata": {},
     "output_type": "execute_result"
    }
   ],
   "source": [
    "df_target['target'].value_counts()"
   ]
  },
  {
   "cell_type": "code",
   "execution_count": 16,
   "metadata": {},
   "outputs": [],
   "source": [
    "df_target.drop(['bernie','biden','kamala','pete','yang'],axis=1,inplace=True)"
   ]
  },
  {
   "cell_type": "code",
   "execution_count": 17,
   "metadata": {},
   "outputs": [],
   "source": [
    "df_target = df_target[df_target['target']!='drop']"
   ]
  },
  {
   "cell_type": "code",
   "execution_count": 18,
   "metadata": {},
   "outputs": [
    {
     "data": {
      "text/html": [
       "<div>\n",
       "<style scoped>\n",
       "    .dataframe tbody tr th:only-of-type {\n",
       "        vertical-align: middle;\n",
       "    }\n",
       "\n",
       "    .dataframe tbody tr th {\n",
       "        vertical-align: top;\n",
       "    }\n",
       "\n",
       "    .dataframe thead th {\n",
       "        text-align: right;\n",
       "    }\n",
       "</style>\n",
       "<table border=\"1\" class=\"dataframe\">\n",
       "  <thead>\n",
       "    <tr style=\"text-align: right;\">\n",
       "      <th></th>\n",
       "      <th>target</th>\n",
       "    </tr>\n",
       "  </thead>\n",
       "  <tbody>\n",
       "    <tr>\n",
       "      <th>ailish</th>\n",
       "      <td>bernie</td>\n",
       "    </tr>\n",
       "    <tr>\n",
       "      <th>smohqe</th>\n",
       "      <td>bernie</td>\n",
       "    </tr>\n",
       "    <tr>\n",
       "      <th>Jaysyn4Reddit</th>\n",
       "      <td>bernie</td>\n",
       "    </tr>\n",
       "    <tr>\n",
       "      <th>dezmodez</th>\n",
       "      <td>yang</td>\n",
       "    </tr>\n",
       "    <tr>\n",
       "      <th>hdkw836f</th>\n",
       "      <td>yang</td>\n",
       "    </tr>\n",
       "  </tbody>\n",
       "</table>\n",
       "</div>"
      ],
      "text/plain": [
       "               target\n",
       "ailish         bernie\n",
       "smohqe         bernie\n",
       "Jaysyn4Reddit  bernie\n",
       "dezmodez         yang\n",
       "hdkw836f         yang"
      ]
     },
     "execution_count": 18,
     "metadata": {},
     "output_type": "execute_result"
    }
   ],
   "source": [
    "df_target.head()"
   ]
  },
  {
   "cell_type": "code",
   "execution_count": 19,
   "metadata": {},
   "outputs": [],
   "source": [
    "y_train,y_test = train_test_split(df_target['target'],random_state=42,stratify = df_target['target'])"
   ]
  },
  {
   "cell_type": "code",
   "execution_count": 20,
   "metadata": {},
   "outputs": [
    {
     "data": {
      "text/plain": [
       "2024"
      ]
     },
     "execution_count": 20,
     "metadata": {},
     "output_type": "execute_result"
    }
   ],
   "source": [
    "y_train.size"
   ]
  },
  {
   "cell_type": "code",
   "execution_count": 21,
   "metadata": {},
   "outputs": [
    {
     "data": {
      "text/plain": [
       "675"
      ]
     },
     "execution_count": 21,
     "metadata": {},
     "output_type": "execute_result"
    }
   ],
   "source": [
    "y_test.size"
   ]
  },
  {
   "cell_type": "code",
   "execution_count": 23,
   "metadata": {},
   "outputs": [],
   "source": [
    "pd.DataFrame(y_train).to_csv('y_all_train.csv')"
   ]
  },
  {
   "cell_type": "code",
   "execution_count": 24,
   "metadata": {},
   "outputs": [],
   "source": [
    "pd.DataFrame(y_test).to_csv('y_all_test.csv')"
   ]
  },
  {
   "cell_type": "code",
   "execution_count": null,
   "metadata": {},
   "outputs": [],
   "source": []
  }
 ],
 "metadata": {
  "kernelspec": {
   "display_name": "Python 3",
   "language": "python",
   "name": "python3"
  },
  "language_info": {
   "codemirror_mode": {
    "name": "ipython",
    "version": 3
   },
   "file_extension": ".py",
   "mimetype": "text/x-python",
   "name": "python",
   "nbconvert_exporter": "python",
   "pygments_lexer": "ipython3",
   "version": "3.7.3"
  }
 },
 "nbformat": 4,
 "nbformat_minor": 2
}
