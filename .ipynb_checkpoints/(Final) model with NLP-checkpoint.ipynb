{
 "cells": [
  {
   "cell_type": "code",
   "execution_count": 1,
   "metadata": {},
   "outputs": [],
   "source": [
    "import pandas as pd\n",
    "import matplotlib.pyplot as plt\n",
    "import numpy as np"
   ]
  },
  {
   "cell_type": "code",
   "execution_count": 2,
   "metadata": {},
   "outputs": [],
   "source": [
    "df_train = pd.read_csv('fin_train_df.csv')"
   ]
  },
  {
   "cell_type": "code",
   "execution_count": 3,
   "metadata": {},
   "outputs": [
    {
     "data": {
      "text/html": [
       "<div>\n",
       "<style scoped>\n",
       "    .dataframe tbody tr th:only-of-type {\n",
       "        vertical-align: middle;\n",
       "    }\n",
       "\n",
       "    .dataframe tbody tr th {\n",
       "        vertical-align: top;\n",
       "    }\n",
       "\n",
       "    .dataframe thead th {\n",
       "        text-align: right;\n",
       "    }\n",
       "</style>\n",
       "<table border=\"1\" class=\"dataframe\">\n",
       "  <thead>\n",
       "    <tr style=\"text-align: right;\">\n",
       "      <th></th>\n",
       "      <th>Unnamed: 0</th>\n",
       "      <th>Android</th>\n",
       "      <th>BasicIncome</th>\n",
       "      <th>BigBrother</th>\n",
       "      <th>Christianity</th>\n",
       "      <th>Cricket</th>\n",
       "      <th>Documentaries</th>\n",
       "      <th>Economics</th>\n",
       "      <th>Fitness</th>\n",
       "      <th>Futurology</th>\n",
       "      <th>...</th>\n",
       "      <th>trees</th>\n",
       "      <th>anti_alt_right_comb</th>\n",
       "      <th>bad_capitalism_comb</th>\n",
       "      <th>basketball_comb</th>\n",
       "      <th>conservative_comb</th>\n",
       "      <th>crypto_comb</th>\n",
       "      <th>football_comb</th>\n",
       "      <th>pc_comb</th>\n",
       "      <th>gaming_comb</th>\n",
       "      <th>target</th>\n",
       "    </tr>\n",
       "  </thead>\n",
       "  <tbody>\n",
       "    <tr>\n",
       "      <th>0</th>\n",
       "      <td>FjolnirFimbulvetr</td>\n",
       "      <td>0.0</td>\n",
       "      <td>0.0</td>\n",
       "      <td>0.000000</td>\n",
       "      <td>0.0</td>\n",
       "      <td>0.0</td>\n",
       "      <td>0.022222</td>\n",
       "      <td>0.000000</td>\n",
       "      <td>0.0</td>\n",
       "      <td>0.000000</td>\n",
       "      <td>...</td>\n",
       "      <td>0.0</td>\n",
       "      <td>0.133333</td>\n",
       "      <td>0.400000</td>\n",
       "      <td>0.000000</td>\n",
       "      <td>0.000000</td>\n",
       "      <td>0.0</td>\n",
       "      <td>0.00000</td>\n",
       "      <td>0.0</td>\n",
       "      <td>0.0</td>\n",
       "      <td>0</td>\n",
       "    </tr>\n",
       "    <tr>\n",
       "      <th>1</th>\n",
       "      <td>Kazehaya</td>\n",
       "      <td>0.0</td>\n",
       "      <td>0.0</td>\n",
       "      <td>0.992278</td>\n",
       "      <td>0.0</td>\n",
       "      <td>0.0</td>\n",
       "      <td>0.000000</td>\n",
       "      <td>0.000000</td>\n",
       "      <td>0.0</td>\n",
       "      <td>0.000000</td>\n",
       "      <td>...</td>\n",
       "      <td>0.0</td>\n",
       "      <td>0.000000</td>\n",
       "      <td>0.000000</td>\n",
       "      <td>0.000000</td>\n",
       "      <td>0.000000</td>\n",
       "      <td>0.0</td>\n",
       "      <td>0.00000</td>\n",
       "      <td>0.0</td>\n",
       "      <td>0.0</td>\n",
       "      <td>0</td>\n",
       "    </tr>\n",
       "    <tr>\n",
       "      <th>2</th>\n",
       "      <td>ClawedGiroux</td>\n",
       "      <td>0.0</td>\n",
       "      <td>0.0</td>\n",
       "      <td>0.000000</td>\n",
       "      <td>0.0</td>\n",
       "      <td>0.0</td>\n",
       "      <td>0.000000</td>\n",
       "      <td>0.004464</td>\n",
       "      <td>0.0</td>\n",
       "      <td>0.017857</td>\n",
       "      <td>...</td>\n",
       "      <td>0.0</td>\n",
       "      <td>0.000000</td>\n",
       "      <td>0.004464</td>\n",
       "      <td>0.696429</td>\n",
       "      <td>0.000000</td>\n",
       "      <td>0.0</td>\n",
       "      <td>0.09375</td>\n",
       "      <td>0.0</td>\n",
       "      <td>0.0</td>\n",
       "      <td>0</td>\n",
       "    </tr>\n",
       "    <tr>\n",
       "      <th>3</th>\n",
       "      <td>MrKixs</td>\n",
       "      <td>0.0</td>\n",
       "      <td>0.0</td>\n",
       "      <td>0.000000</td>\n",
       "      <td>0.0</td>\n",
       "      <td>0.0</td>\n",
       "      <td>0.000000</td>\n",
       "      <td>0.000000</td>\n",
       "      <td>0.0</td>\n",
       "      <td>0.000000</td>\n",
       "      <td>...</td>\n",
       "      <td>0.0</td>\n",
       "      <td>0.000000</td>\n",
       "      <td>0.000000</td>\n",
       "      <td>0.000000</td>\n",
       "      <td>0.035714</td>\n",
       "      <td>0.0</td>\n",
       "      <td>0.00000</td>\n",
       "      <td>0.0</td>\n",
       "      <td>0.0</td>\n",
       "      <td>0</td>\n",
       "    </tr>\n",
       "    <tr>\n",
       "      <th>4</th>\n",
       "      <td>icancubutucantcme</td>\n",
       "      <td>0.0</td>\n",
       "      <td>0.0</td>\n",
       "      <td>0.000000</td>\n",
       "      <td>0.0</td>\n",
       "      <td>0.0</td>\n",
       "      <td>0.000000</td>\n",
       "      <td>0.000000</td>\n",
       "      <td>0.0</td>\n",
       "      <td>0.000000</td>\n",
       "      <td>...</td>\n",
       "      <td>0.0</td>\n",
       "      <td>0.000000</td>\n",
       "      <td>0.000000</td>\n",
       "      <td>0.000000</td>\n",
       "      <td>0.000000</td>\n",
       "      <td>0.0</td>\n",
       "      <td>0.00000</td>\n",
       "      <td>0.0</td>\n",
       "      <td>0.0</td>\n",
       "      <td>0</td>\n",
       "    </tr>\n",
       "  </tbody>\n",
       "</table>\n",
       "<p>5 rows × 56 columns</p>\n",
       "</div>"
      ],
      "text/plain": [
       "          Unnamed: 0  Android  BasicIncome  BigBrother  Christianity  Cricket  \\\n",
       "0  FjolnirFimbulvetr      0.0          0.0    0.000000           0.0      0.0   \n",
       "1           Kazehaya      0.0          0.0    0.992278           0.0      0.0   \n",
       "2       ClawedGiroux      0.0          0.0    0.000000           0.0      0.0   \n",
       "3             MrKixs      0.0          0.0    0.000000           0.0      0.0   \n",
       "4  icancubutucantcme      0.0          0.0    0.000000           0.0      0.0   \n",
       "\n",
       "   Documentaries  Economics  Fitness  Futurology  ...  trees  \\\n",
       "0       0.022222   0.000000      0.0    0.000000  ...    0.0   \n",
       "1       0.000000   0.000000      0.0    0.000000  ...    0.0   \n",
       "2       0.000000   0.004464      0.0    0.017857  ...    0.0   \n",
       "3       0.000000   0.000000      0.0    0.000000  ...    0.0   \n",
       "4       0.000000   0.000000      0.0    0.000000  ...    0.0   \n",
       "\n",
       "   anti_alt_right_comb  bad_capitalism_comb  basketball_comb  \\\n",
       "0             0.133333             0.400000         0.000000   \n",
       "1             0.000000             0.000000         0.000000   \n",
       "2             0.000000             0.004464         0.696429   \n",
       "3             0.000000             0.000000         0.000000   \n",
       "4             0.000000             0.000000         0.000000   \n",
       "\n",
       "   conservative_comb  crypto_comb  football_comb  pc_comb  gaming_comb  target  \n",
       "0           0.000000          0.0        0.00000      0.0          0.0       0  \n",
       "1           0.000000          0.0        0.00000      0.0          0.0       0  \n",
       "2           0.000000          0.0        0.09375      0.0          0.0       0  \n",
       "3           0.035714          0.0        0.00000      0.0          0.0       0  \n",
       "4           0.000000          0.0        0.00000      0.0          0.0       0  \n",
       "\n",
       "[5 rows x 56 columns]"
      ]
     },
     "execution_count": 3,
     "metadata": {},
     "output_type": "execute_result"
    }
   ],
   "source": [
    "df_train.head()"
   ]
  },
  {
   "cell_type": "code",
   "execution_count": 4,
   "metadata": {},
   "outputs": [],
   "source": [
    "df_train = df_train.set_index('Unnamed: 0')"
   ]
  },
  {
   "cell_type": "code",
   "execution_count": 5,
   "metadata": {},
   "outputs": [],
   "source": [
    "df_test = pd.read_csv('fin_test_df.csv')"
   ]
  },
  {
   "cell_type": "code",
   "execution_count": 6,
   "metadata": {},
   "outputs": [
    {
     "data": {
      "text/html": [
       "<div>\n",
       "<style scoped>\n",
       "    .dataframe tbody tr th:only-of-type {\n",
       "        vertical-align: middle;\n",
       "    }\n",
       "\n",
       "    .dataframe tbody tr th {\n",
       "        vertical-align: top;\n",
       "    }\n",
       "\n",
       "    .dataframe thead th {\n",
       "        text-align: right;\n",
       "    }\n",
       "</style>\n",
       "<table border=\"1\" class=\"dataframe\">\n",
       "  <thead>\n",
       "    <tr style=\"text-align: right;\">\n",
       "      <th></th>\n",
       "      <th>Unnamed: 0</th>\n",
       "      <th>Android</th>\n",
       "      <th>BasicIncome</th>\n",
       "      <th>BigBrother</th>\n",
       "      <th>Christianity</th>\n",
       "      <th>Cricket</th>\n",
       "      <th>Documentaries</th>\n",
       "      <th>Economics</th>\n",
       "      <th>Fitness</th>\n",
       "      <th>Futurology</th>\n",
       "      <th>...</th>\n",
       "      <th>trees</th>\n",
       "      <th>anti_alt_right_comb</th>\n",
       "      <th>bad_capitalism_comb</th>\n",
       "      <th>basketball_comb</th>\n",
       "      <th>conservative_comb</th>\n",
       "      <th>crypto_comb</th>\n",
       "      <th>football_comb</th>\n",
       "      <th>pc_comb</th>\n",
       "      <th>gaming_comb</th>\n",
       "      <th>target</th>\n",
       "    </tr>\n",
       "  </thead>\n",
       "  <tbody>\n",
       "    <tr>\n",
       "      <th>0</th>\n",
       "      <td>Boomslangalang</td>\n",
       "      <td>0.0</td>\n",
       "      <td>0.000000</td>\n",
       "      <td>0.0</td>\n",
       "      <td>0.0</td>\n",
       "      <td>0.0</td>\n",
       "      <td>0.125</td>\n",
       "      <td>0.000000</td>\n",
       "      <td>0.000000</td>\n",
       "      <td>0.031250</td>\n",
       "      <td>...</td>\n",
       "      <td>0.000000</td>\n",
       "      <td>0.0</td>\n",
       "      <td>0.0</td>\n",
       "      <td>0.000000</td>\n",
       "      <td>0.0</td>\n",
       "      <td>0.000000</td>\n",
       "      <td>0.000000</td>\n",
       "      <td>0.0</td>\n",
       "      <td>0.031250</td>\n",
       "      <td>0</td>\n",
       "    </tr>\n",
       "    <tr>\n",
       "      <th>1</th>\n",
       "      <td>bczeon27</td>\n",
       "      <td>0.0</td>\n",
       "      <td>0.133333</td>\n",
       "      <td>0.0</td>\n",
       "      <td>0.0</td>\n",
       "      <td>0.0</td>\n",
       "      <td>0.000</td>\n",
       "      <td>0.000000</td>\n",
       "      <td>0.000000</td>\n",
       "      <td>0.133333</td>\n",
       "      <td>...</td>\n",
       "      <td>0.000000</td>\n",
       "      <td>0.0</td>\n",
       "      <td>0.0</td>\n",
       "      <td>0.000000</td>\n",
       "      <td>0.0</td>\n",
       "      <td>0.133333</td>\n",
       "      <td>0.000000</td>\n",
       "      <td>0.0</td>\n",
       "      <td>0.000000</td>\n",
       "      <td>1</td>\n",
       "    </tr>\n",
       "    <tr>\n",
       "      <th>2</th>\n",
       "      <td>madosooki</td>\n",
       "      <td>0.0</td>\n",
       "      <td>0.000000</td>\n",
       "      <td>0.0</td>\n",
       "      <td>0.0</td>\n",
       "      <td>0.0</td>\n",
       "      <td>0.000</td>\n",
       "      <td>0.000000</td>\n",
       "      <td>0.083333</td>\n",
       "      <td>0.166667</td>\n",
       "      <td>...</td>\n",
       "      <td>0.416667</td>\n",
       "      <td>0.0</td>\n",
       "      <td>0.0</td>\n",
       "      <td>0.000000</td>\n",
       "      <td>0.0</td>\n",
       "      <td>0.000000</td>\n",
       "      <td>0.000000</td>\n",
       "      <td>0.0</td>\n",
       "      <td>0.000000</td>\n",
       "      <td>1</td>\n",
       "    </tr>\n",
       "    <tr>\n",
       "      <th>3</th>\n",
       "      <td>krom0025</td>\n",
       "      <td>0.0</td>\n",
       "      <td>0.000000</td>\n",
       "      <td>0.0</td>\n",
       "      <td>0.0</td>\n",
       "      <td>0.0</td>\n",
       "      <td>0.000</td>\n",
       "      <td>0.017467</td>\n",
       "      <td>0.000000</td>\n",
       "      <td>0.000000</td>\n",
       "      <td>...</td>\n",
       "      <td>0.034934</td>\n",
       "      <td>0.0</td>\n",
       "      <td>0.0</td>\n",
       "      <td>0.000000</td>\n",
       "      <td>0.0</td>\n",
       "      <td>0.000000</td>\n",
       "      <td>0.004367</td>\n",
       "      <td>0.0</td>\n",
       "      <td>0.004367</td>\n",
       "      <td>0</td>\n",
       "    </tr>\n",
       "    <tr>\n",
       "      <th>4</th>\n",
       "      <td>Its_not_him</td>\n",
       "      <td>0.0</td>\n",
       "      <td>0.000000</td>\n",
       "      <td>0.0</td>\n",
       "      <td>0.0</td>\n",
       "      <td>0.0</td>\n",
       "      <td>0.000</td>\n",
       "      <td>0.000000</td>\n",
       "      <td>0.000000</td>\n",
       "      <td>0.030303</td>\n",
       "      <td>...</td>\n",
       "      <td>0.030303</td>\n",
       "      <td>0.0</td>\n",
       "      <td>0.0</td>\n",
       "      <td>0.060606</td>\n",
       "      <td>0.0</td>\n",
       "      <td>0.000000</td>\n",
       "      <td>0.030303</td>\n",
       "      <td>0.0</td>\n",
       "      <td>0.030303</td>\n",
       "      <td>0</td>\n",
       "    </tr>\n",
       "  </tbody>\n",
       "</table>\n",
       "<p>5 rows × 56 columns</p>\n",
       "</div>"
      ],
      "text/plain": [
       "       Unnamed: 0  Android  BasicIncome  BigBrother  Christianity  Cricket  \\\n",
       "0  Boomslangalang      0.0     0.000000         0.0           0.0      0.0   \n",
       "1        bczeon27      0.0     0.133333         0.0           0.0      0.0   \n",
       "2       madosooki      0.0     0.000000         0.0           0.0      0.0   \n",
       "3        krom0025      0.0     0.000000         0.0           0.0      0.0   \n",
       "4     Its_not_him      0.0     0.000000         0.0           0.0      0.0   \n",
       "\n",
       "   Documentaries  Economics   Fitness  Futurology  ...     trees  \\\n",
       "0          0.125   0.000000  0.000000    0.031250  ...  0.000000   \n",
       "1          0.000   0.000000  0.000000    0.133333  ...  0.000000   \n",
       "2          0.000   0.000000  0.083333    0.166667  ...  0.416667   \n",
       "3          0.000   0.017467  0.000000    0.000000  ...  0.034934   \n",
       "4          0.000   0.000000  0.000000    0.030303  ...  0.030303   \n",
       "\n",
       "   anti_alt_right_comb  bad_capitalism_comb  basketball_comb  \\\n",
       "0                  0.0                  0.0         0.000000   \n",
       "1                  0.0                  0.0         0.000000   \n",
       "2                  0.0                  0.0         0.000000   \n",
       "3                  0.0                  0.0         0.000000   \n",
       "4                  0.0                  0.0         0.060606   \n",
       "\n",
       "   conservative_comb  crypto_comb  football_comb  pc_comb  gaming_comb  target  \n",
       "0                0.0     0.000000       0.000000      0.0     0.031250       0  \n",
       "1                0.0     0.133333       0.000000      0.0     0.000000       1  \n",
       "2                0.0     0.000000       0.000000      0.0     0.000000       1  \n",
       "3                0.0     0.000000       0.004367      0.0     0.004367       0  \n",
       "4                0.0     0.000000       0.030303      0.0     0.030303       0  \n",
       "\n",
       "[5 rows x 56 columns]"
      ]
     },
     "execution_count": 6,
     "metadata": {},
     "output_type": "execute_result"
    }
   ],
   "source": [
    "df_test.head()"
   ]
  },
  {
   "cell_type": "code",
   "execution_count": 7,
   "metadata": {},
   "outputs": [],
   "source": [
    "df_test = df_test.set_index('Unnamed: 0')"
   ]
  },
  {
   "cell_type": "code",
   "execution_count": 8,
   "metadata": {},
   "outputs": [
    {
     "data": {
      "text/html": [
       "<div>\n",
       "<style scoped>\n",
       "    .dataframe tbody tr th:only-of-type {\n",
       "        vertical-align: middle;\n",
       "    }\n",
       "\n",
       "    .dataframe tbody tr th {\n",
       "        vertical-align: top;\n",
       "    }\n",
       "\n",
       "    .dataframe thead th {\n",
       "        text-align: right;\n",
       "    }\n",
       "</style>\n",
       "<table border=\"1\" class=\"dataframe\">\n",
       "  <thead>\n",
       "    <tr style=\"text-align: right;\">\n",
       "      <th></th>\n",
       "      <th>Android</th>\n",
       "      <th>BasicIncome</th>\n",
       "      <th>BigBrother</th>\n",
       "      <th>Christianity</th>\n",
       "      <th>Cricket</th>\n",
       "      <th>Documentaries</th>\n",
       "      <th>Economics</th>\n",
       "      <th>Fitness</th>\n",
       "      <th>Futurology</th>\n",
       "      <th>HomeImprovement</th>\n",
       "      <th>...</th>\n",
       "      <th>trees</th>\n",
       "      <th>anti_alt_right_comb</th>\n",
       "      <th>bad_capitalism_comb</th>\n",
       "      <th>basketball_comb</th>\n",
       "      <th>conservative_comb</th>\n",
       "      <th>crypto_comb</th>\n",
       "      <th>football_comb</th>\n",
       "      <th>pc_comb</th>\n",
       "      <th>gaming_comb</th>\n",
       "      <th>target</th>\n",
       "    </tr>\n",
       "    <tr>\n",
       "      <th>Unnamed: 0</th>\n",
       "      <th></th>\n",
       "      <th></th>\n",
       "      <th></th>\n",
       "      <th></th>\n",
       "      <th></th>\n",
       "      <th></th>\n",
       "      <th></th>\n",
       "      <th></th>\n",
       "      <th></th>\n",
       "      <th></th>\n",
       "      <th></th>\n",
       "      <th></th>\n",
       "      <th></th>\n",
       "      <th></th>\n",
       "      <th></th>\n",
       "      <th></th>\n",
       "      <th></th>\n",
       "      <th></th>\n",
       "      <th></th>\n",
       "      <th></th>\n",
       "      <th></th>\n",
       "    </tr>\n",
       "  </thead>\n",
       "  <tbody>\n",
       "    <tr>\n",
       "      <th>FjolnirFimbulvetr</th>\n",
       "      <td>0.0</td>\n",
       "      <td>0.0</td>\n",
       "      <td>0.000000</td>\n",
       "      <td>0.0</td>\n",
       "      <td>0.0</td>\n",
       "      <td>0.022222</td>\n",
       "      <td>0.000000</td>\n",
       "      <td>0.0</td>\n",
       "      <td>0.000000</td>\n",
       "      <td>0.0</td>\n",
       "      <td>...</td>\n",
       "      <td>0.0</td>\n",
       "      <td>0.133333</td>\n",
       "      <td>0.400000</td>\n",
       "      <td>0.000000</td>\n",
       "      <td>0.000000</td>\n",
       "      <td>0.0</td>\n",
       "      <td>0.00000</td>\n",
       "      <td>0.0</td>\n",
       "      <td>0.0</td>\n",
       "      <td>0</td>\n",
       "    </tr>\n",
       "    <tr>\n",
       "      <th>Kazehaya</th>\n",
       "      <td>0.0</td>\n",
       "      <td>0.0</td>\n",
       "      <td>0.992278</td>\n",
       "      <td>0.0</td>\n",
       "      <td>0.0</td>\n",
       "      <td>0.000000</td>\n",
       "      <td>0.000000</td>\n",
       "      <td>0.0</td>\n",
       "      <td>0.000000</td>\n",
       "      <td>0.0</td>\n",
       "      <td>...</td>\n",
       "      <td>0.0</td>\n",
       "      <td>0.000000</td>\n",
       "      <td>0.000000</td>\n",
       "      <td>0.000000</td>\n",
       "      <td>0.000000</td>\n",
       "      <td>0.0</td>\n",
       "      <td>0.00000</td>\n",
       "      <td>0.0</td>\n",
       "      <td>0.0</td>\n",
       "      <td>0</td>\n",
       "    </tr>\n",
       "    <tr>\n",
       "      <th>ClawedGiroux</th>\n",
       "      <td>0.0</td>\n",
       "      <td>0.0</td>\n",
       "      <td>0.000000</td>\n",
       "      <td>0.0</td>\n",
       "      <td>0.0</td>\n",
       "      <td>0.000000</td>\n",
       "      <td>0.004464</td>\n",
       "      <td>0.0</td>\n",
       "      <td>0.017857</td>\n",
       "      <td>0.0</td>\n",
       "      <td>...</td>\n",
       "      <td>0.0</td>\n",
       "      <td>0.000000</td>\n",
       "      <td>0.004464</td>\n",
       "      <td>0.696429</td>\n",
       "      <td>0.000000</td>\n",
       "      <td>0.0</td>\n",
       "      <td>0.09375</td>\n",
       "      <td>0.0</td>\n",
       "      <td>0.0</td>\n",
       "      <td>0</td>\n",
       "    </tr>\n",
       "    <tr>\n",
       "      <th>MrKixs</th>\n",
       "      <td>0.0</td>\n",
       "      <td>0.0</td>\n",
       "      <td>0.000000</td>\n",
       "      <td>0.0</td>\n",
       "      <td>0.0</td>\n",
       "      <td>0.000000</td>\n",
       "      <td>0.000000</td>\n",
       "      <td>0.0</td>\n",
       "      <td>0.000000</td>\n",
       "      <td>0.0</td>\n",
       "      <td>...</td>\n",
       "      <td>0.0</td>\n",
       "      <td>0.000000</td>\n",
       "      <td>0.000000</td>\n",
       "      <td>0.000000</td>\n",
       "      <td>0.035714</td>\n",
       "      <td>0.0</td>\n",
       "      <td>0.00000</td>\n",
       "      <td>0.0</td>\n",
       "      <td>0.0</td>\n",
       "      <td>0</td>\n",
       "    </tr>\n",
       "    <tr>\n",
       "      <th>icancubutucantcme</th>\n",
       "      <td>0.0</td>\n",
       "      <td>0.0</td>\n",
       "      <td>0.000000</td>\n",
       "      <td>0.0</td>\n",
       "      <td>0.0</td>\n",
       "      <td>0.000000</td>\n",
       "      <td>0.000000</td>\n",
       "      <td>0.0</td>\n",
       "      <td>0.000000</td>\n",
       "      <td>0.0</td>\n",
       "      <td>...</td>\n",
       "      <td>0.0</td>\n",
       "      <td>0.000000</td>\n",
       "      <td>0.000000</td>\n",
       "      <td>0.000000</td>\n",
       "      <td>0.000000</td>\n",
       "      <td>0.0</td>\n",
       "      <td>0.00000</td>\n",
       "      <td>0.0</td>\n",
       "      <td>0.0</td>\n",
       "      <td>0</td>\n",
       "    </tr>\n",
       "  </tbody>\n",
       "</table>\n",
       "<p>5 rows × 55 columns</p>\n",
       "</div>"
      ],
      "text/plain": [
       "                   Android  BasicIncome  BigBrother  Christianity  Cricket  \\\n",
       "Unnamed: 0                                                                   \n",
       "FjolnirFimbulvetr      0.0          0.0    0.000000           0.0      0.0   \n",
       "Kazehaya               0.0          0.0    0.992278           0.0      0.0   \n",
       "ClawedGiroux           0.0          0.0    0.000000           0.0      0.0   \n",
       "MrKixs                 0.0          0.0    0.000000           0.0      0.0   \n",
       "icancubutucantcme      0.0          0.0    0.000000           0.0      0.0   \n",
       "\n",
       "                   Documentaries  Economics  Fitness  Futurology  \\\n",
       "Unnamed: 0                                                         \n",
       "FjolnirFimbulvetr       0.022222   0.000000      0.0    0.000000   \n",
       "Kazehaya                0.000000   0.000000      0.0    0.000000   \n",
       "ClawedGiroux            0.000000   0.004464      0.0    0.017857   \n",
       "MrKixs                  0.000000   0.000000      0.0    0.000000   \n",
       "icancubutucantcme       0.000000   0.000000      0.0    0.000000   \n",
       "\n",
       "                   HomeImprovement  ...  trees  anti_alt_right_comb  \\\n",
       "Unnamed: 0                          ...                               \n",
       "FjolnirFimbulvetr              0.0  ...    0.0             0.133333   \n",
       "Kazehaya                       0.0  ...    0.0             0.000000   \n",
       "ClawedGiroux                   0.0  ...    0.0             0.000000   \n",
       "MrKixs                         0.0  ...    0.0             0.000000   \n",
       "icancubutucantcme              0.0  ...    0.0             0.000000   \n",
       "\n",
       "                   bad_capitalism_comb  basketball_comb  conservative_comb  \\\n",
       "Unnamed: 0                                                                   \n",
       "FjolnirFimbulvetr             0.400000         0.000000           0.000000   \n",
       "Kazehaya                      0.000000         0.000000           0.000000   \n",
       "ClawedGiroux                  0.004464         0.696429           0.000000   \n",
       "MrKixs                        0.000000         0.000000           0.035714   \n",
       "icancubutucantcme             0.000000         0.000000           0.000000   \n",
       "\n",
       "                   crypto_comb  football_comb  pc_comb  gaming_comb  target  \n",
       "Unnamed: 0                                                                   \n",
       "FjolnirFimbulvetr          0.0        0.00000      0.0          0.0       0  \n",
       "Kazehaya                   0.0        0.00000      0.0          0.0       0  \n",
       "ClawedGiroux               0.0        0.09375      0.0          0.0       0  \n",
       "MrKixs                     0.0        0.00000      0.0          0.0       0  \n",
       "icancubutucantcme          0.0        0.00000      0.0          0.0       0  \n",
       "\n",
       "[5 rows x 55 columns]"
      ]
     },
     "execution_count": 8,
     "metadata": {},
     "output_type": "execute_result"
    }
   ],
   "source": [
    "df_train.head()"
   ]
  },
  {
   "cell_type": "code",
   "execution_count": 9,
   "metadata": {},
   "outputs": [],
   "source": [
    "df_nlp = pd.read_csv('fin_cleaned_nlp.csv')"
   ]
  },
  {
   "cell_type": "code",
   "execution_count": 10,
   "metadata": {},
   "outputs": [
    {
     "data": {
      "text/html": [
       "<div>\n",
       "<style scoped>\n",
       "    .dataframe tbody tr th:only-of-type {\n",
       "        vertical-align: middle;\n",
       "    }\n",
       "\n",
       "    .dataframe tbody tr th {\n",
       "        vertical-align: top;\n",
       "    }\n",
       "\n",
       "    .dataframe thead th {\n",
       "        text-align: right;\n",
       "    }\n",
       "</style>\n",
       "<table border=\"1\" class=\"dataframe\">\n",
       "  <thead>\n",
       "    <tr style=\"text-align: right;\">\n",
       "      <th></th>\n",
       "      <th>Unnamed: 0</th>\n",
       "      <th>Text</th>\n",
       "      <th>Clean</th>\n",
       "    </tr>\n",
       "  </thead>\n",
       "  <tbody>\n",
       "    <tr>\n",
       "      <th>0</th>\n",
       "      <td>PDXorax</td>\n",
       "      <td>The Lump of Labor doesn't apply in this case, ...</td>\n",
       "      <td>lump labor doesnt appli case look rd labor aut...</td>\n",
       "    </tr>\n",
       "    <tr>\n",
       "      <th>1</th>\n",
       "      <td>PrincePizza1</td>\n",
       "      <td>I think things \"getting better\" to people like...</td>\n",
       "      <td>think thing get better peopl like everybodi ag...</td>\n",
       "    </tr>\n",
       "    <tr>\n",
       "      <th>2</th>\n",
       "      <td>Marmar79</td>\n",
       "      <td>Thank you. This made my dayHe so edgy.\\n\\nEdit...</td>\n",
       "      <td>thank made dayh edgi edit dont think wrong thi...</td>\n",
       "    </tr>\n",
       "    <tr>\n",
       "      <th>3</th>\n",
       "      <td>IRISHE3</td>\n",
       "      <td>I just wish politicians would put the money sh...</td>\n",
       "      <td>wish politician would put money shit real doll...</td>\n",
       "    </tr>\n",
       "    <tr>\n",
       "      <th>4</th>\n",
       "      <td>RonZiggy</td>\n",
       "      <td>Climate change as well.Wow...just wowWhat is t...</td>\n",
       "      <td>climat chang wellwowjust wowwhat fromwel happe...</td>\n",
       "    </tr>\n",
       "  </tbody>\n",
       "</table>\n",
       "</div>"
      ],
      "text/plain": [
       "     Unnamed: 0                                               Text  \\\n",
       "0       PDXorax  The Lump of Labor doesn't apply in this case, ...   \n",
       "1  PrincePizza1  I think things \"getting better\" to people like...   \n",
       "2      Marmar79  Thank you. This made my dayHe so edgy.\\n\\nEdit...   \n",
       "3       IRISHE3  I just wish politicians would put the money sh...   \n",
       "4      RonZiggy  Climate change as well.Wow...just wowWhat is t...   \n",
       "\n",
       "                                               Clean  \n",
       "0  lump labor doesnt appli case look rd labor aut...  \n",
       "1  think thing get better peopl like everybodi ag...  \n",
       "2  thank made dayh edgi edit dont think wrong thi...  \n",
       "3  wish politician would put money shit real doll...  \n",
       "4  climat chang wellwowjust wowwhat fromwel happe...  "
      ]
     },
     "execution_count": 10,
     "metadata": {},
     "output_type": "execute_result"
    }
   ],
   "source": [
    "df_nlp.head()"
   ]
  },
  {
   "cell_type": "code",
   "execution_count": 11,
   "metadata": {},
   "outputs": [],
   "source": [
    "df_nlp.set_index('Unnamed: 0',inplace=True)"
   ]
  },
  {
   "cell_type": "code",
   "execution_count": 12,
   "metadata": {},
   "outputs": [
    {
     "data": {
      "text/plain": [
       "Text     0\n",
       "Clean    7\n",
       "dtype: int64"
      ]
     },
     "execution_count": 12,
     "metadata": {},
     "output_type": "execute_result"
    }
   ],
   "source": [
    "df_nlp.isnull().sum()"
   ]
  },
  {
   "cell_type": "code",
   "execution_count": 13,
   "metadata": {},
   "outputs": [],
   "source": [
    "df_nlp.dropna(axis=0,inplace=True)"
   ]
  },
  {
   "cell_type": "code",
   "execution_count": 14,
   "metadata": {},
   "outputs": [],
   "source": [
    "df_train = pd.concat([df_train,df_nlp],axis=1,join='inner')\n",
    "df_train['predicted_target']=df_train['target']\n",
    "df_train.drop(labels=['Text','target'],axis=1,inplace=True)"
   ]
  },
  {
   "cell_type": "code",
   "execution_count": 15,
   "metadata": {},
   "outputs": [],
   "source": [
    "df_test = pd.concat([df_test,df_nlp],axis=1,join='inner')\n",
    "df_test['predicted_target']=df_test['target']\n",
    "df_test.drop(labels=['Text','target'],axis=1,inplace=True)"
   ]
  },
  {
   "cell_type": "code",
   "execution_count": 16,
   "metadata": {},
   "outputs": [],
   "source": [
    "from sklearn.feature_extraction.text import CountVectorizer, TfidfVectorizer\n",
    "from sklearn.linear_model import LogisticRegression"
   ]
  },
  {
   "cell_type": "code",
   "execution_count": 17,
   "metadata": {},
   "outputs": [
    {
     "name": "stdout",
     "output_type": "stream",
     "text": [
      "Scores For:  (1, 1) 100\n",
      "0.8274647887323944\n",
      "0.8211678832116789\n",
      "Scores For:  (1, 1) 500\n",
      "0.8744131455399061\n",
      "0.8357664233576643\n",
      "Scores For:  (1, 1) 1000\n",
      "0.8791079812206573\n",
      "0.8394160583941606\n",
      "Scores For:  (1, 2) 100\n",
      "0.8274647887323944\n",
      "0.8211678832116789\n",
      "Scores For:  (1, 2) 500\n",
      "0.8738262910798122\n",
      "0.8357664233576643\n",
      "Scores For:  (1, 2) 1000\n",
      "0.8791079812206573\n",
      "0.8394160583941606\n",
      "Scores For:  (1, 3) 100\n",
      "0.8274647887323944\n",
      "0.8211678832116789\n",
      "Scores For:  (1, 3) 500\n",
      "0.8738262910798122\n",
      "0.8357664233576643\n",
      "Scores For:  (1, 3) 1000\n",
      "0.8791079812206573\n",
      "0.8394160583941606\n"
     ]
    }
   ],
   "source": [
    "for n_grams in [(1,1),(1,2),(1,3)]:\n",
    "    for features in [100,500,1000]:\n",
    "        #initialize TF-IDF vectorizer\n",
    "        tf = TfidfVectorizer(ngram_range = n_grams,max_features=features)\n",
    "        #Generate sparse matrixes and combine with previous features\n",
    "        sparseXtrain = tf.fit_transform(df_train['Clean'])\n",
    "        sparseXtrain_df= pd.DataFrame(sparseXtrain.toarray(),\n",
    "               columns=tf.get_feature_names(),index=df_train.index)\n",
    "        df_train2 = pd.concat([df_train.drop('Clean',axis=1),sparseXtrain_df],axis=1,join='inner')\n",
    "\n",
    "        sparseXtest = tf.transform(df_test['Clean'])\n",
    "        sparseXtest_df= pd.DataFrame(sparseXtest.toarray(),\n",
    "               columns=tf.get_feature_names(),index=df_test.index)\n",
    "        df_test2 = pd.concat([df_test.drop('Clean',axis=1),sparseXtest_df],axis=1,join='inner')\n",
    "\n",
    "        #Create X_Train/y_train\n",
    "        X_train = df_train2.drop('predicted_target',axis=1)\n",
    "        X_test = df_test2.drop('predicted_target',axis=1)\n",
    "        y_train = df_train2['predicted_target']\n",
    "        y_test = df_test2['predicted_target']\n",
    "\n",
    "        #Run logisitic Regression\n",
    "        lr = LogisticRegression(solver='lbfgs')\n",
    "        lr.fit(X_train,y_train)\n",
    "        print('Scores For: ',n_grams,features)\n",
    "        print(lr.score(X_train,y_train))\n",
    "        print(lr.score(X_test,y_test))"
   ]
  },
  {
   "cell_type": "code",
   "execution_count": 18,
   "metadata": {},
   "outputs": [
    {
     "name": "stderr",
     "output_type": "stream",
     "text": [
      "/Users/yichenh/anaconda3/lib/python3.7/site-packages/sklearn/linear_model/logistic.py:947: ConvergenceWarning: lbfgs failed to converge. Increase the number of iterations.\n",
      "  \"of iterations.\", ConvergenceWarning)\n"
     ]
    },
    {
     "name": "stdout",
     "output_type": "stream",
     "text": [
      "0.7828467153284672 variables:  (1, 1) 100\n"
     ]
    },
    {
     "name": "stderr",
     "output_type": "stream",
     "text": [
      "/Users/yichenh/anaconda3/lib/python3.7/site-packages/sklearn/linear_model/logistic.py:947: ConvergenceWarning: lbfgs failed to converge. Increase the number of iterations.\n",
      "  \"of iterations.\", ConvergenceWarning)\n"
     ]
    },
    {
     "name": "stdout",
     "output_type": "stream",
     "text": [
      "0.7445255474452555 variables:  (1, 1) 500\n"
     ]
    },
    {
     "name": "stderr",
     "output_type": "stream",
     "text": [
      "/Users/yichenh/anaconda3/lib/python3.7/site-packages/sklearn/linear_model/logistic.py:947: ConvergenceWarning: lbfgs failed to converge. Increase the number of iterations.\n",
      "  \"of iterations.\", ConvergenceWarning)\n"
     ]
    },
    {
     "name": "stdout",
     "output_type": "stream",
     "text": [
      "0.7682481751824818 variables:  (1, 1) 1000\n"
     ]
    },
    {
     "name": "stderr",
     "output_type": "stream",
     "text": [
      "/Users/yichenh/anaconda3/lib/python3.7/site-packages/sklearn/linear_model/logistic.py:947: ConvergenceWarning: lbfgs failed to converge. Increase the number of iterations.\n",
      "  \"of iterations.\", ConvergenceWarning)\n"
     ]
    },
    {
     "name": "stdout",
     "output_type": "stream",
     "text": [
      "0.7828467153284672 variables:  (1, 2) 100\n"
     ]
    },
    {
     "name": "stderr",
     "output_type": "stream",
     "text": [
      "/Users/yichenh/anaconda3/lib/python3.7/site-packages/sklearn/linear_model/logistic.py:947: ConvergenceWarning: lbfgs failed to converge. Increase the number of iterations.\n",
      "  \"of iterations.\", ConvergenceWarning)\n"
     ]
    },
    {
     "name": "stdout",
     "output_type": "stream",
     "text": [
      "0.7299270072992701 variables:  (1, 2) 500\n"
     ]
    },
    {
     "name": "stderr",
     "output_type": "stream",
     "text": [
      "/Users/yichenh/anaconda3/lib/python3.7/site-packages/sklearn/linear_model/logistic.py:947: ConvergenceWarning: lbfgs failed to converge. Increase the number of iterations.\n",
      "  \"of iterations.\", ConvergenceWarning)\n"
     ]
    },
    {
     "name": "stdout",
     "output_type": "stream",
     "text": [
      "0.7682481751824818 variables:  (1, 2) 1000\n"
     ]
    },
    {
     "name": "stderr",
     "output_type": "stream",
     "text": [
      "/Users/yichenh/anaconda3/lib/python3.7/site-packages/sklearn/linear_model/logistic.py:947: ConvergenceWarning: lbfgs failed to converge. Increase the number of iterations.\n",
      "  \"of iterations.\", ConvergenceWarning)\n"
     ]
    },
    {
     "name": "stdout",
     "output_type": "stream",
     "text": [
      "0.7828467153284672 variables:  (1, 3) 100\n"
     ]
    },
    {
     "name": "stderr",
     "output_type": "stream",
     "text": [
      "/Users/yichenh/anaconda3/lib/python3.7/site-packages/sklearn/linear_model/logistic.py:947: ConvergenceWarning: lbfgs failed to converge. Increase the number of iterations.\n",
      "  \"of iterations.\", ConvergenceWarning)\n"
     ]
    },
    {
     "name": "stdout",
     "output_type": "stream",
     "text": [
      "0.7299270072992701 variables:  (1, 3) 500\n",
      "0.7682481751824818 variables:  (1, 3) 1000\n"
     ]
    },
    {
     "name": "stderr",
     "output_type": "stream",
     "text": [
      "/Users/yichenh/anaconda3/lib/python3.7/site-packages/sklearn/linear_model/logistic.py:947: ConvergenceWarning: lbfgs failed to converge. Increase the number of iterations.\n",
      "  \"of iterations.\", ConvergenceWarning)\n"
     ]
    }
   ],
   "source": [
    "for n_grams in [(1,1),(1,2),(1,3)]:\n",
    "    for features in [100,500,1000]:\n",
    "        #initialize Count Vectorizer\n",
    "        cv = CountVectorizer(ngram_range = n_grams,max_features=features)\n",
    "        #Generate sparse matrixes and combine with previous features\n",
    "        sparseXtrain = cv.fit_transform(df_train['Clean'])\n",
    "        sparseXtrain_df= pd.DataFrame(sparseXtrain.toarray(),\n",
    "               columns=cv.get_feature_names(),index=df_train.index)\n",
    "        df_train2 = pd.concat([df_train.drop('Clean',axis=1),sparseXtrain_df],axis=1,join='inner')\n",
    "\n",
    "        sparseXtest = cv.transform(df_test['Clean'])\n",
    "        sparseXtest_df= pd.DataFrame(sparseXtest.toarray(),\n",
    "               columns=cv.get_feature_names(),index=df_test.index)\n",
    "        df_test2 = pd.concat([df_test.drop('Clean',axis=1),sparseXtest_df],axis=1,join='inner')\n",
    "\n",
    "        #Create X_Train/y_train\n",
    "        X_train = df_train2.drop('predicted_target',axis=1)\n",
    "        X_test = df_test2.drop('predicted_target',axis=1)\n",
    "        y_train = df_train2['predicted_target']\n",
    "        y_test = df_test2['predicted_target']\n",
    "\n",
    "        #Run logisitic Regression\n",
    "        lr = LogisticRegression(solver='lbfgs')\n",
    "        lr.fit(X_train,y_train)\n",
    "        print(lr.score(X_test,y_test),\"variables: \",n_grams,features)"
   ]
  },
  {
   "cell_type": "code",
   "execution_count": 19,
   "metadata": {},
   "outputs": [
    {
     "name": "stdout",
     "output_type": "stream",
     "text": [
      "Scores For: (1,1) & 1000 features\n",
      "0.8791079812206573\n",
      "0.8394160583941606\n"
     ]
    }
   ],
   "source": [
    "tf = TfidfVectorizer(ngram_range = (1,1),max_features=1000)\n",
    "        \n",
    "#Generate sparse matrixes and combine with previous features\n",
    "sparseXtrain = tf.fit_transform(df_train['Clean'])\n",
    "sparseXtrain_df= pd.DataFrame(sparseXtrain.toarray(),\n",
    "       columns=tf.get_feature_names(),index=df_train.index)\n",
    "df_train2 = pd.concat([df_train.drop('Clean',axis=1),sparseXtrain_df],axis=1,join='inner')\n",
    "\n",
    "sparseXtest = tf.transform(df_test['Clean'])\n",
    "sparseXtest_df= pd.DataFrame(sparseXtest.toarray(),\n",
    "       columns=tf.get_feature_names(),index=df_test.index)\n",
    "df_test2 = pd.concat([df_test.drop('Clean',axis=1),sparseXtest_df],axis=1,join='inner')\n",
    "\n",
    "#Create X_Train/y_train\n",
    "X_train = df_train2.drop('predicted_target',axis=1)\n",
    "X_test = df_test2.drop('predicted_target',axis=1)\n",
    "y_train = df_train2['predicted_target']\n",
    "y_test = df_test2['predicted_target']\n",
    "\n",
    "#Run logisitic Regression\n",
    "lr = LogisticRegression(solver='lbfgs')\n",
    "lr.fit(X_train,y_train)\n",
    "print('Scores For: (1,1) & 1000 features')\n",
    "print(lr.score(X_train,y_train))\n",
    "print(lr.score(X_test,y_test))"
   ]
  },
  {
   "cell_type": "code",
   "execution_count": 20,
   "metadata": {},
   "outputs": [],
   "source": [
    "from sklearn.metrics import confusion_matrix"
   ]
  },
  {
   "cell_type": "code",
   "execution_count": 21,
   "metadata": {},
   "outputs": [
    {
     "data": {
      "text/plain": [
       "array([[411,   8],\n",
       "       [ 80,  49]])"
      ]
     },
     "execution_count": 21,
     "metadata": {},
     "output_type": "execute_result"
    }
   ],
   "source": [
    "confusion_matrix(y_test,lr.predict(X_test))"
   ]
  },
  {
   "cell_type": "code",
   "execution_count": 22,
   "metadata": {},
   "outputs": [
    {
     "data": {
      "text/plain": [
       "0    419\n",
       "1    129\n",
       "Name: predicted_target, dtype: int64"
      ]
     },
     "execution_count": 22,
     "metadata": {},
     "output_type": "execute_result"
    }
   ],
   "source": [
    "y_test.value_counts()"
   ]
  },
  {
   "cell_type": "code",
   "execution_count": 23,
   "metadata": {},
   "outputs": [],
   "source": [
    "pred_proba = [i[1] for i in lr.predict_proba(X_test)]\n",
    "\n",
    "pred_df = pd.DataFrame({'true_values': y_test,\n",
    "                        'pred_probs':pred_proba})"
   ]
  },
  {
   "cell_type": "code",
   "execution_count": 24,
   "metadata": {},
   "outputs": [
    {
     "data": {
      "image/png": "[encoded data removed]",
      "text/plain": [
       "<Figure size 720x504 with 1 Axes>"
      ]
     },
     "metadata": {
      "needs_background": "light"
     },
     "output_type": "display_data"
    }
   ],
   "source": [
    "# Create figure.\n",
    "plt.figure(figsize = (10,7))\n",
    "\n",
    "# Create threshold values.\n",
    "thresholds = np.linspace(0, 1, 200)\n",
    "\n",
    "# Define function to calculate sensitivity. (True positive rate.)\n",
    "def TPR(df, true_col, pred_prob_col, threshold):\n",
    "    true_positive = df[(df[true_col] == 1) & (df[pred_prob_col] >= threshold)].shape[0]\n",
    "    false_negative = df[(df[true_col] == 1) & (df[pred_prob_col] < threshold)].shape[0]\n",
    "    return true_positive / (true_positive + false_negative)\n",
    "    \n",
    "\n",
    "# Define function to calculate 1 - specificity. (False positive rate.)\n",
    "def FPR(df, true_col, pred_prob_col, threshold):\n",
    "    true_negative = df[(df[true_col] == 0) & (df[pred_prob_col] <= threshold)].shape[0]\n",
    "    false_positive = df[(df[true_col] == 0) & (df[pred_prob_col] > threshold)].shape[0]\n",
    "    return 1 - (true_negative / (true_negative + false_positive))\n",
    "    \n",
    "# Calculate sensitivity & 1-specificity for each threshold between 0 and 1.\n",
    "tpr_values = [TPR(pred_df, 'true_values', 'pred_probs', prob) for prob in thresholds]\n",
    "fpr_values = [FPR(pred_df, 'true_values', 'pred_probs', prob) for prob in thresholds]\n",
    "\n",
    "# Plot ROC curve.\n",
    "plt.plot(fpr_values, # False Positive Rate on X-axis\n",
    "         tpr_values, # True Positive Rate on Y-axis\n",
    "         label='ROC Curve')\n",
    "\n",
    "# Plot baseline. (Perfect overlap between the two populations.)\n",
    "plt.plot(np.linspace(0, 1, 200),\n",
    "         np.linspace(0, 1, 200),\n",
    "         label='baseline',\n",
    "         linestyle='--')\n",
    "\n",
    "# Label axes.\n",
    "plt.title('Receiver Operating Characteristic Curve', fontsize=22)\n",
    "plt.ylabel('Sensitivity', fontsize=18)\n",
    "plt.xlabel('1 - Specificity', fontsize=18)\n",
    "\n",
    "# Create legend.\n",
    "plt.legend(fontsize=16);"
   ]
  },
  {
   "cell_type": "code",
   "execution_count": 25,
   "metadata": {},
   "outputs": [],
   "source": [
    "from sklearn.metrics import roc_auc_score\n",
    "from sklearn.model_selection import GridSearchCV"
   ]
  },
  {
   "cell_type": "code",
   "execution_count": 26,
   "metadata": {},
   "outputs": [
    {
     "data": {
      "text/plain": [
       "0.843610664002516"
      ]
     },
     "execution_count": 26,
     "metadata": {},
     "output_type": "execute_result"
    }
   ],
   "source": [
    "roc_auc_score(pred_df['true_values'], pred_df['pred_probs'])"
   ]
  },
  {
   "cell_type": "code",
   "execution_count": 27,
   "metadata": {},
   "outputs": [],
   "source": [
    "# pd.DataFrame(lr.coef_.T,X_train.columns).sort_values(by=0,ascending=False)"
   ]
  },
  {
   "cell_type": "code",
   "execution_count": 28,
   "metadata": {},
   "outputs": [
    {
     "name": "stderr",
     "output_type": "stream",
     "text": [
      "Using TensorFlow backend.\n"
     ]
    }
   ],
   "source": [
    "from imblearn.over_sampling import SMOTE"
   ]
  },
  {
   "cell_type": "code",
   "execution_count": 29,
   "metadata": {},
   "outputs": [],
   "source": [
    "smt = SMOTE()"
   ]
  },
  {
   "cell_type": "code",
   "execution_count": 30,
   "metadata": {},
   "outputs": [],
   "source": [
    "X_train_bal,y_train_bal = smt.fit_sample(X_train,y_train)"
   ]
  },
  {
   "cell_type": "code",
   "execution_count": 31,
   "metadata": {},
   "outputs": [],
   "source": [
    "lrsmt = LogisticRegression()"
   ]
  },
  {
   "cell_type": "code",
   "execution_count": 103,
   "metadata": {},
   "outputs": [],
   "source": [
    "# #Did a couple run throughs to tune parameters, what's shown is the most recent run through\n",
    "# params = {\n",
    "#     'C':[50,75,100,150,200,300,400]\n",
    "# }\n",
    "# gsLR = GridSearchCV(lrsmt, param_grid=params, cv=5,verbose=1,n_jobs=2)\n",
    "# gsLR.fit(X_train_bal, y_train_bal)\n",
    "# print(gsLR.best_score_)\n",
    "# gsLR.best_params_"
   ]
  },
  {
   "cell_type": "code",
   "execution_count": 32,
   "metadata": {},
   "outputs": [
    {
     "name": "stderr",
     "output_type": "stream",
     "text": [
      "/Users/yichenh/anaconda3/lib/python3.7/site-packages/sklearn/linear_model/logistic.py:432: FutureWarning: Default solver will be changed to 'lbfgs' in 0.22. Specify a solver to silence this warning.\n",
      "  FutureWarning)\n"
     ]
    },
    {
     "data": {
      "text/plain": [
       "LogisticRegression(C=1.0, class_weight=None, dual=False, fit_intercept=True,\n",
       "                   intercept_scaling=1, l1_ratio=None, max_iter=100,\n",
       "                   multi_class='warn', n_jobs=None, penalty='l2',\n",
       "                   random_state=None, solver='warn', tol=0.0001, verbose=0,\n",
       "                   warm_start=False)"
      ]
     },
     "execution_count": 32,
     "metadata": {},
     "output_type": "execute_result"
    }
   ],
   "source": [
    "lrsmt.fit(X_train_bal,y_train_bal)"
   ]
  },
  {
   "cell_type": "code",
   "execution_count": 105,
   "metadata": {},
   "outputs": [],
   "source": [
    "# gsLR.score(X_train_bal,y_train_bal)"
   ]
  },
  {
   "cell_type": "code",
   "execution_count": 106,
   "metadata": {},
   "outputs": [],
   "source": [
    "# gsLR.score(X_test,y_test)"
   ]
  },
  {
   "cell_type": "code",
   "execution_count": 33,
   "metadata": {},
   "outputs": [
    {
     "data": {
      "text/plain": [
       "0.9234615384615384"
      ]
     },
     "execution_count": 33,
     "metadata": {},
     "output_type": "execute_result"
    }
   ],
   "source": [
    "lrsmt.score(X_train_bal,y_train_bal)"
   ]
  },
  {
   "cell_type": "code",
   "execution_count": 34,
   "metadata": {},
   "outputs": [
    {
     "data": {
      "text/plain": [
       "0.8175182481751825"
      ]
     },
     "execution_count": 34,
     "metadata": {},
     "output_type": "execute_result"
    }
   ],
   "source": [
    "lrsmt.score(X_test,y_test)"
   ]
  },
  {
   "cell_type": "code",
   "execution_count": 35,
   "metadata": {},
   "outputs": [
    {
     "data": {
      "text/plain": [
       "array([[363,  56],\n",
       "       [ 44,  85]])"
      ]
     },
     "execution_count": 35,
     "metadata": {},
     "output_type": "execute_result"
    }
   ],
   "source": [
    "confusion_matrix(y_test,lrsmt.predict(X_test))"
   ]
  },
  {
   "cell_type": "code",
   "execution_count": 36,
   "metadata": {},
   "outputs": [],
   "source": [
    "pred_proba = [i[1] for i in lrsmt.predict_proba(X_test)]\n",
    "\n",
    "pred_df = pd.DataFrame({'true_values': y_test,\n",
    "                        'pred_probs':pred_proba})"
   ]
  },
  {
   "cell_type": "code",
   "execution_count": 37,
   "metadata": {},
   "outputs": [
    {
     "data": {
      "image/png": "[encoded data removed]",
      "text/plain": [
       "<Figure size 720x504 with 1 Axes>"
      ]
     },
     "metadata": {
      "needs_background": "light"
     },
     "output_type": "display_data"
    }
   ],
   "source": [
    "# Create figure.\n",
    "plt.figure(figsize = (10,7))\n",
    "\n",
    "# Create threshold values.\n",
    "thresholds = np.linspace(0, 1, 200)\n",
    "\n",
    "# Define function to calculate sensitivity. (True positive rate.)\n",
    "def TPR(df, true_col, pred_prob_col, threshold):\n",
    "    true_positive = df[(df[true_col] == 1) & (df[pred_prob_col] >= threshold)].shape[0]\n",
    "    false_negative = df[(df[true_col] == 1) & (df[pred_prob_col] < threshold)].shape[0]\n",
    "    return true_positive / (true_positive + false_negative)\n",
    "    \n",
    "\n",
    "# Define function to calculate 1 - specificity. (False positive rate.)\n",
    "def FPR(df, true_col, pred_prob_col, threshold):\n",
    "    true_negative = df[(df[true_col] == 0) & (df[pred_prob_col] <= threshold)].shape[0]\n",
    "    false_positive = df[(df[true_col] == 0) & (df[pred_prob_col] > threshold)].shape[0]\n",
    "    return 1 - (true_negative / (true_negative + false_positive))\n",
    "    \n",
    "# Calculate sensitivity & 1-specificity for each threshold between 0 and 1.\n",
    "tpr_values = [TPR(pred_df, 'true_values', 'pred_probs', prob) for prob in thresholds]\n",
    "fpr_values = [FPR(pred_df, 'true_values', 'pred_probs', prob) for prob in thresholds]\n",
    "\n",
    "# Plot ROC curve.\n",
    "plt.plot(fpr_values, # False Positive Rate on X-axis\n",
    "         tpr_values, # True Positive Rate on Y-axis\n",
    "         label='ROC Curve')\n",
    "\n",
    "# Plot baseline. (Perfect overlap between the two populations.)\n",
    "plt.plot(np.linspace(0, 1, 200),\n",
    "         np.linspace(0, 1, 200),\n",
    "         label='baseline',\n",
    "         linestyle='--')\n",
    "\n",
    "# plt.axhline(y=.72, color='k', linestyle='--')\n",
    "# plt.axvline(x=.18, color='k', linestyle='--')\n",
    "\n",
    "\n",
    "# Label axes.\n",
    "plt.title('Receiver Operating Characteristic Curve', fontsize=22)\n",
    "plt.ylabel('Sensitivity', fontsize=18)\n",
    "plt.xlabel('1 - Specificity', fontsize=18)\n",
    "\n",
    "\n",
    "# Create legend.\n",
    "plt.legend(fontsize=16);"
   ]
  },
  {
   "cell_type": "code",
   "execution_count": 38,
   "metadata": {},
   "outputs": [
    {
     "data": {
      "text/plain": [
       "0.8425746054652088"
      ]
     },
     "execution_count": 38,
     "metadata": {},
     "output_type": "execute_result"
    }
   ],
   "source": [
    "roc_auc_score(pred_df['true_values'], pred_df['pred_probs'])"
   ]
  },
  {
   "cell_type": "code",
   "execution_count": 39,
   "metadata": {},
   "outputs": [
    {
     "data": {
      "text/html": [
       "<div>\n",
       "<style scoped>\n",
       "    .dataframe tbody tr th:only-of-type {\n",
       "        vertical-align: middle;\n",
       "    }\n",
       "\n",
       "    .dataframe tbody tr th {\n",
       "        vertical-align: top;\n",
       "    }\n",
       "\n",
       "    .dataframe thead th {\n",
       "        text-align: right;\n",
       "    }\n",
       "</style>\n",
       "<table border=\"1\" class=\"dataframe\">\n",
       "  <thead>\n",
       "    <tr style=\"text-align: right;\">\n",
       "      <th></th>\n",
       "      <th>0</th>\n",
       "    </tr>\n",
       "  </thead>\n",
       "  <tbody>\n",
       "    <tr>\n",
       "      <th>ubi</th>\n",
       "      <td>5.831836</td>\n",
       "    </tr>\n",
       "    <tr>\n",
       "      <th>autom</th>\n",
       "      <td>3.640308</td>\n",
       "    </tr>\n",
       "    <tr>\n",
       "      <th>BasicIncome</th>\n",
       "      <td>3.141284</td>\n",
       "    </tr>\n",
       "    <tr>\n",
       "      <th>welfar</th>\n",
       "      <td>2.637138</td>\n",
       "    </tr>\n",
       "    <tr>\n",
       "      <th>aznidentity</th>\n",
       "      <td>2.625691</td>\n",
       "    </tr>\n",
       "    <tr>\n",
       "      <th>debat</th>\n",
       "      <td>2.219197</td>\n",
       "    </tr>\n",
       "    <tr>\n",
       "      <th>samharris</th>\n",
       "      <td>2.060425</td>\n",
       "    </tr>\n",
       "    <tr>\n",
       "      <th>crypto_comb</th>\n",
       "      <td>1.978370</td>\n",
       "    </tr>\n",
       "    <tr>\n",
       "      <th>busi</th>\n",
       "      <td>1.896554</td>\n",
       "    </tr>\n",
       "    <tr>\n",
       "      <th>freedom</th>\n",
       "      <td>1.893096</td>\n",
       "    </tr>\n",
       "    <tr>\n",
       "      <th>job</th>\n",
       "      <td>1.866600</td>\n",
       "    </tr>\n",
       "    <tr>\n",
       "      <th>solut</th>\n",
       "      <td>1.821834</td>\n",
       "    </tr>\n",
       "    <tr>\n",
       "      <th>help</th>\n",
       "      <td>1.740371</td>\n",
       "    </tr>\n",
       "    <tr>\n",
       "      <th>Libertarian</th>\n",
       "      <td>1.583884</td>\n",
       "    </tr>\n",
       "    <tr>\n",
       "      <th>also</th>\n",
       "      <td>1.487581</td>\n",
       "    </tr>\n",
       "    <tr>\n",
       "      <th>Futurology</th>\n",
       "      <td>1.479011</td>\n",
       "    </tr>\n",
       "    <tr>\n",
       "      <th>program</th>\n",
       "      <td>1.461457</td>\n",
       "    </tr>\n",
       "    <tr>\n",
       "      <th>current</th>\n",
       "      <td>1.410568</td>\n",
       "    </tr>\n",
       "    <tr>\n",
       "      <th>propos</th>\n",
       "      <td>1.369930</td>\n",
       "    </tr>\n",
       "    <tr>\n",
       "      <th>gaming_comb</th>\n",
       "      <td>1.337472</td>\n",
       "    </tr>\n",
       "    <tr>\n",
       "      <th>person</th>\n",
       "      <td>1.322379</td>\n",
       "    </tr>\n",
       "    <tr>\n",
       "      <th>ill</th>\n",
       "      <td>1.311879</td>\n",
       "    </tr>\n",
       "    <tr>\n",
       "      <th>JoeRogan</th>\n",
       "      <td>1.308119</td>\n",
       "    </tr>\n",
       "    <tr>\n",
       "      <th>qualifi</th>\n",
       "      <td>1.297607</td>\n",
       "    </tr>\n",
       "    <tr>\n",
       "      <th>Android</th>\n",
       "      <td>1.288111</td>\n",
       "    </tr>\n",
       "    <tr>\n",
       "      <th>polici</th>\n",
       "      <td>1.275262</td>\n",
       "    </tr>\n",
       "    <tr>\n",
       "      <th>experi</th>\n",
       "      <td>1.232776</td>\n",
       "    </tr>\n",
       "    <tr>\n",
       "      <th>total</th>\n",
       "      <td>1.230795</td>\n",
       "    </tr>\n",
       "    <tr>\n",
       "      <th>seem</th>\n",
       "      <td>1.224869</td>\n",
       "    </tr>\n",
       "    <tr>\n",
       "      <th>shit</th>\n",
       "      <td>1.216637</td>\n",
       "    </tr>\n",
       "    <tr>\n",
       "      <th>...</th>\n",
       "      <td>...</td>\n",
       "    </tr>\n",
       "    <tr>\n",
       "      <th>presid</th>\n",
       "      <td>-1.181231</td>\n",
       "    </tr>\n",
       "    <tr>\n",
       "      <th>senat</th>\n",
       "      <td>-1.181946</td>\n",
       "    </tr>\n",
       "    <tr>\n",
       "      <th>south</th>\n",
       "      <td>-1.201875</td>\n",
       "    </tr>\n",
       "    <tr>\n",
       "      <th>rupaulsdragrace</th>\n",
       "      <td>-1.213447</td>\n",
       "    </tr>\n",
       "    <tr>\n",
       "      <th>sinc</th>\n",
       "      <td>-1.229405</td>\n",
       "    </tr>\n",
       "    <tr>\n",
       "      <th>offic</th>\n",
       "      <td>-1.237326</td>\n",
       "    </tr>\n",
       "    <tr>\n",
       "      <th>didnt</th>\n",
       "      <td>-1.238066</td>\n",
       "    </tr>\n",
       "    <tr>\n",
       "      <th>histori</th>\n",
       "      <td>-1.246649</td>\n",
       "    </tr>\n",
       "    <tr>\n",
       "      <th>fuck</th>\n",
       "      <td>-1.247789</td>\n",
       "    </tr>\n",
       "    <tr>\n",
       "      <th>thank</th>\n",
       "      <td>-1.249785</td>\n",
       "    </tr>\n",
       "    <tr>\n",
       "      <th>headlin</th>\n",
       "      <td>-1.288195</td>\n",
       "    </tr>\n",
       "    <tr>\n",
       "      <th>progress</th>\n",
       "      <td>-1.310887</td>\n",
       "    </tr>\n",
       "    <tr>\n",
       "      <th>often</th>\n",
       "      <td>-1.314973</td>\n",
       "    </tr>\n",
       "    <tr>\n",
       "      <th>tell</th>\n",
       "      <td>-1.319708</td>\n",
       "    </tr>\n",
       "    <tr>\n",
       "      <th>republican</th>\n",
       "      <td>-1.368306</td>\n",
       "    </tr>\n",
       "    <tr>\n",
       "      <th>isnt</th>\n",
       "      <td>-1.425297</td>\n",
       "    </tr>\n",
       "    <tr>\n",
       "      <th>hillari</th>\n",
       "      <td>-1.450848</td>\n",
       "    </tr>\n",
       "    <tr>\n",
       "      <th>hockey</th>\n",
       "      <td>-1.482678</td>\n",
       "    </tr>\n",
       "    <tr>\n",
       "      <th>TwoXChromosomes</th>\n",
       "      <td>-1.489568</td>\n",
       "    </tr>\n",
       "    <tr>\n",
       "      <th>cars</th>\n",
       "      <td>-1.509488</td>\n",
       "    </tr>\n",
       "    <tr>\n",
       "      <th>mayor</th>\n",
       "      <td>-1.528855</td>\n",
       "    </tr>\n",
       "    <tr>\n",
       "      <th>noth</th>\n",
       "      <td>-1.532424</td>\n",
       "    </tr>\n",
       "    <tr>\n",
       "      <th>dem</th>\n",
       "      <td>-1.559213</td>\n",
       "    </tr>\n",
       "    <tr>\n",
       "      <th>liberalgunowners</th>\n",
       "      <td>-1.575608</td>\n",
       "    </tr>\n",
       "    <tr>\n",
       "      <th>Fitness</th>\n",
       "      <td>-1.617235</td>\n",
       "    </tr>\n",
       "    <tr>\n",
       "      <th>win</th>\n",
       "      <td>-1.638638</td>\n",
       "    </tr>\n",
       "    <tr>\n",
       "      <th>hous</th>\n",
       "      <td>-1.721594</td>\n",
       "    </tr>\n",
       "    <tr>\n",
       "      <th>day</th>\n",
       "      <td>-1.787049</td>\n",
       "    </tr>\n",
       "    <tr>\n",
       "      <th>primari</th>\n",
       "      <td>-1.803923</td>\n",
       "    </tr>\n",
       "    <tr>\n",
       "      <th>democrat</th>\n",
       "      <td>-1.829068</td>\n",
       "    </tr>\n",
       "  </tbody>\n",
       "</table>\n",
       "<p>1054 rows × 1 columns</p>\n",
       "</div>"
      ],
      "text/plain": [
       "                         0\n",
       "ubi               5.831836\n",
       "autom             3.640308\n",
       "BasicIncome       3.141284\n",
       "welfar            2.637138\n",
       "aznidentity       2.625691\n",
       "debat             2.219197\n",
       "samharris         2.060425\n",
       "crypto_comb       1.978370\n",
       "busi              1.896554\n",
       "freedom           1.893096\n",
       "job               1.866600\n",
       "solut             1.821834\n",
       "help              1.740371\n",
       "Libertarian       1.583884\n",
       "also              1.487581\n",
       "Futurology        1.479011\n",
       "program           1.461457\n",
       "current           1.410568\n",
       "propos            1.369930\n",
       "gaming_comb       1.337472\n",
       "person            1.322379\n",
       "ill               1.311879\n",
       "JoeRogan          1.308119\n",
       "qualifi           1.297607\n",
       "Android           1.288111\n",
       "polici            1.275262\n",
       "experi            1.232776\n",
       "total             1.230795\n",
       "seem              1.224869\n",
       "shit              1.216637\n",
       "...                    ...\n",
       "presid           -1.181231\n",
       "senat            -1.181946\n",
       "south            -1.201875\n",
       "rupaulsdragrace  -1.213447\n",
       "sinc             -1.229405\n",
       "offic            -1.237326\n",
       "didnt            -1.238066\n",
       "histori          -1.246649\n",
       "fuck             -1.247789\n",
       "thank            -1.249785\n",
       "headlin          -1.288195\n",
       "progress         -1.310887\n",
       "often            -1.314973\n",
       "tell             -1.319708\n",
       "republican       -1.368306\n",
       "isnt             -1.425297\n",
       "hillari          -1.450848\n",
       "hockey           -1.482678\n",
       "TwoXChromosomes  -1.489568\n",
       "cars             -1.509488\n",
       "mayor            -1.528855\n",
       "noth             -1.532424\n",
       "dem              -1.559213\n",
       "liberalgunowners -1.575608\n",
       "Fitness          -1.617235\n",
       "win              -1.638638\n",
       "hous             -1.721594\n",
       "day              -1.787049\n",
       "primari          -1.803923\n",
       "democrat         -1.829068\n",
       "\n",
       "[1054 rows x 1 columns]"
      ]
     },
     "execution_count": 39,
     "metadata": {},
     "output_type": "execute_result"
    }
   ],
   "source": [
    "pd.DataFrame(lrsmt.coef_.T,X_train.columns).sort_values(by=0,ascending=False)"
   ]
  },
  {
   "cell_type": "code",
   "execution_count": null,
   "metadata": {},
   "outputs": [],
   "source": []
  }
 ],
 "metadata": {
  "kernelspec": {
   "display_name": "Python 3",
   "language": "python",
   "name": "python3"
  },
  "language_info": {
   "codemirror_mode": {
    "name": "ipython",
    "version": 3
   },
   "file_extension": ".py",
   "mimetype": "text/x-python",
   "name": "python",
   "nbconvert_exporter": "python",
   "pygments_lexer": "ipython3",
   "version": "3.7.3"
  }
 },
 "nbformat": 4,
 "nbformat_minor": 2
}
