{
 "cells": [
  {
   "cell_type": "code",
   "execution_count": 1,
   "metadata": {},
   "outputs": [],
   "source": [
    "import praw\n",
    "import json\n",
    "import time\n",
    "import pandas as pd\n",
    "import sys"
   ]
  },
  {
   "cell_type": "code",
   "execution_count": 2,
   "metadata": {},
   "outputs": [],
   "source": [
    "json_file = open('Reddit_creds.json')\n",
    "json_str = json_file.read()\n",
    "json_data = json.loads(json_str)"
   ]
  },
  {
   "cell_type": "code",
   "execution_count": 3,
   "metadata": {},
   "outputs": [],
   "source": [
    "reddit = praw.Reddit(user_agent=json_data['user_agent'],\n",
    "                     client_id=json_data['client_id'], client_secret=json_data['client_secret'])"
   ]
  },
  {
   "cell_type": "code",
   "execution_count": 4,
   "metadata": {},
   "outputs": [],
   "source": [
    "yang_sub = reddit.subreddit('YangForPresidentHQ')"
   ]
  },
  {
   "cell_type": "code",
   "execution_count": 5,
   "metadata": {},
   "outputs": [
    {
     "data": {
      "text/plain": [
       "False"
      ]
     },
     "execution_count": 5,
     "metadata": {},
     "output_type": "execute_result"
    }
   ],
   "source": [
    "yang_sub.over18"
   ]
  },
  {
   "cell_type": "code",
   "execution_count": 6,
   "metadata": {},
   "outputs": [
    {
     "data": {
      "text/plain": [
       "'Grassroots subreddit for 2020 Democratic Candidate for President, Andrew Yang, the first presidential candidate for a Universal Basic Income.  \\n\\nPutting #HumanityFirst\\nwww.yang2020.com'"
      ]
     },
     "execution_count": 6,
     "metadata": {},
     "output_type": "execute_result"
    }
   ],
   "source": [
    "yang_sub.public_description"
   ]
  },
  {
   "cell_type": "code",
   "execution_count": 7,
   "metadata": {},
   "outputs": [
    {
     "data": {
      "text/plain": [
       "Redditor(name='ocelot577')"
      ]
     },
     "execution_count": 7,
     "metadata": {},
     "output_type": "execute_result"
    }
   ],
   "source": [
    "reddit.redditor('ocelot577')"
   ]
  },
  {
   "cell_type": "code",
   "execution_count": 8,
   "metadata": {},
   "outputs": [],
   "source": [
    "users = ['ocelot577']"
   ]
  },
  {
   "cell_type": "code",
   "execution_count": 26,
   "metadata": {},
   "outputs": [],
   "source": [
    "users = ['ocelot577','academyman2']"
   ]
  },
  {
   "cell_type": "code",
   "execution_count": 28,
   "metadata": {},
   "outputs": [
    {
     "name": "stdout",
     "output_type": "stream",
     "text": [
      "Nvm, tried twice more and finally got it...\n",
      "Was there too, the number of shield baits you got off acid spray was incredible.\n",
      "Umm, not sure if this is the one you're looking for. The plot points you asked for are all there but they're more of a subplot and rather separate from the main plot.\n",
      "\n",
      "linkffn(4493073)\n",
      "\n",
      "Thanks for doing this!\n",
      "\n",
      "I'm 0/19 right now\n",
      "Pokémon Go\n",
      "1. Yes\n",
      "2. Not sure, probably \n",
      "3. Aug 7, 2017 (only time I’ve raided here)\n",
      "4. Bronze\n",
      "5. 50 normal, 106 legendary \n",
      "6. 35\n",
      "7. One\n",
      "\n"
     ]
    }
   ],
   "source": [
    "\n",
    "for user in users:          \n",
    "    try:\n",
    "        for comment in reddit.redditor(user).comments.new(limit=1000):\n",
    "            print(comment.body)            \n",
    "    except:\n",
    "        pass\n"
   ]
  },
  {
   "cell_type": "code",
   "execution_count": 12,
   "metadata": {},
   "outputs": [
    {
     "data": {
      "text/plain": [
       "\"WELCOME TO /r/TIFU! \\n\\nToday I Fucked Up is a community for the dumbass in all of us. We all have those moments where we do something ridiculously stupid. Let us make each other feel better about ourselves. Come and check it out!\\n\\nWhy you should join us: It's funny, interesting, cringe-worthy, laugh-causing, smile-inducing, feel-good, ridiculous, humor, humorous, humerus, stupid, cool, awesome, but mostly because it's the best community on reddit.\""
      ]
     },
     "execution_count": 12,
     "metadata": {},
     "output_type": "execute_result"
    }
   ],
   "source": [
    "reddit.subreddit('tifu').public_description"
   ]
  },
  {
   "cell_type": "code",
   "execution_count": 9,
   "metadata": {},
   "outputs": [
    {
     "data": {
      "text/plain": [
       "'/r/Politics is for news and discussion about U.S. politics.'"
      ]
     },
     "execution_count": 9,
     "metadata": {},
     "output_type": "execute_result"
    }
   ],
   "source": [
    "politics.public_description"
   ]
  },
  {
   "cell_type": "code",
   "execution_count": 7,
   "metadata": {},
   "outputs": [],
   "source": [
    "df = pd.read_csv('reddit_test.csv')"
   ]
  },
  {
   "cell_type": "code",
   "execution_count": 8,
   "metadata": {},
   "outputs": [
    {
     "data": {
      "text/html": [
       "<div>\n",
       "<style scoped>\n",
       "    .dataframe tbody tr th:only-of-type {\n",
       "        vertical-align: middle;\n",
       "    }\n",
       "\n",
       "    .dataframe tbody tr th {\n",
       "        vertical-align: top;\n",
       "    }\n",
       "\n",
       "    .dataframe thead th {\n",
       "        text-align: right;\n",
       "    }\n",
       "</style>\n",
       "<table border=\"1\" class=\"dataframe\">\n",
       "  <thead>\n",
       "    <tr style=\"text-align: right;\">\n",
       "      <th></th>\n",
       "      <th>Comment Text</th>\n",
       "      <th>Author</th>\n",
       "      <th>Subreddit</th>\n",
       "      <th>Post ID</th>\n",
       "    </tr>\n",
       "  </thead>\n",
       "  <tbody>\n",
       "    <tr>\n",
       "      <th>0</th>\n",
       "      <td>I think it’s about time we don’t run away from...</td>\n",
       "      <td>happy-gofuckyourself</td>\n",
       "      <td>Pete_Buttigieg</td>\n",
       "      <td>ew5atrk</td>\n",
       "    </tr>\n",
       "    <tr>\n",
       "      <th>1</th>\n",
       "      <td>I misread the ‘for’ as ‘by’ and thought they w...</td>\n",
       "      <td>happy-gofuckyourself</td>\n",
       "      <td>news</td>\n",
       "      <td>ew585oz</td>\n",
       "    </tr>\n",
       "    <tr>\n",
       "      <th>2</th>\n",
       "      <td>No one wants to follow someone once you know t...</td>\n",
       "      <td>happy-gofuckyourself</td>\n",
       "      <td>unpopularopinion</td>\n",
       "      <td>ew4tq5n</td>\n",
       "    </tr>\n",
       "    <tr>\n",
       "      <th>3</th>\n",
       "      <td>Now we have copycats, because they are kind of...</td>\n",
       "      <td>happy-gofuckyourself</td>\n",
       "      <td>unpopularopinion</td>\n",
       "      <td>ew4to8t</td>\n",
       "    </tr>\n",
       "    <tr>\n",
       "      <th>4</th>\n",
       "      <td>Which one?</td>\n",
       "      <td>happy-gofuckyourself</td>\n",
       "      <td>Pete_Buttigieg</td>\n",
       "      <td>ew4tkfr</td>\n",
       "    </tr>\n",
       "  </tbody>\n",
       "</table>\n",
       "</div>"
      ],
      "text/plain": [
       "                                        Comment Text                Author  \\\n",
       "0  I think it’s about time we don’t run away from...  happy-gofuckyourself   \n",
       "1  I misread the ‘for’ as ‘by’ and thought they w...  happy-gofuckyourself   \n",
       "2  No one wants to follow someone once you know t...  happy-gofuckyourself   \n",
       "3  Now we have copycats, because they are kind of...  happy-gofuckyourself   \n",
       "4                                         Which one?  happy-gofuckyourself   \n",
       "\n",
       "          Subreddit  Post ID  \n",
       "0    Pete_Buttigieg  ew5atrk  \n",
       "1              news  ew585oz  \n",
       "2  unpopularopinion  ew4tq5n  \n",
       "3  unpopularopinion  ew4to8t  \n",
       "4    Pete_Buttigieg  ew4tkfr  "
      ]
     },
     "execution_count": 8,
     "metadata": {},
     "output_type": "execute_result"
    }
   ],
   "source": [
    "df.head()"
   ]
  },
  {
   "cell_type": "code",
   "execution_count": 26,
   "metadata": {},
   "outputs": [],
   "source": [
    "# df[df.duplicated(subset='Post ID')].sort_values(by='Post ID')"
   ]
  },
  {
   "cell_type": "code",
   "execution_count": 27,
   "metadata": {},
   "outputs": [],
   "source": [
    "# df[df['Post ID']=='evu6qza']"
   ]
  },
  {
   "cell_type": "code",
   "execution_count": 28,
   "metadata": {},
   "outputs": [],
   "source": [
    "df.drop_duplicates(subset='Post ID',inplace=True)"
   ]
  },
  {
   "cell_type": "code",
   "execution_count": 29,
   "metadata": {},
   "outputs": [
    {
     "data": {
      "text/plain": [
       "(51905, 4)"
      ]
     },
     "execution_count": 29,
     "metadata": {},
     "output_type": "execute_result"
    }
   ],
   "source": [
    "df.shape"
   ]
  },
  {
   "cell_type": "code",
   "execution_count": 32,
   "metadata": {},
   "outputs": [],
   "source": [
    "df = df.drop(labels=['Comment Text'],axis=1)"
   ]
  },
  {
   "cell_type": "code",
   "execution_count": 48,
   "metadata": {},
   "outputs": [
    {
     "data": {
      "text/plain": [
       "['politics',\n",
       " 'YangForPresidentHQ',\n",
       " 'SandersForPresident',\n",
       " 'AskReddit',\n",
       " 'Pete_Buttigieg',\n",
       " 'teenagers',\n",
       " 'CanadaPolitics',\n",
       " 'nba',\n",
       " 'exmormon',\n",
       " 'redsox']"
      ]
     },
     "execution_count": 48,
     "metadata": {},
     "output_type": "execute_result"
    }
   ],
   "source": [
    "list(df['Subreddit'].value_counts().head(10).index)"
   ]
  },
  {
   "cell_type": "code",
   "execution_count": 49,
   "metadata": {},
   "outputs": [],
   "source": [
    "subs = ['politics',\n",
    " 'YangForPresidentHQ',\n",
    " 'SandersForPresident',\n",
    " 'AskReddit',\n",
    " 'Pete_Buttigieg',\n",
    " 'teenagers',\n",
    " 'CanadaPolitics',\n",
    " 'nba',\n",
    " 'exmormon',\n",
    " 'redsox']"
   ]
  },
  {
   "cell_type": "code",
   "execution_count": 47,
   "metadata": {},
   "outputs": [
    {
     "data": {
      "text/plain": [
       "Author       happy-gofuckyourself\n",
       "Subreddit          Pete_Buttigieg\n",
       "Post ID                   ew5atrk\n",
       "Name: 0, dtype: object"
      ]
     },
     "execution_count": 47,
     "metadata": {},
     "output_type": "execute_result"
    }
   ],
   "source": [
    "df.loc[0]"
   ]
  },
  {
   "cell_type": "code",
   "execution_count": 46,
   "metadata": {},
   "outputs": [],
   "source": [
    "du = {}"
   ]
  },
  {
   "cell_type": "code",
   "execution_count": 45,
   "metadata": {},
   "outputs": [
    {
     "ename": "SyntaxError",
     "evalue": "invalid syntax (<ipython-input-45-b191181204b0>, line 3)",
     "output_type": "error",
     "traceback": [
      "\u001b[0;36m  File \u001b[0;32m\"<ipython-input-45-b191181204b0>\"\u001b[0;36m, line \u001b[0;32m3\u001b[0m\n\u001b[0;31m    if du.get('Author')\u001b[0m\n\u001b[0m                       ^\u001b[0m\n\u001b[0;31mSyntaxError\u001b[0m\u001b[0;31m:\u001b[0m invalid syntax\n"
     ]
    }
   ],
   "source": [
    "\n",
    "for i in range(len(df)):\n",
    "    if du.get(df.loc[i,'Author'],'None') == None:\n",
    "        idu = {}\n",
    "        idu[df.loc[i,'Subreddit']] = 1\n",
    "        du[df.loc[i,'Author']]=idu\n",
    "    else:\n",
    "        if du[df.loc[i,'Author']]"
   ]
  },
  {
   "cell_type": "code",
   "execution_count": 44,
   "metadata": {},
   "outputs": [
    {
     "data": {
      "text/plain": [
       "51905"
      ]
     },
     "execution_count": 44,
     "metadata": {},
     "output_type": "execute_result"
    }
   ],
   "source": [
    "subs = ['politics',\n",
    " 'YangForPresidentHQ',\n",
    " 'SandersForPresident',\n",
    " 'AskReddit',\n",
    " 'Pete_Buttigieg',\n",
    " 'teenagers',\n",
    " 'CanadaPolitics',\n",
    " 'nba',\n",
    " 'exmormon',\n",
    " 'redsox']\n",
    "\n",
    "outer_dict = {}\n",
    "for user in short_list:\n",
    "    dict_sub = {}\n",
    "    for comment in user.comments.new(limit=1000):\n",
    "        if comment.subreddit.display_name in subs:\n",
    "            if dict_sub.get(comment.subreddit.display_name,0) == 0:\n",
    "                dict_sub[comment.subreddit.display_name] = 1\n",
    "            else:\n",
    "                dict_sub[comment.subreddit.display_name] += 1\n",
    "    outer_dict[user] = dict_sub\n",
    "    print(f'finished {user}')\n"
   ]
  },
  {
   "cell_type": "code",
   "execution_count": null,
   "metadata": {},
   "outputs": [],
   "source": []
  },
  {
   "cell_type": "code",
   "execution_count": null,
   "metadata": {},
   "outputs": [],
   "source": []
  },
  {
   "cell_type": "code",
   "execution_count": null,
   "metadata": {},
   "outputs": [],
   "source": []
  },
  {
   "cell_type": "code",
   "execution_count": 17,
   "metadata": {},
   "outputs": [
    {
     "data": {
      "text/plain": [
       "YangForPresidentHQ     27968\n",
       "politics                6416\n",
       "AskReddit               5954\n",
       "worldnews               1817\n",
       "nfl                     1653\n",
       "unpopularopinion        1310\n",
       "nba                     1284\n",
       "teenagers               1248\n",
       "news                    1187\n",
       "funny                   1143\n",
       "wallstreetbets          1113\n",
       "SandersForPresident     1064\n",
       "pics                     961\n",
       "CFB                      913\n",
       "Logic_301                823\n",
       "MMA                      794\n",
       "teslamotors              786\n",
       "videos                   783\n",
       "exmormon                 763\n",
       "fantasyfootball          756\n",
       "Futurology               727\n",
       "freefolk                 726\n",
       "smashbros                723\n",
       "TheLastAirbender         716\n",
       "todayilearned            684\n",
       "ApplyingToCollege        676\n",
       "gameofthrones            662\n",
       "stlouisblues             636\n",
       "eos                      628\n",
       "GlobalOffensive          594\n",
       "PoliticalHumor           593\n",
       "marvelstudios            588\n",
       "gaming                   575\n",
       "asoiaf                   573\n",
       "AmItheAsshole            572\n",
       "ethtrader                559\n",
       "memes                    547\n",
       "kings                    539\n",
       "NintendoSwitch           538\n",
       "heroesofthestorm         534\n",
       "BasicIncome              527\n",
       "survivor                 514\n",
       "Showerthoughts           492\n",
       "WorldOfWarships          469\n",
       "writing                  464\n",
       "tennis                   455\n",
       "changemyview             447\n",
       "investing                446\n",
       "Libertarian              440\n",
       "Bitcoin                  429\n",
       "Name: Subreddit, dtype: int64"
      ]
     },
     "execution_count": 17,
     "metadata": {},
     "output_type": "execute_result"
    }
   ],
   "source": [
    "df['Subreddit'].value_counts(ascending=False).head(50)"
   ]
  },
  {
   "cell_type": "code",
   "execution_count": null,
   "metadata": {},
   "outputs": [],
   "source": []
  }
 ],
 "metadata": {
  "kernelspec": {
   "display_name": "Python 3",
   "language": "python",
   "name": "python3"
  },
  "language_info": {
   "codemirror_mode": {
    "name": "ipython",
    "version": 3
   },
   "file_extension": ".py",
   "mimetype": "text/x-python",
   "name": "python",
   "nbconvert_exporter": "python",
   "pygments_lexer": "ipython3",
   "version": "3.7.3"
  }
 },
 "nbformat": 4,
 "nbformat_minor": 2
}
