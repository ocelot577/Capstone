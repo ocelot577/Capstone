{
 "cells": [
  {
   "cell_type": "code",
   "execution_count": 17,
   "metadata": {},
   "outputs": [],
   "source": [
    "import praw\n",
    "import json\n",
    "import time\n",
    "import pandas as pd\n",
    "import sys"
   ]
  },
  {
   "cell_type": "code",
   "execution_count": 18,
   "metadata": {},
   "outputs": [],
   "source": [
    "json_file = open('Reddit_creds.json')\n",
    "json_str = json_file.read()\n",
    "json_data = json.loads(json_str)"
   ]
  },
  {
   "cell_type": "code",
   "execution_count": 19,
   "metadata": {},
   "outputs": [],
   "source": [
    "reddit = praw.Reddit(user_agent=json_data['user_agent'],\n",
    "                     client_id=json_data['client_id'], client_secret=json_data['client_secret'])"
   ]
  },
  {
   "cell_type": "code",
   "execution_count": 20,
   "metadata": {},
   "outputs": [],
   "source": [
    "yang_sub = reddit.subreddit('YangForPresidentHQ')"
   ]
  },
  {
   "cell_type": "code",
   "execution_count": 21,
   "metadata": {},
   "outputs": [
    {
     "data": {
      "text/plain": [
       "False"
      ]
     },
     "execution_count": 21,
     "metadata": {},
     "output_type": "execute_result"
    }
   ],
   "source": [
    "yang_sub.over18"
   ]
  },
  {
   "cell_type": "code",
   "execution_count": 22,
   "metadata": {},
   "outputs": [
    {
     "data": {
      "text/plain": [
       "'Grassroots subreddit for 2020 Democratic Candidate for President, Andrew Yang, the first presidential candidate for a Universal Basic Income.  \\n\\nPutting #HumanityFirst\\nwww.yang2020.com'"
      ]
     },
     "execution_count": 22,
     "metadata": {},
     "output_type": "execute_result"
    }
   ],
   "source": [
    "yang_sub.public_description"
   ]
  },
  {
   "cell_type": "code",
   "execution_count": 24,
   "metadata": {},
   "outputs": [
    {
     "data": {
      "text/plain": [
       "Redditor(name='ocelot577')"
      ]
     },
     "execution_count": 24,
     "metadata": {},
     "output_type": "execute_result"
    }
   ],
   "source": [
    "reddit.redditor('ocelot577')"
   ]
  },
  {
   "cell_type": "code",
   "execution_count": 13,
   "metadata": {},
   "outputs": [],
   "source": [
    "users = ['ocelot577']"
   ]
  },
  {
   "cell_type": "code",
   "execution_count": 26,
   "metadata": {},
   "outputs": [],
   "source": [
    "users = ['ocelot577','academyman2']"
   ]
  },
  {
   "cell_type": "code",
   "execution_count": 28,
   "metadata": {},
   "outputs": [
    {
     "name": "stdout",
     "output_type": "stream",
     "text": [
      "Nvm, tried twice more and finally got it...\n",
      "Was there too, the number of shield baits you got off acid spray was incredible.\n",
      "Umm, not sure if this is the one you're looking for. The plot points you asked for are all there but they're more of a subplot and rather separate from the main plot.\n",
      "\n",
      "linkffn(4493073)\n",
      "\n",
      "Thanks for doing this!\n",
      "\n",
      "I'm 0/19 right now\n",
      "Pokémon Go\n",
      "1. Yes\n",
      "2. Not sure, probably \n",
      "3. Aug 7, 2017 (only time I’ve raided here)\n",
      "4. Bronze\n",
      "5. 50 normal, 106 legendary \n",
      "6. 35\n",
      "7. One\n",
      "\n"
     ]
    }
   ],
   "source": [
    "\n",
    "for user in users:          \n",
    "    try:\n",
    "        for comment in reddit.redditor(user).comments.new(limit=1000):\n",
    "            print(comment.body)            \n",
    "    except:\n",
    "        pass\n"
   ]
  },
  {
   "cell_type": "code",
   "execution_count": 12,
   "metadata": {},
   "outputs": [
    {
     "data": {
      "text/plain": [
       "\"WELCOME TO /r/TIFU! \\n\\nToday I Fucked Up is a community for the dumbass in all of us. We all have those moments where we do something ridiculously stupid. Let us make each other feel better about ourselves. Come and check it out!\\n\\nWhy you should join us: It's funny, interesting, cringe-worthy, laugh-causing, smile-inducing, feel-good, ridiculous, humor, humorous, humerus, stupid, cool, awesome, but mostly because it's the best community on reddit.\""
      ]
     },
     "execution_count": 12,
     "metadata": {},
     "output_type": "execute_result"
    }
   ],
   "source": [
    "reddit.subreddit('tifu').public_description"
   ]
  },
  {
   "cell_type": "code",
   "execution_count": 9,
   "metadata": {},
   "outputs": [
    {
     "data": {
      "text/plain": [
       "'/r/Politics is for news and discussion about U.S. politics.'"
      ]
     },
     "execution_count": 9,
     "metadata": {},
     "output_type": "execute_result"
    }
   ],
   "source": [
    "politics.public_description"
   ]
  },
  {
   "cell_type": "code",
   "execution_count": 13,
   "metadata": {},
   "outputs": [],
   "source": [
    "df = pd.read_csv('reddit_100_2.csv')"
   ]
  },
  {
   "cell_type": "code",
   "execution_count": 29,
   "metadata": {},
   "outputs": [
    {
     "ename": "NameError",
     "evalue": "name 'df' is not defined",
     "output_type": "error",
     "traceback": [
      "\u001b[0;31m---------------------------------------------------------------------------\u001b[0m",
      "\u001b[0;31mNameError\u001b[0m                                 Traceback (most recent call last)",
      "\u001b[0;32m<ipython-input-29-c42a15b2c7cf>\u001b[0m in \u001b[0;36m<module>\u001b[0;34m\u001b[0m\n\u001b[0;32m----> 1\u001b[0;31m \u001b[0mdf\u001b[0m\u001b[0;34m.\u001b[0m\u001b[0mhead\u001b[0m\u001b[0;34m(\u001b[0m\u001b[0;34m)\u001b[0m\u001b[0;34m\u001b[0m\u001b[0;34m\u001b[0m\u001b[0m\n\u001b[0m",
      "\u001b[0;31mNameError\u001b[0m: name 'df' is not defined"
     ]
    }
   ],
   "source": [
    "df.head()"
   ]
  },
  {
   "cell_type": "code",
   "execution_count": 15,
   "metadata": {},
   "outputs": [
    {
     "data": {
      "text/plain": [
       "(55457, 4)"
      ]
     },
     "execution_count": 15,
     "metadata": {},
     "output_type": "execute_result"
    }
   ],
   "source": [
    "df.shape"
   ]
  },
  {
   "cell_type": "code",
   "execution_count": 18,
   "metadata": {},
   "outputs": [
    {
     "data": {
      "text/plain": [
       "SandersForPresident    4214\n",
       "politics               3861\n",
       "AskReddit              1807\n",
       "YangForPresidentHQ     1579\n",
       "neoliberal             1127\n",
       "Pete_Buttigieg         1103\n",
       "aznidentity             733\n",
       "nba                     676\n",
       "canada                  601\n",
       "news                    597\n",
       "CoDCompetitive          596\n",
       "worldnews               571\n",
       "hillaryclinton          551\n",
       "funny                   529\n",
       "pics                    494\n",
       "Beto2020                447\n",
       "dogswithjobs            446\n",
       "movies                  442\n",
       "Kamala                  406\n",
       "BlueMidterm2018         378\n",
       "videos                  373\n",
       "unpopularopinion        363\n",
       "PoliticalHumor          359\n",
       "Enough_Sanders_Spam     347\n",
       "ChapoTrapHouse          327\n",
       "todayilearned           325\n",
       "memes                   324\n",
       "samharris               319\n",
       "40kLore                 301\n",
       "BlackPeopleTwitter      292\n",
       "soccer                  290\n",
       "EliteDangerous          264\n",
       "AmItheAsshole           256\n",
       "JoeRogan                252\n",
       "JordanPeterson          242\n",
       "environment             239\n",
       "teenagers               238\n",
       "toronto                 238\n",
       "gaming                  228\n",
       "ModelCentralState       223\n",
       "CFB                     208\n",
       "nfl                     204\n",
       "Futurology              203\n",
       "apple                   202\n",
       "Gunners                 201\n",
       "centerleftpolitics      199\n",
       "science                 194\n",
       "gifs                    190\n",
       "rpg                     188\n",
       "NintendoSwitch          181\n",
       "Name: Post ID, dtype: int64"
      ]
     },
     "execution_count": 18,
     "metadata": {},
     "output_type": "execute_result"
    }
   ],
   "source": [
    "df['Post ID'].value_counts(ascending=False).head(50)"
   ]
  },
  {
   "cell_type": "code",
   "execution_count": null,
   "metadata": {},
   "outputs": [],
   "source": []
  }
 ],
 "metadata": {
  "kernelspec": {
   "display_name": "Python 3",
   "language": "python",
   "name": "python3"
  },
  "language_info": {
   "codemirror_mode": {
    "name": "ipython",
    "version": 3
   },
   "file_extension": ".py",
   "mimetype": "text/x-python",
   "name": "python",
   "nbconvert_exporter": "python",
   "pygments_lexer": "ipython3",
   "version": "3.7.3"
  }
 },
 "nbformat": 4,
 "nbformat_minor": 2
}
