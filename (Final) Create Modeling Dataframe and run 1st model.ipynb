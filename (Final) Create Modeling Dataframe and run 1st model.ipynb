{
 "cells": [
  {
   "cell_type": "code",
   "execution_count": 1,
   "metadata": {},
   "outputs": [],
   "source": [
    "import pandas as pd\n",
    "import matplotlib.pyplot as plt"
   ]
  },
  {
   "cell_type": "code",
   "execution_count": 2,
   "metadata": {},
   "outputs": [],
   "source": [
    "df = pd.read_csv('combined_scrape_2.csv')"
   ]
  },
  {
   "cell_type": "code",
   "execution_count": 3,
   "metadata": {},
   "outputs": [
    {
     "data": {
      "text/plain": [
       "(3543710, 4)"
      ]
     },
     "execution_count": 3,
     "metadata": {},
     "output_type": "execute_result"
    }
   ],
   "source": [
    "df.shape"
   ]
  },
  {
   "cell_type": "code",
   "execution_count": 4,
   "metadata": {},
   "outputs": [
    {
     "data": {
      "text/html": [
       "<div>\n",
       "<style scoped>\n",
       "    .dataframe tbody tr th:only-of-type {\n",
       "        vertical-align: middle;\n",
       "    }\n",
       "\n",
       "    .dataframe tbody tr th {\n",
       "        vertical-align: top;\n",
       "    }\n",
       "\n",
       "    .dataframe thead th {\n",
       "        text-align: right;\n",
       "    }\n",
       "</style>\n",
       "<table border=\"1\" class=\"dataframe\">\n",
       "  <thead>\n",
       "    <tr style=\"text-align: right;\">\n",
       "      <th></th>\n",
       "      <th>Comment Text</th>\n",
       "      <th>Author</th>\n",
       "      <th>Subreddit</th>\n",
       "      <th>Post ID</th>\n",
       "    </tr>\n",
       "  </thead>\n",
       "  <tbody>\n",
       "    <tr>\n",
       "      <th>0</th>\n",
       "      <td>Just curious, but what triggered your feelings...</td>\n",
       "      <td>PDXorax</td>\n",
       "      <td>YangForPresidentHQ</td>\n",
       "      <td>ew5ohva</td>\n",
       "    </tr>\n",
       "    <tr>\n",
       "      <th>1</th>\n",
       "      <td>Christmas time put up a light-up Yang sign!</td>\n",
       "      <td>PDXorax</td>\n",
       "      <td>YangForPresidentHQ</td>\n",
       "      <td>ew5o8vv</td>\n",
       "    </tr>\n",
       "    <tr>\n",
       "      <th>2</th>\n",
       "      <td>During the general election, get in contact wi...</td>\n",
       "      <td>PDXorax</td>\n",
       "      <td>YangForPresidentHQ</td>\n",
       "      <td>ew42bdx</td>\n",
       "    </tr>\n",
       "    <tr>\n",
       "      <th>3</th>\n",
       "      <td>We need to understand as a country, that the m...</td>\n",
       "      <td>PDXorax</td>\n",
       "      <td>YangForPresidentHQ</td>\n",
       "      <td>evva7l8</td>\n",
       "    </tr>\n",
       "    <tr>\n",
       "      <th>4</th>\n",
       "      <td>Part of the reason for this, is because we nee...</td>\n",
       "      <td>PDXorax</td>\n",
       "      <td>YangForPresidentHQ</td>\n",
       "      <td>evoo179</td>\n",
       "    </tr>\n",
       "  </tbody>\n",
       "</table>\n",
       "</div>"
      ],
      "text/plain": [
       "                                        Comment Text   Author  \\\n",
       "0  Just curious, but what triggered your feelings...  PDXorax   \n",
       "1        Christmas time put up a light-up Yang sign!  PDXorax   \n",
       "2  During the general election, get in contact wi...  PDXorax   \n",
       "3  We need to understand as a country, that the m...  PDXorax   \n",
       "4  Part of the reason for this, is because we nee...  PDXorax   \n",
       "\n",
       "            Subreddit  Post ID  \n",
       "0  YangForPresidentHQ  ew5ohva  \n",
       "1  YangForPresidentHQ  ew5o8vv  \n",
       "2  YangForPresidentHQ  ew42bdx  \n",
       "3  YangForPresidentHQ  evva7l8  \n",
       "4  YangForPresidentHQ  evoo179  "
      ]
     },
     "execution_count": 4,
     "metadata": {},
     "output_type": "execute_result"
    }
   ],
   "source": [
    "df.head()"
   ]
  },
  {
   "cell_type": "code",
   "execution_count": 5,
   "metadata": {},
   "outputs": [],
   "source": [
    "df_target_train = pd.read_csv('fin_users_train.csv')"
   ]
  },
  {
   "cell_type": "code",
   "execution_count": 6,
   "metadata": {},
   "outputs": [
    {
     "data": {
      "text/plain": [
       "(2487, 2)"
      ]
     },
     "execution_count": 6,
     "metadata": {},
     "output_type": "execute_result"
    }
   ],
   "source": [
    "df_target_train.shape"
   ]
  },
  {
   "cell_type": "code",
   "execution_count": 7,
   "metadata": {},
   "outputs": [],
   "source": [
    "df_target_test = pd.read_csv('fin_users_test.csv')"
   ]
  },
  {
   "cell_type": "code",
   "execution_count": 8,
   "metadata": {},
   "outputs": [
    {
     "data": {
      "text/plain": [
       "(830, 2)"
      ]
     },
     "execution_count": 8,
     "metadata": {},
     "output_type": "execute_result"
    }
   ],
   "source": [
    "df_target_test.shape"
   ]
  },
  {
   "cell_type": "code",
   "execution_count": 9,
   "metadata": {},
   "outputs": [],
   "source": [
    "df_target = pd.concat([df_target_test,df_target_train])"
   ]
  },
  {
   "cell_type": "code",
   "execution_count": 10,
   "metadata": {},
   "outputs": [
    {
     "data": {
      "text/plain": [
       "(3317, 2)"
      ]
     },
     "execution_count": 10,
     "metadata": {},
     "output_type": "execute_result"
    }
   ],
   "source": [
    "df_target.shape"
   ]
  },
  {
   "cell_type": "code",
   "execution_count": 11,
   "metadata": {},
   "outputs": [],
   "source": [
    "users = list(df_target['Unnamed: 0'])"
   ]
  },
  {
   "cell_type": "code",
   "execution_count": 12,
   "metadata": {},
   "outputs": [],
   "source": [
    "def clean_df(row):\n",
    "    if row['Author'] in users:\n",
    "        return '1'\n",
    "    else:\n",
    "        return '0'\n"
   ]
  },
  {
   "cell_type": "code",
   "execution_count": 13,
   "metadata": {},
   "outputs": [],
   "source": [
    "df['keep'] = df.apply(clean_df,axis=1)"
   ]
  },
  {
   "cell_type": "code",
   "execution_count": 14,
   "metadata": {},
   "outputs": [],
   "source": [
    "df = df[df['keep']=='1']"
   ]
  },
  {
   "cell_type": "code",
   "execution_count": 15,
   "metadata": {},
   "outputs": [],
   "source": [
    "\n",
    "sum_series = df.groupby(['Author','Subreddit']).size()"
   ]
  },
  {
   "cell_type": "code",
   "execution_count": 16,
   "metadata": {},
   "outputs": [],
   "source": [
    "list_of_subs = ['ENLIGHTENEDCENTRISM','Fuckthealtright','LateStageCapitalism','ABoringDystopia','baseball','redsox',\n",
    "    'NewYorkMets','NYYankees','nba','CollegeBasketball','lakers','bostonceltics','sixers','Conservative','tuesday',\n",
    "    'CryptoCurrency','Bitcoin','sysadmin','cscareerquestions','nfl','CFB','CHIBears','freefolk','gameofthrones',\n",
    "    'asoiaf','buildapcsales','Amd','pokemon','TheSilphRoad','soccer','MLS','Games','gaming','collapse','conspiracy',\n",
    "    'neoliberal','pcmasterrace','stupidpol','moderatepolitics','Android','anime','apple','askgaybros','atheism',\n",
    "    'aznidentity','BasicIncome','BigBrother','books','cars','Christianity','Documentaries','Economics','environment',\n",
    "    'exmormon','fantasyfootball','formula1','Futurology','hiphopheads','hockey','investing','JoeRogan',\n",
    "    'JordanPeterson','keto','liberalgunowners','Libertarian','marvelstudios','MMA','movies','Music','rupaulsdragrace',\n",
    "    'samharris','science','space','SquaredCircle','StarWars','survivor','technology','teenagers','television',\n",
    "    'teslamotors','thebachelor','thedavidpakmanshow','TheLastAirbender','Tinder','trees','TwoXChromosomes','vegan',\n",
    "    'cats','Cricket','Fitness','golf','gratefuldead','HomeImprovement','startrek']"
   ]
  },
  {
   "cell_type": "code",
   "execution_count": 17,
   "metadata": {},
   "outputs": [],
   "source": [
    "features = {}\n",
    "for user in users:\n",
    "    feature_dict = {}\n",
    "    for sub in sum_series[user].index:\n",
    "        if sub in list_of_subs:\n",
    "            feature_dict[sub]=sum_series[user][sub]\n",
    "    if len(feature_dict)!=0:\n",
    "        features[user]=feature_dict\n"
   ]
  },
  {
   "cell_type": "code",
   "execution_count": 18,
   "metadata": {},
   "outputs": [],
   "source": [
    "df_feature = pd.DataFrame(features).T"
   ]
  },
  {
   "cell_type": "code",
   "execution_count": 19,
   "metadata": {},
   "outputs": [
    {
     "data": {
      "text/html": [
       "<div>\n",
       "<style scoped>\n",
       "    .dataframe tbody tr th:only-of-type {\n",
       "        vertical-align: middle;\n",
       "    }\n",
       "\n",
       "    .dataframe tbody tr th {\n",
       "        vertical-align: top;\n",
       "    }\n",
       "\n",
       "    .dataframe thead th {\n",
       "        text-align: right;\n",
       "    }\n",
       "</style>\n",
       "<table border=\"1\" class=\"dataframe\">\n",
       "  <thead>\n",
       "    <tr style=\"text-align: right;\">\n",
       "      <th></th>\n",
       "      <th>ABoringDystopia</th>\n",
       "      <th>Amd</th>\n",
       "      <th>Android</th>\n",
       "      <th>BasicIncome</th>\n",
       "      <th>BigBrother</th>\n",
       "      <th>Bitcoin</th>\n",
       "      <th>CFB</th>\n",
       "      <th>CHIBears</th>\n",
       "      <th>Christianity</th>\n",
       "      <th>CollegeBasketball</th>\n",
       "      <th>...</th>\n",
       "      <th>sysadmin</th>\n",
       "      <th>technology</th>\n",
       "      <th>teenagers</th>\n",
       "      <th>television</th>\n",
       "      <th>teslamotors</th>\n",
       "      <th>thebachelor</th>\n",
       "      <th>thedavidpakmanshow</th>\n",
       "      <th>trees</th>\n",
       "      <th>tuesday</th>\n",
       "      <th>vegan</th>\n",
       "    </tr>\n",
       "  </thead>\n",
       "  <tbody>\n",
       "    <tr>\n",
       "      <th>Boomslangalang</th>\n",
       "      <td>NaN</td>\n",
       "      <td>NaN</td>\n",
       "      <td>NaN</td>\n",
       "      <td>NaN</td>\n",
       "      <td>NaN</td>\n",
       "      <td>NaN</td>\n",
       "      <td>NaN</td>\n",
       "      <td>NaN</td>\n",
       "      <td>NaN</td>\n",
       "      <td>NaN</td>\n",
       "      <td>...</td>\n",
       "      <td>NaN</td>\n",
       "      <td>3.0</td>\n",
       "      <td>NaN</td>\n",
       "      <td>NaN</td>\n",
       "      <td>NaN</td>\n",
       "      <td>NaN</td>\n",
       "      <td>NaN</td>\n",
       "      <td>NaN</td>\n",
       "      <td>NaN</td>\n",
       "      <td>NaN</td>\n",
       "    </tr>\n",
       "    <tr>\n",
       "      <th>bczeon27</th>\n",
       "      <td>NaN</td>\n",
       "      <td>NaN</td>\n",
       "      <td>NaN</td>\n",
       "      <td>2.0</td>\n",
       "      <td>NaN</td>\n",
       "      <td>2.0</td>\n",
       "      <td>NaN</td>\n",
       "      <td>NaN</td>\n",
       "      <td>NaN</td>\n",
       "      <td>NaN</td>\n",
       "      <td>...</td>\n",
       "      <td>NaN</td>\n",
       "      <td>NaN</td>\n",
       "      <td>NaN</td>\n",
       "      <td>NaN</td>\n",
       "      <td>NaN</td>\n",
       "      <td>NaN</td>\n",
       "      <td>NaN</td>\n",
       "      <td>NaN</td>\n",
       "      <td>NaN</td>\n",
       "      <td>NaN</td>\n",
       "    </tr>\n",
       "    <tr>\n",
       "      <th>madosooki</th>\n",
       "      <td>NaN</td>\n",
       "      <td>NaN</td>\n",
       "      <td>NaN</td>\n",
       "      <td>NaN</td>\n",
       "      <td>NaN</td>\n",
       "      <td>NaN</td>\n",
       "      <td>NaN</td>\n",
       "      <td>NaN</td>\n",
       "      <td>NaN</td>\n",
       "      <td>NaN</td>\n",
       "      <td>...</td>\n",
       "      <td>2.0</td>\n",
       "      <td>NaN</td>\n",
       "      <td>NaN</td>\n",
       "      <td>NaN</td>\n",
       "      <td>NaN</td>\n",
       "      <td>NaN</td>\n",
       "      <td>NaN</td>\n",
       "      <td>5.0</td>\n",
       "      <td>NaN</td>\n",
       "      <td>NaN</td>\n",
       "    </tr>\n",
       "    <tr>\n",
       "      <th>krom0025</th>\n",
       "      <td>NaN</td>\n",
       "      <td>NaN</td>\n",
       "      <td>NaN</td>\n",
       "      <td>NaN</td>\n",
       "      <td>NaN</td>\n",
       "      <td>NaN</td>\n",
       "      <td>NaN</td>\n",
       "      <td>NaN</td>\n",
       "      <td>NaN</td>\n",
       "      <td>NaN</td>\n",
       "      <td>...</td>\n",
       "      <td>NaN</td>\n",
       "      <td>10.0</td>\n",
       "      <td>NaN</td>\n",
       "      <td>NaN</td>\n",
       "      <td>NaN</td>\n",
       "      <td>NaN</td>\n",
       "      <td>NaN</td>\n",
       "      <td>8.0</td>\n",
       "      <td>NaN</td>\n",
       "      <td>NaN</td>\n",
       "    </tr>\n",
       "    <tr>\n",
       "      <th>Its_not_him</th>\n",
       "      <td>NaN</td>\n",
       "      <td>NaN</td>\n",
       "      <td>NaN</td>\n",
       "      <td>NaN</td>\n",
       "      <td>NaN</td>\n",
       "      <td>NaN</td>\n",
       "      <td>NaN</td>\n",
       "      <td>NaN</td>\n",
       "      <td>NaN</td>\n",
       "      <td>NaN</td>\n",
       "      <td>...</td>\n",
       "      <td>NaN</td>\n",
       "      <td>NaN</td>\n",
       "      <td>3.0</td>\n",
       "      <td>NaN</td>\n",
       "      <td>NaN</td>\n",
       "      <td>NaN</td>\n",
       "      <td>NaN</td>\n",
       "      <td>1.0</td>\n",
       "      <td>NaN</td>\n",
       "      <td>NaN</td>\n",
       "    </tr>\n",
       "  </tbody>\n",
       "</table>\n",
       "<p>5 rows × 94 columns</p>\n",
       "</div>"
      ],
      "text/plain": [
       "                ABoringDystopia  Amd  Android  BasicIncome  BigBrother  \\\n",
       "Boomslangalang              NaN  NaN      NaN          NaN         NaN   \n",
       "bczeon27                    NaN  NaN      NaN          2.0         NaN   \n",
       "madosooki                   NaN  NaN      NaN          NaN         NaN   \n",
       "krom0025                    NaN  NaN      NaN          NaN         NaN   \n",
       "Its_not_him                 NaN  NaN      NaN          NaN         NaN   \n",
       "\n",
       "                Bitcoin  CFB  CHIBears  Christianity  CollegeBasketball  ...  \\\n",
       "Boomslangalang      NaN  NaN       NaN           NaN                NaN  ...   \n",
       "bczeon27            2.0  NaN       NaN           NaN                NaN  ...   \n",
       "madosooki           NaN  NaN       NaN           NaN                NaN  ...   \n",
       "krom0025            NaN  NaN       NaN           NaN                NaN  ...   \n",
       "Its_not_him         NaN  NaN       NaN           NaN                NaN  ...   \n",
       "\n",
       "                sysadmin  technology  teenagers  television  teslamotors  \\\n",
       "Boomslangalang       NaN         3.0        NaN         NaN          NaN   \n",
       "bczeon27             NaN         NaN        NaN         NaN          NaN   \n",
       "madosooki            2.0         NaN        NaN         NaN          NaN   \n",
       "krom0025             NaN        10.0        NaN         NaN          NaN   \n",
       "Its_not_him          NaN         NaN        3.0         NaN          NaN   \n",
       "\n",
       "                thebachelor  thedavidpakmanshow  trees  tuesday  vegan  \n",
       "Boomslangalang          NaN                 NaN    NaN      NaN    NaN  \n",
       "bczeon27                NaN                 NaN    NaN      NaN    NaN  \n",
       "madosooki               NaN                 NaN    5.0      NaN    NaN  \n",
       "krom0025                NaN                 NaN    8.0      NaN    NaN  \n",
       "Its_not_him             NaN                 NaN    1.0      NaN    NaN  \n",
       "\n",
       "[5 rows x 94 columns]"
      ]
     },
     "execution_count": 19,
     "metadata": {},
     "output_type": "execute_result"
    }
   ],
   "source": [
    "df_feature.head()"
   ]
  },
  {
   "cell_type": "code",
   "execution_count": 20,
   "metadata": {},
   "outputs": [
    {
     "data": {
      "text/plain": [
       "(2891, 94)"
      ]
     },
     "execution_count": 20,
     "metadata": {},
     "output_type": "execute_result"
    }
   ],
   "source": [
    "df_feature.shape"
   ]
  },
  {
   "cell_type": "code",
   "execution_count": 21,
   "metadata": {},
   "outputs": [],
   "source": [
    "df_feature.fillna(0,inplace=True)"
   ]
  },
  {
   "cell_type": "code",
   "execution_count": 22,
   "metadata": {},
   "outputs": [
    {
     "data": {
      "text/plain": [
       "324964.0"
      ]
     },
     "execution_count": 22,
     "metadata": {},
     "output_type": "execute_result"
    }
   ],
   "source": [
    "df_feature.sum().sum()"
   ]
  },
  {
   "cell_type": "code",
   "execution_count": 23,
   "metadata": {},
   "outputs": [],
   "source": [
    "#add code to combine like minded subs\n",
    "df_feature['anti_alt_right_comb']=df_feature['ENLIGHTENEDCENTRISM']+df_feature['Fuckthealtright']\n",
    "df_feature['bad_capitalism_comb']=df_feature['LateStageCapitalism']+df_feature['ABoringDystopia']\n",
    "df_feature['baseball_comb']=df_feature['baseball']+df_feature['redsox']+df_feature['NYYankees']+df_feature['NewYorkMets']\n",
    "df_feature['basketball_comb']=df_feature['nba']+df_feature['CollegeBasketball']+df_feature['lakers']+df_feature['bostonceltics']+df_feature['sixers']\n",
    "df_feature['conservative_comb']=df_feature['Conservative']+df_feature['tuesday']\n",
    "df_feature['crypto_comb']=df_feature['CryptoCurrency']+df_feature['Bitcoin']\n",
    "df_feature['CS_comb']=df_feature['sysadmin']+df_feature['cscareerquestions']\n",
    "df_feature['football_comb']=df_feature['nfl']+df_feature['CFB']+df_feature['CHIBears']\n",
    "df_feature['got_comb']=df_feature['freefolk']+df_feature['gameofthrones']+df_feature['asoiaf']\n",
    "df_feature['pc_comb']=df_feature['buildapcsales']+df_feature['Amd']\n",
    "df_feature['soccer_comb']=df_feature['soccer']+df_feature['MLS']\n",
    "df_feature['gaming_comb']=df_feature['gaming']+df_feature['Games']\n",
    "df_feature['pokemon_comb']=df_feature['pokemon']+df_feature['TheSilphRoad']"
   ]
  },
  {
   "cell_type": "code",
   "execution_count": 24,
   "metadata": {},
   "outputs": [],
   "source": [
    "#remove above single subs\n",
    "df_feature.drop(['ENLIGHTENEDCENTRISM','Fuckthealtright','LateStageCapitalism','ABoringDystopia','NewYorkMets','redsox',\n",
    "                 'baseball','NYYankees','nba','CollegeBasketball','sixers','lakers','bostonceltics','Conservative','tuesday',\n",
    "                 'CryptoCurrency','Bitcoin','sysadmin','cscareerquestions','nfl','CFB','CHIBears',\n",
    "                 'freefolk','gameofthrones','asoiaf','soccer','MLS','buildapcsales','Amd','Games','gaming','pokemon','TheSilphRoad'],axis=1,inplace=True)"
   ]
  },
  {
   "cell_type": "code",
   "execution_count": 25,
   "metadata": {},
   "outputs": [
    {
     "data": {
      "text/plain": [
       "324964.0"
      ]
     },
     "execution_count": 25,
     "metadata": {},
     "output_type": "execute_result"
    }
   ],
   "source": [
    "df_feature.sum().sum()"
   ]
  },
  {
   "cell_type": "code",
   "execution_count": 26,
   "metadata": {},
   "outputs": [],
   "source": [
    "df_feature = df_feature.div(df_feature.sum(axis=1), axis=0)"
   ]
  },
  {
   "cell_type": "code",
   "execution_count": 27,
   "metadata": {},
   "outputs": [
    {
     "data": {
      "text/html": [
       "<div>\n",
       "<style scoped>\n",
       "    .dataframe tbody tr th:only-of-type {\n",
       "        vertical-align: middle;\n",
       "    }\n",
       "\n",
       "    .dataframe tbody tr th {\n",
       "        vertical-align: top;\n",
       "    }\n",
       "\n",
       "    .dataframe thead th {\n",
       "        text-align: right;\n",
       "    }\n",
       "</style>\n",
       "<table border=\"1\" class=\"dataframe\">\n",
       "  <thead>\n",
       "    <tr style=\"text-align: right;\">\n",
       "      <th></th>\n",
       "      <th>Android</th>\n",
       "      <th>BasicIncome</th>\n",
       "      <th>BigBrother</th>\n",
       "      <th>Christianity</th>\n",
       "      <th>Cricket</th>\n",
       "      <th>Documentaries</th>\n",
       "      <th>Economics</th>\n",
       "      <th>Fitness</th>\n",
       "      <th>Futurology</th>\n",
       "      <th>HomeImprovement</th>\n",
       "      <th>...</th>\n",
       "      <th>basketball_comb</th>\n",
       "      <th>conservative_comb</th>\n",
       "      <th>crypto_comb</th>\n",
       "      <th>CS_comb</th>\n",
       "      <th>football_comb</th>\n",
       "      <th>got_comb</th>\n",
       "      <th>pc_comb</th>\n",
       "      <th>soccer_comb</th>\n",
       "      <th>gaming_comb</th>\n",
       "      <th>pokemon_comb</th>\n",
       "    </tr>\n",
       "  </thead>\n",
       "  <tbody>\n",
       "    <tr>\n",
       "      <th>Boomslangalang</th>\n",
       "      <td>0.0</td>\n",
       "      <td>0.000000</td>\n",
       "      <td>0.0</td>\n",
       "      <td>0.0</td>\n",
       "      <td>0.000000</td>\n",
       "      <td>0.111111</td>\n",
       "      <td>0.000000</td>\n",
       "      <td>0.000000</td>\n",
       "      <td>0.027778</td>\n",
       "      <td>0.000000</td>\n",
       "      <td>...</td>\n",
       "      <td>0.000000</td>\n",
       "      <td>0.000000</td>\n",
       "      <td>0.000000</td>\n",
       "      <td>0.000000</td>\n",
       "      <td>0.000000</td>\n",
       "      <td>0.000000</td>\n",
       "      <td>0.000000</td>\n",
       "      <td>0.000000</td>\n",
       "      <td>0.027778</td>\n",
       "      <td>0.0</td>\n",
       "    </tr>\n",
       "    <tr>\n",
       "      <th>bczeon27</th>\n",
       "      <td>0.0</td>\n",
       "      <td>0.133333</td>\n",
       "      <td>0.0</td>\n",
       "      <td>0.0</td>\n",
       "      <td>0.000000</td>\n",
       "      <td>0.000000</td>\n",
       "      <td>0.000000</td>\n",
       "      <td>0.000000</td>\n",
       "      <td>0.133333</td>\n",
       "      <td>0.000000</td>\n",
       "      <td>...</td>\n",
       "      <td>0.000000</td>\n",
       "      <td>0.000000</td>\n",
       "      <td>0.133333</td>\n",
       "      <td>0.000000</td>\n",
       "      <td>0.000000</td>\n",
       "      <td>0.000000</td>\n",
       "      <td>0.000000</td>\n",
       "      <td>0.000000</td>\n",
       "      <td>0.000000</td>\n",
       "      <td>0.0</td>\n",
       "    </tr>\n",
       "    <tr>\n",
       "      <th>madosooki</th>\n",
       "      <td>0.0</td>\n",
       "      <td>0.000000</td>\n",
       "      <td>0.0</td>\n",
       "      <td>0.0</td>\n",
       "      <td>0.000000</td>\n",
       "      <td>0.000000</td>\n",
       "      <td>0.000000</td>\n",
       "      <td>0.050000</td>\n",
       "      <td>0.100000</td>\n",
       "      <td>0.000000</td>\n",
       "      <td>...</td>\n",
       "      <td>0.000000</td>\n",
       "      <td>0.000000</td>\n",
       "      <td>0.000000</td>\n",
       "      <td>0.100000</td>\n",
       "      <td>0.000000</td>\n",
       "      <td>0.000000</td>\n",
       "      <td>0.000000</td>\n",
       "      <td>0.000000</td>\n",
       "      <td>0.000000</td>\n",
       "      <td>0.0</td>\n",
       "    </tr>\n",
       "    <tr>\n",
       "      <th>krom0025</th>\n",
       "      <td>0.0</td>\n",
       "      <td>0.000000</td>\n",
       "      <td>0.0</td>\n",
       "      <td>0.0</td>\n",
       "      <td>0.000000</td>\n",
       "      <td>0.000000</td>\n",
       "      <td>0.015385</td>\n",
       "      <td>0.000000</td>\n",
       "      <td>0.000000</td>\n",
       "      <td>0.000000</td>\n",
       "      <td>...</td>\n",
       "      <td>0.000000</td>\n",
       "      <td>0.000000</td>\n",
       "      <td>0.000000</td>\n",
       "      <td>0.000000</td>\n",
       "      <td>0.003846</td>\n",
       "      <td>0.000000</td>\n",
       "      <td>0.000000</td>\n",
       "      <td>0.000000</td>\n",
       "      <td>0.003846</td>\n",
       "      <td>0.0</td>\n",
       "    </tr>\n",
       "    <tr>\n",
       "      <th>Its_not_him</th>\n",
       "      <td>0.0</td>\n",
       "      <td>0.000000</td>\n",
       "      <td>0.0</td>\n",
       "      <td>0.0</td>\n",
       "      <td>0.000000</td>\n",
       "      <td>0.000000</td>\n",
       "      <td>0.000000</td>\n",
       "      <td>0.000000</td>\n",
       "      <td>0.011364</td>\n",
       "      <td>0.000000</td>\n",
       "      <td>...</td>\n",
       "      <td>0.022727</td>\n",
       "      <td>0.000000</td>\n",
       "      <td>0.000000</td>\n",
       "      <td>0.000000</td>\n",
       "      <td>0.011364</td>\n",
       "      <td>0.000000</td>\n",
       "      <td>0.000000</td>\n",
       "      <td>0.590909</td>\n",
       "      <td>0.011364</td>\n",
       "      <td>0.0</td>\n",
       "    </tr>\n",
       "    <tr>\n",
       "      <th>staiano</th>\n",
       "      <td>0.0</td>\n",
       "      <td>0.000000</td>\n",
       "      <td>0.0</td>\n",
       "      <td>0.0</td>\n",
       "      <td>0.000000</td>\n",
       "      <td>0.000000</td>\n",
       "      <td>0.000000</td>\n",
       "      <td>0.000000</td>\n",
       "      <td>0.000000</td>\n",
       "      <td>0.000000</td>\n",
       "      <td>...</td>\n",
       "      <td>0.228070</td>\n",
       "      <td>0.000000</td>\n",
       "      <td>0.000000</td>\n",
       "      <td>0.114035</td>\n",
       "      <td>0.078947</td>\n",
       "      <td>0.000000</td>\n",
       "      <td>0.000000</td>\n",
       "      <td>0.000000</td>\n",
       "      <td>0.000000</td>\n",
       "      <td>0.0</td>\n",
       "    </tr>\n",
       "    <tr>\n",
       "      <th>bintherematthat</th>\n",
       "      <td>0.0</td>\n",
       "      <td>0.000000</td>\n",
       "      <td>0.0</td>\n",
       "      <td>0.0</td>\n",
       "      <td>0.000000</td>\n",
       "      <td>0.000000</td>\n",
       "      <td>0.016949</td>\n",
       "      <td>0.000000</td>\n",
       "      <td>0.000000</td>\n",
       "      <td>0.000000</td>\n",
       "      <td>...</td>\n",
       "      <td>0.050847</td>\n",
       "      <td>0.101695</td>\n",
       "      <td>0.000000</td>\n",
       "      <td>0.000000</td>\n",
       "      <td>0.779661</td>\n",
       "      <td>0.000000</td>\n",
       "      <td>0.000000</td>\n",
       "      <td>0.000000</td>\n",
       "      <td>0.000000</td>\n",
       "      <td>0.0</td>\n",
       "    </tr>\n",
       "    <tr>\n",
       "      <th>silvathena</th>\n",
       "      <td>0.0</td>\n",
       "      <td>0.000000</td>\n",
       "      <td>0.0</td>\n",
       "      <td>0.0</td>\n",
       "      <td>0.000000</td>\n",
       "      <td>0.000000</td>\n",
       "      <td>0.000000</td>\n",
       "      <td>0.000000</td>\n",
       "      <td>0.000000</td>\n",
       "      <td>0.000000</td>\n",
       "      <td>...</td>\n",
       "      <td>0.000000</td>\n",
       "      <td>0.000000</td>\n",
       "      <td>0.000000</td>\n",
       "      <td>0.000000</td>\n",
       "      <td>0.000000</td>\n",
       "      <td>0.000000</td>\n",
       "      <td>0.000000</td>\n",
       "      <td>0.000000</td>\n",
       "      <td>0.000000</td>\n",
       "      <td>0.0</td>\n",
       "    </tr>\n",
       "    <tr>\n",
       "      <th>Ghee_Guys</th>\n",
       "      <td>0.0</td>\n",
       "      <td>0.000000</td>\n",
       "      <td>0.0</td>\n",
       "      <td>0.0</td>\n",
       "      <td>0.000000</td>\n",
       "      <td>0.000000</td>\n",
       "      <td>0.000000</td>\n",
       "      <td>0.008889</td>\n",
       "      <td>0.004444</td>\n",
       "      <td>0.022222</td>\n",
       "      <td>...</td>\n",
       "      <td>0.000000</td>\n",
       "      <td>0.000000</td>\n",
       "      <td>0.000000</td>\n",
       "      <td>0.000000</td>\n",
       "      <td>0.653333</td>\n",
       "      <td>0.075556</td>\n",
       "      <td>0.000000</td>\n",
       "      <td>0.000000</td>\n",
       "      <td>0.004444</td>\n",
       "      <td>0.0</td>\n",
       "    </tr>\n",
       "    <tr>\n",
       "      <th>Zernin</th>\n",
       "      <td>0.0</td>\n",
       "      <td>0.000000</td>\n",
       "      <td>0.0</td>\n",
       "      <td>0.0</td>\n",
       "      <td>0.000000</td>\n",
       "      <td>0.000000</td>\n",
       "      <td>0.083333</td>\n",
       "      <td>0.000000</td>\n",
       "      <td>0.000000</td>\n",
       "      <td>0.000000</td>\n",
       "      <td>...</td>\n",
       "      <td>0.000000</td>\n",
       "      <td>0.000000</td>\n",
       "      <td>0.000000</td>\n",
       "      <td>0.000000</td>\n",
       "      <td>0.000000</td>\n",
       "      <td>0.000000</td>\n",
       "      <td>0.000000</td>\n",
       "      <td>0.000000</td>\n",
       "      <td>0.000000</td>\n",
       "      <td>0.0</td>\n",
       "    </tr>\n",
       "    <tr>\n",
       "      <th>seedster5</th>\n",
       "      <td>0.0</td>\n",
       "      <td>0.000000</td>\n",
       "      <td>0.0</td>\n",
       "      <td>0.0</td>\n",
       "      <td>0.046154</td>\n",
       "      <td>0.000000</td>\n",
       "      <td>0.015385</td>\n",
       "      <td>0.000000</td>\n",
       "      <td>0.000000</td>\n",
       "      <td>0.000000</td>\n",
       "      <td>...</td>\n",
       "      <td>0.338462</td>\n",
       "      <td>0.000000</td>\n",
       "      <td>0.000000</td>\n",
       "      <td>0.000000</td>\n",
       "      <td>0.000000</td>\n",
       "      <td>0.000000</td>\n",
       "      <td>0.000000</td>\n",
       "      <td>0.000000</td>\n",
       "      <td>0.015385</td>\n",
       "      <td>0.0</td>\n",
       "    </tr>\n",
       "    <tr>\n",
       "      <th>ThisIsMyBikeAccount</th>\n",
       "      <td>0.0</td>\n",
       "      <td>0.000000</td>\n",
       "      <td>0.0</td>\n",
       "      <td>0.0</td>\n",
       "      <td>0.000000</td>\n",
       "      <td>0.000000</td>\n",
       "      <td>0.000000</td>\n",
       "      <td>0.000000</td>\n",
       "      <td>0.000000</td>\n",
       "      <td>0.000000</td>\n",
       "      <td>...</td>\n",
       "      <td>0.625000</td>\n",
       "      <td>0.000000</td>\n",
       "      <td>0.000000</td>\n",
       "      <td>0.000000</td>\n",
       "      <td>0.000000</td>\n",
       "      <td>0.250000</td>\n",
       "      <td>0.000000</td>\n",
       "      <td>0.000000</td>\n",
       "      <td>0.000000</td>\n",
       "      <td>0.0</td>\n",
       "    </tr>\n",
       "    <tr>\n",
       "      <th>coltsmetsfan614</th>\n",
       "      <td>0.0</td>\n",
       "      <td>0.000000</td>\n",
       "      <td>0.0</td>\n",
       "      <td>0.0</td>\n",
       "      <td>0.000000</td>\n",
       "      <td>0.000000</td>\n",
       "      <td>0.000000</td>\n",
       "      <td>0.000000</td>\n",
       "      <td>0.000000</td>\n",
       "      <td>0.000000</td>\n",
       "      <td>...</td>\n",
       "      <td>0.069767</td>\n",
       "      <td>0.000000</td>\n",
       "      <td>0.000000</td>\n",
       "      <td>0.000000</td>\n",
       "      <td>0.013289</td>\n",
       "      <td>0.016611</td>\n",
       "      <td>0.000000</td>\n",
       "      <td>0.000000</td>\n",
       "      <td>0.003322</td>\n",
       "      <td>0.0</td>\n",
       "    </tr>\n",
       "    <tr>\n",
       "      <th>ExpectedDickbuttGotD</th>\n",
       "      <td>0.0</td>\n",
       "      <td>0.000000</td>\n",
       "      <td>0.0</td>\n",
       "      <td>0.0</td>\n",
       "      <td>0.000000</td>\n",
       "      <td>0.000000</td>\n",
       "      <td>0.000000</td>\n",
       "      <td>0.000000</td>\n",
       "      <td>0.000000</td>\n",
       "      <td>0.000000</td>\n",
       "      <td>...</td>\n",
       "      <td>0.000000</td>\n",
       "      <td>0.000000</td>\n",
       "      <td>0.000000</td>\n",
       "      <td>0.000000</td>\n",
       "      <td>0.000000</td>\n",
       "      <td>0.200000</td>\n",
       "      <td>0.000000</td>\n",
       "      <td>0.000000</td>\n",
       "      <td>0.000000</td>\n",
       "      <td>0.0</td>\n",
       "    </tr>\n",
       "    <tr>\n",
       "      <th>Pec0sb1ll</th>\n",
       "      <td>0.0</td>\n",
       "      <td>0.000000</td>\n",
       "      <td>0.0</td>\n",
       "      <td>0.0</td>\n",
       "      <td>0.000000</td>\n",
       "      <td>0.000000</td>\n",
       "      <td>0.000000</td>\n",
       "      <td>0.000000</td>\n",
       "      <td>0.037383</td>\n",
       "      <td>0.000000</td>\n",
       "      <td>...</td>\n",
       "      <td>0.018692</td>\n",
       "      <td>0.000000</td>\n",
       "      <td>0.000000</td>\n",
       "      <td>0.000000</td>\n",
       "      <td>0.000000</td>\n",
       "      <td>0.046729</td>\n",
       "      <td>0.000000</td>\n",
       "      <td>0.000000</td>\n",
       "      <td>0.028037</td>\n",
       "      <td>0.0</td>\n",
       "    </tr>\n",
       "    <tr>\n",
       "      <th>mozza_02</th>\n",
       "      <td>0.0</td>\n",
       "      <td>0.000000</td>\n",
       "      <td>0.0</td>\n",
       "      <td>0.0</td>\n",
       "      <td>0.000000</td>\n",
       "      <td>0.000000</td>\n",
       "      <td>0.000000</td>\n",
       "      <td>0.000000</td>\n",
       "      <td>0.000000</td>\n",
       "      <td>0.000000</td>\n",
       "      <td>...</td>\n",
       "      <td>0.000000</td>\n",
       "      <td>0.020000</td>\n",
       "      <td>0.000000</td>\n",
       "      <td>0.000000</td>\n",
       "      <td>0.000000</td>\n",
       "      <td>0.000000</td>\n",
       "      <td>0.000000</td>\n",
       "      <td>0.000000</td>\n",
       "      <td>0.000000</td>\n",
       "      <td>0.0</td>\n",
       "    </tr>\n",
       "    <tr>\n",
       "      <th>Johnny_15</th>\n",
       "      <td>0.0</td>\n",
       "      <td>0.000000</td>\n",
       "      <td>0.0</td>\n",
       "      <td>0.0</td>\n",
       "      <td>0.000000</td>\n",
       "      <td>0.000000</td>\n",
       "      <td>0.000000</td>\n",
       "      <td>0.000000</td>\n",
       "      <td>0.000000</td>\n",
       "      <td>0.000000</td>\n",
       "      <td>...</td>\n",
       "      <td>1.000000</td>\n",
       "      <td>0.000000</td>\n",
       "      <td>0.000000</td>\n",
       "      <td>0.000000</td>\n",
       "      <td>0.000000</td>\n",
       "      <td>0.000000</td>\n",
       "      <td>0.000000</td>\n",
       "      <td>0.000000</td>\n",
       "      <td>0.000000</td>\n",
       "      <td>0.0</td>\n",
       "    </tr>\n",
       "    <tr>\n",
       "      <th>homersbigfatclock</th>\n",
       "      <td>0.0</td>\n",
       "      <td>0.000000</td>\n",
       "      <td>0.0</td>\n",
       "      <td>0.0</td>\n",
       "      <td>0.000000</td>\n",
       "      <td>0.000000</td>\n",
       "      <td>0.000000</td>\n",
       "      <td>0.000000</td>\n",
       "      <td>0.000000</td>\n",
       "      <td>0.000000</td>\n",
       "      <td>...</td>\n",
       "      <td>0.000000</td>\n",
       "      <td>0.000000</td>\n",
       "      <td>0.000000</td>\n",
       "      <td>0.000000</td>\n",
       "      <td>0.000000</td>\n",
       "      <td>0.000000</td>\n",
       "      <td>0.000000</td>\n",
       "      <td>0.000000</td>\n",
       "      <td>0.000000</td>\n",
       "      <td>0.0</td>\n",
       "    </tr>\n",
       "    <tr>\n",
       "      <th>DoktorZaius</th>\n",
       "      <td>0.0</td>\n",
       "      <td>0.000000</td>\n",
       "      <td>0.0</td>\n",
       "      <td>0.0</td>\n",
       "      <td>0.000000</td>\n",
       "      <td>0.000000</td>\n",
       "      <td>0.000000</td>\n",
       "      <td>0.000000</td>\n",
       "      <td>0.000000</td>\n",
       "      <td>0.000000</td>\n",
       "      <td>...</td>\n",
       "      <td>0.000000</td>\n",
       "      <td>0.000000</td>\n",
       "      <td>0.000000</td>\n",
       "      <td>0.000000</td>\n",
       "      <td>0.000000</td>\n",
       "      <td>0.133333</td>\n",
       "      <td>0.012121</td>\n",
       "      <td>0.000000</td>\n",
       "      <td>0.000000</td>\n",
       "      <td>0.0</td>\n",
       "    </tr>\n",
       "    <tr>\n",
       "      <th>Ottolay</th>\n",
       "      <td>0.0</td>\n",
       "      <td>0.000000</td>\n",
       "      <td>0.0</td>\n",
       "      <td>0.0</td>\n",
       "      <td>0.000000</td>\n",
       "      <td>0.000000</td>\n",
       "      <td>0.000000</td>\n",
       "      <td>0.000000</td>\n",
       "      <td>0.000000</td>\n",
       "      <td>0.000000</td>\n",
       "      <td>...</td>\n",
       "      <td>0.000000</td>\n",
       "      <td>0.000000</td>\n",
       "      <td>0.000000</td>\n",
       "      <td>0.000000</td>\n",
       "      <td>0.000000</td>\n",
       "      <td>0.000000</td>\n",
       "      <td>0.000000</td>\n",
       "      <td>0.000000</td>\n",
       "      <td>0.000000</td>\n",
       "      <td>0.0</td>\n",
       "    </tr>\n",
       "  </tbody>\n",
       "</table>\n",
       "<p>20 rows × 74 columns</p>\n",
       "</div>"
      ],
      "text/plain": [
       "                      Android  BasicIncome  BigBrother  Christianity  \\\n",
       "Boomslangalang            0.0     0.000000         0.0           0.0   \n",
       "bczeon27                  0.0     0.133333         0.0           0.0   \n",
       "madosooki                 0.0     0.000000         0.0           0.0   \n",
       "krom0025                  0.0     0.000000         0.0           0.0   \n",
       "Its_not_him               0.0     0.000000         0.0           0.0   \n",
       "staiano                   0.0     0.000000         0.0           0.0   \n",
       "bintherematthat           0.0     0.000000         0.0           0.0   \n",
       "silvathena                0.0     0.000000         0.0           0.0   \n",
       "Ghee_Guys                 0.0     0.000000         0.0           0.0   \n",
       "Zernin                    0.0     0.000000         0.0           0.0   \n",
       "seedster5                 0.0     0.000000         0.0           0.0   \n",
       "ThisIsMyBikeAccount       0.0     0.000000         0.0           0.0   \n",
       "coltsmetsfan614           0.0     0.000000         0.0           0.0   \n",
       "ExpectedDickbuttGotD      0.0     0.000000         0.0           0.0   \n",
       "Pec0sb1ll                 0.0     0.000000         0.0           0.0   \n",
       "mozza_02                  0.0     0.000000         0.0           0.0   \n",
       "Johnny_15                 0.0     0.000000         0.0           0.0   \n",
       "homersbigfatclock         0.0     0.000000         0.0           0.0   \n",
       "DoktorZaius               0.0     0.000000         0.0           0.0   \n",
       "Ottolay                   0.0     0.000000         0.0           0.0   \n",
       "\n",
       "                       Cricket  Documentaries  Economics   Fitness  \\\n",
       "Boomslangalang        0.000000       0.111111   0.000000  0.000000   \n",
       "bczeon27              0.000000       0.000000   0.000000  0.000000   \n",
       "madosooki             0.000000       0.000000   0.000000  0.050000   \n",
       "krom0025              0.000000       0.000000   0.015385  0.000000   \n",
       "Its_not_him           0.000000       0.000000   0.000000  0.000000   \n",
       "staiano               0.000000       0.000000   0.000000  0.000000   \n",
       "bintherematthat       0.000000       0.000000   0.016949  0.000000   \n",
       "silvathena            0.000000       0.000000   0.000000  0.000000   \n",
       "Ghee_Guys             0.000000       0.000000   0.000000  0.008889   \n",
       "Zernin                0.000000       0.000000   0.083333  0.000000   \n",
       "seedster5             0.046154       0.000000   0.015385  0.000000   \n",
       "ThisIsMyBikeAccount   0.000000       0.000000   0.000000  0.000000   \n",
       "coltsmetsfan614       0.000000       0.000000   0.000000  0.000000   \n",
       "ExpectedDickbuttGotD  0.000000       0.000000   0.000000  0.000000   \n",
       "Pec0sb1ll             0.000000       0.000000   0.000000  0.000000   \n",
       "mozza_02              0.000000       0.000000   0.000000  0.000000   \n",
       "Johnny_15             0.000000       0.000000   0.000000  0.000000   \n",
       "homersbigfatclock     0.000000       0.000000   0.000000  0.000000   \n",
       "DoktorZaius           0.000000       0.000000   0.000000  0.000000   \n",
       "Ottolay               0.000000       0.000000   0.000000  0.000000   \n",
       "\n",
       "                      Futurology  HomeImprovement  ...  basketball_comb  \\\n",
       "Boomslangalang          0.027778         0.000000  ...         0.000000   \n",
       "bczeon27                0.133333         0.000000  ...         0.000000   \n",
       "madosooki               0.100000         0.000000  ...         0.000000   \n",
       "krom0025                0.000000         0.000000  ...         0.000000   \n",
       "Its_not_him             0.011364         0.000000  ...         0.022727   \n",
       "staiano                 0.000000         0.000000  ...         0.228070   \n",
       "bintherematthat         0.000000         0.000000  ...         0.050847   \n",
       "silvathena              0.000000         0.000000  ...         0.000000   \n",
       "Ghee_Guys               0.004444         0.022222  ...         0.000000   \n",
       "Zernin                  0.000000         0.000000  ...         0.000000   \n",
       "seedster5               0.000000         0.000000  ...         0.338462   \n",
       "ThisIsMyBikeAccount     0.000000         0.000000  ...         0.625000   \n",
       "coltsmetsfan614         0.000000         0.000000  ...         0.069767   \n",
       "ExpectedDickbuttGotD    0.000000         0.000000  ...         0.000000   \n",
       "Pec0sb1ll               0.037383         0.000000  ...         0.018692   \n",
       "mozza_02                0.000000         0.000000  ...         0.000000   \n",
       "Johnny_15               0.000000         0.000000  ...         1.000000   \n",
       "homersbigfatclock       0.000000         0.000000  ...         0.000000   \n",
       "DoktorZaius             0.000000         0.000000  ...         0.000000   \n",
       "Ottolay                 0.000000         0.000000  ...         0.000000   \n",
       "\n",
       "                      conservative_comb  crypto_comb   CS_comb  football_comb  \\\n",
       "Boomslangalang                 0.000000     0.000000  0.000000       0.000000   \n",
       "bczeon27                       0.000000     0.133333  0.000000       0.000000   \n",
       "madosooki                      0.000000     0.000000  0.100000       0.000000   \n",
       "krom0025                       0.000000     0.000000  0.000000       0.003846   \n",
       "Its_not_him                    0.000000     0.000000  0.000000       0.011364   \n",
       "staiano                        0.000000     0.000000  0.114035       0.078947   \n",
       "bintherematthat                0.101695     0.000000  0.000000       0.779661   \n",
       "silvathena                     0.000000     0.000000  0.000000       0.000000   \n",
       "Ghee_Guys                      0.000000     0.000000  0.000000       0.653333   \n",
       "Zernin                         0.000000     0.000000  0.000000       0.000000   \n",
       "seedster5                      0.000000     0.000000  0.000000       0.000000   \n",
       "ThisIsMyBikeAccount            0.000000     0.000000  0.000000       0.000000   \n",
       "coltsmetsfan614                0.000000     0.000000  0.000000       0.013289   \n",
       "ExpectedDickbuttGotD           0.000000     0.000000  0.000000       0.000000   \n",
       "Pec0sb1ll                      0.000000     0.000000  0.000000       0.000000   \n",
       "mozza_02                       0.020000     0.000000  0.000000       0.000000   \n",
       "Johnny_15                      0.000000     0.000000  0.000000       0.000000   \n",
       "homersbigfatclock              0.000000     0.000000  0.000000       0.000000   \n",
       "DoktorZaius                    0.000000     0.000000  0.000000       0.000000   \n",
       "Ottolay                        0.000000     0.000000  0.000000       0.000000   \n",
       "\n",
       "                      got_comb   pc_comb  soccer_comb  gaming_comb  \\\n",
       "Boomslangalang        0.000000  0.000000     0.000000     0.027778   \n",
       "bczeon27              0.000000  0.000000     0.000000     0.000000   \n",
       "madosooki             0.000000  0.000000     0.000000     0.000000   \n",
       "krom0025              0.000000  0.000000     0.000000     0.003846   \n",
       "Its_not_him           0.000000  0.000000     0.590909     0.011364   \n",
       "staiano               0.000000  0.000000     0.000000     0.000000   \n",
       "bintherematthat       0.000000  0.000000     0.000000     0.000000   \n",
       "silvathena            0.000000  0.000000     0.000000     0.000000   \n",
       "Ghee_Guys             0.075556  0.000000     0.000000     0.004444   \n",
       "Zernin                0.000000  0.000000     0.000000     0.000000   \n",
       "seedster5             0.000000  0.000000     0.000000     0.015385   \n",
       "ThisIsMyBikeAccount   0.250000  0.000000     0.000000     0.000000   \n",
       "coltsmetsfan614       0.016611  0.000000     0.000000     0.003322   \n",
       "ExpectedDickbuttGotD  0.200000  0.000000     0.000000     0.000000   \n",
       "Pec0sb1ll             0.046729  0.000000     0.000000     0.028037   \n",
       "mozza_02              0.000000  0.000000     0.000000     0.000000   \n",
       "Johnny_15             0.000000  0.000000     0.000000     0.000000   \n",
       "homersbigfatclock     0.000000  0.000000     0.000000     0.000000   \n",
       "DoktorZaius           0.133333  0.012121     0.000000     0.000000   \n",
       "Ottolay               0.000000  0.000000     0.000000     0.000000   \n",
       "\n",
       "                      pokemon_comb  \n",
       "Boomslangalang                 0.0  \n",
       "bczeon27                       0.0  \n",
       "madosooki                      0.0  \n",
       "krom0025                       0.0  \n",
       "Its_not_him                    0.0  \n",
       "staiano                        0.0  \n",
       "bintherematthat                0.0  \n",
       "silvathena                     0.0  \n",
       "Ghee_Guys                      0.0  \n",
       "Zernin                         0.0  \n",
       "seedster5                      0.0  \n",
       "ThisIsMyBikeAccount            0.0  \n",
       "coltsmetsfan614                0.0  \n",
       "ExpectedDickbuttGotD           0.0  \n",
       "Pec0sb1ll                      0.0  \n",
       "mozza_02                       0.0  \n",
       "Johnny_15                      0.0  \n",
       "homersbigfatclock              0.0  \n",
       "DoktorZaius                    0.0  \n",
       "Ottolay                        0.0  \n",
       "\n",
       "[20 rows x 74 columns]"
      ]
     },
     "execution_count": 27,
     "metadata": {},
     "output_type": "execute_result"
    }
   ],
   "source": [
    "df_feature.head(20)"
   ]
  },
  {
   "cell_type": "code",
   "execution_count": 28,
   "metadata": {},
   "outputs": [],
   "source": [
    "df_target_train = df_target_train.set_index('Unnamed: 0')"
   ]
  },
  {
   "cell_type": "code",
   "execution_count": 29,
   "metadata": {},
   "outputs": [],
   "source": [
    "df_target_test = df_target_test.set_index('Unnamed: 0')"
   ]
  },
  {
   "cell_type": "code",
   "execution_count": 30,
   "metadata": {},
   "outputs": [
    {
     "data": {
      "text/plain": [
       "(2891, 74)"
      ]
     },
     "execution_count": 30,
     "metadata": {},
     "output_type": "execute_result"
    }
   ],
   "source": [
    "df_feature.shape"
   ]
  },
  {
   "cell_type": "code",
   "execution_count": 31,
   "metadata": {},
   "outputs": [],
   "source": [
    "df_train = pd.concat([df_feature,df_target_train],axis=1,join='inner')"
   ]
  },
  {
   "cell_type": "code",
   "execution_count": 32,
   "metadata": {},
   "outputs": [],
   "source": [
    "df_test = pd.concat([df_feature,df_target_test],axis=1,join='inner')"
   ]
  },
  {
   "cell_type": "code",
   "execution_count": 33,
   "metadata": {},
   "outputs": [
    {
     "data": {
      "text/plain": [
       "(2173, 75)"
      ]
     },
     "execution_count": 33,
     "metadata": {},
     "output_type": "execute_result"
    }
   ],
   "source": [
    "df_train.shape"
   ]
  },
  {
   "cell_type": "code",
   "execution_count": 34,
   "metadata": {},
   "outputs": [
    {
     "data": {
      "text/plain": [
       "(718, 75)"
      ]
     },
     "execution_count": 34,
     "metadata": {},
     "output_type": "execute_result"
    }
   ],
   "source": [
    "df_test.shape"
   ]
  },
  {
   "cell_type": "code",
   "execution_count": 35,
   "metadata": {},
   "outputs": [],
   "source": [
    "from sklearn.linear_model import LogisticRegression"
   ]
  },
  {
   "cell_type": "code",
   "execution_count": 36,
   "metadata": {},
   "outputs": [],
   "source": [
    "lr = LogisticRegression(solver='lbfgs')"
   ]
  },
  {
   "cell_type": "code",
   "execution_count": 37,
   "metadata": {},
   "outputs": [],
   "source": [
    "X_train = df_train.drop('target',axis=1)"
   ]
  },
  {
   "cell_type": "code",
   "execution_count": 38,
   "metadata": {},
   "outputs": [],
   "source": [
    "y_train = df_train['target']"
   ]
  },
  {
   "cell_type": "code",
   "execution_count": 39,
   "metadata": {},
   "outputs": [],
   "source": [
    "X_test = df_test.drop('target',axis=1)"
   ]
  },
  {
   "cell_type": "code",
   "execution_count": 40,
   "metadata": {},
   "outputs": [],
   "source": [
    "y_test = df_test['target']"
   ]
  },
  {
   "cell_type": "code",
   "execution_count": 41,
   "metadata": {},
   "outputs": [
    {
     "data": {
      "text/plain": [
       "LogisticRegression(C=1.0, class_weight=None, dual=False, fit_intercept=True,\n",
       "                   intercept_scaling=1, l1_ratio=None, max_iter=100,\n",
       "                   multi_class='warn', n_jobs=None, penalty='l2',\n",
       "                   random_state=None, solver='lbfgs', tol=0.0001, verbose=0,\n",
       "                   warm_start=False)"
      ]
     },
     "execution_count": 41,
     "metadata": {},
     "output_type": "execute_result"
    }
   ],
   "source": [
    "lr.fit(X_train,y_train)"
   ]
  },
  {
   "cell_type": "code",
   "execution_count": 42,
   "metadata": {},
   "outputs": [
    {
     "data": {
      "text/plain": [
       "0.771744132535665"
      ]
     },
     "execution_count": 42,
     "metadata": {},
     "output_type": "execute_result"
    }
   ],
   "source": [
    "lr.score(X_train,y_train)"
   ]
  },
  {
   "cell_type": "code",
   "execution_count": 43,
   "metadata": {},
   "outputs": [
    {
     "data": {
      "text/plain": [
       "0    0.735849\n",
       "1    0.264151\n",
       "Name: target, dtype: float64"
      ]
     },
     "execution_count": 43,
     "metadata": {},
     "output_type": "execute_result"
    }
   ],
   "source": [
    "y_train.value_counts(normalize=True)"
   ]
  },
  {
   "cell_type": "code",
   "execution_count": 44,
   "metadata": {},
   "outputs": [
    {
     "data": {
      "text/plain": [
       "0.7646239554317549"
      ]
     },
     "execution_count": 44,
     "metadata": {},
     "output_type": "execute_result"
    }
   ],
   "source": [
    "lr.score(X_test,y_test)"
   ]
  },
  {
   "cell_type": "code",
   "execution_count": 45,
   "metadata": {},
   "outputs": [
    {
     "data": {
      "text/plain": [
       "0    0.736769\n",
       "1    0.263231\n",
       "Name: target, dtype: float64"
      ]
     },
     "execution_count": 45,
     "metadata": {},
     "output_type": "execute_result"
    }
   ],
   "source": [
    "y_test.value_counts(normalize=True)"
   ]
  },
  {
   "cell_type": "code",
   "execution_count": 46,
   "metadata": {},
   "outputs": [
    {
     "data": {
      "text/plain": [
       "0    0.924791\n",
       "1    0.075209\n",
       "dtype: float64"
      ]
     },
     "execution_count": 46,
     "metadata": {},
     "output_type": "execute_result"
    }
   ],
   "source": [
    "pd.Series(lr.predict(X_test)).value_counts(normalize=True)"
   ]
  },
  {
   "cell_type": "code",
   "execution_count": 47,
   "metadata": {},
   "outputs": [],
   "source": [
    "results = pd.DataFrame(lr.coef_.T,X_test.columns)"
   ]
  },
  {
   "cell_type": "code",
   "execution_count": 48,
   "metadata": {},
   "outputs": [
    {
     "data": {
      "text/html": [
       "<div>\n",
       "<style scoped>\n",
       "    .dataframe tbody tr th:only-of-type {\n",
       "        vertical-align: middle;\n",
       "    }\n",
       "\n",
       "    .dataframe tbody tr th {\n",
       "        vertical-align: top;\n",
       "    }\n",
       "\n",
       "    .dataframe thead th {\n",
       "        text-align: right;\n",
       "    }\n",
       "</style>\n",
       "<table border=\"1\" class=\"dataframe\">\n",
       "  <thead>\n",
       "    <tr style=\"text-align: right;\">\n",
       "      <th></th>\n",
       "      <th>0</th>\n",
       "    </tr>\n",
       "  </thead>\n",
       "  <tbody>\n",
       "    <tr>\n",
       "      <th>Android</th>\n",
       "      <td>0.950833</td>\n",
       "    </tr>\n",
       "    <tr>\n",
       "      <th>BasicIncome</th>\n",
       "      <td>3.778120</td>\n",
       "    </tr>\n",
       "    <tr>\n",
       "      <th>BigBrother</th>\n",
       "      <td>-1.148972</td>\n",
       "    </tr>\n",
       "    <tr>\n",
       "      <th>Christianity</th>\n",
       "      <td>-0.404623</td>\n",
       "    </tr>\n",
       "    <tr>\n",
       "      <th>Cricket</th>\n",
       "      <td>-0.395387</td>\n",
       "    </tr>\n",
       "  </tbody>\n",
       "</table>\n",
       "</div>"
      ],
      "text/plain": [
       "                     0\n",
       "Android       0.950833\n",
       "BasicIncome   3.778120\n",
       "BigBrother   -1.148972\n",
       "Christianity -0.404623\n",
       "Cricket      -0.395387"
      ]
     },
     "execution_count": 48,
     "metadata": {},
     "output_type": "execute_result"
    }
   ],
   "source": [
    "results.head()"
   ]
  },
  {
   "cell_type": "code",
   "execution_count": 49,
   "metadata": {},
   "outputs": [
    {
     "data": {
      "text/plain": [
       "(array([0., 1., 4., 2., 3., 4., 5., 2., 5., 3., 3., 2., 5., 2., 2., 1., 2.,\n",
       "        1., 0., 1.]),\n",
       " array([-1. , -0.9, -0.8, -0.7, -0.6, -0.5, -0.4, -0.3, -0.2, -0.1,  0. ,\n",
       "         0.1,  0.2,  0.3,  0.4,  0.5,  0.6,  0.7,  0.8,  0.9,  1. ]),\n",
       " <a list of 20 Patch objects>)"
      ]
     },
     "execution_count": 49,
     "metadata": {},
     "output_type": "execute_result"
    },
    {
     "data": {
      "image/png": "[encoded data removed]",
      "text/plain": [
       "<Figure size 432x288 with 1 Axes>"
      ]
     },
     "metadata": {
      "needs_background": "light"
     },
     "output_type": "display_data"
    }
   ],
   "source": [
    "plt.hist(results[0],bins=20,range=(-1,1))"
   ]
  },
  {
   "cell_type": "code",
   "execution_count": 50,
   "metadata": {},
   "outputs": [
    {
     "data": {
      "text/html": [
       "<div>\n",
       "<style scoped>\n",
       "    .dataframe tbody tr th:only-of-type {\n",
       "        vertical-align: middle;\n",
       "    }\n",
       "\n",
       "    .dataframe tbody tr th {\n",
       "        vertical-align: top;\n",
       "    }\n",
       "\n",
       "    .dataframe thead th {\n",
       "        text-align: right;\n",
       "    }\n",
       "</style>\n",
       "<table border=\"1\" class=\"dataframe\">\n",
       "  <thead>\n",
       "    <tr style=\"text-align: right;\">\n",
       "      <th></th>\n",
       "      <th>0</th>\n",
       "    </tr>\n",
       "  </thead>\n",
       "  <tbody>\n",
       "    <tr>\n",
       "      <th>SquaredCircle</th>\n",
       "      <td>0.261824</td>\n",
       "    </tr>\n",
       "    <tr>\n",
       "      <th>apple</th>\n",
       "      <td>0.260132</td>\n",
       "    </tr>\n",
       "    <tr>\n",
       "      <th>collapse</th>\n",
       "      <td>-0.164239</td>\n",
       "    </tr>\n",
       "    <tr>\n",
       "      <th>exmormon</th>\n",
       "      <td>0.039454</td>\n",
       "    </tr>\n",
       "    <tr>\n",
       "      <th>fantasyfootball</th>\n",
       "      <td>0.293713</td>\n",
       "    </tr>\n",
       "    <tr>\n",
       "      <th>formula1</th>\n",
       "      <td>-0.050711</td>\n",
       "    </tr>\n",
       "    <tr>\n",
       "      <th>golf</th>\n",
       "      <td>0.030270</td>\n",
       "    </tr>\n",
       "    <tr>\n",
       "      <th>moderatepolitics</th>\n",
       "      <td>-0.209392</td>\n",
       "    </tr>\n",
       "    <tr>\n",
       "      <th>pcmasterrace</th>\n",
       "      <td>0.105562</td>\n",
       "    </tr>\n",
       "    <tr>\n",
       "      <th>science</th>\n",
       "      <td>-0.285040</td>\n",
       "    </tr>\n",
       "    <tr>\n",
       "      <th>space</th>\n",
       "      <td>-0.101005</td>\n",
       "    </tr>\n",
       "    <tr>\n",
       "      <th>startrek</th>\n",
       "      <td>-0.101923</td>\n",
       "    </tr>\n",
       "    <tr>\n",
       "      <th>survivor</th>\n",
       "      <td>0.098622</td>\n",
       "    </tr>\n",
       "    <tr>\n",
       "      <th>thedavidpakmanshow</th>\n",
       "      <td>0.142866</td>\n",
       "    </tr>\n",
       "    <tr>\n",
       "      <th>vegan</th>\n",
       "      <td>0.296809</td>\n",
       "    </tr>\n",
       "    <tr>\n",
       "      <th>baseball_comb</th>\n",
       "      <td>-0.032164</td>\n",
       "    </tr>\n",
       "    <tr>\n",
       "      <th>CS_comb</th>\n",
       "      <td>-0.176883</td>\n",
       "    </tr>\n",
       "    <tr>\n",
       "      <th>got_comb</th>\n",
       "      <td>-0.111015</td>\n",
       "    </tr>\n",
       "    <tr>\n",
       "      <th>soccer_comb</th>\n",
       "      <td>0.240220</td>\n",
       "    </tr>\n",
       "    <tr>\n",
       "      <th>pokemon_comb</th>\n",
       "      <td>-0.090641</td>\n",
       "    </tr>\n",
       "  </tbody>\n",
       "</table>\n",
       "</div>"
      ],
      "text/plain": [
       "                           0\n",
       "SquaredCircle       0.261824\n",
       "apple               0.260132\n",
       "collapse           -0.164239\n",
       "exmormon            0.039454\n",
       "fantasyfootball     0.293713\n",
       "formula1           -0.050711\n",
       "golf                0.030270\n",
       "moderatepolitics   -0.209392\n",
       "pcmasterrace        0.105562\n",
       "science            -0.285040\n",
       "space              -0.101005\n",
       "startrek           -0.101923\n",
       "survivor            0.098622\n",
       "thedavidpakmanshow  0.142866\n",
       "vegan               0.296809\n",
       "baseball_comb      -0.032164\n",
       "CS_comb            -0.176883\n",
       "got_comb           -0.111015\n",
       "soccer_comb         0.240220\n",
       "pokemon_comb       -0.090641"
      ]
     },
     "execution_count": 50,
     "metadata": {},
     "output_type": "execute_result"
    }
   ],
   "source": [
    "results[abs(results[0])<.3]"
   ]
  },
  {
   "cell_type": "code",
   "execution_count": 51,
   "metadata": {},
   "outputs": [],
   "source": [
    "#let's run through this notebook again with these columns dropped"
   ]
  }
 ],
 "metadata": {
  "kernelspec": {
   "display_name": "Python 3",
   "language": "python",
   "name": "python3"
  },
  "language_info": {
   "codemirror_mode": {
    "name": "ipython",
    "version": 3
   },
   "file_extension": ".py",
   "mimetype": "text/x-python",
   "name": "python",
   "nbconvert_exporter": "python",
   "pygments_lexer": "ipython3",
   "version": "3.7.3"
  }
 },
 "nbformat": 4,
 "nbformat_minor": 2
}
