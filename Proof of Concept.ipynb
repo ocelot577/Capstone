{
 "cells": [
  {
   "cell_type": "code",
   "execution_count": 2,
   "metadata": {},
   "outputs": [],
   "source": [
    "import praw\n",
    "import json\n",
    "import time\n",
    "import pandas as pd\n",
    "import sys\n",
    "import numpy as np"
   ]
  },
  {
   "cell_type": "code",
   "execution_count": 3,
   "metadata": {},
   "outputs": [],
   "source": [
    "json_file = open('Reddit_creds.json')\n",
    "json_str = json_file.read()\n",
    "json_data = json.loads(json_str)"
   ]
  },
  {
   "cell_type": "code",
   "execution_count": 4,
   "metadata": {},
   "outputs": [],
   "source": [
    "reddit = praw.Reddit(user_agent=json_data['user_agent'],\n",
    "                     client_id=json_data['client_id'], client_secret=json_data['client_secret'])"
   ]
  },
  {
   "cell_type": "code",
   "execution_count": 5,
   "metadata": {},
   "outputs": [],
   "source": [
    "yang_sub = reddit.subreddit('YangForPresidentHQ')"
   ]
  },
  {
   "cell_type": "code",
   "execution_count": 6,
   "metadata": {},
   "outputs": [],
   "source": [
    "pete_sub = reddit.subreddit('Pete_Buttigieg')"
   ]
  },
  {
   "cell_type": "code",
   "execution_count": 7,
   "metadata": {},
   "outputs": [],
   "source": [
    "sanders_sub = reddit.subreddit('SandersForPresident/')"
   ]
  },
  {
   "cell_type": "code",
   "execution_count": 8,
   "metadata": {},
   "outputs": [],
   "source": [
    "harris_sub = reddit.subreddit('Kamala')"
   ]
  },
  {
   "cell_type": "code",
   "execution_count": 9,
   "metadata": {},
   "outputs": [],
   "source": [
    "biden_sub = reddit.subreddit('JoeBiden')"
   ]
  },
  {
   "cell_type": "code",
   "execution_count": 10,
   "metadata": {},
   "outputs": [],
   "source": [
    "subs = [yang_sub,pete_sub,sanders_sub,harris_sub,biden_sub]"
   ]
  },
  {
   "cell_type": "code",
   "execution_count": 11,
   "metadata": {},
   "outputs": [],
   "source": [
    "users = []"
   ]
  },
  {
   "cell_type": "code",
   "execution_count": 12,
   "metadata": {},
   "outputs": [
    {
     "name": "stdout",
     "output_type": "stream",
     "text": [
      "4678\n",
      "1694\n",
      "34.113534927368164\n"
     ]
    }
   ],
   "source": [
    "start = time.time()\n",
    "for sub in subs:\n",
    "    for comment in sub.comments(limit=1000):\n",
    "        users.append(comment.author)\n",
    "        \n",
    "print(len(users))\n",
    "users = list(set(users))\n",
    "print(len(users))\n",
    "end = time.time()\n",
    "print(end-start)"
   ]
  },
  {
   "cell_type": "code",
   "execution_count": 13,
   "metadata": {},
   "outputs": [],
   "source": [
    "nums = np.random.randint(1,1702,100)"
   ]
  },
  {
   "cell_type": "code",
   "execution_count": 14,
   "metadata": {},
   "outputs": [],
   "source": [
    "short_list = []\n",
    "for x in nums:\n",
    "    short_list.append(users[x])"
   ]
  },
  {
   "cell_type": "code",
   "execution_count": 16,
   "metadata": {},
   "outputs": [
    {
     "name": "stdout",
     "output_type": "stream",
     "text": [
      "0\n",
      "2.797444661458333e-06\n",
      "10\n",
      "0.8571161190668742\n",
      "20\n",
      "1.4855206648508708\n",
      "30\n",
      "1.726123849550883\n",
      "40\n",
      "2.5624594648679095\n",
      "50\n",
      "3.426113951206207\n",
      "60\n",
      "4.1121755838394165\n",
      "70\n",
      "4.78797268072764\n",
      "80\n",
      "5.3164897163709\n",
      "90\n",
      "6.126079400380452\n",
      "409.5078480243683\n"
     ]
    }
   ],
   "source": [
    "start = time.time()\n",
    "text = []\n",
    "author = []\n",
    "subreddit = []\n",
    "postid = []\n",
    "counter = 0\n",
    "for user in short_list:\n",
    "    if counter % 10 == 0:\n",
    "        prog = time.time()\n",
    "        print(counter)\n",
    "        print((prog-start)/60)\n",
    "    try:  #handle cases where redditor is deleted or something\n",
    "        for comment in user.comments.new(limit=1000):\n",
    "            author.append(comment.author)\n",
    "            postid.append(comment.id)\n",
    "            subreddit.append(comment.subreddit.display_name)\n",
    "    except:\n",
    "        pass\n",
    "    counter += 1\n",
    "end = time.time()\n",
    "print(end-start)"
   ]
  },
  {
   "cell_type": "code",
   "execution_count": 17,
   "metadata": {},
   "outputs": [],
   "source": [
    "df = pd.DataFrame([author,subreddit,postid],\\\n",
    "                        index=['Author','Subreddit','Post ID']).T"
   ]
  },
  {
   "cell_type": "code",
   "execution_count": 24,
   "metadata": {},
   "outputs": [
    {
     "data": {
      "text/plain": [
       "politics               6338\n",
       "YangForPresidentHQ     4142\n",
       "Pete_Buttigieg         3211\n",
       "SandersForPresident    2431\n",
       "AskReddit              1697\n",
       "neoliberal             1222\n",
       "worldnews              1076\n",
       "MMA                    1036\n",
       "stupidpol               664\n",
       "Braves                  618\n",
       "news                    613\n",
       "fo76                    592\n",
       "MaddenUltimateTeam      496\n",
       "WayOfTheBern            455\n",
       "Kamala                  448\n",
       "movies                  442\n",
       "pics                    412\n",
       "todayilearned           404\n",
       "freefolk                383\n",
       "unpopularopinion        350\n",
       "langrisser              343\n",
       "Market76                340\n",
       "funny                   328\n",
       "Catholicism             328\n",
       "Cricket                 290\n",
       "Name: Subreddit, dtype: int64"
      ]
     },
     "execution_count": 24,
     "metadata": {},
     "output_type": "execute_result"
    }
   ],
   "source": [
    "df['Subreddit'].value_counts().head(25)"
   ]
  },
  {
   "cell_type": "code",
   "execution_count": 25,
   "metadata": {},
   "outputs": [],
   "source": [
    "subs = list(df['Subreddit'].value_counts().head(25).index)"
   ]
  },
  {
   "cell_type": "code",
   "execution_count": 26,
   "metadata": {},
   "outputs": [
    {
     "name": "stdout",
     "output_type": "stream",
     "text": [
      "1\n",
      "2\n",
      "3\n",
      "4\n",
      "5\n",
      "6\n",
      "7\n",
      "8\n",
      "9\n",
      "10\n",
      "11\n",
      "12\n",
      "13\n",
      "14\n",
      "15\n",
      "16\n",
      "17\n",
      "18\n",
      "19\n",
      "20\n",
      "21\n",
      "22\n",
      "23\n",
      "24\n",
      "25\n",
      "26\n",
      "27\n",
      "28\n",
      "29\n",
      "30\n",
      "31\n",
      "32\n",
      "33\n",
      "34\n",
      "35\n",
      "36\n",
      "37\n",
      "38\n",
      "39\n",
      "40\n",
      "41\n",
      "42\n",
      "43\n",
      "44\n",
      "45\n",
      "46\n",
      "47\n",
      "48\n",
      "49\n",
      "50\n",
      "51\n",
      "52\n",
      "53\n",
      "54\n",
      "55\n",
      "56\n",
      "57\n",
      "58\n",
      "59\n",
      "60\n",
      "61\n",
      "62\n",
      "63\n",
      "64\n",
      "65\n",
      "66\n",
      "67\n",
      "68\n",
      "69\n",
      "70\n",
      "71\n",
      "72\n",
      "73\n",
      "74\n",
      "75\n",
      "76\n",
      "77\n",
      "78\n",
      "79\n",
      "80\n",
      "81\n",
      "82\n",
      "83\n",
      "84\n",
      "85\n",
      "86\n",
      "87\n",
      "88\n",
      "89\n",
      "90\n",
      "91\n",
      "92\n",
      "93\n",
      "94\n",
      "95\n",
      "96\n",
      "97\n",
      "98\n",
      "99\n",
      "100\n"
     ]
    }
   ],
   "source": [
    "count = 0\n",
    "outer_dict = {}\n",
    "for user in short_list:\n",
    "    count += 1\n",
    "    dict_sub = {}\n",
    "    for comment in user.comments.new(limit=1000):\n",
    "        if comment.subreddit.display_name in subs:\n",
    "            if dict_sub.get(comment.subreddit.display_name,0) == 0:\n",
    "                dict_sub[comment.subreddit.display_name] = 1\n",
    "            else:\n",
    "                dict_sub[comment.subreddit.display_name] += 1\n",
    "    outer_dict[user] = dict_sub\n",
    "    print(count)\n"
   ]
  },
  {
   "cell_type": "code",
   "execution_count": 138,
   "metadata": {},
   "outputs": [],
   "source": [
    "df = pd.DataFrame(outer_dict).T"
   ]
  },
  {
   "cell_type": "code",
   "execution_count": 139,
   "metadata": {},
   "outputs": [],
   "source": [
    "def yang_gang(num):\n",
    "    num = int(num)\n",
    "    if num >= 10:\n",
    "        return 1\n",
    "    elif num == 0:\n",
    "        return 0\n",
    "    else:\n",
    "        return 'bad'"
   ]
  },
  {
   "cell_type": "code",
   "execution_count": 140,
   "metadata": {},
   "outputs": [],
   "source": [
    "df.fillna(0,inplace=True)"
   ]
  },
  {
   "cell_type": "code",
   "execution_count": 141,
   "metadata": {},
   "outputs": [],
   "source": [
    "df['target']=df['YangForPresidentHQ'].apply(yang_gang)"
   ]
  },
  {
   "cell_type": "code",
   "execution_count": 142,
   "metadata": {},
   "outputs": [],
   "source": [
    "df = df[(df['target']==0)|(df['target']==1)]"
   ]
  },
  {
   "cell_type": "code",
   "execution_count": 143,
   "metadata": {},
   "outputs": [
    {
     "data": {
      "text/plain": [
       "(77, 26)"
      ]
     },
     "execution_count": 143,
     "metadata": {},
     "output_type": "execute_result"
    }
   ],
   "source": [
    "df.shape"
   ]
  },
  {
   "cell_type": "code",
   "execution_count": 144,
   "metadata": {},
   "outputs": [],
   "source": [
    "df.drop('YangForPresidentHQ',axis=1,inplace=True)"
   ]
  },
  {
   "cell_type": "code",
   "execution_count": 118,
   "metadata": {},
   "outputs": [],
   "source": []
  },
  {
   "cell_type": "code",
   "execution_count": 145,
   "metadata": {},
   "outputs": [],
   "source": [
    "df.dropna(inplace=True)"
   ]
  },
  {
   "cell_type": "code",
   "execution_count": 146,
   "metadata": {},
   "outputs": [],
   "source": [
    "from sklearn.linear_model import LogisticRegression"
   ]
  },
  {
   "cell_type": "code",
   "execution_count": 147,
   "metadata": {},
   "outputs": [],
   "source": [
    "lr = LogisticRegression()"
   ]
  },
  {
   "cell_type": "code",
   "execution_count": 148,
   "metadata": {},
   "outputs": [],
   "source": [
    "X = df.drop('target',axis=1)\n",
    "y = df['target']"
   ]
  },
  {
   "cell_type": "code",
   "execution_count": 149,
   "metadata": {},
   "outputs": [],
   "source": [
    "X = X.div(X.sum(axis=1), axis=0)"
   ]
  },
  {
   "cell_type": "code",
   "execution_count": 154,
   "metadata": {},
   "outputs": [],
   "source": [
    "df2 = pd.concat([X,y],axis=1)"
   ]
  },
  {
   "cell_type": "code",
   "execution_count": 157,
   "metadata": {},
   "outputs": [],
   "source": [
    "df2.dropna(inplace=True)"
   ]
  },
  {
   "cell_type": "code",
   "execution_count": 158,
   "metadata": {},
   "outputs": [],
   "source": [
    "X2 = df2.drop('target',axis=1)\n",
    "y2 = df2['target']"
   ]
  },
  {
   "cell_type": "code",
   "execution_count": 159,
   "metadata": {},
   "outputs": [],
   "source": [
    "y2=y2.astype('int')"
   ]
  },
  {
   "cell_type": "code",
   "execution_count": 160,
   "metadata": {},
   "outputs": [
    {
     "name": "stderr",
     "output_type": "stream",
     "text": [
      "/Users/yichenh/anaconda3/lib/python3.7/site-packages/sklearn/linear_model/logistic.py:432: FutureWarning: Default solver will be changed to 'lbfgs' in 0.22. Specify a solver to silence this warning.\n",
      "  FutureWarning)\n"
     ]
    },
    {
     "data": {
      "text/plain": [
       "LogisticRegression(C=1.0, class_weight=None, dual=False, fit_intercept=True,\n",
       "                   intercept_scaling=1, l1_ratio=None, max_iter=100,\n",
       "                   multi_class='warn', n_jobs=None, penalty='l2',\n",
       "                   random_state=None, solver='warn', tol=0.0001, verbose=0,\n",
       "                   warm_start=False)"
      ]
     },
     "execution_count": 160,
     "metadata": {},
     "output_type": "execute_result"
    }
   ],
   "source": [
    "lr.fit(X2,y2)"
   ]
  },
  {
   "cell_type": "code",
   "execution_count": 161,
   "metadata": {},
   "outputs": [
    {
     "data": {
      "text/plain": [
       "array([[ 0.5276791 , -0.17351823, -0.18023074, -0.09536968, -0.60877982,\n",
       "         0.48179174,  0.6176701 , -0.05265871, -0.77576514, -0.39013073,\n",
       "        -0.19084515, -0.0915212 , -0.09105369,  0.36652782,  0.        ,\n",
       "        -0.08788976, -0.26280799, -0.16281394,  0.48864451,  0.28751587,\n",
       "        -0.13765346, -0.2137676 , -0.21781012, -0.33115996]])"
      ]
     },
     "execution_count": 161,
     "metadata": {},
     "output_type": "execute_result"
    }
   ],
   "source": [
    "lr.coef_"
   ]
  },
  {
   "cell_type": "code",
   "execution_count": 162,
   "metadata": {},
   "outputs": [
    {
     "data": {
      "text/plain": [
       "list"
      ]
     },
     "execution_count": 162,
     "metadata": {},
     "output_type": "execute_result"
    }
   ],
   "source": [
    "type(list(X2.columns))"
   ]
  },
  {
   "cell_type": "code",
   "execution_count": 163,
   "metadata": {},
   "outputs": [
    {
     "data": {
      "text/html": [
       "<div>\n",
       "<style scoped>\n",
       "    .dataframe tbody tr th:only-of-type {\n",
       "        vertical-align: middle;\n",
       "    }\n",
       "\n",
       "    .dataframe tbody tr th {\n",
       "        vertical-align: top;\n",
       "    }\n",
       "\n",
       "    .dataframe thead th {\n",
       "        text-align: right;\n",
       "    }\n",
       "</style>\n",
       "<table border=\"1\" class=\"dataframe\">\n",
       "  <thead>\n",
       "    <tr style=\"text-align: right;\">\n",
       "      <th></th>\n",
       "      <th>0</th>\n",
       "    </tr>\n",
       "  </thead>\n",
       "  <tbody>\n",
       "    <tr>\n",
       "      <th>AskReddit</th>\n",
       "      <td>0.527679</td>\n",
       "    </tr>\n",
       "    <tr>\n",
       "      <th>Braves</th>\n",
       "      <td>-0.173518</td>\n",
       "    </tr>\n",
       "    <tr>\n",
       "      <th>Catholicism</th>\n",
       "      <td>-0.180231</td>\n",
       "    </tr>\n",
       "    <tr>\n",
       "      <th>Cricket</th>\n",
       "      <td>-0.095370</td>\n",
       "    </tr>\n",
       "    <tr>\n",
       "      <th>Kamala</th>\n",
       "      <td>-0.608780</td>\n",
       "    </tr>\n",
       "    <tr>\n",
       "      <th>MMA</th>\n",
       "      <td>0.481792</td>\n",
       "    </tr>\n",
       "    <tr>\n",
       "      <th>MaddenUltimateTeam</th>\n",
       "      <td>0.617670</td>\n",
       "    </tr>\n",
       "    <tr>\n",
       "      <th>Market76</th>\n",
       "      <td>-0.052659</td>\n",
       "    </tr>\n",
       "    <tr>\n",
       "      <th>Pete_Buttigieg</th>\n",
       "      <td>-0.775765</td>\n",
       "    </tr>\n",
       "    <tr>\n",
       "      <th>SandersForPresident</th>\n",
       "      <td>-0.390131</td>\n",
       "    </tr>\n",
       "    <tr>\n",
       "      <th>WayOfTheBern</th>\n",
       "      <td>-0.190845</td>\n",
       "    </tr>\n",
       "    <tr>\n",
       "      <th>fo76</th>\n",
       "      <td>-0.091521</td>\n",
       "    </tr>\n",
       "    <tr>\n",
       "      <th>freefolk</th>\n",
       "      <td>-0.091054</td>\n",
       "    </tr>\n",
       "    <tr>\n",
       "      <th>funny</th>\n",
       "      <td>0.366528</td>\n",
       "    </tr>\n",
       "    <tr>\n",
       "      <th>langrisser</th>\n",
       "      <td>0.000000</td>\n",
       "    </tr>\n",
       "    <tr>\n",
       "      <th>movies</th>\n",
       "      <td>-0.087890</td>\n",
       "    </tr>\n",
       "    <tr>\n",
       "      <th>neoliberal</th>\n",
       "      <td>-0.262808</td>\n",
       "    </tr>\n",
       "    <tr>\n",
       "      <th>news</th>\n",
       "      <td>-0.162814</td>\n",
       "    </tr>\n",
       "    <tr>\n",
       "      <th>pics</th>\n",
       "      <td>0.488645</td>\n",
       "    </tr>\n",
       "    <tr>\n",
       "      <th>politics</th>\n",
       "      <td>0.287516</td>\n",
       "    </tr>\n",
       "    <tr>\n",
       "      <th>stupidpol</th>\n",
       "      <td>-0.137653</td>\n",
       "    </tr>\n",
       "    <tr>\n",
       "      <th>todayilearned</th>\n",
       "      <td>-0.213768</td>\n",
       "    </tr>\n",
       "    <tr>\n",
       "      <th>unpopularopinion</th>\n",
       "      <td>-0.217810</td>\n",
       "    </tr>\n",
       "    <tr>\n",
       "      <th>worldnews</th>\n",
       "      <td>-0.331160</td>\n",
       "    </tr>\n",
       "  </tbody>\n",
       "</table>\n",
       "</div>"
      ],
      "text/plain": [
       "                            0\n",
       "AskReddit            0.527679\n",
       "Braves              -0.173518\n",
       "Catholicism         -0.180231\n",
       "Cricket             -0.095370\n",
       "Kamala              -0.608780\n",
       "MMA                  0.481792\n",
       "MaddenUltimateTeam   0.617670\n",
       "Market76            -0.052659\n",
       "Pete_Buttigieg      -0.775765\n",
       "SandersForPresident -0.390131\n",
       "WayOfTheBern        -0.190845\n",
       "fo76                -0.091521\n",
       "freefolk            -0.091054\n",
       "funny                0.366528\n",
       "langrisser           0.000000\n",
       "movies              -0.087890\n",
       "neoliberal          -0.262808\n",
       "news                -0.162814\n",
       "pics                 0.488645\n",
       "politics             0.287516\n",
       "stupidpol           -0.137653\n",
       "todayilearned       -0.213768\n",
       "unpopularopinion    -0.217810\n",
       "worldnews           -0.331160"
      ]
     },
     "execution_count": 163,
     "metadata": {},
     "output_type": "execute_result"
    }
   ],
   "source": [
    "pd.DataFrame(lr.coef_.T,X2.columns)"
   ]
  },
  {
   "cell_type": "code",
   "execution_count": 167,
   "metadata": {},
   "outputs": [
    {
     "data": {
      "text/html": [
       "<div>\n",
       "<style scoped>\n",
       "    .dataframe tbody tr th:only-of-type {\n",
       "        vertical-align: middle;\n",
       "    }\n",
       "\n",
       "    .dataframe tbody tr th {\n",
       "        vertical-align: top;\n",
       "    }\n",
       "\n",
       "    .dataframe thead th {\n",
       "        text-align: right;\n",
       "    }\n",
       "</style>\n",
       "<table border=\"1\" class=\"dataframe\">\n",
       "  <thead>\n",
       "    <tr style=\"text-align: right;\">\n",
       "      <th></th>\n",
       "      <th>politics</th>\n",
       "      <th>target</th>\n",
       "    </tr>\n",
       "  </thead>\n",
       "  <tbody>\n",
       "    <tr>\n",
       "      <th>mrcorndogman33</th>\n",
       "      <td>0.086207</td>\n",
       "      <td>0</td>\n",
       "    </tr>\n",
       "    <tr>\n",
       "      <th>Pintofyourbest</th>\n",
       "      <td>0.283168</td>\n",
       "      <td>0</td>\n",
       "    </tr>\n",
       "    <tr>\n",
       "      <th>watercolorwildflower</th>\n",
       "      <td>0.111111</td>\n",
       "      <td>0</td>\n",
       "    </tr>\n",
       "    <tr>\n",
       "      <th>SecretMuslim08</th>\n",
       "      <td>0.250000</td>\n",
       "      <td>0</td>\n",
       "    </tr>\n",
       "    <tr>\n",
       "      <th>joebleaux</th>\n",
       "      <td>0.000000</td>\n",
       "      <td>0</td>\n",
       "    </tr>\n",
       "    <tr>\n",
       "      <th>fraudymcfraudster</th>\n",
       "      <td>0.553488</td>\n",
       "      <td>0</td>\n",
       "    </tr>\n",
       "    <tr>\n",
       "      <th>exdelicto</th>\n",
       "      <td>0.314815</td>\n",
       "      <td>0</td>\n",
       "    </tr>\n",
       "    <tr>\n",
       "      <th>SAKabir</th>\n",
       "      <td>0.081218</td>\n",
       "      <td>0</td>\n",
       "    </tr>\n",
       "    <tr>\n",
       "      <th>RxVote</th>\n",
       "      <td>0.609787</td>\n",
       "      <td>0</td>\n",
       "    </tr>\n",
       "    <tr>\n",
       "      <th>nevertoolate1983</th>\n",
       "      <td>0.198473</td>\n",
       "      <td>1</td>\n",
       "    </tr>\n",
       "    <tr>\n",
       "      <th>nykfeng</th>\n",
       "      <td>1.000000</td>\n",
       "      <td>1</td>\n",
       "    </tr>\n",
       "    <tr>\n",
       "      <th>Rottanathyst</th>\n",
       "      <td>0.058824</td>\n",
       "      <td>0</td>\n",
       "    </tr>\n",
       "    <tr>\n",
       "      <th>_AllWittyNamesTaken_</th>\n",
       "      <td>0.356725</td>\n",
       "      <td>0</td>\n",
       "    </tr>\n",
       "    <tr>\n",
       "      <th>JMoFilm</th>\n",
       "      <td>0.006711</td>\n",
       "      <td>0</td>\n",
       "    </tr>\n",
       "    <tr>\n",
       "      <th>isthisgood80</th>\n",
       "      <td>0.500000</td>\n",
       "      <td>0</td>\n",
       "    </tr>\n",
       "    <tr>\n",
       "      <th>squarehedge</th>\n",
       "      <td>0.447368</td>\n",
       "      <td>0</td>\n",
       "    </tr>\n",
       "    <tr>\n",
       "      <th>Mystic789</th>\n",
       "      <td>0.000000</td>\n",
       "      <td>0</td>\n",
       "    </tr>\n",
       "    <tr>\n",
       "      <th>crimpyantennae</th>\n",
       "      <td>0.010000</td>\n",
       "      <td>0</td>\n",
       "    </tr>\n",
       "    <tr>\n",
       "      <th>MarkJanusIsAScab</th>\n",
       "      <td>0.329949</td>\n",
       "      <td>0</td>\n",
       "    </tr>\n",
       "    <tr>\n",
       "      <th>DoggieSchoolBus2</th>\n",
       "      <td>0.116279</td>\n",
       "      <td>0</td>\n",
       "    </tr>\n",
       "    <tr>\n",
       "      <th>Milkk_Man</th>\n",
       "      <td>0.000000</td>\n",
       "      <td>1</td>\n",
       "    </tr>\n",
       "    <tr>\n",
       "      <th>SaltedAvocadosMhh</th>\n",
       "      <td>0.000000</td>\n",
       "      <td>0</td>\n",
       "    </tr>\n",
       "    <tr>\n",
       "      <th>Epic_XC</th>\n",
       "      <td>0.704545</td>\n",
       "      <td>0</td>\n",
       "    </tr>\n",
       "    <tr>\n",
       "      <th>Srsly_dang</th>\n",
       "      <td>0.037594</td>\n",
       "      <td>0</td>\n",
       "    </tr>\n",
       "    <tr>\n",
       "      <th>rabbidbunnyz22</th>\n",
       "      <td>0.303630</td>\n",
       "      <td>0</td>\n",
       "    </tr>\n",
       "    <tr>\n",
       "      <th>lysergic5253</th>\n",
       "      <td>0.111650</td>\n",
       "      <td>0</td>\n",
       "    </tr>\n",
       "    <tr>\n",
       "      <th>st1r</th>\n",
       "      <td>0.400000</td>\n",
       "      <td>0</td>\n",
       "    </tr>\n",
       "    <tr>\n",
       "      <th>CordageMonger</th>\n",
       "      <td>0.000000</td>\n",
       "      <td>0</td>\n",
       "    </tr>\n",
       "    <tr>\n",
       "      <th>Euphoric_Translator</th>\n",
       "      <td>0.005917</td>\n",
       "      <td>0</td>\n",
       "    </tr>\n",
       "    <tr>\n",
       "      <th>ThoughtsOnGovernment</th>\n",
       "      <td>0.000000</td>\n",
       "      <td>0</td>\n",
       "    </tr>\n",
       "    <tr>\n",
       "      <th>...</th>\n",
       "      <td>...</td>\n",
       "      <td>...</td>\n",
       "    </tr>\n",
       "    <tr>\n",
       "      <th>IamKyleBizzle</th>\n",
       "      <td>0.000000</td>\n",
       "      <td>1</td>\n",
       "    </tr>\n",
       "    <tr>\n",
       "      <th>MonkeysLikeApples</th>\n",
       "      <td>0.000000</td>\n",
       "      <td>0</td>\n",
       "    </tr>\n",
       "    <tr>\n",
       "      <th>TheRealRamanji</th>\n",
       "      <td>0.000000</td>\n",
       "      <td>0</td>\n",
       "    </tr>\n",
       "    <tr>\n",
       "      <th>Bizzlebomb</th>\n",
       "      <td>0.002016</td>\n",
       "      <td>1</td>\n",
       "    </tr>\n",
       "    <tr>\n",
       "      <th>difazx4</th>\n",
       "      <td>0.819277</td>\n",
       "      <td>0</td>\n",
       "    </tr>\n",
       "    <tr>\n",
       "      <th>Hodgi22</th>\n",
       "      <td>0.002755</td>\n",
       "      <td>1</td>\n",
       "    </tr>\n",
       "    <tr>\n",
       "      <th>Applyingto-throwaway</th>\n",
       "      <td>0.000000</td>\n",
       "      <td>0</td>\n",
       "    </tr>\n",
       "    <tr>\n",
       "      <th>deathhandmachiavelli</th>\n",
       "      <td>0.222222</td>\n",
       "      <td>0</td>\n",
       "    </tr>\n",
       "    <tr>\n",
       "      <th>LV_Mises</th>\n",
       "      <td>0.047431</td>\n",
       "      <td>0</td>\n",
       "    </tr>\n",
       "    <tr>\n",
       "      <th>PepitaChacha</th>\n",
       "      <td>0.008547</td>\n",
       "      <td>0</td>\n",
       "    </tr>\n",
       "    <tr>\n",
       "      <th>Pete4Me</th>\n",
       "      <td>0.000000</td>\n",
       "      <td>0</td>\n",
       "    </tr>\n",
       "    <tr>\n",
       "      <th>ChickerWings</th>\n",
       "      <td>0.381766</td>\n",
       "      <td>0</td>\n",
       "    </tr>\n",
       "    <tr>\n",
       "      <th>LDCrow</th>\n",
       "      <td>0.000000</td>\n",
       "      <td>0</td>\n",
       "    </tr>\n",
       "    <tr>\n",
       "      <th>jcwinny</th>\n",
       "      <td>0.166667</td>\n",
       "      <td>0</td>\n",
       "    </tr>\n",
       "    <tr>\n",
       "      <th>hoksze</th>\n",
       "      <td>0.000000</td>\n",
       "      <td>0</td>\n",
       "    </tr>\n",
       "    <tr>\n",
       "      <th>Theandric</th>\n",
       "      <td>0.011594</td>\n",
       "      <td>0</td>\n",
       "    </tr>\n",
       "    <tr>\n",
       "      <th>MusicNutt</th>\n",
       "      <td>0.063291</td>\n",
       "      <td>0</td>\n",
       "    </tr>\n",
       "    <tr>\n",
       "      <th>zombiefatcher</th>\n",
       "      <td>0.000000</td>\n",
       "      <td>0</td>\n",
       "    </tr>\n",
       "    <tr>\n",
       "      <th>albiorix_</th>\n",
       "      <td>0.665217</td>\n",
       "      <td>0</td>\n",
       "    </tr>\n",
       "    <tr>\n",
       "      <th>WebAPI</th>\n",
       "      <td>0.482759</td>\n",
       "      <td>1</td>\n",
       "    </tr>\n",
       "    <tr>\n",
       "      <th>ballisnotlife22</th>\n",
       "      <td>0.000000</td>\n",
       "      <td>1</td>\n",
       "    </tr>\n",
       "    <tr>\n",
       "      <th>LifeBasedDiet</th>\n",
       "      <td>0.912281</td>\n",
       "      <td>1</td>\n",
       "    </tr>\n",
       "    <tr>\n",
       "      <th>HowWinterKills</th>\n",
       "      <td>0.000000</td>\n",
       "      <td>0</td>\n",
       "    </tr>\n",
       "    <tr>\n",
       "      <th>papercutdicked</th>\n",
       "      <td>0.871795</td>\n",
       "      <td>1</td>\n",
       "    </tr>\n",
       "    <tr>\n",
       "      <th>backtoreality0101</th>\n",
       "      <td>0.898571</td>\n",
       "      <td>0</td>\n",
       "    </tr>\n",
       "    <tr>\n",
       "      <th>iwantthetopbunk</th>\n",
       "      <td>0.000000</td>\n",
       "      <td>1</td>\n",
       "    </tr>\n",
       "    <tr>\n",
       "      <th>dustyjeff</th>\n",
       "      <td>0.040000</td>\n",
       "      <td>0</td>\n",
       "    </tr>\n",
       "    <tr>\n",
       "      <th>kamalanyc</th>\n",
       "      <td>0.035714</td>\n",
       "      <td>0</td>\n",
       "    </tr>\n",
       "    <tr>\n",
       "      <th>MetaFlight</th>\n",
       "      <td>0.000000</td>\n",
       "      <td>0</td>\n",
       "    </tr>\n",
       "    <tr>\n",
       "      <th>effRPaul</th>\n",
       "      <td>0.009208</td>\n",
       "      <td>0</td>\n",
       "    </tr>\n",
       "  </tbody>\n",
       "</table>\n",
       "<p>71 rows × 2 columns</p>\n",
       "</div>"
      ],
      "text/plain": [
       "                      politics target\n",
       "mrcorndogman33        0.086207      0\n",
       "Pintofyourbest        0.283168      0\n",
       "watercolorwildflower  0.111111      0\n",
       "SecretMuslim08        0.250000      0\n",
       "joebleaux             0.000000      0\n",
       "fraudymcfraudster     0.553488      0\n",
       "exdelicto             0.314815      0\n",
       "SAKabir               0.081218      0\n",
       "RxVote                0.609787      0\n",
       "nevertoolate1983      0.198473      1\n",
       "nykfeng               1.000000      1\n",
       "Rottanathyst          0.058824      0\n",
       "_AllWittyNamesTaken_  0.356725      0\n",
       "JMoFilm               0.006711      0\n",
       "isthisgood80          0.500000      0\n",
       "squarehedge           0.447368      0\n",
       "Mystic789             0.000000      0\n",
       "crimpyantennae        0.010000      0\n",
       "MarkJanusIsAScab      0.329949      0\n",
       "DoggieSchoolBus2      0.116279      0\n",
       "Milkk_Man             0.000000      1\n",
       "SaltedAvocadosMhh     0.000000      0\n",
       "Epic_XC               0.704545      0\n",
       "Srsly_dang            0.037594      0\n",
       "rabbidbunnyz22        0.303630      0\n",
       "lysergic5253          0.111650      0\n",
       "st1r                  0.400000      0\n",
       "CordageMonger         0.000000      0\n",
       "Euphoric_Translator   0.005917      0\n",
       "ThoughtsOnGovernment  0.000000      0\n",
       "...                        ...    ...\n",
       "IamKyleBizzle         0.000000      1\n",
       "MonkeysLikeApples     0.000000      0\n",
       "TheRealRamanji        0.000000      0\n",
       "Bizzlebomb            0.002016      1\n",
       "difazx4               0.819277      0\n",
       "Hodgi22               0.002755      1\n",
       "Applyingto-throwaway  0.000000      0\n",
       "deathhandmachiavelli  0.222222      0\n",
       "LV_Mises              0.047431      0\n",
       "PepitaChacha          0.008547      0\n",
       "Pete4Me               0.000000      0\n",
       "ChickerWings          0.381766      0\n",
       "LDCrow                0.000000      0\n",
       "jcwinny               0.166667      0\n",
       "hoksze                0.000000      0\n",
       "Theandric             0.011594      0\n",
       "MusicNutt             0.063291      0\n",
       "zombiefatcher         0.000000      0\n",
       "albiorix_             0.665217      0\n",
       "WebAPI                0.482759      1\n",
       "ballisnotlife22       0.000000      1\n",
       "LifeBasedDiet         0.912281      1\n",
       "HowWinterKills        0.000000      0\n",
       "papercutdicked        0.871795      1\n",
       "backtoreality0101     0.898571      0\n",
       "iwantthetopbunk       0.000000      1\n",
       "dustyjeff             0.040000      0\n",
       "kamalanyc             0.035714      0\n",
       "MetaFlight            0.000000      0\n",
       "effRPaul              0.009208      0\n",
       "\n",
       "[71 rows x 2 columns]"
      ]
     },
     "execution_count": 167,
     "metadata": {},
     "output_type": "execute_result"
    }
   ],
   "source": [
    "df2[['politics','target']]"
   ]
  },
  {
   "cell_type": "code",
   "execution_count": null,
   "metadata": {},
   "outputs": [],
   "source": []
  }
 ],
 "metadata": {
  "kernelspec": {
   "display_name": "Python 3",
   "language": "python",
   "name": "python3"
  },
  "language_info": {
   "codemirror_mode": {
    "name": "ipython",
    "version": 3
   },
   "file_extension": ".py",
   "mimetype": "text/x-python",
   "name": "python",
   "nbconvert_exporter": "python",
   "pygments_lexer": "ipython3",
   "version": "3.7.3"
  }
 },
 "nbformat": 4,
 "nbformat_minor": 2
}
