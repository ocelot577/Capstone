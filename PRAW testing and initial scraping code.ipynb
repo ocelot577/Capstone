{
 "cells": [
  {
   "cell_type": "markdown",
   "metadata": {},
   "source": [
    "Sorry, this is really rough, currently this has some initial EDA I did on the various subreddits I'm thinking of scraping as well as the backbone of a potential scraping function.\n",
    "\n",
    "Some things I need to research and/or ask about\n",
    "\n",
    "1) I'm currently thinking about saving this as a list of nested dictionaries. Need to determine if that's the best idea or not\n",
    "\n",
    "2) I'm worried I'm hitting reddit too much (1,000 comments per 5 subs) * (up to 1,000 posts per unique user). Researched that a bit and I think praw has a built in 2 sec delay so things are probably okay but probably should research a bit more and break up my scrapes\n",
    "\n",
    "3) Currently, my code gives equal weight to a comment poster but that's probably not ideal, especially since people can go onto a subreddit and comment even though they're not a supporter. Would ideally like to do something where I account for this.\n"
   ]
  },
  {
   "cell_type": "code",
   "execution_count": 80,
   "metadata": {},
   "outputs": [],
   "source": [
    "import praw\n",
    "import json\n",
    "import time"
   ]
  },
  {
   "cell_type": "code",
   "execution_count": 2,
   "metadata": {},
   "outputs": [],
   "source": [
    "json_file = open('Reddit_creds.json')\n",
    "json_str = json_file.read()\n",
    "json_data = json.loads(json_str)"
   ]
  },
  {
   "cell_type": "code",
   "execution_count": 3,
   "metadata": {},
   "outputs": [],
   "source": [
    "reddit = praw.Reddit(user_agent=json_data['user_agent'],\n",
    "                     client_id=json_data['client_id'], client_secret=json_data['client_secret'])"
   ]
  },
  {
   "cell_type": "code",
   "execution_count": 4,
   "metadata": {},
   "outputs": [],
   "source": [
    "yang_sub = reddit.subreddit('YangForPresidentHQ')"
   ]
  },
  {
   "cell_type": "code",
   "execution_count": 5,
   "metadata": {},
   "outputs": [],
   "source": [
    "pete_sub = reddit.subreddit('Pete_Buttigieg')"
   ]
  },
  {
   "cell_type": "code",
   "execution_count": 6,
   "metadata": {},
   "outputs": [],
   "source": [
    "sanders_sub = reddit.subreddit('SandersForPresident/')"
   ]
  },
  {
   "cell_type": "code",
   "execution_count": 7,
   "metadata": {},
   "outputs": [],
   "source": [
    "harris_sub = reddit.subreddit('Kamala')"
   ]
  },
  {
   "cell_type": "code",
   "execution_count": 8,
   "metadata": {},
   "outputs": [],
   "source": [
    "biden_sub = reddit.subreddit('JoeBiden')"
   ]
  },
  {
   "cell_type": "code",
   "execution_count": 9,
   "metadata": {},
   "outputs": [
    {
     "name": "stdout",
     "output_type": "stream",
     "text": [
      "982\n",
      "505\n"
     ]
    }
   ],
   "source": [
    "yang_users = []\n",
    "for comment in yang_sub.comments(limit=1000):\n",
    "    yang_users.append(comment.author)\n",
    "print(len(yang_users))\n",
    "print(len(set(yang_users)))"
   ]
  },
  {
   "cell_type": "code",
   "execution_count": 16,
   "metadata": {},
   "outputs": [],
   "source": [
    "setyang = set(yang_users)"
   ]
  },
  {
   "cell_type": "code",
   "execution_count": 30,
   "metadata": {},
   "outputs": [
    {
     "name": "stdout",
     "output_type": "stream",
     "text": [
      "943\n",
      "215\n"
     ]
    }
   ],
   "source": [
    "harris_users = []\n",
    "for comment in harris_sub.comments(limit=1000):\n",
    "    harris_users.append(comment.author)\n",
    "print(len(harris_users))\n",
    "print(len(set(harris_users)))"
   ]
  },
  {
   "cell_type": "code",
   "execution_count": 31,
   "metadata": {},
   "outputs": [],
   "source": [
    "setharris = set(harris_users)"
   ]
  },
  {
   "cell_type": "code",
   "execution_count": 11,
   "metadata": {},
   "outputs": [
    {
     "name": "stdout",
     "output_type": "stream",
     "text": [
      "930\n",
      "197\n"
     ]
    }
   ],
   "source": [
    "biden_users = []\n",
    "for comment in biden_sub.comments(limit=1000):\n",
    "    biden_users.append(comment.author)\n",
    "print(len(biden_users))\n",
    "print(len(set(biden_users)))"
   ]
  },
  {
   "cell_type": "code",
   "execution_count": 19,
   "metadata": {},
   "outputs": [],
   "source": [
    "setbiden = set(biden_users)"
   ]
  },
  {
   "cell_type": "code",
   "execution_count": 12,
   "metadata": {},
   "outputs": [
    {
     "name": "stdout",
     "output_type": "stream",
     "text": [
      "986\n",
      "277\n"
     ]
    }
   ],
   "source": [
    "sanders_users = []\n",
    "for comment in sanders_sub.comments(limit=1000):\n",
    "    sanders_users.append(comment.author)\n",
    "print(len(sanders_users))\n",
    "print(len(set(sanders_users)))"
   ]
  },
  {
   "cell_type": "code",
   "execution_count": 20,
   "metadata": {},
   "outputs": [],
   "source": [
    "setsanders = set(sanders_users)"
   ]
  },
  {
   "cell_type": "code",
   "execution_count": 13,
   "metadata": {},
   "outputs": [
    {
     "name": "stdout",
     "output_type": "stream",
     "text": [
      "991\n",
      "171\n"
     ]
    }
   ],
   "source": [
    "pete_users = []\n",
    "for comment in pete_sub.comments(limit=1000):\n",
    "    pete_users.append(comment.author)\n",
    "print(len(pete_users))\n",
    "print(len(set(pete_users)))"
   ]
  },
  {
   "cell_type": "code",
   "execution_count": 21,
   "metadata": {},
   "outputs": [],
   "source": [
    "setpet = set(pete_users)"
   ]
  },
  {
   "cell_type": "code",
   "execution_count": 32,
   "metadata": {},
   "outputs": [],
   "source": [
    "setnotyang = set(pete_users+sanders_users+biden_users+harris_users)"
   ]
  },
  {
   "cell_type": "code",
   "execution_count": 33,
   "metadata": {},
   "outputs": [
    {
     "data": {
      "text/plain": [
       "843"
      ]
     },
     "execution_count": 33,
     "metadata": {},
     "output_type": "execute_result"
    }
   ],
   "source": [
    "len(setnotyang)"
   ]
  },
  {
   "cell_type": "code",
   "execution_count": 34,
   "metadata": {},
   "outputs": [
    {
     "name": "stdout",
     "output_type": "stream",
     "text": [
      "AutoModerator\n",
      "+biden\n",
      "seanarturo\n",
      "+sanders\n",
      "hidralison_md\n",
      "+harris\n",
      "TheCaptain199\n",
      "+biden\n"
     ]
    }
   ],
   "source": [
    "count = 0\n",
    "for user in setyang:\n",
    "    if user in setnotyang:\n",
    "        print(user)\n",
    "        if user in setbiden:\n",
    "            print('+biden')\n",
    "        if user in setharris:\n",
    "            print('+harris')\n",
    "        if user in setsanders:\n",
    "            print('+sanders')\n",
    "        if user in setpet:\n",
    "            print('+pete')\n",
    "        count += 1"
   ]
  },
  {
   "cell_type": "code",
   "execution_count": 35,
   "metadata": {},
   "outputs": [
    {
     "name": "stdout",
     "output_type": "stream",
     "text": [
      "4\n"
     ]
    }
   ],
   "source": [
    "print(count)"
   ]
  },
  {
   "cell_type": "markdown",
   "metadata": {},
   "source": [
    "Okay, feeling good, out of the 505 most recent yang posters, only 4 posted to one of these other subs, checking other subs"
   ]
  },
  {
   "cell_type": "code",
   "execution_count": 36,
   "metadata": {},
   "outputs": [
    {
     "name": "stdout",
     "output_type": "stream",
     "text": [
      "+harris\n",
      "+harris\n",
      "+harris\n",
      "+harris\n",
      "+harris\n",
      "+harris\n",
      "+harris\n",
      "+harris\n",
      "+harris\n",
      "+harris\n",
      "+harris\n",
      "+sanders\n",
      "+harris\n",
      "+sanders\n"
     ]
    }
   ],
   "source": [
    "\n",
    "for user in setbiden:\n",
    "    if user in setharris:\n",
    "        print('+harris')\n",
    "    if user in setsanders:\n",
    "        print('+sanders')\n",
    "    if user in setpet:\n",
    "        print('+pete')\n"
   ]
  },
  {
   "cell_type": "code",
   "execution_count": 37,
   "metadata": {},
   "outputs": [
    {
     "name": "stdout",
     "output_type": "stream",
     "text": [
      "+pete\n",
      "+biden\n",
      "+biden\n",
      "+biden\n",
      "+biden\n",
      "+pete\n",
      "+biden\n",
      "+biden\n",
      "+biden\n",
      "+biden\n",
      "+sanders\n",
      "+biden\n",
      "+biden\n",
      "+biden\n",
      "+biden\n"
     ]
    }
   ],
   "source": [
    "\n",
    "for user in setharris:\n",
    "    if user in setbiden:\n",
    "        print('+biden')\n",
    "    if user in setsanders:\n",
    "        print('+sanders')\n",
    "    if user in setpet:\n",
    "        print('+pete')"
   ]
  },
  {
   "cell_type": "code",
   "execution_count": 43,
   "metadata": {},
   "outputs": [
    {
     "name": "stdout",
     "output_type": "stream",
     "text": [
      "0\n"
     ]
    }
   ],
   "source": [
    "count = 0\n",
    "for user in setpet:\n",
    "    if user in setsanders:\n",
    "        count += 1\n",
    "        \n",
    "print(count)"
   ]
  },
  {
   "cell_type": "code",
   "execution_count": 45,
   "metadata": {},
   "outputs": [
    {
     "data": {
      "text/plain": [
       "171"
      ]
     },
     "execution_count": 45,
     "metadata": {},
     "output_type": "execute_result"
    }
   ],
   "source": [
    "len(setpet)"
   ]
  },
  {
   "cell_type": "code",
   "execution_count": 46,
   "metadata": {},
   "outputs": [
    {
     "data": {
      "text/plain": [
       "277"
      ]
     },
     "execution_count": 46,
     "metadata": {},
     "output_type": "execute_result"
    }
   ],
   "source": [
    "len(setsanders)"
   ]
  },
  {
   "cell_type": "code",
   "execution_count": 47,
   "metadata": {},
   "outputs": [
    {
     "data": {
      "text/plain": [
       "448"
      ]
     },
     "execution_count": 47,
     "metadata": {},
     "output_type": "execute_result"
    }
   ],
   "source": [
    "len(set(list(setpet)+list(setsanders)))"
   ]
  },
  {
   "cell_type": "code",
   "execution_count": 48,
   "metadata": {},
   "outputs": [
    {
     "data": {
      "text/plain": [
       "448"
      ]
     },
     "execution_count": 48,
     "metadata": {},
     "output_type": "execute_result"
    }
   ],
   "source": [
    "171+277"
   ]
  },
  {
   "cell_type": "code",
   "execution_count": 78,
   "metadata": {},
   "outputs": [],
   "source": [
    "#backbone scraping code, idea would be to run this for every user in each subreddits set of users\n",
    "yang_dict = {}\n",
    "for user in yang_users[22:25]:\n",
    "    dict_sub = {}\n",
    "    for comment in user.comments.new(limit=1000):\n",
    "        if dict_sub.get(comment.subreddit.display_name,0) == 0:\n",
    "            dict_sub[comment.subreddit.display_name] = 1\n",
    "        else:\n",
    "            dict_sub[comment.subreddit.display_name] += 1\n",
    "    yang_dict[user] = dict_sub\n",
    "#     print(f'finished {user}')\n",
    "    time.sleep(5)"
   ]
  },
  {
   "cell_type": "code",
   "execution_count": 79,
   "metadata": {},
   "outputs": [
    {
     "data": {
      "text/plain": [
       "{Redditor(name='land_cg'): {'YangForPresidentHQ': 90,\n",
       "  'politics': 15,\n",
       "  'Instagramreality': 1,\n",
       "  'Libertarian': 1,\n",
       "  'The_Mueller': 1,\n",
       "  'Showerthoughts': 1,\n",
       "  'PublicFreakout': 2,\n",
       "  'technicallythetruth': 1,\n",
       "  'TheMonkeysPaw': 1,\n",
       "  'nba': 4,\n",
       "  'gatekeeping': 4,\n",
       "  'todayilearned': 1,\n",
       "  'ChapoTrapHouse': 11,\n",
       "  'torontoraptors': 4,\n",
       "  'TwoXChromosomes': 1,\n",
       "  'tifu': 1,\n",
       "  'AskReddit': 2,\n",
       "  'WayOfTheBern': 2,\n",
       "  'AmItheAsshole': 7,\n",
       "  'watchpeoplesurvive': 3,\n",
       "  'sciences': 1,\n",
       "  'Bitcoin': 3,\n",
       "  'JusticeServed': 1,\n",
       "  'Economics': 1},\n",
       " Redditor(name='TruthWillMessYouP'): {'politics': 4,\n",
       "  'YangForPresidentHQ': 16,\n",
       "  'vintagejapaneseautos': 19,\n",
       "  'Datsun': 62,\n",
       "  'Autocross': 17,\n",
       "  'projectcar': 204,\n",
       "  'radiohead': 43,\n",
       "  'careerguidance': 4,\n",
       "  'jobs': 5,\n",
       "  'personalfinance': 1,\n",
       "  'FinancialCareers': 2,\n",
       "  'soulwax': 3,\n",
       "  'carporn': 6,\n",
       "  'BusinessIntelligence': 1},\n",
       " Redditor(name='Mr_Duckerson'): {'YangForPresidentHQ': 51,\n",
       "  'apple': 46,\n",
       "  'MMA': 167,\n",
       "  'AnimalsBeingJerks': 1,\n",
       "  'news': 25,\n",
       "  'Addons4Kodi': 255,\n",
       "  'iphone': 29,\n",
       "  'Cooking': 1,\n",
       "  'changemyview': 5,\n",
       "  'TwoXChromosomes': 1,\n",
       "  'trashy': 2,\n",
       "  'interestingasfuck': 3,\n",
       "  'blackpeoplegifs': 2,\n",
       "  'mildlyinfuriating': 1,\n",
       "  'woooosh': 1,\n",
       "  'oddlysatisfying': 2,\n",
       "  'Justfuckmyshitup': 1,\n",
       "  'Futurology': 2,\n",
       "  'forbiddensnacks': 1,\n",
       "  'nba': 111,\n",
       "  'lakers': 1,\n",
       "  'ipad': 1,\n",
       "  'mac': 1,\n",
       "  'dank_meme': 1,\n",
       "  'gifs': 2,\n",
       "  'cars': 7,\n",
       "  'cursedcomments': 1,\n",
       "  'PS4': 1,\n",
       "  'pics': 4,\n",
       "  'gadgets': 6,\n",
       "  'torontoraptors': 1,\n",
       "  'WTF': 2,\n",
       "  'AnimalsBeingDerps': 1,\n",
       "  'Nissan': 11,\n",
       "  'IPTV': 12,\n",
       "  'appletv': 36,\n",
       "  'Android': 86,\n",
       "  'KeanuBeingAwesome': 1,\n",
       "  'pcmasterrace': 1,\n",
       "  'OldSchoolCool': 3,\n",
       "  'toptalent': 1,\n",
       "  'worldnews': 1,\n",
       "  'IdiotsInCars': 1,\n",
       "  'todayilearned': 3,\n",
       "  'Tinder': 2,\n",
       "  'gaming': 1,\n",
       "  'WhitePeopleTwitter': 2,\n",
       "  'MovieDetails': 1,\n",
       "  'WayOfTheBern': 1,\n",
       "  'therewasanattempt': 1,\n",
       "  'teslamotors': 1,\n",
       "  'facepalm': 2,\n",
       "  'relationship_advice': 2,\n",
       "  'PoliticalDiscussion': 1,\n",
       "  'workgonewild': 1,\n",
       "  'NSFW_GIF': 2,\n",
       "  'gonewild': 2,\n",
       "  'mechanical_gifs': 1,\n",
       "  'Conservative': 2,\n",
       "  'Catholicism': 4,\n",
       "  'Catholic': 1,\n",
       "  'rarepuppers': 1,\n",
       "  'technicallythetruth': 1,\n",
       "  'mobilephotography': 2,\n",
       "  'iPhoneography': 1,\n",
       "  'AbsoluteUnits': 1,\n",
       "  'NeutralPolitics': 1,\n",
       "  'malefashionadvice': 1,\n",
       "  'streetwear': 1,\n",
       "  'food': 1,\n",
       "  'Bossfight': 1,\n",
       "  'NatureIsFuckingLit': 1,\n",
       "  'INEEEEDIT': 1,\n",
       "  'Whatcouldgowrong': 1,\n",
       "  'KidsAreFuckingStupid': 1,\n",
       "  'AskReddit': 2,\n",
       "  'confusing_perspective': 1,\n",
       "  'worldpolitics': 1,\n",
       "  'GooglePixel': 23,\n",
       "  'technology': 10,\n",
       "  'Wellthatsucks': 1,\n",
       "  'cannabiscultivation': 7,\n",
       "  'Damnthatsinteresting': 3,\n",
       "  'trees': 1,\n",
       "  'HomeKit': 2,\n",
       "  'PoliticalHumor': 1,\n",
       "  'holdmybeer': 1,\n",
       "  'homebridge': 2,\n",
       "  'eagles': 4,\n",
       "  'sports': 1,\n",
       "  'nfl': 2,\n",
       "  'DayViewApp': 1,\n",
       "  'funny': 1,\n",
       "  'millionairemakers': 1}}"
      ]
     },
     "execution_count": 79,
     "metadata": {},
     "output_type": "execute_result"
    }
   ],
   "source": [
    "yang_dict"
   ]
  },
  {
   "cell_type": "code",
   "execution_count": null,
   "metadata": {},
   "outputs": [],
   "source": []
  }
 ],
 "metadata": {
  "kernelspec": {
   "display_name": "Python 3",
   "language": "python",
   "name": "python3"
  },
  "language_info": {
   "codemirror_mode": {
    "name": "ipython",
    "version": 3
   },
   "file_extension": ".py",
   "mimetype": "text/x-python",
   "name": "python",
   "nbconvert_exporter": "python",
   "pygments_lexer": "ipython3",
   "version": "3.7.3"
  }
 },
 "nbformat": 4,
 "nbformat_minor": 2
}
