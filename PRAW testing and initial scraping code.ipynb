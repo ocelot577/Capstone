{
 "cells": [
  {
   "cell_type": "markdown",
   "metadata": {},
   "source": [
    "Sorry, this is really rough, currently this has some initial EDA I did on the various subreddits I'm thinking of scraping as well as the backbone of a potential scraping function.\n",
    "\n",
    "Some things I need to research and/or ask about\n",
    "\n",
    "1) I'm currently thinking about saving this as a list of nested dictionaries. Need to determine if that's the best idea or not\n",
    "\n",
    "2) I'm worried I'm hitting reddit too much (1,000 comments per 5 subs) * (up to 1,000 posts per unique user). Researched that a bit and I think praw has a built in 2 sec delay so things are probably okay but probably should research a bit more and break up my scrapes\n",
    "\n",
    "3) Currently, my code gives equal weight to a comment poster but that's probably not ideal, especially since people can go onto a subreddit and comment even though they're not a supporter. Would ideally like to do something where I account for this.\n",
    "\n",
    "4) My code currently doesn't have a way to append or add more data, need to consider how I might go about doing that\n"
   ]
  },
  {
   "cell_type": "code",
   "execution_count": 1,
   "metadata": {},
   "outputs": [],
   "source": [
    "import praw\n",
    "import json\n",
    "import time\n",
    "import pandas as pd\n",
    "import sys"
   ]
  },
  {
   "cell_type": "code",
   "execution_count": 2,
   "metadata": {},
   "outputs": [
    {
     "data": {
      "text/plain": [
       "'3.7.3 (default, Mar 27 2019, 16:54:48) \\n[Clang 4.0.1 (tags/RELEASE_401/final)]'"
      ]
     },
     "execution_count": 2,
     "metadata": {},
     "output_type": "execute_result"
    }
   ],
   "source": [
    "sys.version"
   ]
  },
  {
   "cell_type": "code",
   "execution_count": 3,
   "metadata": {},
   "outputs": [
    {
     "data": {
      "text/plain": [
       "'6.3.1'"
      ]
     },
     "execution_count": 3,
     "metadata": {},
     "output_type": "execute_result"
    }
   ],
   "source": [
    "praw.__version__"
   ]
  },
  {
   "cell_type": "code",
   "execution_count": 4,
   "metadata": {},
   "outputs": [],
   "source": [
    "json_file = open('Reddit_creds.json')\n",
    "json_str = json_file.read()\n",
    "json_data = json.loads(json_str)"
   ]
  },
  {
   "cell_type": "code",
   "execution_count": 5,
   "metadata": {},
   "outputs": [],
   "source": [
    "reddit = praw.Reddit(user_agent=json_data['user_agent'],\n",
    "                     client_id=json_data['client_id'], client_secret=json_data['client_secret'])"
   ]
  },
  {
   "cell_type": "code",
   "execution_count": 6,
   "metadata": {},
   "outputs": [],
   "source": [
    "yang_sub = reddit.subreddit('YangForPresidentHQ')"
   ]
  },
  {
   "cell_type": "code",
   "execution_count": 7,
   "metadata": {},
   "outputs": [],
   "source": [
    "pete_sub = reddit.subreddit('Pete_Buttigieg')"
   ]
  },
  {
   "cell_type": "code",
   "execution_count": 8,
   "metadata": {},
   "outputs": [],
   "source": [
    "sanders_sub = reddit.subreddit('SandersForPresident/')"
   ]
  },
  {
   "cell_type": "code",
   "execution_count": 9,
   "metadata": {},
   "outputs": [],
   "source": [
    "harris_sub = reddit.subreddit('Kamala')"
   ]
  },
  {
   "cell_type": "code",
   "execution_count": 10,
   "metadata": {},
   "outputs": [],
   "source": [
    "biden_sub = reddit.subreddit('JoeBiden')"
   ]
  },
  {
   "cell_type": "code",
   "execution_count": 11,
   "metadata": {},
   "outputs": [],
   "source": [
    "subs = [yang_sub,pete_sub,sanders_sub,harris_sub,biden_sub]"
   ]
  },
  {
   "cell_type": "code",
   "execution_count": 12,
   "metadata": {},
   "outputs": [],
   "source": [
    "users = []"
   ]
  },
  {
   "cell_type": "code",
   "execution_count": 13,
   "metadata": {},
   "outputs": [
    {
     "name": "stdout",
     "output_type": "stream",
     "text": [
      "4678\n",
      "1722\n",
      "52.654300928115845\n"
     ]
    }
   ],
   "source": [
    "start = time.time()\n",
    "for sub in subs:\n",
    "    for comment in sub.comments(limit=1000):\n",
    "        users.append(comment.author)\n",
    "        \n",
    "print(len(users))\n",
    "users = list(set(users)\n",
    "print(len)users))\n",
    "end = time.time()\n",
    "print(end-start)"
   ]
  },
  {
   "cell_type": "code",
   "execution_count": null,
   "metadata": {},
   "outputs": [],
   "source": [
    "# #code obtained from https://stackabuse.com/reading-and-writing-lists-to-a-file-in-python/\n",
    "# # load additional module\n",
    "# import pickle\n",
    "\n",
    "# # define a list of places\n",
    "# with open('users.data', 'wb') as filehandle:\n",
    "#     # store the data as binary data stream\n",
    "#     pickle.dump(set(users), filehandle)"
   ]
  },
  {
   "cell_type": "code",
   "execution_count": null,
   "metadata": {},
   "outputs": [],
   "source": [
    "#code obtained from https://stackabuse.com/reading-and-writing-lists-to-a-file-in-python/\n",
    "# with open('users.data', 'rb') as filehandle:\n",
    "#     # read the data as binary data stream\n",
    "#     test_set = pickle.load(filehandle)"
   ]
  },
  {
   "cell_type": "code",
   "execution_count": null,
   "metadata": {},
   "outputs": [],
   "source": [
    "# small_list2 = list(set(users))[100:200]"
   ]
  },
  {
   "cell_type": "code",
   "execution_count": null,
   "metadata": {},
   "outputs": [],
   "source": [
    "# len(small_list)"
   ]
  },
  {
   "cell_type": "code",
   "execution_count": null,
   "metadata": {},
   "outputs": [],
   "source": [
    "#First full scrape started around 11AM on 8/6/19\n",
    "#Second full scrape started at 1:13 PM on 8/6/19"
   ]
  },
  {
   "cell_type": "code",
   "execution_count": null,
   "metadata": {},
   "outputs": [
    {
     "name": "stdout",
     "output_type": "stream",
     "text": [
      "0\n",
      "2.8014183044433594e-06\n",
      "10\n",
      "0.6666565696398418\n",
      "20\n",
      "2.0081766843795776\n",
      "30\n",
      "3.7968382358551027\n",
      "40\n",
      "4.965847134590149\n",
      "50\n",
      "5.539087021350861\n",
      "60\n",
      "6.242348555723826\n",
      "70\n",
      "7.119539785385132\n",
      "80\n",
      "7.894299836953481\n",
      "90\n",
      "8.495246136188507\n",
      "100\n",
      "9.127494970957438\n",
      "110\n",
      "9.67117911974589\n",
      "120\n",
      "10.300980416933696\n",
      "130\n",
      "10.969836338361104\n",
      "140\n",
      "11.200209470589956\n",
      "150\n",
      "12.154292722543081\n",
      "160\n",
      "12.674967583020528\n",
      "170\n",
      "13.214284467697144\n",
      "180\n",
      "13.863691771030426\n",
      "190\n",
      "14.454901218414307\n",
      "200\n",
      "15.05571026802063\n",
      "210\n",
      "15.613951766490937\n",
      "220\n",
      "16.234985550244648\n",
      "230\n",
      "16.808351969718935\n",
      "240\n",
      "18.19769228696823\n",
      "250\n",
      "19.054539302984875\n",
      "260\n",
      "19.902550653616586\n",
      "270\n",
      "21.071880972385408\n",
      "280\n",
      "22.013834238052368\n",
      "290\n",
      "23.75798271894455\n",
      "300\n",
      "25.079085119565327\n",
      "310\n",
      "26.10596575339635\n",
      "320\n",
      "27.34897648493449\n",
      "330\n",
      "28.694869267940522\n",
      "340\n",
      "29.769073887666067\n",
      "350\n",
      "30.06084741751353\n",
      "360\n",
      "30.898731903235117\n",
      "370\n",
      "33.22772088448207\n",
      "380\n",
      "34.01848615407944\n",
      "390\n",
      "34.77821788787842\n",
      "400\n",
      "35.45388863881429\n",
      "410\n",
      "36.376856648921965\n",
      "420\n",
      "37.070148487885795\n",
      "430\n",
      "37.94064013560613\n",
      "440\n",
      "38.217067237695055\n",
      "450\n",
      "38.86885221799215\n",
      "460\n",
      "39.945902502536775\n",
      "470\n",
      "40.80428695281346\n",
      "480\n",
      "41.845437534650166\n",
      "490\n",
      "42.76175545454025\n",
      "500\n",
      "43.44304088354111\n",
      "510\n",
      "43.94986545244853\n",
      "520\n",
      "44.72469611565272\n",
      "530\n",
      "45.806684935092925\n",
      "540\n",
      "46.81368845303853\n",
      "550\n",
      "47.532028134663896\n",
      "560\n",
      "48.28474423487981\n",
      "570\n",
      "48.95202243725459\n",
      "580\n",
      "50.39079047044118\n",
      "590\n",
      "51.870595900217694\n",
      "600\n",
      "52.594424204031625\n",
      "610\n",
      "53.45396310488383\n",
      "620\n",
      "54.81036143700282\n",
      "630\n",
      "56.10319038629532\n",
      "640\n",
      "57.299339886506395\n",
      "650\n",
      "58.67156486908595\n",
      "660\n",
      "60.1240612188975\n",
      "670\n",
      "61.05057800213496\n",
      "680\n",
      "62.15127925078074\n",
      "690\n",
      "63.0649560491244\n",
      "700\n",
      "64.23873583475749\n",
      "710\n",
      "65.45742472012837\n",
      "720\n",
      "66.34829378922781\n",
      "730\n",
      "67.31080711682638\n",
      "740\n",
      "68.25872283379236\n",
      "750\n",
      "69.23069520394007\n",
      "760\n",
      "70.30413515170416\n",
      "770\n",
      "71.23503525257111\n",
      "780\n",
      "72.15267707109452\n",
      "790\n",
      "73.0026251355807\n",
      "800\n",
      "74.22456513643264\n",
      "810\n",
      "74.84039440552394\n",
      "820\n",
      "75.90043350458146\n",
      "830\n",
      "76.84769543409348\n",
      "840\n",
      "77.6889771382014\n",
      "850\n",
      "78.83929498593012\n",
      "860\n",
      "79.38688020308813\n",
      "870\n",
      "79.97583356698354\n",
      "880\n",
      "80.63985540469487\n",
      "890\n",
      "81.44618880351385\n",
      "900\n",
      "82.14055411815643\n",
      "910\n",
      "83.39615432024002\n",
      "920\n",
      "84.23042458693186\n",
      "930\n",
      "85.34169715245565\n",
      "940\n",
      "86.37594920396805\n",
      "950\n",
      "87.87007828553517\n",
      "960\n",
      "88.73796118497849\n",
      "970\n",
      "89.67328983545303\n",
      "980\n",
      "90.83825936714808\n",
      "990\n",
      "91.6753058552742\n",
      "1000\n",
      "92.84779748519261\n",
      "1010\n",
      "94.38399810393652\n",
      "1020\n",
      "95.18222026824951\n",
      "1030\n",
      "96.5972463051478\n",
      "1040\n",
      "97.52281940380732\n",
      "1050\n",
      "98.3553032676379\n",
      "1060\n",
      "99.64048823515574\n",
      "1070\n",
      "100.86227560440699\n",
      "1080\n",
      "102.12549598614375\n",
      "1090\n",
      "105.13413285414377\n",
      "1100\n",
      "108.57660101652145\n",
      "1110\n",
      "109.35290955305099\n",
      "1120\n",
      "110.19444058736165\n",
      "1130\n",
      "111.06479316949844\n",
      "1140\n",
      "111.92489426930746\n",
      "1150\n",
      "113.08550651868184\n",
      "1160\n",
      "113.9713303009669\n",
      "1170\n",
      "114.98504673639933\n",
      "1180\n",
      "115.8451639175415\n",
      "1190\n",
      "116.81134037176768\n",
      "1200\n",
      "117.66603943506877\n",
      "1210\n",
      "118.67127153873443\n",
      "1220\n",
      "119.64274525245031\n",
      "1230\n",
      "120.31992261807123\n",
      "1240\n",
      "121.00952563285827\n",
      "1250\n",
      "121.62191953659058\n",
      "1260\n",
      "122.28932263453801\n",
      "1270\n",
      "123.0618742187818\n",
      "1280\n",
      "123.96215100288391\n",
      "1290\n",
      "124.85808415412903\n",
      "1300\n",
      "125.26024231910705\n",
      "1310\n",
      "125.8463402668635\n",
      "1320\n",
      "126.79083920319876\n",
      "1330\n",
      "127.49474090337753\n",
      "1340\n",
      "128.13665984869004\n",
      "1350\n",
      "128.83790358304978\n",
      "1360\n",
      "129.29871575435\n",
      "1370\n",
      "129.96095288594563\n",
      "1380\n",
      "130.89326376914977\n",
      "1390\n",
      "131.75993690093358\n",
      "1400\n",
      "132.6490574200948\n",
      "1410\n",
      "133.69558096726735\n",
      "1420\n",
      "134.48211271762847\n",
      "1430\n",
      "135.31325508356093\n",
      "1440\n",
      "136.30826107263564\n",
      "1450\n",
      "137.12257338762282\n",
      "1460\n",
      "137.9055794874827\n",
      "1470\n",
      "138.62413250207902\n",
      "1480\n",
      "139.55258187055588\n",
      "1490\n",
      "142.36258203585942\n",
      "1500\n",
      "143.24254035552343\n",
      "1510\n",
      "144.18449570337933\n",
      "1520\n",
      "144.9144311348597\n",
      "1530\n",
      "145.6285506884257\n",
      "1540\n",
      "146.48664943377176\n",
      "1550\n",
      "147.4085049033165\n",
      "1560\n",
      "148.16967620452246\n",
      "1570\n",
      "148.88986903826395\n",
      "1580\n",
      "149.35571320056914\n",
      "1590\n",
      "150.20422414938608\n",
      "1600\n",
      "150.62734028498332\n",
      "1610\n",
      "151.50797046820324\n",
      "1620\n",
      "152.44157105286916\n",
      "1630\n",
      "153.26193880240123\n",
      "1640\n",
      "154.01870563427607\n",
      "1650\n",
      "154.90430403550465\n",
      "1660\n",
      "155.60766826868058\n",
      "1670\n",
      "156.21588147083918\n",
      "1680\n",
      "157.00498921871184\n",
      "1690\n",
      "157.65189666748046\n",
      "1700\n",
      "158.30901557207108\n",
      "1710\n",
      "158.8227607011795\n",
      "1720\n",
      "159.4987199028333\n",
      "1730\n",
      "160.33923722108204\n",
      "1740\n",
      "160.91341443459194\n",
      "1750\n",
      "161.67282810211182\n",
      "1760\n",
      "162.42029985189438\n",
      "1770\n",
      "163.0144057035446\n",
      "1780\n",
      "163.7943004846573\n",
      "1790\n",
      "164.3474572022756\n",
      "1800\n",
      "164.94633572101594\n",
      "1810\n",
      "165.5010235706965\n",
      "1820\n",
      "166.1717720667521\n",
      "1830\n",
      "166.79381170272828\n",
      "1840\n",
      "167.29467993974686\n",
      "1850\n",
      "168.20485388437908\n",
      "1860\n",
      "168.89558098713556\n",
      "1870\n",
      "169.42457678715388\n",
      "1880\n",
      "170.36844665209452\n",
      "1890\n",
      "170.88223659992218\n",
      "1900\n",
      "171.63219265143076\n",
      "1910\n",
      "172.50350480477016\n",
      "1920\n",
      "173.09562841653823\n",
      "1930\n",
      "173.6862019697825\n",
      "1940\n",
      "174.08054594993592\n",
      "1950\n",
      "174.59574930270512\n",
      "1960\n",
      "175.22565530141193\n",
      "1970\n",
      "176.01381790240606\n",
      "1980\n",
      "176.4918845017751\n",
      "1990\n",
      "177.41265255610148\n",
      "2000\n",
      "178.37279065450033\n",
      "2010\n",
      "179.28398888905843\n",
      "2020\n",
      "179.94070907036465\n",
      "2030\n",
      "180.85070053736368\n",
      "2040\n",
      "181.7518199880918\n",
      "2050\n",
      "182.52326784928638\n",
      "2060\n",
      "183.34778110186258\n",
      "2070\n",
      "184.18230590025584\n",
      "2080\n",
      "185.13300791978835\n",
      "2090\n",
      "185.6090466181437\n",
      "2100\n",
      "186.3824893196424\n"
     ]
    }
   ],
   "source": [
    "start = time.time()\n",
    "text = []\n",
    "author = []\n",
    "subreddit = []\n",
    "postid = []\n",
    "counter = 0\n",
    "for user in users:\n",
    "    if counter % 10 == 0:\n",
    "        prog = time.time()\n",
    "        print(counter)\n",
    "        print((prog-start)/60)\n",
    "    try:  #handle cases where redditor is deleted or something\n",
    "        for comment in user.comments.new(limit=1000):\n",
    "            text.append(comment.body)\n",
    "            author.append(comment.author)\n",
    "            postid.append(comment.id)\n",
    "            subreddit.append(comment.subreddit.display_name)\n",
    "    except:\n",
    "        pass\n",
    "    counter += 1\n",
    "end = time.time()\n",
    "print(end-start)"
   ]
  },
  {
   "cell_type": "code",
   "execution_count": null,
   "metadata": {},
   "outputs": [],
   "source": [
    "user"
   ]
  },
  {
   "cell_type": "code",
   "execution_count": null,
   "metadata": {},
   "outputs": [],
   "source": [
    "df = pd.DataFrame([text,author,subreddit,postid],\\\n",
    "                        index=['Comment Text','Author','Subreddit','Post ID']).T"
   ]
  },
  {
   "cell_type": "code",
   "execution_count": 15,
   "metadata": {},
   "outputs": [
    {
     "data": {
      "text/plain": [
       "(356647, 4)"
      ]
     },
     "execution_count": 15,
     "metadata": {},
     "output_type": "execute_result"
    }
   ],
   "source": [
    "df.shape"
   ]
  },
  {
   "cell_type": "code",
   "execution_count": 16,
   "metadata": {},
   "outputs": [],
   "source": [
    "df.to_csv('reddit_full_attemp_2.csv',index=False)"
   ]
  },
  {
   "cell_type": "code",
   "execution_count": null,
   "metadata": {},
   "outputs": [],
   "source": [
    "df.iloc[1,0]"
   ]
  },
  {
   "cell_type": "code",
   "execution_count": null,
   "metadata": {},
   "outputs": [],
   "source": []
  },
  {
   "cell_type": "code",
   "execution_count": null,
   "metadata": {},
   "outputs": [],
   "source": [
    "\n",
    "for user in set(users):\n",
    "    dict_sub = {}\n",
    "    for comment in user.comments.new(limit=1000):\n",
    "        if dict_sub.get(comment.subreddit.display_name,0) == 0:\n",
    "            dict_sub[comment.subreddit.display_name] = 1\n",
    "        else:\n",
    "            dict_sub[comment.subreddit.display_name] += 1\n",
    "    yang_dict[user] = dict_sub\n",
    "#     print(f'finished {user}')\n",
    "    time.sleep(5)"
   ]
  },
  {
   "cell_type": "code",
   "execution_count": null,
   "metadata": {},
   "outputs": [],
   "source": []
  },
  {
   "cell_type": "code",
   "execution_count": null,
   "metadata": {},
   "outputs": [],
   "source": []
  },
  {
   "cell_type": "code",
   "execution_count": null,
   "metadata": {},
   "outputs": [],
   "source": []
  },
  {
   "cell_type": "code",
   "execution_count": null,
   "metadata": {},
   "outputs": [],
   "source": []
  },
  {
   "cell_type": "code",
   "execution_count": null,
   "metadata": {},
   "outputs": [],
   "source": []
  },
  {
   "cell_type": "code",
   "execution_count": null,
   "metadata": {},
   "outputs": [],
   "source": [
    "\n",
    "yang_users = []\n",
    "for comment in yang_sub.comments(limit=1000):\n",
    "    yang_users.append(comment.author)\n",
    "print(len(yang_users))\n",
    "print(len(set(yang_users)))\n"
   ]
  },
  {
   "cell_type": "code",
   "execution_count": null,
   "metadata": {},
   "outputs": [],
   "source": [
    "setyang = set(yang_users)"
   ]
  },
  {
   "cell_type": "code",
   "execution_count": null,
   "metadata": {},
   "outputs": [],
   "source": [
    "harris_users = []\n",
    "for comment in harris_sub.comments(limit=1000):\n",
    "    harris_users.append(comment.author)\n",
    "print(len(harris_users))\n",
    "print(len(set(harris_users)))"
   ]
  },
  {
   "cell_type": "code",
   "execution_count": null,
   "metadata": {},
   "outputs": [],
   "source": [
    "setharris = set(harris_users)"
   ]
  },
  {
   "cell_type": "code",
   "execution_count": null,
   "metadata": {},
   "outputs": [],
   "source": [
    "biden_users = []\n",
    "for comment in biden_sub.comments(limit=1000):\n",
    "    biden_users.append(comment.author)\n",
    "print(len(biden_users))\n",
    "print(len(set(biden_users)))"
   ]
  },
  {
   "cell_type": "code",
   "execution_count": null,
   "metadata": {},
   "outputs": [],
   "source": [
    "setbiden = set(biden_users)"
   ]
  },
  {
   "cell_type": "code",
   "execution_count": null,
   "metadata": {},
   "outputs": [],
   "source": [
    "sanders_users = []\n",
    "for comment in sanders_sub.comments(limit=1000):\n",
    "    sanders_users.append(comment.author)\n",
    "print(len(sanders_users))\n",
    "print(len(set(sanders_users)))"
   ]
  },
  {
   "cell_type": "code",
   "execution_count": null,
   "metadata": {},
   "outputs": [],
   "source": [
    "setsanders = set(sanders_users)"
   ]
  },
  {
   "cell_type": "code",
   "execution_count": null,
   "metadata": {},
   "outputs": [],
   "source": [
    "pete_users = []\n",
    "for comment in pete_sub.comments(limit=1000):\n",
    "    pete_users.append(comment.author)\n",
    "print(len(pete_users))\n",
    "print(len(set(pete_users)))"
   ]
  },
  {
   "cell_type": "code",
   "execution_count": null,
   "metadata": {},
   "outputs": [],
   "source": [
    "setpet = set(pete_users)"
   ]
  },
  {
   "cell_type": "code",
   "execution_count": null,
   "metadata": {},
   "outputs": [],
   "source": [
    "setnotyang = set(pete_users+sanders_users+biden_users+harris_users)"
   ]
  },
  {
   "cell_type": "code",
   "execution_count": null,
   "metadata": {},
   "outputs": [],
   "source": [
    "len(setnotyang)"
   ]
  },
  {
   "cell_type": "code",
   "execution_count": null,
   "metadata": {},
   "outputs": [],
   "source": [
    "count = 0\n",
    "for user in setyang:\n",
    "    if user in setnotyang:\n",
    "        print(user)\n",
    "        if user in setbiden:\n",
    "            print('+biden')\n",
    "        if user in setharris:\n",
    "            print('+harris')\n",
    "        if user in setsanders:\n",
    "            print('+sanders')\n",
    "        if user in setpet:\n",
    "            print('+pete')\n",
    "        count += 1"
   ]
  },
  {
   "cell_type": "code",
   "execution_count": null,
   "metadata": {},
   "outputs": [],
   "source": [
    "print(count)"
   ]
  },
  {
   "cell_type": "markdown",
   "metadata": {},
   "source": [
    "Okay, feeling good, out of the 505 most recent yang posters, only 4 posted to one of these other subs, checking other subs"
   ]
  },
  {
   "cell_type": "code",
   "execution_count": null,
   "metadata": {},
   "outputs": [],
   "source": [
    "\n",
    "for user in setbiden:\n",
    "    if user in setharris:\n",
    "        print('+harris')\n",
    "    if user in setsanders:\n",
    "        print('+sanders')\n",
    "    if user in setpet:\n",
    "        print('+pete')\n"
   ]
  },
  {
   "cell_type": "code",
   "execution_count": null,
   "metadata": {},
   "outputs": [],
   "source": [
    "\n",
    "for user in setharris:\n",
    "    if user in setbiden:\n",
    "        print('+biden')\n",
    "    if user in setsanders:\n",
    "        print('+sanders')\n",
    "    if user in setpet:\n",
    "        print('+pete')"
   ]
  },
  {
   "cell_type": "code",
   "execution_count": null,
   "metadata": {},
   "outputs": [],
   "source": [
    "count = 0\n",
    "for user in setpet:\n",
    "    if user in setsanders:\n",
    "        count += 1\n",
    "        \n",
    "print(count)"
   ]
  },
  {
   "cell_type": "code",
   "execution_count": null,
   "metadata": {},
   "outputs": [],
   "source": [
    "len(setpet)"
   ]
  },
  {
   "cell_type": "code",
   "execution_count": null,
   "metadata": {},
   "outputs": [],
   "source": [
    "len(setsanders)"
   ]
  },
  {
   "cell_type": "code",
   "execution_count": null,
   "metadata": {},
   "outputs": [],
   "source": [
    "len(set(list(setpet)+list(setsanders)))"
   ]
  },
  {
   "cell_type": "code",
   "execution_count": null,
   "metadata": {},
   "outputs": [],
   "source": [
    "171+277"
   ]
  },
  {
   "cell_type": "code",
   "execution_count": null,
   "metadata": {},
   "outputs": [],
   "source": [
    "#backbone scraping code, idea would be to run this for every user in each subreddits set of users\n",
    "yang_dict = {}\n",
    "for user in yang_users[22:25]:\n",
    "    dict_sub = {}\n",
    "    for comment in user.comments.new(limit=1000):\n",
    "        if dict_sub.get(comment.subreddit.display_name,0) == 0:\n",
    "            dict_sub[comment.subreddit.display_name] = 1\n",
    "        else:\n",
    "            dict_sub[comment.subreddit.display_name] += 1\n",
    "    yang_dict[user] = dict_sub\n",
    "#     print(f'finished {user}')\n",
    "    time.sleep(5)"
   ]
  },
  {
   "cell_type": "code",
   "execution_count": null,
   "metadata": {},
   "outputs": [],
   "source": [
    "yang_dict"
   ]
  },
  {
   "cell_type": "code",
   "execution_count": null,
   "metadata": {},
   "outputs": [],
   "source": []
  }
 ],
 "metadata": {
  "kernelspec": {
   "display_name": "Python 3",
   "language": "python",
   "name": "python3"
  },
  "language_info": {
   "codemirror_mode": {
    "name": "ipython",
    "version": 3
   },
   "file_extension": ".py",
   "mimetype": "text/x-python",
   "name": "python",
   "nbconvert_exporter": "python",
   "pygments_lexer": "ipython3",
   "version": "3.7.3"
  }
 },
 "nbformat": 4,
 "nbformat_minor": 2
}
