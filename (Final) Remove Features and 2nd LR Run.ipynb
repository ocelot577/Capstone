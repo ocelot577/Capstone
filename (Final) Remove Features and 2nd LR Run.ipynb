{
 "cells": [
  {
   "cell_type": "code",
   "execution_count": 61,
   "metadata": {},
   "outputs": [],
   "source": [
    "import pandas as pd\n",
    "import matplotlib.pyplot as plt\n",
    "from imblearn.over_sampling import SMOTE\n",
    "from sklearn.metrics import confusion_matrix"
   ]
  },
  {
   "cell_type": "code",
   "execution_count": 2,
   "metadata": {},
   "outputs": [],
   "source": [
    "df = pd.read_csv('combined_scrape_2.csv')"
   ]
  },
  {
   "cell_type": "code",
   "execution_count": 3,
   "metadata": {},
   "outputs": [
    {
     "data": {
      "text/plain": [
       "(3543710, 4)"
      ]
     },
     "execution_count": 3,
     "metadata": {},
     "output_type": "execute_result"
    }
   ],
   "source": [
    "df.shape"
   ]
  },
  {
   "cell_type": "code",
   "execution_count": 4,
   "metadata": {},
   "outputs": [
    {
     "data": {
      "text/html": [
       "<div>\n",
       "<style scoped>\n",
       "    .dataframe tbody tr th:only-of-type {\n",
       "        vertical-align: middle;\n",
       "    }\n",
       "\n",
       "    .dataframe tbody tr th {\n",
       "        vertical-align: top;\n",
       "    }\n",
       "\n",
       "    .dataframe thead th {\n",
       "        text-align: right;\n",
       "    }\n",
       "</style>\n",
       "<table border=\"1\" class=\"dataframe\">\n",
       "  <thead>\n",
       "    <tr style=\"text-align: right;\">\n",
       "      <th></th>\n",
       "      <th>Comment Text</th>\n",
       "      <th>Author</th>\n",
       "      <th>Subreddit</th>\n",
       "      <th>Post ID</th>\n",
       "    </tr>\n",
       "  </thead>\n",
       "  <tbody>\n",
       "    <tr>\n",
       "      <th>0</th>\n",
       "      <td>Just curious, but what triggered your feelings...</td>\n",
       "      <td>PDXorax</td>\n",
       "      <td>YangForPresidentHQ</td>\n",
       "      <td>ew5ohva</td>\n",
       "    </tr>\n",
       "    <tr>\n",
       "      <th>1</th>\n",
       "      <td>Christmas time put up a light-up Yang sign!</td>\n",
       "      <td>PDXorax</td>\n",
       "      <td>YangForPresidentHQ</td>\n",
       "      <td>ew5o8vv</td>\n",
       "    </tr>\n",
       "    <tr>\n",
       "      <th>2</th>\n",
       "      <td>During the general election, get in contact wi...</td>\n",
       "      <td>PDXorax</td>\n",
       "      <td>YangForPresidentHQ</td>\n",
       "      <td>ew42bdx</td>\n",
       "    </tr>\n",
       "    <tr>\n",
       "      <th>3</th>\n",
       "      <td>We need to understand as a country, that the m...</td>\n",
       "      <td>PDXorax</td>\n",
       "      <td>YangForPresidentHQ</td>\n",
       "      <td>evva7l8</td>\n",
       "    </tr>\n",
       "    <tr>\n",
       "      <th>4</th>\n",
       "      <td>Part of the reason for this, is because we nee...</td>\n",
       "      <td>PDXorax</td>\n",
       "      <td>YangForPresidentHQ</td>\n",
       "      <td>evoo179</td>\n",
       "    </tr>\n",
       "  </tbody>\n",
       "</table>\n",
       "</div>"
      ],
      "text/plain": [
       "                                        Comment Text   Author  \\\n",
       "0  Just curious, but what triggered your feelings...  PDXorax   \n",
       "1        Christmas time put up a light-up Yang sign!  PDXorax   \n",
       "2  During the general election, get in contact wi...  PDXorax   \n",
       "3  We need to understand as a country, that the m...  PDXorax   \n",
       "4  Part of the reason for this, is because we nee...  PDXorax   \n",
       "\n",
       "            Subreddit  Post ID  \n",
       "0  YangForPresidentHQ  ew5ohva  \n",
       "1  YangForPresidentHQ  ew5o8vv  \n",
       "2  YangForPresidentHQ  ew42bdx  \n",
       "3  YangForPresidentHQ  evva7l8  \n",
       "4  YangForPresidentHQ  evoo179  "
      ]
     },
     "execution_count": 4,
     "metadata": {},
     "output_type": "execute_result"
    }
   ],
   "source": [
    "df.head()"
   ]
  },
  {
   "cell_type": "code",
   "execution_count": 5,
   "metadata": {},
   "outputs": [],
   "source": [
    "df_target_train = pd.read_csv('fin_users_train.csv')"
   ]
  },
  {
   "cell_type": "code",
   "execution_count": 6,
   "metadata": {},
   "outputs": [
    {
     "data": {
      "text/plain": [
       "(2487, 2)"
      ]
     },
     "execution_count": 6,
     "metadata": {},
     "output_type": "execute_result"
    }
   ],
   "source": [
    "df_target_train.shape"
   ]
  },
  {
   "cell_type": "code",
   "execution_count": 7,
   "metadata": {},
   "outputs": [],
   "source": [
    "df_target_test = pd.read_csv('fin_users_test.csv')"
   ]
  },
  {
   "cell_type": "code",
   "execution_count": 8,
   "metadata": {},
   "outputs": [
    {
     "data": {
      "text/plain": [
       "(830, 2)"
      ]
     },
     "execution_count": 8,
     "metadata": {},
     "output_type": "execute_result"
    }
   ],
   "source": [
    "df_target_test.shape"
   ]
  },
  {
   "cell_type": "code",
   "execution_count": 9,
   "metadata": {},
   "outputs": [],
   "source": [
    "df_target = pd.concat([df_target_test,df_target_train])"
   ]
  },
  {
   "cell_type": "code",
   "execution_count": 10,
   "metadata": {},
   "outputs": [
    {
     "data": {
      "text/plain": [
       "(3317, 2)"
      ]
     },
     "execution_count": 10,
     "metadata": {},
     "output_type": "execute_result"
    }
   ],
   "source": [
    "df_target.shape"
   ]
  },
  {
   "cell_type": "code",
   "execution_count": 11,
   "metadata": {},
   "outputs": [],
   "source": [
    "users = list(df_target['Unnamed: 0'])"
   ]
  },
  {
   "cell_type": "code",
   "execution_count": 12,
   "metadata": {},
   "outputs": [],
   "source": [
    "def clean_df(row):\n",
    "    if row['Author'] in users:\n",
    "        return '1'\n",
    "    else:\n",
    "        return '0'\n"
   ]
  },
  {
   "cell_type": "code",
   "execution_count": 13,
   "metadata": {},
   "outputs": [],
   "source": [
    "df['keep'] = df.apply(clean_df,axis=1)"
   ]
  },
  {
   "cell_type": "code",
   "execution_count": 14,
   "metadata": {},
   "outputs": [],
   "source": [
    "df = df[df['keep']=='1']"
   ]
  },
  {
   "cell_type": "code",
   "execution_count": 15,
   "metadata": {},
   "outputs": [],
   "source": [
    "\n",
    "sum_series = df.groupby(['Author','Subreddit']).size()"
   ]
  },
  {
   "cell_type": "code",
   "execution_count": 16,
   "metadata": {},
   "outputs": [],
   "source": [
    "list_of_subs = ['ENLIGHTENEDCENTRISM','Fuckthealtright','LateStageCapitalism','ABoringDystopia','nba',\n",
    "                'CollegeBasketball','lakers','bostonceltics','sixers','Conservative','tuesday',\n",
    "                'CryptoCurrency','Bitcoin','nfl','CFB','CHIBears','buildapcsales','Amd','Games',\n",
    "                'gaming','conspiracy','neoliberal','stupidpol','Android','anime','askgaybros','atheism',\n",
    "                'aznidentity','BasicIncome','BigBrother','books','cars','Christianity','Documentaries',\n",
    "                'Economics','environment','Futurology','hiphopheads','hockey','investing','JoeRogan',\n",
    "                'JordanPeterson','keto','liberalgunowners','Libertarian','marvelstudios','MMA','movies',\n",
    "                'Music','rupaulsdragrace','samharris','StarWars','technology','teenagers','television',\n",
    "                'teslamotors','thebachelor','TheLastAirbender','Tinder','trees','TwoXChromosomes',\n",
    "                'cats','Cricket','Fitness','gratefuldead','HomeImprovement']"
   ]
  },
  {
   "cell_type": "code",
   "execution_count": 17,
   "metadata": {},
   "outputs": [],
   "source": [
    "features = {}\n",
    "for user in users:\n",
    "    feature_dict = {}\n",
    "    for sub in sum_series[user].index:\n",
    "        if sub in list_of_subs:\n",
    "            feature_dict[sub]=sum_series[user][sub]\n",
    "    if len(feature_dict)!=0:\n",
    "        features[user]=feature_dict\n"
   ]
  },
  {
   "cell_type": "code",
   "execution_count": 18,
   "metadata": {},
   "outputs": [],
   "source": [
    "df_feature = pd.DataFrame(features).T"
   ]
  },
  {
   "cell_type": "code",
   "execution_count": 19,
   "metadata": {},
   "outputs": [
    {
     "data": {
      "text/html": [
       "<div>\n",
       "<style scoped>\n",
       "    .dataframe tbody tr th:only-of-type {\n",
       "        vertical-align: middle;\n",
       "    }\n",
       "\n",
       "    .dataframe tbody tr th {\n",
       "        vertical-align: top;\n",
       "    }\n",
       "\n",
       "    .dataframe thead th {\n",
       "        text-align: right;\n",
       "    }\n",
       "</style>\n",
       "<table border=\"1\" class=\"dataframe\">\n",
       "  <thead>\n",
       "    <tr style=\"text-align: right;\">\n",
       "      <th></th>\n",
       "      <th>ABoringDystopia</th>\n",
       "      <th>Amd</th>\n",
       "      <th>Android</th>\n",
       "      <th>BasicIncome</th>\n",
       "      <th>BigBrother</th>\n",
       "      <th>Bitcoin</th>\n",
       "      <th>CFB</th>\n",
       "      <th>CHIBears</th>\n",
       "      <th>Christianity</th>\n",
       "      <th>CollegeBasketball</th>\n",
       "      <th>...</th>\n",
       "      <th>samharris</th>\n",
       "      <th>sixers</th>\n",
       "      <th>stupidpol</th>\n",
       "      <th>technology</th>\n",
       "      <th>teenagers</th>\n",
       "      <th>television</th>\n",
       "      <th>teslamotors</th>\n",
       "      <th>thebachelor</th>\n",
       "      <th>trees</th>\n",
       "      <th>tuesday</th>\n",
       "    </tr>\n",
       "  </thead>\n",
       "  <tbody>\n",
       "    <tr>\n",
       "      <th>Boomslangalang</th>\n",
       "      <td>NaN</td>\n",
       "      <td>NaN</td>\n",
       "      <td>NaN</td>\n",
       "      <td>NaN</td>\n",
       "      <td>NaN</td>\n",
       "      <td>NaN</td>\n",
       "      <td>NaN</td>\n",
       "      <td>NaN</td>\n",
       "      <td>NaN</td>\n",
       "      <td>NaN</td>\n",
       "      <td>...</td>\n",
       "      <td>NaN</td>\n",
       "      <td>NaN</td>\n",
       "      <td>NaN</td>\n",
       "      <td>3.0</td>\n",
       "      <td>NaN</td>\n",
       "      <td>NaN</td>\n",
       "      <td>NaN</td>\n",
       "      <td>NaN</td>\n",
       "      <td>NaN</td>\n",
       "      <td>NaN</td>\n",
       "    </tr>\n",
       "    <tr>\n",
       "      <th>bczeon27</th>\n",
       "      <td>NaN</td>\n",
       "      <td>NaN</td>\n",
       "      <td>NaN</td>\n",
       "      <td>2.0</td>\n",
       "      <td>NaN</td>\n",
       "      <td>2.0</td>\n",
       "      <td>NaN</td>\n",
       "      <td>NaN</td>\n",
       "      <td>NaN</td>\n",
       "      <td>NaN</td>\n",
       "      <td>...</td>\n",
       "      <td>NaN</td>\n",
       "      <td>NaN</td>\n",
       "      <td>NaN</td>\n",
       "      <td>NaN</td>\n",
       "      <td>NaN</td>\n",
       "      <td>NaN</td>\n",
       "      <td>NaN</td>\n",
       "      <td>NaN</td>\n",
       "      <td>NaN</td>\n",
       "      <td>NaN</td>\n",
       "    </tr>\n",
       "    <tr>\n",
       "      <th>madosooki</th>\n",
       "      <td>NaN</td>\n",
       "      <td>NaN</td>\n",
       "      <td>NaN</td>\n",
       "      <td>NaN</td>\n",
       "      <td>NaN</td>\n",
       "      <td>NaN</td>\n",
       "      <td>NaN</td>\n",
       "      <td>NaN</td>\n",
       "      <td>NaN</td>\n",
       "      <td>NaN</td>\n",
       "      <td>...</td>\n",
       "      <td>NaN</td>\n",
       "      <td>NaN</td>\n",
       "      <td>NaN</td>\n",
       "      <td>NaN</td>\n",
       "      <td>NaN</td>\n",
       "      <td>NaN</td>\n",
       "      <td>NaN</td>\n",
       "      <td>NaN</td>\n",
       "      <td>5.0</td>\n",
       "      <td>NaN</td>\n",
       "    </tr>\n",
       "    <tr>\n",
       "      <th>krom0025</th>\n",
       "      <td>NaN</td>\n",
       "      <td>NaN</td>\n",
       "      <td>NaN</td>\n",
       "      <td>NaN</td>\n",
       "      <td>NaN</td>\n",
       "      <td>NaN</td>\n",
       "      <td>NaN</td>\n",
       "      <td>NaN</td>\n",
       "      <td>NaN</td>\n",
       "      <td>NaN</td>\n",
       "      <td>...</td>\n",
       "      <td>NaN</td>\n",
       "      <td>NaN</td>\n",
       "      <td>NaN</td>\n",
       "      <td>10.0</td>\n",
       "      <td>NaN</td>\n",
       "      <td>NaN</td>\n",
       "      <td>NaN</td>\n",
       "      <td>NaN</td>\n",
       "      <td>8.0</td>\n",
       "      <td>NaN</td>\n",
       "    </tr>\n",
       "    <tr>\n",
       "      <th>Its_not_him</th>\n",
       "      <td>NaN</td>\n",
       "      <td>NaN</td>\n",
       "      <td>NaN</td>\n",
       "      <td>NaN</td>\n",
       "      <td>NaN</td>\n",
       "      <td>NaN</td>\n",
       "      <td>NaN</td>\n",
       "      <td>NaN</td>\n",
       "      <td>NaN</td>\n",
       "      <td>NaN</td>\n",
       "      <td>...</td>\n",
       "      <td>NaN</td>\n",
       "      <td>NaN</td>\n",
       "      <td>NaN</td>\n",
       "      <td>NaN</td>\n",
       "      <td>3.0</td>\n",
       "      <td>NaN</td>\n",
       "      <td>NaN</td>\n",
       "      <td>NaN</td>\n",
       "      <td>1.0</td>\n",
       "      <td>NaN</td>\n",
       "    </tr>\n",
       "  </tbody>\n",
       "</table>\n",
       "<p>5 rows × 66 columns</p>\n",
       "</div>"
      ],
      "text/plain": [
       "                ABoringDystopia  Amd  Android  BasicIncome  BigBrother  \\\n",
       "Boomslangalang              NaN  NaN      NaN          NaN         NaN   \n",
       "bczeon27                    NaN  NaN      NaN          2.0         NaN   \n",
       "madosooki                   NaN  NaN      NaN          NaN         NaN   \n",
       "krom0025                    NaN  NaN      NaN          NaN         NaN   \n",
       "Its_not_him                 NaN  NaN      NaN          NaN         NaN   \n",
       "\n",
       "                Bitcoin  CFB  CHIBears  Christianity  CollegeBasketball  ...  \\\n",
       "Boomslangalang      NaN  NaN       NaN           NaN                NaN  ...   \n",
       "bczeon27            2.0  NaN       NaN           NaN                NaN  ...   \n",
       "madosooki           NaN  NaN       NaN           NaN                NaN  ...   \n",
       "krom0025            NaN  NaN       NaN           NaN                NaN  ...   \n",
       "Its_not_him         NaN  NaN       NaN           NaN                NaN  ...   \n",
       "\n",
       "                samharris  sixers  stupidpol  technology  teenagers  \\\n",
       "Boomslangalang        NaN     NaN        NaN         3.0        NaN   \n",
       "bczeon27              NaN     NaN        NaN         NaN        NaN   \n",
       "madosooki             NaN     NaN        NaN         NaN        NaN   \n",
       "krom0025              NaN     NaN        NaN        10.0        NaN   \n",
       "Its_not_him           NaN     NaN        NaN         NaN        3.0   \n",
       "\n",
       "                television  teslamotors  thebachelor  trees  tuesday  \n",
       "Boomslangalang         NaN          NaN          NaN    NaN      NaN  \n",
       "bczeon27               NaN          NaN          NaN    NaN      NaN  \n",
       "madosooki              NaN          NaN          NaN    5.0      NaN  \n",
       "krom0025               NaN          NaN          NaN    8.0      NaN  \n",
       "Its_not_him            NaN          NaN          NaN    1.0      NaN  \n",
       "\n",
       "[5 rows x 66 columns]"
      ]
     },
     "execution_count": 19,
     "metadata": {},
     "output_type": "execute_result"
    }
   ],
   "source": [
    "df_feature.head()"
   ]
  },
  {
   "cell_type": "code",
   "execution_count": 20,
   "metadata": {},
   "outputs": [
    {
     "data": {
      "text/plain": [
       "(2804, 66)"
      ]
     },
     "execution_count": 20,
     "metadata": {},
     "output_type": "execute_result"
    }
   ],
   "source": [
    "df_feature.shape"
   ]
  },
  {
   "cell_type": "code",
   "execution_count": 21,
   "metadata": {},
   "outputs": [],
   "source": [
    "df_feature.fillna(0,inplace=True)"
   ]
  },
  {
   "cell_type": "code",
   "execution_count": 22,
   "metadata": {},
   "outputs": [],
   "source": [
    "#add code to combine like minded subs\n",
    "df_feature['anti_alt_right_comb']=df_feature['ENLIGHTENEDCENTRISM']+df_feature['Fuckthealtright']\n",
    "df_feature['bad_capitalism_comb']=df_feature['LateStageCapitalism']+df_feature['ABoringDystopia']\n",
    "df_feature['basketball_comb']=df_feature['nba']+df_feature['CollegeBasketball']+df_feature['lakers']+df_feature['bostonceltics']+df_feature['sixers']\n",
    "df_feature['conservative_comb']=df_feature['Conservative']+df_feature['tuesday']\n",
    "df_feature['crypto_comb']=df_feature['CryptoCurrency']+df_feature['Bitcoin']\n",
    "df_feature['football_comb']=df_feature['nfl']+df_feature['CFB']+df_feature['CHIBears']\n",
    "df_feature['pc_comb']=df_feature['buildapcsales']+df_feature['Amd']\n",
    "df_feature['gaming_comb']=df_feature['gaming']+df_feature['Games']\n"
   ]
  },
  {
   "cell_type": "code",
   "execution_count": 24,
   "metadata": {},
   "outputs": [],
   "source": [
    "#remove above single subs\n",
    "df_feature.drop(['ENLIGHTENEDCENTRISM','Fuckthealtright','LateStageCapitalism','ABoringDystopia',\n",
    "                 'nba','CollegeBasketball','sixers','lakers','bostonceltics','Conservative','tuesday',\n",
    "                 'CryptoCurrency','Bitcoin','nfl','CFB','CHIBears',\n",
    "                 'buildapcsales','Amd','Games','gaming'],axis=1,inplace=True)"
   ]
  },
  {
   "cell_type": "code",
   "execution_count": 25,
   "metadata": {},
   "outputs": [],
   "source": [
    "df_feature = df_feature.div(df_feature.sum(axis=1), axis=0)"
   ]
  },
  {
   "cell_type": "code",
   "execution_count": 26,
   "metadata": {},
   "outputs": [
    {
     "data": {
      "text/html": [
       "<div>\n",
       "<style scoped>\n",
       "    .dataframe tbody tr th:only-of-type {\n",
       "        vertical-align: middle;\n",
       "    }\n",
       "\n",
       "    .dataframe tbody tr th {\n",
       "        vertical-align: top;\n",
       "    }\n",
       "\n",
       "    .dataframe thead th {\n",
       "        text-align: right;\n",
       "    }\n",
       "</style>\n",
       "<table border=\"1\" class=\"dataframe\">\n",
       "  <thead>\n",
       "    <tr style=\"text-align: right;\">\n",
       "      <th></th>\n",
       "      <th>Android</th>\n",
       "      <th>BasicIncome</th>\n",
       "      <th>BigBrother</th>\n",
       "      <th>Christianity</th>\n",
       "      <th>Cricket</th>\n",
       "      <th>Documentaries</th>\n",
       "      <th>Economics</th>\n",
       "      <th>Fitness</th>\n",
       "      <th>Futurology</th>\n",
       "      <th>HomeImprovement</th>\n",
       "      <th>...</th>\n",
       "      <th>thebachelor</th>\n",
       "      <th>trees</th>\n",
       "      <th>anti_alt_right_comb</th>\n",
       "      <th>bad_capitalism_comb</th>\n",
       "      <th>basketball_comb</th>\n",
       "      <th>conservative_comb</th>\n",
       "      <th>crypto_comb</th>\n",
       "      <th>football_comb</th>\n",
       "      <th>pc_comb</th>\n",
       "      <th>gaming_comb</th>\n",
       "    </tr>\n",
       "  </thead>\n",
       "  <tbody>\n",
       "    <tr>\n",
       "      <th>Boomslangalang</th>\n",
       "      <td>0.0</td>\n",
       "      <td>0.000000</td>\n",
       "      <td>0.0</td>\n",
       "      <td>0.0</td>\n",
       "      <td>0.000000</td>\n",
       "      <td>0.125000</td>\n",
       "      <td>0.000000</td>\n",
       "      <td>0.000000</td>\n",
       "      <td>0.031250</td>\n",
       "      <td>0.000000</td>\n",
       "      <td>...</td>\n",
       "      <td>0.0</td>\n",
       "      <td>0.000000</td>\n",
       "      <td>0.000000</td>\n",
       "      <td>0.000000</td>\n",
       "      <td>0.000000</td>\n",
       "      <td>0.000000</td>\n",
       "      <td>0.000000</td>\n",
       "      <td>0.000000</td>\n",
       "      <td>0.000000</td>\n",
       "      <td>0.031250</td>\n",
       "    </tr>\n",
       "    <tr>\n",
       "      <th>bczeon27</th>\n",
       "      <td>0.0</td>\n",
       "      <td>0.133333</td>\n",
       "      <td>0.0</td>\n",
       "      <td>0.0</td>\n",
       "      <td>0.000000</td>\n",
       "      <td>0.000000</td>\n",
       "      <td>0.000000</td>\n",
       "      <td>0.000000</td>\n",
       "      <td>0.133333</td>\n",
       "      <td>0.000000</td>\n",
       "      <td>...</td>\n",
       "      <td>0.0</td>\n",
       "      <td>0.000000</td>\n",
       "      <td>0.000000</td>\n",
       "      <td>0.000000</td>\n",
       "      <td>0.000000</td>\n",
       "      <td>0.000000</td>\n",
       "      <td>0.133333</td>\n",
       "      <td>0.000000</td>\n",
       "      <td>0.000000</td>\n",
       "      <td>0.000000</td>\n",
       "    </tr>\n",
       "    <tr>\n",
       "      <th>madosooki</th>\n",
       "      <td>0.0</td>\n",
       "      <td>0.000000</td>\n",
       "      <td>0.0</td>\n",
       "      <td>0.0</td>\n",
       "      <td>0.000000</td>\n",
       "      <td>0.000000</td>\n",
       "      <td>0.000000</td>\n",
       "      <td>0.083333</td>\n",
       "      <td>0.166667</td>\n",
       "      <td>0.000000</td>\n",
       "      <td>...</td>\n",
       "      <td>0.0</td>\n",
       "      <td>0.416667</td>\n",
       "      <td>0.000000</td>\n",
       "      <td>0.000000</td>\n",
       "      <td>0.000000</td>\n",
       "      <td>0.000000</td>\n",
       "      <td>0.000000</td>\n",
       "      <td>0.000000</td>\n",
       "      <td>0.000000</td>\n",
       "      <td>0.000000</td>\n",
       "    </tr>\n",
       "    <tr>\n",
       "      <th>krom0025</th>\n",
       "      <td>0.0</td>\n",
       "      <td>0.000000</td>\n",
       "      <td>0.0</td>\n",
       "      <td>0.0</td>\n",
       "      <td>0.000000</td>\n",
       "      <td>0.000000</td>\n",
       "      <td>0.017467</td>\n",
       "      <td>0.000000</td>\n",
       "      <td>0.000000</td>\n",
       "      <td>0.000000</td>\n",
       "      <td>...</td>\n",
       "      <td>0.0</td>\n",
       "      <td>0.034934</td>\n",
       "      <td>0.000000</td>\n",
       "      <td>0.000000</td>\n",
       "      <td>0.000000</td>\n",
       "      <td>0.000000</td>\n",
       "      <td>0.000000</td>\n",
       "      <td>0.004367</td>\n",
       "      <td>0.000000</td>\n",
       "      <td>0.004367</td>\n",
       "    </tr>\n",
       "    <tr>\n",
       "      <th>Its_not_him</th>\n",
       "      <td>0.0</td>\n",
       "      <td>0.000000</td>\n",
       "      <td>0.0</td>\n",
       "      <td>0.0</td>\n",
       "      <td>0.000000</td>\n",
       "      <td>0.000000</td>\n",
       "      <td>0.000000</td>\n",
       "      <td>0.000000</td>\n",
       "      <td>0.030303</td>\n",
       "      <td>0.000000</td>\n",
       "      <td>...</td>\n",
       "      <td>0.0</td>\n",
       "      <td>0.030303</td>\n",
       "      <td>0.000000</td>\n",
       "      <td>0.000000</td>\n",
       "      <td>0.060606</td>\n",
       "      <td>0.000000</td>\n",
       "      <td>0.000000</td>\n",
       "      <td>0.030303</td>\n",
       "      <td>0.000000</td>\n",
       "      <td>0.030303</td>\n",
       "    </tr>\n",
       "    <tr>\n",
       "      <th>staiano</th>\n",
       "      <td>0.0</td>\n",
       "      <td>0.000000</td>\n",
       "      <td>0.0</td>\n",
       "      <td>0.0</td>\n",
       "      <td>0.000000</td>\n",
       "      <td>0.000000</td>\n",
       "      <td>0.000000</td>\n",
       "      <td>0.000000</td>\n",
       "      <td>0.000000</td>\n",
       "      <td>0.000000</td>\n",
       "      <td>...</td>\n",
       "      <td>0.0</td>\n",
       "      <td>0.000000</td>\n",
       "      <td>0.000000</td>\n",
       "      <td>0.000000</td>\n",
       "      <td>0.722222</td>\n",
       "      <td>0.000000</td>\n",
       "      <td>0.000000</td>\n",
       "      <td>0.250000</td>\n",
       "      <td>0.000000</td>\n",
       "      <td>0.000000</td>\n",
       "    </tr>\n",
       "    <tr>\n",
       "      <th>bintherematthat</th>\n",
       "      <td>0.0</td>\n",
       "      <td>0.000000</td>\n",
       "      <td>0.0</td>\n",
       "      <td>0.0</td>\n",
       "      <td>0.000000</td>\n",
       "      <td>0.000000</td>\n",
       "      <td>0.016949</td>\n",
       "      <td>0.000000</td>\n",
       "      <td>0.000000</td>\n",
       "      <td>0.000000</td>\n",
       "      <td>...</td>\n",
       "      <td>0.0</td>\n",
       "      <td>0.000000</td>\n",
       "      <td>0.000000</td>\n",
       "      <td>0.000000</td>\n",
       "      <td>0.050847</td>\n",
       "      <td>0.101695</td>\n",
       "      <td>0.000000</td>\n",
       "      <td>0.779661</td>\n",
       "      <td>0.000000</td>\n",
       "      <td>0.000000</td>\n",
       "    </tr>\n",
       "    <tr>\n",
       "      <th>Ghee_Guys</th>\n",
       "      <td>0.0</td>\n",
       "      <td>0.000000</td>\n",
       "      <td>0.0</td>\n",
       "      <td>0.0</td>\n",
       "      <td>0.000000</td>\n",
       "      <td>0.000000</td>\n",
       "      <td>0.000000</td>\n",
       "      <td>0.010870</td>\n",
       "      <td>0.005435</td>\n",
       "      <td>0.027174</td>\n",
       "      <td>...</td>\n",
       "      <td>0.0</td>\n",
       "      <td>0.000000</td>\n",
       "      <td>0.000000</td>\n",
       "      <td>0.000000</td>\n",
       "      <td>0.000000</td>\n",
       "      <td>0.000000</td>\n",
       "      <td>0.000000</td>\n",
       "      <td>0.798913</td>\n",
       "      <td>0.000000</td>\n",
       "      <td>0.005435</td>\n",
       "    </tr>\n",
       "    <tr>\n",
       "      <th>Zernin</th>\n",
       "      <td>0.0</td>\n",
       "      <td>0.000000</td>\n",
       "      <td>0.0</td>\n",
       "      <td>0.0</td>\n",
       "      <td>0.000000</td>\n",
       "      <td>0.000000</td>\n",
       "      <td>0.666667</td>\n",
       "      <td>0.000000</td>\n",
       "      <td>0.000000</td>\n",
       "      <td>0.000000</td>\n",
       "      <td>...</td>\n",
       "      <td>0.0</td>\n",
       "      <td>0.000000</td>\n",
       "      <td>0.000000</td>\n",
       "      <td>0.000000</td>\n",
       "      <td>0.000000</td>\n",
       "      <td>0.000000</td>\n",
       "      <td>0.000000</td>\n",
       "      <td>0.000000</td>\n",
       "      <td>0.000000</td>\n",
       "      <td>0.000000</td>\n",
       "    </tr>\n",
       "    <tr>\n",
       "      <th>seedster5</th>\n",
       "      <td>0.0</td>\n",
       "      <td>0.000000</td>\n",
       "      <td>0.0</td>\n",
       "      <td>0.0</td>\n",
       "      <td>0.046512</td>\n",
       "      <td>0.000000</td>\n",
       "      <td>0.015504</td>\n",
       "      <td>0.000000</td>\n",
       "      <td>0.000000</td>\n",
       "      <td>0.000000</td>\n",
       "      <td>...</td>\n",
       "      <td>0.0</td>\n",
       "      <td>0.000000</td>\n",
       "      <td>0.015504</td>\n",
       "      <td>0.000000</td>\n",
       "      <td>0.341085</td>\n",
       "      <td>0.000000</td>\n",
       "      <td>0.000000</td>\n",
       "      <td>0.000000</td>\n",
       "      <td>0.000000</td>\n",
       "      <td>0.015504</td>\n",
       "    </tr>\n",
       "    <tr>\n",
       "      <th>ThisIsMyBikeAccount</th>\n",
       "      <td>0.0</td>\n",
       "      <td>0.000000</td>\n",
       "      <td>0.0</td>\n",
       "      <td>0.0</td>\n",
       "      <td>0.000000</td>\n",
       "      <td>0.000000</td>\n",
       "      <td>0.000000</td>\n",
       "      <td>0.000000</td>\n",
       "      <td>0.000000</td>\n",
       "      <td>0.000000</td>\n",
       "      <td>...</td>\n",
       "      <td>0.0</td>\n",
       "      <td>0.000000</td>\n",
       "      <td>0.000000</td>\n",
       "      <td>0.000000</td>\n",
       "      <td>0.833333</td>\n",
       "      <td>0.000000</td>\n",
       "      <td>0.000000</td>\n",
       "      <td>0.000000</td>\n",
       "      <td>0.000000</td>\n",
       "      <td>0.000000</td>\n",
       "    </tr>\n",
       "    <tr>\n",
       "      <th>coltsmetsfan614</th>\n",
       "      <td>0.0</td>\n",
       "      <td>0.000000</td>\n",
       "      <td>0.0</td>\n",
       "      <td>0.0</td>\n",
       "      <td>0.000000</td>\n",
       "      <td>0.000000</td>\n",
       "      <td>0.000000</td>\n",
       "      <td>0.000000</td>\n",
       "      <td>0.000000</td>\n",
       "      <td>0.000000</td>\n",
       "      <td>...</td>\n",
       "      <td>0.0</td>\n",
       "      <td>0.000000</td>\n",
       "      <td>0.000000</td>\n",
       "      <td>0.000000</td>\n",
       "      <td>0.080460</td>\n",
       "      <td>0.000000</td>\n",
       "      <td>0.000000</td>\n",
       "      <td>0.015326</td>\n",
       "      <td>0.000000</td>\n",
       "      <td>0.003831</td>\n",
       "    </tr>\n",
       "    <tr>\n",
       "      <th>ExpectedDickbuttGotD</th>\n",
       "      <td>0.0</td>\n",
       "      <td>0.000000</td>\n",
       "      <td>0.0</td>\n",
       "      <td>0.0</td>\n",
       "      <td>0.000000</td>\n",
       "      <td>0.000000</td>\n",
       "      <td>0.000000</td>\n",
       "      <td>0.000000</td>\n",
       "      <td>0.000000</td>\n",
       "      <td>0.000000</td>\n",
       "      <td>...</td>\n",
       "      <td>0.0</td>\n",
       "      <td>0.000000</td>\n",
       "      <td>0.000000</td>\n",
       "      <td>0.000000</td>\n",
       "      <td>0.000000</td>\n",
       "      <td>0.000000</td>\n",
       "      <td>0.000000</td>\n",
       "      <td>0.000000</td>\n",
       "      <td>0.000000</td>\n",
       "      <td>0.000000</td>\n",
       "    </tr>\n",
       "    <tr>\n",
       "      <th>Pec0sb1ll</th>\n",
       "      <td>0.0</td>\n",
       "      <td>0.000000</td>\n",
       "      <td>0.0</td>\n",
       "      <td>0.0</td>\n",
       "      <td>0.000000</td>\n",
       "      <td>0.000000</td>\n",
       "      <td>0.000000</td>\n",
       "      <td>0.000000</td>\n",
       "      <td>0.039604</td>\n",
       "      <td>0.000000</td>\n",
       "      <td>...</td>\n",
       "      <td>0.0</td>\n",
       "      <td>0.059406</td>\n",
       "      <td>0.000000</td>\n",
       "      <td>0.128713</td>\n",
       "      <td>0.019802</td>\n",
       "      <td>0.000000</td>\n",
       "      <td>0.000000</td>\n",
       "      <td>0.000000</td>\n",
       "      <td>0.000000</td>\n",
       "      <td>0.029703</td>\n",
       "    </tr>\n",
       "    <tr>\n",
       "      <th>mozza_02</th>\n",
       "      <td>0.0</td>\n",
       "      <td>0.000000</td>\n",
       "      <td>0.0</td>\n",
       "      <td>0.0</td>\n",
       "      <td>0.000000</td>\n",
       "      <td>0.000000</td>\n",
       "      <td>0.000000</td>\n",
       "      <td>0.000000</td>\n",
       "      <td>0.000000</td>\n",
       "      <td>0.000000</td>\n",
       "      <td>...</td>\n",
       "      <td>0.0</td>\n",
       "      <td>0.000000</td>\n",
       "      <td>0.021739</td>\n",
       "      <td>0.021739</td>\n",
       "      <td>0.000000</td>\n",
       "      <td>0.021739</td>\n",
       "      <td>0.000000</td>\n",
       "      <td>0.000000</td>\n",
       "      <td>0.000000</td>\n",
       "      <td>0.000000</td>\n",
       "    </tr>\n",
       "    <tr>\n",
       "      <th>Johnny_15</th>\n",
       "      <td>0.0</td>\n",
       "      <td>0.000000</td>\n",
       "      <td>0.0</td>\n",
       "      <td>0.0</td>\n",
       "      <td>0.000000</td>\n",
       "      <td>0.000000</td>\n",
       "      <td>0.000000</td>\n",
       "      <td>0.000000</td>\n",
       "      <td>0.000000</td>\n",
       "      <td>0.000000</td>\n",
       "      <td>...</td>\n",
       "      <td>0.0</td>\n",
       "      <td>0.000000</td>\n",
       "      <td>0.000000</td>\n",
       "      <td>0.000000</td>\n",
       "      <td>1.000000</td>\n",
       "      <td>0.000000</td>\n",
       "      <td>0.000000</td>\n",
       "      <td>0.000000</td>\n",
       "      <td>0.000000</td>\n",
       "      <td>0.000000</td>\n",
       "    </tr>\n",
       "    <tr>\n",
       "      <th>DoktorZaius</th>\n",
       "      <td>0.0</td>\n",
       "      <td>0.000000</td>\n",
       "      <td>0.0</td>\n",
       "      <td>0.0</td>\n",
       "      <td>0.000000</td>\n",
       "      <td>0.000000</td>\n",
       "      <td>0.000000</td>\n",
       "      <td>0.000000</td>\n",
       "      <td>0.000000</td>\n",
       "      <td>0.000000</td>\n",
       "      <td>...</td>\n",
       "      <td>0.0</td>\n",
       "      <td>0.000000</td>\n",
       "      <td>0.000000</td>\n",
       "      <td>0.000000</td>\n",
       "      <td>0.000000</td>\n",
       "      <td>0.000000</td>\n",
       "      <td>0.000000</td>\n",
       "      <td>0.000000</td>\n",
       "      <td>0.014706</td>\n",
       "      <td>0.000000</td>\n",
       "    </tr>\n",
       "    <tr>\n",
       "      <th>patton3</th>\n",
       "      <td>0.0</td>\n",
       "      <td>0.000000</td>\n",
       "      <td>0.0</td>\n",
       "      <td>0.0</td>\n",
       "      <td>0.000000</td>\n",
       "      <td>0.000000</td>\n",
       "      <td>0.000000</td>\n",
       "      <td>0.000000</td>\n",
       "      <td>0.000000</td>\n",
       "      <td>0.000000</td>\n",
       "      <td>...</td>\n",
       "      <td>0.0</td>\n",
       "      <td>0.000000</td>\n",
       "      <td>0.000000</td>\n",
       "      <td>0.000000</td>\n",
       "      <td>0.000000</td>\n",
       "      <td>0.000000</td>\n",
       "      <td>0.000000</td>\n",
       "      <td>0.000000</td>\n",
       "      <td>0.000000</td>\n",
       "      <td>0.461538</td>\n",
       "    </tr>\n",
       "    <tr>\n",
       "      <th>bullbear101</th>\n",
       "      <td>0.0</td>\n",
       "      <td>0.000000</td>\n",
       "      <td>0.0</td>\n",
       "      <td>0.0</td>\n",
       "      <td>0.000000</td>\n",
       "      <td>0.000000</td>\n",
       "      <td>0.000000</td>\n",
       "      <td>0.000000</td>\n",
       "      <td>0.000000</td>\n",
       "      <td>0.000000</td>\n",
       "      <td>...</td>\n",
       "      <td>0.0</td>\n",
       "      <td>0.000000</td>\n",
       "      <td>0.000000</td>\n",
       "      <td>0.615385</td>\n",
       "      <td>0.000000</td>\n",
       "      <td>0.000000</td>\n",
       "      <td>0.000000</td>\n",
       "      <td>0.000000</td>\n",
       "      <td>0.000000</td>\n",
       "      <td>0.000000</td>\n",
       "    </tr>\n",
       "    <tr>\n",
       "      <th>Beatlerod</th>\n",
       "      <td>0.0</td>\n",
       "      <td>0.000000</td>\n",
       "      <td>0.0</td>\n",
       "      <td>0.0</td>\n",
       "      <td>0.000000</td>\n",
       "      <td>0.042553</td>\n",
       "      <td>0.000000</td>\n",
       "      <td>0.063830</td>\n",
       "      <td>0.000000</td>\n",
       "      <td>0.000000</td>\n",
       "      <td>...</td>\n",
       "      <td>0.0</td>\n",
       "      <td>0.000000</td>\n",
       "      <td>0.000000</td>\n",
       "      <td>0.021277</td>\n",
       "      <td>0.000000</td>\n",
       "      <td>0.000000</td>\n",
       "      <td>0.000000</td>\n",
       "      <td>0.000000</td>\n",
       "      <td>0.000000</td>\n",
       "      <td>0.000000</td>\n",
       "    </tr>\n",
       "  </tbody>\n",
       "</table>\n",
       "<p>20 rows × 54 columns</p>\n",
       "</div>"
      ],
      "text/plain": [
       "                      Android  BasicIncome  BigBrother  Christianity  \\\n",
       "Boomslangalang            0.0     0.000000         0.0           0.0   \n",
       "bczeon27                  0.0     0.133333         0.0           0.0   \n",
       "madosooki                 0.0     0.000000         0.0           0.0   \n",
       "krom0025                  0.0     0.000000         0.0           0.0   \n",
       "Its_not_him               0.0     0.000000         0.0           0.0   \n",
       "staiano                   0.0     0.000000         0.0           0.0   \n",
       "bintherematthat           0.0     0.000000         0.0           0.0   \n",
       "Ghee_Guys                 0.0     0.000000         0.0           0.0   \n",
       "Zernin                    0.0     0.000000         0.0           0.0   \n",
       "seedster5                 0.0     0.000000         0.0           0.0   \n",
       "ThisIsMyBikeAccount       0.0     0.000000         0.0           0.0   \n",
       "coltsmetsfan614           0.0     0.000000         0.0           0.0   \n",
       "ExpectedDickbuttGotD      0.0     0.000000         0.0           0.0   \n",
       "Pec0sb1ll                 0.0     0.000000         0.0           0.0   \n",
       "mozza_02                  0.0     0.000000         0.0           0.0   \n",
       "Johnny_15                 0.0     0.000000         0.0           0.0   \n",
       "DoktorZaius               0.0     0.000000         0.0           0.0   \n",
       "patton3                   0.0     0.000000         0.0           0.0   \n",
       "bullbear101               0.0     0.000000         0.0           0.0   \n",
       "Beatlerod                 0.0     0.000000         0.0           0.0   \n",
       "\n",
       "                       Cricket  Documentaries  Economics   Fitness  \\\n",
       "Boomslangalang        0.000000       0.125000   0.000000  0.000000   \n",
       "bczeon27              0.000000       0.000000   0.000000  0.000000   \n",
       "madosooki             0.000000       0.000000   0.000000  0.083333   \n",
       "krom0025              0.000000       0.000000   0.017467  0.000000   \n",
       "Its_not_him           0.000000       0.000000   0.000000  0.000000   \n",
       "staiano               0.000000       0.000000   0.000000  0.000000   \n",
       "bintherematthat       0.000000       0.000000   0.016949  0.000000   \n",
       "Ghee_Guys             0.000000       0.000000   0.000000  0.010870   \n",
       "Zernin                0.000000       0.000000   0.666667  0.000000   \n",
       "seedster5             0.046512       0.000000   0.015504  0.000000   \n",
       "ThisIsMyBikeAccount   0.000000       0.000000   0.000000  0.000000   \n",
       "coltsmetsfan614       0.000000       0.000000   0.000000  0.000000   \n",
       "ExpectedDickbuttGotD  0.000000       0.000000   0.000000  0.000000   \n",
       "Pec0sb1ll             0.000000       0.000000   0.000000  0.000000   \n",
       "mozza_02              0.000000       0.000000   0.000000  0.000000   \n",
       "Johnny_15             0.000000       0.000000   0.000000  0.000000   \n",
       "DoktorZaius           0.000000       0.000000   0.000000  0.000000   \n",
       "patton3               0.000000       0.000000   0.000000  0.000000   \n",
       "bullbear101           0.000000       0.000000   0.000000  0.000000   \n",
       "Beatlerod             0.000000       0.042553   0.000000  0.063830   \n",
       "\n",
       "                      Futurology  HomeImprovement  ...  thebachelor     trees  \\\n",
       "Boomslangalang          0.031250         0.000000  ...          0.0  0.000000   \n",
       "bczeon27                0.133333         0.000000  ...          0.0  0.000000   \n",
       "madosooki               0.166667         0.000000  ...          0.0  0.416667   \n",
       "krom0025                0.000000         0.000000  ...          0.0  0.034934   \n",
       "Its_not_him             0.030303         0.000000  ...          0.0  0.030303   \n",
       "staiano                 0.000000         0.000000  ...          0.0  0.000000   \n",
       "bintherematthat         0.000000         0.000000  ...          0.0  0.000000   \n",
       "Ghee_Guys               0.005435         0.027174  ...          0.0  0.000000   \n",
       "Zernin                  0.000000         0.000000  ...          0.0  0.000000   \n",
       "seedster5               0.000000         0.000000  ...          0.0  0.000000   \n",
       "ThisIsMyBikeAccount     0.000000         0.000000  ...          0.0  0.000000   \n",
       "coltsmetsfan614         0.000000         0.000000  ...          0.0  0.000000   \n",
       "ExpectedDickbuttGotD    0.000000         0.000000  ...          0.0  0.000000   \n",
       "Pec0sb1ll               0.039604         0.000000  ...          0.0  0.059406   \n",
       "mozza_02                0.000000         0.000000  ...          0.0  0.000000   \n",
       "Johnny_15               0.000000         0.000000  ...          0.0  0.000000   \n",
       "DoktorZaius             0.000000         0.000000  ...          0.0  0.000000   \n",
       "patton3                 0.000000         0.000000  ...          0.0  0.000000   \n",
       "bullbear101             0.000000         0.000000  ...          0.0  0.000000   \n",
       "Beatlerod               0.000000         0.000000  ...          0.0  0.000000   \n",
       "\n",
       "                      anti_alt_right_comb  bad_capitalism_comb  \\\n",
       "Boomslangalang                   0.000000             0.000000   \n",
       "bczeon27                         0.000000             0.000000   \n",
       "madosooki                        0.000000             0.000000   \n",
       "krom0025                         0.000000             0.000000   \n",
       "Its_not_him                      0.000000             0.000000   \n",
       "staiano                          0.000000             0.000000   \n",
       "bintherematthat                  0.000000             0.000000   \n",
       "Ghee_Guys                        0.000000             0.000000   \n",
       "Zernin                           0.000000             0.000000   \n",
       "seedster5                        0.015504             0.000000   \n",
       "ThisIsMyBikeAccount              0.000000             0.000000   \n",
       "coltsmetsfan614                  0.000000             0.000000   \n",
       "ExpectedDickbuttGotD             0.000000             0.000000   \n",
       "Pec0sb1ll                        0.000000             0.128713   \n",
       "mozza_02                         0.021739             0.021739   \n",
       "Johnny_15                        0.000000             0.000000   \n",
       "DoktorZaius                      0.000000             0.000000   \n",
       "patton3                          0.000000             0.000000   \n",
       "bullbear101                      0.000000             0.615385   \n",
       "Beatlerod                        0.000000             0.021277   \n",
       "\n",
       "                      basketball_comb  conservative_comb  crypto_comb  \\\n",
       "Boomslangalang               0.000000           0.000000     0.000000   \n",
       "bczeon27                     0.000000           0.000000     0.133333   \n",
       "madosooki                    0.000000           0.000000     0.000000   \n",
       "krom0025                     0.000000           0.000000     0.000000   \n",
       "Its_not_him                  0.060606           0.000000     0.000000   \n",
       "staiano                      0.722222           0.000000     0.000000   \n",
       "bintherematthat              0.050847           0.101695     0.000000   \n",
       "Ghee_Guys                    0.000000           0.000000     0.000000   \n",
       "Zernin                       0.000000           0.000000     0.000000   \n",
       "seedster5                    0.341085           0.000000     0.000000   \n",
       "ThisIsMyBikeAccount          0.833333           0.000000     0.000000   \n",
       "coltsmetsfan614              0.080460           0.000000     0.000000   \n",
       "ExpectedDickbuttGotD         0.000000           0.000000     0.000000   \n",
       "Pec0sb1ll                    0.019802           0.000000     0.000000   \n",
       "mozza_02                     0.000000           0.021739     0.000000   \n",
       "Johnny_15                    1.000000           0.000000     0.000000   \n",
       "DoktorZaius                  0.000000           0.000000     0.000000   \n",
       "patton3                      0.000000           0.000000     0.000000   \n",
       "bullbear101                  0.000000           0.000000     0.000000   \n",
       "Beatlerod                    0.000000           0.000000     0.000000   \n",
       "\n",
       "                      football_comb   pc_comb  gaming_comb  \n",
       "Boomslangalang             0.000000  0.000000     0.031250  \n",
       "bczeon27                   0.000000  0.000000     0.000000  \n",
       "madosooki                  0.000000  0.000000     0.000000  \n",
       "krom0025                   0.004367  0.000000     0.004367  \n",
       "Its_not_him                0.030303  0.000000     0.030303  \n",
       "staiano                    0.250000  0.000000     0.000000  \n",
       "bintherematthat            0.779661  0.000000     0.000000  \n",
       "Ghee_Guys                  0.798913  0.000000     0.005435  \n",
       "Zernin                     0.000000  0.000000     0.000000  \n",
       "seedster5                  0.000000  0.000000     0.015504  \n",
       "ThisIsMyBikeAccount        0.000000  0.000000     0.000000  \n",
       "coltsmetsfan614            0.015326  0.000000     0.003831  \n",
       "ExpectedDickbuttGotD       0.000000  0.000000     0.000000  \n",
       "Pec0sb1ll                  0.000000  0.000000     0.029703  \n",
       "mozza_02                   0.000000  0.000000     0.000000  \n",
       "Johnny_15                  0.000000  0.000000     0.000000  \n",
       "DoktorZaius                0.000000  0.014706     0.000000  \n",
       "patton3                    0.000000  0.000000     0.461538  \n",
       "bullbear101                0.000000  0.000000     0.000000  \n",
       "Beatlerod                  0.000000  0.000000     0.000000  \n",
       "\n",
       "[20 rows x 54 columns]"
      ]
     },
     "execution_count": 26,
     "metadata": {},
     "output_type": "execute_result"
    }
   ],
   "source": [
    "df_feature.head(20)"
   ]
  },
  {
   "cell_type": "code",
   "execution_count": 27,
   "metadata": {},
   "outputs": [
    {
     "data": {
      "text/plain": [
       "Android         0\n",
       "BasicIncome     0\n",
       "BigBrother      0\n",
       "Christianity    0\n",
       "Cricket         0\n",
       "dtype: int64"
      ]
     },
     "execution_count": 27,
     "metadata": {},
     "output_type": "execute_result"
    }
   ],
   "source": [
    "df_feature.isnull().sum().head()"
   ]
  },
  {
   "cell_type": "code",
   "execution_count": 28,
   "metadata": {},
   "outputs": [],
   "source": [
    "df_target_train = df_target_train.set_index('Unnamed: 0')"
   ]
  },
  {
   "cell_type": "code",
   "execution_count": 29,
   "metadata": {},
   "outputs": [],
   "source": [
    "df_target_test = df_target_test.set_index('Unnamed: 0')"
   ]
  },
  {
   "cell_type": "code",
   "execution_count": 30,
   "metadata": {},
   "outputs": [
    {
     "data": {
      "text/plain": [
       "(2804, 54)"
      ]
     },
     "execution_count": 30,
     "metadata": {},
     "output_type": "execute_result"
    }
   ],
   "source": [
    "df_feature.shape"
   ]
  },
  {
   "cell_type": "code",
   "execution_count": 31,
   "metadata": {},
   "outputs": [],
   "source": [
    "df_train = pd.concat([df_feature,df_target_train],axis=1,join='inner')"
   ]
  },
  {
   "cell_type": "code",
   "execution_count": 32,
   "metadata": {},
   "outputs": [],
   "source": [
    "df_test = pd.concat([df_feature,df_target_test],axis=1,join='inner')"
   ]
  },
  {
   "cell_type": "code",
   "execution_count": 33,
   "metadata": {},
   "outputs": [
    {
     "data": {
      "text/plain": [
       "(2110, 55)"
      ]
     },
     "execution_count": 33,
     "metadata": {},
     "output_type": "execute_result"
    }
   ],
   "source": [
    "df_train.shape"
   ]
  },
  {
   "cell_type": "code",
   "execution_count": 34,
   "metadata": {},
   "outputs": [
    {
     "data": {
      "text/plain": [
       "(694, 55)"
      ]
     },
     "execution_count": 34,
     "metadata": {},
     "output_type": "execute_result"
    }
   ],
   "source": [
    "df_test.shape"
   ]
  },
  {
   "cell_type": "code",
   "execution_count": 35,
   "metadata": {},
   "outputs": [],
   "source": [
    "df_train.to_csv('fin_train_df.csv')"
   ]
  },
  {
   "cell_type": "code",
   "execution_count": 36,
   "metadata": {},
   "outputs": [],
   "source": [
    "df_test.to_csv('fin_test_df.csv')"
   ]
  },
  {
   "cell_type": "code",
   "execution_count": 37,
   "metadata": {},
   "outputs": [],
   "source": [
    "from sklearn.linear_model import LogisticRegression"
   ]
  },
  {
   "cell_type": "code",
   "execution_count": 38,
   "metadata": {},
   "outputs": [],
   "source": [
    "lr = LogisticRegression(solver='lbfgs')"
   ]
  },
  {
   "cell_type": "code",
   "execution_count": 39,
   "metadata": {},
   "outputs": [],
   "source": [
    "X_train = df_train.drop('target',axis=1)"
   ]
  },
  {
   "cell_type": "code",
   "execution_count": 40,
   "metadata": {},
   "outputs": [],
   "source": [
    "y_train = df_train['target']"
   ]
  },
  {
   "cell_type": "code",
   "execution_count": 41,
   "metadata": {},
   "outputs": [],
   "source": [
    "X_test = df_test.drop('target',axis=1)"
   ]
  },
  {
   "cell_type": "code",
   "execution_count": 42,
   "metadata": {},
   "outputs": [],
   "source": [
    "y_test = df_test['target']"
   ]
  },
  {
   "cell_type": "code",
   "execution_count": 43,
   "metadata": {},
   "outputs": [
    {
     "data": {
      "text/plain": [
       "LogisticRegression(C=1.0, class_weight=None, dual=False, fit_intercept=True,\n",
       "                   intercept_scaling=1, l1_ratio=None, max_iter=100,\n",
       "                   multi_class='warn', n_jobs=None, penalty='l2',\n",
       "                   random_state=None, solver='lbfgs', tol=0.0001, verbose=0,\n",
       "                   warm_start=False)"
      ]
     },
     "execution_count": 43,
     "metadata": {},
     "output_type": "execute_result"
    }
   ],
   "source": [
    "lr.fit(X_train,y_train)"
   ]
  },
  {
   "cell_type": "code",
   "execution_count": 44,
   "metadata": {},
   "outputs": [
    {
     "data": {
      "text/plain": [
       "0.7767772511848341"
      ]
     },
     "execution_count": 44,
     "metadata": {},
     "output_type": "execute_result"
    }
   ],
   "source": [
    "lr.score(X_train,y_train)"
   ]
  },
  {
   "cell_type": "code",
   "execution_count": 45,
   "metadata": {},
   "outputs": [
    {
     "data": {
      "text/plain": [
       "0    0.736967\n",
       "1    0.263033\n",
       "Name: target, dtype: float64"
      ]
     },
     "execution_count": 45,
     "metadata": {},
     "output_type": "execute_result"
    }
   ],
   "source": [
    "y_train.value_counts(normalize=True)"
   ]
  },
  {
   "cell_type": "code",
   "execution_count": 46,
   "metadata": {},
   "outputs": [
    {
     "data": {
      "text/plain": [
       "0.7694524495677233"
      ]
     },
     "execution_count": 46,
     "metadata": {},
     "output_type": "execute_result"
    }
   ],
   "source": [
    "lr.score(X_test,y_test)"
   ]
  },
  {
   "cell_type": "code",
   "execution_count": 47,
   "metadata": {},
   "outputs": [
    {
     "data": {
      "text/plain": [
       "0    0.740634\n",
       "1    0.259366\n",
       "Name: target, dtype: float64"
      ]
     },
     "execution_count": 47,
     "metadata": {},
     "output_type": "execute_result"
    }
   ],
   "source": [
    "y_test.value_counts(normalize=True)"
   ]
  },
  {
   "cell_type": "code",
   "execution_count": 48,
   "metadata": {},
   "outputs": [
    {
     "data": {
      "text/plain": [
       "0    0.913545\n",
       "1    0.086455\n",
       "dtype: float64"
      ]
     },
     "execution_count": 48,
     "metadata": {},
     "output_type": "execute_result"
    }
   ],
   "source": [
    "pd.Series(lr.predict(X_test)).value_counts(normalize=True)"
   ]
  },
  {
   "cell_type": "code",
   "execution_count": 55,
   "metadata": {},
   "outputs": [],
   "source": [
    "smt = SMOTE()"
   ]
  },
  {
   "cell_type": "code",
   "execution_count": 56,
   "metadata": {},
   "outputs": [],
   "source": [
    "X_train_2,y_train_2 = smt.fit_sample(X_train,y_train)"
   ]
  },
  {
   "cell_type": "code",
   "execution_count": 57,
   "metadata": {},
   "outputs": [],
   "source": [
    "lrsmt = LogisticRegression(solver='lbfgs')"
   ]
  },
  {
   "cell_type": "code",
   "execution_count": 58,
   "metadata": {},
   "outputs": [
    {
     "data": {
      "text/plain": [
       "LogisticRegression(C=1.0, class_weight=None, dual=False, fit_intercept=True,\n",
       "                   intercept_scaling=1, l1_ratio=None, max_iter=100,\n",
       "                   multi_class='warn', n_jobs=None, penalty='l2',\n",
       "                   random_state=None, solver='lbfgs', tol=0.0001, verbose=0,\n",
       "                   warm_start=False)"
      ]
     },
     "execution_count": 58,
     "metadata": {},
     "output_type": "execute_result"
    }
   ],
   "source": [
    "lrsmt.fit(X_train_2,y_train_2)"
   ]
  },
  {
   "cell_type": "code",
   "execution_count": 59,
   "metadata": {},
   "outputs": [
    {
     "data": {
      "text/plain": [
       "0.715112540192926"
      ]
     },
     "execution_count": 59,
     "metadata": {},
     "output_type": "execute_result"
    }
   ],
   "source": [
    "lrsmt.score(X_train_2,y_train_2)"
   ]
  },
  {
   "cell_type": "code",
   "execution_count": 60,
   "metadata": {},
   "outputs": [
    {
     "data": {
      "text/plain": [
       "0.6786743515850144"
      ]
     },
     "execution_count": 60,
     "metadata": {},
     "output_type": "execute_result"
    }
   ],
   "source": [
    "lrsmt.score(X_test,y_test)"
   ]
  },
  {
   "cell_type": "code",
   "execution_count": 62,
   "metadata": {},
   "outputs": [
    {
     "data": {
      "text/plain": [
       "0    0.623919\n",
       "1    0.376081\n",
       "dtype: float64"
      ]
     },
     "execution_count": 62,
     "metadata": {},
     "output_type": "execute_result"
    }
   ],
   "source": [
    "pd.Series(lrsmt.predict(X_test)).value_counts(normalize=True)"
   ]
  },
  {
   "cell_type": "code",
   "execution_count": 63,
   "metadata": {},
   "outputs": [
    {
     "data": {
      "text/plain": [
       "array([[362, 152],\n",
       "       [ 71, 109]])"
      ]
     },
     "execution_count": 63,
     "metadata": {},
     "output_type": "execute_result"
    }
   ],
   "source": [
    "confusion_matrix(y_test,lrsmt.predict(X_test))"
   ]
  },
  {
   "cell_type": "code",
   "execution_count": 64,
   "metadata": {},
   "outputs": [
    {
     "data": {
      "text/plain": [
       "0    514\n",
       "1    180\n",
       "Name: target, dtype: int64"
      ]
     },
     "execution_count": 64,
     "metadata": {},
     "output_type": "execute_result"
    }
   ],
   "source": [
    "y_test.value_counts()"
   ]
  },
  {
   "cell_type": "code",
   "execution_count": 65,
   "metadata": {},
   "outputs": [],
   "source": [
    "results = pd.DataFrame(lrsmt.coef_.T,X_test.columns)"
   ]
  },
  {
   "cell_type": "code",
   "execution_count": 66,
   "metadata": {},
   "outputs": [
    {
     "data": {
      "text/html": [
       "<div>\n",
       "<style scoped>\n",
       "    .dataframe tbody tr th:only-of-type {\n",
       "        vertical-align: middle;\n",
       "    }\n",
       "\n",
       "    .dataframe tbody tr th {\n",
       "        vertical-align: top;\n",
       "    }\n",
       "\n",
       "    .dataframe thead th {\n",
       "        text-align: right;\n",
       "    }\n",
       "</style>\n",
       "<table border=\"1\" class=\"dataframe\">\n",
       "  <thead>\n",
       "    <tr style=\"text-align: right;\">\n",
       "      <th></th>\n",
       "      <th>0</th>\n",
       "    </tr>\n",
       "  </thead>\n",
       "  <tbody>\n",
       "    <tr>\n",
       "      <th>Android</th>\n",
       "      <td>1.176769</td>\n",
       "    </tr>\n",
       "    <tr>\n",
       "      <th>BasicIncome</th>\n",
       "      <td>4.815667</td>\n",
       "    </tr>\n",
       "    <tr>\n",
       "      <th>BigBrother</th>\n",
       "      <td>-1.360768</td>\n",
       "    </tr>\n",
       "    <tr>\n",
       "      <th>Cricket</th>\n",
       "      <td>-1.018231</td>\n",
       "    </tr>\n",
       "    <tr>\n",
       "      <th>Documentaries</th>\n",
       "      <td>-1.739733</td>\n",
       "    </tr>\n",
       "    <tr>\n",
       "      <th>Futurology</th>\n",
       "      <td>2.231020</td>\n",
       "    </tr>\n",
       "    <tr>\n",
       "      <th>HomeImprovement</th>\n",
       "      <td>-1.269811</td>\n",
       "    </tr>\n",
       "    <tr>\n",
       "      <th>JoeRogan</th>\n",
       "      <td>1.481625</td>\n",
       "    </tr>\n",
       "    <tr>\n",
       "      <th>JordanPeterson</th>\n",
       "      <td>2.102252</td>\n",
       "    </tr>\n",
       "    <tr>\n",
       "      <th>Libertarian</th>\n",
       "      <td>1.907621</td>\n",
       "    </tr>\n",
       "    <tr>\n",
       "      <th>Music</th>\n",
       "      <td>-1.554739</td>\n",
       "    </tr>\n",
       "    <tr>\n",
       "      <th>StarWars</th>\n",
       "      <td>-1.500844</td>\n",
       "    </tr>\n",
       "    <tr>\n",
       "      <th>TwoXChromosomes</th>\n",
       "      <td>-1.168505</td>\n",
       "    </tr>\n",
       "    <tr>\n",
       "      <th>anime</th>\n",
       "      <td>1.105281</td>\n",
       "    </tr>\n",
       "    <tr>\n",
       "      <th>askgaybros</th>\n",
       "      <td>-1.486648</td>\n",
       "    </tr>\n",
       "    <tr>\n",
       "      <th>aznidentity</th>\n",
       "      <td>3.540108</td>\n",
       "    </tr>\n",
       "    <tr>\n",
       "      <th>books</th>\n",
       "      <td>-1.159611</td>\n",
       "    </tr>\n",
       "    <tr>\n",
       "      <th>cars</th>\n",
       "      <td>-2.092582</td>\n",
       "    </tr>\n",
       "    <tr>\n",
       "      <th>environment</th>\n",
       "      <td>-1.774622</td>\n",
       "    </tr>\n",
       "    <tr>\n",
       "      <th>gratefuldead</th>\n",
       "      <td>-1.140285</td>\n",
       "    </tr>\n",
       "    <tr>\n",
       "      <th>hiphopheads</th>\n",
       "      <td>1.933669</td>\n",
       "    </tr>\n",
       "    <tr>\n",
       "      <th>hockey</th>\n",
       "      <td>-1.498757</td>\n",
       "    </tr>\n",
       "    <tr>\n",
       "      <th>investing</th>\n",
       "      <td>1.646974</td>\n",
       "    </tr>\n",
       "    <tr>\n",
       "      <th>keto</th>\n",
       "      <td>-1.134518</td>\n",
       "    </tr>\n",
       "    <tr>\n",
       "      <th>liberalgunowners</th>\n",
       "      <td>-1.863310</td>\n",
       "    </tr>\n",
       "    <tr>\n",
       "      <th>neoliberal</th>\n",
       "      <td>-1.406423</td>\n",
       "    </tr>\n",
       "    <tr>\n",
       "      <th>samharris</th>\n",
       "      <td>2.630600</td>\n",
       "    </tr>\n",
       "    <tr>\n",
       "      <th>teenagers</th>\n",
       "      <td>1.421890</td>\n",
       "    </tr>\n",
       "    <tr>\n",
       "      <th>television</th>\n",
       "      <td>-1.320790</td>\n",
       "    </tr>\n",
       "    <tr>\n",
       "      <th>anti_alt_right_comb</th>\n",
       "      <td>-1.273877</td>\n",
       "    </tr>\n",
       "    <tr>\n",
       "      <th>crypto_comb</th>\n",
       "      <td>2.283269</td>\n",
       "    </tr>\n",
       "    <tr>\n",
       "      <th>gaming_comb</th>\n",
       "      <td>1.262243</td>\n",
       "    </tr>\n",
       "  </tbody>\n",
       "</table>\n",
       "</div>"
      ],
      "text/plain": [
       "                            0\n",
       "Android              1.176769\n",
       "BasicIncome          4.815667\n",
       "BigBrother          -1.360768\n",
       "Cricket             -1.018231\n",
       "Documentaries       -1.739733\n",
       "Futurology           2.231020\n",
       "HomeImprovement     -1.269811\n",
       "JoeRogan             1.481625\n",
       "JordanPeterson       2.102252\n",
       "Libertarian          1.907621\n",
       "Music               -1.554739\n",
       "StarWars            -1.500844\n",
       "TwoXChromosomes     -1.168505\n",
       "anime                1.105281\n",
       "askgaybros          -1.486648\n",
       "aznidentity          3.540108\n",
       "books               -1.159611\n",
       "cars                -2.092582\n",
       "environment         -1.774622\n",
       "gratefuldead        -1.140285\n",
       "hiphopheads          1.933669\n",
       "hockey              -1.498757\n",
       "investing            1.646974\n",
       "keto                -1.134518\n",
       "liberalgunowners    -1.863310\n",
       "neoliberal          -1.406423\n",
       "samharris            2.630600\n",
       "teenagers            1.421890\n",
       "television          -1.320790\n",
       "anti_alt_right_comb -1.273877\n",
       "crypto_comb          2.283269\n",
       "gaming_comb          1.262243"
      ]
     },
     "execution_count": 66,
     "metadata": {},
     "output_type": "execute_result"
    }
   ],
   "source": [
    "results[abs(results[0])>1]"
   ]
  },
  {
   "cell_type": "code",
   "execution_count": null,
   "metadata": {},
   "outputs": [],
   "source": []
  }
 ],
 "metadata": {
  "kernelspec": {
   "display_name": "Python 3",
   "language": "python",
   "name": "python3"
  },
  "language_info": {
   "codemirror_mode": {
    "name": "ipython",
    "version": 3
   },
   "file_extension": ".py",
   "mimetype": "text/x-python",
   "name": "python",
   "nbconvert_exporter": "python",
   "pygments_lexer": "ipython3",
   "version": "3.7.3"
  }
 },
 "nbformat": 4,
 "nbformat_minor": 2
}
