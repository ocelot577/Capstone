{
 "cells": [
  {
   "cell_type": "markdown",
   "metadata": {},
   "source": [
    "[Link to different notebook](combine_scrapes.ipynb)"
   ]
  },
  {
   "cell_type": "code",
   "execution_count": 64,
   "metadata": {},
   "outputs": [],
   "source": [
    "import pandas as pd\n",
    "import matplotlib.pyplot as plt\n",
    "import numpy as np"
   ]
  },
  {
   "cell_type": "code",
   "execution_count": 65,
   "metadata": {},
   "outputs": [],
   "source": [
    "df_nlp = pd.read_csv('fin_cleaned_nlp.csv')"
   ]
  },
  {
   "cell_type": "code",
   "execution_count": 66,
   "metadata": {},
   "outputs": [
    {
     "data": {
      "text/html": [
       "<div>\n",
       "<style scoped>\n",
       "    .dataframe tbody tr th:only-of-type {\n",
       "        vertical-align: middle;\n",
       "    }\n",
       "\n",
       "    .dataframe tbody tr th {\n",
       "        vertical-align: top;\n",
       "    }\n",
       "\n",
       "    .dataframe thead th {\n",
       "        text-align: right;\n",
       "    }\n",
       "</style>\n",
       "<table border=\"1\" class=\"dataframe\">\n",
       "  <thead>\n",
       "    <tr style=\"text-align: right;\">\n",
       "      <th></th>\n",
       "      <th>Unnamed: 0</th>\n",
       "      <th>Text</th>\n",
       "      <th>Clean</th>\n",
       "    </tr>\n",
       "  </thead>\n",
       "  <tbody>\n",
       "    <tr>\n",
       "      <th>0</th>\n",
       "      <td>PDXorax</td>\n",
       "      <td>The Lump of Labor doesn't apply in this case, ...</td>\n",
       "      <td>lump labor doesnt appli case look rd labor aut...</td>\n",
       "    </tr>\n",
       "    <tr>\n",
       "      <th>1</th>\n",
       "      <td>PrincePizza1</td>\n",
       "      <td>I think things \"getting better\" to people like...</td>\n",
       "      <td>think thing get better peopl like everybodi ag...</td>\n",
       "    </tr>\n",
       "    <tr>\n",
       "      <th>2</th>\n",
       "      <td>Marmar79</td>\n",
       "      <td>Thank you. This made my dayHe so edgy.\\n\\nEdit...</td>\n",
       "      <td>thank made dayh edgi edit dont think wrong thi...</td>\n",
       "    </tr>\n",
       "    <tr>\n",
       "      <th>3</th>\n",
       "      <td>IRISHE3</td>\n",
       "      <td>I just wish politicians would put the money sh...</td>\n",
       "      <td>wish politician would put money shit real doll...</td>\n",
       "    </tr>\n",
       "    <tr>\n",
       "      <th>4</th>\n",
       "      <td>RonZiggy</td>\n",
       "      <td>Climate change as well.Wow...just wowWhat is t...</td>\n",
       "      <td>climat chang wellwowjust wowwhat fromwel happe...</td>\n",
       "    </tr>\n",
       "  </tbody>\n",
       "</table>\n",
       "</div>"
      ],
      "text/plain": [
       "     Unnamed: 0                                               Text  \\\n",
       "0       PDXorax  The Lump of Labor doesn't apply in this case, ...   \n",
       "1  PrincePizza1  I think things \"getting better\" to people like...   \n",
       "2      Marmar79  Thank you. This made my dayHe so edgy.\\n\\nEdit...   \n",
       "3       IRISHE3  I just wish politicians would put the money sh...   \n",
       "4      RonZiggy  Climate change as well.Wow...just wowWhat is t...   \n",
       "\n",
       "                                               Clean  \n",
       "0  lump labor doesnt appli case look rd labor aut...  \n",
       "1  think thing get better peopl like everybodi ag...  \n",
       "2  thank made dayh edgi edit dont think wrong thi...  \n",
       "3  wish politician would put money shit real doll...  \n",
       "4  climat chang wellwowjust wowwhat fromwel happe...  "
      ]
     },
     "execution_count": 66,
     "metadata": {},
     "output_type": "execute_result"
    }
   ],
   "source": [
    "df_nlp.head()"
   ]
  },
  {
   "cell_type": "code",
   "execution_count": 67,
   "metadata": {},
   "outputs": [],
   "source": [
    "df_nlp.set_index('Unnamed: 0',inplace=True)"
   ]
  },
  {
   "cell_type": "code",
   "execution_count": 68,
   "metadata": {},
   "outputs": [],
   "source": [
    "df_nlp.dropna(axis=0,inplace=True)"
   ]
  },
  {
   "cell_type": "code",
   "execution_count": 69,
   "metadata": {},
   "outputs": [
    {
     "data": {
      "text/html": [
       "<div>\n",
       "<style scoped>\n",
       "    .dataframe tbody tr th:only-of-type {\n",
       "        vertical-align: middle;\n",
       "    }\n",
       "\n",
       "    .dataframe tbody tr th {\n",
       "        vertical-align: top;\n",
       "    }\n",
       "\n",
       "    .dataframe thead th {\n",
       "        text-align: right;\n",
       "    }\n",
       "</style>\n",
       "<table border=\"1\" class=\"dataframe\">\n",
       "  <thead>\n",
       "    <tr style=\"text-align: right;\">\n",
       "      <th></th>\n",
       "      <th>Text</th>\n",
       "      <th>Clean</th>\n",
       "    </tr>\n",
       "    <tr>\n",
       "      <th>Unnamed: 0</th>\n",
       "      <th></th>\n",
       "      <th></th>\n",
       "    </tr>\n",
       "  </thead>\n",
       "  <tbody>\n",
       "    <tr>\n",
       "      <th>PDXorax</th>\n",
       "      <td>The Lump of Labor doesn't apply in this case, ...</td>\n",
       "      <td>lump labor doesnt appli case look rd labor aut...</td>\n",
       "    </tr>\n",
       "    <tr>\n",
       "      <th>PrincePizza1</th>\n",
       "      <td>I think things \"getting better\" to people like...</td>\n",
       "      <td>think thing get better peopl like everybodi ag...</td>\n",
       "    </tr>\n",
       "    <tr>\n",
       "      <th>Marmar79</th>\n",
       "      <td>Thank you. This made my dayHe so edgy.\\n\\nEdit...</td>\n",
       "      <td>thank made dayh edgi edit dont think wrong thi...</td>\n",
       "    </tr>\n",
       "    <tr>\n",
       "      <th>IRISHE3</th>\n",
       "      <td>I just wish politicians would put the money sh...</td>\n",
       "      <td>wish politician would put money shit real doll...</td>\n",
       "    </tr>\n",
       "    <tr>\n",
       "      <th>RonZiggy</th>\n",
       "      <td>Climate change as well.Wow...just wowWhat is t...</td>\n",
       "      <td>climat chang wellwowjust wowwhat fromwel happe...</td>\n",
       "    </tr>\n",
       "  </tbody>\n",
       "</table>\n",
       "</div>"
      ],
      "text/plain": [
       "                                                           Text  \\\n",
       "Unnamed: 0                                                        \n",
       "PDXorax       The Lump of Labor doesn't apply in this case, ...   \n",
       "PrincePizza1  I think things \"getting better\" to people like...   \n",
       "Marmar79      Thank you. This made my dayHe so edgy.\\n\\nEdit...   \n",
       "IRISHE3       I just wish politicians would put the money sh...   \n",
       "RonZiggy      Climate change as well.Wow...just wowWhat is t...   \n",
       "\n",
       "                                                          Clean  \n",
       "Unnamed: 0                                                       \n",
       "PDXorax       lump labor doesnt appli case look rd labor aut...  \n",
       "PrincePizza1  think thing get better peopl like everybodi ag...  \n",
       "Marmar79      thank made dayh edgi edit dont think wrong thi...  \n",
       "IRISHE3       wish politician would put money shit real doll...  \n",
       "RonZiggy      climat chang wellwowjust wowwhat fromwel happe...  "
      ]
     },
     "execution_count": 69,
     "metadata": {},
     "output_type": "execute_result"
    }
   ],
   "source": [
    "df_nlp.head()"
   ]
  },
  {
   "cell_type": "code",
   "execution_count": 70,
   "metadata": {},
   "outputs": [
    {
     "data": {
      "text/plain": [
       "(3707, 2)"
      ]
     },
     "execution_count": 70,
     "metadata": {},
     "output_type": "execute_result"
    }
   ],
   "source": [
    "df_nlp.shape"
   ]
  },
  {
   "cell_type": "code",
   "execution_count": 71,
   "metadata": {},
   "outputs": [],
   "source": [
    "df_yang_train = pd.read_csv('fin_users_train.csv')"
   ]
  },
  {
   "cell_type": "code",
   "execution_count": 72,
   "metadata": {},
   "outputs": [],
   "source": [
    "df_yang_test = pd.read_csv('fin_users_test.csv')"
   ]
  },
  {
   "cell_type": "code",
   "execution_count": 73,
   "metadata": {},
   "outputs": [],
   "source": [
    "df_yang_train.set_index('Unnamed: 0',inplace=True)"
   ]
  },
  {
   "cell_type": "code",
   "execution_count": 74,
   "metadata": {},
   "outputs": [],
   "source": [
    "df_yang_test.set_index('Unnamed: 0',inplace=True)"
   ]
  },
  {
   "cell_type": "code",
   "execution_count": 75,
   "metadata": {},
   "outputs": [],
   "source": [
    "df_yang_tr = df_yang_train[df_yang_train['target']==1]"
   ]
  },
  {
   "cell_type": "code",
   "execution_count": 76,
   "metadata": {},
   "outputs": [],
   "source": [
    "df_yang_ts = df_yang_test[df_yang_test['target']==1]"
   ]
  },
  {
   "cell_type": "code",
   "execution_count": 77,
   "metadata": {},
   "outputs": [],
   "source": [
    "df_users = df_yang_ts.append(df_yang_tr)"
   ]
  },
  {
   "cell_type": "code",
   "execution_count": 47,
   "metadata": {},
   "outputs": [],
   "source": [
    "# users = list(df_yang_tr.index)+list(df_yang_ts.index)"
   ]
  },
  {
   "cell_type": "code",
   "execution_count": 79,
   "metadata": {},
   "outputs": [
    {
     "data": {
      "text/plain": [
       "(937, 1)"
      ]
     },
     "execution_count": 79,
     "metadata": {},
     "output_type": "execute_result"
    }
   ],
   "source": [
    "df_users.shape"
   ]
  },
  {
   "cell_type": "code",
   "execution_count": 80,
   "metadata": {},
   "outputs": [],
   "source": [
    "df_use = pd.concat([df_nlp,df_users],join='inner',axis=1)"
   ]
  },
  {
   "cell_type": "code",
   "execution_count": 81,
   "metadata": {},
   "outputs": [
    {
     "data": {
      "text/plain": [
       "(595, 3)"
      ]
     },
     "execution_count": 81,
     "metadata": {},
     "output_type": "execute_result"
    }
   ],
   "source": [
    "df_use.shape"
   ]
  },
  {
   "cell_type": "code",
   "execution_count": 19,
   "metadata": {},
   "outputs": [],
   "source": [
    "# import twitter \n",
    "import re\n",
    "import datetime \n",
    "import pandas as pd\n",
    "import matplotlib.pyplot as plt\n",
    "import matplotlib.patches as mpatches\n",
    "import matplotlib\n",
    "import numpy as np\n",
    "import pandas as pd\n",
    "\n",
    "from sklearn.feature_extraction.text import CountVectorizer, ENGLISH_STOP_WORDS\n",
    "from sklearn.decomposition import LatentDirichletAllocation\n",
    "\n",
    "from gensim import corpora, models\n",
    "import pyLDAvis.gensim\n",
    "\n",
    "pyLDAvis.enable_notebook()\n",
    "\n",
    "import warnings\n",
    "warnings.filterwarnings(\"ignore\", category=DeprecationWarning)\n",
    "\n",
    "np.random.seed(42)"
   ]
  },
  {
   "cell_type": "code",
   "execution_count": 89,
   "metadata": {},
   "outputs": [
    {
     "data": {
      "text/html": [
       "<div>\n",
       "<style scoped>\n",
       "    .dataframe tbody tr th:only-of-type {\n",
       "        vertical-align: middle;\n",
       "    }\n",
       "\n",
       "    .dataframe tbody tr th {\n",
       "        vertical-align: top;\n",
       "    }\n",
       "\n",
       "    .dataframe thead th {\n",
       "        text-align: right;\n",
       "    }\n",
       "</style>\n",
       "<table border=\"1\" class=\"dataframe\">\n",
       "  <thead>\n",
       "    <tr style=\"text-align: right;\">\n",
       "      <th></th>\n",
       "      <th>abandon</th>\n",
       "      <th>abil</th>\n",
       "      <th>abl</th>\n",
       "      <th>abolish</th>\n",
       "      <th>abort</th>\n",
       "      <th>absolut</th>\n",
       "      <th>absurd</th>\n",
       "      <th>abus</th>\n",
       "      <th>aca</th>\n",
       "      <th>acceler</th>\n",
       "      <th>...</th>\n",
       "      <th>youd</th>\n",
       "      <th>youll</th>\n",
       "      <th>young</th>\n",
       "      <th>younger</th>\n",
       "      <th>youth</th>\n",
       "      <th>youtub</th>\n",
       "      <th>youv</th>\n",
       "      <th>yr</th>\n",
       "      <th>zero</th>\n",
       "      <th>zone</th>\n",
       "    </tr>\n",
       "  </thead>\n",
       "  <tbody>\n",
       "    <tr>\n",
       "      <th>0</th>\n",
       "      <td>0</td>\n",
       "      <td>0</td>\n",
       "      <td>1</td>\n",
       "      <td>0</td>\n",
       "      <td>0</td>\n",
       "      <td>0</td>\n",
       "      <td>0</td>\n",
       "      <td>0</td>\n",
       "      <td>0</td>\n",
       "      <td>0</td>\n",
       "      <td>...</td>\n",
       "      <td>0</td>\n",
       "      <td>0</td>\n",
       "      <td>0</td>\n",
       "      <td>0</td>\n",
       "      <td>0</td>\n",
       "      <td>0</td>\n",
       "      <td>0</td>\n",
       "      <td>0</td>\n",
       "      <td>1</td>\n",
       "      <td>0</td>\n",
       "    </tr>\n",
       "    <tr>\n",
       "      <th>1</th>\n",
       "      <td>0</td>\n",
       "      <td>0</td>\n",
       "      <td>0</td>\n",
       "      <td>0</td>\n",
       "      <td>0</td>\n",
       "      <td>0</td>\n",
       "      <td>0</td>\n",
       "      <td>0</td>\n",
       "      <td>0</td>\n",
       "      <td>0</td>\n",
       "      <td>...</td>\n",
       "      <td>0</td>\n",
       "      <td>0</td>\n",
       "      <td>0</td>\n",
       "      <td>0</td>\n",
       "      <td>0</td>\n",
       "      <td>1</td>\n",
       "      <td>0</td>\n",
       "      <td>0</td>\n",
       "      <td>0</td>\n",
       "      <td>0</td>\n",
       "    </tr>\n",
       "    <tr>\n",
       "      <th>2</th>\n",
       "      <td>0</td>\n",
       "      <td>0</td>\n",
       "      <td>0</td>\n",
       "      <td>0</td>\n",
       "      <td>0</td>\n",
       "      <td>0</td>\n",
       "      <td>0</td>\n",
       "      <td>0</td>\n",
       "      <td>0</td>\n",
       "      <td>0</td>\n",
       "      <td>...</td>\n",
       "      <td>1</td>\n",
       "      <td>0</td>\n",
       "      <td>0</td>\n",
       "      <td>0</td>\n",
       "      <td>0</td>\n",
       "      <td>0</td>\n",
       "      <td>0</td>\n",
       "      <td>0</td>\n",
       "      <td>0</td>\n",
       "      <td>0</td>\n",
       "    </tr>\n",
       "    <tr>\n",
       "      <th>3</th>\n",
       "      <td>0</td>\n",
       "      <td>0</td>\n",
       "      <td>0</td>\n",
       "      <td>0</td>\n",
       "      <td>0</td>\n",
       "      <td>0</td>\n",
       "      <td>0</td>\n",
       "      <td>0</td>\n",
       "      <td>0</td>\n",
       "      <td>0</td>\n",
       "      <td>...</td>\n",
       "      <td>0</td>\n",
       "      <td>0</td>\n",
       "      <td>0</td>\n",
       "      <td>0</td>\n",
       "      <td>0</td>\n",
       "      <td>0</td>\n",
       "      <td>0</td>\n",
       "      <td>0</td>\n",
       "      <td>0</td>\n",
       "      <td>0</td>\n",
       "    </tr>\n",
       "    <tr>\n",
       "      <th>4</th>\n",
       "      <td>0</td>\n",
       "      <td>0</td>\n",
       "      <td>0</td>\n",
       "      <td>0</td>\n",
       "      <td>0</td>\n",
       "      <td>0</td>\n",
       "      <td>0</td>\n",
       "      <td>0</td>\n",
       "      <td>0</td>\n",
       "      <td>0</td>\n",
       "      <td>...</td>\n",
       "      <td>0</td>\n",
       "      <td>0</td>\n",
       "      <td>0</td>\n",
       "      <td>0</td>\n",
       "      <td>0</td>\n",
       "      <td>1</td>\n",
       "      <td>0</td>\n",
       "      <td>0</td>\n",
       "      <td>0</td>\n",
       "      <td>0</td>\n",
       "    </tr>\n",
       "  </tbody>\n",
       "</table>\n",
       "<p>5 rows × 3078 columns</p>\n",
       "</div>"
      ],
      "text/plain": [
       "   abandon  abil  abl  abolish  abort  absolut  absurd  abus  aca  acceler  \\\n",
       "0        0     0    1        0      0        0       0     0    0        0   \n",
       "1        0     0    0        0      0        0       0     0    0        0   \n",
       "2        0     0    0        0      0        0       0     0    0        0   \n",
       "3        0     0    0        0      0        0       0     0    0        0   \n",
       "4        0     0    0        0      0        0       0     0    0        0   \n",
       "\n",
       "   ...  youd  youll  young  younger  youth  youtub  youv  yr  zero  zone  \n",
       "0  ...     0      0      0        0      0       0     0   0     1     0  \n",
       "1  ...     0      0      0        0      0       1     0   0     0     0  \n",
       "2  ...     1      0      0        0      0       0     0   0     0     0  \n",
       "3  ...     0      0      0        0      0       0     0   0     0     0  \n",
       "4  ...     0      0      0        0      0       1     0   0     0     0  \n",
       "\n",
       "[5 rows x 3078 columns]"
      ]
     },
     "execution_count": 89,
     "metadata": {},
     "output_type": "execute_result"
    }
   ],
   "source": [
    "## Try initializing a count vectorizer\n",
    "stop = list(ENGLISH_STOP_WORDS)\n",
    "stop.extend(['https','amp'])\n",
    "\n",
    "cv = CountVectorizer(min_df=10 ,stop_words=stop)\n",
    "\n",
    "\n",
    "cv_arr = cv.fit_transform(df_use['Clean'])\n",
    "\n",
    "df_vect = pd.DataFrame(cv_arr.toarray(), columns=cv.get_feature_names())\n",
    "df_vect.head()"
   ]
  },
  {
   "cell_type": "code",
   "execution_count": 93,
   "metadata": {},
   "outputs": [
    {
     "name": "stderr",
     "output_type": "stream",
     "text": [
      "/Users/yichenh/anaconda3/lib/python3.7/site-packages/ipykernel_launcher.py:1: FutureWarning: Series.nonzero() is deprecated and will be removed in a future version.Use Series.to_numpy().nonzero() instead\n",
      "  \"\"\"Entry point for launching an IPython kernel.\n"
     ]
    }
   ],
   "source": [
    "texts = [df_vect.columns[df_vect.loc[index,:].nonzero()] for index in df_vect.index]"
   ]
  },
  {
   "cell_type": "code",
   "execution_count": 94,
   "metadata": {},
   "outputs": [],
   "source": [
    "dictionary = corpora.Dictionary(texts)"
   ]
  },
  {
   "cell_type": "code",
   "execution_count": 95,
   "metadata": {},
   "outputs": [],
   "source": [
    "corpus = [dictionary.doc2bow(text) for text in texts]"
   ]
  },
  {
   "cell_type": "code",
   "execution_count": 96,
   "metadata": {},
   "outputs": [],
   "source": [
    "ldamodel = models.ldamodel.LdaModel(corpus,                     # pass in our corpus\n",
    "                                    id2word = dictionary,       # matches each word to its \"number\" or \"spot\" in the dictionary\n",
    "                                    num_topics = 5,             # number of topics T to find\n",
    "                                    passes = 5,                 # number of passes through corpus; similar to number of epochs\n",
    "                                    minimum_probability = 0.01) # only include topics above this probability threshold"
   ]
  },
  {
   "cell_type": "code",
   "execution_count": 97,
   "metadata": {},
   "outputs": [
    {
     "name": "stderr",
     "output_type": "stream",
     "text": [
      "/Users/yichenh/anaconda3/lib/python3.7/site-packages/pyLDAvis/_prepare.py:257: FutureWarning: Sorting because non-concatenation axis is not aligned. A future version\n",
      "of pandas will change to not sort by default.\n",
      "\n",
      "To accept the future behavior, pass 'sort=False'.\n",
      "\n",
      "To retain the current behavior and silence the warning, pass 'sort=True'.\n",
      "\n",
      "  return pd.concat([default_term_info] + list(topic_dfs))\n"
     ]
    },
    {
     "data": {
      "text/html": [
       "\n",
       "<link rel=\"stylesheet\" type=\"text/css\" href=\"https://cdn.rawgit.com/bmabey/pyLDAvis/files/ldavis.v1.0.0.css\">\n",
       "\n",
       "\n",
       "<div id=\"ldavis_el82371147074637684899592692\"></div>\n",
       "<script type=\"text/javascript\">\n",
       "\n",
       "var ldavis_el82371147074637684899592692_data = {\"mdsDat\": {\"x\": [0.024726025795831774, -0.013439156894776929, -0.00870486198212923, 0.00569069103511129, -0.008272697954036875], \"y\": [-0.0015285439759419983, -0.00946409368007169, 0.02230507681800969, 0.00080092310294441, -0.012113362264940414], \"topics\": [1, 2, 3, 4, 5], \"cluster\": [1, 1, 1, 1, 1], \"Freq\": [38.7924690246582, 34.04848861694336, 13.338690757751465, 8.269871711730957, 5.550477981567383]}, \"tinfo\": {\"Category\": [\"Default\", \"Default\", \"Default\", \"Default\", \"Default\", \"Default\", \"Default\", \"Default\", \"Default\", \"Default\", \"Default\", \"Default\", \"Default\", \"Default\", \"Default\", \"Default\", \"Default\", \"Default\", \"Default\", \"Default\", \"Default\", \"Default\", \"Default\", \"Default\", \"Default\", \"Default\", \"Default\", \"Default\", \"Default\", \"Default\", \"Topic1\", \"Topic1\", \"Topic1\", \"Topic1\", \"Topic1\", \"Topic1\", \"Topic1\", \"Topic1\", \"Topic1\", \"Topic1\", \"Topic1\", \"Topic1\", \"Topic1\", \"Topic1\", \"Topic1\", \"Topic1\", \"Topic1\", \"Topic1\", \"Topic1\", \"Topic1\", \"Topic1\", \"Topic1\", \"Topic1\", \"Topic1\", \"Topic1\", \"Topic1\", \"Topic1\", \"Topic1\", \"Topic1\", \"Topic1\", \"Topic1\", \"Topic1\", \"Topic1\", \"Topic1\", \"Topic1\", \"Topic1\", \"Topic1\", \"Topic1\", \"Topic1\", \"Topic1\", \"Topic1\", \"Topic1\", \"Topic1\", \"Topic1\", \"Topic1\", \"Topic1\", \"Topic1\", \"Topic1\", \"Topic1\", \"Topic1\", \"Topic1\", \"Topic1\", \"Topic1\", \"Topic1\", \"Topic1\", \"Topic1\", \"Topic1\", \"Topic1\", \"Topic1\", \"Topic1\", \"Topic1\", \"Topic1\", \"Topic1\", \"Topic1\", \"Topic1\", \"Topic1\", \"Topic1\", \"Topic1\", \"Topic1\", \"Topic1\", \"Topic1\", \"Topic1\", \"Topic1\", \"Topic1\", \"Topic1\", \"Topic1\", \"Topic1\", \"Topic1\", \"Topic1\", \"Topic1\", \"Topic1\", \"Topic1\", \"Topic1\", \"Topic1\", \"Topic1\", \"Topic1\", \"Topic1\", \"Topic1\", \"Topic1\", \"Topic1\", \"Topic1\", \"Topic1\", \"Topic1\", \"Topic1\", \"Topic1\", \"Topic1\", \"Topic1\", \"Topic1\", \"Topic1\", \"Topic1\", \"Topic1\", \"Topic1\", \"Topic1\", \"Topic1\", \"Topic1\", \"Topic1\", \"Topic1\", \"Topic1\", \"Topic1\", \"Topic1\", \"Topic1\", \"Topic1\", \"Topic2\", \"Topic2\", \"Topic2\", \"Topic2\", \"Topic2\", \"Topic2\", \"Topic2\", \"Topic2\", \"Topic2\", \"Topic2\", \"Topic2\", \"Topic2\", \"Topic2\", \"Topic2\", \"Topic2\", \"Topic2\", \"Topic2\", \"Topic2\", \"Topic2\", \"Topic2\", \"Topic2\", \"Topic2\", \"Topic2\", \"Topic2\", \"Topic2\", \"Topic2\", \"Topic2\", \"Topic2\", \"Topic2\", \"Topic2\", \"Topic2\", \"Topic2\", \"Topic2\", \"Topic2\", \"Topic2\", \"Topic2\", \"Topic2\", \"Topic2\", \"Topic2\", \"Topic2\", \"Topic2\", \"Topic2\", \"Topic2\", \"Topic2\", \"Topic2\", \"Topic2\", \"Topic2\", \"Topic2\", \"Topic2\", \"Topic2\", \"Topic2\", \"Topic2\", \"Topic2\", \"Topic2\", \"Topic2\", \"Topic2\", \"Topic2\", \"Topic2\", \"Topic2\", \"Topic2\", \"Topic2\", \"Topic2\", \"Topic2\", \"Topic2\", \"Topic2\", \"Topic2\", \"Topic2\", \"Topic2\", \"Topic2\", \"Topic2\", \"Topic2\", \"Topic2\", \"Topic2\", \"Topic2\", \"Topic2\", \"Topic2\", \"Topic2\", \"Topic2\", \"Topic2\", \"Topic2\", \"Topic2\", \"Topic2\", \"Topic2\", \"Topic2\", \"Topic2\", \"Topic3\", \"Topic3\", \"Topic3\", \"Topic3\", \"Topic3\", \"Topic3\", \"Topic3\", \"Topic3\", \"Topic3\", \"Topic3\", \"Topic3\", \"Topic3\", \"Topic3\", \"Topic3\", \"Topic3\", \"Topic3\", \"Topic3\", \"Topic3\", \"Topic3\", \"Topic3\", \"Topic3\", \"Topic3\", \"Topic3\", \"Topic3\", \"Topic3\", \"Topic3\", \"Topic3\", \"Topic3\", \"Topic3\", \"Topic3\", \"Topic3\", \"Topic3\", \"Topic3\", \"Topic3\", \"Topic3\", \"Topic3\", \"Topic3\", \"Topic3\", \"Topic3\", \"Topic3\", \"Topic3\", \"Topic3\", \"Topic3\", \"Topic3\", \"Topic3\", \"Topic3\", \"Topic3\", \"Topic3\", \"Topic3\", \"Topic3\", \"Topic3\", \"Topic3\", \"Topic3\", \"Topic3\", \"Topic3\", \"Topic3\", \"Topic3\", \"Topic3\", \"Topic3\", \"Topic3\", \"Topic3\", \"Topic3\", \"Topic3\", \"Topic3\", \"Topic3\", \"Topic3\", \"Topic3\", \"Topic3\", \"Topic3\", \"Topic3\", \"Topic4\", \"Topic4\", \"Topic4\", \"Topic4\", \"Topic4\", \"Topic4\", \"Topic4\", \"Topic4\", \"Topic4\", \"Topic4\", \"Topic4\", \"Topic4\", \"Topic4\", \"Topic4\", \"Topic4\", \"Topic4\", \"Topic4\", \"Topic4\", \"Topic4\", \"Topic4\", \"Topic4\", \"Topic4\", \"Topic4\", \"Topic4\", \"Topic4\", \"Topic4\", \"Topic4\", \"Topic4\", \"Topic4\", \"Topic4\", \"Topic4\", \"Topic4\", \"Topic4\", \"Topic4\", \"Topic4\", \"Topic4\", \"Topic4\", \"Topic4\", \"Topic4\", \"Topic4\", \"Topic4\", \"Topic4\", \"Topic4\", \"Topic4\", \"Topic4\", \"Topic4\", \"Topic4\", \"Topic4\", \"Topic4\", \"Topic4\", \"Topic4\", \"Topic4\", \"Topic4\", \"Topic4\", \"Topic4\", \"Topic4\", \"Topic4\", \"Topic4\", \"Topic4\", \"Topic4\", \"Topic4\", \"Topic4\", \"Topic4\", \"Topic4\", \"Topic4\", \"Topic4\", \"Topic4\", \"Topic4\", \"Topic4\", \"Topic4\", \"Topic4\", \"Topic4\", \"Topic4\", \"Topic4\", \"Topic4\", \"Topic4\", \"Topic4\", \"Topic4\", \"Topic4\", \"Topic4\", \"Topic4\", \"Topic5\", \"Topic5\", \"Topic5\", \"Topic5\", \"Topic5\", \"Topic5\", \"Topic5\", \"Topic5\", \"Topic5\", \"Topic5\", \"Topic5\", \"Topic5\", \"Topic5\", \"Topic5\", \"Topic5\", \"Topic5\", \"Topic5\", \"Topic5\", \"Topic5\", \"Topic5\", \"Topic5\", \"Topic5\", \"Topic5\", \"Topic5\", \"Topic5\", \"Topic5\", \"Topic5\", \"Topic5\", \"Topic5\", \"Topic5\", \"Topic5\", \"Topic5\", \"Topic5\", \"Topic5\", \"Topic5\", \"Topic5\", \"Topic5\", \"Topic5\", \"Topic5\", \"Topic5\", \"Topic5\", \"Topic5\", \"Topic5\", \"Topic5\", \"Topic5\", \"Topic5\", \"Topic5\", \"Topic5\", \"Topic5\", \"Topic5\", \"Topic5\", \"Topic5\", \"Topic5\", \"Topic5\", \"Topic5\", \"Topic5\", \"Topic5\", \"Topic5\", \"Topic5\", \"Topic5\", \"Topic5\", \"Topic5\", \"Topic5\", \"Topic5\", \"Topic5\", \"Topic5\", \"Topic5\", \"Topic5\", \"Topic5\", \"Topic5\", \"Topic5\", \"Topic5\", \"Topic5\", \"Topic5\", \"Topic5\", \"Topic5\", \"Topic5\", \"Topic5\"], \"Freq\": [360.0, 355.0, 324.0, 315.0, 294.0, 260.0, 260.0, 279.0, 279.0, 335.0, 258.0, 277.0, 293.0, 248.0, 305.0, 285.0, 248.0, 254.0, 241.0, 287.0, 241.0, 248.0, 261.0, 258.0, 266.0, 241.0, 206.0, 255.0, 206.0, 252.0, 13.610147476196289, 11.063251495361328, 10.981342315673828, 10.296862602233887, 14.477339744567871, 12.937728881835938, 9.817824363708496, 11.976680755615234, 12.588624000549316, 9.53514575958252, 9.728608131408691, 9.855581283569336, 9.706765174865723, 14.051233291625977, 20.4072265625, 10.295758247375488, 9.957284927368164, 9.505809783935547, 11.219746589660645, 8.959734916687012, 8.854674339294434, 9.76126480102539, 9.878005027770996, 12.026118278503418, 11.477073669433594, 9.060873985290527, 13.948284149169922, 9.743111610412598, 12.923437118530273, 15.185830116271973, 22.231304168701172, 20.818727493286133, 17.03311538696289, 29.820056915283203, 21.819442749023438, 25.217376708984375, 25.555084228515625, 35.34646224975586, 24.85580825805664, 36.670841217041016, 22.36959457397461, 37.49142074584961, 33.569007873535156, 33.00405502319336, 23.89433479309082, 26.994935989379883, 23.300212860107422, 22.12228012084961, 18.03667449951172, 33.384307861328125, 42.44698715209961, 33.86052322387695, 35.62270736694336, 63.80845642089844, 33.076595306396484, 54.01961135864258, 29.866539001464844, 26.754121780395508, 47.23400115966797, 38.029720306396484, 51.3748664855957, 52.02806091308594, 58.6359748840332, 44.99281692504883, 67.16524505615234, 55.965904235839844, 47.279415130615234, 34.53835678100586, 45.20913314819336, 70.12591552734375, 49.236175537109375, 65.9664077758789, 53.932456970214844, 46.961002349853516, 55.79304504394531, 81.18759155273438, 66.14236450195312, 64.26909637451172, 58.99116134643555, 53.32146453857422, 64.99114990234375, 75.16138458251953, 63.82789993286133, 94.41077423095703, 70.365234375, 59.340755462646484, 73.94125366210938, 76.2442398071289, 67.91751098632812, 78.47219848632812, 79.8599853515625, 67.57860565185547, 65.96379852294922, 65.97789001464844, 75.46212005615234, 84.29163360595703, 78.46016693115234, 75.02056884765625, 77.83706665039062, 83.55569458007812, 73.01087951660156, 76.08860778808594, 66.45455932617188, 69.60602569580078, 67.47254180908203, 67.10980987548828, 70.46253967285156, 68.5311508178711, 67.15961456298828, 67.21683502197266, 67.18846130371094, 66.53800201416016, 9.291502952575684, 20.006155014038086, 8.45683765411377, 12.565247535705566, 10.45743465423584, 14.316558837890625, 21.667417526245117, 10.090548515319824, 14.936810493469238, 8.02199935913086, 11.580605506896973, 17.210403442382812, 10.890179634094238, 11.668892860412598, 8.824356079101562, 8.430779457092285, 9.127135276794434, 14.378496170043945, 20.945003509521484, 24.775917053222656, 8.094614028930664, 33.03239059448242, 9.853538513183594, 14.854334831237793, 14.47509765625, 11.486781120300293, 17.763654708862305, 9.16539192199707, 36.31204605102539, 7.9606099128723145, 73.99964141845703, 75.64482116699219, 44.45574951171875, 28.8735294342041, 63.939823150634766, 26.960792541503906, 83.03143310546875, 111.27346801757812, 71.90325927734375, 48.18349838256836, 29.560501098632812, 79.98027801513672, 53.741783142089844, 62.89054870605469, 52.78464126586914, 73.4068603515625, 70.20771026611328, 69.01043701171875, 74.4088134765625, 106.96168518066406, 64.09772491455078, 108.07855224609375, 72.46316528320312, 136.1964111328125, 95.7847900390625, 137.5625457763672, 82.51483154296875, 70.51508331298828, 105.28394317626953, 147.84640502929688, 101.39350891113281, 110.19489288330078, 94.03104400634766, 108.02537536621094, 119.24368286132812, 114.06242370605469, 105.32905578613281, 107.44213104248047, 127.06802368164062, 90.37310791015625, 104.16715240478516, 97.65282440185547, 117.04002380371094, 123.04151916503906, 94.16201782226562, 106.43602752685547, 104.79255676269531, 106.71979522705078, 97.01438903808594, 103.46135711669922, 96.37652587890625, 94.8879623413086, 100.16810607910156, 96.96795654296875, 95.62957763671875, 8.345934867858887, 12.846816062927246, 10.333207130432129, 4.474179744720459, 3.4982430934906006, 4.314050197601318, 10.58717155456543, 4.716796398162842, 5.9534149169921875, 3.464827060699463, 6.081757545471191, 6.751168727874756, 4.075852394104004, 6.198699951171875, 12.380501747131348, 3.378009080886841, 3.4906551837921143, 3.119528293609619, 4.190331935882568, 4.085277557373047, 8.1730375289917, 4.113291263580322, 3.377168893814087, 4.712879180908203, 16.486356735229492, 3.435983657836914, 2.9590299129486084, 3.7948615550994873, 3.5012764930725098, 3.1340601444244385, 11.93375015258789, 100.35823059082031, 16.741212844848633, 24.12131118774414, 6.25858211517334, 71.15718841552734, 62.94211959838867, 62.158714294433594, 86.93598175048828, 71.09163665771484, 49.35942840576172, 66.69746398925781, 45.548614501953125, 59.54905700683594, 71.10611724853516, 61.55088806152344, 70.57054138183594, 50.999755859375, 57.17621994018555, 41.178428649902344, 44.10927963256836, 23.637805938720703, 40.3870735168457, 47.045166015625, 67.66989135742188, 59.4140739440918, 40.47827911376953, 55.02096939086914, 58.28904342651367, 66.84378814697266, 50.57615280151367, 53.085906982421875, 57.085716247558594, 51.857818603515625, 48.903099060058594, 50.982261657714844, 48.4473991394043, 52.948402404785156, 49.943199157714844, 47.943511962890625, 3.935239791870117, 3.2781100273132324, 3.9282095432281494, 2.795088291168213, 5.729395389556885, 3.0767602920532227, 2.8875513076782227, 2.7342684268951416, 2.571084976196289, 2.8912227153778076, 2.386793851852417, 2.4506869316101074, 3.189760446548462, 2.5994656085968018, 2.6126344203948975, 3.479994773864746, 4.234744071960449, 2.3974053859710693, 6.635551929473877, 3.7627112865448, 4.69797945022583, 4.480870246887207, 2.6373555660247803, 2.337824583053589, 2.615358352661133, 2.1576926708221436, 2.5781948566436768, 2.8370561599731445, 2.163079261779785, 3.084233045578003, 7.46770715713501, 6.513247489929199, 4.862664699554443, 5.956207752227783, 7.718393325805664, 8.025802612304688, 35.47794723510742, 11.58910846710205, 32.50844192504883, 17.229246139526367, 16.958879470825195, 14.74683952331543, 11.513345718383789, 23.65645408630371, 29.5289249420166, 31.267972946166992, 18.002981185913086, 23.843400955200195, 18.288795471191406, 13.766180038452148, 23.14048194885254, 17.994155883789062, 26.290082931518555, 25.086606979370117, 28.07191276550293, 24.467599868774414, 14.88877010345459, 25.371362686157227, 22.217086791992188, 19.613584518432617, 23.21061897277832, 23.20798110961914, 18.859670639038086, 23.47048568725586, 26.171979904174805, 23.24620246887207, 23.879852294921875, 23.41366958618164, 18.99208641052246, 22.310144424438477, 21.216459274291992, 25.02088737487793, 25.31333351135254, 22.844505310058594, 25.19217300415039, 21.62133026123047, 22.903162002563477, 22.021347045898438, 23.696182250976562, 21.84321403503418, 21.98944664001465, 2.5985209941864014, 2.4286811351776123, 3.1448264122009277, 2.3415610790252686, 1.9794601202011108, 2.9784164428710938, 2.366964340209961, 6.210076332092285, 2.054257392883301, 2.0961334705352783, 2.2504327297210693, 2.456691265106201, 2.5795207023620605, 1.9861117601394653, 2.1940197944641113, 2.3147189617156982, 3.349179267883301, 2.9453213214874268, 1.5068469047546387, 3.42374849319458, 1.518790364265442, 1.4985536336898804, 2.7939088344573975, 2.911858081817627, 1.574562907218933, 1.807417392730713, 2.191323757171631, 2.879204750061035, 9.801437377929688, 2.2397658824920654, 3.4330520629882812, 7.934518337249756, 10.420294761657715, 7.511447906494141, 15.110888481140137, 4.992398738861084, 18.03907012939453, 6.387730121612549, 20.169105529785156, 30.372093200683594, 7.474078178405762, 17.517745971679688, 29.680688858032227, 11.797046661376953, 12.968732833862305, 22.406845092773438, 24.34619140625, 13.95430850982666, 9.377363204956055, 22.579450607299805, 21.15558624267578, 26.752687454223633, 24.11357307434082, 17.62994956970215, 16.18804168701172, 17.47789192199707, 20.836288452148438, 20.7466983795166, 13.665579795837402, 14.567805290222168, 19.163097381591797, 16.612592697143555, 18.206966400146484, 18.780025482177734, 16.12175178527832, 15.848135948181152, 18.852109909057617, 21.620811462402344, 17.293682098388672, 19.667884826660156, 17.863773345947266, 18.126970291137695, 17.81752586364746, 18.387256622314453, 17.93937110900879, 17.603302001953125, 18.225255966186523, 17.39684295654297], \"Term\": [\"like\", \"peopl\", \"think\", \"make\", \"trump\", \"right\", \"candid\", \"time\", \"know\", \"dont\", \"good\", \"im\", \"want\", \"vote\", \"say\", \"need\", \"work\", \"way\", \"polici\", \"thing\", \"look\", \"talk\", \"realli\", \"actual\", \"doesnt\", \"year\", \"countri\", \"support\", \"presid\", \"tri\", \"fascism\", \"steel\", \"basebal\", \"puppet\", \"cage\", \"invad\", \"shoulder\", \"recal\", \"omar\", \"weekend\", \"unwil\", \"infest\", \"refuge\", \"tree\", \"rapist\", \"accid\", \"oath\", \"malici\", \"command\", \"conservat\", \"reveng\", \"closet\", \"jackson\", \"maga\", \"teenag\", \"januari\", \"televis\", \"boycott\", \"display\", \"cohen\", \"letter\", \"tactic\", \"rep\", \"father\", \"liar\", \"assault\", \"religion\", \"violenc\", \"slave\", \"born\", \"indict\", \"murder\", \"racism\", \"damag\", \"traitor\", \"victim\", \"hypocrit\", \"north\", \"blood\", \"judg\", \"leader\", \"origin\", \"accord\", \"lie\", \"punish\", \"gun\", \"terrorist\", \"secret\", \"russian\", \"constitut\", \"stupid\", \"legal\", \"total\", \"repres\", \"white\", \"yeah\", \"black\", \"throw\", \"refer\", \"stop\", \"friend\", \"alway\", \"evid\", \"corrupt\", \"high\", \"elect\", \"case\", \"man\", \"ignor\", \"realiz\", \"probabl\", \"person\", \"love\", \"dont\", \"believ\", \"hate\", \"isnt\", \"said\", \"bad\", \"support\", \"doesnt\", \"care\", \"pretti\", \"republican\", \"come\", \"think\", \"need\", \"actual\", \"thing\", \"peopl\", \"talk\", \"want\", \"guy\", \"polit\", \"sure\", \"everi\", \"like\", \"time\", \"use\", \"vote\", \"trump\", \"im\", \"navig\", \"bureaucraci\", \"overhead\", \"supplement\", \"ssi\", \"landlord\", \"optin\", \"ssdi\", \"fd\", \"humancent\", \"string\", \"economist\", \"trojan\", \"stigma\", \"shrink\", \"poorer\", \"downsid\", \"reduct\", \"transact\", \"carbon\", \"wellb\", \"incent\", \"friedman\", \"throat\", \"stapl\", \"softwar\", \"luxuri\", \"sponsor\", \"opt\", \"longform\", \"welfar\", \"dividend\", \"poverti\", \"assist\", \"vat\", \"regress\", \"freedom\", \"ubi\", \"econom\", \"capit\", \"disabl\", \"program\", \"lower\", \"provid\", \"minimum\", \"spend\", \"compani\", \"economi\", \"benefit\", \"money\", \"increas\", \"american\", \"incom\", \"say\", \"problem\", \"make\", \"wrong\", \"autom\", \"better\", \"like\", \"job\", \"right\", \"reason\", \"way\", \"trump\", \"im\", \"tri\", \"candid\", \"dont\", \"state\", \"realli\", \"lot\", \"think\", \"peopl\", \"everi\", \"need\", \"know\", \"want\", \"look\", \"thing\", \"year\", \"point\", \"time\", \"good\", \"doesnt\", \"ohio\", \"nbc\", \"mute\", \"poni\", \"scum\", \"airtim\", \"spoke\", \"thrive\", \"morn\", \"awhil\", \"disenfranchis\", \"zone\", \"tout\", \"harsh\", \"asian\", \"wapo\", \"pic\", \"garner\", \"tran\", \"spit\", \"crap\", \"repetit\", \"harass\", \"ironi\", \"gang\", \"nervou\", \"fourth\", \"sat\", \"stranger\", \"nose\", \"kamala\", \"peopl\", \"mic\", \"ago\", \"season\", \"thing\", \"tri\", \"vote\", \"like\", \"want\", \"didnt\", \"know\", \"republican\", \"talk\", \"say\", \"realli\", \"make\", \"sure\", \"work\", \"fuck\", \"debat\", \"smart\", \"ask\", \"democrat\", \"think\", \"im\", \"anoth\", \"good\", \"time\", \"dont\", \"said\", \"support\", \"trump\", \"actual\", \"year\", \"candid\", \"look\", \"need\", \"doesnt\", \"polici\", \"upgrad\", \"brush\", \"swalwel\", \"itthat\", \"demonstr\", \"hickenloop\", \"opportunist\", \"skew\", \"tendenc\", \"charisma\", \"unreason\", \"bullock\", \"uncl\", \"graph\", \"surg\", \"michigan\", \"mandat\", \"dumbest\", \"gabbard\", \"chief\", \"bag\", \"alt\", \"tim\", \"buri\", \"iowa\", \"fourth\", \"depth\", \"pray\", \"garner\", \"breakfast\", \"afraid\", \"random\", \"awesom\", \"williamson\", \"nomine\", \"manufactur\", \"candid\", \"main\", \"right\", \"includ\", \"respons\", \"dem\", \"messag\", \"debat\", \"way\", \"time\", \"voter\", \"countri\", \"progress\", \"higher\", \"democrat\", \"hate\", \"support\", \"polici\", \"need\", \"use\", \"push\", \"work\", \"presid\", \"great\", \"polit\", \"better\", \"long\", \"look\", \"trump\", \"year\", \"good\", \"come\", \"understand\", \"mani\", \"person\", \"think\", \"dont\", \"doesnt\", \"like\", \"said\", \"know\", \"vote\", \"make\", \"actual\", \"peopl\", \"oversea\", \"ring\", \"sharehold\", \"skip\", \"revolt\", \"ownership\", \"threshold\", \"cheaper\", \"slogan\", \"tho\", \"la\", \"convent\", \"handout\", \"discours\", \"scientist\", \"discrimin\", \"owe\", \"tone\", \"leverag\", \"aint\", \"brigad\", \"disrupt\", \"fring\", \"fresh\", \"distant\", \"arabia\", \"german\", \"midwest\", \"tech\", \"rapidli\", \"entrepreneur\", \"wealth\", \"worker\", \"invest\", \"compani\", \"pocket\", \"thought\", \"math\", \"live\", \"think\", \"moment\", \"tax\", \"like\", \"dollar\", \"creat\", \"right\", \"trump\", \"progress\", \"donat\", \"im\", \"good\", \"peopl\", \"make\", \"countri\", \"differ\", \"someon\", \"know\", \"time\", \"gener\", \"read\", \"way\", \"pay\", \"lot\", \"vote\", \"idea\", \"let\", \"actual\", \"dont\", \"job\", \"need\", \"polici\", \"talk\", \"look\", \"doesnt\", \"candid\", \"work\", \"want\", \"realli\"], \"Total\": [360.0, 355.0, 324.0, 315.0, 294.0, 260.0, 260.0, 279.0, 279.0, 335.0, 258.0, 277.0, 293.0, 248.0, 305.0, 285.0, 248.0, 254.0, 241.0, 287.0, 241.0, 248.0, 261.0, 258.0, 266.0, 241.0, 206.0, 255.0, 206.0, 252.0, 16.208921432495117, 13.572983741760254, 13.563606262207031, 12.718196868896484, 18.01847267150879, 16.104717254638672, 12.295597076416016, 15.005842208862305, 15.847441673278809, 12.086957931518555, 12.404540061950684, 12.657407760620117, 12.563409805297852, 18.19727325439453, 26.479164123535156, 13.446351051330566, 13.159698486328125, 12.610418319702148, 14.943732261657715, 11.951936721801758, 11.837446212768555, 13.074081420898438, 13.24907112121582, 16.194833755493164, 15.460433006286621, 12.223219871520996, 18.845308303833008, 13.218805313110352, 17.568801879882812, 20.792762756347656, 30.556222915649414, 28.740018844604492, 23.569427490234375, 42.77125930786133, 30.900279998779297, 36.14350891113281, 36.67552947998047, 52.20772933959961, 35.7673225402832, 54.61727523803711, 32.0914306640625, 57.24972152709961, 50.679664611816406, 49.939178466796875, 34.639808654785156, 39.973514556884766, 33.76814270019531, 32.10398864746094, 25.36592674255371, 52.6771125793457, 70.43323516845703, 53.979862213134766, 57.44596481323242, 118.4873275756836, 52.93427276611328, 97.82933044433594, 46.71438217163086, 40.863525390625, 84.94088745117188, 64.61470031738281, 95.56993865966797, 98.03079223632812, 116.06951141357422, 81.59659576416016, 140.6847686767578, 110.96173858642578, 90.82688903808594, 58.957916259765625, 87.1341781616211, 166.72450256347656, 99.10836029052734, 153.57542419433594, 114.0902099609375, 93.25672149658203, 121.92761993408203, 220.96343994140625, 160.4788360595703, 154.08529663085938, 138.45542907714844, 116.68441772460938, 166.7259979248047, 217.54835510253906, 163.12428283691406, 335.2567138671875, 196.87591552734375, 144.1697235107422, 218.69180297851562, 233.79981994628906, 186.9521942138672, 255.22463989257812, 266.66455078125, 189.54306030273438, 180.54637145996094, 183.52745056152344, 250.72433471679688, 324.39453125, 285.5843811035156, 258.3526306152344, 287.42706298828125, 355.69757080078125, 248.75616455078125, 293.7257385253906, 192.8052520751953, 227.36485290527344, 216.83547973632812, 222.2633514404297, 360.1177978515625, 279.0029602050781, 234.27194213867188, 248.8558807373047, 294.0360107421875, 277.4945373535156, 11.912338256835938, 25.945703506469727, 10.991710662841797, 16.45368194580078, 13.827160835266113, 19.121774673461914, 29.445953369140625, 13.811945915222168, 20.53668785095215, 11.043539047241211, 15.963333129882812, 23.888046264648438, 15.281778335571289, 16.617403030395508, 12.771598815917969, 12.340840339660645, 13.388813972473145, 21.16659927368164, 30.9549503326416, 36.62526321411133, 12.091022491455078, 49.48301696777344, 14.834513664245605, 22.749286651611328, 22.294361114501953, 17.70355987548828, 27.40873908996582, 14.143051147460938, 56.13200378417969, 12.391327857971191, 116.79170227050781, 119.53657531738281, 70.47407531738281, 45.532814025878906, 104.71517944335938, 42.4818000793457, 138.94796752929688, 191.04873657226562, 121.2244644165039, 80.73976135253906, 47.52846145629883, 145.32139587402344, 94.48602294921875, 113.22232818603516, 93.35330963134766, 137.21087646484375, 131.3102569580078, 129.87692260742188, 142.3653106689453, 221.92654418945312, 120.53923797607422, 227.46917724609375, 140.38201904296875, 305.808349609375, 198.546630859375, 315.30224609375, 166.65794372558594, 138.00250244140625, 232.91329956054688, 360.1177978515625, 224.4724578857422, 260.7788391113281, 209.45150756835938, 254.1326904296875, 294.0360107421875, 277.4945373535156, 252.2580108642578, 260.44268798828125, 335.2567138671875, 206.22438049316406, 261.8179931640625, 235.54925537109375, 324.39453125, 355.69757080078125, 222.2633514404297, 285.5843811035156, 279.70672607421875, 293.7257385253906, 241.32464599609375, 287.42706298828125, 241.6693878173828, 232.29922485351562, 279.0029602050781, 258.5273132324219, 266.66455078125, 18.00204849243164, 28.329910278320312, 22.950939178466797, 11.949016571044922, 9.509758949279785, 11.748376846313477, 28.968069076538086, 13.39352798461914, 16.912996292114258, 9.84985065460205, 18.2395076751709, 20.34402847290039, 12.295759201049805, 18.762554168701172, 37.489566802978516, 10.39622974395752, 10.786628723144531, 9.66623592376709, 13.025184631347656, 12.753753662109375, 25.60706329345703, 12.939943313598633, 10.62438678741455, 14.929516792297363, 52.571876525878906, 11.096332550048828, 9.56445026397705, 12.314995765686035, 11.384923934936523, 10.348678588867188, 39.730228424072266, 355.69757080078125, 57.40837097167969, 87.71379089355469, 20.942533493041992, 287.42706298828125, 252.2580108642578, 248.8558807373047, 360.1177978515625, 293.7257385253906, 198.1776123046875, 279.70672607421875, 183.52745056152344, 248.75616455078125, 305.808349609375, 261.8179931640625, 315.30224609375, 216.83547973632812, 248.73890686035156, 173.62969970703125, 188.48452758789062, 89.94395446777344, 172.1921844482422, 207.5364532470703, 324.39453125, 277.4945373535156, 174.63511657714844, 258.5273132324219, 279.0029602050781, 335.2567138671875, 233.79981994628906, 255.22463989257812, 294.0360107421875, 258.3526306152344, 241.6693878173828, 260.44268798828125, 241.32464599609375, 285.5843811035156, 266.66455078125, 241.33721923828125, 9.202543258666992, 8.475582122802734, 11.740702629089355, 9.236892700195312, 19.933568954467773, 10.785758972167969, 10.206449508666992, 10.066800117492676, 9.743207931518555, 11.110251426696777, 9.420838356018066, 9.890229225158691, 12.903017044067383, 10.571009635925293, 10.635247230529785, 14.17218017578125, 17.573326110839844, 10.011500358581543, 28.03359603881836, 16.108545303344727, 20.243122100830078, 19.40839385986328, 11.529056549072266, 10.246893882751465, 11.510981559753418, 9.56445026397705, 11.459917068481445, 12.657180786132812, 9.66623592376709, 13.915008544921875, 35.41181182861328, 30.899307250976562, 22.826297760009766, 28.769495010375977, 38.84532928466797, 42.051292419433594, 260.44268798828125, 69.4641342163086, 260.7788391113281, 117.82039642333984, 116.211181640625, 98.53404235839844, 72.98300170898438, 188.48452758789062, 254.1326904296875, 279.0029602050781, 137.85922241210938, 206.13331604003906, 143.61734008789062, 97.40022277832031, 207.5364532470703, 144.1697235107422, 255.22463989257812, 241.33721923828125, 285.5843811035156, 234.27194213867188, 112.143798828125, 248.73890686035156, 206.21798706054688, 171.6186065673828, 227.36485290527344, 232.91329956054688, 164.96791076660156, 241.32464599609375, 294.0360107421875, 241.6693878173828, 258.5273132324219, 250.72433471679688, 172.9193572998047, 236.07412719726562, 217.54835510253906, 324.39453125, 335.2567138671875, 266.66455078125, 360.1177978515625, 233.79981994628906, 279.70672607421875, 248.8558807373047, 315.30224609375, 258.3526306152344, 355.69757080078125, 9.353204727172852, 8.905259132385254, 13.331058502197266, 10.72984790802002, 9.289390563964844, 15.251016616821289, 12.796638488769531, 34.1539306640625, 11.593259811401367, 12.081298828125, 13.093448638916016, 14.583744049072266, 15.55086898803711, 12.200666427612305, 13.556600570678711, 14.302763938903809, 20.842941284179688, 18.402379989624023, 9.544628143310547, 21.76218032836914, 9.67795181274414, 9.58728313446045, 17.98125457763672, 19.29837417602539, 10.465550422668457, 12.115459442138672, 14.72227668762207, 19.52590560913086, 66.68778991699219, 15.312230110168457, 23.55304718017578, 58.89899444580078, 83.69390869140625, 59.2637825012207, 131.3102569580078, 37.30503463745117, 161.49923706054688, 49.7142219543457, 194.60476684570312, 324.39453125, 60.16531753540039, 181.88931274414062, 360.1177978515625, 113.20582580566406, 127.85575103759766, 260.7788391113281, 294.0360107421875, 143.61734008789062, 85.76961517333984, 277.4945373535156, 258.5273132324219, 355.69757080078125, 315.30224609375, 206.13331604003906, 184.82022094726562, 211.91851806640625, 279.70672607421875, 279.0029602050781, 149.87200927734375, 166.0390167236328, 254.1326904296875, 203.84217834472656, 235.54925537109375, 248.8558807373047, 195.12232971191406, 191.1827850341797, 258.3526306152344, 335.2567138671875, 224.4724578857422, 285.5843811035156, 241.33721923828125, 248.75616455078125, 241.32464599609375, 266.66455078125, 260.44268798828125, 248.73890686035156, 293.7257385253906, 261.8179931640625], \"loglift\": [30.0, 29.0, 28.0, 27.0, 26.0, 25.0, 24.0, 23.0, 22.0, 21.0, 20.0, 19.0, 18.0, 17.0, 16.0, 15.0, 14.0, 13.0, 12.0, 11.0, 10.0, 9.0, 8.0, 7.0, 6.0, 5.0, 4.0, 3.0, 2.0, 1.0, 0.7721999883651733, 0.7425000071525574, 0.73580002784729, 0.7357000112533569, 0.7281000018119812, 0.7279999852180481, 0.7218999862670898, 0.7214999794960022, 0.71670001745224, 0.7098000049591064, 0.7039999961853027, 0.6966999769210815, 0.6890000104904175, 0.6883999705314636, 0.6865000128746033, 0.6800000071525574, 0.6680999994277954, 0.6643000245094299, 0.6603000164031982, 0.6588000059127808, 0.6565999984741211, 0.654699981212616, 0.6532999873161316, 0.6492999792098999, 0.6489999890327454, 0.647599995136261, 0.6460000276565552, 0.6419000029563904, 0.6399000287055969, 0.6327000260353088, 0.6288999915122986, 0.6244999766349792, 0.6222000122070312, 0.5863000154495239, 0.5989999771118164, 0.5870000123977661, 0.5856999754905701, 0.5569000244140625, 0.5830000042915344, 0.5486000180244446, 0.5860999822616577, 0.5235999822616577, 0.5350000262260437, 0.532800018787384, 0.5756000280380249, 0.5544000267982483, 0.5759000182151794, 0.5745000243186951, 0.60589998960495, 0.49079999327659607, 0.4404999911785126, 0.4805999994277954, 0.4690999984741211, 0.328000009059906, 0.4767000079154968, 0.3531000018119812, 0.49959999322891235, 0.5234000086784363, 0.36010000109672546, 0.41690000891685486, 0.326200008392334, 0.313400000333786, 0.26409998536109924, 0.3517000079154968, 0.20759999752044678, 0.26249998807907104, 0.29409998655319214, 0.412200003862381, 0.290800005197525, 0.08089999854564667, 0.24740000069141388, 0.10189999639987946, 0.19769999384880066, 0.26089999079704285, 0.16519999504089355, -0.05429999902844429, 0.060600001364946365, 0.07249999791383743, 0.09380000084638596, 0.16380000114440918, 0.004800000227987766, -0.11580000072717667, 0.00860000029206276, -0.32030001282691956, -0.08190000057220459, 0.05920000001788139, -0.13740000128746033, -0.1736000031232834, -0.06560000032186508, -0.23250000178813934, -0.2587999999523163, -0.0843999981880188, -0.05990000069141388, -0.07609999924898148, -0.25380000472068787, -0.40070000290870667, -0.3449999988079071, -0.2896000146865845, -0.3594000041484833, -0.5016000270843506, -0.27889999747276306, -0.40380001068115234, -0.11819999665021896, -0.23680000007152557, -0.22050000727176666, -0.25060001015663147, -0.6844000220298767, -0.4569999873638153, -0.30250000953674316, -0.3619999885559082, -0.5292999744415283, -0.4810999929904938, 0.8288999795913696, 0.8173999786376953, 0.8151999711990356, 0.8077999949455261, 0.7980999946594238, 0.7879999876022339, 0.7706000208854675, 0.7634000182151794, 0.7590000033378601, 0.7577000260353088, 0.7563999891281128, 0.7494999766349792, 0.7386000156402588, 0.7239000201225281, 0.7077000141143799, 0.696399986743927, 0.6941999793052673, 0.6906999945640564, 0.6868000030517578, 0.6865000128746033, 0.6761000156402588, 0.6732000112533569, 0.6682999730110168, 0.6510999798774719, 0.6455000042915344, 0.6448000073432922, 0.6437000036239624, 0.6435999870300293, 0.6417999863624573, 0.6348999738693237, 0.6211000084877014, 0.6197999715805054, 0.616599977016449, 0.6219000220298767, 0.5841000080108643, 0.6226999759674072, 0.5625, 0.5368000268936157, 0.5551000237464905, 0.5612000226974487, 0.6025000214576721, 0.48019999265670776, 0.5131000280380249, 0.4893999993801117, 0.5072000026702881, 0.45190000534057617, 0.4512999951839447, 0.44510000944137573, 0.428600013256073, 0.3474999964237213, 0.4458000063896179, 0.33320000767707825, 0.41609999537467957, 0.2685000002384186, 0.34850001335144043, 0.24789999425411224, 0.37439998984336853, 0.4059000015258789, 0.2833999991416931, 0.18709999322891235, 0.2825999855995178, 0.2160000056028366, 0.27649998664855957, 0.22190000116825104, 0.17489999532699585, 0.1882999986410141, 0.20399999618530273, 0.19200000166893005, 0.10719999670982361, 0.2524000108242035, 0.15569999814033508, 0.19689999520778656, 0.05790000036358833, 0.015799999237060547, 0.21850000321865082, 0.09040000289678574, 0.09560000151395798, 0.0649000033736229, 0.16609999537467957, 0.05559999868273735, 0.15809999406337738, 0.18209999799728394, 0.05299999937415123, 0.09679999947547913, 0.051899999380111694, 1.2458000183105469, 1.2237000465393066, 1.2165000438690186, 1.0321999788284302, 1.0144000053405762, 1.0126999616622925, 1.0080000162124634, 0.9708999991416931, 0.9703999757766724, 0.9696999788284302, 0.9161999821662903, 0.9114000201225281, 0.9103000164031982, 0.9070000052452087, 0.9065999984741211, 0.8902999758720398, 0.8863000273704529, 0.8834999799728394, 0.8804000020027161, 0.8761000037193298, 0.8725000023841858, 0.868399977684021, 0.868399977684021, 0.8615000247955322, 0.8549000024795532, 0.842199981212616, 0.8413000106811523, 0.8373000025749207, 0.8353000283241272, 0.8199999928474426, 0.8118000030517578, 0.7491999864578247, 0.7821999788284302, 0.7235000133514404, 0.8066999912261963, 0.618399977684021, 0.6262999773025513, 0.6273000240325928, 0.5932000279426575, 0.59579998254776, 0.6244999766349792, 0.5809000134468079, 0.6208999752998352, 0.5848000049591064, 0.5557000041007996, 0.5666999816894531, 0.5175999999046326, 0.5672000050544739, 0.5442000031471252, 0.5755000114440918, 0.5622000098228455, 0.6782000064849854, 0.5644000172615051, 0.5303000211715698, 0.4472000002861023, 0.4731999933719635, 0.5526000261306763, 0.46720001101493835, 0.4487000107765198, 0.4020000100135803, 0.48350000381469727, 0.44429999589920044, 0.37540000677108765, 0.40869998931884766, 0.41679999232292175, 0.38359999656677246, 0.40880000591278076, 0.3292999863624573, 0.3393999934196472, 0.3982999920845032, 1.6430000066757202, 1.5426000356674194, 1.3976999521255493, 1.2971999645233154, 1.2458000183105469, 1.2381999492645264, 1.2299000024795532, 1.1892000436782837, 1.1603000164031982, 1.146399974822998, 1.1196000576019287, 1.0973999500274658, 1.0950000286102295, 1.0896999835968018, 1.0887000560760498, 1.0882999897003174, 1.0694999694824219, 1.0631999969482422, 1.0515999794006348, 1.0383000373840332, 1.0319000482559204, 1.0267000198364258, 1.0175000429153442, 1.014799952507019, 1.010699987411499, 1.003499984741211, 1.0008000135421753, 0.9970999956130981, 0.9954000115394592, 0.9858999848365784, 0.9361000061035156, 0.935699999332428, 0.9462000131607056, 0.9176999926567078, 0.8766000270843506, 0.8363000154495239, 0.499099999666214, 0.7017999887466431, 0.41040000319480896, 0.5699999928474426, 0.5679000020027161, 0.5932000279426575, 0.645799994468689, 0.4171999990940094, 0.3400999903678894, 0.30390000343322754, 0.4569000005722046, 0.33550000190734863, 0.4316999912261963, 0.5358999967575073, 0.298799991607666, 0.4115999937057495, 0.21960000693798065, 0.22869999706745148, 0.1728000044822693, 0.23340000212192535, 0.4733999967575073, 0.20980000495910645, 0.2644999921321869, 0.32350000739097595, 0.21060000360012054, 0.18639999628067017, 0.3237999975681305, 0.16220000386238098, 0.07349999994039536, 0.15109999477863312, 0.11060000211000443, 0.12150000035762787, 0.28369998931884766, 0.13339999318122864, 0.164900004863739, -0.06970000267028809, -0.09099999815225601, 0.03530000150203705, -0.1673000007867813, 0.11180000007152557, -0.00989999994635582, 0.06769999861717224, -0.09570000320672989, 0.022099999710917473, -0.29100000858306885, 1.6104999780654907, 1.5920000076293945, 1.4469000101089478, 1.3690999746322632, 1.3451999425888062, 1.2580000162124634, 1.2036999464035034, 1.1865999698638916, 1.1607999801635742, 1.1397000551223755, 1.1303000450134277, 1.110200047492981, 1.0947999954223633, 1.0759999752044678, 1.070099949836731, 1.070099949836731, 1.062999963760376, 1.059000015258789, 1.045300006866455, 1.0418000221252441, 1.0393999814987183, 1.0353000164031982, 1.0293999910354614, 1.000100016593933, 0.9972000122070312, 0.9886999726295471, 0.9864000082015991, 0.9771000146865845, 0.973800003528595, 0.968999981880188, 0.965499997138977, 0.8866999745368958, 0.8079000115394592, 0.8256999850273132, 0.7290999889373779, 0.8801000118255615, 0.6992999911308289, 0.8393999934196472, 0.6244999766349792, 0.5228000283241272, 0.8055999875068665, 0.5511000156402588, 0.3953999876976013, 0.6298999786376953, 0.6029000282287598, 0.43700000643730164, 0.4000000059604645, 0.5598999857902527, 0.6779000163078308, 0.3824999928474426, 0.3882000148296356, 0.30379998683929443, 0.320499986410141, 0.4323999881744385, 0.4562000036239624, 0.3959999978542328, 0.29420000314712524, 0.29249998927116394, 0.49639999866485596, 0.4578999876976013, 0.30640000104904175, 0.3840999901294708, 0.3312000036239624, 0.30720001459121704, 0.3977999985218048, 0.4011000096797943, 0.2736000120639801, 0.15000000596046448, 0.3278999924659729, 0.21570000052452087, 0.28790000081062317, 0.27219998836517334, 0.28529998660087585, 0.21699999272823334, 0.2159000039100647, 0.24300000071525574, 0.11140000075101852, 0.17990000545978546], \"logprob\": [30.0, 29.0, 28.0, 27.0, 26.0, 25.0, 24.0, 23.0, 22.0, 21.0, 20.0, 19.0, 18.0, 17.0, 16.0, 15.0, 14.0, 13.0, 12.0, 11.0, 10.0, 9.0, 8.0, 7.0, 6.0, 5.0, 4.0, 3.0, 2.0, 1.0, -8.298299789428711, -8.505399703979492, -8.512900352478027, -8.577199935913086, -8.236499786376953, -8.348899841308594, -8.624899864196777, -8.42609977722168, -8.376299858093262, -8.65410041809082, -8.633999824523926, -8.621000289916992, -8.636199951171875, -8.266400337219238, -7.893199920654297, -8.577300071716309, -8.610799789428711, -8.65719985961914, -8.491399765014648, -8.716300010681152, -8.728099822998047, -8.630599975585938, -8.618800163269043, -8.42199993133545, -8.468700408935547, -8.705100059509277, -8.273699760437012, -8.632499694824219, -8.350000381469727, -8.188699722290039, -7.807600021362305, -7.873199939727783, -8.07390022277832, -7.513899803161621, -7.826300144195557, -7.68149995803833, -7.6682000160217285, -7.343900203704834, -7.696000099182129, -7.30709981918335, -7.801400184631348, -7.284999847412109, -7.395500183105469, -7.412399768829346, -7.735400199890137, -7.613399982452393, -7.7606000900268555, -7.8125, -8.01669979095459, -7.401000022888184, -7.160799980163574, -7.3867998123168945, -7.336100101470947, -6.753200054168701, -7.410200119018555, -6.9197001457214355, -7.51230001449585, -7.622399806976318, -7.053999900817871, -7.270699977874756, -6.969900131225586, -6.957300186157227, -6.837699890136719, -7.10260009765625, -6.701900005340576, -6.884300231933594, -7.052999973297119, -7.367000102996826, -7.097799777984619, -6.65880012512207, -7.012400150299072, -6.719900131225586, -6.921299934387207, -7.059700012207031, -6.887400150299072, -6.51230001449585, -6.717299938201904, -6.745999813079834, -6.831699848175049, -6.932700157165527, -6.734799861907959, -6.589399814605713, -6.752900123596191, -6.361400127410889, -6.655399799346924, -6.825799942016602, -6.605800151824951, -6.575099945068359, -6.690800189971924, -6.546299934387207, -6.528800010681152, -6.695799827575684, -6.71999979019165, -6.719699859619141, -6.585400104522705, -6.474800109863281, -6.546500205993652, -6.591300010681152, -6.5543999671936035, -6.48360013961792, -6.618500232696533, -6.577199935913086, -6.712500095367432, -6.666200160980225, -6.697299957275391, -6.702700138092041, -6.6539998054504395, -6.68179988861084, -6.702000141143799, -6.701099872589111, -6.701600074768066, -6.711299896240234, -8.549500465393066, -7.782599925994873, -8.643699645996094, -8.247699737548828, -8.431300163269043, -8.117199897766113, -7.7027997970581055, -8.467000007629395, -8.074799537658691, -8.696399688720703, -8.329299926757812, -7.93310022354126, -8.390800476074219, -8.321700096130371, -8.601099967956543, -8.646699905395508, -8.567399978637695, -8.112899780273438, -7.736700057983398, -7.56879997253418, -8.687399864196777, -7.281099796295166, -8.490799903869629, -8.080300331115723, -8.106200218200684, -8.337400436401367, -7.901500225067139, -8.563199996948242, -7.186500072479248, -8.704099655151367, -6.474599838256836, -6.452600002288818, -6.984099864959717, -7.4156999588012695, -6.620699882507324, -7.4842000007629395, -6.359399795532227, -6.0665998458862305, -6.503300189971924, -6.903600215911865, -7.392199993133545, -6.3968000411987305, -6.794400215148926, -6.637199878692627, -6.812399864196777, -6.482600212097168, -6.527200222015381, -6.544400215148926, -6.469099998474121, -6.106200218200684, -6.618199825286865, -6.095799922943115, -6.495500087738037, -5.864500045776367, -6.2164998054504395, -5.854499816894531, -6.365600109100342, -6.522799968719482, -6.122000217437744, -5.78249979019165, -6.159599781036377, -6.076399803161621, -6.235000133514404, -6.09630012512207, -5.997499942779541, -6.041900157928467, -6.121500015258789, -6.1016998291015625, -5.933899879455566, -6.274700164794922, -6.132599830627441, -6.197199821472168, -6.01609992980957, -5.966100215911865, -6.23360013961792, -6.111100196838379, -6.1265997886657715, -6.108399868011475, -6.203800201416016, -6.139400005340576, -6.210400104522705, -6.225900173187256, -6.171800136566162, -6.20419979095459, -6.218100070953369, -7.719699859619141, -7.288400173187256, -7.506100177764893, -8.343199729919434, -8.589200019836426, -8.379599571228027, -7.481900215148926, -8.290399551391602, -8.057499885559082, -8.598799705505371, -8.036199569702148, -7.93179988861084, -8.436400413513184, -8.017200469970703, -7.325399875640869, -8.624199867248535, -8.591400146484375, -8.703800201416016, -8.408699989318848, -8.434100151062012, -7.740699768066406, -8.427300453186035, -8.624500274658203, -8.291199684143066, -7.039000034332275, -8.607199668884277, -8.756600379943848, -8.50790023803711, -8.588399887084961, -8.699199676513672, -7.362100124359131, -5.232800006866455, -7.023600101470947, -6.658400058746338, -8.007599830627441, -5.576600074768066, -5.6992998123168945, -5.7118000984191895, -5.376299858093262, -5.577499866485596, -5.942399978637695, -5.641300201416016, -6.02269983291626, -5.754700183868408, -5.577300071716309, -5.72160005569458, -5.58489990234375, -5.9096999168396, -5.795400142669678, -6.123600006103516, -6.054800033569336, -6.678699970245361, -6.14300012588501, -5.9903998374938965, -5.6269001960754395, -5.756999969482422, -6.140699863433838, -5.833799839019775, -5.776100158691406, -5.639200210571289, -5.918000221252441, -5.86959981918335, -5.796999931335449, -5.89300012588501, -5.951700210571289, -5.909999847412109, -5.960999965667725, -5.872200012207031, -5.930600166320801, -5.971499919891357, -7.993500232696533, -8.176199913024902, -7.995299816131592, -8.335599899291992, -7.617800235748291, -8.23960018157959, -8.303099632263184, -8.357600212097168, -8.419099807739258, -8.301799774169922, -8.493499755859375, -8.467100143432617, -8.203499794006348, -8.40820026397705, -8.40310001373291, -8.116399765014648, -7.920100212097168, -8.489100456237793, -7.4710001945495605, -8.038299560546875, -7.816299915313721, -7.86359977722168, -8.393699645996094, -8.514200210571289, -8.402099609375, -8.594400405883789, -8.416399955749512, -8.320699691772461, -8.591899871826172, -8.237199783325195, -7.35290002822876, -7.48960018157959, -7.781899929046631, -7.578999996185303, -7.319900035858154, -7.280799865722656, -5.79449987411499, -6.913400173187256, -5.881999969482422, -6.516900062561035, -6.532700061798096, -6.672399997711182, -6.920000076293945, -6.19980001449585, -5.978099822998047, -5.920899868011475, -6.472899913787842, -6.191999912261963, -6.457200050354004, -6.741199970245361, -6.22189998626709, -6.473400115966797, -6.094299793243408, -6.14109992980957, -6.02869987487793, -6.166100025177002, -6.662899971008301, -6.129799842834473, -6.262599945068359, -6.387199878692627, -6.218800067901611, -6.218999862670898, -6.426400184631348, -6.207699775695801, -6.098800182342529, -6.217299938201904, -6.190400123596191, -6.210100173950195, -6.419400215148926, -6.258399963378906, -6.308700084686279, -6.143700122833252, -6.1321001052856445, -6.2347002029418945, -6.136899948120117, -6.28980016708374, -6.2322001457214355, -6.271399974822998, -6.1981000900268555, -6.279600143432617, -6.272900104522705, -8.00979995727539, -8.077400207519531, -7.818999767303467, -8.113900184631348, -8.281900405883789, -7.873300075531006, -8.103099822998047, -7.138599872589111, -8.244799613952637, -8.224599838256836, -8.153599739074707, -8.065899848937988, -8.01710033416748, -8.278499603271484, -8.178999900817871, -8.125399589538574, -7.75600004196167, -7.884500026702881, -8.554699897766113, -7.734000205993652, -8.546799659729004, -8.560199737548828, -7.937300205230713, -7.895899772644043, -8.510700225830078, -8.37279987335205, -8.18019962310791, -7.907199859619141, -6.682199954986572, -8.15839958190918, -7.731299877166748, -6.893499851226807, -6.620999813079834, -6.948299884796143, -6.249300003051758, -7.356800079345703, -6.072199821472168, -7.110300064086914, -5.960599899291992, -5.551199913024902, -6.9532999992370605, -6.101500034332275, -5.57420015335083, -6.4969000816345215, -6.402200222015381, -5.855400085449219, -5.77239990234375, -6.32889986038208, -6.726399898529053, -5.847700119018555, -5.912799835205078, -5.678100109100342, -5.7820000648498535, -6.095099925994873, -6.180500030517578, -6.103799819946289, -5.927999973297119, -5.932300090789795, -6.349800109863281, -6.285900115966797, -6.01170015335083, -6.154600143432617, -6.062900066375732, -6.031899929046631, -6.184599876403809, -6.201700210571289, -6.02810001373291, -5.89109992980957, -6.1143999099731445, -5.9857001304626465, -6.081999778747559, -6.067299842834473, -6.084499835968018, -6.053100109100342, -6.077700138092041, -6.09660005569458, -6.0619001388549805, -6.108399868011475]}, \"token.table\": {\"Topic\": [1, 2, 4, 1, 2, 3, 4, 5, 1, 2, 3, 4, 5, 1, 2, 3, 4, 5, 1, 2, 3, 4, 5, 1, 2, 3, 4, 5, 1, 2, 3, 4, 5, 1, 2, 3, 4, 5, 1, 2, 3, 4, 5, 1, 2, 3, 4, 5, 1, 2, 3, 4, 5, 1, 2, 3, 4, 5, 1, 2, 3, 4, 5, 1, 2, 3, 4, 5, 1, 2, 3, 4, 5, 1, 2, 3, 4, 5, 1, 2, 3, 4, 5, 1, 2, 3, 4, 5, 1, 2, 3, 5, 1, 2, 3, 4, 5, 1, 2, 3, 4, 5, 1, 2, 3, 4, 1, 2, 3, 4, 5, 1, 2, 3, 4, 5, 1, 2, 3, 4, 5, 1, 2, 3, 4, 5, 1, 2, 3, 4, 5, 1, 2, 3, 4, 5, 1, 2, 3, 4, 1, 2, 3, 4, 5, 1, 2, 3, 5, 1, 2, 3, 4, 5, 1, 2, 3, 4, 1, 2, 3, 4, 5, 1, 2, 4, 1, 2, 3, 4, 1, 2, 3, 4, 5, 1, 2, 3, 4, 5, 1, 2, 3, 4, 5, 1, 2, 3, 4, 5, 1, 2, 3, 4, 5, 1, 2, 3, 4, 1, 2, 3, 4, 5, 1, 2, 3, 4, 5, 1, 2, 3, 4, 1, 2, 3, 1, 2, 3, 4, 5, 1, 2, 3, 4, 5, 1, 2, 3, 4, 5, 1, 2, 3, 4, 5, 1, 2, 3, 4, 5, 1, 2, 3, 5, 1, 2, 3, 4, 5, 1, 2, 3, 4, 5, 1, 2, 3, 4, 5, 1, 2, 3, 4, 5, 1, 2, 3, 4, 5, 1, 2, 3, 4, 5, 1, 2, 3, 4, 5, 1, 2, 3, 4, 5, 1, 2, 3, 4, 5, 1, 2, 3, 4, 1, 2, 3, 4, 5, 1, 2, 3, 4, 5, 1, 2, 3, 4, 5, 1, 2, 3, 4, 5, 1, 2, 3, 4, 5, 1, 2, 3, 4, 5, 1, 2, 3, 4, 1, 2, 3, 4, 5, 1, 2, 3, 5, 1, 2, 3, 4, 5, 1, 2, 3, 4, 5, 1, 2, 3, 4, 5, 1, 2, 3, 4, 5, 1, 2, 3, 4, 5, 1, 2, 1, 2, 3, 4, 1, 2, 3, 4, 5, 1, 2, 3, 4, 5, 1, 2, 3, 4, 5, 1, 2, 3, 4, 5, 1, 2, 3, 4, 5, 1, 2, 3, 4, 5, 1, 2, 3, 4, 5, 1, 2, 3, 1, 2, 3, 4, 5, 1, 2, 3, 4, 5, 1, 2, 3, 4, 1, 2, 3, 4, 5, 1, 2, 3, 4, 5, 1, 2, 3, 4, 5, 1, 2, 3, 4, 5, 1, 2, 3, 4, 5, 1, 2, 3, 4, 5, 1, 2, 3, 4, 5, 1, 2, 3, 4, 5, 1, 2, 3, 4, 1, 2, 3, 4, 5, 1, 2, 3, 4, 5, 1, 2, 3, 4, 5, 1, 2, 3, 4, 1, 2, 3, 4, 5, 1, 2, 3, 4, 5, 1, 2, 3, 4, 5, 1, 2, 3, 4, 5, 1, 2, 3, 4, 1, 2, 3, 4, 5, 1, 2, 3, 4, 5, 1, 2, 3, 4, 5, 1, 2, 3, 4, 5, 1, 2, 3, 4, 5, 1, 2, 3, 4, 1, 2, 3, 4, 5, 1, 2, 3, 4, 5, 1, 2, 3, 4, 5, 1, 2, 3, 4, 5, 1, 2, 3, 4, 5, 1, 2, 3, 4, 5, 1, 2, 3, 4, 5, 1, 2, 3, 4, 5, 1, 2, 3, 4, 5, 1, 2, 3, 1, 2, 3, 4, 1, 2, 3, 4, 5, 1, 2, 3, 4, 5, 1, 2, 3, 4, 1, 2, 3, 4, 5, 1, 2, 3, 4, 5, 1, 2, 3, 4, 1, 2, 3, 4, 1, 2, 3, 4, 5, 1, 2, 3, 4, 5, 1, 2, 3, 4, 5, 1, 2, 3, 4, 5, 1, 2, 3, 5, 1, 2, 3, 4, 5, 1, 2, 3, 4, 5, 1, 2, 3, 4, 5, 1, 2, 3, 4, 5, 1, 2, 3, 4, 5, 1, 2, 3, 4, 5, 1, 2, 3, 4, 5, 1, 2, 3, 4, 5, 1, 2, 3, 4, 5, 1, 2, 3, 4, 5, 1, 2, 3, 4, 5, 1, 2, 3, 4, 1, 2, 3, 4, 5, 1, 2, 3, 4, 5, 1, 2, 3, 4, 5, 1, 2, 3, 4, 5, 1, 2, 3, 4, 5, 1, 2, 3, 4, 1, 2, 3, 4, 5, 1, 2, 3, 4, 5, 1, 2, 4, 1, 2, 3, 4, 5, 1, 2, 3, 4, 5, 1, 2, 3, 4, 5, 1, 2, 3, 4, 5, 1, 2, 3, 4, 5, 1, 2, 3, 4, 5, 1, 2, 3, 4, 5, 1, 2, 3, 4, 5, 1, 2, 3, 4, 5, 1, 2, 3, 4, 5, 1, 2, 3, 4, 5, 1, 2, 3, 4, 5, 1, 2, 3, 4, 5, 1, 2, 3, 4, 5, 1, 2, 3, 4, 1, 2, 3, 1, 2, 3, 4, 5, 1, 2, 3, 4, 5, 1, 2, 3, 4, 5, 1, 2, 3, 4, 5, 1, 2, 3, 4, 5, 1, 2, 3, 4, 1, 2, 3, 4, 1, 2, 3, 4, 5, 1, 2, 3, 4, 1, 2, 3, 4, 5, 1, 2, 3, 4, 5, 1, 2, 3, 4, 5, 1, 2, 3, 4, 5, 1, 2, 4, 1, 2, 3, 4, 5, 1, 2, 3, 4, 5, 1, 2, 3, 4, 5, 1, 2, 3, 4, 5, 1, 2, 3, 4, 5, 1, 2, 3, 4, 5, 1, 2, 3, 4, 1, 2, 3, 4, 5, 1, 2, 3, 4, 5, 1, 2, 3, 4, 5, 1, 2, 3, 4, 5, 1, 2, 3, 5, 1, 2, 3, 4, 1, 2, 3, 4, 5, 1, 2, 3, 4, 5, 1, 2, 3, 4, 5, 1, 2, 3, 4, 5, 1, 2, 3, 4, 5, 1, 2, 3, 4, 5, 1, 2, 3, 4, 5, 1, 2, 3, 4, 5, 1, 2, 3, 4, 5, 1, 2, 3, 4, 5, 1, 2, 3, 1, 2, 3, 4, 5, 1, 2, 3, 4, 5, 1, 2, 3, 4, 5, 1, 2, 3, 4, 5, 1, 2, 3, 4, 1, 2, 3, 4, 5, 1, 2, 3, 4, 5, 1, 2, 3, 4, 5, 1, 2, 3, 4, 5, 1, 2, 3, 4, 1, 2, 3, 4, 5, 1, 2, 3, 4, 5, 1, 2, 3, 1, 2, 3, 4, 5, 1, 2, 3, 4, 5, 1, 2, 3, 4, 5, 1, 2, 3, 4, 1, 2, 3, 4, 5, 1, 2, 3, 4, 5, 1, 2, 3, 4, 5, 1, 2, 3, 5, 1, 2, 3, 5, 1, 2, 3, 4, 5, 1, 2, 3, 5, 1, 2, 3, 4, 5, 1, 2, 3, 4, 5, 1, 2, 3, 4, 1, 2, 3, 4, 5, 1, 2, 3, 4, 5, 1, 2, 3, 4, 1, 2, 3, 4, 5, 1, 2, 3, 4, 5, 1, 2, 3, 4, 5, 1, 2, 3, 4, 1, 2, 3, 4, 5, 1, 2, 3, 4, 5, 1, 2, 3, 4, 5, 1, 2, 3, 4, 5, 1, 2, 3, 5, 1, 2, 3, 4, 5, 1, 2, 3, 4, 5, 1, 2, 3, 4, 5, 1, 2, 3, 4, 5, 1, 2, 3, 4, 5, 1, 2, 3, 4, 5, 1, 2, 3, 4, 1, 2, 3, 4, 5, 1, 2, 3, 4, 1, 2, 3, 4, 5, 1, 2, 3, 4, 5, 1, 2, 3, 4, 1, 2, 3, 4, 5, 1, 2, 3, 4, 5, 1, 2, 3, 4, 5, 1, 2, 3, 5, 1, 2, 3, 4, 5, 1, 2, 3, 4, 5, 1, 2, 3, 4, 5, 1, 2, 3, 4, 5, 1, 2, 3, 4, 1, 2, 3, 4, 5, 1, 2, 3, 4, 5, 1, 2, 3, 4, 5, 1, 2, 3, 4, 5, 1, 2, 3, 4, 5, 1, 2, 3, 4, 1, 2, 3, 4, 1, 2, 3, 4, 5, 1, 2, 3, 4, 5, 1, 2, 3, 4, 5, 1, 2, 3, 4, 5, 1, 2, 3, 4, 5, 1, 2, 3, 4, 5, 1, 2, 3, 4, 5, 1, 2, 3, 4, 5, 1, 2, 3, 4, 5, 1, 2, 3, 4, 5, 1, 2, 3, 4, 5, 1, 2, 3, 4, 5, 1, 2, 3, 4, 5, 1, 2, 3, 4, 5, 1, 2, 3, 1, 2, 3, 4, 5, 1, 2, 3, 4, 5, 1, 2, 3, 4, 5, 1, 2, 3, 4, 5, 1, 2, 3, 4, 5, 1, 2, 3, 4, 5, 1, 2, 3, 4, 5, 1, 2, 3, 4, 5, 1, 2, 3, 4, 1, 2, 3, 4, 5, 1, 2, 3, 4, 5, 1, 2, 3, 4, 1, 2, 3, 4, 1, 2, 3, 4, 5, 1, 2, 3, 4, 5, 1, 2, 3, 4, 5, 1, 2, 3, 4, 5, 1, 2, 3, 4, 5, 1, 2, 3, 4, 5, 1, 2, 3, 4, 5, 1, 2, 3, 4, 5, 1, 2, 3, 4, 5, 1, 2, 3, 4, 5, 1, 2, 3, 4, 5, 1, 2, 3, 4, 5, 1, 2, 3, 4, 5, 1, 2, 3, 4, 5, 1, 2, 3, 4, 5, 1, 2, 3, 4, 5, 1, 2, 3, 4, 5, 1, 2, 3, 4, 5, 1, 2, 3, 4, 5, 1, 2, 3, 4, 5, 1, 2, 3, 4, 5], \"Freq\": [0.7436962127685547, 0.14873923361301422, 0.07436961680650711, 0.6266758441925049, 0.19148428738117218, 0.0870383158326149, 0.06963065266609192, 0.01740766316652298, 0.2903009057044983, 0.3522317409515381, 0.2012752890586853, 0.0851549282670021, 0.07354289293289185, 0.36710914969444275, 0.28239163756370544, 0.11295665800571442, 0.19767415523529053, 0.028239164501428604, 0.376223623752594, 0.250815749168396, 0.2736171782016754, 0.06840429455041885, 0.03420214727520943, 0.5514153242111206, 0.09190255403518677, 0.18380510807037354, 0.045951277017593384, 0.13785383105278015, 0.2553544342517853, 0.17023628950119019, 0.34047257900238037, 0.08511814475059509, 0.08511814475059509, 0.36066868901252747, 0.20609639585018158, 0.10304819792509079, 0.20609639585018158, 0.051524098962545395, 0.4297562539577484, 0.3451072871685028, 0.12371771037578583, 0.07813750207424164, 0.02604583464562893, 0.23299859464168549, 0.4747895896434784, 0.16705560684204102, 0.05275439843535423, 0.07033920288085938, 0.309216171503067, 0.3378472924232483, 0.22904901206493378, 0.06298847496509552, 0.057262253016233444, 0.5777742266654968, 0.16507834196090698, 0.08253917098045349, 0.08253917098045349, 0.16507834196090698, 0.16004452109336853, 0.34676313400268555, 0.32008904218673706, 0.08002226054668427, 0.053348176181316376, 0.2903732359409332, 0.31360307335853577, 0.2322985827922821, 0.10453435778617859, 0.058074645698070526, 0.6916871070861816, 0.13833743333816528, 0.08300245553255081, 0.055334970355033875, 0.027667485177516937, 0.19765964150428772, 0.6369032859802246, 0.0878487303853035, 0.04392436519265175, 0.04392436519265175, 0.18115612864494324, 0.5144834518432617, 0.14492490887641907, 0.09420119225978851, 0.06521620601415634, 0.30666384100914, 0.2628547251224518, 0.21904559433460236, 0.21904559433460236, 0.04380911961197853, 0.20304876565933228, 0.3045731484889984, 0.3045731484889984, 0.10152438282966614, 0.3637293577194214, 0.34768247604370117, 0.139072984457016, 0.08558337390422821, 0.069536492228508, 0.5927939414978027, 0.049399495124816895, 0.049399495124816895, 0.24699747562408447, 0.049399495124816895, 0.8109937310218811, 0.07372670620679855, 0.07372670620679855, 0.07372670620679855, 0.35555389523506165, 0.31999850273132324, 0.17777694761753082, 0.08126946538686752, 0.06095209717750549, 0.24584640562534332, 0.5197895169258118, 0.09833855926990509, 0.07024183124303818, 0.0632176473736763, 0.22325904667377472, 0.4508115351200104, 0.15885739028453827, 0.09874919056892395, 0.06440164893865585, 0.5174679160118103, 0.15413936972618103, 0.18716923892498016, 0.06605973094701767, 0.06605973094701767, 0.7096133232116699, 0.11826889216899872, 0.07884592562913895, 0.03942296281456947, 0.03942296281456947, 0.6774413585662842, 0.09154612571001053, 0.10985535383224487, 0.054927676916122437, 0.054927676916122437, 0.7564980387687683, 0.07564980536699295, 0.07564980536699295, 0.07564980536699295, 0.07186485081911087, 0.574918806552887, 0.07186485081911087, 0.21559454500675201, 0.07186485081911087, 0.30998295545578003, 0.20665529370307922, 0.30998295545578003, 0.20665529370307922, 0.23597198724746704, 0.11798599362373352, 0.11798599362373352, 0.35395798087120056, 0.11798599362373352, 0.4044395685195923, 0.20221978425979614, 0.10110989212989807, 0.20221978425979614, 0.07708405703306198, 0.7708405256271362, 0.03854202851653099, 0.03854202851653099, 0.03854202851653099, 0.48795273900032043, 0.19518110156059265, 0.19518110156059265, 0.7769804000854492, 0.055498600006103516, 0.055498600006103516, 0.055498600006103516, 0.18814119696617126, 0.4108389616012573, 0.19582043588161469, 0.1343865692615509, 0.06911309063434601, 0.1857820749282837, 0.5945026278495789, 0.09908377379179001, 0.06192735582590103, 0.06192735582590103, 0.16382135450839996, 0.6825889348983765, 0.027303557842969894, 0.08191067725419998, 0.05460711568593979, 0.35875752568244934, 0.40096428990364075, 0.13717199862003326, 0.0633101537823677, 0.042206767946481705, 0.4112691879272461, 0.3489556610584259, 0.13708972930908203, 0.04985081031918526, 0.056082163006067276, 0.18001392483711243, 0.45003482699394226, 0.09000696241855621, 0.27002090215682983, 0.23423364758491516, 0.4684672951698303, 0.05855841189622879, 0.029279205948114395, 0.17567524313926697, 0.3103942573070526, 0.18623656034469604, 0.18623656034469604, 0.24831540882587433, 0.06207885220646858, 0.7648720741271973, 0.07648720592260361, 0.07648720592260361, 0.07648720592260361, 0.7214048504829407, 0.19237463176250458, 0.048093657940626144, 0.29913330078125, 0.3669368624687195, 0.17150309681892395, 0.09173421561717987, 0.06381510943174362, 0.7360945343971252, 0.06691768765449524, 0.06691768765449524, 0.06691768765449524, 0.06691768765449524, 0.22085098922252655, 0.5330885648727417, 0.06853996217250824, 0.060924410820007324, 0.11423327028751373, 0.7530160546302795, 0.08366844803094864, 0.08366844803094864, 0.08366844803094864, 0.08366844803094864, 0.5881014466285706, 0.20119260251522064, 0.108334481716156, 0.06190541759133339, 0.04642906412482262, 0.4799864888191223, 0.06856949627399445, 0.20570848882198334, 0.1371389925479889, 0.5039851069450378, 0.3109695315361023, 0.06433852761983871, 0.0750616118311882, 0.05361543968319893, 0.2668176293373108, 0.3638421893119812, 0.1697930246591568, 0.11642950773239136, 0.08732213079929352, 0.35146552324295044, 0.19525863230228424, 0.3124138116836548, 0.11715517938137054, 0.03905172646045685, 0.2815673053264618, 0.4145296514034271, 0.11731971055269241, 0.08603445440530777, 0.10167708247900009, 0.6608037948608398, 0.18021921813488007, 0.06007307395339012, 0.06007307395339012, 0.06007307395339012, 0.22813543677330017, 0.3501613736152649, 0.23344090580940247, 0.12733140587806702, 0.06366570293903351, 0.3653559684753418, 0.30446329712867737, 0.12178532034158707, 0.15223164856433868, 0.06089266017079353, 0.30837956070899963, 0.30837956070899963, 0.22646623849868774, 0.11082390695810318, 0.043365877121686935, 0.35116642713546753, 0.30099979043006897, 0.05016662925481796, 0.30099979043006897, 0.05016662925481796, 0.2617819905281067, 0.4363033175468445, 0.0872606635093689, 0.2617819905281067, 0.3229426443576813, 0.312850683927536, 0.247252956032753, 0.06559772044420242, 0.04541380703449249, 0.26512250304222107, 0.3895677626132965, 0.17855189740657806, 0.08115994930267334, 0.0865706130862236, 0.25248029828071594, 0.6312007308006287, 0.06312007457017899, 0.021040024235844612, 0.042080048471689224, 0.16392546892166138, 0.32785093784332275, 0.08196273446083069, 0.16392546892166138, 0.16392546892166138, 0.3495827913284302, 0.20974966883659363, 0.13983310759067535, 0.13983310759067535, 0.13983310759067535, 0.3289562463760376, 0.1644781231880188, 0.3289562463760376, 0.109652079641819, 0.0548260398209095, 0.739948034286499, 0.11383815854787827, 0.05691907927393913, 0.05691907927393913, 0.417219340801239, 0.2086096704006195, 0.10430483520030975, 0.10430483520030975, 0.10430483520030975, 0.5733095407485962, 0.19110319018363953, 0.09555159509181976, 0.19110319018363953, 0.16731280088424683, 0.6357886791229248, 0.09202204644680023, 0.05019384250044823, 0.05855948105454445, 0.3000023663043976, 0.3600028455257416, 0.18750149011611938, 0.0862506851553917, 0.067500539124012, 0.27383750677108765, 0.4416733682155609, 0.08833467960357666, 0.09716814756393433, 0.1060016080737114, 0.3264559507369995, 0.33811506628990173, 0.12825053930282593, 0.09327312558889389, 0.1049322634935379, 0.2803821563720703, 0.3788141906261444, 0.19984684884548187, 0.07456972450017929, 0.06562135368585587, 0.22406764328479767, 0.6722029447555542, 0.49942564964294434, 0.09988512843847275, 0.09988512843847275, 0.1997702568769455, 0.1814815253019333, 0.5939395427703857, 0.07424244284629822, 0.07424244284629822, 0.07424244284629822, 0.22328832745552063, 0.5312722325325012, 0.09239516407251358, 0.1000947654247284, 0.04619758203625679, 0.12558582425117493, 0.7116529941558838, 0.041861940175294876, 0.041861940175294876, 0.041861940175294876, 0.36657649278640747, 0.33942267298698425, 0.15839724242687225, 0.08598707616329193, 0.0452563539147377, 0.21228675544261932, 0.42457351088523865, 0.08491469919681549, 0.12737205624580383, 0.12737205624580383, 0.3014442026615143, 0.42292171716690063, 0.13047584891319275, 0.08548417687416077, 0.05848917365074158, 0.4733096659183502, 0.2541848123073578, 0.166534885764122, 0.06135495752096176, 0.043824970722198486, 0.8637218475341797, 0.061694420874118805, 0.061694420874118805, 0.7014055848121643, 0.11690092831850052, 0.07014055550098419, 0.07014055550098419, 0.07014055550098419, 0.14608003199100494, 0.7304001450538635, 0.04869334399700165, 0.04869334399700165, 0.04869334399700165, 0.31366151571273804, 0.10455384105443954, 0.31366151571273804, 0.2091076821088791, 0.19431734085083008, 0.5973458886146545, 0.09356020390987396, 0.06477244943380356, 0.05757550895214081, 0.46636053919792175, 0.20727135241031647, 0.10363567620515823, 0.05181783810257912, 0.15545350313186646, 0.13482072949409485, 0.6741036772727966, 0.06741036474704742, 0.06741036474704742, 0.06741036474704742, 0.49440833926200867, 0.29260900616645813, 0.13116955757141113, 0.04035986587405205, 0.04035986587405205, 0.22245389223098755, 0.3336808383464813, 0.16684041917324066, 0.11122694611549377, 0.16684041917324066, 0.3225254714488983, 0.287969172000885, 0.23613472282886505, 0.10366889834403992, 0.05183444917201996, 0.32104337215423584, 0.285371869802475, 0.1426859349012375, 0.2497003972530365, 0.03567148372530937, 0.24728050827980042, 0.24728050827980042, 0.3043452203273773, 0.1141294613480568, 0.07608630508184433, 0.3103586435317993, 0.1034528836607933, 0.3103586435317993, 0.2069057673215866, 0.34696272015571594, 0.340290367603302, 0.14679192006587982, 0.08006832003593445, 0.09341304004192352, 0.4754699468612671, 0.20377282798290253, 0.20377282798290253, 0.06792427599430084, 0.13584855198860168, 0.23981992900371552, 0.37520214915275574, 0.21274347603321075, 0.0928335189819336, 0.0812293291091919, 0.283795028924942, 0.283795028924942, 0.09459834545850754, 0.283795028924942, 0.2855168282985687, 0.37874680757522583, 0.18063309788703918, 0.11653748154640198, 0.04078811779618263, 0.5519816875457764, 0.25554707646369934, 0.07155318558216095, 0.08177506923675537, 0.040887534618377686, 0.34231433272361755, 0.34231433272361755, 0.20227664709091187, 0.07779870927333832, 0.03630606457591057, 0.45013561844825745, 0.2572203576564789, 0.12861017882823944, 0.06430508941411972, 0.19291526079177856, 0.4706153869628906, 0.09412308037281036, 0.2823692262172699, 0.09412308037281036, 0.37308353185653687, 0.1598929464817047, 0.3197858929634094, 0.10659529268741608, 0.05329764634370804, 0.40923988819122314, 0.2774507701396942, 0.12485284358263016, 0.12485284358263016, 0.06242642179131508, 0.37085938453674316, 0.18542969226837158, 0.09271484613418579, 0.2781445384025574, 0.09271484613418579, 0.4592888653278351, 0.33626508712768555, 0.0902174562215805, 0.0738142877817154, 0.041007936000823975, 0.24640600383281708, 0.37987592816352844, 0.15400375425815582, 0.1437368392944336, 0.0718684196472168, 0.18110136687755585, 0.7244054675102234, 0.09055068343877792, 0.09055068343877792, 0.6811153292655945, 0.2072959691286087, 0.029613710939884186, 0.029613710939884186, 0.029613710939884186, 0.2459995299577713, 0.399749219417572, 0.17937465012073517, 0.0973748117685318, 0.08199983835220337, 0.42612990736961365, 0.34668195247650146, 0.10111556947231293, 0.07944794744253159, 0.04333524405956268, 0.24144619703292847, 0.4108189046382904, 0.21261680126190186, 0.054055117070674896, 0.08288451284170151, 0.20208953320980072, 0.6668954491615295, 0.040417905896902084, 0.060626860707998276, 0.040417905896902084, 0.28857481479644775, 0.3904247581958771, 0.0848749503493309, 0.14428740739822388, 0.0848749503493309, 0.284936785697937, 0.5128862261772156, 0.08548103272914886, 0.04274051636457443, 0.07123419642448425, 0.26547372341156006, 0.5309474468231201, 0.09125658869743347, 0.04977632313966751, 0.05807237699627876, 0.6855412721633911, 0.09348289668560028, 0.12464386969804764, 0.06232193484902382, 0.03116096742451191, 0.7900511622428894, 0.07900512218475342, 0.07900512218475342, 0.8072168827056885, 0.06209360808134079, 0.06209360808134079, 0.06209360808134079, 0.3374742269515991, 0.40496909618377686, 0.05062113702297211, 0.06749484688043594, 0.1349896937608719, 0.26062068343162537, 0.3474942445755005, 0.08687356114387512, 0.26062068343162537, 0.08687356114387512, 0.33490702509880066, 0.2679256200790405, 0.33490702509880066, 0.06698140501976013, 0.3383757472038269, 0.40239277482032776, 0.13717935979366302, 0.07773496955633163, 0.04572645202279091, 0.4330460727214813, 0.10826151818037033, 0.10826151818037033, 0.3247845470905304, 0.10826151818037033, 0.7547699213027954, 0.0754769891500473, 0.0754769891500473, 0.0754769891500473, 0.7363035082817078, 0.16362300515174866, 0.08181150257587433, 0.08181150257587433, 0.25392869114875793, 0.4499438405036926, 0.14701135456562042, 0.07127822935581207, 0.07573312520980835, 0.6264580488204956, 0.18983577191829681, 0.056950729340314865, 0.07593430578708649, 0.03796715289354324, 0.2768672704696655, 0.22652776539325714, 0.3020370304584503, 0.15101851522922516, 0.050339505076408386, 0.2288110852241516, 0.37539318203926086, 0.2395366132259369, 0.08222898095846176, 0.07507863640785217, 0.6109926104545593, 0.15274815261363983, 0.07637407630681992, 0.15274815261363983, 0.1568892002105713, 0.732149600982666, 0.05229640007019043, 0.05229640007019043, 0.05229640007019043, 0.5963094234466553, 0.19876979291439056, 0.08518705517053604, 0.05679137259721756, 0.04259352758526802, 0.5304455757141113, 0.24482104182243347, 0.09180788695812225, 0.05100438371300697, 0.09180788695812225, 0.29814401268959045, 0.3975253403186798, 0.14645670354366302, 0.07322835177183151, 0.08368954062461853, 0.7199842929840088, 0.13090623915195465, 0.06545311957597733, 0.06545311957597733, 0.03272655978798866, 0.1047709733247757, 0.6286258697509766, 0.1047709733247757, 0.1047709733247757, 0.2095419466495514, 0.7119676470756531, 0.09708649665117264, 0.06472433358430862, 0.06472433358430862, 0.03236216679215431, 0.5401421785354614, 0.2447519153356552, 0.08439721167087555, 0.08439721167087555, 0.042198605835437775, 0.19438083469867706, 0.4109766185283661, 0.24158760905265808, 0.06942173093557358, 0.08330607414245605, 0.33914893865585327, 0.4265054762363434, 0.07194068282842636, 0.06680206209421158, 0.10277240723371506, 0.29702746868133545, 0.38189244270324707, 0.1454828381538391, 0.11517391353845596, 0.06667963415384293, 0.16140320897102356, 0.6456128358840942, 0.08070160448551178, 0.08070160448551178, 0.22790876030921936, 0.4019481837749481, 0.1989021897315979, 0.09530729800462723, 0.07458832114934921, 0.2632145881652832, 0.4160488545894623, 0.1825520545244217, 0.06368094682693481, 0.07641714066267014, 0.39233890175819397, 0.2574723958969116, 0.17777855694293976, 0.09195442497730255, 0.07969383895397186, 0.2540058195590973, 0.5715131163597107, 0.06350145488977432, 0.07408503443002701, 0.04233430325984955, 0.18242356181144714, 0.6567248702049255, 0.07296942919492722, 0.03648471459746361, 0.07296942919492722, 0.7409770488739014, 0.06174808740615845, 0.06174808740615845, 0.06174808740615845, 0.27352243661880493, 0.40308570861816406, 0.11516734957695007, 0.1727510243654251, 0.05758367478847504, 0.18712204694747925, 0.4376752972602844, 0.2251807600259781, 0.07611744105815887, 0.07611744105815887, 0.7929950952529907, 0.15859901905059814, 0.07929950952529907, 0.4153543710708618, 0.31151577830314636, 0.16873770952224731, 0.07138903439044952, 0.03244955837726593, 0.3414265513420105, 0.22761769592761993, 0.11380884796380997, 0.22761769592761993, 0.056904423981904984, 0.2795732021331787, 0.38123619556427, 0.18638212978839874, 0.09319106489419937, 0.0593034066259861, 0.33292675018310547, 0.2378048151731491, 0.11890240758657455, 0.19024385511875153, 0.09512192755937576, 0.4224143326282501, 0.28160956501960754, 0.12068980932235718, 0.04022993519902229, 0.12068980932235718, 0.28773823380470276, 0.315141886472702, 0.13701820373535156, 0.16442184150218964, 0.10961456596851349, 0.17419062554836273, 0.3832193613052368, 0.29612407088279724, 0.10451437532901764, 0.05225718766450882, 0.42336463928222656, 0.21168231964111328, 0.07056077569723129, 0.21168231964111328, 0.07056077569723129, 0.30728408694267273, 0.256070077419281, 0.2048560529947281, 0.10242802649736404, 0.15364204347133636, 0.18210388720035553, 0.5677356123924255, 0.14996790885925293, 0.05355996638536453, 0.05355996638536453, 0.39890092611312866, 0.24931307137012482, 0.13296696543693542, 0.08310435712337494, 0.1163460984826088, 0.2613477408885956, 0.48214152455329895, 0.11264988780021667, 0.06758993119001389, 0.07209593057632446, 0.35475677251815796, 0.11825225502252579, 0.35475677251815796, 0.059126127511262894, 0.059126127511262894, 0.6462913751602173, 0.13973866403102875, 0.10480400174856186, 0.05240200087428093, 0.03493466600775719, 0.17428480088710785, 0.30499839782714844, 0.4357120096683502, 0.04357120022177696, 0.0839465782046318, 0.7555191516876221, 0.0839465782046318, 0.07059676200151443, 0.3882822096347809, 0.4588789641857147, 0.03529838100075722, 0.03529838100075722, 0.27312418818473816, 0.37116876244544983, 0.18558438122272491, 0.09804457426071167, 0.07003184407949448, 0.540719211101532, 0.090119868516922, 0.270359605550766, 0.090119868516922, 0.090119868516922, 0.46337616443634033, 0.18020184338092804, 0.07722936570644379, 0.2059449702501297, 0.07722936570644379, 0.6852731108665466, 0.09344632923603058, 0.09344632923603058, 0.062297556549310684, 0.031148778274655342, 0.3865227699279785, 0.09663069248199463, 0.2898920774459839, 0.09663069248199463, 0.7598958015441895, 0.07598958164453506, 0.07598958164453506, 0.07598958164453506, 0.27774617075920105, 0.11109846830368042, 0.4443938732147217, 0.11109846830368042, 0.05554923415184021, 0.8203216791152954, 0.06310166418552399, 0.06310166418552399, 0.06310166418552399, 0.39190906286239624, 0.09797726571559906, 0.09797726571559906, 0.293931782245636, 0.09797726571559906, 0.19596663117408752, 0.6413453817367554, 0.08907574415206909, 0.03563029691576958, 0.053445447236299515, 0.13584209978580475, 0.7471315264701843, 0.06792104989290237, 0.03396052494645119, 0.03396052494645119, 0.629864513874054, 0.1852542757987976, 0.05557627975940704, 0.05557627975940704, 0.07410170882940292, 0.09097764641046524, 0.7278211712837219, 0.09097764641046524, 0.21383045613765717, 0.32074567675590515, 0.10691522806882858, 0.10691522806882858, 0.32074567675590515, 0.4797787368297577, 0.14393362402915955, 0.14393362402915955, 0.04797787219285965, 0.14393362402915955, 0.5245552062988281, 0.13113880157470703, 0.06556940078735352, 0.06556940078735352, 0.19670820236206055, 0.3090626299381256, 0.40227198600769043, 0.15698419511318207, 0.04905756190419197, 0.08339785039424896, 0.2361556738615036, 0.34579938650131226, 0.28113770484924316, 0.06185029447078705, 0.07590717822313309, 0.34475094079971313, 0.35854098200798035, 0.1470937281847, 0.09653026610612869, 0.050563469529151917, 0.2781221270561218, 0.2781221270561218, 0.2781221270561218, 0.09270737320184708, 0.37528446316719055, 0.40209048986434937, 0.05361206829547882, 0.05361206829547882, 0.13403016328811646, 0.2625923454761505, 0.40895530581474304, 0.18080128729343414, 0.08179105818271637, 0.06887668371200562, 0.23204046487808228, 0.38949650526046753, 0.19889181852340698, 0.1035894900560379, 0.07458443194627762, 0.30787521600723267, 0.36945024132728577, 0.1583358198404312, 0.1011589914560318, 0.061575040221214294, 0.1673777848482132, 0.3347555696964264, 0.3347555696964264, 0.0836888924241066, 0.2430952787399292, 0.6482540965080261, 0.08103176206350327, 0.08103176206350327, 0.2270338386297226, 0.6243430376052856, 0.04256884381175041, 0.05675845965743065, 0.04256884381175041, 0.4740391969680786, 0.2370195984840393, 0.07900653779506683, 0.2370195984840393, 0.07900653779506683, 0.3103511929512024, 0.29095426201820374, 0.20851720869541168, 0.10668322443962097, 0.0775877982378006, 0.3655570447444916, 0.33786332607269287, 0.1495460718870163, 0.07754240930080414, 0.06646491587162018, 0.38986122608184814, 0.38986122608184814, 0.11995729804039001, 0.041985053569078445, 0.05997864902019501, 0.231683611869812, 0.48351362347602844, 0.14606140553951263, 0.08562220633029938, 0.05540260300040245, 0.22708287835121155, 0.5505039095878601, 0.13074468076229095, 0.04816909506917, 0.04128779470920563, 0.3202955722808838, 0.36207327246665955, 0.09051831811666489, 0.1253330558538437, 0.09748126566410065, 0.25613322854042053, 0.5564273595809937, 0.08832180500030518, 0.061825260519981384, 0.03532871976494789, 0.6234146356582642, 0.207804873585701, 0.0755654126405716, 0.0566740557551384, 0.0377827063202858, 0.7862749695777893, 0.07862749695777893, 0.07862749695777893, 0.4012705087661743, 0.3031821548938751, 0.11592259258031845, 0.1337568312883377, 0.05350273475050926, 0.6708804965019226, 0.13812245428562164, 0.11839067935943604, 0.05919533967971802, 0.03946356102824211, 0.4530845880508423, 0.19417911767959595, 0.12945273518562317, 0.22654229402542114, 0.03236318379640579, 0.3265363574028015, 0.39184364676475525, 0.06530727446079254, 0.06530727446079254, 0.13061454892158508, 0.7553108334541321, 0.07553108781576157, 0.11329662799835205, 0.03776554390788078, 0.2890886664390564, 0.433633029460907, 0.1204536184668541, 0.06624948978424072, 0.09034021198749542, 0.4542165994644165, 0.2742439806461334, 0.11141162365674973, 0.08570124953985214, 0.07713112235069275, 0.24062517285346985, 0.39722251892089844, 0.236805722117424, 0.06111115589737892, 0.06493060290813446, 0.2816881239414215, 0.4487912356853485, 0.14323124289512634, 0.08116437494754791, 0.047743748873472214, 0.7996885180473328, 0.0666407123208046, 0.0666407123208046, 0.0666407123208046, 0.1889769732952118, 0.6614194512367249, 0.04724424332380295, 0.04724424332380295, 0.04724424332380295, 0.5164448618888855, 0.27543726563453674, 0.11476552486419678, 0.03442965820431709, 0.05738276243209839, 0.7959622740745544, 0.07959622889757156, 0.07959622889757156, 0.18831594288349152, 0.6355662941932678, 0.09415797144174576, 0.04707898572087288, 0.04707898572087288, 0.7089195251464844, 0.13633067905902863, 0.10906454920768738, 0.027266137301921844, 0.027266137301921844, 0.7212733626365662, 0.12728352844715118, 0.08485569059848785, 0.04242784529924393, 0.04242784529924393, 0.3091203570365906, 0.3091203570365906, 0.3091203570365906, 0.07728008925914764, 0.5514935851097107, 0.19608661532402039, 0.08578789234161377, 0.11029871553182602, 0.049021653831005096, 0.35961923003196716, 0.27243879437446594, 0.25064370036125183, 0.0817316398024559, 0.03814143314957619, 0.3614110052585602, 0.31838589906692505, 0.13768038153648376, 0.14628539979457855, 0.03442009538412094, 0.7602991461753845, 0.08447767794132233, 0.08447767794132233, 0.08447767794132233, 0.32294905185699463, 0.10764969140291214, 0.21529938280582428, 0.21529938280582428, 0.21474134922027588, 0.42181336879730225, 0.1533866822719574, 0.1265440136194229, 0.08436267077922821, 0.33687958121299744, 0.33687958121299744, 0.11229319125413895, 0.2245863825082779, 0.5533260107040405, 0.16482050716876984, 0.14127472043037415, 0.09418314695358276, 0.04709157347679138, 0.32506442070007324, 0.3079557418823242, 0.21813532710075378, 0.09409759193658829, 0.05560312420129776, 0.3248072564601898, 0.24360544979572296, 0.3248072564601898, 0.08120181411504745, 0.20928139984607697, 0.444722980260849, 0.23217155039310455, 0.05886039510369301, 0.055590372532606125, 0.44258883595466614, 0.2950592339038849, 0.07376480847597122, 0.07376480847597122, 0.14752961695194244, 0.31546542048454285, 0.10515514016151428, 0.31546542048454285, 0.21031028032302856, 0.4774971604347229, 0.0954994261264801, 0.2864982783794403, 0.04774971306324005, 0.04774971306324005, 0.6607359647750854, 0.19577361643314362, 0.073415108025074, 0.048943404108285904, 0.024471702054142952, 0.22503839433193207, 0.45007678866386414, 0.07501279562711716, 0.07501279562711716, 0.22503839433193207, 0.8132992386817932, 0.08132992684841156, 0.08132992684841156, 0.08132992684841156, 0.15659746527671814, 0.7046886086463928, 0.07829873263835907, 0.07829873263835907, 0.07829873263835907, 0.29800930619239807, 0.19867286086082458, 0.19867286086082458, 0.29800930619239807, 0.09933643043041229, 0.3727918565273285, 0.18639592826366425, 0.09319796413183212, 0.09319796413183212, 0.18639592826366425, 0.6989620327949524, 0.08387544006109238, 0.13979239761829376, 0.055916961282491684, 0.027958480641245842, 0.3450280725955963, 0.25877106189727783, 0.08625701814889908, 0.17251403629779816, 0.33354103565216064, 0.28906890749931335, 0.2668328285217285, 0.07782623916864395, 0.044472139328718185, 0.22594325244426727, 0.6213439702987671, 0.05648581311106682, 0.05648581311106682, 0.05648581311106682, 0.30672165751457214, 0.3727847933769226, 0.1745954006910324, 0.06606312841176987, 0.08021951466798782, 0.2477937638759613, 0.5320277810096741, 0.10203272849321365, 0.06559246778488159, 0.05101636424660683, 0.4704497456550598, 0.15681657195091248, 0.31363314390182495, 0.07840828597545624, 0.07840828597545624, 0.3106869161128998, 0.24164538085460663, 0.37972843647003174, 0.06904153525829315, 0.034520767629146576, 0.14141219854354858, 0.636354923248291, 0.14141219854354858, 0.07070609927177429, 0.14480218291282654, 0.7240109443664551, 0.07240109145641327, 0.07240109145641327, 0.07240109145641327, 0.07232142984867096, 0.7232142686843872, 0.07232142984867096, 0.07232142984867096, 0.17941756546497345, 0.6279614567756653, 0.04485439136624336, 0.08970878273248672, 0.04485439136624336, 0.2618507146835327, 0.4364178478717804, 0.16971805691719055, 0.07273630797863007, 0.05818904563784599, 0.8104334473609924, 0.07367576658725739, 0.07367576658725739, 0.07367576658725739, 0.1203557476401329, 0.7221344709396362, 0.06017787382006645, 0.06017787382006645, 0.06017787382006645, 0.4198543131351471, 0.2998959422111511, 0.19193339347839355, 0.05398126691579819, 0.03598751127719879, 0.3513418436050415, 0.17567092180252075, 0.3513418436050415, 0.08783546090126038, 0.17567092180252075, 0.12528711557388306, 0.7517226934432983, 0.06264355778694153, 0.06264355778694153, 0.5336406230926514, 0.23019790649414062, 0.10463541001081467, 0.08370833098888397, 0.041854165494441986, 0.06077666953206062, 0.7900967001914978, 0.06077666953206062, 0.06077666953206062, 0.06077666953206062, 0.30561313033103943, 0.32520371675491333, 0.20766019821166992, 0.10187104344367981, 0.054853636771440506, 0.3089900314807892, 0.3458843529224396, 0.23520135879516602, 0.05995328724384308, 0.05072970688343048, 0.28208088874816895, 0.3761078417301178, 0.09402696043252945, 0.28208088874816895, 0.25552132725715637, 0.17034755647182465, 0.08517377823591232, 0.3406951129436493, 0.08517377823591232, 0.7306884527206421, 0.13917875289916992, 0.06958937644958496, 0.06958937644958496, 0.03479468822479248, 0.29346007108688354, 0.32964006066322327, 0.2412000596523285, 0.06432001292705536, 0.07236001640558243, 0.23640751838684082, 0.43982791900634766, 0.1264505237340927, 0.09896128624677658, 0.09896128624677658, 0.19493822753429413, 0.5398289561271667, 0.05998099595308304, 0.05998099595308304, 0.1499524861574173, 0.7114936709403992, 0.06468123942613602, 0.12936247885227203, 0.06468123942613602, 0.742890477180481, 0.10612720996141434, 0.05306360498070717, 0.05306360498070717, 0.3079068064689636, 0.20527119934558868, 0.10263559967279434, 0.3079068064689636, 0.10263559967279434, 0.6422005295753479, 0.10703341662883759, 0.14984679222106934, 0.042813368141651154, 0.042813368141651154, 0.2713731825351715, 0.35835176706314087, 0.2470191866159439, 0.06958287209272385, 0.052187152206897736, 0.25894394516944885, 0.3606719374656677, 0.20962129533290863, 0.07706665247678757, 0.09247998148202896, 0.3310902416706085, 0.3310902416706085, 0.16554512083530426, 0.08277256041765213, 0.16554512083530426, 0.29102304577827454, 0.31579095125198364, 0.22910325229167938, 0.06191979721188545, 0.11145563423633575, 0.23443657159805298, 0.39072760939598083, 0.07814551889896393, 0.07814551889896393, 0.15629103779792786, 0.37331464886665344, 0.14932584762573242, 0.37331464886665344, 0.07466292381286621, 0.07466292381286621, 0.1758296936750412, 0.6593613624572754, 0.0439574234187603, 0.0439574234187603, 0.0439574234187603, 0.5936437845230103, 0.18657375872135162, 0.10176750272512436, 0.08480625599622726, 0.05088375136256218, 0.3469494581222534, 0.26021209359169006, 0.08673736453056335, 0.26021209359169006, 0.08673736453056335, 0.24730920791625977, 0.35841915011405945, 0.2078831046819687, 0.11110993474721909, 0.07526801526546478, 0.3803855776786804, 0.21736319363117218, 0.10868159681558609, 0.16302239894866943, 0.16302239894866943, 0.5083160996437073, 0.23261922597885132, 0.15507948398590088, 0.051693160086870193, 0.06030868738889694, 0.4066442549228668, 0.2439865618944168, 0.3253154158592224, 0.6928444504737854, 0.11547408252954483, 0.11547408252954483, 0.057737041264772415, 0.028868520632386208, 0.4606460630893707, 0.1535486876964569, 0.3070973753929138, 0.07677434384822845, 0.07677434384822845, 0.22613507509231567, 0.678405225276947, 0.03230500966310501, 0.03230500966310501, 0.03230500966310501, 0.7693460583686829, 0.05495328828692436, 0.05495328828692436, 0.05495328828692436, 0.05495328828692436, 0.22199493646621704, 0.41624048352241516, 0.24974429607391357, 0.05946292728185654, 0.051534537225961685, 0.19631223380565643, 0.7198114991188049, 0.06543741375207901, 0.06543741375207901, 0.06543741375207901, 0.22786325216293335, 0.4047123193740845, 0.19385381042957306, 0.08842454105615616, 0.0816226527094841, 0.12562239170074463, 0.5810036063194275, 0.1517937332391739, 0.08898252993822098, 0.05234266445040703, 0.2325037568807602, 0.2325037568807602, 0.2325037568807602, 0.2325037568807602, 0.2660199701786041, 0.41059601306915283, 0.15614214539527893, 0.109877809882164, 0.05204738304018974, 0.42459067702293396, 0.21229533851146698, 0.10614766925573349, 0.21229533851146698, 0.10614766925573349, 0.8061564564704895, 0.08061564713716507, 0.08061564713716507, 0.08061564713716507, 0.21733123064041138, 0.21733123064041138, 0.10866561532020569, 0.43466246128082275, 0.28599241375923157, 0.3713632822036743, 0.1750102937221527, 0.10244504362344742, 0.06402815133333206, 0.18144457042217255, 0.6111816763877869, 0.07639770954847336, 0.05729828402400017, 0.06684799492359161, 0.6754472255706787, 0.10006625950336456, 0.07504969090223312, 0.10006625950336456, 0.02501656487584114, 0.6703988313674927, 0.13407976925373077, 0.11492551118135452, 0.05746275559067726, 0.03830850496888161, 0.2692321240901947, 0.3174528181552887, 0.2491401880979538, 0.088404580950737, 0.0763494148850441, 0.3264199495315552, 0.29015105962753296, 0.20310574769973755, 0.1305679827928543, 0.05077643692493439, 0.2587447762489319, 0.364285409450531, 0.24172209203243256, 0.07489980012178421, 0.061281658709049225, 0.38475486636161804, 0.19237743318080902, 0.28856614232063293, 0.09618871659040451, 0.09618871659040451, 0.24396704137325287, 0.42497482895851135, 0.13772332668304443, 0.11804856359958649, 0.07476409524679184, 0.2716515064239502, 0.4414336681365967, 0.10186931490898132, 0.05093465745449066, 0.1358257532119751, 0.8273380398750305, 0.08273380249738693, 0.08273380249738693, 0.08273380249738693, 0.08273380249738693, 0.1712450385093689, 0.6336066722869873, 0.0941847711801529, 0.05137351155281067, 0.05137351155281067, 0.08270598948001862, 0.6616479158401489, 0.08270598948001862, 0.08270598948001862, 0.08270598948001862, 0.4762420356273651, 0.2701074182987213, 0.12794561684131622, 0.07108090072870255, 0.056864719837903976, 0.243313267827034, 0.4518675208091736, 0.0695180743932724, 0.2085542380809784, 0.0347590371966362, 0.25729790329933167, 0.33770349621772766, 0.22915594279766083, 0.100506991147995, 0.07236503809690475, 0.23896601796150208, 0.4540354311466217, 0.11948300898075104, 0.07168980687856674, 0.11948300898075104, 0.2700141370296478, 0.4980260729789734, 0.12000627815723419, 0.07200376689434052, 0.04800251126289368, 0.50467848777771, 0.270363450050354, 0.1261696219444275, 0.04506057873368263, 0.04506057873368263, 0.23585940897464752, 0.3972369134426117, 0.20275633037090302, 0.09517133980989456, 0.06620614975690842, 0.29492685198783875, 0.29492685198783875, 0.344081312417984, 0.04915447160601616, 0.04915447160601616], \"Term\": [\"accid\", \"accid\", \"accid\", \"accord\", \"accord\", \"accord\", \"accord\", \"accord\", \"actual\", \"actual\", \"actual\", \"actual\", \"actual\", \"afraid\", \"afraid\", \"afraid\", \"afraid\", \"afraid\", \"ago\", \"ago\", \"ago\", \"ago\", \"ago\", \"aint\", \"aint\", \"aint\", \"aint\", \"aint\", \"airtim\", \"airtim\", \"airtim\", \"airtim\", \"airtim\", \"alt\", \"alt\", \"alt\", \"alt\", \"alt\", \"alway\", \"alway\", \"alway\", \"alway\", \"alway\", \"american\", \"american\", \"american\", \"american\", \"american\", \"anoth\", \"anoth\", \"anoth\", \"anoth\", \"anoth\", \"arabia\", \"arabia\", \"arabia\", \"arabia\", \"arabia\", \"asian\", \"asian\", \"asian\", \"asian\", \"asian\", \"ask\", \"ask\", \"ask\", \"ask\", \"ask\", \"assault\", \"assault\", \"assault\", \"assault\", \"assault\", \"assist\", \"assist\", \"assist\", \"assist\", \"assist\", \"autom\", \"autom\", \"autom\", \"autom\", \"autom\", \"awesom\", \"awesom\", \"awesom\", \"awesom\", \"awesom\", \"awhil\", \"awhil\", \"awhil\", \"awhil\", \"bad\", \"bad\", \"bad\", \"bad\", \"bad\", \"bag\", \"bag\", \"bag\", \"bag\", \"bag\", \"basebal\", \"basebal\", \"basebal\", \"basebal\", \"believ\", \"believ\", \"believ\", \"believ\", \"believ\", \"benefit\", \"benefit\", \"benefit\", \"benefit\", \"benefit\", \"better\", \"better\", \"better\", \"better\", \"better\", \"black\", \"black\", \"black\", \"black\", \"black\", \"blood\", \"blood\", \"blood\", \"blood\", \"blood\", \"born\", \"born\", \"born\", \"born\", \"born\", \"boycott\", \"boycott\", \"boycott\", \"boycott\", \"breakfast\", \"breakfast\", \"breakfast\", \"breakfast\", \"breakfast\", \"brigad\", \"brigad\", \"brigad\", \"brigad\", \"brush\", \"brush\", \"brush\", \"brush\", \"brush\", \"bullock\", \"bullock\", \"bullock\", \"bullock\", \"bureaucraci\", \"bureaucraci\", \"bureaucraci\", \"bureaucraci\", \"bureaucraci\", \"buri\", \"buri\", \"buri\", \"cage\", \"cage\", \"cage\", \"cage\", \"candid\", \"candid\", \"candid\", \"candid\", \"candid\", \"capit\", \"capit\", \"capit\", \"capit\", \"capit\", \"carbon\", \"carbon\", \"carbon\", \"carbon\", \"carbon\", \"care\", \"care\", \"care\", \"care\", \"care\", \"case\", \"case\", \"case\", \"case\", \"case\", \"charisma\", \"charisma\", \"charisma\", \"charisma\", \"cheaper\", \"cheaper\", \"cheaper\", \"cheaper\", \"cheaper\", \"chief\", \"chief\", \"chief\", \"chief\", \"chief\", \"closet\", \"closet\", \"closet\", \"closet\", \"cohen\", \"cohen\", \"cohen\", \"come\", \"come\", \"come\", \"come\", \"come\", \"command\", \"command\", \"command\", \"command\", \"command\", \"compani\", \"compani\", \"compani\", \"compani\", \"compani\", \"conservat\", \"conservat\", \"conservat\", \"conservat\", \"conservat\", \"constitut\", \"constitut\", \"constitut\", \"constitut\", \"constitut\", \"convent\", \"convent\", \"convent\", \"convent\", \"corrupt\", \"corrupt\", \"corrupt\", \"corrupt\", \"corrupt\", \"countri\", \"countri\", \"countri\", \"countri\", \"countri\", \"crap\", \"crap\", \"crap\", \"crap\", \"crap\", \"creat\", \"creat\", \"creat\", \"creat\", \"creat\", \"damag\", \"damag\", \"damag\", \"damag\", \"damag\", \"debat\", \"debat\", \"debat\", \"debat\", \"debat\", \"dem\", \"dem\", \"dem\", \"dem\", \"dem\", \"democrat\", \"democrat\", \"democrat\", \"democrat\", \"democrat\", \"demonstr\", \"demonstr\", \"demonstr\", \"demonstr\", \"demonstr\", \"depth\", \"depth\", \"depth\", \"depth\", \"didnt\", \"didnt\", \"didnt\", \"didnt\", \"didnt\", \"differ\", \"differ\", \"differ\", \"differ\", \"differ\", \"disabl\", \"disabl\", \"disabl\", \"disabl\", \"disabl\", \"discours\", \"discours\", \"discours\", \"discours\", \"discours\", \"discrimin\", \"discrimin\", \"discrimin\", \"discrimin\", \"discrimin\", \"disenfranchis\", \"disenfranchis\", \"disenfranchis\", \"disenfranchis\", \"disenfranchis\", \"display\", \"display\", \"display\", \"display\", \"disrupt\", \"disrupt\", \"disrupt\", \"disrupt\", \"disrupt\", \"distant\", \"distant\", \"distant\", \"distant\", \"dividend\", \"dividend\", \"dividend\", \"dividend\", \"dividend\", \"doesnt\", \"doesnt\", \"doesnt\", \"doesnt\", \"doesnt\", \"dollar\", \"dollar\", \"dollar\", \"dollar\", \"dollar\", \"donat\", \"donat\", \"donat\", \"donat\", \"donat\", \"dont\", \"dont\", \"dont\", \"dont\", \"dont\", \"downsid\", \"downsid\", \"dumbest\", \"dumbest\", \"dumbest\", \"dumbest\", \"econom\", \"econom\", \"econom\", \"econom\", \"econom\", \"economi\", \"economi\", \"economi\", \"economi\", \"economi\", \"economist\", \"economist\", \"economist\", \"economist\", \"economist\", \"elect\", \"elect\", \"elect\", \"elect\", \"elect\", \"entrepreneur\", \"entrepreneur\", \"entrepreneur\", \"entrepreneur\", \"entrepreneur\", \"everi\", \"everi\", \"everi\", \"everi\", \"everi\", \"evid\", \"evid\", \"evid\", \"evid\", \"evid\", \"fascism\", \"fascism\", \"fascism\", \"father\", \"father\", \"father\", \"father\", \"father\", \"fd\", \"fd\", \"fd\", \"fd\", \"fd\", \"fourth\", \"fourth\", \"fourth\", \"fourth\", \"freedom\", \"freedom\", \"freedom\", \"freedom\", \"freedom\", \"fresh\", \"fresh\", \"fresh\", \"fresh\", \"fresh\", \"friedman\", \"friedman\", \"friedman\", \"friedman\", \"friedman\", \"friend\", \"friend\", \"friend\", \"friend\", \"friend\", \"fring\", \"fring\", \"fring\", \"fring\", \"fring\", \"fuck\", \"fuck\", \"fuck\", \"fuck\", \"fuck\", \"gabbard\", \"gabbard\", \"gabbard\", \"gabbard\", \"gabbard\", \"gang\", \"gang\", \"gang\", \"gang\", \"gang\", \"garner\", \"garner\", \"garner\", \"garner\", \"gener\", \"gener\", \"gener\", \"gener\", \"gener\", \"german\", \"german\", \"german\", \"german\", \"german\", \"good\", \"good\", \"good\", \"good\", \"good\", \"graph\", \"graph\", \"graph\", \"graph\", \"great\", \"great\", \"great\", \"great\", \"great\", \"gun\", \"gun\", \"gun\", \"gun\", \"gun\", \"guy\", \"guy\", \"guy\", \"guy\", \"guy\", \"handout\", \"handout\", \"handout\", \"handout\", \"handout\", \"harass\", \"harass\", \"harass\", \"harass\", \"harsh\", \"harsh\", \"harsh\", \"harsh\", \"harsh\", \"hate\", \"hate\", \"hate\", \"hate\", \"hate\", \"hickenloop\", \"hickenloop\", \"hickenloop\", \"hickenloop\", \"hickenloop\", \"high\", \"high\", \"high\", \"high\", \"high\", \"higher\", \"higher\", \"higher\", \"higher\", \"higher\", \"humancent\", \"humancent\", \"humancent\", \"humancent\", \"hypocrit\", \"hypocrit\", \"hypocrit\", \"hypocrit\", \"hypocrit\", \"idea\", \"idea\", \"idea\", \"idea\", \"idea\", \"ignor\", \"ignor\", \"ignor\", \"ignor\", \"ignor\", \"im\", \"im\", \"im\", \"im\", \"im\", \"incent\", \"incent\", \"incent\", \"incent\", \"incent\", \"includ\", \"includ\", \"includ\", \"includ\", \"includ\", \"incom\", \"incom\", \"incom\", \"incom\", \"incom\", \"increas\", \"increas\", \"increas\", \"increas\", \"increas\", \"indict\", \"indict\", \"indict\", \"indict\", \"indict\", \"infest\", \"infest\", \"infest\", \"invad\", \"invad\", \"invad\", \"invad\", \"invest\", \"invest\", \"invest\", \"invest\", \"invest\", \"iowa\", \"iowa\", \"iowa\", \"iowa\", \"iowa\", \"ironi\", \"ironi\", \"ironi\", \"ironi\", \"isnt\", \"isnt\", \"isnt\", \"isnt\", \"isnt\", \"itthat\", \"itthat\", \"itthat\", \"itthat\", \"itthat\", \"jackson\", \"jackson\", \"jackson\", \"jackson\", \"januari\", \"januari\", \"januari\", \"januari\", \"job\", \"job\", \"job\", \"job\", \"job\", \"judg\", \"judg\", \"judg\", \"judg\", \"judg\", \"kamala\", \"kamala\", \"kamala\", \"kamala\", \"kamala\", \"know\", \"know\", \"know\", \"know\", \"know\", \"la\", \"la\", \"la\", \"la\", \"landlord\", \"landlord\", \"landlord\", \"landlord\", \"landlord\", \"leader\", \"leader\", \"leader\", \"leader\", \"leader\", \"legal\", \"legal\", \"legal\", \"legal\", \"legal\", \"let\", \"let\", \"let\", \"let\", \"let\", \"letter\", \"letter\", \"letter\", \"letter\", \"letter\", \"leverag\", \"leverag\", \"leverag\", \"leverag\", \"leverag\", \"liar\", \"liar\", \"liar\", \"liar\", \"liar\", \"lie\", \"lie\", \"lie\", \"lie\", \"lie\", \"like\", \"like\", \"like\", \"like\", \"like\", \"live\", \"live\", \"live\", \"live\", \"live\", \"long\", \"long\", \"long\", \"long\", \"long\", \"longform\", \"longform\", \"longform\", \"longform\", \"look\", \"look\", \"look\", \"look\", \"look\", \"lot\", \"lot\", \"lot\", \"lot\", \"lot\", \"love\", \"love\", \"love\", \"love\", \"love\", \"lower\", \"lower\", \"lower\", \"lower\", \"lower\", \"luxuri\", \"luxuri\", \"luxuri\", \"luxuri\", \"luxuri\", \"maga\", \"maga\", \"maga\", \"maga\", \"main\", \"main\", \"main\", \"main\", \"main\", \"make\", \"make\", \"make\", \"make\", \"make\", \"malici\", \"malici\", \"malici\", \"man\", \"man\", \"man\", \"man\", \"man\", \"mandat\", \"mandat\", \"mandat\", \"mandat\", \"mandat\", \"mani\", \"mani\", \"mani\", \"mani\", \"mani\", \"manufactur\", \"manufactur\", \"manufactur\", \"manufactur\", \"manufactur\", \"math\", \"math\", \"math\", \"math\", \"math\", \"messag\", \"messag\", \"messag\", \"messag\", \"messag\", \"mic\", \"mic\", \"mic\", \"mic\", \"mic\", \"michigan\", \"michigan\", \"michigan\", \"michigan\", \"michigan\", \"midwest\", \"midwest\", \"midwest\", \"midwest\", \"midwest\", \"minimum\", \"minimum\", \"minimum\", \"minimum\", \"minimum\", \"moment\", \"moment\", \"moment\", \"moment\", \"moment\", \"money\", \"money\", \"money\", \"money\", \"money\", \"morn\", \"morn\", \"morn\", \"morn\", \"morn\", \"murder\", \"murder\", \"murder\", \"murder\", \"murder\", \"mute\", \"mute\", \"mute\", \"mute\", \"navig\", \"navig\", \"navig\", \"nbc\", \"nbc\", \"nbc\", \"nbc\", \"nbc\", \"need\", \"need\", \"need\", \"need\", \"need\", \"nervou\", \"nervou\", \"nervou\", \"nervou\", \"nervou\", \"nomine\", \"nomine\", \"nomine\", \"nomine\", \"nomine\", \"north\", \"north\", \"north\", \"north\", \"north\", \"nose\", \"nose\", \"nose\", \"nose\", \"oath\", \"oath\", \"oath\", \"oath\", \"ohio\", \"ohio\", \"ohio\", \"ohio\", \"ohio\", \"omar\", \"omar\", \"omar\", \"omar\", \"opportunist\", \"opportunist\", \"opportunist\", \"opportunist\", \"opportunist\", \"opt\", \"opt\", \"opt\", \"opt\", \"opt\", \"optin\", \"optin\", \"optin\", \"optin\", \"optin\", \"origin\", \"origin\", \"origin\", \"origin\", \"origin\", \"overhead\", \"overhead\", \"overhead\", \"oversea\", \"oversea\", \"oversea\", \"oversea\", \"oversea\", \"owe\", \"owe\", \"owe\", \"owe\", \"owe\", \"ownership\", \"ownership\", \"ownership\", \"ownership\", \"ownership\", \"pay\", \"pay\", \"pay\", \"pay\", \"pay\", \"peopl\", \"peopl\", \"peopl\", \"peopl\", \"peopl\", \"person\", \"person\", \"person\", \"person\", \"person\", \"pic\", \"pic\", \"pic\", \"pic\", \"pocket\", \"pocket\", \"pocket\", \"pocket\", \"pocket\", \"point\", \"point\", \"point\", \"point\", \"point\", \"polici\", \"polici\", \"polici\", \"polici\", \"polici\", \"polit\", \"polit\", \"polit\", \"polit\", \"polit\", \"poni\", \"poni\", \"poni\", \"poni\", \"poorer\", \"poorer\", \"poorer\", \"poorer\", \"poverti\", \"poverti\", \"poverti\", \"poverti\", \"poverti\", \"pray\", \"pray\", \"pray\", \"pray\", \"pray\", \"presid\", \"presid\", \"presid\", \"presid\", \"presid\", \"pretti\", \"pretti\", \"pretti\", \"pretti\", \"pretti\", \"probabl\", \"probabl\", \"probabl\", \"probabl\", \"probabl\", \"problem\", \"problem\", \"problem\", \"problem\", \"problem\", \"program\", \"program\", \"program\", \"program\", \"program\", \"progress\", \"progress\", \"progress\", \"progress\", \"progress\", \"provid\", \"provid\", \"provid\", \"provid\", \"provid\", \"punish\", \"punish\", \"punish\", \"punish\", \"punish\", \"puppet\", \"puppet\", \"puppet\", \"push\", \"push\", \"push\", \"push\", \"push\", \"racism\", \"racism\", \"racism\", \"racism\", \"racism\", \"random\", \"random\", \"random\", \"random\", \"random\", \"rapidli\", \"rapidli\", \"rapidli\", \"rapidli\", \"rapidli\", \"rapist\", \"rapist\", \"rapist\", \"rapist\", \"read\", \"read\", \"read\", \"read\", \"read\", \"realiz\", \"realiz\", \"realiz\", \"realiz\", \"realiz\", \"realli\", \"realli\", \"realli\", \"realli\", \"realli\", \"reason\", \"reason\", \"reason\", \"reason\", \"reason\", \"recal\", \"recal\", \"recal\", \"recal\", \"reduct\", \"reduct\", \"reduct\", \"reduct\", \"reduct\", \"refer\", \"refer\", \"refer\", \"refer\", \"refer\", \"refuge\", \"refuge\", \"refuge\", \"regress\", \"regress\", \"regress\", \"regress\", \"regress\", \"religion\", \"religion\", \"religion\", \"religion\", \"religion\", \"rep\", \"rep\", \"rep\", \"rep\", \"rep\", \"repetit\", \"repetit\", \"repetit\", \"repetit\", \"repres\", \"repres\", \"repres\", \"repres\", \"repres\", \"republican\", \"republican\", \"republican\", \"republican\", \"republican\", \"respons\", \"respons\", \"respons\", \"respons\", \"respons\", \"reveng\", \"reveng\", \"reveng\", \"reveng\", \"revolt\", \"revolt\", \"revolt\", \"revolt\", \"right\", \"right\", \"right\", \"right\", \"right\", \"ring\", \"ring\", \"ring\", \"ring\", \"russian\", \"russian\", \"russian\", \"russian\", \"russian\", \"said\", \"said\", \"said\", \"said\", \"said\", \"sat\", \"sat\", \"sat\", \"sat\", \"say\", \"say\", \"say\", \"say\", \"say\", \"scientist\", \"scientist\", \"scientist\", \"scientist\", \"scientist\", \"scum\", \"scum\", \"scum\", \"scum\", \"season\", \"season\", \"season\", \"season\", \"season\", \"secret\", \"secret\", \"secret\", \"secret\", \"secret\", \"sharehold\", \"sharehold\", \"sharehold\", \"sharehold\", \"sharehold\", \"shoulder\", \"shoulder\", \"shoulder\", \"shoulder\", \"shrink\", \"shrink\", \"shrink\", \"shrink\", \"shrink\", \"skew\", \"skew\", \"skew\", \"skew\", \"skew\", \"skip\", \"skip\", \"skip\", \"skip\", \"skip\", \"slave\", \"slave\", \"slave\", \"slave\", \"slave\", \"slogan\", \"slogan\", \"slogan\", \"slogan\", \"smart\", \"smart\", \"smart\", \"smart\", \"smart\", \"softwar\", \"softwar\", \"softwar\", \"softwar\", \"softwar\", \"someon\", \"someon\", \"someon\", \"someon\", \"someon\", \"spend\", \"spend\", \"spend\", \"spend\", \"spend\", \"spit\", \"spit\", \"spit\", \"spit\", \"spit\", \"spoke\", \"spoke\", \"spoke\", \"spoke\", \"spoke\", \"sponsor\", \"sponsor\", \"sponsor\", \"sponsor\", \"ssdi\", \"ssdi\", \"ssdi\", \"ssdi\", \"ssdi\", \"ssi\", \"ssi\", \"ssi\", \"ssi\", \"stapl\", \"stapl\", \"stapl\", \"stapl\", \"stapl\", \"state\", \"state\", \"state\", \"state\", \"state\", \"steel\", \"steel\", \"steel\", \"steel\", \"stigma\", \"stigma\", \"stigma\", \"stigma\", \"stigma\", \"stop\", \"stop\", \"stop\", \"stop\", \"stop\", \"stranger\", \"stranger\", \"stranger\", \"stranger\", \"stranger\", \"string\", \"string\", \"string\", \"string\", \"stupid\", \"stupid\", \"stupid\", \"stupid\", \"stupid\", \"supplement\", \"supplement\", \"supplement\", \"supplement\", \"supplement\", \"support\", \"support\", \"support\", \"support\", \"support\", \"sure\", \"sure\", \"sure\", \"sure\", \"sure\", \"surg\", \"surg\", \"surg\", \"surg\", \"swalwel\", \"swalwel\", \"swalwel\", \"swalwel\", \"swalwel\", \"tactic\", \"tactic\", \"tactic\", \"tactic\", \"tactic\", \"talk\", \"talk\", \"talk\", \"talk\", \"talk\", \"tax\", \"tax\", \"tax\", \"tax\", \"tax\", \"tech\", \"tech\", \"tech\", \"tech\", \"tech\", \"teenag\", \"teenag\", \"teenag\", \"teenag\", \"televis\", \"televis\", \"televis\", \"televis\", \"tendenc\", \"tendenc\", \"tendenc\", \"tendenc\", \"tendenc\", \"terrorist\", \"terrorist\", \"terrorist\", \"terrorist\", \"terrorist\", \"thing\", \"thing\", \"thing\", \"thing\", \"thing\", \"think\", \"think\", \"think\", \"think\", \"think\", \"tho\", \"tho\", \"tho\", \"tho\", \"tho\", \"thought\", \"thought\", \"thought\", \"thought\", \"thought\", \"threshold\", \"threshold\", \"threshold\", \"threshold\", \"threshold\", \"thrive\", \"thrive\", \"thrive\", \"thrive\", \"thrive\", \"throat\", \"throat\", \"throat\", \"throat\", \"throat\", \"throw\", \"throw\", \"throw\", \"throw\", \"throw\", \"tim\", \"tim\", \"tim\", \"tim\", \"tim\", \"time\", \"time\", \"time\", \"time\", \"time\", \"tone\", \"tone\", \"tone\", \"tone\", \"tone\", \"total\", \"total\", \"total\", \"total\", \"total\", \"tout\", \"tout\", \"tout\", \"traitor\", \"traitor\", \"traitor\", \"traitor\", \"traitor\", \"tran\", \"tran\", \"tran\", \"tran\", \"tran\", \"transact\", \"transact\", \"transact\", \"transact\", \"transact\", \"tree\", \"tree\", \"tree\", \"tree\", \"tree\", \"tri\", \"tri\", \"tri\", \"tri\", \"tri\", \"trojan\", \"trojan\", \"trojan\", \"trojan\", \"trojan\", \"trump\", \"trump\", \"trump\", \"trump\", \"trump\", \"ubi\", \"ubi\", \"ubi\", \"ubi\", \"ubi\", \"uncl\", \"uncl\", \"uncl\", \"uncl\", \"understand\", \"understand\", \"understand\", \"understand\", \"understand\", \"unreason\", \"unreason\", \"unreason\", \"unreason\", \"unreason\", \"unwil\", \"unwil\", \"unwil\", \"unwil\", \"upgrad\", \"upgrad\", \"upgrad\", \"upgrad\", \"use\", \"use\", \"use\", \"use\", \"use\", \"vat\", \"vat\", \"vat\", \"vat\", \"vat\", \"victim\", \"victim\", \"victim\", \"victim\", \"victim\", \"violenc\", \"violenc\", \"violenc\", \"violenc\", \"violenc\", \"vote\", \"vote\", \"vote\", \"vote\", \"vote\", \"voter\", \"voter\", \"voter\", \"voter\", \"voter\", \"want\", \"want\", \"want\", \"want\", \"want\", \"wapo\", \"wapo\", \"wapo\", \"wapo\", \"wapo\", \"way\", \"way\", \"way\", \"way\", \"way\", \"wealth\", \"wealth\", \"wealth\", \"wealth\", \"wealth\", \"weekend\", \"weekend\", \"weekend\", \"weekend\", \"weekend\", \"welfar\", \"welfar\", \"welfar\", \"welfar\", \"welfar\", \"wellb\", \"wellb\", \"wellb\", \"wellb\", \"wellb\", \"white\", \"white\", \"white\", \"white\", \"white\", \"williamson\", \"williamson\", \"williamson\", \"williamson\", \"williamson\", \"work\", \"work\", \"work\", \"work\", \"work\", \"worker\", \"worker\", \"worker\", \"worker\", \"worker\", \"wrong\", \"wrong\", \"wrong\", \"wrong\", \"wrong\", \"yeah\", \"yeah\", \"yeah\", \"yeah\", \"yeah\", \"year\", \"year\", \"year\", \"year\", \"year\", \"zone\", \"zone\", \"zone\", \"zone\", \"zone\"]}, \"R\": 30, \"lambda.step\": 0.01, \"plot.opts\": {\"xlab\": \"PC1\", \"ylab\": \"PC2\"}, \"topic.order\": [3, 4, 2, 1, 5]};\n",
       "\n",
       "function LDAvis_load_lib(url, callback){\n",
       "  var s = document.createElement('script');\n",
       "  s.src = url;\n",
       "  s.async = true;\n",
       "  s.onreadystatechange = s.onload = callback;\n",
       "  s.onerror = function(){console.warn(\"failed to load library \" + url);};\n",
       "  document.getElementsByTagName(\"head\")[0].appendChild(s);\n",
       "}\n",
       "\n",
       "if(typeof(LDAvis) !== \"undefined\"){\n",
       "   // already loaded: just create the visualization\n",
       "   !function(LDAvis){\n",
       "       new LDAvis(\"#\" + \"ldavis_el82371147074637684899592692\", ldavis_el82371147074637684899592692_data);\n",
       "   }(LDAvis);\n",
       "}else if(typeof define === \"function\" && define.amd){\n",
       "   // require.js is available: use it to load d3/LDAvis\n",
       "   require.config({paths: {d3: \"https://cdnjs.cloudflare.com/ajax/libs/d3/3.5.5/d3.min\"}});\n",
       "   require([\"d3\"], function(d3){\n",
       "      window.d3 = d3;\n",
       "      LDAvis_load_lib(\"https://cdn.rawgit.com/bmabey/pyLDAvis/files/ldavis.v1.0.0.js\", function(){\n",
       "        new LDAvis(\"#\" + \"ldavis_el82371147074637684899592692\", ldavis_el82371147074637684899592692_data);\n",
       "      });\n",
       "    });\n",
       "}else{\n",
       "    // require.js not available: dynamically load d3 & LDAvis\n",
       "    LDAvis_load_lib(\"https://cdnjs.cloudflare.com/ajax/libs/d3/3.5.5/d3.min.js\", function(){\n",
       "         LDAvis_load_lib(\"https://cdn.rawgit.com/bmabey/pyLDAvis/files/ldavis.v1.0.0.js\", function(){\n",
       "                 new LDAvis(\"#\" + \"ldavis_el82371147074637684899592692\", ldavis_el82371147074637684899592692_data);\n",
       "            })\n",
       "         });\n",
       "}\n",
       "</script>"
      ],
      "text/plain": [
       "PreparedData(topic_coordinates=              x         y  topics  cluster       Freq\n",
       "topic                                                \n",
       "2      0.024726 -0.001529       1        1  38.792469\n",
       "3     -0.013439 -0.009464       2        1  34.048489\n",
       "1     -0.008705  0.022305       3        1  13.338691\n",
       "0      0.005691  0.000801       4        1   8.269872\n",
       "4     -0.008273 -0.012113       5        1   5.550478, topic_info=    Category        Freq     Term       Total  loglift  logprob\n",
       "53   Default  360.000000     like  360.000000  30.0000  30.0000\n",
       "68   Default  355.000000    peopl  355.000000  29.0000  29.0000\n",
       "385  Default  324.000000    think  324.000000  28.0000  28.0000\n",
       "300  Default  315.000000     make  315.000000  27.0000  27.0000\n",
       "390  Default  294.000000    trump  294.000000  26.0000  26.0000\n",
       "83   Default  260.000000    right  260.000000  25.0000  25.0000\n",
       "198  Default  260.000000   candid  260.000000  24.0000  24.0000\n",
       "98   Default  279.000000     time  279.000000  23.0000  23.0000\n",
       "290  Default  279.000000     know  279.000000  22.0000  22.0000\n",
       "234  Default  335.000000     dont  335.000000  21.0000  21.0000\n",
       "140  Default  258.000000     good  258.000000  20.0000  20.0000\n",
       "277  Default  277.000000       im  277.000000  19.0000  19.0000\n",
       "105  Default  293.000000     want  293.000000  18.0000  18.0000\n",
       "173  Default  248.000000     vote  248.000000  17.0000  17.0000\n",
       "355  Default  305.000000      say  305.000000  16.0000  16.0000\n",
       "62   Default  285.000000     need  285.000000  15.0000  15.0000\n",
       "109  Default  248.000000     work  248.000000  14.0000  14.0000\n",
       "394  Default  254.000000      way  254.000000  13.0000  13.0000\n",
       "72   Default  241.000000   polici  241.000000  12.0000  12.0000\n",
       "97   Default  287.000000    thing  287.000000  11.0000  11.0000\n",
       "56   Default  241.000000     look  241.000000  10.0000  10.0000\n",
       "380  Default  248.000000     talk  248.000000   9.0000   9.0000\n",
       "345  Default  261.000000   realli  261.000000   8.0000   8.0000\n",
       "115  Default  258.000000   actual  258.000000   7.0000   7.0000\n",
       "21   Default  266.000000   doesnt  266.000000   6.0000   6.0000\n",
       "113  Default  241.000000     year  241.000000   5.0000   5.0000\n",
       "123  Default  206.000000  countri  206.000000   4.0000   4.0000\n",
       "379  Default  255.000000  support  255.000000   3.0000   3.0000\n",
       "77   Default  206.000000   presid  206.000000   2.0000   2.0000\n",
       "172  Default  252.000000      tri  252.000000   1.0000   1.0000\n",
       "..       ...         ...      ...         ...      ...      ...\n",
       "832   Topic5    9.377363    donat   85.769615   0.6779  -6.7264\n",
       "277   Topic5   22.579451       im  277.494537   0.3825  -5.8477\n",
       "140   Topic5   21.155586     good  258.527313   0.3882  -5.9128\n",
       "68    Topic5   26.752687    peopl  355.697571   0.3038  -5.6781\n",
       "300   Topic5   24.113573     make  315.302246   0.3205  -5.7820\n",
       "123   Topic5   17.629950  countri  206.133316   0.4324  -6.0951\n",
       "810   Topic5   16.188042   differ  184.820221   0.4562  -6.1805\n",
       "367   Topic5   17.477892   someon  211.918518   0.3960  -6.1038\n",
       "290   Topic5   20.836288     know  279.706726   0.2942  -5.9280\n",
       "98    Topic5   20.746698     time  279.002960   0.2925  -5.9323\n",
       "264   Topic5   13.665580    gener  149.872009   0.4964  -6.3498\n",
       "344   Topic5   14.567805     read  166.039017   0.4579  -6.2859\n",
       "394   Topic5   19.163097      way  254.132690   0.3064  -6.0117\n",
       "464   Topic5   16.612593      pay  203.842178   0.3841  -6.1546\n",
       "521   Topic5   18.206966      lot  235.549255   0.3312  -6.0629\n",
       "173   Topic5   18.780025     vote  248.855881   0.3072  -6.0319\n",
       "275   Topic5   16.121752     idea  195.122330   0.3978  -6.1846\n",
       "52    Topic5   15.848136      let  191.182785   0.4011  -6.2017\n",
       "115   Topic5   18.852110   actual  258.352631   0.2736  -6.0281\n",
       "234   Topic5   21.620811     dont  335.256714   0.1500  -5.8911\n",
       "44    Topic5   17.293682      job  224.472458   0.3279  -6.1144\n",
       "62    Topic5   19.667885     need  285.584381   0.2157  -5.9857\n",
       "72    Topic5   17.863773   polici  241.337219   0.2879  -6.0820\n",
       "380   Topic5   18.126970     talk  248.756165   0.2722  -6.0673\n",
       "56    Topic5   17.817526     look  241.324646   0.2853  -6.0845\n",
       "21    Topic5   18.387257   doesnt  266.664551   0.2170  -6.0531\n",
       "198   Topic5   17.939371   candid  260.442688   0.2159  -6.0777\n",
       "109   Topic5   17.603302     work  248.738907   0.2430  -6.0966\n",
       "105   Topic5   18.225256     want  293.725739   0.1114  -6.0619\n",
       "345   Topic5   17.396843   realli  261.817993   0.1799  -6.1084\n",
       "\n",
       "[456 rows x 6 columns], token_table=      Topic      Freq    Term\n",
       "term                         \n",
       "542       1  0.743696   accid\n",
       "542       2  0.148739   accid\n",
       "542       4  0.074370   accid\n",
       "543       1  0.626676  accord\n",
       "543       2  0.191484  accord\n",
       "543       3  0.087038  accord\n",
       "543       4  0.069631  accord\n",
       "543       5  0.017408  accord\n",
       "115       1  0.290301  actual\n",
       "115       2  0.352232  actual\n",
       "115       3  0.201275  actual\n",
       "115       4  0.085155  actual\n",
       "115       5  0.073543  actual\n",
       "1670      1  0.367109  afraid\n",
       "1670      2  0.282392  afraid\n",
       "1670      3  0.112957  afraid\n",
       "1670      4  0.197674  afraid\n",
       "1670      5  0.028239  afraid\n",
       "567       1  0.376224     ago\n",
       "567       2  0.250816     ago\n",
       "567       3  0.273617     ago\n",
       "567       4  0.068404     ago\n",
       "567       5  0.034202     ago\n",
       "570       1  0.551415    aint\n",
       "570       2  0.091903    aint\n",
       "570       3  0.183805    aint\n",
       "570       4  0.045951    aint\n",
       "570       5  0.137854    aint\n",
       "2966      1  0.255354  airtim\n",
       "2966      2  0.170236  airtim\n",
       "...     ...       ...     ...\n",
       "109       1  0.257298    work\n",
       "109       2  0.337703    work\n",
       "109       3  0.229156    work\n",
       "109       4  0.100507    work\n",
       "109       5  0.072365    work\n",
       "1609      1  0.238966  worker\n",
       "1609      2  0.454035  worker\n",
       "1609      3  0.119483  worker\n",
       "1609      4  0.071690  worker\n",
       "1609      5  0.119483  worker\n",
       "1614      1  0.270014   wrong\n",
       "1614      2  0.498026   wrong\n",
       "1614      3  0.120006   wrong\n",
       "1614      4  0.072004   wrong\n",
       "1614      5  0.048003   wrong\n",
       "1618      1  0.504678    yeah\n",
       "1618      2  0.270363    yeah\n",
       "1618      3  0.126170    yeah\n",
       "1618      4  0.045061    yeah\n",
       "1618      5  0.045061    yeah\n",
       "113       1  0.235859    year\n",
       "113       2  0.397237    year\n",
       "113       3  0.202756    year\n",
       "113       4  0.095171    year\n",
       "113       5  0.066206    year\n",
       "2965      1  0.294927    zone\n",
       "2965      2  0.294927    zone\n",
       "2965      3  0.344081    zone\n",
       "2965      4  0.049154    zone\n",
       "2965      5  0.049154    zone\n",
       "\n",
       "[1558 rows x 3 columns], R=30, lambda_step=0.01, plot_opts={'xlab': 'PC1', 'ylab': 'PC2'}, topic_order=[3, 4, 2, 1, 5])"
      ]
     },
     "execution_count": 97,
     "metadata": {},
     "output_type": "execute_result"
    }
   ],
   "source": [
    "pyLDAvis.gensim.prepare(ldamodel, corpus, dictionary)"
   ]
  },
  {
   "cell_type": "code",
   "execution_count": null,
   "metadata": {},
   "outputs": [],
   "source": []
  }
 ],
 "metadata": {
  "kernelspec": {
   "display_name": "Python 3",
   "language": "python",
   "name": "python3"
  },
  "language_info": {
   "codemirror_mode": {
    "name": "ipython",
    "version": 3
   },
   "file_extension": ".py",
   "mimetype": "text/x-python",
   "name": "python",
   "nbconvert_exporter": "python",
   "pygments_lexer": "ipython3",
   "version": "3.7.3"
  }
 },
 "nbformat": 4,
 "nbformat_minor": 2
}
