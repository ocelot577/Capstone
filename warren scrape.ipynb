{
 "cells": [
  {
   "cell_type": "code",
   "execution_count": 1,
   "metadata": {},
   "outputs": [],
   "source": [
    "import praw\n",
    "import json\n",
    "import time\n",
    "import pandas as pd\n",
    "import sys\n",
    "import numpy as np"
   ]
  },
  {
   "cell_type": "code",
   "execution_count": 2,
   "metadata": {},
   "outputs": [],
   "source": [
    "json_file = open('Reddit_creds.json')\n",
    "json_str = json_file.read()\n",
    "json_data = json.loads(json_str)"
   ]
  },
  {
   "cell_type": "code",
   "execution_count": 3,
   "metadata": {},
   "outputs": [],
   "source": [
    "reddit = praw.Reddit(user_agent=json_data['user_agent'],\n",
    "                     client_id=json_data['client_id'], client_secret=json_data['client_secret'])"
   ]
  },
  {
   "cell_type": "code",
   "execution_count": 4,
   "metadata": {},
   "outputs": [],
   "source": [
    "warren_sub = reddit.subreddit('ElizabethWarren')"
   ]
  },
  {
   "cell_type": "code",
   "execution_count": 9,
   "metadata": {},
   "outputs": [],
   "source": [
    "users = []"
   ]
  },
  {
   "cell_type": "code",
   "execution_count": 10,
   "metadata": {},
   "outputs": [
    {
     "name": "stdout",
     "output_type": "stream",
     "text": [
      "969\n",
      "351\n",
      "7.106777191162109\n"
     ]
    }
   ],
   "source": [
    "start = time.time()\n",
    "\n",
    "for comment in warren_sub.comments(limit=4000):\n",
    "    users.append(comment.author)\n",
    "        \n",
    "print(len(users))\n",
    "users = list(set(users))\n",
    "print(len(users))\n",
    "end = time.time()\n",
    "print(end-start)"
   ]
  },
  {
   "cell_type": "code",
   "execution_count": null,
   "metadata": {},
   "outputs": [],
   "source": [
    "# nums = np.random.randint(1,1733,100)"
   ]
  },
  {
   "cell_type": "code",
   "execution_count": null,
   "metadata": {},
   "outputs": [],
   "source": [
    "# short_list = []\n",
    "# for x in nums:\n",
    "#     short_list.append(users[x])"
   ]
  },
  {
   "cell_type": "code",
   "execution_count": null,
   "metadata": {},
   "outputs": [],
   "source": [
    "# short_list"
   ]
  },
  {
   "cell_type": "code",
   "execution_count": null,
   "metadata": {},
   "outputs": [],
   "source": [
    "# #code obtained from https://stackabuse.com/reading-and-writing-lists-to-a-file-in-python/\n",
    "# # load additional module\n",
    "# import pickle\n",
    "\n",
    "# # define a list of places\n",
    "# with open('users.data', 'wb') as filehandle:\n",
    "#     # store the data as binary data stream\n",
    "#     pickle.dump(set(users), filehandle)"
   ]
  },
  {
   "cell_type": "code",
   "execution_count": null,
   "metadata": {},
   "outputs": [],
   "source": [
    "#code obtained from https://stackabuse.com/reading-and-writing-lists-to-a-file-in-python/\n",
    "# with open('users.data', 'rb') as filehandle:\n",
    "#     # read the data as binary data stream\n",
    "#     test_set = pickle.load(filehandle)"
   ]
  },
  {
   "cell_type": "code",
   "execution_count": null,
   "metadata": {},
   "outputs": [],
   "source": [
    "# small_list2 = list(set(users))[100:200]"
   ]
  },
  {
   "cell_type": "code",
   "execution_count": null,
   "metadata": {},
   "outputs": [],
   "source": [
    "# len(small_list)"
   ]
  },
  {
   "cell_type": "code",
   "execution_count": null,
   "metadata": {},
   "outputs": [],
   "source": [
    "#First full scrape from the evening of 8/6/19 - morning of 8/7/19\n",
    "#Second full scrape starts @ 8/13/19 @ 10:41 AM - 1:21 PM"
   ]
  },
  {
   "cell_type": "code",
   "execution_count": 11,
   "metadata": {},
   "outputs": [
    {
     "name": "stdout",
     "output_type": "stream",
     "text": [
      "0\n",
      "3.8027763366699217e-06\n",
      "10\n",
      "1.0790615161259969\n",
      "20\n",
      "1.7416697184244792\n",
      "30\n",
      "2.4191322485605875\n",
      "40\n",
      "3.4313131014506024\n",
      "50\n",
      "4.350640797615052\n",
      "60\n",
      "4.972623336315155\n",
      "70\n",
      "5.947494316101074\n",
      "80\n",
      "6.843827331066132\n",
      "90\n",
      "7.634854765733083\n",
      "100\n",
      "8.58035876750946\n",
      "110\n",
      "9.317159799734752\n",
      "120\n",
      "10.26297591527303\n",
      "130\n",
      "11.237690579891204\n",
      "140\n",
      "12.260479950904847\n",
      "150\n",
      "13.10604373216629\n",
      "160\n",
      "14.108301770687103\n",
      "170\n",
      "14.917768998940785\n",
      "180\n",
      "15.587509298324585\n",
      "190\n",
      "16.426375397046407\n",
      "200\n",
      "17.077436383565267\n",
      "210\n",
      "18.196046050389608\n",
      "220\n",
      "19.27283236583074\n",
      "230\n",
      "20.306572818756102\n",
      "240\n",
      "21.276453634103138\n",
      "250\n",
      "22.306834665934243\n",
      "260\n",
      "23.368558303515115\n",
      "270\n",
      "24.044902602831524\n",
      "280\n",
      "25.053555130958557\n",
      "290\n",
      "25.749461682637534\n",
      "300\n",
      "26.975243349870045\n",
      "310\n",
      "27.686971882979076\n",
      "320\n",
      "28.873128549257913\n",
      "330\n",
      "29.681987218062083\n",
      "340\n",
      "30.306356167793275\n",
      "350\n",
      "31.244344166914622\n",
      "1876.5603189468384\n"
     ]
    }
   ],
   "source": [
    "start = time.time()\n",
    "text = []\n",
    "author = []\n",
    "subreddit = []\n",
    "postid = []\n",
    "counter = 0\n",
    "for user in users:\n",
    "    if counter % 10 == 0:\n",
    "        prog = time.time()\n",
    "        print(counter)\n",
    "        print((prog-start)/60)\n",
    "    try:  #handle cases where redditor is deleted or something\n",
    "        for comment in user.comments.new(limit=1000):\n",
    "            text.append(comment.body)\n",
    "            author.append(comment.author)\n",
    "            postid.append(comment.id)\n",
    "            subreddit.append(comment.subreddit.display_name)\n",
    "    except:\n",
    "        pass\n",
    "    counter += 1\n",
    "end = time.time()\n",
    "print(end-start)"
   ]
  },
  {
   "cell_type": "code",
   "execution_count": 12,
   "metadata": {},
   "outputs": [],
   "source": [
    "df = pd.DataFrame([text,author,subreddit,postid],\\\n",
    "                        index=['Comment Text','Author','Subreddit','Post ID']).T"
   ]
  },
  {
   "cell_type": "code",
   "execution_count": 13,
   "metadata": {},
   "outputs": [
    {
     "data": {
      "text/plain": [
       "(248985, 4)"
      ]
     },
     "execution_count": 13,
     "metadata": {},
     "output_type": "execute_result"
    }
   ],
   "source": [
    "df.shape"
   ]
  },
  {
   "cell_type": "code",
   "execution_count": 14,
   "metadata": {},
   "outputs": [],
   "source": [
    "df.to_csv('warren_scrape.csv',index=False)"
   ]
  },
  {
   "cell_type": "code",
   "execution_count": null,
   "metadata": {},
   "outputs": [],
   "source": []
  }
 ],
 "metadata": {
  "kernelspec": {
   "display_name": "Python 3",
   "language": "python",
   "name": "python3"
  },
  "language_info": {
   "codemirror_mode": {
    "name": "ipython",
    "version": 3
   },
   "file_extension": ".py",
   "mimetype": "text/x-python",
   "name": "python",
   "nbconvert_exporter": "python",
   "pygments_lexer": "ipython3",
   "version": "3.7.3"
  }
 },
 "nbformat": 4,
 "nbformat_minor": 2
}
